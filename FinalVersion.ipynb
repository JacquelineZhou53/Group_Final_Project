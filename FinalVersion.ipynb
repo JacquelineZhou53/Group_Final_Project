{
 "cells": [
  {
   "cell_type": "markdown",
   "id": "1afb6771",
   "metadata": {},
   "source": [
    "# Market Research -- User Rating Behaviors\n",
    "Group member: Gretch Zhang, Baihe Yuan, Jacqueline Zhou, Disheng Wen, Siyuan Chen\n",
    "\n",
    "### Description:\n",
    "This research predicts users' rating behaviors based on their browsing history. The process involves Principle Components Analysis, K-means and linear regression.\n"
   ]
  },
  {
   "cell_type": "markdown",
   "id": "8c2943b6",
   "metadata": {},
   "source": [
    "## 1) Import Data"
   ]
  },
  {
   "cell_type": "markdown",
   "id": "b22033a0",
   "metadata": {},
   "source": [
    "Import Packages and load data"
   ]
  },
  {
   "cell_type": "code",
   "execution_count": 47,
   "id": "80297a75",
   "metadata": {},
   "outputs": [],
   "source": [
    "# useful packages\n",
    "import numpy as np\n",
    "import csv\n",
    "import math\n",
    "import pandas as pd\n",
    "from sklearn import preprocessing\n",
    "from sklearn import datasets\n",
    "from sklearn import cluster\n",
    "import matplotlib.pyplot as plt\n",
    "import itertools\n",
    "from sklearn.decomposition import PCA\n",
    "import plotly.graph_objects as pgo"
   ]
  },
  {
   "cell_type": "code",
   "execution_count": 48,
   "id": "b4416c87",
   "metadata": {},
   "outputs": [],
   "source": [
    "# load data as a dataframe with pandas\n",
    "user_history = pd.read_csv(\"user_history.csv\")\n",
    "user_history_without_user_ID = user_history.drop(['USER ID'],axis=1)\n",
    "user_ratings = pd.read_csv(\"user_ratings.csv\")"
   ]
  },
  {
   "cell_type": "code",
   "execution_count": 49,
   "id": "cef50278",
   "metadata": {},
   "outputs": [
    {
     "data": {
      "text/html": [
       "<div>\n",
       "<style scoped>\n",
       "    .dataframe tbody tr th:only-of-type {\n",
       "        vertical-align: middle;\n",
       "    }\n",
       "\n",
       "    .dataframe tbody tr th {\n",
       "        vertical-align: top;\n",
       "    }\n",
       "\n",
       "    .dataframe thead th {\n",
       "        text-align: right;\n",
       "    }\n",
       "</style>\n",
       "<table border=\"1\" class=\"dataframe\">\n",
       "  <thead>\n",
       "    <tr style=\"text-align: right;\">\n",
       "      <th></th>\n",
       "      <th>USER ID</th>\n",
       "      <th>PRODUCT</th>\n",
       "      <th>RATING</th>\n",
       "      <th>USER INDEX</th>\n",
       "      <th>PRODUCT ID</th>\n",
       "    </tr>\n",
       "  </thead>\n",
       "  <tbody>\n",
       "    <tr>\n",
       "      <th>0</th>\n",
       "      <td>100950</td>\n",
       "      <td>secret postage</td>\n",
       "      <td>4</td>\n",
       "      <td>0</td>\n",
       "      <td>54</td>\n",
       "    </tr>\n",
       "    <tr>\n",
       "      <th>1</th>\n",
       "      <td>100950</td>\n",
       "      <td>violet saga</td>\n",
       "      <td>4</td>\n",
       "      <td>0</td>\n",
       "      <td>70</td>\n",
       "    </tr>\n",
       "    <tr>\n",
       "      <th>2</th>\n",
       "      <td>100950</td>\n",
       "      <td>pepper chicago</td>\n",
       "      <td>3</td>\n",
       "      <td>0</td>\n",
       "      <td>41</td>\n",
       "    </tr>\n",
       "    <tr>\n",
       "      <th>3</th>\n",
       "      <td>100950</td>\n",
       "      <td>nina sailor</td>\n",
       "      <td>2</td>\n",
       "      <td>0</td>\n",
       "      <td>35</td>\n",
       "    </tr>\n",
       "    <tr>\n",
       "      <th>4</th>\n",
       "      <td>100950</td>\n",
       "      <td>front salami</td>\n",
       "      <td>3</td>\n",
       "      <td>0</td>\n",
       "      <td>18</td>\n",
       "    </tr>\n",
       "  </tbody>\n",
       "</table>\n",
       "</div>"
      ],
      "text/plain": [
       "   USER ID         PRODUCT  RATING  USER INDEX  PRODUCT ID\n",
       "0   100950  secret postage       4           0          54\n",
       "1   100950     violet saga       4           0          70\n",
       "2   100950  pepper chicago       3           0          41\n",
       "3   100950     nina sailor       2           0          35\n",
       "4   100950    front salami       3           0          18"
      ]
     },
     "execution_count": 49,
     "metadata": {},
     "output_type": "execute_result"
    }
   ],
   "source": [
    "# encode users as indices\n",
    "le_user = preprocessing.LabelEncoder()\n",
    "le_user.fit(user_history['USER ID'])\n",
    "\n",
    "user_with_rating_index = le_user.transform(user_ratings['USER ID'])\n",
    "all_user_index = le_user.transform(user_history['USER ID'])\n",
    "user_ratings['USER INDEX'] = user_with_rating_index\n",
    "user_ratings.head()\n",
    "\n",
    "# encode products as indices\n",
    "le_product = preprocessing.LabelEncoder()\n",
    "le_product.fit(user_ratings['PRODUCT'])\n",
    "\n",
    "product_ID = le_product.transform(user_ratings['PRODUCT'])\n",
    "user_ratings['PRODUCT ID'] = product_ID\n",
    "user_ratings.head()"
   ]
  },
  {
   "cell_type": "markdown",
   "id": "da4e67e2",
   "metadata": {},
   "source": [
    "We can take the data in user_history and turn it into a matrix using the following command:"
   ]
  },
  {
   "cell_type": "code",
   "execution_count": 50,
   "id": "199851c8",
   "metadata": {},
   "outputs": [],
   "source": [
    "history_M = user_history.to_numpy()\n",
    "# leave out user ID column\n",
    "his_label = history_M[:,0]\n",
    "# .reshape((history_M[:,0].shape[0],1))\n",
    "his_M = history_M[:,1:]"
   ]
  },
  {
   "cell_type": "markdown",
   "id": "a3958c80",
   "metadata": {},
   "source": [
    "For an introduction and short tutorial on pandas, you are invited to read over https://pandas.pydata.org/pandas-docs/stable/user_guide/10min.html."
   ]
  },
  {
   "cell_type": "markdown",
   "id": "663b618f",
   "metadata": {},
   "source": [
    "## 2) Principal Component Analysis on User History data"
   ]
  },
  {
   "cell_type": "markdown",
   "id": "0f50a9d6",
   "metadata": {},
   "source": [
    "The goal for this section is to divide the data into clusters and find the principal features to be used in the next section, linear regression, to predict the users' ratings based on their history data."
   ]
  },
  {
   "cell_type": "markdown",
   "id": "b6a4e3ba",
   "metadata": {},
   "source": [
    "Now standardize the user history data and compute the SVD:"
   ]
  },
  {
   "cell_type": "code",
   "execution_count": 51,
   "id": "1cd46efd",
   "metadata": {},
   "outputs": [
    {
     "data": {
      "application/vnd.plotly.v1+json": {
       "config": {
        "plotlyServerURL": "https://plot.ly"
       },
       "data": [
        {
         "type": "bar",
         "x": [
          0,
          1,
          2,
          3,
          4,
          5,
          6,
          7,
          8,
          9,
          10,
          11,
          12,
          13,
          14,
          15,
          16,
          17,
          18,
          19,
          20,
          21,
          22,
          23,
          24,
          25,
          26,
          27,
          28,
          29,
          30,
          31,
          32,
          33,
          34,
          35,
          36,
          37,
          38,
          39,
          40,
          41,
          42,
          43,
          44,
          45,
          46,
          47,
          48,
          49,
          50,
          51,
          52,
          53,
          54,
          55,
          56,
          57,
          58,
          59,
          60,
          61,
          62,
          63,
          64,
          65,
          66,
          67,
          68,
          69,
          70,
          71,
          72,
          73,
          74,
          75,
          76,
          77,
          78,
          79,
          80,
          81,
          82,
          83,
          84,
          85,
          86,
          87,
          88,
          89,
          90,
          91,
          92,
          93,
          94,
          95,
          96,
          97,
          98,
          99
         ],
         "y": [
          379.9822086248155,
          363.7552552938518,
          315.0297379007096,
          101.22537666683122,
          99.52987192509265,
          97.7472558268866,
          93.34992609358024,
          86.19269054216255,
          75.33102798555792,
          32.79851985416125,
          28.435191788056176,
          27.913296865038163,
          23.402057433677786,
          22.461920586758502,
          21.9033648329157,
          19.965463289277974,
          18.80171876959671,
          17.724320723335605,
          17.149420410554015,
          16.818981290792454,
          16.64918326335405,
          16.491611824127887,
          16.410130011013955,
          16.341482618384482,
          16.190230057469268,
          16.133570432000084,
          16.09086568390525,
          16.084840952538404,
          15.99368652117439,
          15.828537264883733,
          15.791919089133398,
          15.755572934811672,
          15.674182461361864,
          15.577923508538515,
          15.555027369744261,
          15.53307220240487,
          15.47398211849798,
          15.44616714455332,
          15.38875355749328,
          15.385990315662973,
          15.312941349758109,
          15.268665560121734,
          15.225803322089039,
          15.209153233756078,
          15.132854754567633,
          15.08288088240754,
          15.050826902196743,
          14.995749589912343,
          14.911609225014928,
          14.894930470647422,
          14.876363096294629,
          14.822622179890844,
          14.770351115111247,
          14.70497791780544,
          14.678112655953052,
          14.614440334512475,
          14.58271002049633,
          14.546987424808025,
          14.514899347394834,
          14.484277008435686,
          14.453395329992995,
          14.381885180543756,
          14.346682990824256,
          14.29554233324818,
          14.241514442028038,
          14.22659676930319,
          14.164370991495014,
          14.145667173763755,
          14.081419146223892,
          14.051807970563193,
          14.024269264999447,
          13.99110742799105,
          13.949885028884433,
          13.905121617812668,
          13.858640221675694,
          13.79270323581266,
          13.767609911729878,
          13.68939366241538,
          13.66197204860368,
          13.639160448166182,
          13.583681619860803,
          13.50722961663999,
          13.47957444739832,
          13.43390320678055,
          13.405003050880799,
          13.352549326771209,
          13.300895502392013,
          13.258005412024861,
          13.189372779432368,
          13.173782487847896,
          13.066544627941113,
          13.03673911878709,
          12.97910252757813,
          12.860736615178535,
          12.844373712775873,
          12.78289181425076,
          12.740355704656906,
          12.570234976164771,
          12.351261599310083,
          2.473009268834624e-13
         ]
        }
       ],
       "layout": {
        "template": {
         "data": {
          "bar": [
           {
            "error_x": {
             "color": "#2a3f5f"
            },
            "error_y": {
             "color": "#2a3f5f"
            },
            "marker": {
             "line": {
              "color": "#E5ECF6",
              "width": 0.5
             },
             "pattern": {
              "fillmode": "overlay",
              "size": 10,
              "solidity": 0.2
             }
            },
            "type": "bar"
           }
          ],
          "barpolar": [
           {
            "marker": {
             "line": {
              "color": "#E5ECF6",
              "width": 0.5
             },
             "pattern": {
              "fillmode": "overlay",
              "size": 10,
              "solidity": 0.2
             }
            },
            "type": "barpolar"
           }
          ],
          "carpet": [
           {
            "aaxis": {
             "endlinecolor": "#2a3f5f",
             "gridcolor": "white",
             "linecolor": "white",
             "minorgridcolor": "white",
             "startlinecolor": "#2a3f5f"
            },
            "baxis": {
             "endlinecolor": "#2a3f5f",
             "gridcolor": "white",
             "linecolor": "white",
             "minorgridcolor": "white",
             "startlinecolor": "#2a3f5f"
            },
            "type": "carpet"
           }
          ],
          "choropleth": [
           {
            "colorbar": {
             "outlinewidth": 0,
             "ticks": ""
            },
            "type": "choropleth"
           }
          ],
          "contour": [
           {
            "colorbar": {
             "outlinewidth": 0,
             "ticks": ""
            },
            "colorscale": [
             [
              0,
              "#0d0887"
             ],
             [
              0.1111111111111111,
              "#46039f"
             ],
             [
              0.2222222222222222,
              "#7201a8"
             ],
             [
              0.3333333333333333,
              "#9c179e"
             ],
             [
              0.4444444444444444,
              "#bd3786"
             ],
             [
              0.5555555555555556,
              "#d8576b"
             ],
             [
              0.6666666666666666,
              "#ed7953"
             ],
             [
              0.7777777777777778,
              "#fb9f3a"
             ],
             [
              0.8888888888888888,
              "#fdca26"
             ],
             [
              1,
              "#f0f921"
             ]
            ],
            "type": "contour"
           }
          ],
          "contourcarpet": [
           {
            "colorbar": {
             "outlinewidth": 0,
             "ticks": ""
            },
            "type": "contourcarpet"
           }
          ],
          "heatmap": [
           {
            "colorbar": {
             "outlinewidth": 0,
             "ticks": ""
            },
            "colorscale": [
             [
              0,
              "#0d0887"
             ],
             [
              0.1111111111111111,
              "#46039f"
             ],
             [
              0.2222222222222222,
              "#7201a8"
             ],
             [
              0.3333333333333333,
              "#9c179e"
             ],
             [
              0.4444444444444444,
              "#bd3786"
             ],
             [
              0.5555555555555556,
              "#d8576b"
             ],
             [
              0.6666666666666666,
              "#ed7953"
             ],
             [
              0.7777777777777778,
              "#fb9f3a"
             ],
             [
              0.8888888888888888,
              "#fdca26"
             ],
             [
              1,
              "#f0f921"
             ]
            ],
            "type": "heatmap"
           }
          ],
          "heatmapgl": [
           {
            "colorbar": {
             "outlinewidth": 0,
             "ticks": ""
            },
            "colorscale": [
             [
              0,
              "#0d0887"
             ],
             [
              0.1111111111111111,
              "#46039f"
             ],
             [
              0.2222222222222222,
              "#7201a8"
             ],
             [
              0.3333333333333333,
              "#9c179e"
             ],
             [
              0.4444444444444444,
              "#bd3786"
             ],
             [
              0.5555555555555556,
              "#d8576b"
             ],
             [
              0.6666666666666666,
              "#ed7953"
             ],
             [
              0.7777777777777778,
              "#fb9f3a"
             ],
             [
              0.8888888888888888,
              "#fdca26"
             ],
             [
              1,
              "#f0f921"
             ]
            ],
            "type": "heatmapgl"
           }
          ],
          "histogram": [
           {
            "marker": {
             "pattern": {
              "fillmode": "overlay",
              "size": 10,
              "solidity": 0.2
             }
            },
            "type": "histogram"
           }
          ],
          "histogram2d": [
           {
            "colorbar": {
             "outlinewidth": 0,
             "ticks": ""
            },
            "colorscale": [
             [
              0,
              "#0d0887"
             ],
             [
              0.1111111111111111,
              "#46039f"
             ],
             [
              0.2222222222222222,
              "#7201a8"
             ],
             [
              0.3333333333333333,
              "#9c179e"
             ],
             [
              0.4444444444444444,
              "#bd3786"
             ],
             [
              0.5555555555555556,
              "#d8576b"
             ],
             [
              0.6666666666666666,
              "#ed7953"
             ],
             [
              0.7777777777777778,
              "#fb9f3a"
             ],
             [
              0.8888888888888888,
              "#fdca26"
             ],
             [
              1,
              "#f0f921"
             ]
            ],
            "type": "histogram2d"
           }
          ],
          "histogram2dcontour": [
           {
            "colorbar": {
             "outlinewidth": 0,
             "ticks": ""
            },
            "colorscale": [
             [
              0,
              "#0d0887"
             ],
             [
              0.1111111111111111,
              "#46039f"
             ],
             [
              0.2222222222222222,
              "#7201a8"
             ],
             [
              0.3333333333333333,
              "#9c179e"
             ],
             [
              0.4444444444444444,
              "#bd3786"
             ],
             [
              0.5555555555555556,
              "#d8576b"
             ],
             [
              0.6666666666666666,
              "#ed7953"
             ],
             [
              0.7777777777777778,
              "#fb9f3a"
             ],
             [
              0.8888888888888888,
              "#fdca26"
             ],
             [
              1,
              "#f0f921"
             ]
            ],
            "type": "histogram2dcontour"
           }
          ],
          "mesh3d": [
           {
            "colorbar": {
             "outlinewidth": 0,
             "ticks": ""
            },
            "type": "mesh3d"
           }
          ],
          "parcoords": [
           {
            "line": {
             "colorbar": {
              "outlinewidth": 0,
              "ticks": ""
             }
            },
            "type": "parcoords"
           }
          ],
          "pie": [
           {
            "automargin": true,
            "type": "pie"
           }
          ],
          "scatter": [
           {
            "marker": {
             "colorbar": {
              "outlinewidth": 0,
              "ticks": ""
             }
            },
            "type": "scatter"
           }
          ],
          "scatter3d": [
           {
            "line": {
             "colorbar": {
              "outlinewidth": 0,
              "ticks": ""
             }
            },
            "marker": {
             "colorbar": {
              "outlinewidth": 0,
              "ticks": ""
             }
            },
            "type": "scatter3d"
           }
          ],
          "scattercarpet": [
           {
            "marker": {
             "colorbar": {
              "outlinewidth": 0,
              "ticks": ""
             }
            },
            "type": "scattercarpet"
           }
          ],
          "scattergeo": [
           {
            "marker": {
             "colorbar": {
              "outlinewidth": 0,
              "ticks": ""
             }
            },
            "type": "scattergeo"
           }
          ],
          "scattergl": [
           {
            "marker": {
             "colorbar": {
              "outlinewidth": 0,
              "ticks": ""
             }
            },
            "type": "scattergl"
           }
          ],
          "scattermapbox": [
           {
            "marker": {
             "colorbar": {
              "outlinewidth": 0,
              "ticks": ""
             }
            },
            "type": "scattermapbox"
           }
          ],
          "scatterpolar": [
           {
            "marker": {
             "colorbar": {
              "outlinewidth": 0,
              "ticks": ""
             }
            },
            "type": "scatterpolar"
           }
          ],
          "scatterpolargl": [
           {
            "marker": {
             "colorbar": {
              "outlinewidth": 0,
              "ticks": ""
             }
            },
            "type": "scatterpolargl"
           }
          ],
          "scatterternary": [
           {
            "marker": {
             "colorbar": {
              "outlinewidth": 0,
              "ticks": ""
             }
            },
            "type": "scatterternary"
           }
          ],
          "surface": [
           {
            "colorbar": {
             "outlinewidth": 0,
             "ticks": ""
            },
            "colorscale": [
             [
              0,
              "#0d0887"
             ],
             [
              0.1111111111111111,
              "#46039f"
             ],
             [
              0.2222222222222222,
              "#7201a8"
             ],
             [
              0.3333333333333333,
              "#9c179e"
             ],
             [
              0.4444444444444444,
              "#bd3786"
             ],
             [
              0.5555555555555556,
              "#d8576b"
             ],
             [
              0.6666666666666666,
              "#ed7953"
             ],
             [
              0.7777777777777778,
              "#fb9f3a"
             ],
             [
              0.8888888888888888,
              "#fdca26"
             ],
             [
              1,
              "#f0f921"
             ]
            ],
            "type": "surface"
           }
          ],
          "table": [
           {
            "cells": {
             "fill": {
              "color": "#EBF0F8"
             },
             "line": {
              "color": "white"
             }
            },
            "header": {
             "fill": {
              "color": "#C8D4E3"
             },
             "line": {
              "color": "white"
             }
            },
            "type": "table"
           }
          ]
         },
         "layout": {
          "annotationdefaults": {
           "arrowcolor": "#2a3f5f",
           "arrowhead": 0,
           "arrowwidth": 1
          },
          "autotypenumbers": "strict",
          "coloraxis": {
           "colorbar": {
            "outlinewidth": 0,
            "ticks": ""
           }
          },
          "colorscale": {
           "diverging": [
            [
             0,
             "#8e0152"
            ],
            [
             0.1,
             "#c51b7d"
            ],
            [
             0.2,
             "#de77ae"
            ],
            [
             0.3,
             "#f1b6da"
            ],
            [
             0.4,
             "#fde0ef"
            ],
            [
             0.5,
             "#f7f7f7"
            ],
            [
             0.6,
             "#e6f5d0"
            ],
            [
             0.7,
             "#b8e186"
            ],
            [
             0.8,
             "#7fbc41"
            ],
            [
             0.9,
             "#4d9221"
            ],
            [
             1,
             "#276419"
            ]
           ],
           "sequential": [
            [
             0,
             "#0d0887"
            ],
            [
             0.1111111111111111,
             "#46039f"
            ],
            [
             0.2222222222222222,
             "#7201a8"
            ],
            [
             0.3333333333333333,
             "#9c179e"
            ],
            [
             0.4444444444444444,
             "#bd3786"
            ],
            [
             0.5555555555555556,
             "#d8576b"
            ],
            [
             0.6666666666666666,
             "#ed7953"
            ],
            [
             0.7777777777777778,
             "#fb9f3a"
            ],
            [
             0.8888888888888888,
             "#fdca26"
            ],
            [
             1,
             "#f0f921"
            ]
           ],
           "sequentialminus": [
            [
             0,
             "#0d0887"
            ],
            [
             0.1111111111111111,
             "#46039f"
            ],
            [
             0.2222222222222222,
             "#7201a8"
            ],
            [
             0.3333333333333333,
             "#9c179e"
            ],
            [
             0.4444444444444444,
             "#bd3786"
            ],
            [
             0.5555555555555556,
             "#d8576b"
            ],
            [
             0.6666666666666666,
             "#ed7953"
            ],
            [
             0.7777777777777778,
             "#fb9f3a"
            ],
            [
             0.8888888888888888,
             "#fdca26"
            ],
            [
             1,
             "#f0f921"
            ]
           ]
          },
          "colorway": [
           "#636efa",
           "#EF553B",
           "#00cc96",
           "#ab63fa",
           "#FFA15A",
           "#19d3f3",
           "#FF6692",
           "#B6E880",
           "#FF97FF",
           "#FECB52"
          ],
          "font": {
           "color": "#2a3f5f"
          },
          "geo": {
           "bgcolor": "white",
           "lakecolor": "white",
           "landcolor": "#E5ECF6",
           "showlakes": true,
           "showland": true,
           "subunitcolor": "white"
          },
          "hoverlabel": {
           "align": "left"
          },
          "hovermode": "closest",
          "mapbox": {
           "style": "light"
          },
          "paper_bgcolor": "white",
          "plot_bgcolor": "#E5ECF6",
          "polar": {
           "angularaxis": {
            "gridcolor": "white",
            "linecolor": "white",
            "ticks": ""
           },
           "bgcolor": "#E5ECF6",
           "radialaxis": {
            "gridcolor": "white",
            "linecolor": "white",
            "ticks": ""
           }
          },
          "scene": {
           "xaxis": {
            "backgroundcolor": "#E5ECF6",
            "gridcolor": "white",
            "gridwidth": 2,
            "linecolor": "white",
            "showbackground": true,
            "ticks": "",
            "zerolinecolor": "white"
           },
           "yaxis": {
            "backgroundcolor": "#E5ECF6",
            "gridcolor": "white",
            "gridwidth": 2,
            "linecolor": "white",
            "showbackground": true,
            "ticks": "",
            "zerolinecolor": "white"
           },
           "zaxis": {
            "backgroundcolor": "#E5ECF6",
            "gridcolor": "white",
            "gridwidth": 2,
            "linecolor": "white",
            "showbackground": true,
            "ticks": "",
            "zerolinecolor": "white"
           }
          },
          "shapedefaults": {
           "line": {
            "color": "#2a3f5f"
           }
          },
          "ternary": {
           "aaxis": {
            "gridcolor": "white",
            "linecolor": "white",
            "ticks": ""
           },
           "baxis": {
            "gridcolor": "white",
            "linecolor": "white",
            "ticks": ""
           },
           "bgcolor": "#E5ECF6",
           "caxis": {
            "gridcolor": "white",
            "linecolor": "white",
            "ticks": ""
           }
          },
          "title": {
           "x": 0.05
          },
          "xaxis": {
           "automargin": true,
           "gridcolor": "white",
           "linecolor": "white",
           "ticks": "",
           "title": {
            "standoff": 15
           },
           "zerolinecolor": "white",
           "zerolinewidth": 2
          },
          "yaxis": {
           "automargin": true,
           "gridcolor": "white",
           "linecolor": "white",
           "ticks": "",
           "title": {
            "standoff": 15
           },
           "zerolinecolor": "white",
           "zerolinewidth": 2
          }
         }
        }
       }
      }
     },
     "metadata": {},
     "output_type": "display_data"
    }
   ],
   "source": [
    "# subtract the mean\n",
    "his_meanzero = his_M - np.mean(his_M, axis=1, keepdims=True)\n",
    "# divide by the standard deviation\n",
    "his_std = his_meanzero/np.std(his_meanzero, axis=1, keepdims=True)\n",
    "# SVD\n",
    "U, S, VT = np.linalg.svd(his_std, full_matrices=False)\n",
    "\n",
    "# make a figure showing the singular values\n",
    "svd_figure = pgo.Figure([pgo.Bar(x=np.arange(len(S)), y=S)])\n",
    "svd_figure.show()"
   ]
  },
  {
   "cell_type": "code",
   "execution_count": 52,
   "id": "b69684cb",
   "metadata": {},
   "outputs": [
    {
     "data": {
      "text/plain": [
       "0.8354402230823956"
      ]
     },
     "execution_count": 52,
     "metadata": {},
     "output_type": "execute_result"
    }
   ],
   "source": [
    "((S[0] ** 2 + S[1] ** 2 + S[2] ** 2) / np.sum(np.power(S, 2)))"
   ]
  },
  {
   "cell_type": "markdown",
   "id": "c70ada2f",
   "metadata": {},
   "source": [
    "We conclude that we will use the first three eigenvectors of the standardized data matrix.\n",
    "\n",
    "Now compute the eigenvectors of history data's covariance matrix:"
   ]
  },
  {
   "cell_type": "code",
   "execution_count": 53,
   "id": "40eda21f",
   "metadata": {},
   "outputs": [],
   "source": [
    "# eigenvector contained in v\n",
    "his_cov = np.cov(his_std.T)\n",
    "w, v = np.linalg.eig(his_cov)"
   ]
  },
  {
   "cell_type": "markdown",
   "id": "8617d2ba",
   "metadata": {},
   "source": [
    "Try different combinations of the first tree eigenvectors as the feature matrix.\n",
    "\n",
    "We produce the result of the PCA in this formula:\n",
    "$Data = Feature^{T} * StdMatrix^{T}$\n",
    "\n",
    "Then, we plot the transpose of the results in scatter to observe any possible patterns."
   ]
  },
  {
   "cell_type": "code",
   "execution_count": 54,
   "id": "b40f46ab",
   "metadata": {},
   "outputs": [],
   "source": [
    "# state the eigenvector to be used\n",
    "v1 = (v[:,0]).real\n",
    "v1 = v1.reshape((v1.shape[0], 1))\n",
    "v2 = (v[:,1]).real\n",
    "v2 = v2.reshape((v2.shape[0], 1))\n",
    "v3 = (v[:,2]).real\n",
    "v3 = v3.reshape((v3.shape[0], 1))"
   ]
  },
  {
   "cell_type": "code",
   "execution_count": 55,
   "id": "472e8fea",
   "metadata": {},
   "outputs": [
    {
     "data": {
      "text/plain": [
       "<matplotlib.collections.PathCollection at 0x247e1859190>"
      ]
     },
     "execution_count": 55,
     "metadata": {},
     "output_type": "execute_result"
    },
    {
     "data": {
      "image/png": "[encoded data removed]",
      "text/plain": [
       "<Figure size 432x288 with 1 Axes>"
      ]
     },
     "metadata": {
      "needs_background": "light"
     },
     "output_type": "display_data"
    }
   ],
   "source": [
    "# v1 and v2\n",
    "f_12 = np.concatenate((v1, v2), axis = 1)\n",
    "his_12 = (his_std @ f_12).T\n",
    "plt.scatter(his_12[0],his_12[1])"
   ]
  },
  {
   "cell_type": "code",
   "execution_count": 56,
   "id": "37278e2d",
   "metadata": {},
   "outputs": [
    {
     "data": {
      "text/plain": [
       "<matplotlib.collections.PathCollection at 0x247e1886580>"
      ]
     },
     "execution_count": 56,
     "metadata": {},
     "output_type": "execute_result"
    },
    {
     "data": {
      "image/png": "[encoded data removed]",
      "text/plain": [
       "<Figure size 432x288 with 1 Axes>"
      ]
     },
     "metadata": {
      "needs_background": "light"
     },
     "output_type": "display_data"
    }
   ],
   "source": [
    "# v1 and v3\n",
    "f_13 = np.concatenate((v1, v3), axis = 1)\n",
    "his_13 = (his_std @ f_13).T\n",
    "plt.scatter(his_13[0],his_13[1])"
   ]
  },
  {
   "cell_type": "code",
   "execution_count": 57,
   "id": "669cb01b",
   "metadata": {},
   "outputs": [
    {
     "data": {
      "text/plain": [
       "<matplotlib.collections.PathCollection at 0x247e18e0e80>"
      ]
     },
     "execution_count": 57,
     "metadata": {},
     "output_type": "execute_result"
    },
    {
     "data": {
      "image/png": "[encoded data removed]",
      "text/plain": [
       "<Figure size 432x288 with 1 Axes>"
      ]
     },
     "metadata": {
      "needs_background": "light"
     },
     "output_type": "display_data"
    }
   ],
   "source": [
    "# v2 and v3\n",
    "f_23 = np.concatenate((v2, v3), axis = 1)\n",
    "his_23 = (his_std @ f_23).T\n",
    "plt.scatter(his_23[0],his_23[1])"
   ]
  },
  {
   "cell_type": "markdown",
   "id": "5b198505",
   "metadata": {},
   "source": [
    "When using the first two eigenvalues to project the history data, it did give the best classification result, thus we decide to use the first two eigen values **v1** and **v2**.\n",
    "\n",
    "As shown in the first graph, we will classify the data into 3 clusters in the next K-means step."
   ]
  },
  {
   "cell_type": "markdown",
   "id": "649c9c78",
   "metadata": {},
   "source": [
    "## 2) K-means clustering"
   ]
  },
  {
   "cell_type": "code",
   "execution_count": 46,
   "id": "11f08b0f",
   "metadata": {},
   "outputs": [
    {
     "data": {
      "image/png": "[encoded data removed]",
      "text/plain": [
       "<Figure size 432x288 with 1 Axes>"
      ]
     },
     "metadata": {
      "needs_background": "light"
     },
     "output_type": "display_data"
    },
    {
     "data": {
      "image/png": "[encoded data removed]",
      "text/plain": [
       "<Figure size 432x288 with 1 Axes>"
      ]
     },
     "metadata": {
      "needs_background": "light"
     },
     "output_type": "display_data"
    }
   ],
   "source": [
    "from scipy.spatial.distance import cdist\n",
    "\n",
    "distortions = []\n",
    "inertias = []\n",
    "map1 = {}\n",
    "map2 = {}\n",
    "\n",
    "for k in range(1,11):\n",
    "    kmeans = KMeans(n_clusters=k)\n",
    "    l = kmeans.fit(his_std)\n",
    "\n",
    "    distortions.append(sum(np.min(cdist(his_std, kmeans.cluster_centers_,'euclidean'), axis=1)) / his_std.shape[0])\n",
    "    inertias.append(kmeans.inertia_)\n",
    " \n",
    "    map1[k] = sum(np.min(cdist(his_std, kmeans.cluster_centers_,'euclidean'), axis=1)) / his_std.shape[0]\n",
    "    map2[k] = kmeans.inertia_\n",
    "\n",
    "\n",
    "plt.plot(range(1,11), distortions, 'bx-')\n",
    "plt.xlabel('Values of K')\n",
    "plt.ylabel('Distortion')\n",
    "plt.title('The Elbow Method using Distortion')\n",
    "plt.show()\n",
    "\n",
    "plt.plot(range(1,11), inertias, 'bx-')\n",
    "plt.xlabel('Values of K')\n",
    "plt.ylabel('Inertia')\n",
    "plt.title('The Elbow Method using Inertia')\n",
    "plt.show()"
   ]
  },
  {
   "cell_type": "markdown",
   "id": "b829670e",
   "metadata": {},
   "source": [
    "Now we use k-means method to cluster the data into 3 parts."
   ]
  },
  {
   "cell_type": "code",
   "execution_count": 58,
   "id": "31adf585",
   "metadata": {
    "scrolled": true
   },
   "outputs": [
    {
     "name": "stdout",
     "output_type": "stream",
     "text": [
      "[[ 1.00950000e+05  7.31094618e-01 -8.94753669e-01 ...  1.58980665e-01\n",
      "   1.31720742e-01  1.23296336e-01]\n",
      " [ 1.00956000e+05  1.10938964e+00 -6.69580389e-01 ... -3.53934244e-01\n",
      "   4.24670322e-01 -1.03733797e+00]\n",
      " [ 1.00962000e+05 -1.02138211e+00  2.91023343e+00 ... -1.02985095e+00\n",
      "  -7.75577031e-01  2.19481007e-01]\n",
      " ...\n",
      " [ 1.25629000e+05  9.11668165e-01 -7.27845322e-01 ... -1.49643757e-02\n",
      "   2.22371361e-02 -7.33299870e-01]\n",
      " [ 1.25636000e+05 -1.24583943e+00  1.54151693e+00 ... -3.22959687e-01\n",
      "  -9.17915211e-01 -7.03656886e-01]\n",
      " [ 1.25645000e+05 -8.32821846e-01  5.39011111e-01 ... -4.25121028e-01\n",
      "  -4.56042856e-01 -1.13749788e+00]]\n"
     ]
    },
    {
     "data": {
      "image/png": "[encoded data removed]",
      "text/plain": [
       "<Figure size 432x288 with 1 Axes>"
      ]
     },
     "metadata": {
      "needs_background": "light"
     },
     "output_type": "display_data"
    }
   ],
   "source": [
    "from sklearn.cluster import KMeans\n",
    "chis_12 = KMeans(n_clusters=3)\n",
    "his_label = his_label.reshape((his_label.shape[0],1))\n",
    "his12 = np.concatenate((his_label,his_std), axis = 1)\n",
    "print(his12)\n",
    "#his12=np.transpose(his12)\n",
    "chis_12.fit(his12[:,1:])\n",
    "\n",
    "plt.figure()\n",
    "for i in range(3):\n",
    "    plt.plot(his12[chis_12.labels_==i, 1], his12[chis_12.labels_==i, 2], 'o')\n"
   ]
  },
  {
   "cell_type": "markdown",
   "id": "b2be3202",
   "metadata": {},
   "source": [
    "When separatig the clusters, we want to keep the labels (User index) on track in order to place the data after PCA process back in place."
   ]
  },
  {
   "cell_type": "code",
   "execution_count": 59,
   "id": "b1c5dbe7",
   "metadata": {},
   "outputs": [],
   "source": [
    "# cluster 1\n",
    "c1 = his6[chis_6.labels_==0]\n",
    "c1_label = c1[:,0].reshape((c1[:,0].shape[0],1))\n",
    "c1 = c1[:,1:]\n",
    "# cluster 2\n",
    "c2=his6[chis_6.labels_==1]\n",
    "c2_label = c2[:,0].reshape((c2[:,0].shape[0],1))\n",
    "c2 = c2[:,1:]\n",
    "# cluster 3\n",
    "c3=his6[chis_6.labels_==2]\n",
    "c3_label = c3[:,0].reshape((c3[:,0].shape[0],1))\n",
    "c3 = c3[:,1:]\n",
    "# cluster 1\n",
    "c4 = his6[chis_6.labels_==3]\n",
    "c4_label = c4[:,0].reshape((c4[:,0].shape[0],1))\n",
    "c4 = c4[:,1:]\n",
    "# cluster 2\n",
    "c5=his6[chis_6.labels_==4]\n",
    "c5_label = c5[:,0].reshape((c5[:,0].shape[0],1))\n",
    "c5 = c5[:,1:]\n",
    "# cluster 3\n",
    "c6=his6[chis_6.labels_==5]\n",
    "c6_label = c6[:,0].reshape((c6[:,0].shape[0],1))\n",
    "c6 = c6[:,1:]"
   ]
  },
  {
   "cell_type": "code",
   "execution_count": 60,
   "id": "795a6b62",
   "metadata": {},
   "outputs": [],
   "source": [
    "# cluster 1\n",
    "c1 = his12[chis_12.labels_==0]\n",
    "c1_label = c1[:,0].reshape((c1[:,0].shape[0],1))\n",
    "c1 = c1[:,1:]\n",
    "# cluster 2\n",
    "c2=his12[chis_12.labels_==1]\n",
    "c2_label = c2[:,0].reshape((c2[:,0].shape[0],1))\n",
    "c2 = c2[:,1:]\n",
    "# cluster 3\n",
    "c3=his12[chis_12.labels_==2]\n",
    "c3_label = c3[:,0].reshape((c3[:,0].shape[0],1))\n",
    "c3 = c3[:,1:]"
   ]
  },
  {
   "cell_type": "markdown",
   "id": "50e6b9b3",
   "metadata": {},
   "source": [
    "## 3. PCA on clusters"
   ]
  },
  {
   "cell_type": "markdown",
   "id": "71ae4ea8",
   "metadata": {},
   "source": [
    "1. Standardize the first cluster"
   ]
  },
  {
   "cell_type": "code",
   "execution_count": 61,
   "id": "0bbdf877",
   "metadata": {},
   "outputs": [
    {
     "data": {
      "application/vnd.plotly.v1+json": {
       "config": {
        "plotlyServerURL": "https://plot.ly"
       },
       "data": [
        {
         "type": "bar",
         "x": [
          0,
          1,
          2,
          3,
          4,
          5,
          6,
          7,
          8,
          9,
          10,
          11,
          12,
          13,
          14,
          15,
          16,
          17,
          18,
          19,
          20,
          21,
          22,
          23,
          24,
          25,
          26,
          27,
          28,
          29,
          30,
          31,
          32,
          33,
          34,
          35,
          36,
          37,
          38,
          39,
          40,
          41,
          42,
          43,
          44,
          45,
          46,
          47,
          48,
          49,
          50,
          51,
          52,
          53,
          54,
          55,
          56,
          57,
          58,
          59,
          60,
          61,
          62,
          63,
          64,
          65,
          66,
          67,
          68,
          69,
          70,
          71,
          72,
          73,
          74,
          75,
          76,
          77,
          78,
          79,
          80,
          81,
          82,
          83,
          84,
          85,
          86,
          87,
          88,
          89,
          90,
          91,
          92,
          93,
          94,
          95,
          96,
          97,
          98,
          99
         ],
         "y": [
          355.3734605536242,
          98.04127363475781,
          81.64081278702251,
          22.602320764367917,
          19.613257939645983,
          18.064499445612572,
          11.066606835914747,
          10.926777026879071,
          10.449675497786092,
          10.201140432890279,
          9.932645771379494,
          9.912295692572052,
          9.84403058403806,
          9.822337820110691,
          9.694903221470419,
          9.647460650270931,
          9.632830321186251,
          9.571401179786417,
          9.476288176658716,
          9.36432877071525,
          9.334589600259775,
          9.268568042553945,
          9.252595764988547,
          9.222144471498986,
          9.176766745273609,
          9.128677672997492,
          9.094803884180912,
          9.078446382239488,
          8.999675203179866,
          8.96064342145225,
          8.930228887464207,
          8.92244411026552,
          8.862599835687782,
          8.836045234311506,
          8.757172027402884,
          8.731736533142259,
          8.704312391600169,
          8.662687810548608,
          8.616365481029847,
          8.565146628584458,
          8.547434748390366,
          8.494528054802892,
          8.458144775644511,
          8.384262464522534,
          8.36513218877146,
          8.30812680365154,
          8.253879325378751,
          8.198453026301657,
          8.16541947393937,
          8.121870863699407,
          8.088614763267895,
          8.080239517885248,
          8.057379991302355,
          8.041748283233643,
          7.975060339418021,
          7.950975788814777,
          7.905916715392495,
          7.86662498565623,
          7.831350254410548,
          7.792041184573681,
          7.720273146713822,
          7.679754219440532,
          7.663998085138475,
          7.629661168308199,
          7.603514979042064,
          7.574052786565348,
          7.528239706001756,
          7.505173850328821,
          7.429002327580924,
          7.393300403450179,
          7.358723651834255,
          7.33801346074179,
          7.264271341096709,
          7.199736294665819,
          7.169382109268119,
          7.125336984004848,
          7.09985648494063,
          7.03930999513228,
          7.023372145221298,
          6.9790916173228,
          6.936183532833775,
          6.918080585928321,
          6.857231760682259,
          6.838319863199139,
          6.797654521901854,
          6.717459268457225,
          6.677572714285338,
          6.609768675598322,
          6.578943525015702,
          6.5352318238684575,
          6.445407958286776,
          6.367779765123346,
          6.2828879310385135,
          6.193358785275013,
          6.171352678735359,
          6.08716163359585,
          6.04702301678915,
          5.968791732110574,
          5.883597926983875,
          1.940763305884808e-13
         ]
        }
       ],
       "layout": {
        "template": {
         "data": {
          "bar": [
           {
            "error_x": {
             "color": "#2a3f5f"
            },
            "error_y": {
             "color": "#2a3f5f"
            },
            "marker": {
             "line": {
              "color": "#E5ECF6",
              "width": 0.5
             },
             "pattern": {
              "fillmode": "overlay",
              "size": 10,
              "solidity": 0.2
             }
            },
            "type": "bar"
           }
          ],
          "barpolar": [
           {
            "marker": {
             "line": {
              "color": "#E5ECF6",
              "width": 0.5
             },
             "pattern": {
              "fillmode": "overlay",
              "size": 10,
              "solidity": 0.2
             }
            },
            "type": "barpolar"
           }
          ],
          "carpet": [
           {
            "aaxis": {
             "endlinecolor": "#2a3f5f",
             "gridcolor": "white",
             "linecolor": "white",
             "minorgridcolor": "white",
             "startlinecolor": "#2a3f5f"
            },
            "baxis": {
             "endlinecolor": "#2a3f5f",
             "gridcolor": "white",
             "linecolor": "white",
             "minorgridcolor": "white",
             "startlinecolor": "#2a3f5f"
            },
            "type": "carpet"
           }
          ],
          "choropleth": [
           {
            "colorbar": {
             "outlinewidth": 0,
             "ticks": ""
            },
            "type": "choropleth"
           }
          ],
          "contour": [
           {
            "colorbar": {
             "outlinewidth": 0,
             "ticks": ""
            },
            "colorscale": [
             [
              0,
              "#0d0887"
             ],
             [
              0.1111111111111111,
              "#46039f"
             ],
             [
              0.2222222222222222,
              "#7201a8"
             ],
             [
              0.3333333333333333,
              "#9c179e"
             ],
             [
              0.4444444444444444,
              "#bd3786"
             ],
             [
              0.5555555555555556,
              "#d8576b"
             ],
             [
              0.6666666666666666,
              "#ed7953"
             ],
             [
              0.7777777777777778,
              "#fb9f3a"
             ],
             [
              0.8888888888888888,
              "#fdca26"
             ],
             [
              1,
              "#f0f921"
             ]
            ],
            "type": "contour"
           }
          ],
          "contourcarpet": [
           {
            "colorbar": {
             "outlinewidth": 0,
             "ticks": ""
            },
            "type": "contourcarpet"
           }
          ],
          "heatmap": [
           {
            "colorbar": {
             "outlinewidth": 0,
             "ticks": ""
            },
            "colorscale": [
             [
              0,
              "#0d0887"
             ],
             [
              0.1111111111111111,
              "#46039f"
             ],
             [
              0.2222222222222222,
              "#7201a8"
             ],
             [
              0.3333333333333333,
              "#9c179e"
             ],
             [
              0.4444444444444444,
              "#bd3786"
             ],
             [
              0.5555555555555556,
              "#d8576b"
             ],
             [
              0.6666666666666666,
              "#ed7953"
             ],
             [
              0.7777777777777778,
              "#fb9f3a"
             ],
             [
              0.8888888888888888,
              "#fdca26"
             ],
             [
              1,
              "#f0f921"
             ]
            ],
            "type": "heatmap"
           }
          ],
          "heatmapgl": [
           {
            "colorbar": {
             "outlinewidth": 0,
             "ticks": ""
            },
            "colorscale": [
             [
              0,
              "#0d0887"
             ],
             [
              0.1111111111111111,
              "#46039f"
             ],
             [
              0.2222222222222222,
              "#7201a8"
             ],
             [
              0.3333333333333333,
              "#9c179e"
             ],
             [
              0.4444444444444444,
              "#bd3786"
             ],
             [
              0.5555555555555556,
              "#d8576b"
             ],
             [
              0.6666666666666666,
              "#ed7953"
             ],
             [
              0.7777777777777778,
              "#fb9f3a"
             ],
             [
              0.8888888888888888,
              "#fdca26"
             ],
             [
              1,
              "#f0f921"
             ]
            ],
            "type": "heatmapgl"
           }
          ],
          "histogram": [
           {
            "marker": {
             "pattern": {
              "fillmode": "overlay",
              "size": 10,
              "solidity": 0.2
             }
            },
            "type": "histogram"
           }
          ],
          "histogram2d": [
           {
            "colorbar": {
             "outlinewidth": 0,
             "ticks": ""
            },
            "colorscale": [
             [
              0,
              "#0d0887"
             ],
             [
              0.1111111111111111,
              "#46039f"
             ],
             [
              0.2222222222222222,
              "#7201a8"
             ],
             [
              0.3333333333333333,
              "#9c179e"
             ],
             [
              0.4444444444444444,
              "#bd3786"
             ],
             [
              0.5555555555555556,
              "#d8576b"
             ],
             [
              0.6666666666666666,
              "#ed7953"
             ],
             [
              0.7777777777777778,
              "#fb9f3a"
             ],
             [
              0.8888888888888888,
              "#fdca26"
             ],
             [
              1,
              "#f0f921"
             ]
            ],
            "type": "histogram2d"
           }
          ],
          "histogram2dcontour": [
           {
            "colorbar": {
             "outlinewidth": 0,
             "ticks": ""
            },
            "colorscale": [
             [
              0,
              "#0d0887"
             ],
             [
              0.1111111111111111,
              "#46039f"
             ],
             [
              0.2222222222222222,
              "#7201a8"
             ],
             [
              0.3333333333333333,
              "#9c179e"
             ],
             [
              0.4444444444444444,
              "#bd3786"
             ],
             [
              0.5555555555555556,
              "#d8576b"
             ],
             [
              0.6666666666666666,
              "#ed7953"
             ],
             [
              0.7777777777777778,
              "#fb9f3a"
             ],
             [
              0.8888888888888888,
              "#fdca26"
             ],
             [
              1,
              "#f0f921"
             ]
            ],
            "type": "histogram2dcontour"
           }
          ],
          "mesh3d": [
           {
            "colorbar": {
             "outlinewidth": 0,
             "ticks": ""
            },
            "type": "mesh3d"
           }
          ],
          "parcoords": [
           {
            "line": {
             "colorbar": {
              "outlinewidth": 0,
              "ticks": ""
             }
            },
            "type": "parcoords"
           }
          ],
          "pie": [
           {
            "automargin": true,
            "type": "pie"
           }
          ],
          "scatter": [
           {
            "marker": {
             "colorbar": {
              "outlinewidth": 0,
              "ticks": ""
             }
            },
            "type": "scatter"
           }
          ],
          "scatter3d": [
           {
            "line": {
             "colorbar": {
              "outlinewidth": 0,
              "ticks": ""
             }
            },
            "marker": {
             "colorbar": {
              "outlinewidth": 0,
              "ticks": ""
             }
            },
            "type": "scatter3d"
           }
          ],
          "scattercarpet": [
           {
            "marker": {
             "colorbar": {
              "outlinewidth": 0,
              "ticks": ""
             }
            },
            "type": "scattercarpet"
           }
          ],
          "scattergeo": [
           {
            "marker": {
             "colorbar": {
              "outlinewidth": 0,
              "ticks": ""
             }
            },
            "type": "scattergeo"
           }
          ],
          "scattergl": [
           {
            "marker": {
             "colorbar": {
              "outlinewidth": 0,
              "ticks": ""
             }
            },
            "type": "scattergl"
           }
          ],
          "scattermapbox": [
           {
            "marker": {
             "colorbar": {
              "outlinewidth": 0,
              "ticks": ""
             }
            },
            "type": "scattermapbox"
           }
          ],
          "scatterpolar": [
           {
            "marker": {
             "colorbar": {
              "outlinewidth": 0,
              "ticks": ""
             }
            },
            "type": "scatterpolar"
           }
          ],
          "scatterpolargl": [
           {
            "marker": {
             "colorbar": {
              "outlinewidth": 0,
              "ticks": ""
             }
            },
            "type": "scatterpolargl"
           }
          ],
          "scatterternary": [
           {
            "marker": {
             "colorbar": {
              "outlinewidth": 0,
              "ticks": ""
             }
            },
            "type": "scatterternary"
           }
          ],
          "surface": [
           {
            "colorbar": {
             "outlinewidth": 0,
             "ticks": ""
            },
            "colorscale": [
             [
              0,
              "#0d0887"
             ],
             [
              0.1111111111111111,
              "#46039f"
             ],
             [
              0.2222222222222222,
              "#7201a8"
             ],
             [
              0.3333333333333333,
              "#9c179e"
             ],
             [
              0.4444444444444444,
              "#bd3786"
             ],
             [
              0.5555555555555556,
              "#d8576b"
             ],
             [
              0.6666666666666666,
              "#ed7953"
             ],
             [
              0.7777777777777778,
              "#fb9f3a"
             ],
             [
              0.8888888888888888,
              "#fdca26"
             ],
             [
              1,
              "#f0f921"
             ]
            ],
            "type": "surface"
           }
          ],
          "table": [
           {
            "cells": {
             "fill": {
              "color": "#EBF0F8"
             },
             "line": {
              "color": "white"
             }
            },
            "header": {
             "fill": {
              "color": "#C8D4E3"
             },
             "line": {
              "color": "white"
             }
            },
            "type": "table"
           }
          ]
         },
         "layout": {
          "annotationdefaults": {
           "arrowcolor": "#2a3f5f",
           "arrowhead": 0,
           "arrowwidth": 1
          },
          "autotypenumbers": "strict",
          "coloraxis": {
           "colorbar": {
            "outlinewidth": 0,
            "ticks": ""
           }
          },
          "colorscale": {
           "diverging": [
            [
             0,
             "#8e0152"
            ],
            [
             0.1,
             "#c51b7d"
            ],
            [
             0.2,
             "#de77ae"
            ],
            [
             0.3,
             "#f1b6da"
            ],
            [
             0.4,
             "#fde0ef"
            ],
            [
             0.5,
             "#f7f7f7"
            ],
            [
             0.6,
             "#e6f5d0"
            ],
            [
             0.7,
             "#b8e186"
            ],
            [
             0.8,
             "#7fbc41"
            ],
            [
             0.9,
             "#4d9221"
            ],
            [
             1,
             "#276419"
            ]
           ],
           "sequential": [
            [
             0,
             "#0d0887"
            ],
            [
             0.1111111111111111,
             "#46039f"
            ],
            [
             0.2222222222222222,
             "#7201a8"
            ],
            [
             0.3333333333333333,
             "#9c179e"
            ],
            [
             0.4444444444444444,
             "#bd3786"
            ],
            [
             0.5555555555555556,
             "#d8576b"
            ],
            [
             0.6666666666666666,
             "#ed7953"
            ],
            [
             0.7777777777777778,
             "#fb9f3a"
            ],
            [
             0.8888888888888888,
             "#fdca26"
            ],
            [
             1,
             "#f0f921"
            ]
           ],
           "sequentialminus": [
            [
             0,
             "#0d0887"
            ],
            [
             0.1111111111111111,
             "#46039f"
            ],
            [
             0.2222222222222222,
             "#7201a8"
            ],
            [
             0.3333333333333333,
             "#9c179e"
            ],
            [
             0.4444444444444444,
             "#bd3786"
            ],
            [
             0.5555555555555556,
             "#d8576b"
            ],
            [
             0.6666666666666666,
             "#ed7953"
            ],
            [
             0.7777777777777778,
             "#fb9f3a"
            ],
            [
             0.8888888888888888,
             "#fdca26"
            ],
            [
             1,
             "#f0f921"
            ]
           ]
          },
          "colorway": [
           "#636efa",
           "#EF553B",
           "#00cc96",
           "#ab63fa",
           "#FFA15A",
           "#19d3f3",
           "#FF6692",
           "#B6E880",
           "#FF97FF",
           "#FECB52"
          ],
          "font": {
           "color": "#2a3f5f"
          },
          "geo": {
           "bgcolor": "white",
           "lakecolor": "white",
           "landcolor": "#E5ECF6",
           "showlakes": true,
           "showland": true,
           "subunitcolor": "white"
          },
          "hoverlabel": {
           "align": "left"
          },
          "hovermode": "closest",
          "mapbox": {
           "style": "light"
          },
          "paper_bgcolor": "white",
          "plot_bgcolor": "#E5ECF6",
          "polar": {
           "angularaxis": {
            "gridcolor": "white",
            "linecolor": "white",
            "ticks": ""
           },
           "bgcolor": "#E5ECF6",
           "radialaxis": {
            "gridcolor": "white",
            "linecolor": "white",
            "ticks": ""
           }
          },
          "scene": {
           "xaxis": {
            "backgroundcolor": "#E5ECF6",
            "gridcolor": "white",
            "gridwidth": 2,
            "linecolor": "white",
            "showbackground": true,
            "ticks": "",
            "zerolinecolor": "white"
           },
           "yaxis": {
            "backgroundcolor": "#E5ECF6",
            "gridcolor": "white",
            "gridwidth": 2,
            "linecolor": "white",
            "showbackground": true,
            "ticks": "",
            "zerolinecolor": "white"
           },
           "zaxis": {
            "backgroundcolor": "#E5ECF6",
            "gridcolor": "white",
            "gridwidth": 2,
            "linecolor": "white",
            "showbackground": true,
            "ticks": "",
            "zerolinecolor": "white"
           }
          },
          "shapedefaults": {
           "line": {
            "color": "#2a3f5f"
           }
          },
          "ternary": {
           "aaxis": {
            "gridcolor": "white",
            "linecolor": "white",
            "ticks": ""
           },
           "baxis": {
            "gridcolor": "white",
            "linecolor": "white",
            "ticks": ""
           },
           "bgcolor": "#E5ECF6",
           "caxis": {
            "gridcolor": "white",
            "linecolor": "white",
            "ticks": ""
           }
          },
          "title": {
           "x": 0.05
          },
          "xaxis": {
           "automargin": true,
           "gridcolor": "white",
           "linecolor": "white",
           "ticks": "",
           "title": {
            "standoff": 15
           },
           "zerolinecolor": "white",
           "zerolinewidth": 2
          },
          "yaxis": {
           "automargin": true,
           "gridcolor": "white",
           "linecolor": "white",
           "ticks": "",
           "title": {
            "standoff": 15
           },
           "zerolinecolor": "white",
           "zerolinewidth": 2
          }
         }
        }
       }
      }
     },
     "metadata": {},
     "output_type": "display_data"
    }
   ],
   "source": [
    "# subtract the mean\n",
    "c1_meanzero = c1 - np.mean(c2, axis=1, keepdims=True)\n",
    "# divide by the standard deviation\n",
    "c1_std = c1_meanzero/np.std(c1_meanzero, axis=1, keepdims=True)\n",
    "# SVD\n",
    "U, S, VT = np.linalg.svd(c1_std, full_matrices=False)\n",
    "\n",
    "# make a figure showing the singular values\n",
    "svd_figure = pgo.Figure([pgo.Bar(x=np.arange(len(S)), y=S)])\n",
    "svd_figure.show()"
   ]
  },
  {
   "cell_type": "markdown",
   "id": "7da86a70",
   "metadata": {},
   "source": [
    "Compute the eigenvector of the first cluster's covariance matrix"
   ]
  },
  {
   "cell_type": "code",
   "execution_count": 62,
   "id": "49933117",
   "metadata": {},
   "outputs": [],
   "source": [
    "# eigenvector contained in v\n",
    "c1_cov = np.cov(c1_std.T)\n",
    "w, v1 = np.linalg.eig(c1_cov)\n",
    "v1_3 = v1[:,0:3]\n",
    "v1_6 = v1[:,0:6]\n",
    "c1_3 = c1_std @ v1_3\n",
    "c1_6 = c1_std @ v1_6\n",
    "# c1 with 3 features\n",
    "c1_3 = np.concatenate((c1_label, c1_3), axis = 1)\n",
    "# c1 with 6 features\n",
    "c1_6 = np.concatenate((c1_label, c1_6), axis = 1)"
   ]
  },
  {
   "cell_type": "markdown",
   "id": "61ba603b",
   "metadata": {},
   "source": [
    "2. Standardize the 2nd cluster"
   ]
  },
  {
   "cell_type": "code",
   "execution_count": 63,
   "id": "ae133863",
   "metadata": {},
   "outputs": [
    {
     "data": {
      "application/vnd.plotly.v1+json": {
       "config": {
        "plotlyServerURL": "https://plot.ly"
       },
       "data": [
        {
         "type": "bar",
         "x": [
          0,
          1,
          2,
          3,
          4,
          5,
          6,
          7,
          8,
          9,
          10,
          11,
          12,
          13,
          14,
          15,
          16,
          17,
          18,
          19,
          20,
          21,
          22,
          23,
          24,
          25,
          26,
          27,
          28,
          29,
          30,
          31,
          32,
          33,
          34,
          35,
          36,
          37,
          38,
          39,
          40,
          41,
          42,
          43,
          44,
          45,
          46,
          47,
          48,
          49,
          50,
          51,
          52,
          53,
          54,
          55,
          56,
          57,
          58,
          59,
          60,
          61,
          62,
          63,
          64,
          65,
          66,
          67,
          68,
          69,
          70,
          71,
          72,
          73,
          74,
          75,
          76,
          77,
          78,
          79,
          80,
          81,
          82,
          83,
          84,
          85,
          86,
          87,
          88,
          89,
          90,
          91,
          92,
          93,
          94,
          95,
          96,
          97,
          98,
          99
         ],
         "y": [
          352.3057603847892,
          100.9300121288417,
          85.87036614503911,
          24.951241056122367,
          23.070800077970425,
          17.999802373274633,
          12.2748451293521,
          11.704513089353735,
          10.804258387962003,
          10.626829047885437,
          10.566923990167604,
          10.474390240619485,
          10.419650840826261,
          10.368853013125259,
          10.347917237233233,
          10.277645901809175,
          10.119260395491535,
          10.035433179236916,
          9.962515694596375,
          9.87018077539477,
          9.811069342102412,
          9.771062429253268,
          9.719933018512158,
          9.714527169074287,
          9.653207606427758,
          9.546085350714302,
          9.526511163377927,
          9.436189422885764,
          9.424618638368324,
          9.38486580956086,
          9.337490746957124,
          9.251660360685605,
          9.23667492277332,
          9.185487275006528,
          9.171777038447752,
          9.120967349329522,
          9.082137821666807,
          9.062014694592103,
          9.06013484672736,
          8.987498236962567,
          8.936683579418483,
          8.870028762030401,
          8.843974334691872,
          8.810328330644298,
          8.749773191966089,
          8.733107707988315,
          8.69136379981405,
          8.665091154314721,
          8.589592710022776,
          8.547721631774913,
          8.495345913213063,
          8.437731308144537,
          8.413945699436658,
          8.372422147147171,
          8.324288301870373,
          8.311734144609138,
          8.263074261877616,
          8.22286879137744,
          8.20849461356842,
          8.159665941032758,
          8.146207566132402,
          8.06755205136839,
          8.028904298107024,
          7.993344552324132,
          7.92993209923169,
          7.914924692577725,
          7.89566459097787,
          7.855335921616922,
          7.791640855840188,
          7.769729764066969,
          7.744950637715858,
          7.700034652322608,
          7.633478003803185,
          7.570662922157296,
          7.539587482766629,
          7.473344339272457,
          7.412535934681727,
          7.392129939488765,
          7.346279030567237,
          7.267092706497052,
          7.234447247515019,
          7.185512030874647,
          7.173439851181251,
          7.104568986025862,
          7.070651694578635,
          7.007646291859155,
          6.930811024618283,
          6.888887887601313,
          6.8558992450403755,
          6.792989606984419,
          6.736640818356125,
          6.652924435807772,
          6.603146561642572,
          6.544538104632366,
          6.452189906670027,
          6.2751367497808275,
          6.178767507434376,
          6.137340851374128,
          6.083778505125163,
          1.3311327610345546e-14
         ]
        }
       ],
       "layout": {
        "template": {
         "data": {
          "bar": [
           {
            "error_x": {
             "color": "#2a3f5f"
            },
            "error_y": {
             "color": "#2a3f5f"
            },
            "marker": {
             "line": {
              "color": "#E5ECF6",
              "width": 0.5
             },
             "pattern": {
              "fillmode": "overlay",
              "size": 10,
              "solidity": 0.2
             }
            },
            "type": "bar"
           }
          ],
          "barpolar": [
           {
            "marker": {
             "line": {
              "color": "#E5ECF6",
              "width": 0.5
             },
             "pattern": {
              "fillmode": "overlay",
              "size": 10,
              "solidity": 0.2
             }
            },
            "type": "barpolar"
           }
          ],
          "carpet": [
           {
            "aaxis": {
             "endlinecolor": "#2a3f5f",
             "gridcolor": "white",
             "linecolor": "white",
             "minorgridcolor": "white",
             "startlinecolor": "#2a3f5f"
            },
            "baxis": {
             "endlinecolor": "#2a3f5f",
             "gridcolor": "white",
             "linecolor": "white",
             "minorgridcolor": "white",
             "startlinecolor": "#2a3f5f"
            },
            "type": "carpet"
           }
          ],
          "choropleth": [
           {
            "colorbar": {
             "outlinewidth": 0,
             "ticks": ""
            },
            "type": "choropleth"
           }
          ],
          "contour": [
           {
            "colorbar": {
             "outlinewidth": 0,
             "ticks": ""
            },
            "colorscale": [
             [
              0,
              "#0d0887"
             ],
             [
              0.1111111111111111,
              "#46039f"
             ],
             [
              0.2222222222222222,
              "#7201a8"
             ],
             [
              0.3333333333333333,
              "#9c179e"
             ],
             [
              0.4444444444444444,
              "#bd3786"
             ],
             [
              0.5555555555555556,
              "#d8576b"
             ],
             [
              0.6666666666666666,
              "#ed7953"
             ],
             [
              0.7777777777777778,
              "#fb9f3a"
             ],
             [
              0.8888888888888888,
              "#fdca26"
             ],
             [
              1,
              "#f0f921"
             ]
            ],
            "type": "contour"
           }
          ],
          "contourcarpet": [
           {
            "colorbar": {
             "outlinewidth": 0,
             "ticks": ""
            },
            "type": "contourcarpet"
           }
          ],
          "heatmap": [
           {
            "colorbar": {
             "outlinewidth": 0,
             "ticks": ""
            },
            "colorscale": [
             [
              0,
              "#0d0887"
             ],
             [
              0.1111111111111111,
              "#46039f"
             ],
             [
              0.2222222222222222,
              "#7201a8"
             ],
             [
              0.3333333333333333,
              "#9c179e"
             ],
             [
              0.4444444444444444,
              "#bd3786"
             ],
             [
              0.5555555555555556,
              "#d8576b"
             ],
             [
              0.6666666666666666,
              "#ed7953"
             ],
             [
              0.7777777777777778,
              "#fb9f3a"
             ],
             [
              0.8888888888888888,
              "#fdca26"
             ],
             [
              1,
              "#f0f921"
             ]
            ],
            "type": "heatmap"
           }
          ],
          "heatmapgl": [
           {
            "colorbar": {
             "outlinewidth": 0,
             "ticks": ""
            },
            "colorscale": [
             [
              0,
              "#0d0887"
             ],
             [
              0.1111111111111111,
              "#46039f"
             ],
             [
              0.2222222222222222,
              "#7201a8"
             ],
             [
              0.3333333333333333,
              "#9c179e"
             ],
             [
              0.4444444444444444,
              "#bd3786"
             ],
             [
              0.5555555555555556,
              "#d8576b"
             ],
             [
              0.6666666666666666,
              "#ed7953"
             ],
             [
              0.7777777777777778,
              "#fb9f3a"
             ],
             [
              0.8888888888888888,
              "#fdca26"
             ],
             [
              1,
              "#f0f921"
             ]
            ],
            "type": "heatmapgl"
           }
          ],
          "histogram": [
           {
            "marker": {
             "pattern": {
              "fillmode": "overlay",
              "size": 10,
              "solidity": 0.2
             }
            },
            "type": "histogram"
           }
          ],
          "histogram2d": [
           {
            "colorbar": {
             "outlinewidth": 0,
             "ticks": ""
            },
            "colorscale": [
             [
              0,
              "#0d0887"
             ],
             [
              0.1111111111111111,
              "#46039f"
             ],
             [
              0.2222222222222222,
              "#7201a8"
             ],
             [
              0.3333333333333333,
              "#9c179e"
             ],
             [
              0.4444444444444444,
              "#bd3786"
             ],
             [
              0.5555555555555556,
              "#d8576b"
             ],
             [
              0.6666666666666666,
              "#ed7953"
             ],
             [
              0.7777777777777778,
              "#fb9f3a"
             ],
             [
              0.8888888888888888,
              "#fdca26"
             ],
             [
              1,
              "#f0f921"
             ]
            ],
            "type": "histogram2d"
           }
          ],
          "histogram2dcontour": [
           {
            "colorbar": {
             "outlinewidth": 0,
             "ticks": ""
            },
            "colorscale": [
             [
              0,
              "#0d0887"
             ],
             [
              0.1111111111111111,
              "#46039f"
             ],
             [
              0.2222222222222222,
              "#7201a8"
             ],
             [
              0.3333333333333333,
              "#9c179e"
             ],
             [
              0.4444444444444444,
              "#bd3786"
             ],
             [
              0.5555555555555556,
              "#d8576b"
             ],
             [
              0.6666666666666666,
              "#ed7953"
             ],
             [
              0.7777777777777778,
              "#fb9f3a"
             ],
             [
              0.8888888888888888,
              "#fdca26"
             ],
             [
              1,
              "#f0f921"
             ]
            ],
            "type": "histogram2dcontour"
           }
          ],
          "mesh3d": [
           {
            "colorbar": {
             "outlinewidth": 0,
             "ticks": ""
            },
            "type": "mesh3d"
           }
          ],
          "parcoords": [
           {
            "line": {
             "colorbar": {
              "outlinewidth": 0,
              "ticks": ""
             }
            },
            "type": "parcoords"
           }
          ],
          "pie": [
           {
            "automargin": true,
            "type": "pie"
           }
          ],
          "scatter": [
           {
            "marker": {
             "colorbar": {
              "outlinewidth": 0,
              "ticks": ""
             }
            },
            "type": "scatter"
           }
          ],
          "scatter3d": [
           {
            "line": {
             "colorbar": {
              "outlinewidth": 0,
              "ticks": ""
             }
            },
            "marker": {
             "colorbar": {
              "outlinewidth": 0,
              "ticks": ""
             }
            },
            "type": "scatter3d"
           }
          ],
          "scattercarpet": [
           {
            "marker": {
             "colorbar": {
              "outlinewidth": 0,
              "ticks": ""
             }
            },
            "type": "scattercarpet"
           }
          ],
          "scattergeo": [
           {
            "marker": {
             "colorbar": {
              "outlinewidth": 0,
              "ticks": ""
             }
            },
            "type": "scattergeo"
           }
          ],
          "scattergl": [
           {
            "marker": {
             "colorbar": {
              "outlinewidth": 0,
              "ticks": ""
             }
            },
            "type": "scattergl"
           }
          ],
          "scattermapbox": [
           {
            "marker": {
             "colorbar": {
              "outlinewidth": 0,
              "ticks": ""
             }
            },
            "type": "scattermapbox"
           }
          ],
          "scatterpolar": [
           {
            "marker": {
             "colorbar": {
              "outlinewidth": 0,
              "ticks": ""
             }
            },
            "type": "scatterpolar"
           }
          ],
          "scatterpolargl": [
           {
            "marker": {
             "colorbar": {
              "outlinewidth": 0,
              "ticks": ""
             }
            },
            "type": "scatterpolargl"
           }
          ],
          "scatterternary": [
           {
            "marker": {
             "colorbar": {
              "outlinewidth": 0,
              "ticks": ""
             }
            },
            "type": "scatterternary"
           }
          ],
          "surface": [
           {
            "colorbar": {
             "outlinewidth": 0,
             "ticks": ""
            },
            "colorscale": [
             [
              0,
              "#0d0887"
             ],
             [
              0.1111111111111111,
              "#46039f"
             ],
             [
              0.2222222222222222,
              "#7201a8"
             ],
             [
              0.3333333333333333,
              "#9c179e"
             ],
             [
              0.4444444444444444,
              "#bd3786"
             ],
             [
              0.5555555555555556,
              "#d8576b"
             ],
             [
              0.6666666666666666,
              "#ed7953"
             ],
             [
              0.7777777777777778,
              "#fb9f3a"
             ],
             [
              0.8888888888888888,
              "#fdca26"
             ],
             [
              1,
              "#f0f921"
             ]
            ],
            "type": "surface"
           }
          ],
          "table": [
           {
            "cells": {
             "fill": {
              "color": "#EBF0F8"
             },
             "line": {
              "color": "white"
             }
            },
            "header": {
             "fill": {
              "color": "#C8D4E3"
             },
             "line": {
              "color": "white"
             }
            },
            "type": "table"
           }
          ]
         },
         "layout": {
          "annotationdefaults": {
           "arrowcolor": "#2a3f5f",
           "arrowhead": 0,
           "arrowwidth": 1
          },
          "autotypenumbers": "strict",
          "coloraxis": {
           "colorbar": {
            "outlinewidth": 0,
            "ticks": ""
           }
          },
          "colorscale": {
           "diverging": [
            [
             0,
             "#8e0152"
            ],
            [
             0.1,
             "#c51b7d"
            ],
            [
             0.2,
             "#de77ae"
            ],
            [
             0.3,
             "#f1b6da"
            ],
            [
             0.4,
             "#fde0ef"
            ],
            [
             0.5,
             "#f7f7f7"
            ],
            [
             0.6,
             "#e6f5d0"
            ],
            [
             0.7,
             "#b8e186"
            ],
            [
             0.8,
             "#7fbc41"
            ],
            [
             0.9,
             "#4d9221"
            ],
            [
             1,
             "#276419"
            ]
           ],
           "sequential": [
            [
             0,
             "#0d0887"
            ],
            [
             0.1111111111111111,
             "#46039f"
            ],
            [
             0.2222222222222222,
             "#7201a8"
            ],
            [
             0.3333333333333333,
             "#9c179e"
            ],
            [
             0.4444444444444444,
             "#bd3786"
            ],
            [
             0.5555555555555556,
             "#d8576b"
            ],
            [
             0.6666666666666666,
             "#ed7953"
            ],
            [
             0.7777777777777778,
             "#fb9f3a"
            ],
            [
             0.8888888888888888,
             "#fdca26"
            ],
            [
             1,
             "#f0f921"
            ]
           ],
           "sequentialminus": [
            [
             0,
             "#0d0887"
            ],
            [
             0.1111111111111111,
             "#46039f"
            ],
            [
             0.2222222222222222,
             "#7201a8"
            ],
            [
             0.3333333333333333,
             "#9c179e"
            ],
            [
             0.4444444444444444,
             "#bd3786"
            ],
            [
             0.5555555555555556,
             "#d8576b"
            ],
            [
             0.6666666666666666,
             "#ed7953"
            ],
            [
             0.7777777777777778,
             "#fb9f3a"
            ],
            [
             0.8888888888888888,
             "#fdca26"
            ],
            [
             1,
             "#f0f921"
            ]
           ]
          },
          "colorway": [
           "#636efa",
           "#EF553B",
           "#00cc96",
           "#ab63fa",
           "#FFA15A",
           "#19d3f3",
           "#FF6692",
           "#B6E880",
           "#FF97FF",
           "#FECB52"
          ],
          "font": {
           "color": "#2a3f5f"
          },
          "geo": {
           "bgcolor": "white",
           "lakecolor": "white",
           "landcolor": "#E5ECF6",
           "showlakes": true,
           "showland": true,
           "subunitcolor": "white"
          },
          "hoverlabel": {
           "align": "left"
          },
          "hovermode": "closest",
          "mapbox": {
           "style": "light"
          },
          "paper_bgcolor": "white",
          "plot_bgcolor": "#E5ECF6",
          "polar": {
           "angularaxis": {
            "gridcolor": "white",
            "linecolor": "white",
            "ticks": ""
           },
           "bgcolor": "#E5ECF6",
           "radialaxis": {
            "gridcolor": "white",
            "linecolor": "white",
            "ticks": ""
           }
          },
          "scene": {
           "xaxis": {
            "backgroundcolor": "#E5ECF6",
            "gridcolor": "white",
            "gridwidth": 2,
            "linecolor": "white",
            "showbackground": true,
            "ticks": "",
            "zerolinecolor": "white"
           },
           "yaxis": {
            "backgroundcolor": "#E5ECF6",
            "gridcolor": "white",
            "gridwidth": 2,
            "linecolor": "white",
            "showbackground": true,
            "ticks": "",
            "zerolinecolor": "white"
           },
           "zaxis": {
            "backgroundcolor": "#E5ECF6",
            "gridcolor": "white",
            "gridwidth": 2,
            "linecolor": "white",
            "showbackground": true,
            "ticks": "",
            "zerolinecolor": "white"
           }
          },
          "shapedefaults": {
           "line": {
            "color": "#2a3f5f"
           }
          },
          "ternary": {
           "aaxis": {
            "gridcolor": "white",
            "linecolor": "white",
            "ticks": ""
           },
           "baxis": {
            "gridcolor": "white",
            "linecolor": "white",
            "ticks": ""
           },
           "bgcolor": "#E5ECF6",
           "caxis": {
            "gridcolor": "white",
            "linecolor": "white",
            "ticks": ""
           }
          },
          "title": {
           "x": 0.05
          },
          "xaxis": {
           "automargin": true,
           "gridcolor": "white",
           "linecolor": "white",
           "ticks": "",
           "title": {
            "standoff": 15
           },
           "zerolinecolor": "white",
           "zerolinewidth": 2
          },
          "yaxis": {
           "automargin": true,
           "gridcolor": "white",
           "linecolor": "white",
           "ticks": "",
           "title": {
            "standoff": 15
           },
           "zerolinecolor": "white",
           "zerolinewidth": 2
          }
         }
        }
       }
      }
     },
     "metadata": {},
     "output_type": "display_data"
    }
   ],
   "source": [
    "# subtract the mean\n",
    "c2_meanzero = c2 - np.mean(c2, axis=1, keepdims=True)\n",
    "# divide by the standard deviation\n",
    "c2_std = c2_meanzero/np.std(c2_meanzero, axis=1, keepdims=True)\n",
    "# SVD\n",
    "U, S, VT = np.linalg.svd(c2_std, full_matrices=False)\n",
    "\n",
    "# make a figure showing the singular values\n",
    "svd_figure = pgo.Figure([pgo.Bar(x=np.arange(len(S)), y=S)])\n",
    "svd_figure.show()"
   ]
  },
  {
   "cell_type": "markdown",
   "id": "53efc56d",
   "metadata": {},
   "source": [
    "Compute the eigenvector of the second cluster's covariance matrix"
   ]
  },
  {
   "cell_type": "code",
   "execution_count": 64,
   "id": "bbab2785",
   "metadata": {},
   "outputs": [],
   "source": [
    "c2_cov = np.cov(c2_std.T)\n",
    "w, v2 = np.linalg.eig(c2_cov)\n",
    "v2_3 = v2[:,0:3]\n",
    "v2_6 = v2[:,0:6]\n",
    "c2_3 = c2_std @ v2_3\n",
    "c2_6 = c2_std @ v2_6\n",
    "# c2 with 3 features\n",
    "c2_3 = np.concatenate((c2_label, c2_3), axis = 1)\n",
    "# c2 with 6 features\n",
    "c2_6 = np.concatenate((c2_label, c2_6), axis = 1)"
   ]
  },
  {
   "cell_type": "markdown",
   "id": "327fd968",
   "metadata": {},
   "source": [
    "3. Standardize the 3rd cluster"
   ]
  },
  {
   "cell_type": "code",
   "execution_count": 65,
   "id": "6a336fdf",
   "metadata": {},
   "outputs": [
    {
     "data": {
      "application/vnd.plotly.v1+json": {
       "config": {
        "plotlyServerURL": "https://plot.ly"
       },
       "data": [
        {
         "type": "bar",
         "x": [
          0,
          1,
          2,
          3,
          4,
          5,
          6,
          7,
          8,
          9,
          10,
          11,
          12,
          13,
          14,
          15,
          16,
          17,
          18,
          19,
          20,
          21,
          22,
          23,
          24,
          25,
          26,
          27,
          28,
          29,
          30,
          31,
          32,
          33,
          34,
          35,
          36,
          37,
          38,
          39,
          40,
          41,
          42,
          43,
          44,
          45,
          46,
          47,
          48,
          49,
          50,
          51,
          52,
          53,
          54,
          55,
          56,
          57,
          58,
          59,
          60,
          61,
          62,
          63,
          64,
          65,
          66,
          67,
          68,
          69,
          70,
          71,
          72,
          73,
          74,
          75,
          76,
          77,
          78,
          79,
          80,
          81,
          82,
          83,
          84,
          85,
          86,
          87,
          88,
          89,
          90,
          91,
          92,
          93,
          94,
          95,
          96,
          97,
          98,
          99
         ],
         "y": [
          352.4204311835648,
          98.03948673391383,
          88.20465646079002,
          23.967638931985224,
          22.183696420179086,
          19.393655791765386,
          12.271344524374877,
          11.399861022364172,
          10.853029360843838,
          10.805867519339044,
          10.694238045807326,
          10.651533148981455,
          10.492587918285182,
          10.3960069805091,
          10.314046667970473,
          10.217753762352931,
          10.165592588578114,
          10.109290557876218,
          10.067090412962024,
          10.050898273129919,
          9.997040875684489,
          9.883831963655789,
          9.779311189714543,
          9.689390147016562,
          9.68667772963981,
          9.595872952289175,
          9.58089325754462,
          9.490140258881246,
          9.414982541275743,
          9.374487752880462,
          9.36143593544331,
          9.343445607077602,
          9.266678797359774,
          9.249207102838012,
          9.201727271844504,
          9.153071270292132,
          9.13011738818945,
          9.092439341639443,
          9.087078304084724,
          9.059278097563196,
          9.04169675124004,
          8.973077443388327,
          8.95384712811719,
          8.87516749654567,
          8.849136378494762,
          8.821624876678344,
          8.753779736263077,
          8.746974427455783,
          8.714545916809062,
          8.637469043160982,
          8.597774118631087,
          8.564712648557382,
          8.528774692843031,
          8.47738175071149,
          8.439230185407872,
          8.377217562564738,
          8.36032752759071,
          8.326657114263611,
          8.268295241466753,
          8.217468744072995,
          8.168073998833068,
          8.133148563130987,
          8.099764948465724,
          8.074841818236363,
          8.00884083535315,
          7.990946431774465,
          7.966873506917233,
          7.896141251945035,
          7.865197686927434,
          7.822577026565964,
          7.801382648437954,
          7.755324507595532,
          7.663456058961659,
          7.610323175519728,
          7.58034623493726,
          7.559214307594526,
          7.521673037077331,
          7.507923394311815,
          7.454786200254478,
          7.40268125234615,
          7.363906407545692,
          7.312461934133456,
          7.27427179352755,
          7.243797061877037,
          7.203521393757204,
          7.108003988179449,
          7.071899324060539,
          7.034886862437119,
          6.9643066449568405,
          6.938110722138423,
          6.8936890780206,
          6.761243900790155,
          6.689800297656792,
          6.66018248085613,
          6.645248134409528,
          6.543029244766081,
          6.440599541491685,
          6.434589522506768,
          6.266382046675796,
          1.3386074970934822e-14
         ]
        }
       ],
       "layout": {
        "template": {
         "data": {
          "bar": [
           {
            "error_x": {
             "color": "#2a3f5f"
            },
            "error_y": {
             "color": "#2a3f5f"
            },
            "marker": {
             "line": {
              "color": "#E5ECF6",
              "width": 0.5
             },
             "pattern": {
              "fillmode": "overlay",
              "size": 10,
              "solidity": 0.2
             }
            },
            "type": "bar"
           }
          ],
          "barpolar": [
           {
            "marker": {
             "line": {
              "color": "#E5ECF6",
              "width": 0.5
             },
             "pattern": {
              "fillmode": "overlay",
              "size": 10,
              "solidity": 0.2
             }
            },
            "type": "barpolar"
           }
          ],
          "carpet": [
           {
            "aaxis": {
             "endlinecolor": "#2a3f5f",
             "gridcolor": "white",
             "linecolor": "white",
             "minorgridcolor": "white",
             "startlinecolor": "#2a3f5f"
            },
            "baxis": {
             "endlinecolor": "#2a3f5f",
             "gridcolor": "white",
             "linecolor": "white",
             "minorgridcolor": "white",
             "startlinecolor": "#2a3f5f"
            },
            "type": "carpet"
           }
          ],
          "choropleth": [
           {
            "colorbar": {
             "outlinewidth": 0,
             "ticks": ""
            },
            "type": "choropleth"
           }
          ],
          "contour": [
           {
            "colorbar": {
             "outlinewidth": 0,
             "ticks": ""
            },
            "colorscale": [
             [
              0,
              "#0d0887"
             ],
             [
              0.1111111111111111,
              "#46039f"
             ],
             [
              0.2222222222222222,
              "#7201a8"
             ],
             [
              0.3333333333333333,
              "#9c179e"
             ],
             [
              0.4444444444444444,
              "#bd3786"
             ],
             [
              0.5555555555555556,
              "#d8576b"
             ],
             [
              0.6666666666666666,
              "#ed7953"
             ],
             [
              0.7777777777777778,
              "#fb9f3a"
             ],
             [
              0.8888888888888888,
              "#fdca26"
             ],
             [
              1,
              "#f0f921"
             ]
            ],
            "type": "contour"
           }
          ],
          "contourcarpet": [
           {
            "colorbar": {
             "outlinewidth": 0,
             "ticks": ""
            },
            "type": "contourcarpet"
           }
          ],
          "heatmap": [
           {
            "colorbar": {
             "outlinewidth": 0,
             "ticks": ""
            },
            "colorscale": [
             [
              0,
              "#0d0887"
             ],
             [
              0.1111111111111111,
              "#46039f"
             ],
             [
              0.2222222222222222,
              "#7201a8"
             ],
             [
              0.3333333333333333,
              "#9c179e"
             ],
             [
              0.4444444444444444,
              "#bd3786"
             ],
             [
              0.5555555555555556,
              "#d8576b"
             ],
             [
              0.6666666666666666,
              "#ed7953"
             ],
             [
              0.7777777777777778,
              "#fb9f3a"
             ],
             [
              0.8888888888888888,
              "#fdca26"
             ],
             [
              1,
              "#f0f921"
             ]
            ],
            "type": "heatmap"
           }
          ],
          "heatmapgl": [
           {
            "colorbar": {
             "outlinewidth": 0,
             "ticks": ""
            },
            "colorscale": [
             [
              0,
              "#0d0887"
             ],
             [
              0.1111111111111111,
              "#46039f"
             ],
             [
              0.2222222222222222,
              "#7201a8"
             ],
             [
              0.3333333333333333,
              "#9c179e"
             ],
             [
              0.4444444444444444,
              "#bd3786"
             ],
             [
              0.5555555555555556,
              "#d8576b"
             ],
             [
              0.6666666666666666,
              "#ed7953"
             ],
             [
              0.7777777777777778,
              "#fb9f3a"
             ],
             [
              0.8888888888888888,
              "#fdca26"
             ],
             [
              1,
              "#f0f921"
             ]
            ],
            "type": "heatmapgl"
           }
          ],
          "histogram": [
           {
            "marker": {
             "pattern": {
              "fillmode": "overlay",
              "size": 10,
              "solidity": 0.2
             }
            },
            "type": "histogram"
           }
          ],
          "histogram2d": [
           {
            "colorbar": {
             "outlinewidth": 0,
             "ticks": ""
            },
            "colorscale": [
             [
              0,
              "#0d0887"
             ],
             [
              0.1111111111111111,
              "#46039f"
             ],
             [
              0.2222222222222222,
              "#7201a8"
             ],
             [
              0.3333333333333333,
              "#9c179e"
             ],
             [
              0.4444444444444444,
              "#bd3786"
             ],
             [
              0.5555555555555556,
              "#d8576b"
             ],
             [
              0.6666666666666666,
              "#ed7953"
             ],
             [
              0.7777777777777778,
              "#fb9f3a"
             ],
             [
              0.8888888888888888,
              "#fdca26"
             ],
             [
              1,
              "#f0f921"
             ]
            ],
            "type": "histogram2d"
           }
          ],
          "histogram2dcontour": [
           {
            "colorbar": {
             "outlinewidth": 0,
             "ticks": ""
            },
            "colorscale": [
             [
              0,
              "#0d0887"
             ],
             [
              0.1111111111111111,
              "#46039f"
             ],
             [
              0.2222222222222222,
              "#7201a8"
             ],
             [
              0.3333333333333333,
              "#9c179e"
             ],
             [
              0.4444444444444444,
              "#bd3786"
             ],
             [
              0.5555555555555556,
              "#d8576b"
             ],
             [
              0.6666666666666666,
              "#ed7953"
             ],
             [
              0.7777777777777778,
              "#fb9f3a"
             ],
             [
              0.8888888888888888,
              "#fdca26"
             ],
             [
              1,
              "#f0f921"
             ]
            ],
            "type": "histogram2dcontour"
           }
          ],
          "mesh3d": [
           {
            "colorbar": {
             "outlinewidth": 0,
             "ticks": ""
            },
            "type": "mesh3d"
           }
          ],
          "parcoords": [
           {
            "line": {
             "colorbar": {
              "outlinewidth": 0,
              "ticks": ""
             }
            },
            "type": "parcoords"
           }
          ],
          "pie": [
           {
            "automargin": true,
            "type": "pie"
           }
          ],
          "scatter": [
           {
            "marker": {
             "colorbar": {
              "outlinewidth": 0,
              "ticks": ""
             }
            },
            "type": "scatter"
           }
          ],
          "scatter3d": [
           {
            "line": {
             "colorbar": {
              "outlinewidth": 0,
              "ticks": ""
             }
            },
            "marker": {
             "colorbar": {
              "outlinewidth": 0,
              "ticks": ""
             }
            },
            "type": "scatter3d"
           }
          ],
          "scattercarpet": [
           {
            "marker": {
             "colorbar": {
              "outlinewidth": 0,
              "ticks": ""
             }
            },
            "type": "scattercarpet"
           }
          ],
          "scattergeo": [
           {
            "marker": {
             "colorbar": {
              "outlinewidth": 0,
              "ticks": ""
             }
            },
            "type": "scattergeo"
           }
          ],
          "scattergl": [
           {
            "marker": {
             "colorbar": {
              "outlinewidth": 0,
              "ticks": ""
             }
            },
            "type": "scattergl"
           }
          ],
          "scattermapbox": [
           {
            "marker": {
             "colorbar": {
              "outlinewidth": 0,
              "ticks": ""
             }
            },
            "type": "scattermapbox"
           }
          ],
          "scatterpolar": [
           {
            "marker": {
             "colorbar": {
              "outlinewidth": 0,
              "ticks": ""
             }
            },
            "type": "scatterpolar"
           }
          ],
          "scatterpolargl": [
           {
            "marker": {
             "colorbar": {
              "outlinewidth": 0,
              "ticks": ""
             }
            },
            "type": "scatterpolargl"
           }
          ],
          "scatterternary": [
           {
            "marker": {
             "colorbar": {
              "outlinewidth": 0,
              "ticks": ""
             }
            },
            "type": "scatterternary"
           }
          ],
          "surface": [
           {
            "colorbar": {
             "outlinewidth": 0,
             "ticks": ""
            },
            "colorscale": [
             [
              0,
              "#0d0887"
             ],
             [
              0.1111111111111111,
              "#46039f"
             ],
             [
              0.2222222222222222,
              "#7201a8"
             ],
             [
              0.3333333333333333,
              "#9c179e"
             ],
             [
              0.4444444444444444,
              "#bd3786"
             ],
             [
              0.5555555555555556,
              "#d8576b"
             ],
             [
              0.6666666666666666,
              "#ed7953"
             ],
             [
              0.7777777777777778,
              "#fb9f3a"
             ],
             [
              0.8888888888888888,
              "#fdca26"
             ],
             [
              1,
              "#f0f921"
             ]
            ],
            "type": "surface"
           }
          ],
          "table": [
           {
            "cells": {
             "fill": {
              "color": "#EBF0F8"
             },
             "line": {
              "color": "white"
             }
            },
            "header": {
             "fill": {
              "color": "#C8D4E3"
             },
             "line": {
              "color": "white"
             }
            },
            "type": "table"
           }
          ]
         },
         "layout": {
          "annotationdefaults": {
           "arrowcolor": "#2a3f5f",
           "arrowhead": 0,
           "arrowwidth": 1
          },
          "autotypenumbers": "strict",
          "coloraxis": {
           "colorbar": {
            "outlinewidth": 0,
            "ticks": ""
           }
          },
          "colorscale": {
           "diverging": [
            [
             0,
             "#8e0152"
            ],
            [
             0.1,
             "#c51b7d"
            ],
            [
             0.2,
             "#de77ae"
            ],
            [
             0.3,
             "#f1b6da"
            ],
            [
             0.4,
             "#fde0ef"
            ],
            [
             0.5,
             "#f7f7f7"
            ],
            [
             0.6,
             "#e6f5d0"
            ],
            [
             0.7,
             "#b8e186"
            ],
            [
             0.8,
             "#7fbc41"
            ],
            [
             0.9,
             "#4d9221"
            ],
            [
             1,
             "#276419"
            ]
           ],
           "sequential": [
            [
             0,
             "#0d0887"
            ],
            [
             0.1111111111111111,
             "#46039f"
            ],
            [
             0.2222222222222222,
             "#7201a8"
            ],
            [
             0.3333333333333333,
             "#9c179e"
            ],
            [
             0.4444444444444444,
             "#bd3786"
            ],
            [
             0.5555555555555556,
             "#d8576b"
            ],
            [
             0.6666666666666666,
             "#ed7953"
            ],
            [
             0.7777777777777778,
             "#fb9f3a"
            ],
            [
             0.8888888888888888,
             "#fdca26"
            ],
            [
             1,
             "#f0f921"
            ]
           ],
           "sequentialminus": [
            [
             0,
             "#0d0887"
            ],
            [
             0.1111111111111111,
             "#46039f"
            ],
            [
             0.2222222222222222,
             "#7201a8"
            ],
            [
             0.3333333333333333,
             "#9c179e"
            ],
            [
             0.4444444444444444,
             "#bd3786"
            ],
            [
             0.5555555555555556,
             "#d8576b"
            ],
            [
             0.6666666666666666,
             "#ed7953"
            ],
            [
             0.7777777777777778,
             "#fb9f3a"
            ],
            [
             0.8888888888888888,
             "#fdca26"
            ],
            [
             1,
             "#f0f921"
            ]
           ]
          },
          "colorway": [
           "#636efa",
           "#EF553B",
           "#00cc96",
           "#ab63fa",
           "#FFA15A",
           "#19d3f3",
           "#FF6692",
           "#B6E880",
           "#FF97FF",
           "#FECB52"
          ],
          "font": {
           "color": "#2a3f5f"
          },
          "geo": {
           "bgcolor": "white",
           "lakecolor": "white",
           "landcolor": "#E5ECF6",
           "showlakes": true,
           "showland": true,
           "subunitcolor": "white"
          },
          "hoverlabel": {
           "align": "left"
          },
          "hovermode": "closest",
          "mapbox": {
           "style": "light"
          },
          "paper_bgcolor": "white",
          "plot_bgcolor": "#E5ECF6",
          "polar": {
           "angularaxis": {
            "gridcolor": "white",
            "linecolor": "white",
            "ticks": ""
           },
           "bgcolor": "#E5ECF6",
           "radialaxis": {
            "gridcolor": "white",
            "linecolor": "white",
            "ticks": ""
           }
          },
          "scene": {
           "xaxis": {
            "backgroundcolor": "#E5ECF6",
            "gridcolor": "white",
            "gridwidth": 2,
            "linecolor": "white",
            "showbackground": true,
            "ticks": "",
            "zerolinecolor": "white"
           },
           "yaxis": {
            "backgroundcolor": "#E5ECF6",
            "gridcolor": "white",
            "gridwidth": 2,
            "linecolor": "white",
            "showbackground": true,
            "ticks": "",
            "zerolinecolor": "white"
           },
           "zaxis": {
            "backgroundcolor": "#E5ECF6",
            "gridcolor": "white",
            "gridwidth": 2,
            "linecolor": "white",
            "showbackground": true,
            "ticks": "",
            "zerolinecolor": "white"
           }
          },
          "shapedefaults": {
           "line": {
            "color": "#2a3f5f"
           }
          },
          "ternary": {
           "aaxis": {
            "gridcolor": "white",
            "linecolor": "white",
            "ticks": ""
           },
           "baxis": {
            "gridcolor": "white",
            "linecolor": "white",
            "ticks": ""
           },
           "bgcolor": "#E5ECF6",
           "caxis": {
            "gridcolor": "white",
            "linecolor": "white",
            "ticks": ""
           }
          },
          "title": {
           "x": 0.05
          },
          "xaxis": {
           "automargin": true,
           "gridcolor": "white",
           "linecolor": "white",
           "ticks": "",
           "title": {
            "standoff": 15
           },
           "zerolinecolor": "white",
           "zerolinewidth": 2
          },
          "yaxis": {
           "automargin": true,
           "gridcolor": "white",
           "linecolor": "white",
           "ticks": "",
           "title": {
            "standoff": 15
           },
           "zerolinecolor": "white",
           "zerolinewidth": 2
          }
         }
        }
       }
      }
     },
     "metadata": {},
     "output_type": "display_data"
    }
   ],
   "source": [
    "# subtract the mean\n",
    "c3_meanzero = c3 - np.mean(c3, axis=1, keepdims=True)\n",
    "# divide by the standard deviation\n",
    "c3_std = c3_meanzero/np.std(c3_meanzero, axis=1, keepdims=True)\n",
    "# SVD\n",
    "U, S, VT = np.linalg.svd(c3_std, full_matrices=False)\n",
    "\n",
    "# make a figure showing the singular values\n",
    "svd_figure = pgo.Figure([pgo.Bar(x=np.arange(len(S)), y=S)])\n",
    "svd_figure.show()"
   ]
  },
  {
   "cell_type": "markdown",
   "id": "e3619e23",
   "metadata": {},
   "source": [
    "Compute the eigenvector of the 3rd cluster's covariance matrix"
   ]
  },
  {
   "cell_type": "code",
   "execution_count": 66,
   "id": "caf597b7",
   "metadata": {},
   "outputs": [],
   "source": [
    "c3_cov = np.cov(c3_std.T)\n",
    "w, v3 = np.linalg.eig(c3_cov)\n",
    "v3_3 = v3[:,0:3]\n",
    "v3_6 = v3[:, 0:6]\n",
    "c3_3 = c3_std @ v3_3\n",
    "c3_6 = c3_std @ v3_6\n",
    "c3_3 = np.concatenate((c3_label, c3_3), axis = 1)\n",
    "c3_6 = np.concatenate((c3_label, c3_6), axis = 1)"
   ]
  },
  {
   "cell_type": "markdown",
   "id": "eb58cf9a",
   "metadata": {},
   "source": [
    "## 4) Put the processed clusters back in place"
   ]
  },
  {
   "cell_type": "code",
   "execution_count": 67,
   "id": "d6cb0b8e",
   "metadata": {},
   "outputs": [],
   "source": [
    "count_1 = 0\n",
    "count_2 = 0\n",
    "count_3 = 0\n",
    "X = np.zeros((4500, 4))\n",
    "X6f = np.zeros((4500, 7))\n",
    "# loop through the original labels to put clusters back in place\n",
    "for i in range(X.shape[0]):\n",
    "    if count_1 == 1500:\n",
    "        count_1 -= 1\n",
    "    if count_2 == 1500:\n",
    "        count_2 -= 1\n",
    "    if count_3 == 1500:\n",
    "        count_3 -= 1\n",
    "    if his_label[i] == c1_3[count_1,0]:\n",
    "        X[i,:] = c1_3[count_1,:]\n",
    "        X6f[i,:] = c1_6[count_1,:]\n",
    "        count_1 = count_1 + 1\n",
    "    elif his_label[i] == c2_3[count_2,0]:\n",
    "        X[i,:] = c2_3[count_2,:]\n",
    "        X6f[i,:] = c2_6[count_2,:]\n",
    "        count_2 = count_2 + 1\n",
    "    else:\n",
    "        X[i,:] = c3_3[count_3,:]\n",
    "        X6f[i,:] = c3_6[count_3,:]\n",
    "        count_3 = count_3 + 1"
   ]
  },
  {
   "cell_type": "code",
   "execution_count": 68,
   "id": "07a5b85d",
   "metadata": {},
   "outputs": [
    {
     "name": "stdout",
     "output_type": "stream",
     "text": [
      "[[ 1.00950000e+05 -2.59702368e+00 -1.26912601e+00  6.06181224e+00]\n",
      " [ 1.00956000e+05  1.80500661e+00 -3.97689757e+00 -5.64866447e+00]\n",
      " [ 1.00962000e+05 -5.19788223e+00 -6.54200793e-01 -5.40409166e+00]\n",
      " [ 1.00969000e+05  1.12922744e+00 -5.37401553e+00  4.03012679e+00]\n",
      " [ 1.00974000e+05 -4.76076334e+00  1.29635386e+00 -5.42727327e+00]]\n",
      "[[ 1.00950000e+05 -2.59702368e+00 -1.26912601e+00  6.06181224e+00\n",
      "  -1.13829803e+00 -1.37695396e+00 -6.68215483e-15]\n",
      " [ 1.00956000e+05  1.80500661e+00 -3.97689757e+00 -5.64866447e+00\n",
      "  -4.95112914e-01 -1.08301463e+00 -9.34481289e-01]\n",
      " [ 1.00962000e+05 -5.19788223e+00 -6.54200793e-01 -5.40409166e+00\n",
      "  -9.17150716e-01 -8.46291016e-01 -8.82686497e-01]\n",
      " [ 1.00969000e+05  1.12922744e+00 -5.37401553e+00  4.03012679e+00\n",
      "  -1.15161486e+00  8.34387677e-01  1.60288449e-15]\n",
      " [ 1.00974000e+05 -4.76076334e+00  1.29635386e+00 -5.42727327e+00\n",
      "  -5.86367818e-01 -8.16210872e-01 -1.49653954e+00]]\n"
     ]
    }
   ],
   "source": [
    "print (X[0:5])\n",
    "print(X6f[0:5])"
   ]
  },
  {
   "cell_type": "markdown",
   "id": "2591a6dc",
   "metadata": {},
   "source": [
    "The X is the clusters put back in original order after PCA, reserving user ID and three PCA features."
   ]
  },
  {
   "cell_type": "markdown",
   "id": "4028422c",
   "metadata": {},
   "source": [
    "## 6) Fill in NAs in the Ratings matrix"
   ]
  },
  {
   "cell_type": "code",
   "execution_count": 69,
   "id": "09e12285",
   "metadata": {},
   "outputs": [
    {
     "data": {
      "text/html": [
       "<div>\n",
       "<style scoped>\n",
       "    .dataframe tbody tr th:only-of-type {\n",
       "        vertical-align: middle;\n",
       "    }\n",
       "\n",
       "    .dataframe tbody tr th {\n",
       "        vertical-align: top;\n",
       "    }\n",
       "\n",
       "    .dataframe thead th {\n",
       "        text-align: right;\n",
       "    }\n",
       "</style>\n",
       "<table border=\"1\" class=\"dataframe\">\n",
       "  <thead>\n",
       "    <tr style=\"text-align: right;\">\n",
       "      <th>PRODUCT</th>\n",
       "      <th>adrian crater</th>\n",
       "      <th>anagram mentor</th>\n",
       "      <th>apropos pizza</th>\n",
       "      <th>bandit anatomy</th>\n",
       "      <th>banjo ladder</th>\n",
       "      <th>barcode arnold</th>\n",
       "      <th>bazooka diagram</th>\n",
       "      <th>bronze mystic</th>\n",
       "      <th>calypso zigzag</th>\n",
       "      <th>casino unit</th>\n",
       "      <th>...</th>\n",
       "      <th>tourist micro</th>\n",
       "      <th>tripod stand</th>\n",
       "      <th>update lola</th>\n",
       "      <th>ventura puzzle</th>\n",
       "      <th>viking llama</th>\n",
       "      <th>violet saga</th>\n",
       "      <th>vista queen</th>\n",
       "      <th>viva avalon</th>\n",
       "      <th>voodoo planet</th>\n",
       "      <th>wheel gibson</th>\n",
       "    </tr>\n",
       "    <tr>\n",
       "      <th>USER ID</th>\n",
       "      <th></th>\n",
       "      <th></th>\n",
       "      <th></th>\n",
       "      <th></th>\n",
       "      <th></th>\n",
       "      <th></th>\n",
       "      <th></th>\n",
       "      <th></th>\n",
       "      <th></th>\n",
       "      <th></th>\n",
       "      <th></th>\n",
       "      <th></th>\n",
       "      <th></th>\n",
       "      <th></th>\n",
       "      <th></th>\n",
       "      <th></th>\n",
       "      <th></th>\n",
       "      <th></th>\n",
       "      <th></th>\n",
       "      <th></th>\n",
       "      <th></th>\n",
       "    </tr>\n",
       "  </thead>\n",
       "  <tbody>\n",
       "    <tr>\n",
       "      <th>100950</th>\n",
       "      <td>NaN</td>\n",
       "      <td>NaN</td>\n",
       "      <td>NaN</td>\n",
       "      <td>NaN</td>\n",
       "      <td>8.0</td>\n",
       "      <td>NaN</td>\n",
       "      <td>NaN</td>\n",
       "      <td>NaN</td>\n",
       "      <td>5.0</td>\n",
       "      <td>NaN</td>\n",
       "      <td>...</td>\n",
       "      <td>NaN</td>\n",
       "      <td>NaN</td>\n",
       "      <td>NaN</td>\n",
       "      <td>NaN</td>\n",
       "      <td>NaN</td>\n",
       "      <td>4.0</td>\n",
       "      <td>NaN</td>\n",
       "      <td>NaN</td>\n",
       "      <td>NaN</td>\n",
       "      <td>NaN</td>\n",
       "    </tr>\n",
       "    <tr>\n",
       "      <th>100956</th>\n",
       "      <td>NaN</td>\n",
       "      <td>NaN</td>\n",
       "      <td>NaN</td>\n",
       "      <td>NaN</td>\n",
       "      <td>NaN</td>\n",
       "      <td>5.0</td>\n",
       "      <td>NaN</td>\n",
       "      <td>NaN</td>\n",
       "      <td>NaN</td>\n",
       "      <td>NaN</td>\n",
       "      <td>...</td>\n",
       "      <td>NaN</td>\n",
       "      <td>NaN</td>\n",
       "      <td>NaN</td>\n",
       "      <td>NaN</td>\n",
       "      <td>NaN</td>\n",
       "      <td>NaN</td>\n",
       "      <td>NaN</td>\n",
       "      <td>NaN</td>\n",
       "      <td>NaN</td>\n",
       "      <td>NaN</td>\n",
       "    </tr>\n",
       "    <tr>\n",
       "      <th>100962</th>\n",
       "      <td>NaN</td>\n",
       "      <td>NaN</td>\n",
       "      <td>NaN</td>\n",
       "      <td>NaN</td>\n",
       "      <td>NaN</td>\n",
       "      <td>NaN</td>\n",
       "      <td>NaN</td>\n",
       "      <td>NaN</td>\n",
       "      <td>NaN</td>\n",
       "      <td>NaN</td>\n",
       "      <td>...</td>\n",
       "      <td>NaN</td>\n",
       "      <td>NaN</td>\n",
       "      <td>NaN</td>\n",
       "      <td>NaN</td>\n",
       "      <td>NaN</td>\n",
       "      <td>NaN</td>\n",
       "      <td>NaN</td>\n",
       "      <td>NaN</td>\n",
       "      <td>NaN</td>\n",
       "      <td>NaN</td>\n",
       "    </tr>\n",
       "    <tr>\n",
       "      <th>100969</th>\n",
       "      <td>NaN</td>\n",
       "      <td>10.0</td>\n",
       "      <td>1.0</td>\n",
       "      <td>NaN</td>\n",
       "      <td>5.0</td>\n",
       "      <td>NaN</td>\n",
       "      <td>NaN</td>\n",
       "      <td>NaN</td>\n",
       "      <td>NaN</td>\n",
       "      <td>NaN</td>\n",
       "      <td>...</td>\n",
       "      <td>NaN</td>\n",
       "      <td>NaN</td>\n",
       "      <td>5.0</td>\n",
       "      <td>NaN</td>\n",
       "      <td>NaN</td>\n",
       "      <td>0.0</td>\n",
       "      <td>NaN</td>\n",
       "      <td>NaN</td>\n",
       "      <td>8.0</td>\n",
       "      <td>2.0</td>\n",
       "    </tr>\n",
       "    <tr>\n",
       "      <th>100974</th>\n",
       "      <td>NaN</td>\n",
       "      <td>NaN</td>\n",
       "      <td>NaN</td>\n",
       "      <td>9.0</td>\n",
       "      <td>NaN</td>\n",
       "      <td>5.0</td>\n",
       "      <td>NaN</td>\n",
       "      <td>1.0</td>\n",
       "      <td>NaN</td>\n",
       "      <td>NaN</td>\n",
       "      <td>...</td>\n",
       "      <td>NaN</td>\n",
       "      <td>NaN</td>\n",
       "      <td>NaN</td>\n",
       "      <td>NaN</td>\n",
       "      <td>NaN</td>\n",
       "      <td>NaN</td>\n",
       "      <td>NaN</td>\n",
       "      <td>9.0</td>\n",
       "      <td>NaN</td>\n",
       "      <td>NaN</td>\n",
       "    </tr>\n",
       "    <tr>\n",
       "      <th>...</th>\n",
       "      <td>...</td>\n",
       "      <td>...</td>\n",
       "      <td>...</td>\n",
       "      <td>...</td>\n",
       "      <td>...</td>\n",
       "      <td>...</td>\n",
       "      <td>...</td>\n",
       "      <td>...</td>\n",
       "      <td>...</td>\n",
       "      <td>...</td>\n",
       "      <td>...</td>\n",
       "      <td>...</td>\n",
       "      <td>...</td>\n",
       "      <td>...</td>\n",
       "      <td>...</td>\n",
       "      <td>...</td>\n",
       "      <td>...</td>\n",
       "      <td>...</td>\n",
       "      <td>...</td>\n",
       "      <td>...</td>\n",
       "      <td>...</td>\n",
       "    </tr>\n",
       "    <tr>\n",
       "      <th>117440</th>\n",
       "      <td>NaN</td>\n",
       "      <td>NaN</td>\n",
       "      <td>NaN</td>\n",
       "      <td>NaN</td>\n",
       "      <td>6.0</td>\n",
       "      <td>NaN</td>\n",
       "      <td>NaN</td>\n",
       "      <td>NaN</td>\n",
       "      <td>NaN</td>\n",
       "      <td>NaN</td>\n",
       "      <td>...</td>\n",
       "      <td>NaN</td>\n",
       "      <td>NaN</td>\n",
       "      <td>4.0</td>\n",
       "      <td>6.0</td>\n",
       "      <td>NaN</td>\n",
       "      <td>NaN</td>\n",
       "      <td>NaN</td>\n",
       "      <td>NaN</td>\n",
       "      <td>NaN</td>\n",
       "      <td>5.0</td>\n",
       "    </tr>\n",
       "    <tr>\n",
       "      <th>117442</th>\n",
       "      <td>6.0</td>\n",
       "      <td>NaN</td>\n",
       "      <td>NaN</td>\n",
       "      <td>NaN</td>\n",
       "      <td>NaN</td>\n",
       "      <td>6.0</td>\n",
       "      <td>NaN</td>\n",
       "      <td>NaN</td>\n",
       "      <td>NaN</td>\n",
       "      <td>NaN</td>\n",
       "      <td>...</td>\n",
       "      <td>NaN</td>\n",
       "      <td>NaN</td>\n",
       "      <td>NaN</td>\n",
       "      <td>NaN</td>\n",
       "      <td>NaN</td>\n",
       "      <td>NaN</td>\n",
       "      <td>NaN</td>\n",
       "      <td>NaN</td>\n",
       "      <td>1.0</td>\n",
       "      <td>NaN</td>\n",
       "    </tr>\n",
       "    <tr>\n",
       "      <th>117446</th>\n",
       "      <td>NaN</td>\n",
       "      <td>NaN</td>\n",
       "      <td>NaN</td>\n",
       "      <td>NaN</td>\n",
       "      <td>NaN</td>\n",
       "      <td>NaN</td>\n",
       "      <td>NaN</td>\n",
       "      <td>NaN</td>\n",
       "      <td>NaN</td>\n",
       "      <td>3.0</td>\n",
       "      <td>...</td>\n",
       "      <td>5.0</td>\n",
       "      <td>NaN</td>\n",
       "      <td>NaN</td>\n",
       "      <td>NaN</td>\n",
       "      <td>NaN</td>\n",
       "      <td>NaN</td>\n",
       "      <td>NaN</td>\n",
       "      <td>NaN</td>\n",
       "      <td>NaN</td>\n",
       "      <td>NaN</td>\n",
       "    </tr>\n",
       "    <tr>\n",
       "      <th>117447</th>\n",
       "      <td>NaN</td>\n",
       "      <td>NaN</td>\n",
       "      <td>NaN</td>\n",
       "      <td>NaN</td>\n",
       "      <td>NaN</td>\n",
       "      <td>NaN</td>\n",
       "      <td>NaN</td>\n",
       "      <td>NaN</td>\n",
       "      <td>3.0</td>\n",
       "      <td>NaN</td>\n",
       "      <td>...</td>\n",
       "      <td>NaN</td>\n",
       "      <td>NaN</td>\n",
       "      <td>1.0</td>\n",
       "      <td>NaN</td>\n",
       "      <td>NaN</td>\n",
       "      <td>NaN</td>\n",
       "      <td>NaN</td>\n",
       "      <td>NaN</td>\n",
       "      <td>9.0</td>\n",
       "      <td>NaN</td>\n",
       "    </tr>\n",
       "    <tr>\n",
       "      <th>117449</th>\n",
       "      <td>NaN</td>\n",
       "      <td>NaN</td>\n",
       "      <td>NaN</td>\n",
       "      <td>NaN</td>\n",
       "      <td>NaN</td>\n",
       "      <td>NaN</td>\n",
       "      <td>NaN</td>\n",
       "      <td>4.0</td>\n",
       "      <td>NaN</td>\n",
       "      <td>NaN</td>\n",
       "      <td>...</td>\n",
       "      <td>7.0</td>\n",
       "      <td>NaN</td>\n",
       "      <td>NaN</td>\n",
       "      <td>NaN</td>\n",
       "      <td>NaN</td>\n",
       "      <td>NaN</td>\n",
       "      <td>NaN</td>\n",
       "      <td>NaN</td>\n",
       "      <td>NaN</td>\n",
       "      <td>NaN</td>\n",
       "    </tr>\n",
       "  </tbody>\n",
       "</table>\n",
       "<p>3000 rows × 75 columns</p>\n",
       "</div>"
      ],
      "text/plain": [
       "PRODUCT  adrian crater  anagram mentor  apropos pizza  bandit anatomy  \\\n",
       "USER ID                                                                 \n",
       "100950             NaN             NaN            NaN             NaN   \n",
       "100956             NaN             NaN            NaN             NaN   \n",
       "100962             NaN             NaN            NaN             NaN   \n",
       "100969             NaN            10.0            1.0             NaN   \n",
       "100974             NaN             NaN            NaN             9.0   \n",
       "...                ...             ...            ...             ...   \n",
       "117440             NaN             NaN            NaN             NaN   \n",
       "117442             6.0             NaN            NaN             NaN   \n",
       "117446             NaN             NaN            NaN             NaN   \n",
       "117447             NaN             NaN            NaN             NaN   \n",
       "117449             NaN             NaN            NaN             NaN   \n",
       "\n",
       "PRODUCT  banjo ladder  barcode arnold  bazooka diagram  bronze mystic  \\\n",
       "USER ID                                                                 \n",
       "100950            8.0             NaN              NaN            NaN   \n",
       "100956            NaN             5.0              NaN            NaN   \n",
       "100962            NaN             NaN              NaN            NaN   \n",
       "100969            5.0             NaN              NaN            NaN   \n",
       "100974            NaN             5.0              NaN            1.0   \n",
       "...               ...             ...              ...            ...   \n",
       "117440            6.0             NaN              NaN            NaN   \n",
       "117442            NaN             6.0              NaN            NaN   \n",
       "117446            NaN             NaN              NaN            NaN   \n",
       "117447            NaN             NaN              NaN            NaN   \n",
       "117449            NaN             NaN              NaN            4.0   \n",
       "\n",
       "PRODUCT  calypso zigzag  casino unit  ...  tourist micro  tripod stand  \\\n",
       "USER ID                               ...                                \n",
       "100950              5.0          NaN  ...            NaN           NaN   \n",
       "100956              NaN          NaN  ...            NaN           NaN   \n",
       "100962              NaN          NaN  ...            NaN           NaN   \n",
       "100969              NaN          NaN  ...            NaN           NaN   \n",
       "100974              NaN          NaN  ...            NaN           NaN   \n",
       "...                 ...          ...  ...            ...           ...   \n",
       "117440              NaN          NaN  ...            NaN           NaN   \n",
       "117442              NaN          NaN  ...            NaN           NaN   \n",
       "117446              NaN          3.0  ...            5.0           NaN   \n",
       "117447              3.0          NaN  ...            NaN           NaN   \n",
       "117449              NaN          NaN  ...            7.0           NaN   \n",
       "\n",
       "PRODUCT  update lola  ventura puzzle  viking llama  violet saga  vista queen  \\\n",
       "USER ID                                                                        \n",
       "100950           NaN             NaN           NaN          4.0          NaN   \n",
       "100956           NaN             NaN           NaN          NaN          NaN   \n",
       "100962           NaN             NaN           NaN          NaN          NaN   \n",
       "100969           5.0             NaN           NaN          0.0          NaN   \n",
       "100974           NaN             NaN           NaN          NaN          NaN   \n",
       "...              ...             ...           ...          ...          ...   \n",
       "117440           4.0             6.0           NaN          NaN          NaN   \n",
       "117442           NaN             NaN           NaN          NaN          NaN   \n",
       "117446           NaN             NaN           NaN          NaN          NaN   \n",
       "117447           1.0             NaN           NaN          NaN          NaN   \n",
       "117449           NaN             NaN           NaN          NaN          NaN   \n",
       "\n",
       "PRODUCT  viva avalon  voodoo planet  wheel gibson  \n",
       "USER ID                                            \n",
       "100950           NaN            NaN           NaN  \n",
       "100956           NaN            NaN           NaN  \n",
       "100962           NaN            NaN           NaN  \n",
       "100969           NaN            8.0           2.0  \n",
       "100974           9.0            NaN           NaN  \n",
       "...              ...            ...           ...  \n",
       "117440           NaN            NaN           5.0  \n",
       "117442           NaN            1.0           NaN  \n",
       "117446           NaN            NaN           NaN  \n",
       "117447           NaN            9.0           NaN  \n",
       "117449           NaN            NaN           NaN  \n",
       "\n",
       "[3000 rows x 75 columns]"
      ]
     },
     "execution_count": 69,
     "metadata": {},
     "output_type": "execute_result"
    }
   ],
   "source": [
    "#display full dataset\n",
    "user_ratings_table = pd.pivot_table(user_ratings,values='RATING', index='USER ID',\n",
    "                    columns='PRODUCT')\n",
    "user_ratings_table\n"
   ]
  },
  {
   "cell_type": "code",
   "execution_count": 70,
   "id": "ad0f1abe",
   "metadata": {},
   "outputs": [
    {
     "data": {
      "text/plain": [
       "array([[0., 0., 0., ..., 0., 0., 0.],\n",
       "       [0., 0., 0., ..., 0., 0., 0.],\n",
       "       [0., 0., 0., ..., 0., 0., 0.],\n",
       "       ...,\n",
       "       [0., 0., 0., ..., 0., 0., 0.],\n",
       "       [0., 0., 0., ..., 0., 9., 0.],\n",
       "       [0., 0., 0., ..., 0., 0., 0.]])"
      ]
     },
     "execution_count": 70,
     "metadata": {},
     "output_type": "execute_result"
    }
   ],
   "source": [
    "#convert the data frame to a matrix and replace nan with zeros\n",
    "userR = user_ratings_table.fillna(0)\n",
    "userR = userR.to_numpy()\n",
    "userR"
   ]
  },
  {
   "cell_type": "markdown",
   "id": "e3259b66",
   "metadata": {},
   "source": [
    "## 7) Find duplicate users and fitting a regression model on full features"
   ]
  },
  {
   "cell_type": "code",
   "execution_count": 71,
   "id": "ff58ebee",
   "metadata": {},
   "outputs": [
    {
     "data": {
      "text/html": [
       "<div>\n",
       "<style scoped>\n",
       "    .dataframe tbody tr th:only-of-type {\n",
       "        vertical-align: middle;\n",
       "    }\n",
       "\n",
       "    .dataframe tbody tr th {\n",
       "        vertical-align: top;\n",
       "    }\n",
       "\n",
       "    .dataframe thead th {\n",
       "        text-align: right;\n",
       "    }\n",
       "</style>\n",
       "<table border=\"1\" class=\"dataframe\">\n",
       "  <thead>\n",
       "    <tr style=\"text-align: right;\">\n",
       "      <th></th>\n",
       "      <th>USER ID</th>\n",
       "      <th>Exist</th>\n",
       "    </tr>\n",
       "  </thead>\n",
       "  <tbody>\n",
       "    <tr>\n",
       "      <th>0</th>\n",
       "      <td>100950</td>\n",
       "      <td>both</td>\n",
       "    </tr>\n",
       "    <tr>\n",
       "      <th>1</th>\n",
       "      <td>100950</td>\n",
       "      <td>both</td>\n",
       "    </tr>\n",
       "    <tr>\n",
       "      <th>2</th>\n",
       "      <td>100950</td>\n",
       "      <td>both</td>\n",
       "    </tr>\n",
       "    <tr>\n",
       "      <th>3</th>\n",
       "      <td>100950</td>\n",
       "      <td>both</td>\n",
       "    </tr>\n",
       "    <tr>\n",
       "      <th>4</th>\n",
       "      <td>100950</td>\n",
       "      <td>both</td>\n",
       "    </tr>\n",
       "    <tr>\n",
       "      <th>...</th>\n",
       "      <td>...</td>\n",
       "      <td>...</td>\n",
       "    </tr>\n",
       "    <tr>\n",
       "      <th>33720</th>\n",
       "      <td>117449</td>\n",
       "      <td>both</td>\n",
       "    </tr>\n",
       "    <tr>\n",
       "      <th>33721</th>\n",
       "      <td>117449</td>\n",
       "      <td>both</td>\n",
       "    </tr>\n",
       "    <tr>\n",
       "      <th>33722</th>\n",
       "      <td>117449</td>\n",
       "      <td>both</td>\n",
       "    </tr>\n",
       "    <tr>\n",
       "      <th>33723</th>\n",
       "      <td>117449</td>\n",
       "      <td>both</td>\n",
       "    </tr>\n",
       "    <tr>\n",
       "      <th>33724</th>\n",
       "      <td>117449</td>\n",
       "      <td>both</td>\n",
       "    </tr>\n",
       "  </tbody>\n",
       "</table>\n",
       "<p>33725 rows × 2 columns</p>\n",
       "</div>"
      ],
      "text/plain": [
       "       USER ID Exist\n",
       "0       100950  both\n",
       "1       100950  both\n",
       "2       100950  both\n",
       "3       100950  both\n",
       "4       100950  both\n",
       "...        ...   ...\n",
       "33720   117449  both\n",
       "33721   117449  both\n",
       "33722   117449  both\n",
       "33723   117449  both\n",
       "33724   117449  both\n",
       "\n",
       "[33725 rows x 2 columns]"
      ]
     },
     "execution_count": 71,
     "metadata": {},
     "output_type": "execute_result"
    }
   ],
   "source": [
    "#Find duplicates ID that exist in both history and ratings\n",
    "duplicates = pd.merge(user_history[\"USER ID\"], user_ratings[\"USER ID\"], how='outer', indicator='Exist')\n",
    "duplicates = duplicates.loc[duplicates['Exist'] == 'both']\n",
    "duplicates"
   ]
  },
  {
   "cell_type": "code",
   "execution_count": 72,
   "id": "15472f27",
   "metadata": {},
   "outputs": [
    {
     "name": "stdout",
     "output_type": "stream",
     "text": [
      "[[ 1.00950000e+05 -2.59702368e+00 -1.26912601e+00  6.06181224e+00]\n",
      " [ 1.00956000e+05  1.80500661e+00 -3.97689757e+00 -5.64866447e+00]\n",
      " [ 1.00962000e+05 -5.19788223e+00 -6.54200793e-01 -5.40409166e+00]\n",
      " ...\n",
      " [ 1.25629000e+05 -1.08702307e+00  6.43732680e-01  6.75333321e+00]\n",
      " [ 1.25636000e+05  1.58789932e+00  1.95978587e+00 -6.75886986e+00]\n",
      " [ 1.25645000e+05  4.20999819e+00 -9.79977880e-01 -5.86915273e+00]]\n"
     ]
    }
   ],
   "source": [
    "#keep only IDs that exist in both dataset in history\n",
    "user_his = user_history[user_history[\"USER ID\"].isin(duplicates[\"USER ID\"])]\n",
    "user_his = pd.DataFrame(user_his)\n",
    "user_his\n",
    "userR[:,0]\n",
    "print (X)"
   ]
  },
  {
   "cell_type": "code",
   "execution_count": 73,
   "id": "2d1decb4",
   "metadata": {},
   "outputs": [
    {
     "name": "stdout",
     "output_type": "stream",
     "text": [
      "Coefficients: \n",
      " [-0.15627289  0.10045419  0.18088314  0.09840717 -0.09606579  0.05738816\n",
      " -0.22745738 -0.27879114 -0.19402719 -0.01781725 -0.07629769 -0.09640856\n",
      " -0.01711316  0.14183769  0.43987017 -0.42548302 -0.05370199 -0.14138967\n",
      "  0.05094748 -0.02990476  0.28095832 -0.18766124  0.11833953 -0.09715069\n",
      " -0.2935032  -0.18047345  0.07887989  0.00388338  0.01789712 -0.32201804\n",
      "  0.32117282 -0.18887334 -0.08628224 -0.24821569  0.22285391 -0.40863919\n",
      " -0.03985729  0.00867417  0.02053839  0.14957277 -0.21544793 -0.01105673\n",
      " -0.1755516  -0.17677167  0.30869235 -0.11967231  0.16973678  0.11320999\n",
      "  0.24170644  0.06175494  0.1468441  -0.12045702 -0.15932461  0.08806965\n",
      " -0.35092353 -0.26511454  0.13509404 -0.00666074  0.04637064  0.02449703\n",
      "  0.19987408 -0.29935342  0.20086279 -0.08567959 -0.12313557 -0.00153406\n",
      "  0.11343604  0.03314426  0.07390504  0.08724655  0.24524159 -0.011683\n",
      " -0.15538853 -0.10308439  0.2464226  -0.03533681  0.10375116  0.15805232\n",
      "  0.23195298 -0.04556665 -0.21520984  0.14486738  0.30893841  0.11451947\n",
      " -0.06227093 -0.30669826  0.13316826  0.16626935  0.11463723  0.0129384\n",
      "  0.25811521 -0.10697088 -0.07850355 -0.05993794  0.13414708 -0.25522624\n",
      "  0.34168806 -0.0524449   0.29959986 -0.10566391]\n",
      "Mean squared error:  4.329353826660119\n"
     ]
    },
    {
     "data": {
      "image/png": "[encoded data removed]",
      "text/plain": [
       "<Figure size 432x288 with 1 Axes>"
      ]
     },
     "metadata": {},
     "output_type": "display_data"
    }
   ],
   "source": [
    "#fit regression model\n",
    "y = userR[:,0] #set y, you can change columns of userR to fit each product to a regression model\n",
    "user_hisw = user_his.drop(['USER ID'],axis=1)\n",
    "n,p = user_hisw.shape\n",
    "X1 = np.ones((n, p + 1)) #add intercept\n",
    "X1[:, 1:] = user_hisw\n",
    "\n",
    "#compute betahat\n",
    "U, S, Vt = np.linalg.svd(X1[:,1:].T @ X1[:,1:])\n",
    "betat = Vt.T @ (U.T @ (X1[:,1:].T @ y) / S)\n",
    "betat\n",
    "# compute predictions\n",
    "y_pred = X1[:,1:] @ betat\n",
    "# compute MSE\n",
    "MSE = np.mean((y - y_pred) ** 2)\n",
    "\n",
    "# The coefficients\n",
    "print('Coefficients: \\n', betat)\n",
    "# The mean squared error\n",
    "print('Mean squared error: ', MSE)\n",
    "\n",
    "#plot the output\n",
    "plt.scatter(X1[:, 3], y,  color='black')\n",
    "plt.plot(X1[:, 3], y_pred, 'ob')\n",
    "\n",
    "plt.xticks(())\n",
    "plt.yticks(())\n",
    "\n",
    "plt.show()"
   ]
  },
  {
   "cell_type": "markdown",
   "id": "c830a151",
   "metadata": {},
   "source": [
    "## 8) Matrix Completion via Gradient Descent"
   ]
  },
  {
   "cell_type": "code",
   "execution_count": 74,
   "id": "46f18f6b",
   "metadata": {},
   "outputs": [],
   "source": [
    "# Matrix completion via gradient descent\n",
    "class Matrix_completion():\n",
    "    \n",
    "    def __init__(self, R, K, alpha, beta, iters):\n",
    "        \n",
    "        self.R = R\n",
    "        self.users, self.movies = R.shape\n",
    "        self.K = K\n",
    "        self.alpha = alpha\n",
    "        self.beta = beta\n",
    "        self.iters = iters\n",
    "        \"\"\" \n",
    "        R = the input dataset\n",
    "        num_users = user features\n",
    "        num_movies = movie features\n",
    "        K = low rank approxiamation\n",
    "        alpha = the learning rate\n",
    "        beta = regularization\n",
    "        iters = number of iterations\n",
    "        \"\"\"\n",
    "    # training process by sgd\n",
    "    def train(self):\n",
    "        # construct two random matrix for Pt, Qt\n",
    "        self.Pt = np.random.normal(scale=1./self.K, size=(self.users, self.K))\n",
    "        self.Qt = np.random.normal(scale=1./self.K, size=(self.movies, self.K))\n",
    "        \n",
    "        # construct matrix for bias\n",
    "        self.userb = np.zeros(self.users)\n",
    "        self.movieb = np.zeros(self.movies)\n",
    "        self.b = np.mean(self.R[np.where(self.R != 0)])\n",
    "        \n",
    "        # Create a training sample\n",
    "        self.samples = [\n",
    "            (i, j, self.R[i, j])\n",
    "            for i in range(self.users)\n",
    "            for j in range(self.movies)\n",
    "            if self.R[i, j] > 0\n",
    "        ]\n",
    "        \n",
    "        # SGD with defined iterations\n",
    "        training = []\n",
    "        for i in range(self.iters):\n",
    "            np.random.shuffle(self.samples)\n",
    "            self.sgd()\n",
    "            mse = self.mse()\n",
    "            training.append((i, mse))\n",
    "            if (i+1) % 10 == 0:\n",
    "                print(\"Iteration: %d ; error = %.4f\" % (i+1, mse))\n",
    "        \n",
    "        return training\n",
    "    \n",
    "    # compute the mean square error\n",
    "    def mse(self):\n",
    "        \n",
    "        xs, ys = self.R.nonzero()\n",
    "        predicted = self.approximation()\n",
    "        error = 0\n",
    "        for x, y in zip(xs, ys):\n",
    "            error += pow(self.R[x, y] - predicted[x, y], 2)\n",
    "        return np.sqrt(error)\n",
    "\n",
    "    #compute SGD\n",
    "    def sgd(self):\n",
    "        \n",
    "        for i, j, r in self.samples:\n",
    "            # Compute prediction and error\n",
    "            prediction = self.Prediction(i, j)\n",
    "            e = (r - prediction)\n",
    "            \n",
    "            # Update biases\n",
    "            self.userb[i] += self.alpha * (e - self.beta * self.userb[i])\n",
    "            self.movieb[j] += self.alpha * (e - self.beta * self.movieb[j])\n",
    "            \n",
    "            # create another P since we need previous P to compute Q\n",
    "            P_i = self.Pt[i, :][:]\n",
    "            \n",
    "            # update predicted ratings\n",
    "            self.Pt[i, :] += self.alpha * (e * self.Qt[j, :] - self.beta * self.Pt[i,:])\n",
    "            self.Qt[j, :] += self.alpha * (e * P_i - self.beta * self.Qt[j,:])\n",
    "      \n",
    "    # compute predictions\n",
    "    def Prediction(self, i, j):\n",
    "        \n",
    "        prediction = self.b + self.userb[i] + self.movieb[j] + self.Pt[i, :].dot(self.Qt[j, :].T)\n",
    "        return prediction\n",
    "    \n",
    "    # compute the estimated full matrix of ratings by Pt, Qt and bias\n",
    "    def approximation(self):\n",
    "        \n",
    "        return mf.b + mf.userb[:,np.newaxis] + mf.movieb[np.newaxis:,] + mf.Pt.dot(mf.Qt.T)\n"
   ]
  },
  {
   "cell_type": "code",
   "execution_count": 75,
   "id": "de3e9998",
   "metadata": {},
   "outputs": [],
   "source": [
    "mf = Matrix_completion(userR, K=10, alpha=0.01, beta=0.001, iters=50)"
   ]
  },
  {
   "cell_type": "code",
   "execution_count": 76,
   "id": "2faf653a",
   "metadata": {},
   "outputs": [
    {
     "name": "stdout",
     "output_type": "stream",
     "text": [
      "Iteration: 10 ; error = 113.6516\n",
      "Iteration: 20 ; error = 65.2411\n",
      "Iteration: 30 ; error = 53.8212\n",
      "Iteration: 40 ; error = 48.5540\n",
      "Iteration: 50 ; error = 45.4633\n",
      "[[ 4.49953421  7.54396165  6.22764979 ...  2.7389307   7.33727606\n",
      "   7.4574729 ]\n",
      " [ 3.81512278  8.06669629  7.65173351 ...  6.5285085   2.09104616\n",
      "   4.30362545]\n",
      " [ 8.38514369 13.01852251  2.81213631 ...  7.71631871  7.39865771\n",
      "   6.59771704]\n",
      " ...\n",
      " [ 8.6335718  -0.82851168  3.36961235 ...  2.07757308  2.93756596\n",
      "   2.24370066]\n",
      " [ 7.52123025  9.70697387  2.57410745 ...  3.75833484  9.22946676\n",
      "   5.10212741]\n",
      " [ 8.27631084  1.45877386  1.72169241 ...  4.03297025  3.17089419\n",
      "   4.73144891]]\n"
     ]
    }
   ],
   "source": [
    "training = mf.train()\n",
    "print(mf.approximation())\n",
    "sd = mf.approximation()"
   ]
  },
  {
   "cell_type": "markdown",
   "id": "c7e65a87",
   "metadata": {},
   "source": [
    "## 9) Linear regression with PCA features via Stochastic Gradient Descent"
   ]
  },
  {
   "cell_type": "code",
   "execution_count": 77,
   "id": "e9e7e991",
   "metadata": {},
   "outputs": [
    {
     "data": {
      "image/png": "[encoded data removed]",
      "text/plain": [
       "<Figure size 1152x288 with 1 Axes>"
      ]
     },
     "metadata": {
      "needs_background": "light"
     },
     "output_type": "display_data"
    }
   ],
   "source": [
    "#plot the convergence of mean square error\n",
    "x = [x for x, y in training]\n",
    "y = [y for x, y in training]\n",
    "plt.figure(figsize=((16,4)))\n",
    "plt.plot(x, y)\n",
    "plt.xticks(x, x)\n",
    "plt.xlabel(\"Iterations\")\n",
    "plt.ylabel(\"Mean Square Error\")\n",
    "plt.grid(axis=\"y\")"
   ]
  },
  {
   "cell_type": "code",
   "execution_count": 78,
   "id": "eba6c4db",
   "metadata": {},
   "outputs": [
    {
     "name": "stdout",
     "output_type": "stream",
     "text": [
      "[[ 1.00950000e+05 -2.59702368e+00 -1.26912601e+00  6.06181224e+00]\n",
      " [ 1.00956000e+05  1.80500661e+00 -3.97689757e+00 -5.64866447e+00]\n",
      " [ 1.00962000e+05 -5.19788223e+00 -6.54200793e-01 -5.40409166e+00]\n",
      " ...\n",
      " [ 1.25629000e+05 -1.08702307e+00  6.43732680e-01  6.75333321e+00]\n",
      " [ 1.25636000e+05  1.58789932e+00  1.95978587e+00 -6.75886986e+00]\n",
      " [ 1.25645000e+05  4.20999819e+00 -9.79977880e-01 -5.86915273e+00]]\n",
      "(4500, 4)\n"
     ]
    }
   ],
   "source": [
    "print(X)\n",
    "print(X.shape)"
   ]
  },
  {
   "cell_type": "code",
   "execution_count": 79,
   "id": "63971e32",
   "metadata": {},
   "outputs": [],
   "source": [
    "# compute betahat using 6 features\n",
    "\n",
    "X2_6 = np.delete(X6f,0,1)\n",
    "X2_6 = X2_6[:3000,:]\n",
    "X3_6 = np.ones([3000,7])\n",
    "X3_6[:,1:] = X2_6\n",
    "betat_6 = np.linalg.lstsq(X3_6,sd,rcond = None)[0]\n",
    "betat_6 = betat_6.T  # betat_6 by directly using least square regression from 6 features"
   ]
  },
  {
   "cell_type": "code",
   "execution_count": 80,
   "id": "53079815",
   "metadata": {},
   "outputs": [
    {
     "name": "stdout",
     "output_type": "stream",
     "text": [
      "[[ 4.13231036e+00  5.34927841e-03 -5.58316128e-01 -1.68882613e-02\n",
      "  -2.60169882e-01 -6.53984261e-01 -3.48362177e-01]\n",
      " [ 4.07154953e+00 -2.58379911e-01 -3.68272148e-01  1.99580576e-02\n",
      "   7.27147244e-02 -9.61126444e-01  1.99761999e-01]\n",
      " [ 3.68302618e+00 -4.06540633e-02  4.08979521e-01 -7.90699813e-02\n",
      "  -2.96865387e-01 -8.22707718e-01  4.56100278e-01]\n",
      " [ 4.34986284e+00 -4.21168531e-01 -1.56024578e-01  6.53914990e-03\n",
      "  -6.05170993e-02 -6.82711083e-01  2.87365920e-01]\n",
      " [ 3.86869549e+00 -3.71920947e-01 -1.29107997e-01 -2.31499670e-02\n",
      "  -8.14463337e-02 -9.13861811e-01 -7.79240060e-02]\n",
      " [ 3.73127274e+00 -5.31593508e-01 -4.86151660e-01 -6.67310397e-02\n",
      "  -3.33360027e-01 -9.22921231e-01  2.44164954e-01]\n",
      " [ 3.82002011e+00 -5.30321842e-02 -3.22631574e-01 -7.51231625e-02\n",
      "  -5.21948883e-02 -1.25241241e+00  4.18240133e-01]\n",
      " [ 3.46314561e+00  2.89343954e-01 -3.32170452e-01 -7.64721593e-02\n",
      "  -1.99844604e-01 -1.17888924e+00  3.96048512e-01]\n",
      " [ 3.72515829e+00  4.33948988e-01  3.35248263e-01  8.54297090e-03\n",
      "  -4.42063811e-02 -9.03145340e-01  1.29438381e-01]\n",
      " [ 3.98705187e+00  3.62371986e-01 -1.48503383e-03 -8.55599013e-02\n",
      "  -2.36843466e-01 -6.45850612e-01  1.47530931e-01]\n",
      " [ 3.51748784e+00  2.87461475e-01 -7.08278573e-02 -5.19250645e-02\n",
      "  -1.71331387e-01 -9.80764427e-01  1.67783604e-01]\n",
      " [ 3.89870703e+00 -4.55521791e-01  6.51831260e-01 -3.44527756e-02\n",
      "  -2.97121293e-01 -8.63199254e-01  1.43416772e-01]\n",
      " [ 4.00428556e+00 -1.44220896e-01 -1.57183693e-01 -6.43251291e-02\n",
      "   7.27527852e-02 -6.11607233e-01  4.49732783e-02]\n",
      " [ 3.55681645e+00  3.28309012e-01 -2.14255636e-01 -8.12153567e-02\n",
      "  -3.43647282e-01 -1.02574718e+00  2.07560876e-01]\n",
      " [ 3.86356911e+00 -3.96135724e-01 -2.03375824e-01 -3.70237136e-02\n",
      "  -4.62268294e-01 -7.10432356e-01  7.42743855e-02]\n",
      " [ 4.20165557e+00 -4.58878789e-03 -6.53451925e-01 -4.83895046e-02\n",
      "  -3.67770102e-01 -5.67957191e-01 -2.92180695e-01]\n",
      " [ 3.79233407e+00  1.86370200e-01  1.84430761e-01 -6.34466922e-02\n",
      "  -4.04398908e-01 -8.68332043e-01  3.06083471e-01]\n",
      " [ 3.86407386e+00  9.19767634e-02  7.91059376e-02  5.77614752e-03\n",
      "  -2.83516320e-02 -8.11154126e-01 -6.03081798e-02]\n",
      " [ 3.82760399e+00 -1.93977878e-01  2.51998127e-01  5.93837215e-03\n",
      "  -1.09541700e-01 -8.62461931e-01  1.50991643e-01]\n",
      " [ 3.85968016e+00  2.01451113e-01  7.05922253e-01 -6.79014627e-02\n",
      "  -3.34027735e-01 -8.81694880e-01  2.75403233e-01]\n",
      " [ 3.98350602e+00 -5.60450002e-01  9.83121637e-02 -8.00429509e-04\n",
      "  -1.88696996e-01 -7.62328764e-01 -4.20896798e-01]\n",
      " [ 3.86510318e+00 -3.03445308e-01 -6.01573378e-01 -2.11596715e-02\n",
      "  -1.81197749e-01 -1.07743198e+00  4.31600154e-01]\n",
      " [ 3.59967821e+00 -1.27457250e-01  5.45539346e-01 -4.53354593e-02\n",
      "  -3.96789063e-01 -9.99738261e-01  8.17908429e-02]\n",
      " [ 3.92014122e+00 -6.36580285e-01 -1.99657607e-01  1.17516257e-02\n",
      "   1.14576095e-01 -9.14622417e-01  1.41088434e-01]\n",
      " [ 3.82566642e+00  3.88888778e-02 -6.52822146e-02 -5.36780117e-02\n",
      "  -1.58368681e-01 -6.76115111e-01  2.08508723e-01]\n",
      " [ 3.77673892e+00  1.23164197e-01  5.17549908e-01  4.07214006e-02\n",
      "   1.32537577e-03 -8.92558141e-01 -3.09631603e-01]\n",
      " [ 4.46182250e+00  4.74360224e-01  3.04171990e-01 -9.14806929e-02\n",
      "  -3.54956637e-01 -3.68455697e-01  5.16722438e-01]\n",
      " [ 3.57920006e+00  4.94960890e-01 -2.44828359e-01 -3.06326648e-02\n",
      "  -3.96957268e-02 -1.29106557e+00  7.90738745e-02]\n",
      " [ 3.77744110e+00  1.19502970e-01  4.24338437e-01 -2.86019929e-02\n",
      "  -1.75068752e-01 -8.67693827e-01  6.70044872e-02]\n",
      " [ 4.03619562e+00  4.35199116e-01  1.77270257e-01 -4.49873520e-02\n",
      "  -9.44001108e-02 -6.71553781e-01  2.45627978e-01]\n",
      " [ 3.73417457e+00 -2.97233306e-01 -4.77469076e-01 -1.99086076e-02\n",
      "  -4.10470667e-03 -6.96877101e-01 -2.48485558e-01]\n",
      " [ 3.97082173e+00  5.15287523e-01 -5.86232774e-01 -3.72950173e-02\n",
      "   1.38357088e-01 -1.08954743e+00  1.90629234e-01]\n",
      " [ 3.60929438e+00 -2.25812687e-01 -2.82958334e-01  4.82477192e-02\n",
      "   1.14312773e-01 -1.11164714e+00 -1.06699660e-01]\n",
      " [ 3.72632128e+00 -3.51632831e-01  5.75592854e-01 -4.21719054e-02\n",
      "  -2.97823849e-01 -7.38070593e-01  1.55070310e-01]\n",
      " [ 4.34651747e+00 -4.31793552e-01  1.62486683e-01 -6.73696872e-02\n",
      "  -3.07924545e-01 -2.90025503e-01 -4.23283623e-02]\n",
      " [ 3.82674245e+00  1.99427576e-01  2.12688697e-01 -3.45535578e-02\n",
      "  -1.07910272e-01 -7.93960334e-01  3.15369056e-01]\n",
      " [ 3.68605817e+00  1.63572248e-01 -4.50024211e-01 -6.68404788e-02\n",
      "  -2.19865136e-01 -1.25093446e+00  5.72132910e-01]\n",
      " [ 4.00493045e+00 -2.81284075e-01  9.14903201e-02 -5.61201785e-02\n",
      "  -2.08690027e-01 -7.88654806e-01  4.00362882e-01]\n",
      " [ 3.45403474e+00  5.20944785e-01  3.71616219e-01 -3.31500569e-02\n",
      "  -1.57103572e-01 -9.79399386e-01  1.42331713e-01]\n",
      " [ 3.37954224e+00 -3.29038479e-01 -1.60946983e-01 -3.16570685e-02\n",
      "  -1.04443519e-01 -9.18586721e-01 -2.42388068e-01]\n",
      " [ 3.87057931e+00 -3.92158031e-01  2.43136489e-01 -4.19998625e-02\n",
      "  -2.23009189e-01 -8.13596439e-01  4.07811556e-01]\n",
      " [ 3.46429926e+00  3.12507825e-01  1.53445467e-01 -4.49314643e-02\n",
      "  -1.93338498e-01 -1.06830003e+00  1.90227777e-01]\n",
      " [ 3.85117463e+00  4.16460288e-01 -4.93823045e-02  3.65195986e-03\n",
      "   1.05327359e-01 -8.89876837e-01 -1.50221479e-01]\n",
      " [ 3.92503718e+00 -5.15590803e-01  6.22581309e-01  1.96787835e-02\n",
      "   1.63219292e-01 -8.09612833e-01  9.79582708e-02]\n",
      " [ 3.73469528e+00  4.47918096e-01  8.42616516e-03 -6.59186192e-02\n",
      "  -2.15351264e-01 -7.24046119e-01  3.55901366e-02]\n",
      " [ 3.24090112e+00  5.79151501e-01 -2.89704668e-01 -9.37640137e-02\n",
      "  -2.64538470e-01 -1.20222949e+00  2.68331471e-01]\n",
      " [ 3.57456724e+00 -3.13560926e-02 -1.83622033e-02  1.36292192e-02\n",
      "   4.64947613e-02 -8.44485424e-01 -3.90188414e-01]\n",
      " [ 4.17034788e+00  2.74144225e-01  1.17233868e-01  3.92775606e-02\n",
      "   2.09812728e-01 -7.50108754e-01  1.57220934e-01]\n",
      " [ 3.20096867e+00 -1.36173606e-01  5.00365920e-01 -5.66392096e-02\n",
      "  -2.06535756e-01 -1.22290769e+00  3.65557606e-01]\n",
      " [ 3.50979212e+00  4.36759940e-01 -2.88673189e-02 -2.52109029e-02\n",
      "  -1.48394829e-01 -1.04434019e+00  2.37152782e-01]\n",
      " [ 4.19984273e+00 -5.06843942e-01 -3.34113099e-01 -1.82015672e-03\n",
      "  -4.41473786e-02 -7.19959310e-01  2.20684062e-02]\n",
      " [ 3.43372872e+00  3.75306210e-01  2.54072837e-01 -5.07221147e-02\n",
      "  -2.71393246e-01 -1.31525434e+00  3.28555664e-01]\n",
      " [ 3.57324736e+00  1.00537066e-01  7.36146296e-01 -1.67019428e-02\n",
      "  -1.77241037e-01 -8.48218358e-01  1.69331659e-02]\n",
      " [ 3.94192860e+00 -1.58575999e-01  7.01298456e-01 -1.99350068e-02\n",
      "  -1.09319501e-01 -8.94595917e-01  1.67327596e-01]\n",
      " [ 3.58630419e+00 -6.53213235e-02  7.71055127e-01 -1.52555402e-02\n",
      "   1.16334278e-01 -8.44052004e-01  2.53106005e-01]\n",
      " [ 4.00041370e+00  1.07485511e-01  5.42942072e-01  5.41779529e-03\n",
      "  -3.60210858e-02 -4.89309721e-01 -2.19164809e-01]\n",
      " [ 3.69160824e+00 -3.65598148e-01  5.42283457e-01 -7.16162234e-03\n",
      "  -1.74902483e-01 -9.00040271e-01 -6.41562775e-02]\n",
      " [ 4.17445739e+00  6.60894816e-01 -6.54409097e-02 -4.49415402e-02\n",
      "  -3.54113500e-01 -6.47376280e-01  1.03155137e-01]\n",
      " [ 3.71220019e+00  5.79686597e-02  6.89746802e-01 -4.97599910e-02\n",
      "  -3.23181359e-01 -9.35306547e-01  4.45430630e-02]\n",
      " [ 3.71880465e+00  9.84656245e-02 -7.96906115e-01  8.88888819e-04\n",
      "   8.45748825e-02 -9.00880414e-01 -3.61613512e-01]\n",
      " [ 4.16784107e+00 -1.42965205e-01  3.02987807e-01  1.72828045e-02\n",
      "  -1.13326433e-01 -5.81637251e-01 -3.74830205e-01]\n",
      " [ 3.72351028e+00  4.49735657e-02 -4.76369986e-02 -6.06996985e-02\n",
      "  -1.51063059e-01 -8.83472598e-01  4.16433096e-01]\n",
      " [ 3.76644047e+00  2.14899553e-01 -7.09524433e-01 -2.78085646e-02\n",
      "  -1.91406673e-01 -8.99241566e-01 -2.37722292e-01]\n",
      " [ 3.75914773e+00 -4.02407681e-01  6.42963255e-01  7.62483704e-03\n",
      "  -6.84087459e-02 -1.01530231e+00  8.10015298e-02]\n",
      " [ 3.67763255e+00 -1.46754629e-01 -7.68650250e-02 -5.65078350e-02\n",
      "  -2.35558044e-01 -9.07469255e-01  1.21951259e-01]\n",
      " [ 4.06204331e+00  2.92957296e-01 -2.14712873e-01 -9.29891067e-03\n",
      "   5.33389735e-02 -4.29321301e-01 -2.84622177e-01]\n",
      " [ 3.43648259e+00 -3.64525298e-01  4.80151074e-01  1.18062456e-02\n",
      "  -5.63579143e-02 -1.26512702e+00 -1.00453087e-01]\n",
      " [ 3.88671315e+00  5.35872854e-01  3.02121643e-01 -6.62130523e-02\n",
      "  -2.45443840e-01 -9.18188270e-01  3.48992723e-01]\n",
      " [ 3.52337909e+00  8.25427469e-02  3.37646991e-01 -5.02701801e-02\n",
      "  -3.05594359e-01 -1.12997082e+00  3.09835253e-01]\n",
      " [ 3.78144747e+00  2.61019878e-01  2.06125314e-01 -1.61954313e-02\n",
      "   1.06339216e-01 -8.03015867e-01  6.42005897e-02]\n",
      " [ 3.91194988e+00 -2.90321760e-01  2.87367787e-01 -1.93754284e-02\n",
      "  -1.39707354e-01 -7.85042948e-01  1.82132175e-01]\n",
      " [ 4.21144343e+00 -6.54714510e-02 -1.74730507e-02 -5.74069889e-02\n",
      "  -2.03301742e-01 -7.73676674e-01  4.49280007e-01]\n",
      " [ 3.81186566e+00  7.82691121e-02  6.33826531e-01 -3.44496234e-02\n",
      "  -1.92543575e-01 -9.17957205e-01  3.63990750e-01]\n",
      " [ 4.28100842e+00 -2.51345975e-01 -1.93856862e-01  2.36698607e-02\n",
      "   1.72826878e-01 -3.88127197e-01 -2.18657141e-01]\n",
      " [ 4.14094057e+00 -6.35886389e-01  2.35736813e-01 -2.27534587e-03\n",
      "  -1.93571237e-01 -5.22803132e-01  1.10834190e-01]]\n"
     ]
    }
   ],
   "source": [
    "# gradient descent using 6 features\n",
    "\n",
    "def F(beta,X,Y):\n",
    "    return np.linalg.norm(X @ beta.T - Y) ** 2\n",
    "\n",
    "def s_grad_F_j(beta, X, Y):\n",
    "    return 2 * (X @ beta - Y) * X\n",
    "\n",
    "niter = 1000\n",
    "n = 3000\n",
    "betatp = np.zeros((niter, len(X3_6[0])))\n",
    "betat_ave = np.zeros((niter, len(X3_6[0])))\n",
    "\n",
    "XtX = X3_6.T @ X3_6\n",
    "eta = 0.01\n",
    "resultp = np.zeros((75,7))  \n",
    "\n",
    "conv = np.zeros ((niter))\n",
    "conv[0] = np.linalg.norm(betatp[0,:] - betat_6)\n",
    "\n",
    "conv_ave = np.zeros(niter)\n",
    "conv_ave[0] = np.linalg.norm(betat_ave[0,:] - betat_6)\n",
    "\n",
    "for i in range (len(sd[0])):\n",
    "    Y = sd[:,i]\n",
    "\n",
    "    for t in range(1, niter):\n",
    "        j = np.random.randint(n)\n",
    "        betatp[t, :] = betatp[t-1, :] - eta * s_grad_F_j(betatp[t-1, :], X3_6[j,:], Y[j])\n",
    "        betat_ave[t, :] = 1/(t+1) * betatp[t, :] + (t)/(t+1) * betat_ave[t-1, :]\n",
    "        conv[t] = np.linalg.norm(betatp[t,:] - betat_6)\n",
    "        conv_ave[t] = np.linalg.norm(betat_ave[t,:] - betat_6)\n",
    "        \n",
    "    resultp[i,:] = betat_ave[-1,:]\n",
    "\n",
    "print (resultp)"
   ]
  },
  {
   "cell_type": "code",
   "execution_count": 81,
   "id": "f9a79c03",
   "metadata": {},
   "outputs": [
    {
     "name": "stdout",
     "output_type": "stream",
     "text": [
      "[[ 5.26541953e+00 -2.31283674e-02 -5.97712252e-01  1.46230834e-02]\n",
      " [ 5.20814143e+00 -3.47583486e-01 -3.33522504e-01  3.37981292e-03]\n",
      " [ 4.77464527e+00  1.17294691e-03  3.93128790e-01 -5.72623259e-03]\n",
      " [ 5.13129679e+00 -4.11898932e-01 -5.04935105e-02  3.57147082e-02]\n",
      " [ 5.19504294e+00 -3.94096358e-01 -1.47811820e-01 -3.15060457e-04]\n",
      " [ 5.16345898e+00 -5.63306842e-01 -5.36514307e-01  7.66899138e-03]\n",
      " [ 5.19312342e+00 -9.77248550e-02 -3.63971965e-01 -3.73808560e-03]\n",
      " [ 5.02422954e+00  2.86134840e-01 -2.36474268e-01 -3.02991283e-02]\n",
      " [ 4.76846604e+00  4.36959207e-01  3.63252309e-01 -7.56750721e-03]\n",
      " [ 5.07157034e+00  3.05218733e-01 -2.64152473e-02 -1.87695300e-02]\n",
      " [ 4.97206644e+00  2.79460101e-01 -7.24472554e-02 -9.34577313e-03]\n",
      " [ 5.25289491e+00 -4.20527056e-01  7.44913415e-01  2.89088519e-02]\n",
      " [ 5.00312141e+00 -1.04092396e-01 -2.07031684e-01 -1.77184368e-02]\n",
      " [ 5.14448872e+00  2.47856451e-01 -2.76583545e-01 -2.76668788e-03]\n",
      " [ 5.09160888e+00 -3.62081323e-01 -2.57137947e-01  2.30333270e-02]\n",
      " [ 5.24226382e+00 -4.84135670e-02 -5.89834047e-01  8.40390896e-03]\n",
      " [ 4.99003589e+00  1.92672919e-01  1.62091239e-01  7.16371925e-03]\n",
      " [ 4.97687470e+00  6.97951091e-02  1.65790569e-02 -5.84052029e-03]\n",
      " [ 5.03013324e+00 -1.99385890e-01  2.99629312e-01  3.21304116e-02]\n",
      " [ 5.12467972e+00  2.13463748e-01  7.48067076e-01  9.99518857e-03]\n",
      " [ 5.01348445e+00 -4.92711667e-01  7.31520592e-02  1.17470953e-02]\n",
      " [ 5.16437321e+00 -2.83478612e-01 -5.32409826e-01  1.34943957e-02]\n",
      " [ 5.11149814e+00 -1.66019201e-01  5.22177993e-01  1.48666169e-02]\n",
      " [ 5.02124285e+00 -6.75559888e-01 -2.60353332e-01  3.54974668e-03]\n",
      " [ 5.01221947e+00  3.52219956e-03 -1.32985142e-02 -1.53532700e-02]\n",
      " [ 5.17524564e+00  6.32827363e-02  4.59425830e-01  1.91958597e-02]\n",
      " [ 5.18404398e+00  4.92910266e-01  3.65581835e-01  1.56305985e-02]\n",
      " [ 5.21216119e+00  4.16315277e-01 -2.30567710e-01 -2.50925882e-02]\n",
      " [ 5.16470924e+00  1.01067335e-01  4.29340951e-01  6.20679326e-03]\n",
      " [ 5.03377653e+00  3.98156866e-01  1.72148959e-01 -1.52023483e-03]\n",
      " [ 4.99006072e+00 -3.23255291e-01 -5.02898902e-01  3.59524479e-03]\n",
      " [ 5.19946034e+00  5.15098067e-01 -5.41750110e-01 -2.88696953e-02]\n",
      " [ 5.18592308e+00 -2.04135777e-01 -2.60564485e-01  4.49152025e-03]\n",
      " [ 4.94727551e+00 -3.78613938e-01  5.37233483e-01  2.15811661e-02]\n",
      " [ 5.05760793e+00 -4.96796849e-01  1.35884541e-01  3.54067483e-03]\n",
      " [ 5.07936154e+00  2.14273628e-01  1.98325486e-01  2.22690069e-03]\n",
      " [ 4.99882727e+00  2.01509795e-01 -4.26880092e-01 -2.77392045e-02]\n",
      " [ 5.06596350e+00 -2.48856398e-01  1.09489755e-01 -5.94896528e-04]\n",
      " [ 5.02257419e+00  4.94376306e-01  3.85188277e-01  1.34172778e-03]\n",
      " [ 5.08953097e+00 -3.24095011e-01 -2.23423550e-01  1.23143333e-02]\n",
      " [ 5.06333035e+00 -4.75889121e-01  3.62846695e-01  2.41006618e-02]\n",
      " [ 4.95015220e+00  3.14463505e-01  1.48390723e-01 -8.47299701e-03]\n",
      " [ 5.12991426e+00  4.02688205e-01 -1.84406255e-01 -8.97262519e-03]\n",
      " [ 4.97530060e+00 -4.94576183e-01  6.73609568e-01  1.65504820e-02]\n",
      " [ 5.11971738e+00  4.27391496e-01 -1.00326529e-02 -8.38845798e-03]\n",
      " [ 4.99325599e+00  5.67772051e-01 -2.44755999e-01 -2.54904958e-02]\n",
      " [ 4.96462938e+00  1.84139254e-02 -7.95646675e-02  5.25620858e-03]\n",
      " [ 5.02875824e+00  3.00545070e-01  1.42295919e-01 -1.07287988e-03]\n",
      " [ 4.98161247e+00 -1.30741255e-01  4.49008515e-01  1.05051890e-02]\n",
      " [ 4.91110387e+00  3.71859873e-01 -4.25251168e-02 -1.40899858e-02]\n",
      " [ 5.16982872e+00 -5.48174954e-01 -3.22588332e-01  1.27775989e-02]\n",
      " [ 5.19938690e+00  2.77672732e-01  4.01455674e-01  2.56580171e-02]\n",
      " [ 5.09527085e+00  1.24752267e-01  7.38363577e-01  1.72705891e-02]\n",
      " [ 5.24313628e+00 -1.92393180e-01  7.39053567e-01  1.04103368e-02]\n",
      " [ 4.76142891e+00  1.92921204e-02  8.82167721e-01  9.54156694e-03]\n",
      " [ 5.03798366e+00  1.37259669e-01  5.25672746e-01  2.02370721e-02]\n",
      " [ 5.02851556e+00 -4.42163324e-01  5.05856739e-01  2.12711020e-02]\n",
      " [ 5.24530042e+00  6.53201284e-01 -9.02248532e-02 -5.21621547e-03]\n",
      " [ 5.30154619e+00  3.79917477e-02  6.82364748e-01  1.83731481e-02]\n",
      " [ 5.10415885e+00  2.57380768e-02 -8.52041649e-01 -1.85687032e-02]\n",
      " [ 5.21631101e+00 -1.85077660e-01  1.87304208e-01  2.92359131e-03]\n",
      " [ 5.02357588e+00  1.89047427e-02 -5.47880208e-03 -8.04521905e-03]\n",
      " [ 5.01730092e+00  2.22288526e-01 -7.86102368e-01 -2.16397542e-02]\n",
      " [ 5.08026308e+00 -4.17325052e-01  7.43053303e-01  2.56271748e-02]\n",
      " [ 5.05782265e+00 -3.00781782e-01 -6.66617241e-02  1.20498379e-02]\n",
      " [ 5.14488495e+00  3.16052857e-01 -2.52920854e-01 -8.27421489e-03]\n",
      " [ 5.02184084e+00 -3.20323137e-01  4.03190569e-01  7.82101179e-05]\n",
      " [ 5.07955694e+00  5.81305694e-01  3.36948046e-01 -9.54912380e-03]\n",
      " [ 5.14810994e+00  3.77151778e-02  3.33674507e-01  1.33309546e-02]\n",
      " [ 4.97522038e+00  2.30117652e-01  2.28250796e-01 -1.82698896e-03]\n",
      " [ 4.85561052e+00 -2.62635972e-01  3.63466965e-01 -2.34491364e-03]\n",
      " [ 5.17628674e+00 -9.79363305e-02 -2.54571352e-02 -1.11341959e-02]\n",
      " [ 4.94980280e+00  6.20828352e-02  6.47237900e-01  9.49152016e-03]\n",
      " [ 4.94727845e+00 -2.90447475e-01 -2.45129176e-01  7.00520087e-03]\n",
      " [ 5.00306164e+00 -6.43086937e-01  2.80258545e-01  2.96887123e-02]]\n"
     ]
    }
   ],
   "source": [
    "# compute betahat using 3 features\n",
    "\n",
    "X2_3 = np.delete(X,0,1)\n",
    "X2_3 = X2_3[:3000,:]\n",
    "X3_3 = np.ones([3000,4])\n",
    "X3_3[:,1:] = X2_3\n",
    "betat_3 = np.linalg.lstsq(X3_3,sd,rcond = None)[0]\n",
    "betat_3 = betat_3.T\n",
    "print(betat_3)  # betat_3 by directly using least square regression from 3 features"
   ]
  },
  {
   "cell_type": "code",
   "execution_count": 82,
   "id": "7d8dca8b",
   "metadata": {},
   "outputs": [
    {
     "name": "stdout",
     "output_type": "stream",
     "text": [
      "[[ 4.84564219e+00 -1.13533604e-01 -6.91263449e-01  3.54205311e-03]\n",
      " [ 5.23882522e+00 -4.07713457e-01 -3.50314941e-01 -1.47700501e-02]\n",
      " [ 4.55990343e+00 -3.46679712e-02  3.49417464e-01 -6.62646468e-03]\n",
      " [ 4.57853734e+00 -3.51804950e-01 -1.23748672e-01  9.24649364e-03]\n",
      " [ 4.67055694e+00 -3.52730391e-01 -1.95724046e-01 -5.75781962e-02]\n",
      " [ 4.77067156e+00 -5.13308479e-01 -5.65485988e-01 -3.51516104e-02]\n",
      " [ 4.90768324e+00 -1.19449595e-01 -3.17211041e-01 -1.66780530e-02]\n",
      " [ 4.54761532e+00  2.64427825e-01 -2.86756940e-01 -3.99085449e-02]\n",
      " [ 4.55248333e+00  3.93993898e-01  3.49086638e-01 -8.08645506e-03]\n",
      " [ 4.74435196e+00  2.97939556e-01 -1.13476790e-02 -5.28920239e-02]\n",
      " [ 4.72140792e+00  2.82657364e-01 -6.94938061e-02 -2.08921792e-02]\n",
      " [ 4.94458602e+00 -5.14917812e-01  7.53395317e-01  1.90572467e-02]\n",
      " [ 4.65463042e+00 -1.16628295e-01 -2.12054472e-01 -4.31577768e-02]\n",
      " [ 4.96798180e+00  2.98845745e-01 -2.24668279e-01 -2.69164733e-03]\n",
      " [ 4.60560795e+00 -3.54043307e-01 -2.13071957e-01  1.70650042e-03]\n",
      " [ 4.96872324e+00 -1.51790107e-01 -6.18080903e-01  6.02702219e-03]\n",
      " [ 4.67905560e+00  1.98848564e-01  1.65475354e-01 -9.65943777e-03]\n",
      " [ 4.73098614e+00  1.40721675e-01  1.13862673e-01 -2.11778542e-02]\n",
      " [ 4.89279817e+00 -2.05537743e-01  3.41861780e-01  3.92403758e-02]\n",
      " [ 4.78850017e+00  2.08549864e-01  7.47933357e-01 -1.36316646e-02]\n",
      " [ 4.78128381e+00 -4.75678795e-01  9.24277742e-02  7.90908568e-03]\n",
      " [ 4.91122062e+00 -2.43335006e-01 -5.62881212e-01  7.02572395e-04]\n",
      " [ 4.74820349e+00 -1.44151902e-01  4.81699862e-01  4.78342992e-03]\n",
      " [ 4.84372632e+00 -6.41034729e-01 -2.28357677e-01 -1.87498190e-02]\n",
      " [ 4.85375141e+00 -3.58129769e-02 -1.82955657e-03 -2.37610578e-02]\n",
      " [ 4.82396479e+00  8.41647242e-02  4.24593100e-01  2.67802685e-03]\n",
      " [ 5.01488411e+00  5.23703232e-01  3.16252959e-01 -4.89191750e-03]\n",
      " [ 5.04648003e+00  4.86930342e-01 -3.24719183e-01 -2.25304207e-02]\n",
      " [ 4.77255381e+00  1.52036918e-01  4.59317146e-01 -2.00851878e-02]\n",
      " [ 4.63080432e+00  3.60013455e-01  1.64755625e-01 -2.96967522e-02]\n",
      " [ 4.45758635e+00 -3.06927398e-01 -6.22552752e-01 -1.53695854e-02]\n",
      " [ 4.84265842e+00  4.99759197e-01 -4.90653387e-01 -6.05866687e-02]\n",
      " [ 4.96794458e+00 -1.72038497e-01 -3.10218923e-01 -1.25776867e-02]\n",
      " [ 4.72004678e+00 -3.68953264e-01  5.92962705e-01 -4.98013630e-04]\n",
      " [ 4.78271957e+00 -5.10617663e-01  3.03883946e-02 -2.33973997e-02]\n",
      " [ 4.91743910e+00  2.06986496e-01  2.62809876e-01  4.81385354e-04]\n",
      " [ 4.71926176e+00  2.69506992e-01 -4.99694597e-01 -6.29330379e-02]\n",
      " [ 4.72653657e+00 -2.72959121e-01  7.94843605e-02 -1.23123372e-03]\n",
      " [ 4.73664305e+00  4.89977619e-01  4.29199522e-01 -2.96601018e-02]\n",
      " [ 4.80642154e+00 -2.99038119e-01 -1.93250043e-01 -5.66263907e-03]\n",
      " [ 4.71312649e+00 -4.73848686e-01  4.00966320e-01  1.65078975e-02]\n",
      " [ 4.67678079e+00  3.29766971e-01  1.13798978e-01 -2.97246023e-02]\n",
      " [ 4.95994699e+00  3.84191102e-01 -1.93086992e-01 -1.73864975e-02]\n",
      " [ 4.67427838e+00 -4.34680971e-01  6.67814814e-01 -1.93086057e-03]\n",
      " [ 4.84021722e+00  4.20540307e-01  2.34845117e-02 -1.90102653e-02]\n",
      " [ 4.80784327e+00  5.84398264e-01 -2.88735495e-01 -4.01158829e-02]\n",
      " [ 4.79714696e+00 -8.11491913e-03  4.82242761e-03  1.04252586e-03]\n",
      " [ 4.64778594e+00  2.65401135e-01  1.04017199e-01 -3.34508262e-02]\n",
      " [ 4.62411961e+00 -8.69550304e-02  3.98823196e-01 -9.48427330e-03]\n",
      " [ 4.65675379e+00  4.30492414e-01 -7.57288607e-02 -3.42476178e-02]\n",
      " [ 4.80828582e+00 -5.53970254e-01 -3.14021799e-01  1.21199766e-03]\n",
      " [ 5.02299797e+00  2.28603223e-01  3.17347518e-01  3.88949631e-02]\n",
      " [ 4.93652248e+00  6.10626705e-02  6.72188541e-01 -2.69251984e-03]\n",
      " [ 4.78624240e+00 -1.52835596e-01  6.95977424e-01 -1.93267838e-02]\n",
      " [ 4.73566827e+00 -3.38119109e-02  8.77379257e-01  1.67454886e-03]\n",
      " [ 4.84186951e+00  2.47148725e-01  4.61951310e-01  8.98665121e-03]\n",
      " [ 4.83058125e+00 -4.17435227e-01  4.53629308e-01 -5.92556096e-03]\n",
      " [ 4.93228807e+00  6.38402915e-01 -1.46039428e-01 -1.74960940e-02]\n",
      " [ 4.92256761e+00  1.20475516e-02  7.47118191e-01  2.43698404e-02]\n",
      " [ 4.77037084e+00  2.93019196e-02 -8.96036824e-01 -3.55594825e-02]\n",
      " [ 4.86971988e+00 -2.04520732e-01  2.05041137e-01 -3.11658705e-03]\n",
      " [ 4.97670312e+00 -7.13698699e-03  5.37908819e-02 -3.74141683e-03]\n",
      " [ 4.67328391e+00  2.06253047e-01 -7.55608233e-01 -6.33753627e-02]\n",
      " [ 4.86188142e+00 -3.75104192e-01  8.00077903e-01  2.79687545e-02]\n",
      " [ 5.00127170e+00 -2.36703532e-01 -4.80634576e-02  1.29548652e-02]\n",
      " [ 4.61191174e+00  3.45021882e-01 -2.22437524e-01 -6.96096042e-02]\n",
      " [ 4.51256457e+00 -2.98086850e-01  3.74537564e-01 -2.51394524e-02]\n",
      " [ 4.84709685e+00  5.84747618e-01  3.37173298e-01 -2.68075127e-02]\n",
      " [ 4.64485741e+00  1.11294226e-01  3.82145968e-01 -2.09110468e-02]\n",
      " [ 4.87390351e+00  2.19992716e-01  2.55985317e-01 -7.65482254e-03]\n",
      " [ 4.61097725e+00 -2.11226199e-01  3.41983008e-01 -8.78000245e-03]\n",
      " [ 4.75569187e+00 -1.34796136e-01 -1.24675521e-03 -3.59811898e-02]\n",
      " [ 4.60667708e+00 -2.02673737e-02  7.00724265e-01 -1.13922183e-02]\n",
      " [ 4.75222826e+00 -2.74281684e-01 -1.81122469e-01  1.34501979e-02]\n",
      " [ 4.59940793e+00 -6.66134813e-01  3.30163107e-01  6.63633468e-03]]\n"
     ]
    }
   ],
   "source": [
    "# gradient descent using 3 features\n",
    "\n",
    "X2_3 = np.delete(X,0,1)\n",
    "X2_3 = X2_3[:3000,:]\n",
    "X3_3 = np.ones((3000, 4))\n",
    "X3_3[:, 1:] = X2_3\n",
    "\n",
    "def F(beta,X,Y):\n",
    "    return np.linalg.norm(X @ beta.T - Y) ** 2\n",
    "\n",
    "def s_grad_F_j(beta, X, Y):\n",
    "    return 2 * (X @ beta - Y) * X\n",
    "\n",
    "niter = 1000\n",
    "n = 3000\n",
    "betatp = np.zeros((niter, len(X3_3[0])))\n",
    "betat_ave = np.zeros((niter, len(X3_3[0])))\n",
    "\n",
    "XtX = X3_3.T @ X3_3\n",
    "eta = 0.01\n",
    "result = np.zeros((75,4))  \n",
    "\n",
    "conv = np.zeros ((niter))\n",
    "conv[0] = np.linalg.norm(betatp[0,:] - betat_3)\n",
    "\n",
    "conv_ave = np.zeros(niter)\n",
    "conv_ave[0] = np.linalg.norm(betat_ave[0,:] - betat_3)\n",
    "\n",
    "for i in range (len(sd[0])):\n",
    "    Y = sd[:,i]\n",
    "\n",
    "    for t in range(1, niter):\n",
    "        j = np.random.randint(n)\n",
    "        betatp[t, :] = betatp[t-1, :] - eta * s_grad_F_j(betatp[t-1, :], X3_3[j,:], Y[j])\n",
    "        betat_ave[t, :] = 1/(t+1) * betatp[t, :] + (t)/(t+1) * betat_ave[t-1, :]\n",
    "        conv[t] = np.linalg.norm(betatp[t,:] - betat_3)\n",
    "        conv_ave[t] = np.linalg.norm(betat_ave[t,:] - betat_3)\n",
    "        \n",
    "    result[i,:] = betat_ave[-1,:]\n",
    "\n",
    "print (result)"
   ]
  },
  {
   "cell_type": "code",
   "execution_count": 83,
   "id": "d42505c3",
   "metadata": {},
   "outputs": [
    {
     "name": "stderr",
     "output_type": "stream",
     "text": [
      "<ipython-input-83-b19869425690>:3: RuntimeWarning:\n",
      "\n",
      "divide by zero encountered in log10\n",
      "\n",
      "<ipython-input-83-b19869425690>:4: RuntimeWarning:\n",
      "\n",
      "divide by zero encountered in log10\n",
      "\n"
     ]
    },
    {
     "data": {
      "text/plain": [
       "[<matplotlib.lines.Line2D at 0x247e1b41460>]"
      ]
     },
     "execution_count": 83,
     "metadata": {},
     "output_type": "execute_result"
    },
    {
     "data": {
      "image/png": "[encoded data removed]",
      "text/plain": [
       "<Figure size 432x288 with 1 Axes>"
      ]
     },
     "metadata": {
      "needs_background": "light"
     },
     "output_type": "display_data"
    }
   ],
   "source": [
    "# convergence test for the method using 3 features\n",
    "\n",
    "plt.plot(np.log10(np.arange(niter)),np.log10(conv))\n",
    "plt.plot(np.log10(np.arange(niter)),np.log10(conv_ave))"
   ]
  },
  {
   "cell_type": "markdown",
   "id": "9becfaa4",
   "metadata": {},
   "source": [
    "## 10) Prediction"
   ]
  },
  {
   "cell_type": "code",
   "execution_count": 84,
   "id": "8da8f5e8",
   "metadata": {},
   "outputs": [
    {
     "name": "stdout",
     "output_type": "stream",
     "text": [
      "[[5.92127529 6.57158987 4.26100376 ... 4.07852282 5.66097569 6.41959774]\n",
      " [7.62035394 5.77525447 3.04158467 ... 2.37642245 5.00368268 2.62698352]\n",
      " [5.66059259 6.11802173 4.62001481 ... 3.80871183 5.94934839 7.82642585]\n",
      " ...\n",
      " [5.71955498 2.99032179 3.96611107 ... 4.56797297 3.28553365 1.02008557]\n",
      " [7.30982084 6.96762366 4.50786359 ... 3.77263698 6.26631228 6.58530429]\n",
      " [6.37001719 4.60209248 3.47411813 ... 3.56914956 3.83383757 2.17162012]]\n",
      "6.2091624065913145\n"
     ]
    }
   ],
   "source": [
    "# prediction from using 6 features\n",
    "\n",
    "y_ppp = X3_6 @ resultp.T # prediction\n",
    "print (y_ppp)\n",
    "print (y_ppp[0,4])"
   ]
  },
  {
   "cell_type": "code",
   "execution_count": 85,
   "id": "fba8ab5c",
   "metadata": {},
   "outputs": [
    {
     "name": "stdout",
     "output_type": "stream",
     "text": [
      "[[6.03926333 6.65272726 4.16631379 ... 3.70094705 5.7759441  5.95058544]\n",
      " [7.36978935 5.97949743 3.14516072 ... 1.84773653 4.90147786 2.0465189 ]\n",
      " [5.86886001 7.66706677 4.5473243  ... 4.31517472 6.22371652 7.81004191]\n",
      " ...\n",
      " [4.3964701  3.16869305 4.30498115 ... 4.35678148 3.22782855 0.8123286 ]\n",
      " [6.60587992 7.32390294 3.9868131  ... 3.29232109 5.89452934 5.94530256]\n",
      " [6.01904649 4.52074684 3.61926611 ... 2.90279335 4.26366767 1.55094683]]\n",
      "5.485976385896849\n"
     ]
    }
   ],
   "source": [
    "# prediction from using 3 features\n",
    "\n",
    "y_p = X3_3 @ result.T # prediction\n",
    "print (y_p)\n",
    "print (y_p[0,4])"
   ]
  },
  {
   "cell_type": "code",
   "execution_count": 86,
   "id": "a578fde5",
   "metadata": {},
   "outputs": [
    {
     "name": "stdout",
     "output_type": "stream",
     "text": [
      "[[6.172699   6.55459385 4.23795778 ... 4.02468157 6.05514144 6.49745763]\n",
      " [7.51811219 5.88804435 3.24567508 ... 2.43424948 5.35830243 2.56002437]\n",
      " [5.69763741 7.21476532 4.54230835 ... 4.15238694 6.57949717 8.00196592]\n",
      " ...\n",
      " [5.23194495 3.37342967 4.7000877  ... 5.06343856 3.38396616 1.24169899]\n",
      " [6.48122752 6.95704185 3.99406105 ... 3.35829883 6.31288145 6.23505093]\n",
      " [6.60146284 4.75439472 3.86609441 ... 3.76000702 4.51358311 2.2632432 ]]\n",
      "6.404202503935585\n"
     ]
    }
   ],
   "source": [
    "# calculate the prediction directly from the least square regression (3 features)\n",
    "\n",
    "y_pp = X3_3 @ betat_3.T\n",
    "print (y_pp)\n",
    "print (y_pp[0,4])"
   ]
  },
  {
   "cell_type": "code",
   "execution_count": 87,
   "id": "6af983cf",
   "metadata": {},
   "outputs": [
    {
     "name": "stdout",
     "output_type": "stream",
     "text": [
      "(4500, 75)\n"
     ]
    }
   ],
   "source": [
    "# preparing for the MSE check\n",
    "\n",
    "X5 = np.delete(X,0,1)\n",
    "\n",
    "X4 = np.ones([4500,4])\n",
    "X4[:,1:] = X5\n",
    "\n",
    "y_fp = X4 @ result.T\n",
    "print(y_fp.shape)\n"
   ]
  },
  {
   "cell_type": "code",
   "execution_count": 88,
   "id": "547728ad",
   "metadata": {},
   "outputs": [
    {
     "name": "stdout",
     "output_type": "stream",
     "text": [
      "0.11514506528048284\n",
      "4.984776229166648\n"
     ]
    }
   ],
   "source": [
    "# calculate the mean square error for the method using 3 features\n",
    "\n",
    "# the mean square error between prediction and the result from directly using least square regression\n",
    "MSE_p  = np.mean((y_pp - y_p)**2) \n",
    "\n",
    "# the mean square error between prediction and the original ratings data\n",
    "MSE = np.mean((sd - y_p) ** 2) \n",
    "\n",
    "print(MSE_p) \n",
    "print(MSE)"
   ]
  },
  {
   "cell_type": "code",
   "execution_count": 89,
   "id": "4b8eb5d7",
   "metadata": {},
   "outputs": [],
   "source": [
    "# export to a csv using the method with 3 features\n",
    "\n",
    "prod = user_ratings_table.columns\n",
    "\n",
    "ind = np.array([4500,])\n",
    "ind = user_history.loc[:,\"USER ID\"]\n",
    "\n",
    "prediction_of_ratings = pd.DataFrame(y_fp, index = ind, columns = prod)\n",
    "prediction_of_ratings.to_csv(\"prediction_of_ratings.csv\")"
   ]
  }
 ],
 "metadata": {
  "kernelspec": {
   "display_name": "Python 3",
   "language": "python",
   "name": "python3"
  },
  "language_info": {
   "codemirror_mode": {
    "name": "ipython",
    "version": 3
   },
   "file_extension": ".py",
   "mimetype": "text/x-python",
   "name": "python",
   "nbconvert_exporter": "python",
   "pygments_lexer": "ipython3",
   "version": "3.8.5"
  }
 },
 "nbformat": 4,
 "nbformat_minor": 5
}
