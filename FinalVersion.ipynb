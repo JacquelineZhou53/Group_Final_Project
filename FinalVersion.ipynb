{
 "cells": [
  {
   "cell_type": "markdown",
   "id": "1afb6771",
   "metadata": {},
   "source": [
    "# Market Research -- User Rating Behaviors\n",
    "Group member: Gretch Zhang, Baihe Yuan, Jacqueline Zhou, Disheng Wen, Siyuan Chen\n",
    "\n",
    "### Description:\n",
    "This research predicts users' rating behaviors based on their browsing history. The process involves Principle Components Analysis, K-means and linear regression.\n"
   ]
  },
  {
   "cell_type": "markdown",
   "id": "8c2943b6",
   "metadata": {},
   "source": [
    "## 1) Import Data"
   ]
  },
  {
   "cell_type": "markdown",
   "id": "b22033a0",
   "metadata": {},
   "source": [
    "Import Packages and load data"
   ]
  },
  {
   "cell_type": "code",
   "execution_count": 1,
   "id": "80297a75",
   "metadata": {},
   "outputs": [],
   "source": [
    "# useful packages\n",
    "import numpy as np\n",
    "import csv\n",
    "import math\n",
    "import pandas as pd\n",
    "from sklearn import preprocessing\n",
    "from sklearn import datasets\n",
    "from sklearn import cluster\n",
    "import matplotlib.pyplot as plt\n",
    "import itertools\n",
    "from sklearn.decomposition import PCA\n",
    "import plotly.graph_objects as pgo"
   ]
  },
  {
   "cell_type": "code",
   "execution_count": 2,
   "id": "b4416c87",
   "metadata": {},
   "outputs": [],
   "source": [
    "# load data as a dataframe with pandas\n",
    "user_history = pd.read_csv(\"user_history.csv\")\n",
    "user_history_without_user_ID = user_history.drop(['USER ID'],axis=1)\n",
    "user_ratings = pd.read_csv(\"user_ratings.csv\")"
   ]
  },
  {
   "cell_type": "code",
   "execution_count": 3,
   "id": "cef50278",
   "metadata": {},
   "outputs": [
    {
     "data": {
      "text/html": [
       "<div>\n",
       "<style scoped>\n",
       "    .dataframe tbody tr th:only-of-type {\n",
       "        vertical-align: middle;\n",
       "    }\n",
       "\n",
       "    .dataframe tbody tr th {\n",
       "        vertical-align: top;\n",
       "    }\n",
       "\n",
       "    .dataframe thead th {\n",
       "        text-align: right;\n",
       "    }\n",
       "</style>\n",
       "<table border=\"1\" class=\"dataframe\">\n",
       "  <thead>\n",
       "    <tr style=\"text-align: right;\">\n",
       "      <th></th>\n",
       "      <th>USER ID</th>\n",
       "      <th>PRODUCT</th>\n",
       "      <th>RATING</th>\n",
       "      <th>USER INDEX</th>\n",
       "      <th>PRODUCT ID</th>\n",
       "    </tr>\n",
       "  </thead>\n",
       "  <tbody>\n",
       "    <tr>\n",
       "      <th>0</th>\n",
       "      <td>100950</td>\n",
       "      <td>secret postage</td>\n",
       "      <td>4</td>\n",
       "      <td>0</td>\n",
       "      <td>54</td>\n",
       "    </tr>\n",
       "    <tr>\n",
       "      <th>1</th>\n",
       "      <td>100950</td>\n",
       "      <td>violet saga</td>\n",
       "      <td>4</td>\n",
       "      <td>0</td>\n",
       "      <td>70</td>\n",
       "    </tr>\n",
       "    <tr>\n",
       "      <th>2</th>\n",
       "      <td>100950</td>\n",
       "      <td>pepper chicago</td>\n",
       "      <td>3</td>\n",
       "      <td>0</td>\n",
       "      <td>41</td>\n",
       "    </tr>\n",
       "    <tr>\n",
       "      <th>3</th>\n",
       "      <td>100950</td>\n",
       "      <td>nina sailor</td>\n",
       "      <td>2</td>\n",
       "      <td>0</td>\n",
       "      <td>35</td>\n",
       "    </tr>\n",
       "    <tr>\n",
       "      <th>4</th>\n",
       "      <td>100950</td>\n",
       "      <td>front salami</td>\n",
       "      <td>3</td>\n",
       "      <td>0</td>\n",
       "      <td>18</td>\n",
       "    </tr>\n",
       "  </tbody>\n",
       "</table>\n",
       "</div>"
      ],
      "text/plain": [
       "   USER ID         PRODUCT  RATING  USER INDEX  PRODUCT ID\n",
       "0   100950  secret postage       4           0          54\n",
       "1   100950     violet saga       4           0          70\n",
       "2   100950  pepper chicago       3           0          41\n",
       "3   100950     nina sailor       2           0          35\n",
       "4   100950    front salami       3           0          18"
      ]
     },
     "execution_count": 3,
     "metadata": {},
     "output_type": "execute_result"
    }
   ],
   "source": [
    "# encode users as indices\n",
    "le_user = preprocessing.LabelEncoder()\n",
    "le_user.fit(user_history['USER ID'])\n",
    "\n",
    "user_with_rating_index = le_user.transform(user_ratings['USER ID'])\n",
    "all_user_index = le_user.transform(user_history['USER ID'])\n",
    "user_ratings['USER INDEX'] = user_with_rating_index\n",
    "user_ratings.head()\n",
    "\n",
    "# encode products as indices\n",
    "le_product = preprocessing.LabelEncoder()\n",
    "le_product.fit(user_ratings['PRODUCT'])\n",
    "\n",
    "product_ID = le_product.transform(user_ratings['PRODUCT'])\n",
    "user_ratings['PRODUCT ID'] = product_ID\n",
    "user_ratings.head()"
   ]
  },
  {
   "cell_type": "markdown",
   "id": "da4e67e2",
   "metadata": {},
   "source": [
    "We can take the data in user_history and turn it into a matrix using the following command:"
   ]
  },
  {
   "cell_type": "code",
   "execution_count": 4,
   "id": "199851c8",
   "metadata": {},
   "outputs": [],
   "source": [
    "history_M = user_history.to_numpy()\n",
    "# leave out user ID column\n",
    "his_label = history_M[:,0]\n",
    "# .reshape((history_M[:,0].shape[0],1))\n",
    "his_M = history_M[:,1:]"
   ]
  },
  {
   "cell_type": "markdown",
   "id": "a3958c80",
   "metadata": {},
   "source": [
    "For an introduction and short tutorial on pandas, you are invited to read over https://pandas.pydata.org/pandas-docs/stable/user_guide/10min.html."
   ]
  },
  {
   "cell_type": "markdown",
   "id": "663b618f",
   "metadata": {},
   "source": [
    "## 2) Principal Component Analysis on User History data"
   ]
  },
  {
   "cell_type": "markdown",
   "id": "0f50a9d6",
   "metadata": {},
   "source": [
    "The goal for this section is to divide the data into clusters and find the principal features to be used in the next section, linear regression, to predict the users' ratings based on their history data."
   ]
  },
  {
   "cell_type": "markdown",
   "id": "b6a4e3ba",
   "metadata": {},
   "source": [
    "Now standardize the user history data and compute the SVD:"
   ]
  },
  {
   "cell_type": "code",
   "execution_count": 5,
   "id": "1cd46efd",
   "metadata": {},
   "outputs": [
    {
     "data": {
      "application/vnd.plotly.v1+json": {
       "config": {
        "plotlyServerURL": "https://plot.ly"
       },
       "data": [
        {
         "type": "bar",
         "x": [
          0,
          1,
          2,
          3,
          4,
          5,
          6,
          7,
          8,
          9,
          10,
          11,
          12,
          13,
          14,
          15,
          16,
          17,
          18,
          19,
          20,
          21,
          22,
          23,
          24,
          25,
          26,
          27,
          28,
          29,
          30,
          31,
          32,
          33,
          34,
          35,
          36,
          37,
          38,
          39,
          40,
          41,
          42,
          43,
          44,
          45,
          46,
          47,
          48,
          49,
          50,
          51,
          52,
          53,
          54,
          55,
          56,
          57,
          58,
          59,
          60,
          61,
          62,
          63,
          64,
          65,
          66,
          67,
          68,
          69,
          70,
          71,
          72,
          73,
          74,
          75,
          76,
          77,
          78,
          79,
          80,
          81,
          82,
          83,
          84,
          85,
          86,
          87,
          88,
          89,
          90,
          91,
          92,
          93,
          94,
          95,
          96,
          97,
          98,
          99
         ],
         "y": [
          379.9822086248155,
          363.7552552938518,
          315.0297379007096,
          101.22537666683122,
          99.52987192509265,
          97.7472558268866,
          93.34992609358024,
          86.19269054216255,
          75.33102798555792,
          32.79851985416125,
          28.435191788056176,
          27.913296865038163,
          23.402057433677786,
          22.461920586758502,
          21.9033648329157,
          19.965463289277974,
          18.80171876959671,
          17.724320723335605,
          17.149420410554015,
          16.818981290792454,
          16.64918326335405,
          16.491611824127887,
          16.410130011013955,
          16.341482618384482,
          16.190230057469268,
          16.133570432000084,
          16.09086568390525,
          16.084840952538404,
          15.99368652117439,
          15.828537264883733,
          15.791919089133398,
          15.755572934811672,
          15.674182461361864,
          15.577923508538515,
          15.555027369744261,
          15.53307220240487,
          15.47398211849798,
          15.44616714455332,
          15.38875355749328,
          15.385990315662973,
          15.312941349758109,
          15.268665560121734,
          15.225803322089039,
          15.209153233756078,
          15.132854754567633,
          15.08288088240754,
          15.050826902196743,
          14.995749589912343,
          14.911609225014928,
          14.894930470647422,
          14.876363096294629,
          14.822622179890844,
          14.770351115111247,
          14.70497791780544,
          14.678112655953052,
          14.614440334512475,
          14.58271002049633,
          14.546987424808025,
          14.514899347394834,
          14.484277008435686,
          14.453395329992995,
          14.381885180543756,
          14.346682990824256,
          14.29554233324818,
          14.241514442028038,
          14.22659676930319,
          14.164370991495014,
          14.145667173763755,
          14.081419146223892,
          14.051807970563193,
          14.024269264999447,
          13.99110742799105,
          13.949885028884433,
          13.905121617812668,
          13.858640221675694,
          13.79270323581266,
          13.767609911729878,
          13.68939366241538,
          13.66197204860368,
          13.639160448166182,
          13.583681619860803,
          13.50722961663999,
          13.47957444739832,
          13.43390320678055,
          13.405003050880799,
          13.352549326771209,
          13.300895502392013,
          13.258005412024861,
          13.189372779432368,
          13.173782487847896,
          13.066544627941113,
          13.03673911878709,
          12.97910252757813,
          12.860736615178535,
          12.844373712775873,
          12.78289181425076,
          12.740355704656906,
          12.570234976164771,
          12.351261599310083,
          2.473009268834624e-13
         ]
        }
       ],
       "layout": {
        "template": {
         "data": {
          "bar": [
           {
            "error_x": {
             "color": "#2a3f5f"
            },
            "error_y": {
             "color": "#2a3f5f"
            },
            "marker": {
             "line": {
              "color": "#E5ECF6",
              "width": 0.5
             },
             "pattern": {
              "fillmode": "overlay",
              "size": 10,
              "solidity": 0.2
             }
            },
            "type": "bar"
           }
          ],
          "barpolar": [
           {
            "marker": {
             "line": {
              "color": "#E5ECF6",
              "width": 0.5
             },
             "pattern": {
              "fillmode": "overlay",
              "size": 10,
              "solidity": 0.2
             }
            },
            "type": "barpolar"
           }
          ],
          "carpet": [
           {
            "aaxis": {
             "endlinecolor": "#2a3f5f",
             "gridcolor": "white",
             "linecolor": "white",
             "minorgridcolor": "white",
             "startlinecolor": "#2a3f5f"
            },
            "baxis": {
             "endlinecolor": "#2a3f5f",
             "gridcolor": "white",
             "linecolor": "white",
             "minorgridcolor": "white",
             "startlinecolor": "#2a3f5f"
            },
            "type": "carpet"
           }
          ],
          "choropleth": [
           {
            "colorbar": {
             "outlinewidth": 0,
             "ticks": ""
            },
            "type": "choropleth"
           }
          ],
          "contour": [
           {
            "colorbar": {
             "outlinewidth": 0,
             "ticks": ""
            },
            "colorscale": [
             [
              0,
              "#0d0887"
             ],
             [
              0.1111111111111111,
              "#46039f"
             ],
             [
              0.2222222222222222,
              "#7201a8"
             ],
             [
              0.3333333333333333,
              "#9c179e"
             ],
             [
              0.4444444444444444,
              "#bd3786"
             ],
             [
              0.5555555555555556,
              "#d8576b"
             ],
             [
              0.6666666666666666,
              "#ed7953"
             ],
             [
              0.7777777777777778,
              "#fb9f3a"
             ],
             [
              0.8888888888888888,
              "#fdca26"
             ],
             [
              1,
              "#f0f921"
             ]
            ],
            "type": "contour"
           }
          ],
          "contourcarpet": [
           {
            "colorbar": {
             "outlinewidth": 0,
             "ticks": ""
            },
            "type": "contourcarpet"
           }
          ],
          "heatmap": [
           {
            "colorbar": {
             "outlinewidth": 0,
             "ticks": ""
            },
            "colorscale": [
             [
              0,
              "#0d0887"
             ],
             [
              0.1111111111111111,
              "#46039f"
             ],
             [
              0.2222222222222222,
              "#7201a8"
             ],
             [
              0.3333333333333333,
              "#9c179e"
             ],
             [
              0.4444444444444444,
              "#bd3786"
             ],
             [
              0.5555555555555556,
              "#d8576b"
             ],
             [
              0.6666666666666666,
              "#ed7953"
             ],
             [
              0.7777777777777778,
              "#fb9f3a"
             ],
             [
              0.8888888888888888,
              "#fdca26"
             ],
             [
              1,
              "#f0f921"
             ]
            ],
            "type": "heatmap"
           }
          ],
          "heatmapgl": [
           {
            "colorbar": {
             "outlinewidth": 0,
             "ticks": ""
            },
            "colorscale": [
             [
              0,
              "#0d0887"
             ],
             [
              0.1111111111111111,
              "#46039f"
             ],
             [
              0.2222222222222222,
              "#7201a8"
             ],
             [
              0.3333333333333333,
              "#9c179e"
             ],
             [
              0.4444444444444444,
              "#bd3786"
             ],
             [
              0.5555555555555556,
              "#d8576b"
             ],
             [
              0.6666666666666666,
              "#ed7953"
             ],
             [
              0.7777777777777778,
              "#fb9f3a"
             ],
             [
              0.8888888888888888,
              "#fdca26"
             ],
             [
              1,
              "#f0f921"
             ]
            ],
            "type": "heatmapgl"
           }
          ],
          "histogram": [
           {
            "marker": {
             "pattern": {
              "fillmode": "overlay",
              "size": 10,
              "solidity": 0.2
             }
            },
            "type": "histogram"
           }
          ],
          "histogram2d": [
           {
            "colorbar": {
             "outlinewidth": 0,
             "ticks": ""
            },
            "colorscale": [
             [
              0,
              "#0d0887"
             ],
             [
              0.1111111111111111,
              "#46039f"
             ],
             [
              0.2222222222222222,
              "#7201a8"
             ],
             [
              0.3333333333333333,
              "#9c179e"
             ],
             [
              0.4444444444444444,
              "#bd3786"
             ],
             [
              0.5555555555555556,
              "#d8576b"
             ],
             [
              0.6666666666666666,
              "#ed7953"
             ],
             [
              0.7777777777777778,
              "#fb9f3a"
             ],
             [
              0.8888888888888888,
              "#fdca26"
             ],
             [
              1,
              "#f0f921"
             ]
            ],
            "type": "histogram2d"
           }
          ],
          "histogram2dcontour": [
           {
            "colorbar": {
             "outlinewidth": 0,
             "ticks": ""
            },
            "colorscale": [
             [
              0,
              "#0d0887"
             ],
             [
              0.1111111111111111,
              "#46039f"
             ],
             [
              0.2222222222222222,
              "#7201a8"
             ],
             [
              0.3333333333333333,
              "#9c179e"
             ],
             [
              0.4444444444444444,
              "#bd3786"
             ],
             [
              0.5555555555555556,
              "#d8576b"
             ],
             [
              0.6666666666666666,
              "#ed7953"
             ],
             [
              0.7777777777777778,
              "#fb9f3a"
             ],
             [
              0.8888888888888888,
              "#fdca26"
             ],
             [
              1,
              "#f0f921"
             ]
            ],
            "type": "histogram2dcontour"
           }
          ],
          "mesh3d": [
           {
            "colorbar": {
             "outlinewidth": 0,
             "ticks": ""
            },
            "type": "mesh3d"
           }
          ],
          "parcoords": [
           {
            "line": {
             "colorbar": {
              "outlinewidth": 0,
              "ticks": ""
             }
            },
            "type": "parcoords"
           }
          ],
          "pie": [
           {
            "automargin": true,
            "type": "pie"
           }
          ],
          "scatter": [
           {
            "marker": {
             "colorbar": {
              "outlinewidth": 0,
              "ticks": ""
             }
            },
            "type": "scatter"
           }
          ],
          "scatter3d": [
           {
            "line": {
             "colorbar": {
              "outlinewidth": 0,
              "ticks": ""
             }
            },
            "marker": {
             "colorbar": {
              "outlinewidth": 0,
              "ticks": ""
             }
            },
            "type": "scatter3d"
           }
          ],
          "scattercarpet": [
           {
            "marker": {
             "colorbar": {
              "outlinewidth": 0,
              "ticks": ""
             }
            },
            "type": "scattercarpet"
           }
          ],
          "scattergeo": [
           {
            "marker": {
             "colorbar": {
              "outlinewidth": 0,
              "ticks": ""
             }
            },
            "type": "scattergeo"
           }
          ],
          "scattergl": [
           {
            "marker": {
             "colorbar": {
              "outlinewidth": 0,
              "ticks": ""
             }
            },
            "type": "scattergl"
           }
          ],
          "scattermapbox": [
           {
            "marker": {
             "colorbar": {
              "outlinewidth": 0,
              "ticks": ""
             }
            },
            "type": "scattermapbox"
           }
          ],
          "scatterpolar": [
           {
            "marker": {
             "colorbar": {
              "outlinewidth": 0,
              "ticks": ""
             }
            },
            "type": "scatterpolar"
           }
          ],
          "scatterpolargl": [
           {
            "marker": {
             "colorbar": {
              "outlinewidth": 0,
              "ticks": ""
             }
            },
            "type": "scatterpolargl"
           }
          ],
          "scatterternary": [
           {
            "marker": {
             "colorbar": {
              "outlinewidth": 0,
              "ticks": ""
             }
            },
            "type": "scatterternary"
           }
          ],
          "surface": [
           {
            "colorbar": {
             "outlinewidth": 0,
             "ticks": ""
            },
            "colorscale": [
             [
              0,
              "#0d0887"
             ],
             [
              0.1111111111111111,
              "#46039f"
             ],
             [
              0.2222222222222222,
              "#7201a8"
             ],
             [
              0.3333333333333333,
              "#9c179e"
             ],
             [
              0.4444444444444444,
              "#bd3786"
             ],
             [
              0.5555555555555556,
              "#d8576b"
             ],
             [
              0.6666666666666666,
              "#ed7953"
             ],
             [
              0.7777777777777778,
              "#fb9f3a"
             ],
             [
              0.8888888888888888,
              "#fdca26"
             ],
             [
              1,
              "#f0f921"
             ]
            ],
            "type": "surface"
           }
          ],
          "table": [
           {
            "cells": {
             "fill": {
              "color": "#EBF0F8"
             },
             "line": {
              "color": "white"
             }
            },
            "header": {
             "fill": {
              "color": "#C8D4E3"
             },
             "line": {
              "color": "white"
             }
            },
            "type": "table"
           }
          ]
         },
         "layout": {
          "annotationdefaults": {
           "arrowcolor": "#2a3f5f",
           "arrowhead": 0,
           "arrowwidth": 1
          },
          "autotypenumbers": "strict",
          "coloraxis": {
           "colorbar": {
            "outlinewidth": 0,
            "ticks": ""
           }
          },
          "colorscale": {
           "diverging": [
            [
             0,
             "#8e0152"
            ],
            [
             0.1,
             "#c51b7d"
            ],
            [
             0.2,
             "#de77ae"
            ],
            [
             0.3,
             "#f1b6da"
            ],
            [
             0.4,
             "#fde0ef"
            ],
            [
             0.5,
             "#f7f7f7"
            ],
            [
             0.6,
             "#e6f5d0"
            ],
            [
             0.7,
             "#b8e186"
            ],
            [
             0.8,
             "#7fbc41"
            ],
            [
             0.9,
             "#4d9221"
            ],
            [
             1,
             "#276419"
            ]
           ],
           "sequential": [
            [
             0,
             "#0d0887"
            ],
            [
             0.1111111111111111,
             "#46039f"
            ],
            [
             0.2222222222222222,
             "#7201a8"
            ],
            [
             0.3333333333333333,
             "#9c179e"
            ],
            [
             0.4444444444444444,
             "#bd3786"
            ],
            [
             0.5555555555555556,
             "#d8576b"
            ],
            [
             0.6666666666666666,
             "#ed7953"
            ],
            [
             0.7777777777777778,
             "#fb9f3a"
            ],
            [
             0.8888888888888888,
             "#fdca26"
            ],
            [
             1,
             "#f0f921"
            ]
           ],
           "sequentialminus": [
            [
             0,
             "#0d0887"
            ],
            [
             0.1111111111111111,
             "#46039f"
            ],
            [
             0.2222222222222222,
             "#7201a8"
            ],
            [
             0.3333333333333333,
             "#9c179e"
            ],
            [
             0.4444444444444444,
             "#bd3786"
            ],
            [
             0.5555555555555556,
             "#d8576b"
            ],
            [
             0.6666666666666666,
             "#ed7953"
            ],
            [
             0.7777777777777778,
             "#fb9f3a"
            ],
            [
             0.8888888888888888,
             "#fdca26"
            ],
            [
             1,
             "#f0f921"
            ]
           ]
          },
          "colorway": [
           "#636efa",
           "#EF553B",
           "#00cc96",
           "#ab63fa",
           "#FFA15A",
           "#19d3f3",
           "#FF6692",
           "#B6E880",
           "#FF97FF",
           "#FECB52"
          ],
          "font": {
           "color": "#2a3f5f"
          },
          "geo": {
           "bgcolor": "white",
           "lakecolor": "white",
           "landcolor": "#E5ECF6",
           "showlakes": true,
           "showland": true,
           "subunitcolor": "white"
          },
          "hoverlabel": {
           "align": "left"
          },
          "hovermode": "closest",
          "mapbox": {
           "style": "light"
          },
          "paper_bgcolor": "white",
          "plot_bgcolor": "#E5ECF6",
          "polar": {
           "angularaxis": {
            "gridcolor": "white",
            "linecolor": "white",
            "ticks": ""
           },
           "bgcolor": "#E5ECF6",
           "radialaxis": {
            "gridcolor": "white",
            "linecolor": "white",
            "ticks": ""
           }
          },
          "scene": {
           "xaxis": {
            "backgroundcolor": "#E5ECF6",
            "gridcolor": "white",
            "gridwidth": 2,
            "linecolor": "white",
            "showbackground": true,
            "ticks": "",
            "zerolinecolor": "white"
           },
           "yaxis": {
            "backgroundcolor": "#E5ECF6",
            "gridcolor": "white",
            "gridwidth": 2,
            "linecolor": "white",
            "showbackground": true,
            "ticks": "",
            "zerolinecolor": "white"
           },
           "zaxis": {
            "backgroundcolor": "#E5ECF6",
            "gridcolor": "white",
            "gridwidth": 2,
            "linecolor": "white",
            "showbackground": true,
            "ticks": "",
            "zerolinecolor": "white"
           }
          },
          "shapedefaults": {
           "line": {
            "color": "#2a3f5f"
           }
          },
          "ternary": {
           "aaxis": {
            "gridcolor": "white",
            "linecolor": "white",
            "ticks": ""
           },
           "baxis": {
            "gridcolor": "white",
            "linecolor": "white",
            "ticks": ""
           },
           "bgcolor": "#E5ECF6",
           "caxis": {
            "gridcolor": "white",
            "linecolor": "white",
            "ticks": ""
           }
          },
          "title": {
           "x": 0.05
          },
          "xaxis": {
           "automargin": true,
           "gridcolor": "white",
           "linecolor": "white",
           "ticks": "",
           "title": {
            "standoff": 15
           },
           "zerolinecolor": "white",
           "zerolinewidth": 2
          },
          "yaxis": {
           "automargin": true,
           "gridcolor": "white",
           "linecolor": "white",
           "ticks": "",
           "title": {
            "standoff": 15
           },
           "zerolinecolor": "white",
           "zerolinewidth": 2
          }
         }
        }
       }
      }
     },
     "metadata": {},
     "output_type": "display_data"
    }
   ],
   "source": [
    "# subtract the mean\n",
    "his_meanzero = his_M - np.mean(his_M, axis=1, keepdims=True)\n",
    "# divide by the standard deviation\n",
    "his_std = his_meanzero/np.std(his_meanzero, axis=1, keepdims=True)\n",
    "# SVD\n",
    "U, S, VT = np.linalg.svd(his_std, full_matrices=False)\n",
    "\n",
    "# make a figure showing the singular values\n",
    "svd_figure = pgo.Figure([pgo.Bar(x=np.arange(len(S)), y=S)])\n",
    "svd_figure.show()"
   ]
  },
  {
   "cell_type": "markdown",
   "id": "c70ada2f",
   "metadata": {},
   "source": [
    "We conclude that we will use the first three eigenvectors of the standardized data matrix.\n",
    "\n",
    "Now compute the eigenvectors of history data's covariance matrix:"
   ]
  },
  {
   "cell_type": "code",
   "execution_count": 6,
   "id": "40eda21f",
   "metadata": {},
   "outputs": [],
   "source": [
    "# eigenvector contained in v\n",
    "his_cov = np.cov(his_std.T)\n",
    "w, v = np.linalg.eig(his_cov)"
   ]
  },
  {
   "cell_type": "markdown",
   "id": "8617d2ba",
   "metadata": {},
   "source": [
    "Try different combinations of the first tree eigenvectors as the feature matrix.\n",
    "\n",
    "We produce the result of the PCA in this formula:\n",
    "$Data = Feature^{T} * StdMatrix^{T}$\n",
    "\n",
    "Then, we plot the transpose of the results in scatter to observe any possible patterns."
   ]
  },
  {
   "cell_type": "code",
   "execution_count": 7,
   "id": "b40f46ab",
   "metadata": {},
   "outputs": [],
   "source": [
    "# state the eigenvector to be used\n",
    "v1 = (v[:,0]).real\n",
    "v1 = v1.reshape((v1.shape[0], 1))\n",
    "v2 = (v[:,1]).real\n",
    "v2 = v2.reshape((v2.shape[0], 1))\n",
    "v3 = (v[:,2]).real\n",
    "v3 = v3.reshape((v3.shape[0], 1))"
   ]
  },
  {
   "cell_type": "code",
   "execution_count": 8,
   "id": "472e8fea",
   "metadata": {},
   "outputs": [
    {
     "data": {
      "text/plain": [
       "<matplotlib.collections.PathCollection at 0x19d7e76fbb0>"
      ]
     },
     "execution_count": 8,
     "metadata": {},
     "output_type": "execute_result"
    },
    {
     "data": {
      "image/png": "[encoded data removed]",
      "text/plain": [
       "<Figure size 432x288 with 1 Axes>"
      ]
     },
     "metadata": {
      "needs_background": "light"
     },
     "output_type": "display_data"
    }
   ],
   "source": [
    "# v1 and v2\n",
    "f_12 = np.concatenate((v1, v2), axis = 1)\n",
    "his_12 = (his_std @ f_12).T\n",
    "plt.scatter(his_12[0],his_12[1])"
   ]
  },
  {
   "cell_type": "code",
   "execution_count": 9,
   "id": "37278e2d",
   "metadata": {},
   "outputs": [
    {
     "data": {
      "text/plain": [
       "<matplotlib.collections.PathCollection at 0x19d7e8607c0>"
      ]
     },
     "execution_count": 9,
     "metadata": {},
     "output_type": "execute_result"
    },
    {
     "data": {
      "image/png": "[encoded data removed]",
      "text/plain": [
       "<Figure size 432x288 with 1 Axes>"
      ]
     },
     "metadata": {
      "needs_background": "light"
     },
     "output_type": "display_data"
    }
   ],
   "source": [
    "# v1 and v3\n",
    "f_13 = np.concatenate((v1, v3), axis = 1)\n",
    "his_13 = (his_std @ f_13).T\n",
    "plt.scatter(his_13[0],his_13[1])"
   ]
  },
  {
   "cell_type": "code",
   "execution_count": 10,
   "id": "669cb01b",
   "metadata": {},
   "outputs": [
    {
     "data": {
      "text/plain": [
       "<matplotlib.collections.PathCollection at 0x19d7e8c8580>"
      ]
     },
     "execution_count": 10,
     "metadata": {},
     "output_type": "execute_result"
    },
    {
     "data": {
      "image/png": "[encoded data removed]",
      "text/plain": [
       "<Figure size 432x288 with 1 Axes>"
      ]
     },
     "metadata": {
      "needs_background": "light"
     },
     "output_type": "display_data"
    }
   ],
   "source": [
    "# v2 and v3\n",
    "f_23 = np.concatenate((v2, v3), axis = 1)\n",
    "his_23 = (his_std @ f_23).T\n",
    "plt.scatter(his_23[0],his_23[1])"
   ]
  },
  {
   "cell_type": "markdown",
   "id": "5b198505",
   "metadata": {},
   "source": [
    "When using the first two eigenvalues to project the history data, it did give the best classification result, thus we decide to use the first two eigen values **v1** and **v2**.\n",
    "\n",
    "As shown in the first graph, we will classify the data into 3 clusters in the next K-means step."
   ]
  },
  {
   "cell_type": "markdown",
   "id": "649c9c78",
   "metadata": {},
   "source": [
    "## 3) K-means clustering"
   ]
  },
  {
   "cell_type": "markdown",
   "id": "b829670e",
   "metadata": {},
   "source": [
    "Now we use k-means method to cluster the data into 3 parts."
   ]
  },
  {
   "cell_type": "code",
   "execution_count": 11,
   "id": "31adf585",
   "metadata": {
    "scrolled": true
   },
   "outputs": [
    {
     "name": "stdout",
     "output_type": "stream",
     "text": [
      "[[ 1.00950000e+05  7.31094618e-01 -8.94753669e-01 ...  1.58980665e-01\n",
      "   1.31720742e-01  1.23296336e-01]\n",
      " [ 1.00956000e+05  1.10938964e+00 -6.69580389e-01 ... -3.53934244e-01\n",
      "   4.24670322e-01 -1.03733797e+00]\n",
      " [ 1.00962000e+05 -1.02138211e+00  2.91023343e+00 ... -1.02985095e+00\n",
      "  -7.75577031e-01  2.19481007e-01]\n",
      " ...\n",
      " [ 1.25629000e+05  9.11668165e-01 -7.27845322e-01 ... -1.49643757e-02\n",
      "   2.22371361e-02 -7.33299870e-01]\n",
      " [ 1.25636000e+05 -1.24583943e+00  1.54151693e+00 ... -3.22959687e-01\n",
      "  -9.17915211e-01 -7.03656886e-01]\n",
      " [ 1.25645000e+05 -8.32821846e-01  5.39011111e-01 ... -4.25121028e-01\n",
      "  -4.56042856e-01 -1.13749788e+00]]\n"
     ]
    },
    {
     "data": {
      "image/png": "[encoded data removed]",
      "text/plain": [
       "<Figure size 432x288 with 1 Axes>"
      ]
     },
     "metadata": {
      "needs_background": "light"
     },
     "output_type": "display_data"
    }
   ],
   "source": [
    "from sklearn.cluster import KMeans\n",
    "chis_12 = KMeans(n_clusters=3)\n",
    "his_label = his_label.reshape((his_label.shape[0],1))\n",
    "his12 = np.concatenate((his_label,his_std), axis = 1)\n",
    "print(his12)\n",
    "#his12=np.transpose(his12)\n",
    "chis_12.fit(his12[:,1:])\n",
    "\n",
    "plt.figure()\n",
    "for i in range(3):\n",
    "    plt.plot(his12[chis_12.labels_==i, 1], his12[chis_12.labels_==i, 2], 'o')\n"
   ]
  },
  {
   "cell_type": "markdown",
   "id": "b2be3202",
   "metadata": {},
   "source": [
    "When separatig the clusters, we want to keep the labels (User index) on track in order to place the data after PCA process back in place."
   ]
  },
  {
   "cell_type": "code",
   "execution_count": 12,
   "id": "795a6b62",
   "metadata": {},
   "outputs": [],
   "source": [
    "# cluster 1\n",
    "c1 = his12[chis_12.labels_==0]\n",
    "c1_label = c1[:,0].reshape((c1[:,0].shape[0],1))\n",
    "c1 = c1[:,1:]\n",
    "# cluster 2\n",
    "c2=his12[chis_12.labels_==1]\n",
    "c2_label = c2[:,0].reshape((c2[:,0].shape[0],1))\n",
    "c2 = c2[:,1:]\n",
    "# cluster 3\n",
    "c3=his12[chis_12.labels_==2]\n",
    "c3_label = c3[:,0].reshape((c3[:,0].shape[0],1))\n",
    "c3 = c3[:,1:]"
   ]
  },
  {
   "cell_type": "markdown",
   "id": "50e6b9b3",
   "metadata": {},
   "source": [
    "## 4） PCA on clusters"
   ]
  },
  {
   "cell_type": "markdown",
   "id": "71ae4ea8",
   "metadata": {},
   "source": [
    "1. Standardize the first cluster"
   ]
  },
  {
   "cell_type": "code",
   "execution_count": 13,
   "id": "0bbdf877",
   "metadata": {},
   "outputs": [
    {
     "data": {
      "application/vnd.plotly.v1+json": {
       "config": {
        "plotlyServerURL": "https://plot.ly"
       },
       "data": [
        {
         "type": "bar",
         "x": [
          0,
          1,
          2,
          3,
          4,
          5,
          6,
          7,
          8,
          9,
          10,
          11,
          12,
          13,
          14,
          15,
          16,
          17,
          18,
          19,
          20,
          21,
          22,
          23,
          24,
          25,
          26,
          27,
          28,
          29,
          30,
          31,
          32,
          33,
          34,
          35,
          36,
          37,
          38,
          39,
          40,
          41,
          42,
          43,
          44,
          45,
          46,
          47,
          48,
          49,
          50,
          51,
          52,
          53,
          54,
          55,
          56,
          57,
          58,
          59,
          60,
          61,
          62,
          63,
          64,
          65,
          66,
          67,
          68,
          69,
          70,
          71,
          72,
          73,
          74,
          75,
          76,
          77,
          78,
          79,
          80,
          81,
          82,
          83,
          84,
          85,
          86,
          87,
          88,
          89,
          90,
          91,
          92,
          93,
          94,
          95,
          96,
          97,
          98,
          99
         ],
         "y": [
          352.42043118356474,
          98.03948673391382,
          88.20465646079,
          23.96763893198523,
          22.183696420179093,
          19.393655791765422,
          12.271344524374877,
          11.399861022364188,
          10.85302936084384,
          10.805867519339046,
          10.694238045807335,
          10.651533148981457,
          10.492587918285183,
          10.396006980509112,
          10.314046667970471,
          10.217753762352938,
          10.165592588578118,
          10.109290557876218,
          10.06709041296204,
          10.050898273129928,
          9.997040875684489,
          9.883831963655789,
          9.779311189714537,
          9.689390147016562,
          9.6866777296398,
          9.595872952289179,
          9.580893257544611,
          9.490140258881246,
          9.414982541275739,
          9.37448775288046,
          9.361435935443309,
          9.3434456070776,
          9.266678797359775,
          9.249207102838003,
          9.201727271844511,
          9.153071270292136,
          9.130117388189454,
          9.092439341639446,
          9.08707830408473,
          9.0592780975632,
          9.041696751240043,
          8.97307744338833,
          8.953847128117197,
          8.875167496545673,
          8.849136378494764,
          8.821624876678344,
          8.753779736263079,
          8.746974427455777,
          8.714545916809065,
          8.63746904316098,
          8.59777411863108,
          8.564712648557379,
          8.528774692843033,
          8.47738175071149,
          8.439230185407872,
          8.377217562564738,
          8.36032752759071,
          8.326657114263613,
          8.268295241466745,
          8.217468744072999,
          8.168073998833064,
          8.133148563130987,
          8.09976494846573,
          8.074841818236372,
          8.008840835353153,
          7.990946431774469,
          7.966873506917237,
          7.896141251945041,
          7.86519768692744,
          7.8225770265659715,
          7.801382648437961,
          7.7553245075955335,
          7.663456058961665,
          7.610323175519726,
          7.580346234937259,
          7.559214307594526,
          7.521673037077334,
          7.507923394311817,
          7.454786200254481,
          7.402681252346156,
          7.363906407545697,
          7.312461934133461,
          7.274271793527552,
          7.243797061877041,
          7.203521393757207,
          7.10800398817945,
          7.07189932406054,
          7.03488686243712,
          6.964306644956843,
          6.938110722138424,
          6.8936890780206,
          6.761243900790157,
          6.689800297656792,
          6.660182480856132,
          6.645248134409527,
          6.543029244766082,
          6.440599541491693,
          6.434589522506774,
          6.266382046675801,
          2.0480554635006024e-13
         ]
        }
       ],
       "layout": {
        "template": {
         "data": {
          "bar": [
           {
            "error_x": {
             "color": "#2a3f5f"
            },
            "error_y": {
             "color": "#2a3f5f"
            },
            "marker": {
             "line": {
              "color": "#E5ECF6",
              "width": 0.5
             },
             "pattern": {
              "fillmode": "overlay",
              "size": 10,
              "solidity": 0.2
             }
            },
            "type": "bar"
           }
          ],
          "barpolar": [
           {
            "marker": {
             "line": {
              "color": "#E5ECF6",
              "width": 0.5
             },
             "pattern": {
              "fillmode": "overlay",
              "size": 10,
              "solidity": 0.2
             }
            },
            "type": "barpolar"
           }
          ],
          "carpet": [
           {
            "aaxis": {
             "endlinecolor": "#2a3f5f",
             "gridcolor": "white",
             "linecolor": "white",
             "minorgridcolor": "white",
             "startlinecolor": "#2a3f5f"
            },
            "baxis": {
             "endlinecolor": "#2a3f5f",
             "gridcolor": "white",
             "linecolor": "white",
             "minorgridcolor": "white",
             "startlinecolor": "#2a3f5f"
            },
            "type": "carpet"
           }
          ],
          "choropleth": [
           {
            "colorbar": {
             "outlinewidth": 0,
             "ticks": ""
            },
            "type": "choropleth"
           }
          ],
          "contour": [
           {
            "colorbar": {
             "outlinewidth": 0,
             "ticks": ""
            },
            "colorscale": [
             [
              0,
              "#0d0887"
             ],
             [
              0.1111111111111111,
              "#46039f"
             ],
             [
              0.2222222222222222,
              "#7201a8"
             ],
             [
              0.3333333333333333,
              "#9c179e"
             ],
             [
              0.4444444444444444,
              "#bd3786"
             ],
             [
              0.5555555555555556,
              "#d8576b"
             ],
             [
              0.6666666666666666,
              "#ed7953"
             ],
             [
              0.7777777777777778,
              "#fb9f3a"
             ],
             [
              0.8888888888888888,
              "#fdca26"
             ],
             [
              1,
              "#f0f921"
             ]
            ],
            "type": "contour"
           }
          ],
          "contourcarpet": [
           {
            "colorbar": {
             "outlinewidth": 0,
             "ticks": ""
            },
            "type": "contourcarpet"
           }
          ],
          "heatmap": [
           {
            "colorbar": {
             "outlinewidth": 0,
             "ticks": ""
            },
            "colorscale": [
             [
              0,
              "#0d0887"
             ],
             [
              0.1111111111111111,
              "#46039f"
             ],
             [
              0.2222222222222222,
              "#7201a8"
             ],
             [
              0.3333333333333333,
              "#9c179e"
             ],
             [
              0.4444444444444444,
              "#bd3786"
             ],
             [
              0.5555555555555556,
              "#d8576b"
             ],
             [
              0.6666666666666666,
              "#ed7953"
             ],
             [
              0.7777777777777778,
              "#fb9f3a"
             ],
             [
              0.8888888888888888,
              "#fdca26"
             ],
             [
              1,
              "#f0f921"
             ]
            ],
            "type": "heatmap"
           }
          ],
          "heatmapgl": [
           {
            "colorbar": {
             "outlinewidth": 0,
             "ticks": ""
            },
            "colorscale": [
             [
              0,
              "#0d0887"
             ],
             [
              0.1111111111111111,
              "#46039f"
             ],
             [
              0.2222222222222222,
              "#7201a8"
             ],
             [
              0.3333333333333333,
              "#9c179e"
             ],
             [
              0.4444444444444444,
              "#bd3786"
             ],
             [
              0.5555555555555556,
              "#d8576b"
             ],
             [
              0.6666666666666666,
              "#ed7953"
             ],
             [
              0.7777777777777778,
              "#fb9f3a"
             ],
             [
              0.8888888888888888,
              "#fdca26"
             ],
             [
              1,
              "#f0f921"
             ]
            ],
            "type": "heatmapgl"
           }
          ],
          "histogram": [
           {
            "marker": {
             "pattern": {
              "fillmode": "overlay",
              "size": 10,
              "solidity": 0.2
             }
            },
            "type": "histogram"
           }
          ],
          "histogram2d": [
           {
            "colorbar": {
             "outlinewidth": 0,
             "ticks": ""
            },
            "colorscale": [
             [
              0,
              "#0d0887"
             ],
             [
              0.1111111111111111,
              "#46039f"
             ],
             [
              0.2222222222222222,
              "#7201a8"
             ],
             [
              0.3333333333333333,
              "#9c179e"
             ],
             [
              0.4444444444444444,
              "#bd3786"
             ],
             [
              0.5555555555555556,
              "#d8576b"
             ],
             [
              0.6666666666666666,
              "#ed7953"
             ],
             [
              0.7777777777777778,
              "#fb9f3a"
             ],
             [
              0.8888888888888888,
              "#fdca26"
             ],
             [
              1,
              "#f0f921"
             ]
            ],
            "type": "histogram2d"
           }
          ],
          "histogram2dcontour": [
           {
            "colorbar": {
             "outlinewidth": 0,
             "ticks": ""
            },
            "colorscale": [
             [
              0,
              "#0d0887"
             ],
             [
              0.1111111111111111,
              "#46039f"
             ],
             [
              0.2222222222222222,
              "#7201a8"
             ],
             [
              0.3333333333333333,
              "#9c179e"
             ],
             [
              0.4444444444444444,
              "#bd3786"
             ],
             [
              0.5555555555555556,
              "#d8576b"
             ],
             [
              0.6666666666666666,
              "#ed7953"
             ],
             [
              0.7777777777777778,
              "#fb9f3a"
             ],
             [
              0.8888888888888888,
              "#fdca26"
             ],
             [
              1,
              "#f0f921"
             ]
            ],
            "type": "histogram2dcontour"
           }
          ],
          "mesh3d": [
           {
            "colorbar": {
             "outlinewidth": 0,
             "ticks": ""
            },
            "type": "mesh3d"
           }
          ],
          "parcoords": [
           {
            "line": {
             "colorbar": {
              "outlinewidth": 0,
              "ticks": ""
             }
            },
            "type": "parcoords"
           }
          ],
          "pie": [
           {
            "automargin": true,
            "type": "pie"
           }
          ],
          "scatter": [
           {
            "marker": {
             "colorbar": {
              "outlinewidth": 0,
              "ticks": ""
             }
            },
            "type": "scatter"
           }
          ],
          "scatter3d": [
           {
            "line": {
             "colorbar": {
              "outlinewidth": 0,
              "ticks": ""
             }
            },
            "marker": {
             "colorbar": {
              "outlinewidth": 0,
              "ticks": ""
             }
            },
            "type": "scatter3d"
           }
          ],
          "scattercarpet": [
           {
            "marker": {
             "colorbar": {
              "outlinewidth": 0,
              "ticks": ""
             }
            },
            "type": "scattercarpet"
           }
          ],
          "scattergeo": [
           {
            "marker": {
             "colorbar": {
              "outlinewidth": 0,
              "ticks": ""
             }
            },
            "type": "scattergeo"
           }
          ],
          "scattergl": [
           {
            "marker": {
             "colorbar": {
              "outlinewidth": 0,
              "ticks": ""
             }
            },
            "type": "scattergl"
           }
          ],
          "scattermapbox": [
           {
            "marker": {
             "colorbar": {
              "outlinewidth": 0,
              "ticks": ""
             }
            },
            "type": "scattermapbox"
           }
          ],
          "scatterpolar": [
           {
            "marker": {
             "colorbar": {
              "outlinewidth": 0,
              "ticks": ""
             }
            },
            "type": "scatterpolar"
           }
          ],
          "scatterpolargl": [
           {
            "marker": {
             "colorbar": {
              "outlinewidth": 0,
              "ticks": ""
             }
            },
            "type": "scatterpolargl"
           }
          ],
          "scatterternary": [
           {
            "marker": {
             "colorbar": {
              "outlinewidth": 0,
              "ticks": ""
             }
            },
            "type": "scatterternary"
           }
          ],
          "surface": [
           {
            "colorbar": {
             "outlinewidth": 0,
             "ticks": ""
            },
            "colorscale": [
             [
              0,
              "#0d0887"
             ],
             [
              0.1111111111111111,
              "#46039f"
             ],
             [
              0.2222222222222222,
              "#7201a8"
             ],
             [
              0.3333333333333333,
              "#9c179e"
             ],
             [
              0.4444444444444444,
              "#bd3786"
             ],
             [
              0.5555555555555556,
              "#d8576b"
             ],
             [
              0.6666666666666666,
              "#ed7953"
             ],
             [
              0.7777777777777778,
              "#fb9f3a"
             ],
             [
              0.8888888888888888,
              "#fdca26"
             ],
             [
              1,
              "#f0f921"
             ]
            ],
            "type": "surface"
           }
          ],
          "table": [
           {
            "cells": {
             "fill": {
              "color": "#EBF0F8"
             },
             "line": {
              "color": "white"
             }
            },
            "header": {
             "fill": {
              "color": "#C8D4E3"
             },
             "line": {
              "color": "white"
             }
            },
            "type": "table"
           }
          ]
         },
         "layout": {
          "annotationdefaults": {
           "arrowcolor": "#2a3f5f",
           "arrowhead": 0,
           "arrowwidth": 1
          },
          "autotypenumbers": "strict",
          "coloraxis": {
           "colorbar": {
            "outlinewidth": 0,
            "ticks": ""
           }
          },
          "colorscale": {
           "diverging": [
            [
             0,
             "#8e0152"
            ],
            [
             0.1,
             "#c51b7d"
            ],
            [
             0.2,
             "#de77ae"
            ],
            [
             0.3,
             "#f1b6da"
            ],
            [
             0.4,
             "#fde0ef"
            ],
            [
             0.5,
             "#f7f7f7"
            ],
            [
             0.6,
             "#e6f5d0"
            ],
            [
             0.7,
             "#b8e186"
            ],
            [
             0.8,
             "#7fbc41"
            ],
            [
             0.9,
             "#4d9221"
            ],
            [
             1,
             "#276419"
            ]
           ],
           "sequential": [
            [
             0,
             "#0d0887"
            ],
            [
             0.1111111111111111,
             "#46039f"
            ],
            [
             0.2222222222222222,
             "#7201a8"
            ],
            [
             0.3333333333333333,
             "#9c179e"
            ],
            [
             0.4444444444444444,
             "#bd3786"
            ],
            [
             0.5555555555555556,
             "#d8576b"
            ],
            [
             0.6666666666666666,
             "#ed7953"
            ],
            [
             0.7777777777777778,
             "#fb9f3a"
            ],
            [
             0.8888888888888888,
             "#fdca26"
            ],
            [
             1,
             "#f0f921"
            ]
           ],
           "sequentialminus": [
            [
             0,
             "#0d0887"
            ],
            [
             0.1111111111111111,
             "#46039f"
            ],
            [
             0.2222222222222222,
             "#7201a8"
            ],
            [
             0.3333333333333333,
             "#9c179e"
            ],
            [
             0.4444444444444444,
             "#bd3786"
            ],
            [
             0.5555555555555556,
             "#d8576b"
            ],
            [
             0.6666666666666666,
             "#ed7953"
            ],
            [
             0.7777777777777778,
             "#fb9f3a"
            ],
            [
             0.8888888888888888,
             "#fdca26"
            ],
            [
             1,
             "#f0f921"
            ]
           ]
          },
          "colorway": [
           "#636efa",
           "#EF553B",
           "#00cc96",
           "#ab63fa",
           "#FFA15A",
           "#19d3f3",
           "#FF6692",
           "#B6E880",
           "#FF97FF",
           "#FECB52"
          ],
          "font": {
           "color": "#2a3f5f"
          },
          "geo": {
           "bgcolor": "white",
           "lakecolor": "white",
           "landcolor": "#E5ECF6",
           "showlakes": true,
           "showland": true,
           "subunitcolor": "white"
          },
          "hoverlabel": {
           "align": "left"
          },
          "hovermode": "closest",
          "mapbox": {
           "style": "light"
          },
          "paper_bgcolor": "white",
          "plot_bgcolor": "#E5ECF6",
          "polar": {
           "angularaxis": {
            "gridcolor": "white",
            "linecolor": "white",
            "ticks": ""
           },
           "bgcolor": "#E5ECF6",
           "radialaxis": {
            "gridcolor": "white",
            "linecolor": "white",
            "ticks": ""
           }
          },
          "scene": {
           "xaxis": {
            "backgroundcolor": "#E5ECF6",
            "gridcolor": "white",
            "gridwidth": 2,
            "linecolor": "white",
            "showbackground": true,
            "ticks": "",
            "zerolinecolor": "white"
           },
           "yaxis": {
            "backgroundcolor": "#E5ECF6",
            "gridcolor": "white",
            "gridwidth": 2,
            "linecolor": "white",
            "showbackground": true,
            "ticks": "",
            "zerolinecolor": "white"
           },
           "zaxis": {
            "backgroundcolor": "#E5ECF6",
            "gridcolor": "white",
            "gridwidth": 2,
            "linecolor": "white",
            "showbackground": true,
            "ticks": "",
            "zerolinecolor": "white"
           }
          },
          "shapedefaults": {
           "line": {
            "color": "#2a3f5f"
           }
          },
          "ternary": {
           "aaxis": {
            "gridcolor": "white",
            "linecolor": "white",
            "ticks": ""
           },
           "baxis": {
            "gridcolor": "white",
            "linecolor": "white",
            "ticks": ""
           },
           "bgcolor": "#E5ECF6",
           "caxis": {
            "gridcolor": "white",
            "linecolor": "white",
            "ticks": ""
           }
          },
          "title": {
           "x": 0.05
          },
          "xaxis": {
           "automargin": true,
           "gridcolor": "white",
           "linecolor": "white",
           "ticks": "",
           "title": {
            "standoff": 15
           },
           "zerolinecolor": "white",
           "zerolinewidth": 2
          },
          "yaxis": {
           "automargin": true,
           "gridcolor": "white",
           "linecolor": "white",
           "ticks": "",
           "title": {
            "standoff": 15
           },
           "zerolinecolor": "white",
           "zerolinewidth": 2
          }
         }
        }
       }
      }
     },
     "metadata": {},
     "output_type": "display_data"
    }
   ],
   "source": [
    "# subtract the mean\n",
    "c1_meanzero = c1 - np.mean(c2, axis=1, keepdims=True)\n",
    "# divide by the standard deviation\n",
    "c1_std = c1_meanzero/np.std(c1_meanzero, axis=1, keepdims=True)\n",
    "# SVD\n",
    "U, S, VT = np.linalg.svd(c1_std, full_matrices=False)\n",
    "\n",
    "# make a figure showing the singular values\n",
    "svd_figure = pgo.Figure([pgo.Bar(x=np.arange(len(S)), y=S)])\n",
    "svd_figure.show()"
   ]
  },
  {
   "cell_type": "markdown",
   "id": "7da86a70",
   "metadata": {},
   "source": [
    "Compute the eigenvector of the first cluster's covariance matrix"
   ]
  },
  {
   "cell_type": "code",
   "execution_count": 14,
   "id": "49933117",
   "metadata": {},
   "outputs": [],
   "source": [
    "# eigenvector contained in v\n",
    "c1_cov = np.cov(c1_std.T)\n",
    "w, v1 = np.linalg.eig(c1_cov)\n",
    "v1_3 = v1[:,0:3]\n",
    "v1_6 = v1[:,0:6]\n",
    "c1_3 = c1_std @ v1_3\n",
    "c1_6 = c1_std @ v1_6\n",
    "# c1 with 3 features\n",
    "c1_3 = np.concatenate((c1_label, c1_3), axis = 1)\n",
    "# c1 with 6 features\n",
    "c1_6 = np.concatenate((c1_label, c1_6), axis = 1)"
   ]
  },
  {
   "cell_type": "markdown",
   "id": "61ba603b",
   "metadata": {},
   "source": [
    "2. Standardize the 2nd cluster"
   ]
  },
  {
   "cell_type": "code",
   "execution_count": 15,
   "id": "ae133863",
   "metadata": {},
   "outputs": [
    {
     "data": {
      "application/vnd.plotly.v1+json": {
       "config": {
        "plotlyServerURL": "https://plot.ly"
       },
       "data": [
        {
         "type": "bar",
         "x": [
          0,
          1,
          2,
          3,
          4,
          5,
          6,
          7,
          8,
          9,
          10,
          11,
          12,
          13,
          14,
          15,
          16,
          17,
          18,
          19,
          20,
          21,
          22,
          23,
          24,
          25,
          26,
          27,
          28,
          29,
          30,
          31,
          32,
          33,
          34,
          35,
          36,
          37,
          38,
          39,
          40,
          41,
          42,
          43,
          44,
          45,
          46,
          47,
          48,
          49,
          50,
          51,
          52,
          53,
          54,
          55,
          56,
          57,
          58,
          59,
          60,
          61,
          62,
          63,
          64,
          65,
          66,
          67,
          68,
          69,
          70,
          71,
          72,
          73,
          74,
          75,
          76,
          77,
          78,
          79,
          80,
          81,
          82,
          83,
          84,
          85,
          86,
          87,
          88,
          89,
          90,
          91,
          92,
          93,
          94,
          95,
          96,
          97,
          98,
          99
         ],
         "y": [
          352.3057603847892,
          100.9300121288417,
          85.87036614503911,
          24.951241056122367,
          23.070800077970425,
          17.999802373274633,
          12.2748451293521,
          11.704513089353735,
          10.804258387962003,
          10.626829047885437,
          10.566923990167604,
          10.474390240619485,
          10.419650840826261,
          10.368853013125259,
          10.347917237233233,
          10.277645901809175,
          10.119260395491535,
          10.035433179236916,
          9.962515694596375,
          9.87018077539477,
          9.811069342102412,
          9.771062429253268,
          9.719933018512158,
          9.714527169074287,
          9.653207606427758,
          9.546085350714302,
          9.526511163377927,
          9.436189422885764,
          9.424618638368324,
          9.38486580956086,
          9.337490746957124,
          9.251660360685605,
          9.23667492277332,
          9.185487275006528,
          9.171777038447752,
          9.120967349329522,
          9.082137821666807,
          9.062014694592103,
          9.06013484672736,
          8.987498236962567,
          8.936683579418483,
          8.870028762030401,
          8.843974334691872,
          8.810328330644298,
          8.749773191966089,
          8.733107707988315,
          8.69136379981405,
          8.665091154314721,
          8.589592710022776,
          8.547721631774913,
          8.495345913213063,
          8.437731308144537,
          8.413945699436658,
          8.372422147147171,
          8.324288301870373,
          8.311734144609138,
          8.263074261877616,
          8.22286879137744,
          8.20849461356842,
          8.159665941032758,
          8.146207566132402,
          8.06755205136839,
          8.028904298107024,
          7.993344552324132,
          7.92993209923169,
          7.914924692577725,
          7.89566459097787,
          7.855335921616922,
          7.791640855840188,
          7.769729764066969,
          7.744950637715858,
          7.700034652322608,
          7.633478003803185,
          7.570662922157296,
          7.539587482766629,
          7.473344339272457,
          7.412535934681727,
          7.392129939488765,
          7.346279030567237,
          7.267092706497052,
          7.234447247515019,
          7.185512030874647,
          7.173439851181251,
          7.104568986025862,
          7.070651694578635,
          7.007646291859155,
          6.930811024618283,
          6.888887887601313,
          6.8558992450403755,
          6.792989606984419,
          6.736640818356125,
          6.652924435807772,
          6.603146561642572,
          6.544538104632366,
          6.452189906670027,
          6.2751367497808275,
          6.178767507434376,
          6.137340851374128,
          6.083778505125163,
          1.3311327610345546e-14
         ]
        }
       ],
       "layout": {
        "template": {
         "data": {
          "bar": [
           {
            "error_x": {
             "color": "#2a3f5f"
            },
            "error_y": {
             "color": "#2a3f5f"
            },
            "marker": {
             "line": {
              "color": "#E5ECF6",
              "width": 0.5
             },
             "pattern": {
              "fillmode": "overlay",
              "size": 10,
              "solidity": 0.2
             }
            },
            "type": "bar"
           }
          ],
          "barpolar": [
           {
            "marker": {
             "line": {
              "color": "#E5ECF6",
              "width": 0.5
             },
             "pattern": {
              "fillmode": "overlay",
              "size": 10,
              "solidity": 0.2
             }
            },
            "type": "barpolar"
           }
          ],
          "carpet": [
           {
            "aaxis": {
             "endlinecolor": "#2a3f5f",
             "gridcolor": "white",
             "linecolor": "white",
             "minorgridcolor": "white",
             "startlinecolor": "#2a3f5f"
            },
            "baxis": {
             "endlinecolor": "#2a3f5f",
             "gridcolor": "white",
             "linecolor": "white",
             "minorgridcolor": "white",
             "startlinecolor": "#2a3f5f"
            },
            "type": "carpet"
           }
          ],
          "choropleth": [
           {
            "colorbar": {
             "outlinewidth": 0,
             "ticks": ""
            },
            "type": "choropleth"
           }
          ],
          "contour": [
           {
            "colorbar": {
             "outlinewidth": 0,
             "ticks": ""
            },
            "colorscale": [
             [
              0,
              "#0d0887"
             ],
             [
              0.1111111111111111,
              "#46039f"
             ],
             [
              0.2222222222222222,
              "#7201a8"
             ],
             [
              0.3333333333333333,
              "#9c179e"
             ],
             [
              0.4444444444444444,
              "#bd3786"
             ],
             [
              0.5555555555555556,
              "#d8576b"
             ],
             [
              0.6666666666666666,
              "#ed7953"
             ],
             [
              0.7777777777777778,
              "#fb9f3a"
             ],
             [
              0.8888888888888888,
              "#fdca26"
             ],
             [
              1,
              "#f0f921"
             ]
            ],
            "type": "contour"
           }
          ],
          "contourcarpet": [
           {
            "colorbar": {
             "outlinewidth": 0,
             "ticks": ""
            },
            "type": "contourcarpet"
           }
          ],
          "heatmap": [
           {
            "colorbar": {
             "outlinewidth": 0,
             "ticks": ""
            },
            "colorscale": [
             [
              0,
              "#0d0887"
             ],
             [
              0.1111111111111111,
              "#46039f"
             ],
             [
              0.2222222222222222,
              "#7201a8"
             ],
             [
              0.3333333333333333,
              "#9c179e"
             ],
             [
              0.4444444444444444,
              "#bd3786"
             ],
             [
              0.5555555555555556,
              "#d8576b"
             ],
             [
              0.6666666666666666,
              "#ed7953"
             ],
             [
              0.7777777777777778,
              "#fb9f3a"
             ],
             [
              0.8888888888888888,
              "#fdca26"
             ],
             [
              1,
              "#f0f921"
             ]
            ],
            "type": "heatmap"
           }
          ],
          "heatmapgl": [
           {
            "colorbar": {
             "outlinewidth": 0,
             "ticks": ""
            },
            "colorscale": [
             [
              0,
              "#0d0887"
             ],
             [
              0.1111111111111111,
              "#46039f"
             ],
             [
              0.2222222222222222,
              "#7201a8"
             ],
             [
              0.3333333333333333,
              "#9c179e"
             ],
             [
              0.4444444444444444,
              "#bd3786"
             ],
             [
              0.5555555555555556,
              "#d8576b"
             ],
             [
              0.6666666666666666,
              "#ed7953"
             ],
             [
              0.7777777777777778,
              "#fb9f3a"
             ],
             [
              0.8888888888888888,
              "#fdca26"
             ],
             [
              1,
              "#f0f921"
             ]
            ],
            "type": "heatmapgl"
           }
          ],
          "histogram": [
           {
            "marker": {
             "pattern": {
              "fillmode": "overlay",
              "size": 10,
              "solidity": 0.2
             }
            },
            "type": "histogram"
           }
          ],
          "histogram2d": [
           {
            "colorbar": {
             "outlinewidth": 0,
             "ticks": ""
            },
            "colorscale": [
             [
              0,
              "#0d0887"
             ],
             [
              0.1111111111111111,
              "#46039f"
             ],
             [
              0.2222222222222222,
              "#7201a8"
             ],
             [
              0.3333333333333333,
              "#9c179e"
             ],
             [
              0.4444444444444444,
              "#bd3786"
             ],
             [
              0.5555555555555556,
              "#d8576b"
             ],
             [
              0.6666666666666666,
              "#ed7953"
             ],
             [
              0.7777777777777778,
              "#fb9f3a"
             ],
             [
              0.8888888888888888,
              "#fdca26"
             ],
             [
              1,
              "#f0f921"
             ]
            ],
            "type": "histogram2d"
           }
          ],
          "histogram2dcontour": [
           {
            "colorbar": {
             "outlinewidth": 0,
             "ticks": ""
            },
            "colorscale": [
             [
              0,
              "#0d0887"
             ],
             [
              0.1111111111111111,
              "#46039f"
             ],
             [
              0.2222222222222222,
              "#7201a8"
             ],
             [
              0.3333333333333333,
              "#9c179e"
             ],
             [
              0.4444444444444444,
              "#bd3786"
             ],
             [
              0.5555555555555556,
              "#d8576b"
             ],
             [
              0.6666666666666666,
              "#ed7953"
             ],
             [
              0.7777777777777778,
              "#fb9f3a"
             ],
             [
              0.8888888888888888,
              "#fdca26"
             ],
             [
              1,
              "#f0f921"
             ]
            ],
            "type": "histogram2dcontour"
           }
          ],
          "mesh3d": [
           {
            "colorbar": {
             "outlinewidth": 0,
             "ticks": ""
            },
            "type": "mesh3d"
           }
          ],
          "parcoords": [
           {
            "line": {
             "colorbar": {
              "outlinewidth": 0,
              "ticks": ""
             }
            },
            "type": "parcoords"
           }
          ],
          "pie": [
           {
            "automargin": true,
            "type": "pie"
           }
          ],
          "scatter": [
           {
            "marker": {
             "colorbar": {
              "outlinewidth": 0,
              "ticks": ""
             }
            },
            "type": "scatter"
           }
          ],
          "scatter3d": [
           {
            "line": {
             "colorbar": {
              "outlinewidth": 0,
              "ticks": ""
             }
            },
            "marker": {
             "colorbar": {
              "outlinewidth": 0,
              "ticks": ""
             }
            },
            "type": "scatter3d"
           }
          ],
          "scattercarpet": [
           {
            "marker": {
             "colorbar": {
              "outlinewidth": 0,
              "ticks": ""
             }
            },
            "type": "scattercarpet"
           }
          ],
          "scattergeo": [
           {
            "marker": {
             "colorbar": {
              "outlinewidth": 0,
              "ticks": ""
             }
            },
            "type": "scattergeo"
           }
          ],
          "scattergl": [
           {
            "marker": {
             "colorbar": {
              "outlinewidth": 0,
              "ticks": ""
             }
            },
            "type": "scattergl"
           }
          ],
          "scattermapbox": [
           {
            "marker": {
             "colorbar": {
              "outlinewidth": 0,
              "ticks": ""
             }
            },
            "type": "scattermapbox"
           }
          ],
          "scatterpolar": [
           {
            "marker": {
             "colorbar": {
              "outlinewidth": 0,
              "ticks": ""
             }
            },
            "type": "scatterpolar"
           }
          ],
          "scatterpolargl": [
           {
            "marker": {
             "colorbar": {
              "outlinewidth": 0,
              "ticks": ""
             }
            },
            "type": "scatterpolargl"
           }
          ],
          "scatterternary": [
           {
            "marker": {
             "colorbar": {
              "outlinewidth": 0,
              "ticks": ""
             }
            },
            "type": "scatterternary"
           }
          ],
          "surface": [
           {
            "colorbar": {
             "outlinewidth": 0,
             "ticks": ""
            },
            "colorscale": [
             [
              0,
              "#0d0887"
             ],
             [
              0.1111111111111111,
              "#46039f"
             ],
             [
              0.2222222222222222,
              "#7201a8"
             ],
             [
              0.3333333333333333,
              "#9c179e"
             ],
             [
              0.4444444444444444,
              "#bd3786"
             ],
             [
              0.5555555555555556,
              "#d8576b"
             ],
             [
              0.6666666666666666,
              "#ed7953"
             ],
             [
              0.7777777777777778,
              "#fb9f3a"
             ],
             [
              0.8888888888888888,
              "#fdca26"
             ],
             [
              1,
              "#f0f921"
             ]
            ],
            "type": "surface"
           }
          ],
          "table": [
           {
            "cells": {
             "fill": {
              "color": "#EBF0F8"
             },
             "line": {
              "color": "white"
             }
            },
            "header": {
             "fill": {
              "color": "#C8D4E3"
             },
             "line": {
              "color": "white"
             }
            },
            "type": "table"
           }
          ]
         },
         "layout": {
          "annotationdefaults": {
           "arrowcolor": "#2a3f5f",
           "arrowhead": 0,
           "arrowwidth": 1
          },
          "autotypenumbers": "strict",
          "coloraxis": {
           "colorbar": {
            "outlinewidth": 0,
            "ticks": ""
           }
          },
          "colorscale": {
           "diverging": [
            [
             0,
             "#8e0152"
            ],
            [
             0.1,
             "#c51b7d"
            ],
            [
             0.2,
             "#de77ae"
            ],
            [
             0.3,
             "#f1b6da"
            ],
            [
             0.4,
             "#fde0ef"
            ],
            [
             0.5,
             "#f7f7f7"
            ],
            [
             0.6,
             "#e6f5d0"
            ],
            [
             0.7,
             "#b8e186"
            ],
            [
             0.8,
             "#7fbc41"
            ],
            [
             0.9,
             "#4d9221"
            ],
            [
             1,
             "#276419"
            ]
           ],
           "sequential": [
            [
             0,
             "#0d0887"
            ],
            [
             0.1111111111111111,
             "#46039f"
            ],
            [
             0.2222222222222222,
             "#7201a8"
            ],
            [
             0.3333333333333333,
             "#9c179e"
            ],
            [
             0.4444444444444444,
             "#bd3786"
            ],
            [
             0.5555555555555556,
             "#d8576b"
            ],
            [
             0.6666666666666666,
             "#ed7953"
            ],
            [
             0.7777777777777778,
             "#fb9f3a"
            ],
            [
             0.8888888888888888,
             "#fdca26"
            ],
            [
             1,
             "#f0f921"
            ]
           ],
           "sequentialminus": [
            [
             0,
             "#0d0887"
            ],
            [
             0.1111111111111111,
             "#46039f"
            ],
            [
             0.2222222222222222,
             "#7201a8"
            ],
            [
             0.3333333333333333,
             "#9c179e"
            ],
            [
             0.4444444444444444,
             "#bd3786"
            ],
            [
             0.5555555555555556,
             "#d8576b"
            ],
            [
             0.6666666666666666,
             "#ed7953"
            ],
            [
             0.7777777777777778,
             "#fb9f3a"
            ],
            [
             0.8888888888888888,
             "#fdca26"
            ],
            [
             1,
             "#f0f921"
            ]
           ]
          },
          "colorway": [
           "#636efa",
           "#EF553B",
           "#00cc96",
           "#ab63fa",
           "#FFA15A",
           "#19d3f3",
           "#FF6692",
           "#B6E880",
           "#FF97FF",
           "#FECB52"
          ],
          "font": {
           "color": "#2a3f5f"
          },
          "geo": {
           "bgcolor": "white",
           "lakecolor": "white",
           "landcolor": "#E5ECF6",
           "showlakes": true,
           "showland": true,
           "subunitcolor": "white"
          },
          "hoverlabel": {
           "align": "left"
          },
          "hovermode": "closest",
          "mapbox": {
           "style": "light"
          },
          "paper_bgcolor": "white",
          "plot_bgcolor": "#E5ECF6",
          "polar": {
           "angularaxis": {
            "gridcolor": "white",
            "linecolor": "white",
            "ticks": ""
           },
           "bgcolor": "#E5ECF6",
           "radialaxis": {
            "gridcolor": "white",
            "linecolor": "white",
            "ticks": ""
           }
          },
          "scene": {
           "xaxis": {
            "backgroundcolor": "#E5ECF6",
            "gridcolor": "white",
            "gridwidth": 2,
            "linecolor": "white",
            "showbackground": true,
            "ticks": "",
            "zerolinecolor": "white"
           },
           "yaxis": {
            "backgroundcolor": "#E5ECF6",
            "gridcolor": "white",
            "gridwidth": 2,
            "linecolor": "white",
            "showbackground": true,
            "ticks": "",
            "zerolinecolor": "white"
           },
           "zaxis": {
            "backgroundcolor": "#E5ECF6",
            "gridcolor": "white",
            "gridwidth": 2,
            "linecolor": "white",
            "showbackground": true,
            "ticks": "",
            "zerolinecolor": "white"
           }
          },
          "shapedefaults": {
           "line": {
            "color": "#2a3f5f"
           }
          },
          "ternary": {
           "aaxis": {
            "gridcolor": "white",
            "linecolor": "white",
            "ticks": ""
           },
           "baxis": {
            "gridcolor": "white",
            "linecolor": "white",
            "ticks": ""
           },
           "bgcolor": "#E5ECF6",
           "caxis": {
            "gridcolor": "white",
            "linecolor": "white",
            "ticks": ""
           }
          },
          "title": {
           "x": 0.05
          },
          "xaxis": {
           "automargin": true,
           "gridcolor": "white",
           "linecolor": "white",
           "ticks": "",
           "title": {
            "standoff": 15
           },
           "zerolinecolor": "white",
           "zerolinewidth": 2
          },
          "yaxis": {
           "automargin": true,
           "gridcolor": "white",
           "linecolor": "white",
           "ticks": "",
           "title": {
            "standoff": 15
           },
           "zerolinecolor": "white",
           "zerolinewidth": 2
          }
         }
        }
       }
      }
     },
     "metadata": {},
     "output_type": "display_data"
    }
   ],
   "source": [
    "# subtract the mean\n",
    "c2_meanzero = c2 - np.mean(c2, axis=1, keepdims=True)\n",
    "# divide by the standard deviation\n",
    "c2_std = c2_meanzero/np.std(c2_meanzero, axis=1, keepdims=True)\n",
    "# SVD\n",
    "U, S, VT = np.linalg.svd(c2_std, full_matrices=False)\n",
    "\n",
    "# make a figure showing the singular values\n",
    "svd_figure = pgo.Figure([pgo.Bar(x=np.arange(len(S)), y=S)])\n",
    "svd_figure.show()"
   ]
  },
  {
   "cell_type": "markdown",
   "id": "53efc56d",
   "metadata": {},
   "source": [
    "Compute the eigenvector of the second cluster's covariance matrix"
   ]
  },
  {
   "cell_type": "code",
   "execution_count": 16,
   "id": "bbab2785",
   "metadata": {},
   "outputs": [],
   "source": [
    "c2_cov = np.cov(c2_std.T)\n",
    "w, v2 = np.linalg.eig(c2_cov)\n",
    "v2_3 = v2[:,0:3]\n",
    "v2_6 = v2[:,0:6]\n",
    "c2_3 = c2_std @ v2_3\n",
    "c2_6 = c2_std @ v2_6\n",
    "# c2 with 3 features\n",
    "c2_3 = np.concatenate((c2_label, c2_3), axis = 1)\n",
    "# c2 with 6 features\n",
    "c2_6 = np.concatenate((c2_label, c2_6), axis = 1)"
   ]
  },
  {
   "cell_type": "markdown",
   "id": "327fd968",
   "metadata": {},
   "source": [
    "3. Standardize the 3rd cluster"
   ]
  },
  {
   "cell_type": "code",
   "execution_count": 17,
   "id": "6a336fdf",
   "metadata": {},
   "outputs": [
    {
     "data": {
      "application/vnd.plotly.v1+json": {
       "config": {
        "plotlyServerURL": "https://plot.ly"
       },
       "data": [
        {
         "type": "bar",
         "x": [
          0,
          1,
          2,
          3,
          4,
          5,
          6,
          7,
          8,
          9,
          10,
          11,
          12,
          13,
          14,
          15,
          16,
          17,
          18,
          19,
          20,
          21,
          22,
          23,
          24,
          25,
          26,
          27,
          28,
          29,
          30,
          31,
          32,
          33,
          34,
          35,
          36,
          37,
          38,
          39,
          40,
          41,
          42,
          43,
          44,
          45,
          46,
          47,
          48,
          49,
          50,
          51,
          52,
          53,
          54,
          55,
          56,
          57,
          58,
          59,
          60,
          61,
          62,
          63,
          64,
          65,
          66,
          67,
          68,
          69,
          70,
          71,
          72,
          73,
          74,
          75,
          76,
          77,
          78,
          79,
          80,
          81,
          82,
          83,
          84,
          85,
          86,
          87,
          88,
          89,
          90,
          91,
          92,
          93,
          94,
          95,
          96,
          97,
          98,
          99
         ],
         "y": [
          355.3734605536241,
          98.0412736347577,
          81.64081278702251,
          22.602320764367946,
          19.613257939645962,
          18.064499445612544,
          11.066606835914738,
          10.926777026879087,
          10.449675497786107,
          10.201140432890286,
          9.932645771379502,
          9.912295692572055,
          9.84403058403805,
          9.822337820110693,
          9.69490322147042,
          9.647460650270935,
          9.632830321186248,
          9.571401179786427,
          9.476288176658715,
          9.36432877071525,
          9.334589600259772,
          9.26856804255395,
          9.252595764988541,
          9.22214447149898,
          9.17676674527361,
          9.128677672997485,
          9.09480388418091,
          9.078446382239491,
          8.999675203179871,
          8.960643421452257,
          8.930228887464207,
          8.922444110265522,
          8.862599835687783,
          8.836045234311507,
          8.75717202740289,
          8.731736533142259,
          8.704312391600169,
          8.662687810548611,
          8.61636548102985,
          8.565146628584461,
          8.547434748390371,
          8.49452805480289,
          8.458144775644511,
          8.38426246452254,
          8.36513218877146,
          8.308126803651543,
          8.253879325378742,
          8.198453026301655,
          8.165419473939377,
          8.121870863699405,
          8.088614763267895,
          8.08023951788525,
          8.057379991302362,
          8.041748283233646,
          7.975060339418021,
          7.950975788814779,
          7.905916715392501,
          7.86662498565623,
          7.831350254410545,
          7.7920411845736846,
          7.7202731467138275,
          7.6797542194405315,
          7.663998085138475,
          7.629661168308199,
          7.603514979042066,
          7.574052786565353,
          7.528239706001762,
          7.505173850328821,
          7.429002327580929,
          7.393300403450183,
          7.358723651834252,
          7.338013460741789,
          7.264271341096715,
          7.1997362946658185,
          7.169382109268121,
          7.125336984004846,
          7.099856484940629,
          7.039309995132278,
          7.0233721452213045,
          6.979091617322801,
          6.936183532833774,
          6.918080585928317,
          6.8572317606822635,
          6.838319863199142,
          6.797654521901858,
          6.717459268457228,
          6.677572714285335,
          6.6097686755983185,
          6.578943525015705,
          6.535231823868461,
          6.44540795828678,
          6.367779765123342,
          6.282887931038512,
          6.193358785275021,
          6.171352678735358,
          6.087161633595851,
          6.047023016789156,
          5.96879173211058,
          5.883597926983883,
          1.2940376322241504e-14
         ]
        }
       ],
       "layout": {
        "template": {
         "data": {
          "bar": [
           {
            "error_x": {
             "color": "#2a3f5f"
            },
            "error_y": {
             "color": "#2a3f5f"
            },
            "marker": {
             "line": {
              "color": "#E5ECF6",
              "width": 0.5
             },
             "pattern": {
              "fillmode": "overlay",
              "size": 10,
              "solidity": 0.2
             }
            },
            "type": "bar"
           }
          ],
          "barpolar": [
           {
            "marker": {
             "line": {
              "color": "#E5ECF6",
              "width": 0.5
             },
             "pattern": {
              "fillmode": "overlay",
              "size": 10,
              "solidity": 0.2
             }
            },
            "type": "barpolar"
           }
          ],
          "carpet": [
           {
            "aaxis": {
             "endlinecolor": "#2a3f5f",
             "gridcolor": "white",
             "linecolor": "white",
             "minorgridcolor": "white",
             "startlinecolor": "#2a3f5f"
            },
            "baxis": {
             "endlinecolor": "#2a3f5f",
             "gridcolor": "white",
             "linecolor": "white",
             "minorgridcolor": "white",
             "startlinecolor": "#2a3f5f"
            },
            "type": "carpet"
           }
          ],
          "choropleth": [
           {
            "colorbar": {
             "outlinewidth": 0,
             "ticks": ""
            },
            "type": "choropleth"
           }
          ],
          "contour": [
           {
            "colorbar": {
             "outlinewidth": 0,
             "ticks": ""
            },
            "colorscale": [
             [
              0,
              "#0d0887"
             ],
             [
              0.1111111111111111,
              "#46039f"
             ],
             [
              0.2222222222222222,
              "#7201a8"
             ],
             [
              0.3333333333333333,
              "#9c179e"
             ],
             [
              0.4444444444444444,
              "#bd3786"
             ],
             [
              0.5555555555555556,
              "#d8576b"
             ],
             [
              0.6666666666666666,
              "#ed7953"
             ],
             [
              0.7777777777777778,
              "#fb9f3a"
             ],
             [
              0.8888888888888888,
              "#fdca26"
             ],
             [
              1,
              "#f0f921"
             ]
            ],
            "type": "contour"
           }
          ],
          "contourcarpet": [
           {
            "colorbar": {
             "outlinewidth": 0,
             "ticks": ""
            },
            "type": "contourcarpet"
           }
          ],
          "heatmap": [
           {
            "colorbar": {
             "outlinewidth": 0,
             "ticks": ""
            },
            "colorscale": [
             [
              0,
              "#0d0887"
             ],
             [
              0.1111111111111111,
              "#46039f"
             ],
             [
              0.2222222222222222,
              "#7201a8"
             ],
             [
              0.3333333333333333,
              "#9c179e"
             ],
             [
              0.4444444444444444,
              "#bd3786"
             ],
             [
              0.5555555555555556,
              "#d8576b"
             ],
             [
              0.6666666666666666,
              "#ed7953"
             ],
             [
              0.7777777777777778,
              "#fb9f3a"
             ],
             [
              0.8888888888888888,
              "#fdca26"
             ],
             [
              1,
              "#f0f921"
             ]
            ],
            "type": "heatmap"
           }
          ],
          "heatmapgl": [
           {
            "colorbar": {
             "outlinewidth": 0,
             "ticks": ""
            },
            "colorscale": [
             [
              0,
              "#0d0887"
             ],
             [
              0.1111111111111111,
              "#46039f"
             ],
             [
              0.2222222222222222,
              "#7201a8"
             ],
             [
              0.3333333333333333,
              "#9c179e"
             ],
             [
              0.4444444444444444,
              "#bd3786"
             ],
             [
              0.5555555555555556,
              "#d8576b"
             ],
             [
              0.6666666666666666,
              "#ed7953"
             ],
             [
              0.7777777777777778,
              "#fb9f3a"
             ],
             [
              0.8888888888888888,
              "#fdca26"
             ],
             [
              1,
              "#f0f921"
             ]
            ],
            "type": "heatmapgl"
           }
          ],
          "histogram": [
           {
            "marker": {
             "pattern": {
              "fillmode": "overlay",
              "size": 10,
              "solidity": 0.2
             }
            },
            "type": "histogram"
           }
          ],
          "histogram2d": [
           {
            "colorbar": {
             "outlinewidth": 0,
             "ticks": ""
            },
            "colorscale": [
             [
              0,
              "#0d0887"
             ],
             [
              0.1111111111111111,
              "#46039f"
             ],
             [
              0.2222222222222222,
              "#7201a8"
             ],
             [
              0.3333333333333333,
              "#9c179e"
             ],
             [
              0.4444444444444444,
              "#bd3786"
             ],
             [
              0.5555555555555556,
              "#d8576b"
             ],
             [
              0.6666666666666666,
              "#ed7953"
             ],
             [
              0.7777777777777778,
              "#fb9f3a"
             ],
             [
              0.8888888888888888,
              "#fdca26"
             ],
             [
              1,
              "#f0f921"
             ]
            ],
            "type": "histogram2d"
           }
          ],
          "histogram2dcontour": [
           {
            "colorbar": {
             "outlinewidth": 0,
             "ticks": ""
            },
            "colorscale": [
             [
              0,
              "#0d0887"
             ],
             [
              0.1111111111111111,
              "#46039f"
             ],
             [
              0.2222222222222222,
              "#7201a8"
             ],
             [
              0.3333333333333333,
              "#9c179e"
             ],
             [
              0.4444444444444444,
              "#bd3786"
             ],
             [
              0.5555555555555556,
              "#d8576b"
             ],
             [
              0.6666666666666666,
              "#ed7953"
             ],
             [
              0.7777777777777778,
              "#fb9f3a"
             ],
             [
              0.8888888888888888,
              "#fdca26"
             ],
             [
              1,
              "#f0f921"
             ]
            ],
            "type": "histogram2dcontour"
           }
          ],
          "mesh3d": [
           {
            "colorbar": {
             "outlinewidth": 0,
             "ticks": ""
            },
            "type": "mesh3d"
           }
          ],
          "parcoords": [
           {
            "line": {
             "colorbar": {
              "outlinewidth": 0,
              "ticks": ""
             }
            },
            "type": "parcoords"
           }
          ],
          "pie": [
           {
            "automargin": true,
            "type": "pie"
           }
          ],
          "scatter": [
           {
            "marker": {
             "colorbar": {
              "outlinewidth": 0,
              "ticks": ""
             }
            },
            "type": "scatter"
           }
          ],
          "scatter3d": [
           {
            "line": {
             "colorbar": {
              "outlinewidth": 0,
              "ticks": ""
             }
            },
            "marker": {
             "colorbar": {
              "outlinewidth": 0,
              "ticks": ""
             }
            },
            "type": "scatter3d"
           }
          ],
          "scattercarpet": [
           {
            "marker": {
             "colorbar": {
              "outlinewidth": 0,
              "ticks": ""
             }
            },
            "type": "scattercarpet"
           }
          ],
          "scattergeo": [
           {
            "marker": {
             "colorbar": {
              "outlinewidth": 0,
              "ticks": ""
             }
            },
            "type": "scattergeo"
           }
          ],
          "scattergl": [
           {
            "marker": {
             "colorbar": {
              "outlinewidth": 0,
              "ticks": ""
             }
            },
            "type": "scattergl"
           }
          ],
          "scattermapbox": [
           {
            "marker": {
             "colorbar": {
              "outlinewidth": 0,
              "ticks": ""
             }
            },
            "type": "scattermapbox"
           }
          ],
          "scatterpolar": [
           {
            "marker": {
             "colorbar": {
              "outlinewidth": 0,
              "ticks": ""
             }
            },
            "type": "scatterpolar"
           }
          ],
          "scatterpolargl": [
           {
            "marker": {
             "colorbar": {
              "outlinewidth": 0,
              "ticks": ""
             }
            },
            "type": "scatterpolargl"
           }
          ],
          "scatterternary": [
           {
            "marker": {
             "colorbar": {
              "outlinewidth": 0,
              "ticks": ""
             }
            },
            "type": "scatterternary"
           }
          ],
          "surface": [
           {
            "colorbar": {
             "outlinewidth": 0,
             "ticks": ""
            },
            "colorscale": [
             [
              0,
              "#0d0887"
             ],
             [
              0.1111111111111111,
              "#46039f"
             ],
             [
              0.2222222222222222,
              "#7201a8"
             ],
             [
              0.3333333333333333,
              "#9c179e"
             ],
             [
              0.4444444444444444,
              "#bd3786"
             ],
             [
              0.5555555555555556,
              "#d8576b"
             ],
             [
              0.6666666666666666,
              "#ed7953"
             ],
             [
              0.7777777777777778,
              "#fb9f3a"
             ],
             [
              0.8888888888888888,
              "#fdca26"
             ],
             [
              1,
              "#f0f921"
             ]
            ],
            "type": "surface"
           }
          ],
          "table": [
           {
            "cells": {
             "fill": {
              "color": "#EBF0F8"
             },
             "line": {
              "color": "white"
             }
            },
            "header": {
             "fill": {
              "color": "#C8D4E3"
             },
             "line": {
              "color": "white"
             }
            },
            "type": "table"
           }
          ]
         },
         "layout": {
          "annotationdefaults": {
           "arrowcolor": "#2a3f5f",
           "arrowhead": 0,
           "arrowwidth": 1
          },
          "autotypenumbers": "strict",
          "coloraxis": {
           "colorbar": {
            "outlinewidth": 0,
            "ticks": ""
           }
          },
          "colorscale": {
           "diverging": [
            [
             0,
             "#8e0152"
            ],
            [
             0.1,
             "#c51b7d"
            ],
            [
             0.2,
             "#de77ae"
            ],
            [
             0.3,
             "#f1b6da"
            ],
            [
             0.4,
             "#fde0ef"
            ],
            [
             0.5,
             "#f7f7f7"
            ],
            [
             0.6,
             "#e6f5d0"
            ],
            [
             0.7,
             "#b8e186"
            ],
            [
             0.8,
             "#7fbc41"
            ],
            [
             0.9,
             "#4d9221"
            ],
            [
             1,
             "#276419"
            ]
           ],
           "sequential": [
            [
             0,
             "#0d0887"
            ],
            [
             0.1111111111111111,
             "#46039f"
            ],
            [
             0.2222222222222222,
             "#7201a8"
            ],
            [
             0.3333333333333333,
             "#9c179e"
            ],
            [
             0.4444444444444444,
             "#bd3786"
            ],
            [
             0.5555555555555556,
             "#d8576b"
            ],
            [
             0.6666666666666666,
             "#ed7953"
            ],
            [
             0.7777777777777778,
             "#fb9f3a"
            ],
            [
             0.8888888888888888,
             "#fdca26"
            ],
            [
             1,
             "#f0f921"
            ]
           ],
           "sequentialminus": [
            [
             0,
             "#0d0887"
            ],
            [
             0.1111111111111111,
             "#46039f"
            ],
            [
             0.2222222222222222,
             "#7201a8"
            ],
            [
             0.3333333333333333,
             "#9c179e"
            ],
            [
             0.4444444444444444,
             "#bd3786"
            ],
            [
             0.5555555555555556,
             "#d8576b"
            ],
            [
             0.6666666666666666,
             "#ed7953"
            ],
            [
             0.7777777777777778,
             "#fb9f3a"
            ],
            [
             0.8888888888888888,
             "#fdca26"
            ],
            [
             1,
             "#f0f921"
            ]
           ]
          },
          "colorway": [
           "#636efa",
           "#EF553B",
           "#00cc96",
           "#ab63fa",
           "#FFA15A",
           "#19d3f3",
           "#FF6692",
           "#B6E880",
           "#FF97FF",
           "#FECB52"
          ],
          "font": {
           "color": "#2a3f5f"
          },
          "geo": {
           "bgcolor": "white",
           "lakecolor": "white",
           "landcolor": "#E5ECF6",
           "showlakes": true,
           "showland": true,
           "subunitcolor": "white"
          },
          "hoverlabel": {
           "align": "left"
          },
          "hovermode": "closest",
          "mapbox": {
           "style": "light"
          },
          "paper_bgcolor": "white",
          "plot_bgcolor": "#E5ECF6",
          "polar": {
           "angularaxis": {
            "gridcolor": "white",
            "linecolor": "white",
            "ticks": ""
           },
           "bgcolor": "#E5ECF6",
           "radialaxis": {
            "gridcolor": "white",
            "linecolor": "white",
            "ticks": ""
           }
          },
          "scene": {
           "xaxis": {
            "backgroundcolor": "#E5ECF6",
            "gridcolor": "white",
            "gridwidth": 2,
            "linecolor": "white",
            "showbackground": true,
            "ticks": "",
            "zerolinecolor": "white"
           },
           "yaxis": {
            "backgroundcolor": "#E5ECF6",
            "gridcolor": "white",
            "gridwidth": 2,
            "linecolor": "white",
            "showbackground": true,
            "ticks": "",
            "zerolinecolor": "white"
           },
           "zaxis": {
            "backgroundcolor": "#E5ECF6",
            "gridcolor": "white",
            "gridwidth": 2,
            "linecolor": "white",
            "showbackground": true,
            "ticks": "",
            "zerolinecolor": "white"
           }
          },
          "shapedefaults": {
           "line": {
            "color": "#2a3f5f"
           }
          },
          "ternary": {
           "aaxis": {
            "gridcolor": "white",
            "linecolor": "white",
            "ticks": ""
           },
           "baxis": {
            "gridcolor": "white",
            "linecolor": "white",
            "ticks": ""
           },
           "bgcolor": "#E5ECF6",
           "caxis": {
            "gridcolor": "white",
            "linecolor": "white",
            "ticks": ""
           }
          },
          "title": {
           "x": 0.05
          },
          "xaxis": {
           "automargin": true,
           "gridcolor": "white",
           "linecolor": "white",
           "ticks": "",
           "title": {
            "standoff": 15
           },
           "zerolinecolor": "white",
           "zerolinewidth": 2
          },
          "yaxis": {
           "automargin": true,
           "gridcolor": "white",
           "linecolor": "white",
           "ticks": "",
           "title": {
            "standoff": 15
           },
           "zerolinecolor": "white",
           "zerolinewidth": 2
          }
         }
        }
       }
      }
     },
     "metadata": {},
     "output_type": "display_data"
    }
   ],
   "source": [
    "# subtract the mean\n",
    "c3_meanzero = c3 - np.mean(c3, axis=1, keepdims=True)\n",
    "# divide by the standard deviation\n",
    "c3_std = c3_meanzero/np.std(c3_meanzero, axis=1, keepdims=True)\n",
    "# SVD\n",
    "U, S, VT = np.linalg.svd(c3_std, full_matrices=False)\n",
    "\n",
    "# make a figure showing the singular values\n",
    "svd_figure = pgo.Figure([pgo.Bar(x=np.arange(len(S)), y=S)])\n",
    "svd_figure.show()"
   ]
  },
  {
   "cell_type": "markdown",
   "id": "e3619e23",
   "metadata": {},
   "source": [
    "Compute the eigenvector of the 3rd cluster's covariance matrix"
   ]
  },
  {
   "cell_type": "code",
   "execution_count": 18,
   "id": "caf597b7",
   "metadata": {},
   "outputs": [],
   "source": [
    "c3_cov = np.cov(c3_std.T)\n",
    "w, v3 = np.linalg.eig(c3_cov)\n",
    "v3_3 = v3[:,0:3]\n",
    "v3_6 = v3[:, 0:6]\n",
    "c3_3 = c3_std @ v3_3\n",
    "c3_6 = c3_std @ v3_6\n",
    "c3_3 = np.concatenate((c3_label, c3_3), axis = 1)\n",
    "c3_6 = np.concatenate((c3_label, c3_6), axis = 1)"
   ]
  },
  {
   "cell_type": "markdown",
   "id": "eb58cf9a",
   "metadata": {},
   "source": [
    "## 5) Put the processed clusters back in place"
   ]
  },
  {
   "cell_type": "code",
   "execution_count": 19,
   "id": "d6cb0b8e",
   "metadata": {},
   "outputs": [],
   "source": [
    "count_1 = 0\n",
    "count_2 = 0\n",
    "count_3 = 0\n",
    "X = np.zeros((4500, 4))\n",
    "X6f = np.zeros((4500, 7))\n",
    "# loop through the original labels to put clusters back in place\n",
    "for i in range(X.shape[0]):\n",
    "    if count_1 == 1500:\n",
    "        count_1 -= 1\n",
    "    if count_2 == 1500:\n",
    "        count_2 -= 1\n",
    "    if count_3 == 1500:\n",
    "        count_3 -= 1\n",
    "    if his_label[i] == c1_3[count_1,0]:\n",
    "        X[i,:] = c1_3[count_1,:]\n",
    "        X6f[i,:] = c1_6[count_1,:]\n",
    "        count_1 = count_1 + 1\n",
    "    elif his_label[i] == c2_3[count_2,0]:\n",
    "        X[i,:] = c2_3[count_2,:]\n",
    "        X6f[i,:] = c2_6[count_2,:]\n",
    "        count_2 = count_2 + 1\n",
    "    else:\n",
    "        X[i,:] = c3_3[count_3,:]\n",
    "        X6f[i,:] = c3_6[count_3,:]\n",
    "        count_3 = count_3 + 1"
   ]
  },
  {
   "cell_type": "code",
   "execution_count": 20,
   "id": "07a5b85d",
   "metadata": {},
   "outputs": [
    {
     "name": "stdout",
     "output_type": "stream",
     "text": [
      "[[ 1.00950000e+05 -2.59702368e+00 -1.26912601e+00  6.06181224e+00]\n",
      " [ 1.00956000e+05  1.80500661e+00 -3.97689757e+00 -5.64866447e+00]\n",
      " [ 1.00962000e+05 -5.19788223e+00 -6.54200793e-01 -5.40409166e+00]\n",
      " [ 1.00969000e+05  1.12922744e+00 -5.37401553e+00  4.03012679e+00]\n",
      " [ 1.00974000e+05 -4.76076334e+00  1.29635386e+00 -5.42727327e+00]]\n",
      "[[ 1.00950000e+05 -2.59702368e+00 -1.26912601e+00  6.06181224e+00\n",
      "  -1.13829803e+00 -1.37695396e+00 -4.60048666e-15]\n",
      " [ 1.00956000e+05  1.80500661e+00 -3.97689757e+00 -5.64866447e+00\n",
      "  -4.95112914e-01 -1.08301463e+00 -9.34481289e-01]\n",
      " [ 1.00962000e+05 -5.19788223e+00 -6.54200793e-01 -5.40409166e+00\n",
      "  -9.17150716e-01 -8.46291016e-01 -8.82686497e-01]\n",
      " [ 1.00969000e+05  1.12922744e+00 -5.37401553e+00  4.03012679e+00\n",
      "  -1.15161486e+00  8.34387677e-01 -2.72698530e-15]\n",
      " [ 1.00974000e+05 -4.76076334e+00  1.29635386e+00 -5.42727327e+00\n",
      "  -5.86367818e-01 -8.16210872e-01 -1.49653954e+00]]\n"
     ]
    }
   ],
   "source": [
    "print (X[0:5])\n",
    "print(X6f[0:5])"
   ]
  },
  {
   "cell_type": "markdown",
   "id": "2591a6dc",
   "metadata": {},
   "source": [
    "The X is the clusters put back in original order after PCA, reserving user ID and three PCA features."
   ]
  },
  {
   "cell_type": "markdown",
   "id": "5f597890",
   "metadata": {},
   "source": [
    "## 6) Fill in NAs in the Ratings matrix"
   ]
  },
  {
   "cell_type": "code",
   "execution_count": 21,
   "id": "09e12285",
   "metadata": {},
   "outputs": [
    {
     "data": {
      "text/html": [
       "<div>\n",
       "<style scoped>\n",
       "    .dataframe tbody tr th:only-of-type {\n",
       "        vertical-align: middle;\n",
       "    }\n",
       "\n",
       "    .dataframe tbody tr th {\n",
       "        vertical-align: top;\n",
       "    }\n",
       "\n",
       "    .dataframe thead th {\n",
       "        text-align: right;\n",
       "    }\n",
       "</style>\n",
       "<table border=\"1\" class=\"dataframe\">\n",
       "  <thead>\n",
       "    <tr style=\"text-align: right;\">\n",
       "      <th>PRODUCT</th>\n",
       "      <th>adrian crater</th>\n",
       "      <th>anagram mentor</th>\n",
       "      <th>apropos pizza</th>\n",
       "      <th>bandit anatomy</th>\n",
       "      <th>banjo ladder</th>\n",
       "      <th>barcode arnold</th>\n",
       "      <th>bazooka diagram</th>\n",
       "      <th>bronze mystic</th>\n",
       "      <th>calypso zigzag</th>\n",
       "      <th>casino unit</th>\n",
       "      <th>...</th>\n",
       "      <th>tourist micro</th>\n",
       "      <th>tripod stand</th>\n",
       "      <th>update lola</th>\n",
       "      <th>ventura puzzle</th>\n",
       "      <th>viking llama</th>\n",
       "      <th>violet saga</th>\n",
       "      <th>vista queen</th>\n",
       "      <th>viva avalon</th>\n",
       "      <th>voodoo planet</th>\n",
       "      <th>wheel gibson</th>\n",
       "    </tr>\n",
       "    <tr>\n",
       "      <th>USER ID</th>\n",
       "      <th></th>\n",
       "      <th></th>\n",
       "      <th></th>\n",
       "      <th></th>\n",
       "      <th></th>\n",
       "      <th></th>\n",
       "      <th></th>\n",
       "      <th></th>\n",
       "      <th></th>\n",
       "      <th></th>\n",
       "      <th></th>\n",
       "      <th></th>\n",
       "      <th></th>\n",
       "      <th></th>\n",
       "      <th></th>\n",
       "      <th></th>\n",
       "      <th></th>\n",
       "      <th></th>\n",
       "      <th></th>\n",
       "      <th></th>\n",
       "      <th></th>\n",
       "    </tr>\n",
       "  </thead>\n",
       "  <tbody>\n",
       "    <tr>\n",
       "      <th>100950</th>\n",
       "      <td>NaN</td>\n",
       "      <td>NaN</td>\n",
       "      <td>NaN</td>\n",
       "      <td>NaN</td>\n",
       "      <td>8.0</td>\n",
       "      <td>NaN</td>\n",
       "      <td>NaN</td>\n",
       "      <td>NaN</td>\n",
       "      <td>5.0</td>\n",
       "      <td>NaN</td>\n",
       "      <td>...</td>\n",
       "      <td>NaN</td>\n",
       "      <td>NaN</td>\n",
       "      <td>NaN</td>\n",
       "      <td>NaN</td>\n",
       "      <td>NaN</td>\n",
       "      <td>4.0</td>\n",
       "      <td>NaN</td>\n",
       "      <td>NaN</td>\n",
       "      <td>NaN</td>\n",
       "      <td>NaN</td>\n",
       "    </tr>\n",
       "    <tr>\n",
       "      <th>100956</th>\n",
       "      <td>NaN</td>\n",
       "      <td>NaN</td>\n",
       "      <td>NaN</td>\n",
       "      <td>NaN</td>\n",
       "      <td>NaN</td>\n",
       "      <td>5.0</td>\n",
       "      <td>NaN</td>\n",
       "      <td>NaN</td>\n",
       "      <td>NaN</td>\n",
       "      <td>NaN</td>\n",
       "      <td>...</td>\n",
       "      <td>NaN</td>\n",
       "      <td>NaN</td>\n",
       "      <td>NaN</td>\n",
       "      <td>NaN</td>\n",
       "      <td>NaN</td>\n",
       "      <td>NaN</td>\n",
       "      <td>NaN</td>\n",
       "      <td>NaN</td>\n",
       "      <td>NaN</td>\n",
       "      <td>NaN</td>\n",
       "    </tr>\n",
       "    <tr>\n",
       "      <th>100962</th>\n",
       "      <td>NaN</td>\n",
       "      <td>NaN</td>\n",
       "      <td>NaN</td>\n",
       "      <td>NaN</td>\n",
       "      <td>NaN</td>\n",
       "      <td>NaN</td>\n",
       "      <td>NaN</td>\n",
       "      <td>NaN</td>\n",
       "      <td>NaN</td>\n",
       "      <td>NaN</td>\n",
       "      <td>...</td>\n",
       "      <td>NaN</td>\n",
       "      <td>NaN</td>\n",
       "      <td>NaN</td>\n",
       "      <td>NaN</td>\n",
       "      <td>NaN</td>\n",
       "      <td>NaN</td>\n",
       "      <td>NaN</td>\n",
       "      <td>NaN</td>\n",
       "      <td>NaN</td>\n",
       "      <td>NaN</td>\n",
       "    </tr>\n",
       "    <tr>\n",
       "      <th>100969</th>\n",
       "      <td>NaN</td>\n",
       "      <td>10.0</td>\n",
       "      <td>1.0</td>\n",
       "      <td>NaN</td>\n",
       "      <td>5.0</td>\n",
       "      <td>NaN</td>\n",
       "      <td>NaN</td>\n",
       "      <td>NaN</td>\n",
       "      <td>NaN</td>\n",
       "      <td>NaN</td>\n",
       "      <td>...</td>\n",
       "      <td>NaN</td>\n",
       "      <td>NaN</td>\n",
       "      <td>5.0</td>\n",
       "      <td>NaN</td>\n",
       "      <td>NaN</td>\n",
       "      <td>0.0</td>\n",
       "      <td>NaN</td>\n",
       "      <td>NaN</td>\n",
       "      <td>8.0</td>\n",
       "      <td>2.0</td>\n",
       "    </tr>\n",
       "    <tr>\n",
       "      <th>100974</th>\n",
       "      <td>NaN</td>\n",
       "      <td>NaN</td>\n",
       "      <td>NaN</td>\n",
       "      <td>9.0</td>\n",
       "      <td>NaN</td>\n",
       "      <td>5.0</td>\n",
       "      <td>NaN</td>\n",
       "      <td>1.0</td>\n",
       "      <td>NaN</td>\n",
       "      <td>NaN</td>\n",
       "      <td>...</td>\n",
       "      <td>NaN</td>\n",
       "      <td>NaN</td>\n",
       "      <td>NaN</td>\n",
       "      <td>NaN</td>\n",
       "      <td>NaN</td>\n",
       "      <td>NaN</td>\n",
       "      <td>NaN</td>\n",
       "      <td>9.0</td>\n",
       "      <td>NaN</td>\n",
       "      <td>NaN</td>\n",
       "    </tr>\n",
       "    <tr>\n",
       "      <th>...</th>\n",
       "      <td>...</td>\n",
       "      <td>...</td>\n",
       "      <td>...</td>\n",
       "      <td>...</td>\n",
       "      <td>...</td>\n",
       "      <td>...</td>\n",
       "      <td>...</td>\n",
       "      <td>...</td>\n",
       "      <td>...</td>\n",
       "      <td>...</td>\n",
       "      <td>...</td>\n",
       "      <td>...</td>\n",
       "      <td>...</td>\n",
       "      <td>...</td>\n",
       "      <td>...</td>\n",
       "      <td>...</td>\n",
       "      <td>...</td>\n",
       "      <td>...</td>\n",
       "      <td>...</td>\n",
       "      <td>...</td>\n",
       "      <td>...</td>\n",
       "    </tr>\n",
       "    <tr>\n",
       "      <th>117440</th>\n",
       "      <td>NaN</td>\n",
       "      <td>NaN</td>\n",
       "      <td>NaN</td>\n",
       "      <td>NaN</td>\n",
       "      <td>6.0</td>\n",
       "      <td>NaN</td>\n",
       "      <td>NaN</td>\n",
       "      <td>NaN</td>\n",
       "      <td>NaN</td>\n",
       "      <td>NaN</td>\n",
       "      <td>...</td>\n",
       "      <td>NaN</td>\n",
       "      <td>NaN</td>\n",
       "      <td>4.0</td>\n",
       "      <td>6.0</td>\n",
       "      <td>NaN</td>\n",
       "      <td>NaN</td>\n",
       "      <td>NaN</td>\n",
       "      <td>NaN</td>\n",
       "      <td>NaN</td>\n",
       "      <td>5.0</td>\n",
       "    </tr>\n",
       "    <tr>\n",
       "      <th>117442</th>\n",
       "      <td>6.0</td>\n",
       "      <td>NaN</td>\n",
       "      <td>NaN</td>\n",
       "      <td>NaN</td>\n",
       "      <td>NaN</td>\n",
       "      <td>6.0</td>\n",
       "      <td>NaN</td>\n",
       "      <td>NaN</td>\n",
       "      <td>NaN</td>\n",
       "      <td>NaN</td>\n",
       "      <td>...</td>\n",
       "      <td>NaN</td>\n",
       "      <td>NaN</td>\n",
       "      <td>NaN</td>\n",
       "      <td>NaN</td>\n",
       "      <td>NaN</td>\n",
       "      <td>NaN</td>\n",
       "      <td>NaN</td>\n",
       "      <td>NaN</td>\n",
       "      <td>1.0</td>\n",
       "      <td>NaN</td>\n",
       "    </tr>\n",
       "    <tr>\n",
       "      <th>117446</th>\n",
       "      <td>NaN</td>\n",
       "      <td>NaN</td>\n",
       "      <td>NaN</td>\n",
       "      <td>NaN</td>\n",
       "      <td>NaN</td>\n",
       "      <td>NaN</td>\n",
       "      <td>NaN</td>\n",
       "      <td>NaN</td>\n",
       "      <td>NaN</td>\n",
       "      <td>3.0</td>\n",
       "      <td>...</td>\n",
       "      <td>5.0</td>\n",
       "      <td>NaN</td>\n",
       "      <td>NaN</td>\n",
       "      <td>NaN</td>\n",
       "      <td>NaN</td>\n",
       "      <td>NaN</td>\n",
       "      <td>NaN</td>\n",
       "      <td>NaN</td>\n",
       "      <td>NaN</td>\n",
       "      <td>NaN</td>\n",
       "    </tr>\n",
       "    <tr>\n",
       "      <th>117447</th>\n",
       "      <td>NaN</td>\n",
       "      <td>NaN</td>\n",
       "      <td>NaN</td>\n",
       "      <td>NaN</td>\n",
       "      <td>NaN</td>\n",
       "      <td>NaN</td>\n",
       "      <td>NaN</td>\n",
       "      <td>NaN</td>\n",
       "      <td>3.0</td>\n",
       "      <td>NaN</td>\n",
       "      <td>...</td>\n",
       "      <td>NaN</td>\n",
       "      <td>NaN</td>\n",
       "      <td>1.0</td>\n",
       "      <td>NaN</td>\n",
       "      <td>NaN</td>\n",
       "      <td>NaN</td>\n",
       "      <td>NaN</td>\n",
       "      <td>NaN</td>\n",
       "      <td>9.0</td>\n",
       "      <td>NaN</td>\n",
       "    </tr>\n",
       "    <tr>\n",
       "      <th>117449</th>\n",
       "      <td>NaN</td>\n",
       "      <td>NaN</td>\n",
       "      <td>NaN</td>\n",
       "      <td>NaN</td>\n",
       "      <td>NaN</td>\n",
       "      <td>NaN</td>\n",
       "      <td>NaN</td>\n",
       "      <td>4.0</td>\n",
       "      <td>NaN</td>\n",
       "      <td>NaN</td>\n",
       "      <td>...</td>\n",
       "      <td>7.0</td>\n",
       "      <td>NaN</td>\n",
       "      <td>NaN</td>\n",
       "      <td>NaN</td>\n",
       "      <td>NaN</td>\n",
       "      <td>NaN</td>\n",
       "      <td>NaN</td>\n",
       "      <td>NaN</td>\n",
       "      <td>NaN</td>\n",
       "      <td>NaN</td>\n",
       "    </tr>\n",
       "  </tbody>\n",
       "</table>\n",
       "<p>3000 rows × 75 columns</p>\n",
       "</div>"
      ],
      "text/plain": [
       "PRODUCT  adrian crater  anagram mentor  apropos pizza  bandit anatomy  \\\n",
       "USER ID                                                                 \n",
       "100950             NaN             NaN            NaN             NaN   \n",
       "100956             NaN             NaN            NaN             NaN   \n",
       "100962             NaN             NaN            NaN             NaN   \n",
       "100969             NaN            10.0            1.0             NaN   \n",
       "100974             NaN             NaN            NaN             9.0   \n",
       "...                ...             ...            ...             ...   \n",
       "117440             NaN             NaN            NaN             NaN   \n",
       "117442             6.0             NaN            NaN             NaN   \n",
       "117446             NaN             NaN            NaN             NaN   \n",
       "117447             NaN             NaN            NaN             NaN   \n",
       "117449             NaN             NaN            NaN             NaN   \n",
       "\n",
       "PRODUCT  banjo ladder  barcode arnold  bazooka diagram  bronze mystic  \\\n",
       "USER ID                                                                 \n",
       "100950            8.0             NaN              NaN            NaN   \n",
       "100956            NaN             5.0              NaN            NaN   \n",
       "100962            NaN             NaN              NaN            NaN   \n",
       "100969            5.0             NaN              NaN            NaN   \n",
       "100974            NaN             5.0              NaN            1.0   \n",
       "...               ...             ...              ...            ...   \n",
       "117440            6.0             NaN              NaN            NaN   \n",
       "117442            NaN             6.0              NaN            NaN   \n",
       "117446            NaN             NaN              NaN            NaN   \n",
       "117447            NaN             NaN              NaN            NaN   \n",
       "117449            NaN             NaN              NaN            4.0   \n",
       "\n",
       "PRODUCT  calypso zigzag  casino unit  ...  tourist micro  tripod stand  \\\n",
       "USER ID                               ...                                \n",
       "100950              5.0          NaN  ...            NaN           NaN   \n",
       "100956              NaN          NaN  ...            NaN           NaN   \n",
       "100962              NaN          NaN  ...            NaN           NaN   \n",
       "100969              NaN          NaN  ...            NaN           NaN   \n",
       "100974              NaN          NaN  ...            NaN           NaN   \n",
       "...                 ...          ...  ...            ...           ...   \n",
       "117440              NaN          NaN  ...            NaN           NaN   \n",
       "117442              NaN          NaN  ...            NaN           NaN   \n",
       "117446              NaN          3.0  ...            5.0           NaN   \n",
       "117447              3.0          NaN  ...            NaN           NaN   \n",
       "117449              NaN          NaN  ...            7.0           NaN   \n",
       "\n",
       "PRODUCT  update lola  ventura puzzle  viking llama  violet saga  vista queen  \\\n",
       "USER ID                                                                        \n",
       "100950           NaN             NaN           NaN          4.0          NaN   \n",
       "100956           NaN             NaN           NaN          NaN          NaN   \n",
       "100962           NaN             NaN           NaN          NaN          NaN   \n",
       "100969           5.0             NaN           NaN          0.0          NaN   \n",
       "100974           NaN             NaN           NaN          NaN          NaN   \n",
       "...              ...             ...           ...          ...          ...   \n",
       "117440           4.0             6.0           NaN          NaN          NaN   \n",
       "117442           NaN             NaN           NaN          NaN          NaN   \n",
       "117446           NaN             NaN           NaN          NaN          NaN   \n",
       "117447           1.0             NaN           NaN          NaN          NaN   \n",
       "117449           NaN             NaN           NaN          NaN          NaN   \n",
       "\n",
       "PRODUCT  viva avalon  voodoo planet  wheel gibson  \n",
       "USER ID                                            \n",
       "100950           NaN            NaN           NaN  \n",
       "100956           NaN            NaN           NaN  \n",
       "100962           NaN            NaN           NaN  \n",
       "100969           NaN            8.0           2.0  \n",
       "100974           9.0            NaN           NaN  \n",
       "...              ...            ...           ...  \n",
       "117440           NaN            NaN           5.0  \n",
       "117442           NaN            1.0           NaN  \n",
       "117446           NaN            NaN           NaN  \n",
       "117447           NaN            9.0           NaN  \n",
       "117449           NaN            NaN           NaN  \n",
       "\n",
       "[3000 rows x 75 columns]"
      ]
     },
     "execution_count": 21,
     "metadata": {},
     "output_type": "execute_result"
    }
   ],
   "source": [
    "#display full dataset\n",
    "user_ratings_table = pd.pivot_table(user_ratings,values='RATING', index='USER ID',\n",
    "                    columns='PRODUCT')\n",
    "user_ratings_table\n"
   ]
  },
  {
   "cell_type": "code",
   "execution_count": 22,
   "id": "ad0f1abe",
   "metadata": {},
   "outputs": [
    {
     "data": {
      "text/plain": [
       "array([[0., 0., 0., ..., 0., 0., 0.],\n",
       "       [0., 0., 0., ..., 0., 0., 0.],\n",
       "       [0., 0., 0., ..., 0., 0., 0.],\n",
       "       ...,\n",
       "       [0., 0., 0., ..., 0., 0., 0.],\n",
       "       [0., 0., 0., ..., 0., 9., 0.],\n",
       "       [0., 0., 0., ..., 0., 0., 0.]])"
      ]
     },
     "execution_count": 22,
     "metadata": {},
     "output_type": "execute_result"
    }
   ],
   "source": [
    "#convert the data frame to a matrix and replace nan with zeros\n",
    "userR = user_ratings_table.fillna(0)\n",
    "userR = userR.to_numpy()\n",
    "#userR = user_ratings_table.to_numpy()\n",
    "#fill entries with nan by 0\n",
    "#for i in range (len(userR)):\n",
    "    #for j in range (len(userR[0])):\n",
    "        #if (math.isnan(userR[i,j])):\n",
    "            #userR[i,j] = 0\n",
    "userR"
   ]
  },
  {
   "cell_type": "markdown",
   "id": "425d0bfe",
   "metadata": {},
   "source": [
    "## 7) Find duplicate users and fitting a regression model on full features"
   ]
  },
  {
   "cell_type": "code",
   "execution_count": 23,
   "id": "ff58ebee",
   "metadata": {},
   "outputs": [
    {
     "data": {
      "text/html": [
       "<div>\n",
       "<style scoped>\n",
       "    .dataframe tbody tr th:only-of-type {\n",
       "        vertical-align: middle;\n",
       "    }\n",
       "\n",
       "    .dataframe tbody tr th {\n",
       "        vertical-align: top;\n",
       "    }\n",
       "\n",
       "    .dataframe thead th {\n",
       "        text-align: right;\n",
       "    }\n",
       "</style>\n",
       "<table border=\"1\" class=\"dataframe\">\n",
       "  <thead>\n",
       "    <tr style=\"text-align: right;\">\n",
       "      <th></th>\n",
       "      <th>USER ID</th>\n",
       "      <th>Exist</th>\n",
       "    </tr>\n",
       "  </thead>\n",
       "  <tbody>\n",
       "    <tr>\n",
       "      <th>0</th>\n",
       "      <td>100950</td>\n",
       "      <td>both</td>\n",
       "    </tr>\n",
       "    <tr>\n",
       "      <th>1</th>\n",
       "      <td>100950</td>\n",
       "      <td>both</td>\n",
       "    </tr>\n",
       "    <tr>\n",
       "      <th>2</th>\n",
       "      <td>100950</td>\n",
       "      <td>both</td>\n",
       "    </tr>\n",
       "    <tr>\n",
       "      <th>3</th>\n",
       "      <td>100950</td>\n",
       "      <td>both</td>\n",
       "    </tr>\n",
       "    <tr>\n",
       "      <th>4</th>\n",
       "      <td>100950</td>\n",
       "      <td>both</td>\n",
       "    </tr>\n",
       "    <tr>\n",
       "      <th>...</th>\n",
       "      <td>...</td>\n",
       "      <td>...</td>\n",
       "    </tr>\n",
       "    <tr>\n",
       "      <th>33720</th>\n",
       "      <td>117449</td>\n",
       "      <td>both</td>\n",
       "    </tr>\n",
       "    <tr>\n",
       "      <th>33721</th>\n",
       "      <td>117449</td>\n",
       "      <td>both</td>\n",
       "    </tr>\n",
       "    <tr>\n",
       "      <th>33722</th>\n",
       "      <td>117449</td>\n",
       "      <td>both</td>\n",
       "    </tr>\n",
       "    <tr>\n",
       "      <th>33723</th>\n",
       "      <td>117449</td>\n",
       "      <td>both</td>\n",
       "    </tr>\n",
       "    <tr>\n",
       "      <th>33724</th>\n",
       "      <td>117449</td>\n",
       "      <td>both</td>\n",
       "    </tr>\n",
       "  </tbody>\n",
       "</table>\n",
       "<p>33725 rows × 2 columns</p>\n",
       "</div>"
      ],
      "text/plain": [
       "       USER ID Exist\n",
       "0       100950  both\n",
       "1       100950  both\n",
       "2       100950  both\n",
       "3       100950  both\n",
       "4       100950  both\n",
       "...        ...   ...\n",
       "33720   117449  both\n",
       "33721   117449  both\n",
       "33722   117449  both\n",
       "33723   117449  both\n",
       "33724   117449  both\n",
       "\n",
       "[33725 rows x 2 columns]"
      ]
     },
     "execution_count": 23,
     "metadata": {},
     "output_type": "execute_result"
    }
   ],
   "source": [
    "#Find duplicates ID that exist in both history and ratings\n",
    "duplicates = pd.merge(user_history[\"USER ID\"], user_ratings[\"USER ID\"], how='outer', indicator='Exist')\n",
    "duplicates = duplicates.loc[duplicates['Exist'] == 'both']\n",
    "duplicates"
   ]
  },
  {
   "cell_type": "code",
   "execution_count": 24,
   "id": "15472f27",
   "metadata": {},
   "outputs": [
    {
     "name": "stdout",
     "output_type": "stream",
     "text": [
      "[[ 1.00950000e+05 -2.59702368e+00 -1.26912601e+00  6.06181224e+00]\n",
      " [ 1.00956000e+05  1.80500661e+00 -3.97689757e+00 -5.64866447e+00]\n",
      " [ 1.00962000e+05 -5.19788223e+00 -6.54200793e-01 -5.40409166e+00]\n",
      " ...\n",
      " [ 1.25629000e+05 -1.08702307e+00  6.43732680e-01  6.75333321e+00]\n",
      " [ 1.25636000e+05  1.58789932e+00  1.95978587e+00 -6.75886986e+00]\n",
      " [ 1.25645000e+05  4.20999819e+00 -9.79977880e-01 -5.86915273e+00]]\n"
     ]
    }
   ],
   "source": [
    "#keep only IDs that exist in both dataset in history\n",
    "user_his = user_history[user_history[\"USER ID\"].isin(duplicates[\"USER ID\"])]\n",
    "user_his = pd.DataFrame(user_his)\n",
    "user_his\n",
    "userR[:,0]\n",
    "print (X)"
   ]
  },
  {
   "cell_type": "code",
   "execution_count": 25,
   "id": "2d1decb4",
   "metadata": {},
   "outputs": [
    {
     "name": "stdout",
     "output_type": "stream",
     "text": [
      "Coefficients: \n",
      " [-0.15627289  0.10045419  0.18088314  0.09840717 -0.09606579  0.05738816\n",
      " -0.22745738 -0.27879114 -0.19402719 -0.01781725 -0.07629769 -0.09640856\n",
      " -0.01711316  0.14183769  0.43987017 -0.42548302 -0.05370199 -0.14138967\n",
      "  0.05094748 -0.02990476  0.28095832 -0.18766124  0.11833953 -0.09715069\n",
      " -0.2935032  -0.18047345  0.07887989  0.00388338  0.01789712 -0.32201804\n",
      "  0.32117282 -0.18887334 -0.08628224 -0.24821569  0.22285391 -0.40863919\n",
      " -0.03985729  0.00867417  0.02053839  0.14957277 -0.21544793 -0.01105673\n",
      " -0.1755516  -0.17677167  0.30869235 -0.11967231  0.16973678  0.11320999\n",
      "  0.24170644  0.06175494  0.1468441  -0.12045702 -0.15932461  0.08806965\n",
      " -0.35092353 -0.26511454  0.13509404 -0.00666074  0.04637064  0.02449703\n",
      "  0.19987408 -0.29935342  0.20086279 -0.08567959 -0.12313557 -0.00153406\n",
      "  0.11343604  0.03314426  0.07390504  0.08724655  0.24524159 -0.011683\n",
      " -0.15538853 -0.10308439  0.2464226  -0.03533681  0.10375116  0.15805232\n",
      "  0.23195298 -0.04556665 -0.21520984  0.14486738  0.30893841  0.11451947\n",
      " -0.06227093 -0.30669826  0.13316826  0.16626935  0.11463723  0.0129384\n",
      "  0.25811521 -0.10697088 -0.07850355 -0.05993794  0.13414708 -0.25522624\n",
      "  0.34168806 -0.0524449   0.29959986 -0.10566391]\n",
      "Mean squared error:  4.329353826660119\n"
     ]
    },
    {
     "data": {
      "image/png": "[encoded data removed]",
      "text/plain": [
       "<Figure size 432x288 with 1 Axes>"
      ]
     },
     "metadata": {},
     "output_type": "display_data"
    }
   ],
   "source": [
    "#fit regression model\n",
    "y = userR[:,0] #set y, you can change columns of userR to fit each product to a regression model\n",
    "user_hisw = user_his.drop(['USER ID'],axis=1)\n",
    "n,p = user_hisw.shape\n",
    "X1 = np.ones((n, p + 1)) #add intercept\n",
    "X1[:, 1:] = user_hisw\n",
    "\n",
    "#compute betahat\n",
    "U, S, Vt = np.linalg.svd(X1[:,1:].T @ X1[:,1:])\n",
    "betat = Vt.T @ (U.T @ (X1[:,1:].T @ y) / S)\n",
    "betat\n",
    "# compute predictions\n",
    "y_pred = X1[:,1:] @ betat\n",
    "# compute MSE\n",
    "MSE = np.mean((y - y_pred) ** 2)\n",
    "\n",
    "# The coefficients\n",
    "print('Coefficients: \\n', betat)\n",
    "# The mean squared error\n",
    "print('Mean squared error: ', MSE)\n",
    "\n",
    "#plot the output\n",
    "plt.scatter(X1[:, 3], y,  color='black')\n",
    "plt.plot(X1[:, 3], y_pred, 'ob')\n",
    "\n",
    "plt.xticks(())\n",
    "plt.yticks(())\n",
    "\n",
    "plt.show()"
   ]
  },
  {
   "cell_type": "markdown",
   "id": "0f001ac1",
   "metadata": {},
   "source": [
    "## 8) Matrix Completion via Gradient Descent"
   ]
  },
  {
   "cell_type": "code",
   "execution_count": 26,
   "id": "46f18f6b",
   "metadata": {},
   "outputs": [],
   "source": [
    "# Matrix completion via gradient descent\n",
    "class Matrix_completion():\n",
    "    \n",
    "    def __init__(self, R, K, alpha, beta, iters):\n",
    "        \n",
    "        self.R = R\n",
    "        self.users, self.movies = R.shape\n",
    "        self.K = K\n",
    "        self.alpha = alpha\n",
    "        self.beta = beta\n",
    "        self.iters = iters\n",
    "        \"\"\" \n",
    "        R = the input dataset\n",
    "        num_users = user features\n",
    "        num_movies = movie features\n",
    "        K = low rank approxiamation\n",
    "        alpha = the learning rate\n",
    "        beta = regularization\n",
    "        iters = number of iterations\n",
    "        \"\"\"\n",
    "    # training process by sgd\n",
    "    def train(self):\n",
    "        # construct two random matrix for Pt, Qt\n",
    "        self.Pt = np.random.normal(scale=1./self.K, size=(self.users, self.K))\n",
    "        self.Qt = np.random.normal(scale=1./self.K, size=(self.movies, self.K))\n",
    "        \n",
    "        # construct matrix for bias\n",
    "        self.userb = np.zeros(self.users)\n",
    "        self.movieb = np.zeros(self.movies)\n",
    "        self.b = np.mean(self.R[np.where(self.R != 0)])\n",
    "        \n",
    "        # Create a training sample\n",
    "        self.samples = [\n",
    "            (i, j, self.R[i, j])\n",
    "            for i in range(self.users)\n",
    "            for j in range(self.movies)\n",
    "            if self.R[i, j] > 0\n",
    "        ]\n",
    "        \n",
    "        # SGD with defined iterations\n",
    "        training = []\n",
    "        for i in range(self.iters):\n",
    "            np.random.shuffle(self.samples)\n",
    "            self.sgd()\n",
    "            mse = self.mse()\n",
    "            training.append((i, mse))\n",
    "            if (i+1) % 10 == 0:\n",
    "                print(\"Iteration: %d ; error = %.4f\" % (i+1, mse))\n",
    "        \n",
    "        return training\n",
    "    \n",
    "    # compute the mean square error\n",
    "    def mse(self):\n",
    "        \n",
    "        xs, ys = self.R.nonzero()\n",
    "        predicted = self.approximation()\n",
    "        error = 0\n",
    "        for x, y in zip(xs, ys):\n",
    "            error += pow(self.R[x, y] - predicted[x, y], 2)\n",
    "        return np.sqrt(error)\n",
    "\n",
    "    #compute SGD\n",
    "    def sgd(self):\n",
    "        \n",
    "        for i, j, r in self.samples:\n",
    "            # Compute prediction and error\n",
    "            prediction = self.Prediction(i, j)\n",
    "            e = (r - prediction)\n",
    "            \n",
    "            # Update biases\n",
    "            self.userb[i] += self.alpha * (e - self.beta * self.userb[i])\n",
    "            self.movieb[j] += self.alpha * (e - self.beta * self.movieb[j])\n",
    "            \n",
    "            # create another P since we need previous P to compute Q\n",
    "            P_i = self.Pt[i, :][:]\n",
    "            \n",
    "            # update predicted ratings\n",
    "            self.Pt[i, :] += self.alpha * (e * self.Qt[j, :] - self.beta * self.Pt[i,:])\n",
    "            self.Qt[j, :] += self.alpha * (e * P_i - self.beta * self.Qt[j,:])\n",
    "      \n",
    "    # compute predictions\n",
    "    def Prediction(self, i, j):\n",
    "        \n",
    "        prediction = self.b + self.userb[i] + self.movieb[j] + self.Pt[i, :].dot(self.Qt[j, :].T)\n",
    "        return prediction\n",
    "    \n",
    "    # compute the estimated full matrix of ratings by Pt, Qt and bias\n",
    "    def approximation(self):\n",
    "        \n",
    "        return mf.b + mf.userb[:,np.newaxis] + mf.movieb[np.newaxis:,] + mf.Pt.dot(mf.Qt.T)\n"
   ]
  },
  {
   "cell_type": "code",
   "execution_count": 27,
   "id": "de3e9998",
   "metadata": {},
   "outputs": [],
   "source": [
    "mf = Matrix_completion(userR, K=10, alpha=0.01, beta=0.001, iters=50)"
   ]
  },
  {
   "cell_type": "code",
   "execution_count": 28,
   "id": "2faf653a",
   "metadata": {},
   "outputs": [
    {
     "name": "stdout",
     "output_type": "stream",
     "text": [
      "Iteration: 10 ; error = 119.4711\n",
      "Iteration: 20 ; error = 70.5603\n",
      "Iteration: 30 ; error = 57.3492\n",
      "Iteration: 40 ; error = 51.0522\n",
      "Iteration: 50 ; error = 47.3228\n",
      "[[ 3.62783487  6.24876204  6.36285364 ...  3.72086769  8.2977096\n",
      "   6.81167629]\n",
      " [ 2.26289413  9.74154792  8.63155715 ...  5.47887487  3.64709008\n",
      "   6.69743915]\n",
      " [ 8.53543904 10.46999434  5.29551232 ...  7.53181941  6.16976386\n",
      "   7.28399004]\n",
      " ...\n",
      " [ 6.63315845  7.54590479  3.58253844 ...  1.5782881   5.83344095\n",
      "  -3.44232134]\n",
      " [ 9.92067275  4.81323586  2.74908692 ...  2.90495683  8.75474135\n",
      "   8.03435951]\n",
      " [ 8.99000391  3.59060373  2.55364509 ...  5.61868338  4.3681154\n",
      "   8.55136738]]\n"
     ]
    }
   ],
   "source": [
    "training = mf.train()\n",
    "print(mf.approximation())\n",
    "sd = mf.approximation()"
   ]
  },
  {
   "cell_type": "code",
   "execution_count": 29,
   "id": "e9e7e991",
   "metadata": {},
   "outputs": [
    {
     "data": {
      "image/png": "[encoded data removed]",
      "text/plain": [
       "<Figure size 1152x288 with 1 Axes>"
      ]
     },
     "metadata": {
      "needs_background": "light"
     },
     "output_type": "display_data"
    }
   ],
   "source": [
    "#plot the convergence of mean square error\n",
    "x = [x for x, y in training]\n",
    "y = [y for x, y in training]\n",
    "plt.figure(figsize=((16,4)))\n",
    "plt.plot(x, y)\n",
    "plt.xticks(x, x)\n",
    "plt.xlabel(\"Iterations\")\n",
    "plt.ylabel(\"Mean Square Error\")\n",
    "plt.grid(axis=\"y\")"
   ]
  },
  {
   "cell_type": "code",
   "execution_count": 30,
   "id": "eba6c4db",
   "metadata": {},
   "outputs": [
    {
     "name": "stdout",
     "output_type": "stream",
     "text": [
      "[[ 1.00950000e+05 -2.59702368e+00 -1.26912601e+00  6.06181224e+00]\n",
      " [ 1.00956000e+05  1.80500661e+00 -3.97689757e+00 -5.64866447e+00]\n",
      " [ 1.00962000e+05 -5.19788223e+00 -6.54200793e-01 -5.40409166e+00]\n",
      " ...\n",
      " [ 1.25629000e+05 -1.08702307e+00  6.43732680e-01  6.75333321e+00]\n",
      " [ 1.25636000e+05  1.58789932e+00  1.95978587e+00 -6.75886986e+00]\n",
      " [ 1.25645000e+05  4.20999819e+00 -9.79977880e-01 -5.86915273e+00]]\n",
      "(4500, 4)\n"
     ]
    }
   ],
   "source": [
    "print(X)\n",
    "print(X.shape)"
   ]
  },
  {
   "cell_type": "markdown",
   "id": "2f867fca",
   "metadata": {},
   "source": [
    "## 9) Linear regression with PCA features via Stochastic Gradient Descent"
   ]
  },
  {
   "cell_type": "code",
   "execution_count": 31,
   "id": "f9a79c03",
   "metadata": {},
   "outputs": [
    {
     "name": "stdout",
     "output_type": "stream",
     "text": [
      "[[ 5.32312811e+00 -1.05259362e-01 -6.05015653e-01  2.02235113e-02]\n",
      " [ 5.51559193e+00 -2.38205318e-01 -1.73757085e-01  3.07379841e-02]\n",
      " [ 4.83712478e+00 -4.27715239e-02  3.45014317e-01 -1.72285331e-03]\n",
      " [ 5.28137075e+00 -3.85997335e-01 -6.31104520e-02  2.83713017e-02]\n",
      " [ 5.24881822e+00 -4.07482093e-01 -1.51025849e-01 -2.05858656e-03]\n",
      " [ 5.13534607e+00 -5.08476873e-01 -5.80572057e-01  7.17554786e-03]\n",
      " [ 5.30537807e+00 -1.14299639e-01 -3.43270023e-01  1.83272702e-03]\n",
      " [ 4.95357936e+00  2.19275491e-01 -1.69561938e-01 -2.73966384e-02]\n",
      " [ 4.71296839e+00  3.03663433e-01  2.34844650e-01 -8.30020807e-03]\n",
      " [ 4.90689051e+00  3.04742283e-01 -8.19571416e-03 -1.17119138e-02]\n",
      " [ 5.00042207e+00  2.84171728e-01 -7.82734829e-02 -1.51451960e-02]\n",
      " [ 5.13119911e+00 -4.68644477e-01  5.71205098e-01  3.03358018e-02]\n",
      " [ 4.98029308e+00 -1.21210237e-01 -1.86941061e-01 -1.29876478e-02]\n",
      " [ 5.12316506e+00  2.70389534e-01 -2.24236385e-01 -1.68199712e-02]\n",
      " [ 5.08349716e+00 -2.90667993e-01 -2.70094020e-01  1.80872057e-02]\n",
      " [ 5.16926607e+00  3.75387478e-03 -5.16600161e-01 -3.58855577e-03]\n",
      " [ 5.05144410e+00  2.56235894e-01  2.50313317e-01  3.44043218e-03]\n",
      " [ 5.05055065e+00  4.49372990e-02 -3.94545840e-03  1.30146622e-03]\n",
      " [ 5.08815667e+00 -1.38753056e-01  2.95574286e-01  2.78740082e-02]\n",
      " [ 5.10765655e+00  2.47728368e-01  7.93899618e-01  1.12755054e-02]\n",
      " [ 4.89927758e+00 -4.88311617e-01  9.58744669e-02  1.19542022e-02]\n",
      " [ 5.32566086e+00 -2.43994363e-01 -4.25857239e-01 -3.24817184e-03]\n",
      " [ 5.06736805e+00 -1.65674037e-01  5.00711519e-01  1.29731544e-02]\n",
      " [ 5.07316352e+00 -7.09364935e-01 -2.06692101e-01  2.04531417e-02]\n",
      " [ 5.04640301e+00 -4.18148500e-03 -1.35568097e-01 -2.26026277e-02]\n",
      " [ 5.13719354e+00  9.30230057e-02  4.23016475e-01  1.72033865e-02]\n",
      " [ 5.23138964e+00  2.98398044e-01  3.55859421e-01  1.22786773e-02]\n",
      " [ 4.86141421e+00  2.74055449e-01 -2.75243688e-01 -2.83937758e-02]\n",
      " [ 5.19239565e+00  8.85114202e-02  3.95295136e-01  5.89552611e-03]\n",
      " [ 4.97473447e+00  3.94797495e-01  1.76145401e-01 -7.66331986e-03]\n",
      " [ 4.95415135e+00 -2.74378696e-01 -4.64168009e-01  1.69516309e-03]\n",
      " [ 5.22270896e+00  4.07735539e-01 -5.51323378e-01 -3.25074507e-02]\n",
      " [ 5.19456629e+00 -2.11274337e-01 -2.08388797e-01 -9.27203935e-04]\n",
      " [ 5.16530318e+00 -3.84287913e-01  5.17516077e-01  2.78161626e-02]\n",
      " [ 5.03666076e+00 -6.08338597e-01  8.35072949e-02  6.84884218e-03]\n",
      " [ 4.97984343e+00  2.41557287e-01  2.39054175e-01 -7.60464012e-03]\n",
      " [ 5.04711978e+00  1.96766292e-01 -3.96897045e-01 -2.61972601e-02]\n",
      " [ 5.11051086e+00 -2.98730822e-01  6.67332640e-02 -9.77883605e-04]\n",
      " [ 4.99703509e+00  6.25931781e-01  4.22212838e-01  9.03329164e-03]\n",
      " [ 4.90485748e+00 -5.49041938e-01 -2.57545659e-01  5.69803136e-03]\n",
      " [ 5.09626205e+00 -4.04234226e-01  3.77261149e-01  2.43087802e-02]\n",
      " [ 4.98793710e+00  2.94971401e-01  1.56127620e-01 -1.11495671e-02]\n",
      " [ 5.11675935e+00  3.68233085e-01 -1.72045518e-01 -1.55195213e-02]\n",
      " [ 4.89106876e+00 -4.39761488e-01  6.52124421e-01  2.38482228e-02]\n",
      " [ 5.06234658e+00  4.29592744e-01 -3.03385445e-02 -1.84449041e-02]\n",
      " [ 4.93329970e+00  5.15459561e-01 -1.87621982e-01 -3.67086059e-02]\n",
      " [ 4.92594444e+00  3.61919935e-02 -6.00983157e-02  2.75402123e-03]\n",
      " [ 5.11367478e+00  2.20623314e-01  1.20537936e-01 -4.26491774e-03]\n",
      " [ 4.94459216e+00 -1.58897142e-01  4.05320582e-01  9.28277506e-03]\n",
      " [ 4.95249776e+00  2.74258862e-01 -7.09623497e-02 -1.95147455e-02]\n",
      " [ 5.18875804e+00 -5.38106670e-01 -3.06901079e-01  1.68482755e-02]\n",
      " [ 5.09928494e+00  2.19423259e-01  3.19519336e-01  1.97550240e-02]\n",
      " [ 5.07081447e+00  1.92641969e-01  6.46089479e-01  2.27464295e-02]\n",
      " [ 5.15469989e+00 -1.81950988e-01  7.05416144e-01  1.84852841e-02]\n",
      " [ 4.85366656e+00  8.32886545e-02  8.04545253e-01  2.17198493e-02]\n",
      " [ 5.00998366e+00  1.65682043e-01  5.42933543e-01  1.96793243e-02]\n",
      " [ 4.97333502e+00 -4.01806117e-01  4.67215703e-01  2.74815318e-02]\n",
      " [ 5.08604756e+00  6.70091977e-01 -1.14141228e-01 -8.32981489e-03]\n",
      " [ 5.18838743e+00  1.63475999e-01  7.61143009e-01  7.83757452e-03]\n",
      " [ 5.13306881e+00  2.47367282e-02 -7.96335195e-01 -2.34862066e-02]\n",
      " [ 5.13771819e+00 -1.50151539e-01  2.08289736e-01  6.12451635e-03]\n",
      " [ 5.08768597e+00 -1.46751187e-02  2.51265564e-02 -2.46661834e-03]\n",
      " [ 5.00018338e+00  2.30623953e-01 -7.97579876e-01 -1.90991125e-02]\n",
      " [ 5.13699989e+00 -4.49718864e-01  7.01032672e-01  3.56247361e-02]\n",
      " [ 5.12358580e+00 -2.76016015e-01 -2.58788812e-02  5.76786213e-03]\n",
      " [ 5.10423906e+00  4.16455317e-01 -5.30305747e-02 -6.89078374e-03]\n",
      " [ 4.99622760e+00 -3.43664666e-01  4.28178628e-01  5.11294825e-03]\n",
      " [ 5.24718100e+00  6.22581646e-01  3.20260046e-01 -2.37713317e-02]\n",
      " [ 5.23441049e+00  4.12705604e-02  3.57195187e-01  1.21661042e-02]\n",
      " [ 4.96354917e+00  2.77077809e-01  2.52516436e-01 -3.04857368e-03]\n",
      " [ 4.89608991e+00 -2.67893482e-01  3.73021750e-01  5.33831931e-03]\n",
      " [ 5.09054742e+00 -1.34272089e-01 -7.60158008e-02 -1.43225044e-02]\n",
      " [ 4.97368698e+00  6.76504283e-02  6.46940110e-01  1.35383939e-02]\n",
      " [ 5.02433008e+00 -3.56299785e-01 -2.50845914e-01  8.85505373e-03]\n",
      " [ 5.08939692e+00 -6.16971540e-01  1.05552473e-01  1.74951639e-02]]\n",
      "[ 5.32312811 -0.10525936 -0.60501565  0.02022351]\n"
     ]
    }
   ],
   "source": [
    "X2 = np.delete(X,0,1)\n",
    "X2 = X2[:3000,:]\n",
    "X3 = np.ones([3000,4])\n",
    "X3[:,1:] = X2\n",
    "betat = np.linalg.lstsq(X3,sd,rcond = None)[0]\n",
    "betat = betat.T\n",
    "print(betat)\n",
    "bet1 = np.linalg.lstsq(X3,sd[:,0],rcond = None)[0]\n",
    "print (bet1)"
   ]
  },
  {
   "cell_type": "code",
   "execution_count": 32,
   "id": "4900dfc9",
   "metadata": {},
   "outputs": [
    {
     "name": "stdout",
     "output_type": "stream",
     "text": [
      "[[ 5.03143852e+00 -1.14084057e-01 -6.80994981e-01  1.99569810e-03]\n",
      " [ 5.12737425e+00 -1.49286515e-01 -8.37503135e-02 -2.80923445e-02]\n",
      " [ 4.46385986e+00 -3.44836591e-02  4.03003576e-01 -3.20534761e-02]\n",
      " [ 5.06296835e+00 -4.06054198e-01 -4.89361731e-02  1.87647971e-02]\n",
      " [ 4.75824188e+00 -3.86709844e-01 -1.86798646e-01 -8.24998778e-03]\n",
      " [ 4.86947784e+00 -5.09138935e-01 -6.01354034e-01 -1.74320100e-02]\n",
      " [ 4.94806537e+00 -1.18409512e-01 -3.22013058e-01 -2.10084359e-02]\n",
      " [ 4.67816119e+00  1.94835681e-01 -1.71267224e-01 -4.61971186e-02]\n",
      " [ 4.26825990e+00  3.05879611e-01  2.23134377e-01 -3.23377034e-02]\n",
      " [ 4.52624884e+00  3.76847478e-01 -3.52253752e-02 -3.43652251e-02]\n",
      " [ 4.75778555e+00  2.73561880e-01 -6.45682421e-02 -3.45847729e-02]\n",
      " [ 4.82745137e+00 -4.75080744e-01  5.93538749e-01  3.54040509e-02]\n",
      " [ 4.66165352e+00 -1.88936127e-01 -2.81272307e-01 -5.03936393e-02]\n",
      " [ 4.85279638e+00  2.67735244e-01 -1.74594605e-01 -5.85797052e-03]\n",
      " [ 4.83341729e+00 -2.86988567e-01 -2.02835016e-01 -8.40851094e-03]\n",
      " [ 4.95277391e+00  6.92262999e-02 -4.64283977e-01 -2.86044219e-02]\n",
      " [ 4.89849672e+00  2.72381450e-01  1.67370255e-01 -1.78757309e-03]\n",
      " [ 4.63392402e+00 -1.54771067e-02 -1.60852431e-02 -2.84104341e-02]\n",
      " [ 4.73952554e+00 -1.76741190e-01  3.38109351e-01  2.35538892e-02]\n",
      " [ 4.83317711e+00  2.51099862e-01  7.41275397e-01  9.60270262e-03]\n",
      " [ 4.52611269e+00 -4.40365268e-01  1.08277848e-01 -1.95390690e-02]\n",
      " [ 4.99641568e+00 -1.40731215e-01 -4.68771782e-01 -6.93125989e-03]\n",
      " [ 4.72233965e+00 -2.36648620e-01  4.94072309e-01 -1.46228595e-02]\n",
      " [ 4.81473721e+00 -6.50487487e-01 -2.29630584e-01  1.79488903e-02]\n",
      " [ 4.72905475e+00  4.26913950e-02 -1.50565225e-01 -3.46420592e-02]\n",
      " [ 4.75447563e+00  1.03902333e-01  3.94437571e-01  1.61176045e-02]\n",
      " [ 4.90379073e+00  2.83975212e-01  2.80496464e-01  9.89688824e-03]\n",
      " [ 4.72764413e+00  3.08582902e-01 -3.04886066e-01 -3.03156241e-02]\n",
      " [ 4.90377126e+00  5.63633626e-02  3.76523030e-01 -1.18763187e-02]\n",
      " [ 4.62619832e+00  3.45068619e-01  1.66588280e-01 -2.43381424e-02]\n",
      " [ 4.45556869e+00 -3.06636987e-01 -3.20806014e-01 -7.76775397e-05]\n",
      " [ 4.98032422e+00  4.17611989e-01 -5.96580731e-01 -4.11142101e-02]\n",
      " [ 4.79688018e+00 -2.25218021e-01 -2.05300557e-01 -4.67809950e-02]\n",
      " [ 4.81988903e+00 -4.28682544e-01  5.53035886e-01  1.84418079e-03]\n",
      " [ 4.62935190e+00 -6.45084476e-01  7.08584072e-02 -3.64444678e-03]\n",
      " [ 4.74536807e+00  3.29235981e-01  2.36350831e-01 -5.64932006e-02]\n",
      " [ 4.83524136e+00  1.94269430e-01 -3.77767652e-01 -4.59386742e-02]\n",
      " [ 4.81443991e+00 -2.93889591e-01  8.43544877e-02 -3.03949816e-02]\n",
      " [ 4.75779074e+00  6.24862916e-01  4.13013078e-01 -2.52089858e-02]\n",
      " [ 4.76723104e+00 -4.68457103e-01 -3.14549339e-01 -1.72467612e-02]\n",
      " [ 4.79415084e+00 -3.05040133e-01  2.52718258e-01  6.61722319e-03]\n",
      " [ 4.66763576e+00  3.23902470e-01  2.10898627e-01 -3.23311954e-02]\n",
      " [ 4.86311560e+00  3.44629341e-01 -1.37825942e-01 -2.19254555e-02]\n",
      " [ 4.64778198e+00 -3.59279461e-01  6.75713766e-01  2.10599645e-02]\n",
      " [ 4.76347827e+00  4.19216533e-01 -2.86635449e-02 -5.49897757e-02]\n",
      " [ 4.65385218e+00  5.84900098e-01 -1.37142967e-01 -6.65871408e-02]\n",
      " [ 4.88272149e+00  2.43756266e-02 -8.49172582e-02 -1.21470719e-02]\n",
      " [ 4.85181618e+00  1.87753347e-01  2.12186556e-01 -2.81837049e-02]\n",
      " [ 4.52604917e+00 -1.98470251e-01  3.74008622e-01 -2.05141273e-02]\n",
      " [ 4.69649854e+00  3.15911842e-01  1.10342568e-01 -2.10617369e-02]\n",
      " [ 4.85621254e+00 -5.23993755e-01 -2.94282599e-01 -1.67155841e-03]\n",
      " [ 4.84074641e+00  1.88388016e-01  2.45408806e-01  2.59004767e-02]\n",
      " [ 4.93698054e+00  1.56579178e-01  6.12019048e-01  7.98440526e-03]\n",
      " [ 4.86678535e+00 -1.76301352e-01  7.02847323e-01  2.52765865e-02]\n",
      " [ 4.76268006e+00  1.81298511e-01  7.90960176e-01  1.21249376e-03]\n",
      " [ 4.80939523e+00  1.08720757e-01  5.69738580e-01  8.68933002e-03]\n",
      " [ 4.76491277e+00 -4.12850129e-01  3.71634568e-01  2.35138903e-02]\n",
      " [ 4.71610725e+00  6.38056541e-01 -8.85511155e-02 -3.41339956e-02]\n",
      " [ 4.71074946e+00  1.23456054e-01  7.36936878e-01 -3.49572131e-02]\n",
      " [ 4.85300654e+00  5.23186883e-02 -7.58870914e-01 -1.08723959e-02]\n",
      " [ 4.89745969e+00 -2.11989277e-01  1.19041574e-01 -2.88075655e-02]\n",
      " [ 4.59659642e+00 -4.35377518e-02 -6.69784508e-02 -2.79529566e-02]\n",
      " [ 4.80719829e+00  2.90361550e-01 -7.88635659e-01 -5.41095200e-02]\n",
      " [ 4.78498887e+00 -4.09987591e-01  7.66714986e-01  1.00969929e-02]\n",
      " [ 4.78307923e+00 -2.23140457e-01  7.26571867e-02 -3.31575880e-02]\n",
      " [ 4.85265668e+00  4.46576862e-01 -5.43090425e-02 -1.36197201e-02]\n",
      " [ 4.62119188e+00 -3.01487855e-01  4.50740939e-01 -6.38432056e-03]\n",
      " [ 4.89011623e+00  6.09601909e-01  3.11822600e-01 -2.14372168e-02]\n",
      " [ 4.75925714e+00  4.99881874e-02  3.88167780e-01 -1.75444311e-02]\n",
      " [ 4.58594019e+00  3.68785573e-01  2.94041652e-01 -3.11738905e-02]\n",
      " [ 4.64474181e+00 -2.90601306e-01  3.89419739e-01 -3.05601653e-02]\n",
      " [ 4.89135471e+00 -1.30115516e-01 -2.75509313e-02 -6.93688860e-02]\n",
      " [ 4.68121695e+00  9.19064130e-02  5.98863400e-01 -6.40770460e-03]\n",
      " [ 4.70832687e+00 -3.83565970e-01 -2.89107063e-01 -1.97511755e-02]\n",
      " [ 4.91962006e+00 -6.05989327e-01  4.88327869e-02 -1.98168695e-02]]\n"
     ]
    }
   ],
   "source": [
    "X2 = np.delete(X,0,1)\n",
    "X2 = X2[:3000,:]\n",
    "X3 = np.ones((3000, 4))\n",
    "X3[:, 1:] = X2\n",
    "\n",
    "def F(beta,X,Y):\n",
    "    return np.linalg.norm(X @ beta.T - Y) ** 2\n",
    "\n",
    "def s_grad_F_j(beta, X, Y):\n",
    "    return 2 * (X @ beta - Y) * X\n",
    "\n",
    "niter = 1000\n",
    "n = 3000\n",
    "betatp = np.zeros((niter, len(X3[0])))\n",
    "betat_ave = np.zeros((niter, len(X3[0])))\n",
    "\n",
    "XtX = X3.T @ X3\n",
    "eta = 0.01\n",
    "result = np.zeros((75,4))  \n",
    "\n",
    "conv = np.zeros ((niter))\n",
    "conv[0] = np.linalg.norm(betatp[0,:] - betat)\n",
    "\n",
    "conv_ave = np.zeros(niter)\n",
    "conv_ave[0] = np.linalg.norm(betat_ave[0,:] - betat)\n",
    "\n",
    "for i in range (len(sd[0])):\n",
    "    Y = sd[:,i]\n",
    "\n",
    "    for t in range(1, niter):\n",
    "        j = np.random.randint(n)\n",
    "        betatp[t, :] = betatp[t-1, :] - eta * s_grad_F_j(betatp[t-1, :], X3[j,:], Y[j])\n",
    "        betat_ave[t, :] = 1/(t+1) * betatp[t, :] + (t)/(t+1) * betat_ave[t-1, :]\n",
    "        conv[t] = np.linalg.norm(betatp[t,:] - betat)\n",
    "        conv_ave[t] = np.linalg.norm(betat_ave[t,:] - betat)\n",
    "        \n",
    "    result[i,:] = betat_ave[-1,:]\n",
    "\n",
    "print (result)"
   ]
  },
  {
   "cell_type": "code",
   "execution_count": 33,
   "id": "d42505c3",
   "metadata": {},
   "outputs": [
    {
     "name": "stderr",
     "output_type": "stream",
     "text": [
      "<ipython-input-33-9ab69a3c77c3>:1: RuntimeWarning:\n",
      "\n",
      "divide by zero encountered in log10\n",
      "\n",
      "<ipython-input-33-9ab69a3c77c3>:2: RuntimeWarning:\n",
      "\n",
      "divide by zero encountered in log10\n",
      "\n"
     ]
    },
    {
     "data": {
      "text/plain": [
       "[<matplotlib.lines.Line2D at 0x19d034edca0>]"
      ]
     },
     "execution_count": 33,
     "metadata": {},
     "output_type": "execute_result"
    },
    {
     "data": {
      "image/png": "[encoded data removed]",
      "text/plain": [
       "<Figure size 432x288 with 1 Axes>"
      ]
     },
     "metadata": {
      "needs_background": "light"
     },
     "output_type": "display_data"
    }
   ],
   "source": [
    "plt.plot(np.log10(np.arange(niter)),np.log10(conv))\n",
    "plt.plot(np.log10(np.arange(niter)),np.log10(conv_ave))"
   ]
  },
  {
   "cell_type": "markdown",
   "id": "92d3d56e",
   "metadata": {},
   "source": [
    "## 10) Prediction"
   ]
  },
  {
   "cell_type": "code",
   "execution_count": 34,
   "id": "fba8ab5c",
   "metadata": {},
   "outputs": [
    {
     "name": "stdout",
     "output_type": "stream",
     "text": [
      "[[6.20408351 5.45107405 3.84765027 ... 3.6436584  5.95164215 6.31128759]\n",
      " [7.52249029 5.34966175 2.97997202 ... 2.50168521 5.2773047  3.74354117]\n",
      " [6.05915653 6.1099511  4.55267652 ... 3.84634915 6.99792884 8.14462695]\n",
      " ...\n",
      " [4.58408606 4.47003619 4.3217466  ... 5.05152544 2.77871315 1.67341861]\n",
      " [6.78190844 5.94191412 3.93983096 ... 3.19739284 6.62318751 6.82734699]\n",
      " [6.17207322 4.65069541 3.27599101 ... 3.62527557 3.91246309 2.58244297]]\n",
      "5.949597649860798\n"
     ]
    }
   ],
   "source": [
    "# compute predictions\n",
    "\n",
    "y_p = X3 @ result.T # prediction\n",
    "print (y_p)\n",
    "print (y_p[0,4])"
   ]
  },
  {
   "cell_type": "code",
   "execution_count": 35,
   "id": "48ea5b44",
   "metadata": {},
   "outputs": [
    {
     "name": "stdout",
     "output_type": "stream",
     "text": [
      "[[6.4869214  6.54106431 4.49989319 ... 4.0590159  6.32168181 6.66377963]\n",
      " [7.42498372 5.60301533 3.39756712 ... 2.44650806 5.32877589 3.45716353]\n",
      " [6.15676589 6.70131626 4.84304795 ... 4.12565657 6.99258448 8.13274434]\n",
      " ...\n",
      " [4.81226996 4.10130394 4.51444157 ... 5.09784346 3.09137517 1.58105489]\n",
      " [6.77399566 6.42142174 4.26738515 ... 3.33995397 6.59477891 6.67848806]\n",
      " [6.41522632 5.22377099 3.90249698 ... 3.8243872  4.38149893 2.77304246]]\n",
      "6.486250931979106\n"
     ]
    }
   ],
   "source": [
    "y_pp = X3 @ betat.T\n",
    "print (y_pp)\n",
    "print (y_pp[0,4])"
   ]
  },
  {
   "cell_type": "code",
   "execution_count": 36,
   "id": "10448412",
   "metadata": {},
   "outputs": [
    {
     "name": "stdout",
     "output_type": "stream",
     "text": [
      "(4500, 75)\n"
     ]
    }
   ],
   "source": [
    "X5 = np.delete(X,0,1)\n",
    "\n",
    "X4 = np.ones([4500,4])\n",
    "X4[:,1:] = X5\n",
    "\n",
    "y_fp = X4 @ result.T\n",
    "print(y_fp.shape)\n"
   ]
  },
  {
   "cell_type": "code",
   "execution_count": 37,
   "id": "6373b316",
   "metadata": {},
   "outputs": [
    {
     "data": {
      "text/plain": [
       "5.226728050417741"
      ]
     },
     "execution_count": 37,
     "metadata": {},
     "output_type": "execute_result"
    }
   ],
   "source": [
    "MSE = np.mean((sd - y_p) ** 2)\n",
    "MSE"
   ]
  },
  {
   "cell_type": "code",
   "execution_count": 38,
   "id": "918948c3",
   "metadata": {},
   "outputs": [],
   "source": [
    "prod = user_ratings_table.columns\n",
    "\n",
    "ind = np.array([4500,])\n",
    "ind = user_history.loc[:,\"USER ID\"]\n",
    "\n",
    "prediction_of_ratings = pd.DataFrame(y_fp, index = ind, columns = prod)\n",
    "prediction_of_ratings.to_csv(\"prediction_of_ratings.csv\")"
   ]
  }
 ],
 "metadata": {
  "kernelspec": {
   "display_name": "Python 3",
   "language": "python",
   "name": "python3"
  },
  "language_info": {
   "codemirror_mode": {
    "name": "ipython",
    "version": 3
   },
   "file_extension": ".py",
   "mimetype": "text/x-python",
   "name": "python",
   "nbconvert_exporter": "python",
   "pygments_lexer": "ipython3",
   "version": "3.8.5"
  }
 },
 "nbformat": 4,
 "nbformat_minor": 5
}
