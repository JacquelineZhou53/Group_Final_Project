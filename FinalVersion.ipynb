{
 "cells": [
  {
   "cell_type": "markdown",
   "id": "1afb6771",
   "metadata": {},
   "source": [
    "# Market Research -- User Rating Behaviors\n",
    "Group member: Gretch Zhang, Baihe Yuan, Jacqueline Zhou, Disheng Wen, Siyuan Chen\n",
    "\n",
    "### Description:\n",
    "This research predicts users' rating behaviors based on their browsing history. The process involves Principle Components Analysis, K-means and linear regression.\n"
   ]
  },
  {
   "cell_type": "markdown",
   "id": "8c2943b6",
   "metadata": {},
   "source": [
    "## 1) Import Data"
   ]
  },
  {
   "cell_type": "markdown",
   "id": "b22033a0",
   "metadata": {},
   "source": [
    "Import Packages and load data"
   ]
  },
  {
   "cell_type": "code",
   "execution_count": 1,
   "id": "80297a75",
   "metadata": {},
   "outputs": [],
   "source": [
    "# useful packages\n",
    "import numpy as np\n",
    "import csv\n",
    "import math\n",
    "import pandas as pd\n",
    "from sklearn import preprocessing\n",
    "from sklearn import datasets\n",
    "from sklearn import cluster\n",
    "import matplotlib.pyplot as plt\n",
    "import itertools\n",
    "from sklearn.decomposition import PCA\n",
    "import plotly.graph_objects as pgo"
   ]
  },
  {
   "cell_type": "code",
   "execution_count": 2,
   "id": "b4416c87",
   "metadata": {},
   "outputs": [],
   "source": [
    "# load data as a dataframe with pandas\n",
    "user_history = pd.read_csv(\"user_history.csv\")\n",
    "user_history_without_user_ID = user_history.drop(['USER ID'],axis=1)\n",
    "user_ratings = pd.read_csv(\"user_ratings.csv\")"
   ]
  },
  {
   "cell_type": "code",
   "execution_count": 3,
   "id": "cef50278",
   "metadata": {},
   "outputs": [
    {
     "data": {
      "text/html": [
       "<div>\n",
       "<style scoped>\n",
       "    .dataframe tbody tr th:only-of-type {\n",
       "        vertical-align: middle;\n",
       "    }\n",
       "\n",
       "    .dataframe tbody tr th {\n",
       "        vertical-align: top;\n",
       "    }\n",
       "\n",
       "    .dataframe thead th {\n",
       "        text-align: right;\n",
       "    }\n",
       "</style>\n",
       "<table border=\"1\" class=\"dataframe\">\n",
       "  <thead>\n",
       "    <tr style=\"text-align: right;\">\n",
       "      <th></th>\n",
       "      <th>USER ID</th>\n",
       "      <th>PRODUCT</th>\n",
       "      <th>RATING</th>\n",
       "      <th>USER INDEX</th>\n",
       "      <th>PRODUCT ID</th>\n",
       "    </tr>\n",
       "  </thead>\n",
       "  <tbody>\n",
       "    <tr>\n",
       "      <th>0</th>\n",
       "      <td>100950</td>\n",
       "      <td>secret postage</td>\n",
       "      <td>4</td>\n",
       "      <td>0</td>\n",
       "      <td>54</td>\n",
       "    </tr>\n",
       "    <tr>\n",
       "      <th>1</th>\n",
       "      <td>100950</td>\n",
       "      <td>violet saga</td>\n",
       "      <td>4</td>\n",
       "      <td>0</td>\n",
       "      <td>70</td>\n",
       "    </tr>\n",
       "    <tr>\n",
       "      <th>2</th>\n",
       "      <td>100950</td>\n",
       "      <td>pepper chicago</td>\n",
       "      <td>3</td>\n",
       "      <td>0</td>\n",
       "      <td>41</td>\n",
       "    </tr>\n",
       "    <tr>\n",
       "      <th>3</th>\n",
       "      <td>100950</td>\n",
       "      <td>nina sailor</td>\n",
       "      <td>2</td>\n",
       "      <td>0</td>\n",
       "      <td>35</td>\n",
       "    </tr>\n",
       "    <tr>\n",
       "      <th>4</th>\n",
       "      <td>100950</td>\n",
       "      <td>front salami</td>\n",
       "      <td>3</td>\n",
       "      <td>0</td>\n",
       "      <td>18</td>\n",
       "    </tr>\n",
       "  </tbody>\n",
       "</table>\n",
       "</div>"
      ],
      "text/plain": [
       "   USER ID         PRODUCT  RATING  USER INDEX  PRODUCT ID\n",
       "0   100950  secret postage       4           0          54\n",
       "1   100950     violet saga       4           0          70\n",
       "2   100950  pepper chicago       3           0          41\n",
       "3   100950     nina sailor       2           0          35\n",
       "4   100950    front salami       3           0          18"
      ]
     },
     "execution_count": 3,
     "metadata": {},
     "output_type": "execute_result"
    }
   ],
   "source": [
    "# encode users as indices\n",
    "le_user = preprocessing.LabelEncoder()\n",
    "le_user.fit(user_history['USER ID'])\n",
    "\n",
    "user_with_rating_index = le_user.transform(user_ratings['USER ID'])\n",
    "all_user_index = le_user.transform(user_history['USER ID'])\n",
    "user_ratings['USER INDEX'] = user_with_rating_index\n",
    "user_ratings.head()\n",
    "\n",
    "# encode products as indices\n",
    "le_product = preprocessing.LabelEncoder()\n",
    "le_product.fit(user_ratings['PRODUCT'])\n",
    "\n",
    "product_ID = le_product.transform(user_ratings['PRODUCT'])\n",
    "user_ratings['PRODUCT ID'] = product_ID\n",
    "user_ratings.head()"
   ]
  },
  {
   "cell_type": "markdown",
   "id": "da4e67e2",
   "metadata": {},
   "source": [
    "We can take the data in user_history and turn it into a matrix using the following command:"
   ]
  },
  {
   "cell_type": "code",
   "execution_count": 4,
   "id": "199851c8",
   "metadata": {},
   "outputs": [],
   "source": [
    "history_M = user_history.to_numpy()\n",
    "# leave out user ID column\n",
    "his_label = history_M[:,0]\n",
    "# .reshape((history_M[:,0].shape[0],1))\n",
    "his_M = history_M[:,1:]"
   ]
  },
  {
   "cell_type": "markdown",
   "id": "a3958c80",
   "metadata": {},
   "source": [
    "For an introduction and short tutorial on pandas, you are invited to read over https://pandas.pydata.org/pandas-docs/stable/user_guide/10min.html."
   ]
  },
  {
   "cell_type": "markdown",
   "id": "663b618f",
   "metadata": {},
   "source": [
    "## 2) Principal Component Analysis on User History data"
   ]
  },
  {
   "cell_type": "markdown",
   "id": "0f50a9d6",
   "metadata": {},
   "source": [
    "The goal for this section is to divide the data into clusters and find the principal features to be used in the next section, linear regression, to predict the users' ratings based on their history data."
   ]
  },
  {
   "cell_type": "markdown",
   "id": "b6a4e3ba",
   "metadata": {},
   "source": [
    "Now standardize the user history data and compute the SVD:"
   ]
  },
  {
   "cell_type": "code",
   "execution_count": 5,
   "id": "1cd46efd",
   "metadata": {},
   "outputs": [
    {
     "data": {
      "application/vnd.plotly.v1+json": {
       "config": {
        "plotlyServerURL": "https://plot.ly"
       },
       "data": [
        {
         "type": "bar",
         "x": [
          0,
          1,
          2,
          3,
          4,
          5,
          6,
          7,
          8,
          9,
          10,
          11,
          12,
          13,
          14,
          15,
          16,
          17,
          18,
          19,
          20,
          21,
          22,
          23,
          24,
          25,
          26,
          27,
          28,
          29,
          30,
          31,
          32,
          33,
          34,
          35,
          36,
          37,
          38,
          39,
          40,
          41,
          42,
          43,
          44,
          45,
          46,
          47,
          48,
          49,
          50,
          51,
          52,
          53,
          54,
          55,
          56,
          57,
          58,
          59,
          60,
          61,
          62,
          63,
          64,
          65,
          66,
          67,
          68,
          69,
          70,
          71,
          72,
          73,
          74,
          75,
          76,
          77,
          78,
          79,
          80,
          81,
          82,
          83,
          84,
          85,
          86,
          87,
          88,
          89,
          90,
          91,
          92,
          93,
          94,
          95,
          96,
          97,
          98,
          99
         ],
         "y": [
          379.9822086248155,
          363.7552552938518,
          315.0297379007096,
          101.22537666683122,
          99.52987192509265,
          97.7472558268866,
          93.34992609358024,
          86.19269054216255,
          75.33102798555792,
          32.79851985416125,
          28.435191788056176,
          27.913296865038163,
          23.402057433677786,
          22.461920586758502,
          21.9033648329157,
          19.965463289277974,
          18.80171876959671,
          17.724320723335605,
          17.149420410554015,
          16.818981290792454,
          16.64918326335405,
          16.491611824127887,
          16.410130011013955,
          16.341482618384482,
          16.190230057469268,
          16.133570432000084,
          16.09086568390525,
          16.084840952538404,
          15.99368652117439,
          15.828537264883733,
          15.791919089133398,
          15.755572934811672,
          15.674182461361864,
          15.577923508538515,
          15.555027369744261,
          15.53307220240487,
          15.47398211849798,
          15.44616714455332,
          15.38875355749328,
          15.385990315662973,
          15.312941349758109,
          15.268665560121734,
          15.225803322089039,
          15.209153233756078,
          15.132854754567633,
          15.08288088240754,
          15.050826902196743,
          14.995749589912343,
          14.911609225014928,
          14.894930470647422,
          14.876363096294629,
          14.822622179890844,
          14.770351115111247,
          14.70497791780544,
          14.678112655953052,
          14.614440334512475,
          14.58271002049633,
          14.546987424808025,
          14.514899347394834,
          14.484277008435686,
          14.453395329992995,
          14.381885180543756,
          14.346682990824256,
          14.29554233324818,
          14.241514442028038,
          14.22659676930319,
          14.164370991495014,
          14.145667173763755,
          14.081419146223892,
          14.051807970563193,
          14.024269264999447,
          13.99110742799105,
          13.949885028884433,
          13.905121617812668,
          13.858640221675694,
          13.79270323581266,
          13.767609911729878,
          13.68939366241538,
          13.66197204860368,
          13.639160448166182,
          13.583681619860803,
          13.50722961663999,
          13.47957444739832,
          13.43390320678055,
          13.405003050880799,
          13.352549326771209,
          13.300895502392013,
          13.258005412024861,
          13.189372779432368,
          13.173782487847896,
          13.066544627941113,
          13.03673911878709,
          12.97910252757813,
          12.860736615178535,
          12.844373712775873,
          12.78289181425076,
          12.740355704656906,
          12.570234976164771,
          12.351261599310083,
          2.473009268834624e-13
         ]
        }
       ],
       "layout": {
        "template": {
         "data": {
          "bar": [
           {
            "error_x": {
             "color": "#2a3f5f"
            },
            "error_y": {
             "color": "#2a3f5f"
            },
            "marker": {
             "line": {
              "color": "#E5ECF6",
              "width": 0.5
             },
             "pattern": {
              "fillmode": "overlay",
              "size": 10,
              "solidity": 0.2
             }
            },
            "type": "bar"
           }
          ],
          "barpolar": [
           {
            "marker": {
             "line": {
              "color": "#E5ECF6",
              "width": 0.5
             },
             "pattern": {
              "fillmode": "overlay",
              "size": 10,
              "solidity": 0.2
             }
            },
            "type": "barpolar"
           }
          ],
          "carpet": [
           {
            "aaxis": {
             "endlinecolor": "#2a3f5f",
             "gridcolor": "white",
             "linecolor": "white",
             "minorgridcolor": "white",
             "startlinecolor": "#2a3f5f"
            },
            "baxis": {
             "endlinecolor": "#2a3f5f",
             "gridcolor": "white",
             "linecolor": "white",
             "minorgridcolor": "white",
             "startlinecolor": "#2a3f5f"
            },
            "type": "carpet"
           }
          ],
          "choropleth": [
           {
            "colorbar": {
             "outlinewidth": 0,
             "ticks": ""
            },
            "type": "choropleth"
           }
          ],
          "contour": [
           {
            "colorbar": {
             "outlinewidth": 0,
             "ticks": ""
            },
            "colorscale": [
             [
              0,
              "#0d0887"
             ],
             [
              0.1111111111111111,
              "#46039f"
             ],
             [
              0.2222222222222222,
              "#7201a8"
             ],
             [
              0.3333333333333333,
              "#9c179e"
             ],
             [
              0.4444444444444444,
              "#bd3786"
             ],
             [
              0.5555555555555556,
              "#d8576b"
             ],
             [
              0.6666666666666666,
              "#ed7953"
             ],
             [
              0.7777777777777778,
              "#fb9f3a"
             ],
             [
              0.8888888888888888,
              "#fdca26"
             ],
             [
              1,
              "#f0f921"
             ]
            ],
            "type": "contour"
           }
          ],
          "contourcarpet": [
           {
            "colorbar": {
             "outlinewidth": 0,
             "ticks": ""
            },
            "type": "contourcarpet"
           }
          ],
          "heatmap": [
           {
            "colorbar": {
             "outlinewidth": 0,
             "ticks": ""
            },
            "colorscale": [
             [
              0,
              "#0d0887"
             ],
             [
              0.1111111111111111,
              "#46039f"
             ],
             [
              0.2222222222222222,
              "#7201a8"
             ],
             [
              0.3333333333333333,
              "#9c179e"
             ],
             [
              0.4444444444444444,
              "#bd3786"
             ],
             [
              0.5555555555555556,
              "#d8576b"
             ],
             [
              0.6666666666666666,
              "#ed7953"
             ],
             [
              0.7777777777777778,
              "#fb9f3a"
             ],
             [
              0.8888888888888888,
              "#fdca26"
             ],
             [
              1,
              "#f0f921"
             ]
            ],
            "type": "heatmap"
           }
          ],
          "heatmapgl": [
           {
            "colorbar": {
             "outlinewidth": 0,
             "ticks": ""
            },
            "colorscale": [
             [
              0,
              "#0d0887"
             ],
             [
              0.1111111111111111,
              "#46039f"
             ],
             [
              0.2222222222222222,
              "#7201a8"
             ],
             [
              0.3333333333333333,
              "#9c179e"
             ],
             [
              0.4444444444444444,
              "#bd3786"
             ],
             [
              0.5555555555555556,
              "#d8576b"
             ],
             [
              0.6666666666666666,
              "#ed7953"
             ],
             [
              0.7777777777777778,
              "#fb9f3a"
             ],
             [
              0.8888888888888888,
              "#fdca26"
             ],
             [
              1,
              "#f0f921"
             ]
            ],
            "type": "heatmapgl"
           }
          ],
          "histogram": [
           {
            "marker": {
             "pattern": {
              "fillmode": "overlay",
              "size": 10,
              "solidity": 0.2
             }
            },
            "type": "histogram"
           }
          ],
          "histogram2d": [
           {
            "colorbar": {
             "outlinewidth": 0,
             "ticks": ""
            },
            "colorscale": [
             [
              0,
              "#0d0887"
             ],
             [
              0.1111111111111111,
              "#46039f"
             ],
             [
              0.2222222222222222,
              "#7201a8"
             ],
             [
              0.3333333333333333,
              "#9c179e"
             ],
             [
              0.4444444444444444,
              "#bd3786"
             ],
             [
              0.5555555555555556,
              "#d8576b"
             ],
             [
              0.6666666666666666,
              "#ed7953"
             ],
             [
              0.7777777777777778,
              "#fb9f3a"
             ],
             [
              0.8888888888888888,
              "#fdca26"
             ],
             [
              1,
              "#f0f921"
             ]
            ],
            "type": "histogram2d"
           }
          ],
          "histogram2dcontour": [
           {
            "colorbar": {
             "outlinewidth": 0,
             "ticks": ""
            },
            "colorscale": [
             [
              0,
              "#0d0887"
             ],
             [
              0.1111111111111111,
              "#46039f"
             ],
             [
              0.2222222222222222,
              "#7201a8"
             ],
             [
              0.3333333333333333,
              "#9c179e"
             ],
             [
              0.4444444444444444,
              "#bd3786"
             ],
             [
              0.5555555555555556,
              "#d8576b"
             ],
             [
              0.6666666666666666,
              "#ed7953"
             ],
             [
              0.7777777777777778,
              "#fb9f3a"
             ],
             [
              0.8888888888888888,
              "#fdca26"
             ],
             [
              1,
              "#f0f921"
             ]
            ],
            "type": "histogram2dcontour"
           }
          ],
          "mesh3d": [
           {
            "colorbar": {
             "outlinewidth": 0,
             "ticks": ""
            },
            "type": "mesh3d"
           }
          ],
          "parcoords": [
           {
            "line": {
             "colorbar": {
              "outlinewidth": 0,
              "ticks": ""
             }
            },
            "type": "parcoords"
           }
          ],
          "pie": [
           {
            "automargin": true,
            "type": "pie"
           }
          ],
          "scatter": [
           {
            "marker": {
             "colorbar": {
              "outlinewidth": 0,
              "ticks": ""
             }
            },
            "type": "scatter"
           }
          ],
          "scatter3d": [
           {
            "line": {
             "colorbar": {
              "outlinewidth": 0,
              "ticks": ""
             }
            },
            "marker": {
             "colorbar": {
              "outlinewidth": 0,
              "ticks": ""
             }
            },
            "type": "scatter3d"
           }
          ],
          "scattercarpet": [
           {
            "marker": {
             "colorbar": {
              "outlinewidth": 0,
              "ticks": ""
             }
            },
            "type": "scattercarpet"
           }
          ],
          "scattergeo": [
           {
            "marker": {
             "colorbar": {
              "outlinewidth": 0,
              "ticks": ""
             }
            },
            "type": "scattergeo"
           }
          ],
          "scattergl": [
           {
            "marker": {
             "colorbar": {
              "outlinewidth": 0,
              "ticks": ""
             }
            },
            "type": "scattergl"
           }
          ],
          "scattermapbox": [
           {
            "marker": {
             "colorbar": {
              "outlinewidth": 0,
              "ticks": ""
             }
            },
            "type": "scattermapbox"
           }
          ],
          "scatterpolar": [
           {
            "marker": {
             "colorbar": {
              "outlinewidth": 0,
              "ticks": ""
             }
            },
            "type": "scatterpolar"
           }
          ],
          "scatterpolargl": [
           {
            "marker": {
             "colorbar": {
              "outlinewidth": 0,
              "ticks": ""
             }
            },
            "type": "scatterpolargl"
           }
          ],
          "scatterternary": [
           {
            "marker": {
             "colorbar": {
              "outlinewidth": 0,
              "ticks": ""
             }
            },
            "type": "scatterternary"
           }
          ],
          "surface": [
           {
            "colorbar": {
             "outlinewidth": 0,
             "ticks": ""
            },
            "colorscale": [
             [
              0,
              "#0d0887"
             ],
             [
              0.1111111111111111,
              "#46039f"
             ],
             [
              0.2222222222222222,
              "#7201a8"
             ],
             [
              0.3333333333333333,
              "#9c179e"
             ],
             [
              0.4444444444444444,
              "#bd3786"
             ],
             [
              0.5555555555555556,
              "#d8576b"
             ],
             [
              0.6666666666666666,
              "#ed7953"
             ],
             [
              0.7777777777777778,
              "#fb9f3a"
             ],
             [
              0.8888888888888888,
              "#fdca26"
             ],
             [
              1,
              "#f0f921"
             ]
            ],
            "type": "surface"
           }
          ],
          "table": [
           {
            "cells": {
             "fill": {
              "color": "#EBF0F8"
             },
             "line": {
              "color": "white"
             }
            },
            "header": {
             "fill": {
              "color": "#C8D4E3"
             },
             "line": {
              "color": "white"
             }
            },
            "type": "table"
           }
          ]
         },
         "layout": {
          "annotationdefaults": {
           "arrowcolor": "#2a3f5f",
           "arrowhead": 0,
           "arrowwidth": 1
          },
          "autotypenumbers": "strict",
          "coloraxis": {
           "colorbar": {
            "outlinewidth": 0,
            "ticks": ""
           }
          },
          "colorscale": {
           "diverging": [
            [
             0,
             "#8e0152"
            ],
            [
             0.1,
             "#c51b7d"
            ],
            [
             0.2,
             "#de77ae"
            ],
            [
             0.3,
             "#f1b6da"
            ],
            [
             0.4,
             "#fde0ef"
            ],
            [
             0.5,
             "#f7f7f7"
            ],
            [
             0.6,
             "#e6f5d0"
            ],
            [
             0.7,
             "#b8e186"
            ],
            [
             0.8,
             "#7fbc41"
            ],
            [
             0.9,
             "#4d9221"
            ],
            [
             1,
             "#276419"
            ]
           ],
           "sequential": [
            [
             0,
             "#0d0887"
            ],
            [
             0.1111111111111111,
             "#46039f"
            ],
            [
             0.2222222222222222,
             "#7201a8"
            ],
            [
             0.3333333333333333,
             "#9c179e"
            ],
            [
             0.4444444444444444,
             "#bd3786"
            ],
            [
             0.5555555555555556,
             "#d8576b"
            ],
            [
             0.6666666666666666,
             "#ed7953"
            ],
            [
             0.7777777777777778,
             "#fb9f3a"
            ],
            [
             0.8888888888888888,
             "#fdca26"
            ],
            [
             1,
             "#f0f921"
            ]
           ],
           "sequentialminus": [
            [
             0,
             "#0d0887"
            ],
            [
             0.1111111111111111,
             "#46039f"
            ],
            [
             0.2222222222222222,
             "#7201a8"
            ],
            [
             0.3333333333333333,
             "#9c179e"
            ],
            [
             0.4444444444444444,
             "#bd3786"
            ],
            [
             0.5555555555555556,
             "#d8576b"
            ],
            [
             0.6666666666666666,
             "#ed7953"
            ],
            [
             0.7777777777777778,
             "#fb9f3a"
            ],
            [
             0.8888888888888888,
             "#fdca26"
            ],
            [
             1,
             "#f0f921"
            ]
           ]
          },
          "colorway": [
           "#636efa",
           "#EF553B",
           "#00cc96",
           "#ab63fa",
           "#FFA15A",
           "#19d3f3",
           "#FF6692",
           "#B6E880",
           "#FF97FF",
           "#FECB52"
          ],
          "font": {
           "color": "#2a3f5f"
          },
          "geo": {
           "bgcolor": "white",
           "lakecolor": "white",
           "landcolor": "#E5ECF6",
           "showlakes": true,
           "showland": true,
           "subunitcolor": "white"
          },
          "hoverlabel": {
           "align": "left"
          },
          "hovermode": "closest",
          "mapbox": {
           "style": "light"
          },
          "paper_bgcolor": "white",
          "plot_bgcolor": "#E5ECF6",
          "polar": {
           "angularaxis": {
            "gridcolor": "white",
            "linecolor": "white",
            "ticks": ""
           },
           "bgcolor": "#E5ECF6",
           "radialaxis": {
            "gridcolor": "white",
            "linecolor": "white",
            "ticks": ""
           }
          },
          "scene": {
           "xaxis": {
            "backgroundcolor": "#E5ECF6",
            "gridcolor": "white",
            "gridwidth": 2,
            "linecolor": "white",
            "showbackground": true,
            "ticks": "",
            "zerolinecolor": "white"
           },
           "yaxis": {
            "backgroundcolor": "#E5ECF6",
            "gridcolor": "white",
            "gridwidth": 2,
            "linecolor": "white",
            "showbackground": true,
            "ticks": "",
            "zerolinecolor": "white"
           },
           "zaxis": {
            "backgroundcolor": "#E5ECF6",
            "gridcolor": "white",
            "gridwidth": 2,
            "linecolor": "white",
            "showbackground": true,
            "ticks": "",
            "zerolinecolor": "white"
           }
          },
          "shapedefaults": {
           "line": {
            "color": "#2a3f5f"
           }
          },
          "ternary": {
           "aaxis": {
            "gridcolor": "white",
            "linecolor": "white",
            "ticks": ""
           },
           "baxis": {
            "gridcolor": "white",
            "linecolor": "white",
            "ticks": ""
           },
           "bgcolor": "#E5ECF6",
           "caxis": {
            "gridcolor": "white",
            "linecolor": "white",
            "ticks": ""
           }
          },
          "title": {
           "x": 0.05
          },
          "xaxis": {
           "automargin": true,
           "gridcolor": "white",
           "linecolor": "white",
           "ticks": "",
           "title": {
            "standoff": 15
           },
           "zerolinecolor": "white",
           "zerolinewidth": 2
          },
          "yaxis": {
           "automargin": true,
           "gridcolor": "white",
           "linecolor": "white",
           "ticks": "",
           "title": {
            "standoff": 15
           },
           "zerolinecolor": "white",
           "zerolinewidth": 2
          }
         }
        }
       }
      }
     },
     "metadata": {},
     "output_type": "display_data"
    }
   ],
   "source": [
    "# subtract the mean\n",
    "his_meanzero = his_M - np.mean(his_M, axis=1, keepdims=True)\n",
    "# divide by the standard deviation\n",
    "his_std = his_meanzero/np.std(his_meanzero, axis=1, keepdims=True)\n",
    "# SVD\n",
    "U, S, VT = np.linalg.svd(his_std, full_matrices=False)\n",
    "\n",
    "# make a figure showing the singular values\n",
    "svd_figure = pgo.Figure([pgo.Bar(x=np.arange(len(S)), y=S)])\n",
    "svd_figure.show()"
   ]
  },
  {
   "cell_type": "markdown",
   "id": "c70ada2f",
   "metadata": {},
   "source": [
    "We conclude that we will use the first three eigenvectors of the standardized data matrix.\n",
    "\n",
    "Now compute the eigenvectors of history data's covariance matrix:"
   ]
  },
  {
   "cell_type": "code",
   "execution_count": 6,
   "id": "40eda21f",
   "metadata": {},
   "outputs": [],
   "source": [
    "# eigenvector contained in v\n",
    "his_cov = np.cov(his_std.T)\n",
    "w, v = np.linalg.eig(his_cov)"
   ]
  },
  {
   "cell_type": "markdown",
   "id": "8617d2ba",
   "metadata": {},
   "source": [
    "Try different combinations of the first tree eigenvectors as the feature matrix.\n",
    "\n",
    "We produce the result of the PCA in this formula:\n",
    "$Data = Feature^{T} * StdMatrix^{T}$\n",
    "\n",
    "Then, we plot the transpose of the results in scatter to observe any possible patterns."
   ]
  },
  {
   "cell_type": "code",
   "execution_count": 7,
   "id": "b40f46ab",
   "metadata": {},
   "outputs": [],
   "source": [
    "# state the eigenvector to be used\n",
    "v1 = (v[:,0]).real\n",
    "v1 = v1.reshape((v1.shape[0], 1))\n",
    "v2 = (v[:,1]).real\n",
    "v2 = v2.reshape((v2.shape[0], 1))\n",
    "v3 = (v[:,2]).real\n",
    "v3 = v3.reshape((v3.shape[0], 1))"
   ]
  },
  {
   "cell_type": "code",
   "execution_count": 8,
   "id": "472e8fea",
   "metadata": {},
   "outputs": [
    {
     "data": {
      "text/plain": [
       "<matplotlib.collections.PathCollection at 0x1f756bdfc10>"
      ]
     },
     "execution_count": 8,
     "metadata": {},
     "output_type": "execute_result"
    },
    {
     "data": {
      "image/png": "[encoded data removed]",
      "text/plain": [
       "<Figure size 432x288 with 1 Axes>"
      ]
     },
     "metadata": {
      "needs_background": "light"
     },
     "output_type": "display_data"
    }
   ],
   "source": [
    "# v1 and v2\n",
    "f_12 = np.concatenate((v1, v2), axis = 1)\n",
    "his_12 = (his_std @ f_12).T\n",
    "plt.scatter(his_12[0],his_12[1])"
   ]
  },
  {
   "cell_type": "code",
   "execution_count": 9,
   "id": "37278e2d",
   "metadata": {},
   "outputs": [
    {
     "data": {
      "text/plain": [
       "<matplotlib.collections.PathCollection at 0x1f756cd28b0>"
      ]
     },
     "execution_count": 9,
     "metadata": {},
     "output_type": "execute_result"
    },
    {
     "data": {
      "image/png": "[encoded data removed]",
      "text/plain": [
       "<Figure size 432x288 with 1 Axes>"
      ]
     },
     "metadata": {
      "needs_background": "light"
     },
     "output_type": "display_data"
    }
   ],
   "source": [
    "# v1 and v3\n",
    "f_13 = np.concatenate((v1, v3), axis = 1)\n",
    "his_13 = (his_std @ f_13).T\n",
    "plt.scatter(his_13[0],his_13[1])"
   ]
  },
  {
   "cell_type": "code",
   "execution_count": 10,
   "id": "669cb01b",
   "metadata": {},
   "outputs": [
    {
     "data": {
      "text/plain": [
       "<matplotlib.collections.PathCollection at 0x1f756cf52e0>"
      ]
     },
     "execution_count": 10,
     "metadata": {},
     "output_type": "execute_result"
    },
    {
     "data": {
      "image/png": "[encoded data removed]",
      "text/plain": [
       "<Figure size 432x288 with 1 Axes>"
      ]
     },
     "metadata": {
      "needs_background": "light"
     },
     "output_type": "display_data"
    }
   ],
   "source": [
    "# v2 and v3\n",
    "f_23 = np.concatenate((v2, v3), axis = 1)\n",
    "his_23 = (his_std @ f_23).T\n",
    "plt.scatter(his_23[0],his_23[1])"
   ]
  },
  {
   "cell_type": "markdown",
   "id": "5b198505",
   "metadata": {},
   "source": [
    "When using the first two eigenvalues to project the history data, it did give the best classification result, thus we decide to use the first two eigen values **v1** and **v2**.\n",
    "\n",
    "As shown in the first graph, we will classify the data into 3 clusters in the next K-means step."
   ]
  },
  {
   "cell_type": "markdown",
   "id": "649c9c78",
   "metadata": {},
   "source": [
    "## 2) K-means clustering"
   ]
  },
  {
   "cell_type": "markdown",
   "id": "b829670e",
   "metadata": {},
   "source": [
    "Now we use k-means method to cluster the data into 3 parts."
   ]
  },
  {
   "cell_type": "code",
   "execution_count": 11,
   "id": "31adf585",
   "metadata": {
    "scrolled": true
   },
   "outputs": [
    {
     "name": "stdout",
     "output_type": "stream",
     "text": [
      "[[ 1.00950000e+05  7.31094618e-01 -8.94753669e-01 ...  1.58980665e-01\n",
      "   1.31720742e-01  1.23296336e-01]\n",
      " [ 1.00956000e+05  1.10938964e+00 -6.69580389e-01 ... -3.53934244e-01\n",
      "   4.24670322e-01 -1.03733797e+00]\n",
      " [ 1.00962000e+05 -1.02138211e+00  2.91023343e+00 ... -1.02985095e+00\n",
      "  -7.75577031e-01  2.19481007e-01]\n",
      " ...\n",
      " [ 1.25629000e+05  9.11668165e-01 -7.27845322e-01 ... -1.49643757e-02\n",
      "   2.22371361e-02 -7.33299870e-01]\n",
      " [ 1.25636000e+05 -1.24583943e+00  1.54151693e+00 ... -3.22959687e-01\n",
      "  -9.17915211e-01 -7.03656886e-01]\n",
      " [ 1.25645000e+05 -8.32821846e-01  5.39011111e-01 ... -4.25121028e-01\n",
      "  -4.56042856e-01 -1.13749788e+00]]\n"
     ]
    },
    {
     "data": {
      "image/png": "[encoded data removed]",
      "text/plain": [
       "<Figure size 432x288 with 1 Axes>"
      ]
     },
     "metadata": {
      "needs_background": "light"
     },
     "output_type": "display_data"
    }
   ],
   "source": [
    "from sklearn.cluster import KMeans\n",
    "chis_12 = KMeans(n_clusters=3)\n",
    "his_label = his_label.reshape((his_label.shape[0],1))\n",
    "his12 = np.concatenate((his_label,his_std), axis = 1)\n",
    "print(his12)\n",
    "#his12=np.transpose(his12)\n",
    "chis_12.fit(his12[:,1:])\n",
    "\n",
    "plt.figure()\n",
    "for i in range(3):\n",
    "    plt.plot(his12[chis_12.labels_==i, 1], his12[chis_12.labels_==i, 2], 'o')\n"
   ]
  },
  {
   "cell_type": "markdown",
   "id": "b2be3202",
   "metadata": {},
   "source": [
    "When separatig the clusters, we want to keep the labels (User index) on track in order to place the data after PCA process back in place."
   ]
  },
  {
   "cell_type": "code",
   "execution_count": 12,
   "id": "795a6b62",
   "metadata": {},
   "outputs": [],
   "source": [
    "# cluster 1\n",
    "c1 = his12[chis_12.labels_==0]\n",
    "c1_label = c1[:,0].reshape((c1[:,0].shape[0],1))\n",
    "c1 = c1[:,1:]\n",
    "# cluster 2\n",
    "c2=his12[chis_12.labels_==1]\n",
    "c2_label = c2[:,0].reshape((c2[:,0].shape[0],1))\n",
    "c2 = c2[:,1:]\n",
    "# cluster 3\n",
    "c3=his12[chis_12.labels_==2]\n",
    "c3_label = c3[:,0].reshape((c3[:,0].shape[0],1))\n",
    "c3 = c3[:,1:]"
   ]
  },
  {
   "cell_type": "markdown",
   "id": "50e6b9b3",
   "metadata": {},
   "source": [
    "## 3. PCA on clusters"
   ]
  },
  {
   "cell_type": "markdown",
   "id": "71ae4ea8",
   "metadata": {},
   "source": [
    "1. Standardize the first cluster"
   ]
  },
  {
   "cell_type": "code",
   "execution_count": 13,
   "id": "0bbdf877",
   "metadata": {},
   "outputs": [
    {
     "data": {
      "application/vnd.plotly.v1+json": {
       "config": {
        "plotlyServerURL": "https://plot.ly"
       },
       "data": [
        {
         "type": "bar",
         "x": [
          0,
          1,
          2,
          3,
          4,
          5,
          6,
          7,
          8,
          9,
          10,
          11,
          12,
          13,
          14,
          15,
          16,
          17,
          18,
          19,
          20,
          21,
          22,
          23,
          24,
          25,
          26,
          27,
          28,
          29,
          30,
          31,
          32,
          33,
          34,
          35,
          36,
          37,
          38,
          39,
          40,
          41,
          42,
          43,
          44,
          45,
          46,
          47,
          48,
          49,
          50,
          51,
          52,
          53,
          54,
          55,
          56,
          57,
          58,
          59,
          60,
          61,
          62,
          63,
          64,
          65,
          66,
          67,
          68,
          69,
          70,
          71,
          72,
          73,
          74,
          75,
          76,
          77,
          78,
          79,
          80,
          81,
          82,
          83,
          84,
          85,
          86,
          87,
          88,
          89,
          90,
          91,
          92,
          93,
          94,
          95,
          96,
          97,
          98,
          99
         ],
         "y": [
          352.30576038478927,
          100.93001212884161,
          85.87036614503907,
          24.95124105612235,
          23.070800077970443,
          17.999802373274626,
          12.274845129352077,
          11.704513089353744,
          10.80425838796202,
          10.626829047885447,
          10.566923990167597,
          10.474390240619485,
          10.419650840826264,
          10.368853013125266,
          10.347917237233238,
          10.277645901809178,
          10.119260395491532,
          10.035433179236916,
          9.962515694596371,
          9.870180775394768,
          9.811069342102407,
          9.771062429253258,
          9.719933018512156,
          9.714527169074302,
          9.653207606427758,
          9.546085350714304,
          9.526511163377933,
          9.436189422885768,
          9.424618638368328,
          9.38486580956086,
          9.337490746957123,
          9.251660360685603,
          9.236674922773313,
          9.185487275006519,
          9.17177703844776,
          9.120967349329527,
          9.082137821666803,
          9.062014694592106,
          9.060134846727356,
          8.98749823696257,
          8.936683579418485,
          8.870028762030405,
          8.843974334691877,
          8.810328330644307,
          8.749773191966096,
          8.73310770798832,
          8.691363799814052,
          8.665091154314716,
          8.589592710022783,
          8.547721631774937,
          8.495345913213061,
          8.437731308144539,
          8.413945699436667,
          8.372422147147173,
          8.324288301870377,
          8.311734144609135,
          8.263074261877609,
          8.222868791377444,
          8.208494613568417,
          8.159665941032765,
          8.146207566132405,
          8.06755205136839,
          8.028904298107026,
          7.993344552324136,
          7.929932099231695,
          7.914924692577726,
          7.895664590977874,
          7.855335921616915,
          7.791640855840186,
          7.769729764066971,
          7.744950637715878,
          7.700034652322608,
          7.63347800380319,
          7.5706629221572905,
          7.539587482766631,
          7.473344339272459,
          7.412535934681714,
          7.39212993948876,
          7.346279030567227,
          7.267092706497054,
          7.23444724751502,
          7.185512030874631,
          7.1734398511812545,
          7.104568986025862,
          7.070651694578634,
          7.007646291859162,
          6.930811024618282,
          6.888887887601307,
          6.855899245040374,
          6.792989606984421,
          6.736640818356125,
          6.6529244358077735,
          6.603146561642569,
          6.544538104632369,
          6.452189906670024,
          6.275136749780825,
          6.178767507434374,
          6.137340851374124,
          6.083778505125162,
          2.0581642173519227e-13
         ]
        }
       ],
       "layout": {
        "template": {
         "data": {
          "bar": [
           {
            "error_x": {
             "color": "#2a3f5f"
            },
            "error_y": {
             "color": "#2a3f5f"
            },
            "marker": {
             "line": {
              "color": "#E5ECF6",
              "width": 0.5
             },
             "pattern": {
              "fillmode": "overlay",
              "size": 10,
              "solidity": 0.2
             }
            },
            "type": "bar"
           }
          ],
          "barpolar": [
           {
            "marker": {
             "line": {
              "color": "#E5ECF6",
              "width": 0.5
             },
             "pattern": {
              "fillmode": "overlay",
              "size": 10,
              "solidity": 0.2
             }
            },
            "type": "barpolar"
           }
          ],
          "carpet": [
           {
            "aaxis": {
             "endlinecolor": "#2a3f5f",
             "gridcolor": "white",
             "linecolor": "white",
             "minorgridcolor": "white",
             "startlinecolor": "#2a3f5f"
            },
            "baxis": {
             "endlinecolor": "#2a3f5f",
             "gridcolor": "white",
             "linecolor": "white",
             "minorgridcolor": "white",
             "startlinecolor": "#2a3f5f"
            },
            "type": "carpet"
           }
          ],
          "choropleth": [
           {
            "colorbar": {
             "outlinewidth": 0,
             "ticks": ""
            },
            "type": "choropleth"
           }
          ],
          "contour": [
           {
            "colorbar": {
             "outlinewidth": 0,
             "ticks": ""
            },
            "colorscale": [
             [
              0,
              "#0d0887"
             ],
             [
              0.1111111111111111,
              "#46039f"
             ],
             [
              0.2222222222222222,
              "#7201a8"
             ],
             [
              0.3333333333333333,
              "#9c179e"
             ],
             [
              0.4444444444444444,
              "#bd3786"
             ],
             [
              0.5555555555555556,
              "#d8576b"
             ],
             [
              0.6666666666666666,
              "#ed7953"
             ],
             [
              0.7777777777777778,
              "#fb9f3a"
             ],
             [
              0.8888888888888888,
              "#fdca26"
             ],
             [
              1,
              "#f0f921"
             ]
            ],
            "type": "contour"
           }
          ],
          "contourcarpet": [
           {
            "colorbar": {
             "outlinewidth": 0,
             "ticks": ""
            },
            "type": "contourcarpet"
           }
          ],
          "heatmap": [
           {
            "colorbar": {
             "outlinewidth": 0,
             "ticks": ""
            },
            "colorscale": [
             [
              0,
              "#0d0887"
             ],
             [
              0.1111111111111111,
              "#46039f"
             ],
             [
              0.2222222222222222,
              "#7201a8"
             ],
             [
              0.3333333333333333,
              "#9c179e"
             ],
             [
              0.4444444444444444,
              "#bd3786"
             ],
             [
              0.5555555555555556,
              "#d8576b"
             ],
             [
              0.6666666666666666,
              "#ed7953"
             ],
             [
              0.7777777777777778,
              "#fb9f3a"
             ],
             [
              0.8888888888888888,
              "#fdca26"
             ],
             [
              1,
              "#f0f921"
             ]
            ],
            "type": "heatmap"
           }
          ],
          "heatmapgl": [
           {
            "colorbar": {
             "outlinewidth": 0,
             "ticks": ""
            },
            "colorscale": [
             [
              0,
              "#0d0887"
             ],
             [
              0.1111111111111111,
              "#46039f"
             ],
             [
              0.2222222222222222,
              "#7201a8"
             ],
             [
              0.3333333333333333,
              "#9c179e"
             ],
             [
              0.4444444444444444,
              "#bd3786"
             ],
             [
              0.5555555555555556,
              "#d8576b"
             ],
             [
              0.6666666666666666,
              "#ed7953"
             ],
             [
              0.7777777777777778,
              "#fb9f3a"
             ],
             [
              0.8888888888888888,
              "#fdca26"
             ],
             [
              1,
              "#f0f921"
             ]
            ],
            "type": "heatmapgl"
           }
          ],
          "histogram": [
           {
            "marker": {
             "pattern": {
              "fillmode": "overlay",
              "size": 10,
              "solidity": 0.2
             }
            },
            "type": "histogram"
           }
          ],
          "histogram2d": [
           {
            "colorbar": {
             "outlinewidth": 0,
             "ticks": ""
            },
            "colorscale": [
             [
              0,
              "#0d0887"
             ],
             [
              0.1111111111111111,
              "#46039f"
             ],
             [
              0.2222222222222222,
              "#7201a8"
             ],
             [
              0.3333333333333333,
              "#9c179e"
             ],
             [
              0.4444444444444444,
              "#bd3786"
             ],
             [
              0.5555555555555556,
              "#d8576b"
             ],
             [
              0.6666666666666666,
              "#ed7953"
             ],
             [
              0.7777777777777778,
              "#fb9f3a"
             ],
             [
              0.8888888888888888,
              "#fdca26"
             ],
             [
              1,
              "#f0f921"
             ]
            ],
            "type": "histogram2d"
           }
          ],
          "histogram2dcontour": [
           {
            "colorbar": {
             "outlinewidth": 0,
             "ticks": ""
            },
            "colorscale": [
             [
              0,
              "#0d0887"
             ],
             [
              0.1111111111111111,
              "#46039f"
             ],
             [
              0.2222222222222222,
              "#7201a8"
             ],
             [
              0.3333333333333333,
              "#9c179e"
             ],
             [
              0.4444444444444444,
              "#bd3786"
             ],
             [
              0.5555555555555556,
              "#d8576b"
             ],
             [
              0.6666666666666666,
              "#ed7953"
             ],
             [
              0.7777777777777778,
              "#fb9f3a"
             ],
             [
              0.8888888888888888,
              "#fdca26"
             ],
             [
              1,
              "#f0f921"
             ]
            ],
            "type": "histogram2dcontour"
           }
          ],
          "mesh3d": [
           {
            "colorbar": {
             "outlinewidth": 0,
             "ticks": ""
            },
            "type": "mesh3d"
           }
          ],
          "parcoords": [
           {
            "line": {
             "colorbar": {
              "outlinewidth": 0,
              "ticks": ""
             }
            },
            "type": "parcoords"
           }
          ],
          "pie": [
           {
            "automargin": true,
            "type": "pie"
           }
          ],
          "scatter": [
           {
            "marker": {
             "colorbar": {
              "outlinewidth": 0,
              "ticks": ""
             }
            },
            "type": "scatter"
           }
          ],
          "scatter3d": [
           {
            "line": {
             "colorbar": {
              "outlinewidth": 0,
              "ticks": ""
             }
            },
            "marker": {
             "colorbar": {
              "outlinewidth": 0,
              "ticks": ""
             }
            },
            "type": "scatter3d"
           }
          ],
          "scattercarpet": [
           {
            "marker": {
             "colorbar": {
              "outlinewidth": 0,
              "ticks": ""
             }
            },
            "type": "scattercarpet"
           }
          ],
          "scattergeo": [
           {
            "marker": {
             "colorbar": {
              "outlinewidth": 0,
              "ticks": ""
             }
            },
            "type": "scattergeo"
           }
          ],
          "scattergl": [
           {
            "marker": {
             "colorbar": {
              "outlinewidth": 0,
              "ticks": ""
             }
            },
            "type": "scattergl"
           }
          ],
          "scattermapbox": [
           {
            "marker": {
             "colorbar": {
              "outlinewidth": 0,
              "ticks": ""
             }
            },
            "type": "scattermapbox"
           }
          ],
          "scatterpolar": [
           {
            "marker": {
             "colorbar": {
              "outlinewidth": 0,
              "ticks": ""
             }
            },
            "type": "scatterpolar"
           }
          ],
          "scatterpolargl": [
           {
            "marker": {
             "colorbar": {
              "outlinewidth": 0,
              "ticks": ""
             }
            },
            "type": "scatterpolargl"
           }
          ],
          "scatterternary": [
           {
            "marker": {
             "colorbar": {
              "outlinewidth": 0,
              "ticks": ""
             }
            },
            "type": "scatterternary"
           }
          ],
          "surface": [
           {
            "colorbar": {
             "outlinewidth": 0,
             "ticks": ""
            },
            "colorscale": [
             [
              0,
              "#0d0887"
             ],
             [
              0.1111111111111111,
              "#46039f"
             ],
             [
              0.2222222222222222,
              "#7201a8"
             ],
             [
              0.3333333333333333,
              "#9c179e"
             ],
             [
              0.4444444444444444,
              "#bd3786"
             ],
             [
              0.5555555555555556,
              "#d8576b"
             ],
             [
              0.6666666666666666,
              "#ed7953"
             ],
             [
              0.7777777777777778,
              "#fb9f3a"
             ],
             [
              0.8888888888888888,
              "#fdca26"
             ],
             [
              1,
              "#f0f921"
             ]
            ],
            "type": "surface"
           }
          ],
          "table": [
           {
            "cells": {
             "fill": {
              "color": "#EBF0F8"
             },
             "line": {
              "color": "white"
             }
            },
            "header": {
             "fill": {
              "color": "#C8D4E3"
             },
             "line": {
              "color": "white"
             }
            },
            "type": "table"
           }
          ]
         },
         "layout": {
          "annotationdefaults": {
           "arrowcolor": "#2a3f5f",
           "arrowhead": 0,
           "arrowwidth": 1
          },
          "autotypenumbers": "strict",
          "coloraxis": {
           "colorbar": {
            "outlinewidth": 0,
            "ticks": ""
           }
          },
          "colorscale": {
           "diverging": [
            [
             0,
             "#8e0152"
            ],
            [
             0.1,
             "#c51b7d"
            ],
            [
             0.2,
             "#de77ae"
            ],
            [
             0.3,
             "#f1b6da"
            ],
            [
             0.4,
             "#fde0ef"
            ],
            [
             0.5,
             "#f7f7f7"
            ],
            [
             0.6,
             "#e6f5d0"
            ],
            [
             0.7,
             "#b8e186"
            ],
            [
             0.8,
             "#7fbc41"
            ],
            [
             0.9,
             "#4d9221"
            ],
            [
             1,
             "#276419"
            ]
           ],
           "sequential": [
            [
             0,
             "#0d0887"
            ],
            [
             0.1111111111111111,
             "#46039f"
            ],
            [
             0.2222222222222222,
             "#7201a8"
            ],
            [
             0.3333333333333333,
             "#9c179e"
            ],
            [
             0.4444444444444444,
             "#bd3786"
            ],
            [
             0.5555555555555556,
             "#d8576b"
            ],
            [
             0.6666666666666666,
             "#ed7953"
            ],
            [
             0.7777777777777778,
             "#fb9f3a"
            ],
            [
             0.8888888888888888,
             "#fdca26"
            ],
            [
             1,
             "#f0f921"
            ]
           ],
           "sequentialminus": [
            [
             0,
             "#0d0887"
            ],
            [
             0.1111111111111111,
             "#46039f"
            ],
            [
             0.2222222222222222,
             "#7201a8"
            ],
            [
             0.3333333333333333,
             "#9c179e"
            ],
            [
             0.4444444444444444,
             "#bd3786"
            ],
            [
             0.5555555555555556,
             "#d8576b"
            ],
            [
             0.6666666666666666,
             "#ed7953"
            ],
            [
             0.7777777777777778,
             "#fb9f3a"
            ],
            [
             0.8888888888888888,
             "#fdca26"
            ],
            [
             1,
             "#f0f921"
            ]
           ]
          },
          "colorway": [
           "#636efa",
           "#EF553B",
           "#00cc96",
           "#ab63fa",
           "#FFA15A",
           "#19d3f3",
           "#FF6692",
           "#B6E880",
           "#FF97FF",
           "#FECB52"
          ],
          "font": {
           "color": "#2a3f5f"
          },
          "geo": {
           "bgcolor": "white",
           "lakecolor": "white",
           "landcolor": "#E5ECF6",
           "showlakes": true,
           "showland": true,
           "subunitcolor": "white"
          },
          "hoverlabel": {
           "align": "left"
          },
          "hovermode": "closest",
          "mapbox": {
           "style": "light"
          },
          "paper_bgcolor": "white",
          "plot_bgcolor": "#E5ECF6",
          "polar": {
           "angularaxis": {
            "gridcolor": "white",
            "linecolor": "white",
            "ticks": ""
           },
           "bgcolor": "#E5ECF6",
           "radialaxis": {
            "gridcolor": "white",
            "linecolor": "white",
            "ticks": ""
           }
          },
          "scene": {
           "xaxis": {
            "backgroundcolor": "#E5ECF6",
            "gridcolor": "white",
            "gridwidth": 2,
            "linecolor": "white",
            "showbackground": true,
            "ticks": "",
            "zerolinecolor": "white"
           },
           "yaxis": {
            "backgroundcolor": "#E5ECF6",
            "gridcolor": "white",
            "gridwidth": 2,
            "linecolor": "white",
            "showbackground": true,
            "ticks": "",
            "zerolinecolor": "white"
           },
           "zaxis": {
            "backgroundcolor": "#E5ECF6",
            "gridcolor": "white",
            "gridwidth": 2,
            "linecolor": "white",
            "showbackground": true,
            "ticks": "",
            "zerolinecolor": "white"
           }
          },
          "shapedefaults": {
           "line": {
            "color": "#2a3f5f"
           }
          },
          "ternary": {
           "aaxis": {
            "gridcolor": "white",
            "linecolor": "white",
            "ticks": ""
           },
           "baxis": {
            "gridcolor": "white",
            "linecolor": "white",
            "ticks": ""
           },
           "bgcolor": "#E5ECF6",
           "caxis": {
            "gridcolor": "white",
            "linecolor": "white",
            "ticks": ""
           }
          },
          "title": {
           "x": 0.05
          },
          "xaxis": {
           "automargin": true,
           "gridcolor": "white",
           "linecolor": "white",
           "ticks": "",
           "title": {
            "standoff": 15
           },
           "zerolinecolor": "white",
           "zerolinewidth": 2
          },
          "yaxis": {
           "automargin": true,
           "gridcolor": "white",
           "linecolor": "white",
           "ticks": "",
           "title": {
            "standoff": 15
           },
           "zerolinecolor": "white",
           "zerolinewidth": 2
          }
         }
        }
       }
      }
     },
     "metadata": {},
     "output_type": "display_data"
    }
   ],
   "source": [
    "# subtract the mean\n",
    "c1_meanzero = c1 - np.mean(c2, axis=1, keepdims=True)\n",
    "# divide by the standard deviation\n",
    "c1_std = c1_meanzero/np.std(c1_meanzero, axis=1, keepdims=True)\n",
    "# SVD\n",
    "U, S, VT = np.linalg.svd(c1_std, full_matrices=False)\n",
    "\n",
    "# make a figure showing the singular values\n",
    "svd_figure = pgo.Figure([pgo.Bar(x=np.arange(len(S)), y=S)])\n",
    "svd_figure.show()"
   ]
  },
  {
   "cell_type": "markdown",
   "id": "7da86a70",
   "metadata": {},
   "source": [
    "Compute the eigenvector of the first cluster's covariance matrix"
   ]
  },
  {
   "cell_type": "code",
   "execution_count": 14,
   "id": "49933117",
   "metadata": {},
   "outputs": [],
   "source": [
    "# eigenvector contained in v\n",
    "c1_cov = np.cov(c1_std.T)\n",
    "w, v1 = np.linalg.eig(c1_cov)\n",
    "v1_3 = v1[:,0:3]\n",
    "v1_6 = v1[:,0:6]\n",
    "c1_3 = c1_std @ v1_3\n",
    "c1_6 = c1_std @ v1_6\n",
    "# c1 with 3 features\n",
    "c1_3 = np.concatenate((c1_label, c1_3), axis = 1)\n",
    "# c1 with 6 features\n",
    "c1_6 = np.concatenate((c1_label, c1_6), axis = 1)"
   ]
  },
  {
   "cell_type": "markdown",
   "id": "61ba603b",
   "metadata": {},
   "source": [
    "2. Standardize the 2nd cluster"
   ]
  },
  {
   "cell_type": "code",
   "execution_count": 15,
   "id": "ae133863",
   "metadata": {},
   "outputs": [
    {
     "data": {
      "application/vnd.plotly.v1+json": {
       "config": {
        "plotlyServerURL": "https://plot.ly"
       },
       "data": [
        {
         "type": "bar",
         "x": [
          0,
          1,
          2,
          3,
          4,
          5,
          6,
          7,
          8,
          9,
          10,
          11,
          12,
          13,
          14,
          15,
          16,
          17,
          18,
          19,
          20,
          21,
          22,
          23,
          24,
          25,
          26,
          27,
          28,
          29,
          30,
          31,
          32,
          33,
          34,
          35,
          36,
          37,
          38,
          39,
          40,
          41,
          42,
          43,
          44,
          45,
          46,
          47,
          48,
          49,
          50,
          51,
          52,
          53,
          54,
          55,
          56,
          57,
          58,
          59,
          60,
          61,
          62,
          63,
          64,
          65,
          66,
          67,
          68,
          69,
          70,
          71,
          72,
          73,
          74,
          75,
          76,
          77,
          78,
          79,
          80,
          81,
          82,
          83,
          84,
          85,
          86,
          87,
          88,
          89,
          90,
          91,
          92,
          93,
          94,
          95,
          96,
          97,
          98,
          99
         ],
         "y": [
          352.4204311835648,
          98.03948673391383,
          88.20465646079002,
          23.967638931985224,
          22.183696420179086,
          19.393655791765386,
          12.271344524374877,
          11.399861022364172,
          10.853029360843838,
          10.805867519339044,
          10.694238045807326,
          10.651533148981455,
          10.492587918285182,
          10.3960069805091,
          10.314046667970473,
          10.217753762352931,
          10.165592588578114,
          10.109290557876218,
          10.067090412962024,
          10.050898273129919,
          9.997040875684489,
          9.883831963655789,
          9.779311189714543,
          9.689390147016562,
          9.68667772963981,
          9.595872952289175,
          9.58089325754462,
          9.490140258881246,
          9.414982541275743,
          9.374487752880462,
          9.36143593544331,
          9.343445607077602,
          9.266678797359774,
          9.249207102838012,
          9.201727271844504,
          9.153071270292132,
          9.13011738818945,
          9.092439341639443,
          9.087078304084724,
          9.059278097563196,
          9.04169675124004,
          8.973077443388327,
          8.95384712811719,
          8.87516749654567,
          8.849136378494762,
          8.821624876678344,
          8.753779736263077,
          8.746974427455783,
          8.714545916809062,
          8.637469043160982,
          8.597774118631087,
          8.564712648557382,
          8.528774692843031,
          8.47738175071149,
          8.439230185407872,
          8.377217562564738,
          8.36032752759071,
          8.326657114263611,
          8.268295241466753,
          8.217468744072995,
          8.168073998833068,
          8.133148563130987,
          8.099764948465724,
          8.074841818236363,
          8.00884083535315,
          7.990946431774465,
          7.966873506917233,
          7.896141251945035,
          7.865197686927434,
          7.822577026565964,
          7.801382648437954,
          7.755324507595532,
          7.663456058961659,
          7.610323175519728,
          7.58034623493726,
          7.559214307594526,
          7.521673037077331,
          7.507923394311815,
          7.454786200254478,
          7.40268125234615,
          7.363906407545692,
          7.312461934133456,
          7.27427179352755,
          7.243797061877037,
          7.203521393757204,
          7.108003988179449,
          7.071899324060539,
          7.034886862437119,
          6.9643066449568405,
          6.938110722138423,
          6.8936890780206,
          6.761243900790155,
          6.689800297656792,
          6.66018248085613,
          6.645248134409528,
          6.543029244766081,
          6.440599541491685,
          6.434589522506768,
          6.266382046675796,
          1.3386074970934822e-14
         ]
        }
       ],
       "layout": {
        "template": {
         "data": {
          "bar": [
           {
            "error_x": {
             "color": "#2a3f5f"
            },
            "error_y": {
             "color": "#2a3f5f"
            },
            "marker": {
             "line": {
              "color": "#E5ECF6",
              "width": 0.5
             },
             "pattern": {
              "fillmode": "overlay",
              "size": 10,
              "solidity": 0.2
             }
            },
            "type": "bar"
           }
          ],
          "barpolar": [
           {
            "marker": {
             "line": {
              "color": "#E5ECF6",
              "width": 0.5
             },
             "pattern": {
              "fillmode": "overlay",
              "size": 10,
              "solidity": 0.2
             }
            },
            "type": "barpolar"
           }
          ],
          "carpet": [
           {
            "aaxis": {
             "endlinecolor": "#2a3f5f",
             "gridcolor": "white",
             "linecolor": "white",
             "minorgridcolor": "white",
             "startlinecolor": "#2a3f5f"
            },
            "baxis": {
             "endlinecolor": "#2a3f5f",
             "gridcolor": "white",
             "linecolor": "white",
             "minorgridcolor": "white",
             "startlinecolor": "#2a3f5f"
            },
            "type": "carpet"
           }
          ],
          "choropleth": [
           {
            "colorbar": {
             "outlinewidth": 0,
             "ticks": ""
            },
            "type": "choropleth"
           }
          ],
          "contour": [
           {
            "colorbar": {
             "outlinewidth": 0,
             "ticks": ""
            },
            "colorscale": [
             [
              0,
              "#0d0887"
             ],
             [
              0.1111111111111111,
              "#46039f"
             ],
             [
              0.2222222222222222,
              "#7201a8"
             ],
             [
              0.3333333333333333,
              "#9c179e"
             ],
             [
              0.4444444444444444,
              "#bd3786"
             ],
             [
              0.5555555555555556,
              "#d8576b"
             ],
             [
              0.6666666666666666,
              "#ed7953"
             ],
             [
              0.7777777777777778,
              "#fb9f3a"
             ],
             [
              0.8888888888888888,
              "#fdca26"
             ],
             [
              1,
              "#f0f921"
             ]
            ],
            "type": "contour"
           }
          ],
          "contourcarpet": [
           {
            "colorbar": {
             "outlinewidth": 0,
             "ticks": ""
            },
            "type": "contourcarpet"
           }
          ],
          "heatmap": [
           {
            "colorbar": {
             "outlinewidth": 0,
             "ticks": ""
            },
            "colorscale": [
             [
              0,
              "#0d0887"
             ],
             [
              0.1111111111111111,
              "#46039f"
             ],
             [
              0.2222222222222222,
              "#7201a8"
             ],
             [
              0.3333333333333333,
              "#9c179e"
             ],
             [
              0.4444444444444444,
              "#bd3786"
             ],
             [
              0.5555555555555556,
              "#d8576b"
             ],
             [
              0.6666666666666666,
              "#ed7953"
             ],
             [
              0.7777777777777778,
              "#fb9f3a"
             ],
             [
              0.8888888888888888,
              "#fdca26"
             ],
             [
              1,
              "#f0f921"
             ]
            ],
            "type": "heatmap"
           }
          ],
          "heatmapgl": [
           {
            "colorbar": {
             "outlinewidth": 0,
             "ticks": ""
            },
            "colorscale": [
             [
              0,
              "#0d0887"
             ],
             [
              0.1111111111111111,
              "#46039f"
             ],
             [
              0.2222222222222222,
              "#7201a8"
             ],
             [
              0.3333333333333333,
              "#9c179e"
             ],
             [
              0.4444444444444444,
              "#bd3786"
             ],
             [
              0.5555555555555556,
              "#d8576b"
             ],
             [
              0.6666666666666666,
              "#ed7953"
             ],
             [
              0.7777777777777778,
              "#fb9f3a"
             ],
             [
              0.8888888888888888,
              "#fdca26"
             ],
             [
              1,
              "#f0f921"
             ]
            ],
            "type": "heatmapgl"
           }
          ],
          "histogram": [
           {
            "marker": {
             "pattern": {
              "fillmode": "overlay",
              "size": 10,
              "solidity": 0.2
             }
            },
            "type": "histogram"
           }
          ],
          "histogram2d": [
           {
            "colorbar": {
             "outlinewidth": 0,
             "ticks": ""
            },
            "colorscale": [
             [
              0,
              "#0d0887"
             ],
             [
              0.1111111111111111,
              "#46039f"
             ],
             [
              0.2222222222222222,
              "#7201a8"
             ],
             [
              0.3333333333333333,
              "#9c179e"
             ],
             [
              0.4444444444444444,
              "#bd3786"
             ],
             [
              0.5555555555555556,
              "#d8576b"
             ],
             [
              0.6666666666666666,
              "#ed7953"
             ],
             [
              0.7777777777777778,
              "#fb9f3a"
             ],
             [
              0.8888888888888888,
              "#fdca26"
             ],
             [
              1,
              "#f0f921"
             ]
            ],
            "type": "histogram2d"
           }
          ],
          "histogram2dcontour": [
           {
            "colorbar": {
             "outlinewidth": 0,
             "ticks": ""
            },
            "colorscale": [
             [
              0,
              "#0d0887"
             ],
             [
              0.1111111111111111,
              "#46039f"
             ],
             [
              0.2222222222222222,
              "#7201a8"
             ],
             [
              0.3333333333333333,
              "#9c179e"
             ],
             [
              0.4444444444444444,
              "#bd3786"
             ],
             [
              0.5555555555555556,
              "#d8576b"
             ],
             [
              0.6666666666666666,
              "#ed7953"
             ],
             [
              0.7777777777777778,
              "#fb9f3a"
             ],
             [
              0.8888888888888888,
              "#fdca26"
             ],
             [
              1,
              "#f0f921"
             ]
            ],
            "type": "histogram2dcontour"
           }
          ],
          "mesh3d": [
           {
            "colorbar": {
             "outlinewidth": 0,
             "ticks": ""
            },
            "type": "mesh3d"
           }
          ],
          "parcoords": [
           {
            "line": {
             "colorbar": {
              "outlinewidth": 0,
              "ticks": ""
             }
            },
            "type": "parcoords"
           }
          ],
          "pie": [
           {
            "automargin": true,
            "type": "pie"
           }
          ],
          "scatter": [
           {
            "marker": {
             "colorbar": {
              "outlinewidth": 0,
              "ticks": ""
             }
            },
            "type": "scatter"
           }
          ],
          "scatter3d": [
           {
            "line": {
             "colorbar": {
              "outlinewidth": 0,
              "ticks": ""
             }
            },
            "marker": {
             "colorbar": {
              "outlinewidth": 0,
              "ticks": ""
             }
            },
            "type": "scatter3d"
           }
          ],
          "scattercarpet": [
           {
            "marker": {
             "colorbar": {
              "outlinewidth": 0,
              "ticks": ""
             }
            },
            "type": "scattercarpet"
           }
          ],
          "scattergeo": [
           {
            "marker": {
             "colorbar": {
              "outlinewidth": 0,
              "ticks": ""
             }
            },
            "type": "scattergeo"
           }
          ],
          "scattergl": [
           {
            "marker": {
             "colorbar": {
              "outlinewidth": 0,
              "ticks": ""
             }
            },
            "type": "scattergl"
           }
          ],
          "scattermapbox": [
           {
            "marker": {
             "colorbar": {
              "outlinewidth": 0,
              "ticks": ""
             }
            },
            "type": "scattermapbox"
           }
          ],
          "scatterpolar": [
           {
            "marker": {
             "colorbar": {
              "outlinewidth": 0,
              "ticks": ""
             }
            },
            "type": "scatterpolar"
           }
          ],
          "scatterpolargl": [
           {
            "marker": {
             "colorbar": {
              "outlinewidth": 0,
              "ticks": ""
             }
            },
            "type": "scatterpolargl"
           }
          ],
          "scatterternary": [
           {
            "marker": {
             "colorbar": {
              "outlinewidth": 0,
              "ticks": ""
             }
            },
            "type": "scatterternary"
           }
          ],
          "surface": [
           {
            "colorbar": {
             "outlinewidth": 0,
             "ticks": ""
            },
            "colorscale": [
             [
              0,
              "#0d0887"
             ],
             [
              0.1111111111111111,
              "#46039f"
             ],
             [
              0.2222222222222222,
              "#7201a8"
             ],
             [
              0.3333333333333333,
              "#9c179e"
             ],
             [
              0.4444444444444444,
              "#bd3786"
             ],
             [
              0.5555555555555556,
              "#d8576b"
             ],
             [
              0.6666666666666666,
              "#ed7953"
             ],
             [
              0.7777777777777778,
              "#fb9f3a"
             ],
             [
              0.8888888888888888,
              "#fdca26"
             ],
             [
              1,
              "#f0f921"
             ]
            ],
            "type": "surface"
           }
          ],
          "table": [
           {
            "cells": {
             "fill": {
              "color": "#EBF0F8"
             },
             "line": {
              "color": "white"
             }
            },
            "header": {
             "fill": {
              "color": "#C8D4E3"
             },
             "line": {
              "color": "white"
             }
            },
            "type": "table"
           }
          ]
         },
         "layout": {
          "annotationdefaults": {
           "arrowcolor": "#2a3f5f",
           "arrowhead": 0,
           "arrowwidth": 1
          },
          "autotypenumbers": "strict",
          "coloraxis": {
           "colorbar": {
            "outlinewidth": 0,
            "ticks": ""
           }
          },
          "colorscale": {
           "diverging": [
            [
             0,
             "#8e0152"
            ],
            [
             0.1,
             "#c51b7d"
            ],
            [
             0.2,
             "#de77ae"
            ],
            [
             0.3,
             "#f1b6da"
            ],
            [
             0.4,
             "#fde0ef"
            ],
            [
             0.5,
             "#f7f7f7"
            ],
            [
             0.6,
             "#e6f5d0"
            ],
            [
             0.7,
             "#b8e186"
            ],
            [
             0.8,
             "#7fbc41"
            ],
            [
             0.9,
             "#4d9221"
            ],
            [
             1,
             "#276419"
            ]
           ],
           "sequential": [
            [
             0,
             "#0d0887"
            ],
            [
             0.1111111111111111,
             "#46039f"
            ],
            [
             0.2222222222222222,
             "#7201a8"
            ],
            [
             0.3333333333333333,
             "#9c179e"
            ],
            [
             0.4444444444444444,
             "#bd3786"
            ],
            [
             0.5555555555555556,
             "#d8576b"
            ],
            [
             0.6666666666666666,
             "#ed7953"
            ],
            [
             0.7777777777777778,
             "#fb9f3a"
            ],
            [
             0.8888888888888888,
             "#fdca26"
            ],
            [
             1,
             "#f0f921"
            ]
           ],
           "sequentialminus": [
            [
             0,
             "#0d0887"
            ],
            [
             0.1111111111111111,
             "#46039f"
            ],
            [
             0.2222222222222222,
             "#7201a8"
            ],
            [
             0.3333333333333333,
             "#9c179e"
            ],
            [
             0.4444444444444444,
             "#bd3786"
            ],
            [
             0.5555555555555556,
             "#d8576b"
            ],
            [
             0.6666666666666666,
             "#ed7953"
            ],
            [
             0.7777777777777778,
             "#fb9f3a"
            ],
            [
             0.8888888888888888,
             "#fdca26"
            ],
            [
             1,
             "#f0f921"
            ]
           ]
          },
          "colorway": [
           "#636efa",
           "#EF553B",
           "#00cc96",
           "#ab63fa",
           "#FFA15A",
           "#19d3f3",
           "#FF6692",
           "#B6E880",
           "#FF97FF",
           "#FECB52"
          ],
          "font": {
           "color": "#2a3f5f"
          },
          "geo": {
           "bgcolor": "white",
           "lakecolor": "white",
           "landcolor": "#E5ECF6",
           "showlakes": true,
           "showland": true,
           "subunitcolor": "white"
          },
          "hoverlabel": {
           "align": "left"
          },
          "hovermode": "closest",
          "mapbox": {
           "style": "light"
          },
          "paper_bgcolor": "white",
          "plot_bgcolor": "#E5ECF6",
          "polar": {
           "angularaxis": {
            "gridcolor": "white",
            "linecolor": "white",
            "ticks": ""
           },
           "bgcolor": "#E5ECF6",
           "radialaxis": {
            "gridcolor": "white",
            "linecolor": "white",
            "ticks": ""
           }
          },
          "scene": {
           "xaxis": {
            "backgroundcolor": "#E5ECF6",
            "gridcolor": "white",
            "gridwidth": 2,
            "linecolor": "white",
            "showbackground": true,
            "ticks": "",
            "zerolinecolor": "white"
           },
           "yaxis": {
            "backgroundcolor": "#E5ECF6",
            "gridcolor": "white",
            "gridwidth": 2,
            "linecolor": "white",
            "showbackground": true,
            "ticks": "",
            "zerolinecolor": "white"
           },
           "zaxis": {
            "backgroundcolor": "#E5ECF6",
            "gridcolor": "white",
            "gridwidth": 2,
            "linecolor": "white",
            "showbackground": true,
            "ticks": "",
            "zerolinecolor": "white"
           }
          },
          "shapedefaults": {
           "line": {
            "color": "#2a3f5f"
           }
          },
          "ternary": {
           "aaxis": {
            "gridcolor": "white",
            "linecolor": "white",
            "ticks": ""
           },
           "baxis": {
            "gridcolor": "white",
            "linecolor": "white",
            "ticks": ""
           },
           "bgcolor": "#E5ECF6",
           "caxis": {
            "gridcolor": "white",
            "linecolor": "white",
            "ticks": ""
           }
          },
          "title": {
           "x": 0.05
          },
          "xaxis": {
           "automargin": true,
           "gridcolor": "white",
           "linecolor": "white",
           "ticks": "",
           "title": {
            "standoff": 15
           },
           "zerolinecolor": "white",
           "zerolinewidth": 2
          },
          "yaxis": {
           "automargin": true,
           "gridcolor": "white",
           "linecolor": "white",
           "ticks": "",
           "title": {
            "standoff": 15
           },
           "zerolinecolor": "white",
           "zerolinewidth": 2
          }
         }
        }
       }
      }
     },
     "metadata": {},
     "output_type": "display_data"
    }
   ],
   "source": [
    "# subtract the mean\n",
    "c2_meanzero = c2 - np.mean(c2, axis=1, keepdims=True)\n",
    "# divide by the standard deviation\n",
    "c2_std = c2_meanzero/np.std(c2_meanzero, axis=1, keepdims=True)\n",
    "# SVD\n",
    "U, S, VT = np.linalg.svd(c2_std, full_matrices=False)\n",
    "\n",
    "# make a figure showing the singular values\n",
    "svd_figure = pgo.Figure([pgo.Bar(x=np.arange(len(S)), y=S)])\n",
    "svd_figure.show()"
   ]
  },
  {
   "cell_type": "markdown",
   "id": "53efc56d",
   "metadata": {},
   "source": [
    "Compute the eigenvector of the second cluster's covariance matrix"
   ]
  },
  {
   "cell_type": "code",
   "execution_count": 16,
   "id": "bbab2785",
   "metadata": {},
   "outputs": [],
   "source": [
    "c2_cov = np.cov(c2_std.T)\n",
    "w, v2 = np.linalg.eig(c2_cov)\n",
    "v2_3 = v2[:,0:3]\n",
    "v2_6 = v2[:,0:6]\n",
    "c2_3 = c2_std @ v2_3\n",
    "c2_6 = c2_std @ v2_6\n",
    "# c2 with 3 features\n",
    "c2_3 = np.concatenate((c2_label, c2_3), axis = 1)\n",
    "# c2 with 6 features\n",
    "c2_6 = np.concatenate((c2_label, c2_6), axis = 1)"
   ]
  },
  {
   "cell_type": "markdown",
   "id": "327fd968",
   "metadata": {},
   "source": [
    "3. Standardize the 3rd cluster"
   ]
  },
  {
   "cell_type": "code",
   "execution_count": 17,
   "id": "6a336fdf",
   "metadata": {},
   "outputs": [
    {
     "data": {
      "application/vnd.plotly.v1+json": {
       "config": {
        "plotlyServerURL": "https://plot.ly"
       },
       "data": [
        {
         "type": "bar",
         "x": [
          0,
          1,
          2,
          3,
          4,
          5,
          6,
          7,
          8,
          9,
          10,
          11,
          12,
          13,
          14,
          15,
          16,
          17,
          18,
          19,
          20,
          21,
          22,
          23,
          24,
          25,
          26,
          27,
          28,
          29,
          30,
          31,
          32,
          33,
          34,
          35,
          36,
          37,
          38,
          39,
          40,
          41,
          42,
          43,
          44,
          45,
          46,
          47,
          48,
          49,
          50,
          51,
          52,
          53,
          54,
          55,
          56,
          57,
          58,
          59,
          60,
          61,
          62,
          63,
          64,
          65,
          66,
          67,
          68,
          69,
          70,
          71,
          72,
          73,
          74,
          75,
          76,
          77,
          78,
          79,
          80,
          81,
          82,
          83,
          84,
          85,
          86,
          87,
          88,
          89,
          90,
          91,
          92,
          93,
          94,
          95,
          96,
          97,
          98,
          99
         ],
         "y": [
          355.3734605536241,
          98.0412736347577,
          81.64081278702251,
          22.602320764367946,
          19.613257939645962,
          18.064499445612544,
          11.066606835914738,
          10.926777026879087,
          10.449675497786107,
          10.201140432890286,
          9.932645771379502,
          9.912295692572055,
          9.84403058403805,
          9.822337820110693,
          9.69490322147042,
          9.647460650270935,
          9.632830321186248,
          9.571401179786427,
          9.476288176658715,
          9.36432877071525,
          9.334589600259772,
          9.26856804255395,
          9.252595764988541,
          9.22214447149898,
          9.17676674527361,
          9.128677672997485,
          9.09480388418091,
          9.078446382239491,
          8.999675203179871,
          8.960643421452257,
          8.930228887464207,
          8.922444110265522,
          8.862599835687783,
          8.836045234311507,
          8.75717202740289,
          8.731736533142259,
          8.704312391600169,
          8.662687810548611,
          8.61636548102985,
          8.565146628584461,
          8.547434748390371,
          8.49452805480289,
          8.458144775644511,
          8.38426246452254,
          8.36513218877146,
          8.308126803651543,
          8.253879325378742,
          8.198453026301655,
          8.165419473939377,
          8.121870863699405,
          8.088614763267895,
          8.08023951788525,
          8.057379991302362,
          8.041748283233646,
          7.975060339418021,
          7.950975788814779,
          7.905916715392501,
          7.86662498565623,
          7.831350254410545,
          7.7920411845736846,
          7.7202731467138275,
          7.6797542194405315,
          7.663998085138475,
          7.629661168308199,
          7.603514979042066,
          7.574052786565353,
          7.528239706001762,
          7.505173850328821,
          7.429002327580929,
          7.393300403450183,
          7.358723651834252,
          7.338013460741789,
          7.264271341096715,
          7.1997362946658185,
          7.169382109268121,
          7.125336984004846,
          7.099856484940629,
          7.039309995132278,
          7.0233721452213045,
          6.979091617322801,
          6.936183532833774,
          6.918080585928317,
          6.8572317606822635,
          6.838319863199142,
          6.797654521901858,
          6.717459268457228,
          6.677572714285335,
          6.6097686755983185,
          6.578943525015705,
          6.535231823868461,
          6.44540795828678,
          6.367779765123342,
          6.282887931038512,
          6.193358785275021,
          6.171352678735358,
          6.087161633595851,
          6.047023016789156,
          5.96879173211058,
          5.883597926983883,
          1.2940376322241504e-14
         ]
        }
       ],
       "layout": {
        "template": {
         "data": {
          "bar": [
           {
            "error_x": {
             "color": "#2a3f5f"
            },
            "error_y": {
             "color": "#2a3f5f"
            },
            "marker": {
             "line": {
              "color": "#E5ECF6",
              "width": 0.5
             },
             "pattern": {
              "fillmode": "overlay",
              "size": 10,
              "solidity": 0.2
             }
            },
            "type": "bar"
           }
          ],
          "barpolar": [
           {
            "marker": {
             "line": {
              "color": "#E5ECF6",
              "width": 0.5
             },
             "pattern": {
              "fillmode": "overlay",
              "size": 10,
              "solidity": 0.2
             }
            },
            "type": "barpolar"
           }
          ],
          "carpet": [
           {
            "aaxis": {
             "endlinecolor": "#2a3f5f",
             "gridcolor": "white",
             "linecolor": "white",
             "minorgridcolor": "white",
             "startlinecolor": "#2a3f5f"
            },
            "baxis": {
             "endlinecolor": "#2a3f5f",
             "gridcolor": "white",
             "linecolor": "white",
             "minorgridcolor": "white",
             "startlinecolor": "#2a3f5f"
            },
            "type": "carpet"
           }
          ],
          "choropleth": [
           {
            "colorbar": {
             "outlinewidth": 0,
             "ticks": ""
            },
            "type": "choropleth"
           }
          ],
          "contour": [
           {
            "colorbar": {
             "outlinewidth": 0,
             "ticks": ""
            },
            "colorscale": [
             [
              0,
              "#0d0887"
             ],
             [
              0.1111111111111111,
              "#46039f"
             ],
             [
              0.2222222222222222,
              "#7201a8"
             ],
             [
              0.3333333333333333,
              "#9c179e"
             ],
             [
              0.4444444444444444,
              "#bd3786"
             ],
             [
              0.5555555555555556,
              "#d8576b"
             ],
             [
              0.6666666666666666,
              "#ed7953"
             ],
             [
              0.7777777777777778,
              "#fb9f3a"
             ],
             [
              0.8888888888888888,
              "#fdca26"
             ],
             [
              1,
              "#f0f921"
             ]
            ],
            "type": "contour"
           }
          ],
          "contourcarpet": [
           {
            "colorbar": {
             "outlinewidth": 0,
             "ticks": ""
            },
            "type": "contourcarpet"
           }
          ],
          "heatmap": [
           {
            "colorbar": {
             "outlinewidth": 0,
             "ticks": ""
            },
            "colorscale": [
             [
              0,
              "#0d0887"
             ],
             [
              0.1111111111111111,
              "#46039f"
             ],
             [
              0.2222222222222222,
              "#7201a8"
             ],
             [
              0.3333333333333333,
              "#9c179e"
             ],
             [
              0.4444444444444444,
              "#bd3786"
             ],
             [
              0.5555555555555556,
              "#d8576b"
             ],
             [
              0.6666666666666666,
              "#ed7953"
             ],
             [
              0.7777777777777778,
              "#fb9f3a"
             ],
             [
              0.8888888888888888,
              "#fdca26"
             ],
             [
              1,
              "#f0f921"
             ]
            ],
            "type": "heatmap"
           }
          ],
          "heatmapgl": [
           {
            "colorbar": {
             "outlinewidth": 0,
             "ticks": ""
            },
            "colorscale": [
             [
              0,
              "#0d0887"
             ],
             [
              0.1111111111111111,
              "#46039f"
             ],
             [
              0.2222222222222222,
              "#7201a8"
             ],
             [
              0.3333333333333333,
              "#9c179e"
             ],
             [
              0.4444444444444444,
              "#bd3786"
             ],
             [
              0.5555555555555556,
              "#d8576b"
             ],
             [
              0.6666666666666666,
              "#ed7953"
             ],
             [
              0.7777777777777778,
              "#fb9f3a"
             ],
             [
              0.8888888888888888,
              "#fdca26"
             ],
             [
              1,
              "#f0f921"
             ]
            ],
            "type": "heatmapgl"
           }
          ],
          "histogram": [
           {
            "marker": {
             "pattern": {
              "fillmode": "overlay",
              "size": 10,
              "solidity": 0.2
             }
            },
            "type": "histogram"
           }
          ],
          "histogram2d": [
           {
            "colorbar": {
             "outlinewidth": 0,
             "ticks": ""
            },
            "colorscale": [
             [
              0,
              "#0d0887"
             ],
             [
              0.1111111111111111,
              "#46039f"
             ],
             [
              0.2222222222222222,
              "#7201a8"
             ],
             [
              0.3333333333333333,
              "#9c179e"
             ],
             [
              0.4444444444444444,
              "#bd3786"
             ],
             [
              0.5555555555555556,
              "#d8576b"
             ],
             [
              0.6666666666666666,
              "#ed7953"
             ],
             [
              0.7777777777777778,
              "#fb9f3a"
             ],
             [
              0.8888888888888888,
              "#fdca26"
             ],
             [
              1,
              "#f0f921"
             ]
            ],
            "type": "histogram2d"
           }
          ],
          "histogram2dcontour": [
           {
            "colorbar": {
             "outlinewidth": 0,
             "ticks": ""
            },
            "colorscale": [
             [
              0,
              "#0d0887"
             ],
             [
              0.1111111111111111,
              "#46039f"
             ],
             [
              0.2222222222222222,
              "#7201a8"
             ],
             [
              0.3333333333333333,
              "#9c179e"
             ],
             [
              0.4444444444444444,
              "#bd3786"
             ],
             [
              0.5555555555555556,
              "#d8576b"
             ],
             [
              0.6666666666666666,
              "#ed7953"
             ],
             [
              0.7777777777777778,
              "#fb9f3a"
             ],
             [
              0.8888888888888888,
              "#fdca26"
             ],
             [
              1,
              "#f0f921"
             ]
            ],
            "type": "histogram2dcontour"
           }
          ],
          "mesh3d": [
           {
            "colorbar": {
             "outlinewidth": 0,
             "ticks": ""
            },
            "type": "mesh3d"
           }
          ],
          "parcoords": [
           {
            "line": {
             "colorbar": {
              "outlinewidth": 0,
              "ticks": ""
             }
            },
            "type": "parcoords"
           }
          ],
          "pie": [
           {
            "automargin": true,
            "type": "pie"
           }
          ],
          "scatter": [
           {
            "marker": {
             "colorbar": {
              "outlinewidth": 0,
              "ticks": ""
             }
            },
            "type": "scatter"
           }
          ],
          "scatter3d": [
           {
            "line": {
             "colorbar": {
              "outlinewidth": 0,
              "ticks": ""
             }
            },
            "marker": {
             "colorbar": {
              "outlinewidth": 0,
              "ticks": ""
             }
            },
            "type": "scatter3d"
           }
          ],
          "scattercarpet": [
           {
            "marker": {
             "colorbar": {
              "outlinewidth": 0,
              "ticks": ""
             }
            },
            "type": "scattercarpet"
           }
          ],
          "scattergeo": [
           {
            "marker": {
             "colorbar": {
              "outlinewidth": 0,
              "ticks": ""
             }
            },
            "type": "scattergeo"
           }
          ],
          "scattergl": [
           {
            "marker": {
             "colorbar": {
              "outlinewidth": 0,
              "ticks": ""
             }
            },
            "type": "scattergl"
           }
          ],
          "scattermapbox": [
           {
            "marker": {
             "colorbar": {
              "outlinewidth": 0,
              "ticks": ""
             }
            },
            "type": "scattermapbox"
           }
          ],
          "scatterpolar": [
           {
            "marker": {
             "colorbar": {
              "outlinewidth": 0,
              "ticks": ""
             }
            },
            "type": "scatterpolar"
           }
          ],
          "scatterpolargl": [
           {
            "marker": {
             "colorbar": {
              "outlinewidth": 0,
              "ticks": ""
             }
            },
            "type": "scatterpolargl"
           }
          ],
          "scatterternary": [
           {
            "marker": {
             "colorbar": {
              "outlinewidth": 0,
              "ticks": ""
             }
            },
            "type": "scatterternary"
           }
          ],
          "surface": [
           {
            "colorbar": {
             "outlinewidth": 0,
             "ticks": ""
            },
            "colorscale": [
             [
              0,
              "#0d0887"
             ],
             [
              0.1111111111111111,
              "#46039f"
             ],
             [
              0.2222222222222222,
              "#7201a8"
             ],
             [
              0.3333333333333333,
              "#9c179e"
             ],
             [
              0.4444444444444444,
              "#bd3786"
             ],
             [
              0.5555555555555556,
              "#d8576b"
             ],
             [
              0.6666666666666666,
              "#ed7953"
             ],
             [
              0.7777777777777778,
              "#fb9f3a"
             ],
             [
              0.8888888888888888,
              "#fdca26"
             ],
             [
              1,
              "#f0f921"
             ]
            ],
            "type": "surface"
           }
          ],
          "table": [
           {
            "cells": {
             "fill": {
              "color": "#EBF0F8"
             },
             "line": {
              "color": "white"
             }
            },
            "header": {
             "fill": {
              "color": "#C8D4E3"
             },
             "line": {
              "color": "white"
             }
            },
            "type": "table"
           }
          ]
         },
         "layout": {
          "annotationdefaults": {
           "arrowcolor": "#2a3f5f",
           "arrowhead": 0,
           "arrowwidth": 1
          },
          "autotypenumbers": "strict",
          "coloraxis": {
           "colorbar": {
            "outlinewidth": 0,
            "ticks": ""
           }
          },
          "colorscale": {
           "diverging": [
            [
             0,
             "#8e0152"
            ],
            [
             0.1,
             "#c51b7d"
            ],
            [
             0.2,
             "#de77ae"
            ],
            [
             0.3,
             "#f1b6da"
            ],
            [
             0.4,
             "#fde0ef"
            ],
            [
             0.5,
             "#f7f7f7"
            ],
            [
             0.6,
             "#e6f5d0"
            ],
            [
             0.7,
             "#b8e186"
            ],
            [
             0.8,
             "#7fbc41"
            ],
            [
             0.9,
             "#4d9221"
            ],
            [
             1,
             "#276419"
            ]
           ],
           "sequential": [
            [
             0,
             "#0d0887"
            ],
            [
             0.1111111111111111,
             "#46039f"
            ],
            [
             0.2222222222222222,
             "#7201a8"
            ],
            [
             0.3333333333333333,
             "#9c179e"
            ],
            [
             0.4444444444444444,
             "#bd3786"
            ],
            [
             0.5555555555555556,
             "#d8576b"
            ],
            [
             0.6666666666666666,
             "#ed7953"
            ],
            [
             0.7777777777777778,
             "#fb9f3a"
            ],
            [
             0.8888888888888888,
             "#fdca26"
            ],
            [
             1,
             "#f0f921"
            ]
           ],
           "sequentialminus": [
            [
             0,
             "#0d0887"
            ],
            [
             0.1111111111111111,
             "#46039f"
            ],
            [
             0.2222222222222222,
             "#7201a8"
            ],
            [
             0.3333333333333333,
             "#9c179e"
            ],
            [
             0.4444444444444444,
             "#bd3786"
            ],
            [
             0.5555555555555556,
             "#d8576b"
            ],
            [
             0.6666666666666666,
             "#ed7953"
            ],
            [
             0.7777777777777778,
             "#fb9f3a"
            ],
            [
             0.8888888888888888,
             "#fdca26"
            ],
            [
             1,
             "#f0f921"
            ]
           ]
          },
          "colorway": [
           "#636efa",
           "#EF553B",
           "#00cc96",
           "#ab63fa",
           "#FFA15A",
           "#19d3f3",
           "#FF6692",
           "#B6E880",
           "#FF97FF",
           "#FECB52"
          ],
          "font": {
           "color": "#2a3f5f"
          },
          "geo": {
           "bgcolor": "white",
           "lakecolor": "white",
           "landcolor": "#E5ECF6",
           "showlakes": true,
           "showland": true,
           "subunitcolor": "white"
          },
          "hoverlabel": {
           "align": "left"
          },
          "hovermode": "closest",
          "mapbox": {
           "style": "light"
          },
          "paper_bgcolor": "white",
          "plot_bgcolor": "#E5ECF6",
          "polar": {
           "angularaxis": {
            "gridcolor": "white",
            "linecolor": "white",
            "ticks": ""
           },
           "bgcolor": "#E5ECF6",
           "radialaxis": {
            "gridcolor": "white",
            "linecolor": "white",
            "ticks": ""
           }
          },
          "scene": {
           "xaxis": {
            "backgroundcolor": "#E5ECF6",
            "gridcolor": "white",
            "gridwidth": 2,
            "linecolor": "white",
            "showbackground": true,
            "ticks": "",
            "zerolinecolor": "white"
           },
           "yaxis": {
            "backgroundcolor": "#E5ECF6",
            "gridcolor": "white",
            "gridwidth": 2,
            "linecolor": "white",
            "showbackground": true,
            "ticks": "",
            "zerolinecolor": "white"
           },
           "zaxis": {
            "backgroundcolor": "#E5ECF6",
            "gridcolor": "white",
            "gridwidth": 2,
            "linecolor": "white",
            "showbackground": true,
            "ticks": "",
            "zerolinecolor": "white"
           }
          },
          "shapedefaults": {
           "line": {
            "color": "#2a3f5f"
           }
          },
          "ternary": {
           "aaxis": {
            "gridcolor": "white",
            "linecolor": "white",
            "ticks": ""
           },
           "baxis": {
            "gridcolor": "white",
            "linecolor": "white",
            "ticks": ""
           },
           "bgcolor": "#E5ECF6",
           "caxis": {
            "gridcolor": "white",
            "linecolor": "white",
            "ticks": ""
           }
          },
          "title": {
           "x": 0.05
          },
          "xaxis": {
           "automargin": true,
           "gridcolor": "white",
           "linecolor": "white",
           "ticks": "",
           "title": {
            "standoff": 15
           },
           "zerolinecolor": "white",
           "zerolinewidth": 2
          },
          "yaxis": {
           "automargin": true,
           "gridcolor": "white",
           "linecolor": "white",
           "ticks": "",
           "title": {
            "standoff": 15
           },
           "zerolinecolor": "white",
           "zerolinewidth": 2
          }
         }
        }
       }
      }
     },
     "metadata": {},
     "output_type": "display_data"
    }
   ],
   "source": [
    "# subtract the mean\n",
    "c3_meanzero = c3 - np.mean(c3, axis=1, keepdims=True)\n",
    "# divide by the standard deviation\n",
    "c3_std = c3_meanzero/np.std(c3_meanzero, axis=1, keepdims=True)\n",
    "# SVD\n",
    "U, S, VT = np.linalg.svd(c3_std, full_matrices=False)\n",
    "\n",
    "# make a figure showing the singular values\n",
    "svd_figure = pgo.Figure([pgo.Bar(x=np.arange(len(S)), y=S)])\n",
    "svd_figure.show()"
   ]
  },
  {
   "cell_type": "markdown",
   "id": "e3619e23",
   "metadata": {},
   "source": [
    "Compute the eigenvector of the 3rd cluster's covariance matrix"
   ]
  },
  {
   "cell_type": "code",
   "execution_count": 18,
   "id": "caf597b7",
   "metadata": {},
   "outputs": [],
   "source": [
    "c3_cov = np.cov(c3_std.T)\n",
    "w, v3 = np.linalg.eig(c3_cov)\n",
    "v3_3 = v3[:,0:3]\n",
    "v3_6 = v3[:, 0:6]\n",
    "c3_3 = c3_std @ v3_3\n",
    "c3_6 = c3_std @ v3_6\n",
    "c3_3 = np.concatenate((c3_label, c3_3), axis = 1)\n",
    "c3_6 = np.concatenate((c3_label, c3_6), axis = 1)"
   ]
  },
  {
   "cell_type": "markdown",
   "id": "eb58cf9a",
   "metadata": {},
   "source": [
    "## 4) Put the processed clusters back in place"
   ]
  },
  {
   "cell_type": "code",
   "execution_count": 19,
   "id": "d6cb0b8e",
   "metadata": {},
   "outputs": [],
   "source": [
    "count_1 = 0\n",
    "count_2 = 0\n",
    "count_3 = 0\n",
    "X = np.zeros((4500, 4))\n",
    "X6f = np.zeros((4500, 7))\n",
    "# loop through the original labels to put clusters back in place\n",
    "for i in range(X.shape[0]):\n",
    "    if count_1 == 1500:\n",
    "        count_1 -= 1\n",
    "    if count_2 == 1500:\n",
    "        count_2 -= 1\n",
    "    if count_3 == 1500:\n",
    "        count_3 -= 1\n",
    "    if his_label[i] == c1_3[count_1,0]:\n",
    "        X[i,:] = c1_3[count_1,:]\n",
    "        X6f[i,:] = c1_6[count_1,:]\n",
    "        count_1 = count_1 + 1\n",
    "    elif his_label[i] == c2_3[count_2,0]:\n",
    "        X[i,:] = c2_3[count_2,:]\n",
    "        X6f[i,:] = c2_6[count_2,:]\n",
    "        count_2 = count_2 + 1\n",
    "    else:\n",
    "        X[i,:] = c3_3[count_3,:]\n",
    "        X6f[i,:] = c3_6[count_3,:]\n",
    "        count_3 = count_3 + 1"
   ]
  },
  {
   "cell_type": "code",
   "execution_count": 20,
   "id": "07a5b85d",
   "metadata": {},
   "outputs": [
    {
     "name": "stdout",
     "output_type": "stream",
     "text": [
      "[[ 1.00950000e+05 -2.59702368e+00 -1.26912601e+00  6.06181224e+00]\n",
      " [ 1.00956000e+05  1.80500661e+00 -3.97689757e+00 -5.64866447e+00]\n",
      " [ 1.00962000e+05 -5.19788223e+00 -6.54200793e-01 -5.40409166e+00]\n",
      " [ 1.00969000e+05  1.12922744e+00 -5.37401553e+00  4.03012679e+00]\n",
      " [ 1.00974000e+05 -4.76076334e+00  1.29635386e+00 -5.42727327e+00]]\n",
      "[[ 1.00950000e+05 -2.59702368e+00 -1.26912601e+00  6.06181224e+00\n",
      "  -1.13829803e+00 -1.37695396e+00 -4.60048666e-15]\n",
      " [ 1.00956000e+05  1.80500661e+00 -3.97689757e+00 -5.64866447e+00\n",
      "  -4.95112914e-01 -1.08301463e+00 -9.34481289e-01]\n",
      " [ 1.00962000e+05 -5.19788223e+00 -6.54200793e-01 -5.40409166e+00\n",
      "  -9.17150716e-01 -8.46291016e-01 -8.82686497e-01]\n",
      " [ 1.00969000e+05  1.12922744e+00 -5.37401553e+00  4.03012679e+00\n",
      "  -1.15161486e+00  8.34387677e-01 -2.72698530e-15]\n",
      " [ 1.00974000e+05 -4.76076334e+00  1.29635386e+00 -5.42727327e+00\n",
      "  -5.86367818e-01 -8.16210872e-01 -1.49653954e+00]]\n"
     ]
    }
   ],
   "source": [
    "print (X[0:5])\n",
    "print(X6f[0:5])"
   ]
  },
  {
   "cell_type": "markdown",
   "id": "2591a6dc",
   "metadata": {},
   "source": [
    "The X is the clusters put back in original order after PCA, reserving user ID and three PCA features."
   ]
  },
  {
   "cell_type": "markdown",
   "id": "4028422c",
   "metadata": {},
   "source": [
    "## 6) Fill in NAs in the Ratings matrix"
   ]
  },
  {
   "cell_type": "code",
   "execution_count": 21,
   "id": "09e12285",
   "metadata": {},
   "outputs": [
    {
     "data": {
      "text/html": [
       "<div>\n",
       "<style scoped>\n",
       "    .dataframe tbody tr th:only-of-type {\n",
       "        vertical-align: middle;\n",
       "    }\n",
       "\n",
       "    .dataframe tbody tr th {\n",
       "        vertical-align: top;\n",
       "    }\n",
       "\n",
       "    .dataframe thead th {\n",
       "        text-align: right;\n",
       "    }\n",
       "</style>\n",
       "<table border=\"1\" class=\"dataframe\">\n",
       "  <thead>\n",
       "    <tr style=\"text-align: right;\">\n",
       "      <th>PRODUCT</th>\n",
       "      <th>adrian crater</th>\n",
       "      <th>anagram mentor</th>\n",
       "      <th>apropos pizza</th>\n",
       "      <th>bandit anatomy</th>\n",
       "      <th>banjo ladder</th>\n",
       "      <th>barcode arnold</th>\n",
       "      <th>bazooka diagram</th>\n",
       "      <th>bronze mystic</th>\n",
       "      <th>calypso zigzag</th>\n",
       "      <th>casino unit</th>\n",
       "      <th>...</th>\n",
       "      <th>tourist micro</th>\n",
       "      <th>tripod stand</th>\n",
       "      <th>update lola</th>\n",
       "      <th>ventura puzzle</th>\n",
       "      <th>viking llama</th>\n",
       "      <th>violet saga</th>\n",
       "      <th>vista queen</th>\n",
       "      <th>viva avalon</th>\n",
       "      <th>voodoo planet</th>\n",
       "      <th>wheel gibson</th>\n",
       "    </tr>\n",
       "    <tr>\n",
       "      <th>USER ID</th>\n",
       "      <th></th>\n",
       "      <th></th>\n",
       "      <th></th>\n",
       "      <th></th>\n",
       "      <th></th>\n",
       "      <th></th>\n",
       "      <th></th>\n",
       "      <th></th>\n",
       "      <th></th>\n",
       "      <th></th>\n",
       "      <th></th>\n",
       "      <th></th>\n",
       "      <th></th>\n",
       "      <th></th>\n",
       "      <th></th>\n",
       "      <th></th>\n",
       "      <th></th>\n",
       "      <th></th>\n",
       "      <th></th>\n",
       "      <th></th>\n",
       "      <th></th>\n",
       "    </tr>\n",
       "  </thead>\n",
       "  <tbody>\n",
       "    <tr>\n",
       "      <th>100950</th>\n",
       "      <td>NaN</td>\n",
       "      <td>NaN</td>\n",
       "      <td>NaN</td>\n",
       "      <td>NaN</td>\n",
       "      <td>8.0</td>\n",
       "      <td>NaN</td>\n",
       "      <td>NaN</td>\n",
       "      <td>NaN</td>\n",
       "      <td>5.0</td>\n",
       "      <td>NaN</td>\n",
       "      <td>...</td>\n",
       "      <td>NaN</td>\n",
       "      <td>NaN</td>\n",
       "      <td>NaN</td>\n",
       "      <td>NaN</td>\n",
       "      <td>NaN</td>\n",
       "      <td>4.0</td>\n",
       "      <td>NaN</td>\n",
       "      <td>NaN</td>\n",
       "      <td>NaN</td>\n",
       "      <td>NaN</td>\n",
       "    </tr>\n",
       "    <tr>\n",
       "      <th>100956</th>\n",
       "      <td>NaN</td>\n",
       "      <td>NaN</td>\n",
       "      <td>NaN</td>\n",
       "      <td>NaN</td>\n",
       "      <td>NaN</td>\n",
       "      <td>5.0</td>\n",
       "      <td>NaN</td>\n",
       "      <td>NaN</td>\n",
       "      <td>NaN</td>\n",
       "      <td>NaN</td>\n",
       "      <td>...</td>\n",
       "      <td>NaN</td>\n",
       "      <td>NaN</td>\n",
       "      <td>NaN</td>\n",
       "      <td>NaN</td>\n",
       "      <td>NaN</td>\n",
       "      <td>NaN</td>\n",
       "      <td>NaN</td>\n",
       "      <td>NaN</td>\n",
       "      <td>NaN</td>\n",
       "      <td>NaN</td>\n",
       "    </tr>\n",
       "    <tr>\n",
       "      <th>100962</th>\n",
       "      <td>NaN</td>\n",
       "      <td>NaN</td>\n",
       "      <td>NaN</td>\n",
       "      <td>NaN</td>\n",
       "      <td>NaN</td>\n",
       "      <td>NaN</td>\n",
       "      <td>NaN</td>\n",
       "      <td>NaN</td>\n",
       "      <td>NaN</td>\n",
       "      <td>NaN</td>\n",
       "      <td>...</td>\n",
       "      <td>NaN</td>\n",
       "      <td>NaN</td>\n",
       "      <td>NaN</td>\n",
       "      <td>NaN</td>\n",
       "      <td>NaN</td>\n",
       "      <td>NaN</td>\n",
       "      <td>NaN</td>\n",
       "      <td>NaN</td>\n",
       "      <td>NaN</td>\n",
       "      <td>NaN</td>\n",
       "    </tr>\n",
       "    <tr>\n",
       "      <th>100969</th>\n",
       "      <td>NaN</td>\n",
       "      <td>10.0</td>\n",
       "      <td>1.0</td>\n",
       "      <td>NaN</td>\n",
       "      <td>5.0</td>\n",
       "      <td>NaN</td>\n",
       "      <td>NaN</td>\n",
       "      <td>NaN</td>\n",
       "      <td>NaN</td>\n",
       "      <td>NaN</td>\n",
       "      <td>...</td>\n",
       "      <td>NaN</td>\n",
       "      <td>NaN</td>\n",
       "      <td>5.0</td>\n",
       "      <td>NaN</td>\n",
       "      <td>NaN</td>\n",
       "      <td>0.0</td>\n",
       "      <td>NaN</td>\n",
       "      <td>NaN</td>\n",
       "      <td>8.0</td>\n",
       "      <td>2.0</td>\n",
       "    </tr>\n",
       "    <tr>\n",
       "      <th>100974</th>\n",
       "      <td>NaN</td>\n",
       "      <td>NaN</td>\n",
       "      <td>NaN</td>\n",
       "      <td>9.0</td>\n",
       "      <td>NaN</td>\n",
       "      <td>5.0</td>\n",
       "      <td>NaN</td>\n",
       "      <td>1.0</td>\n",
       "      <td>NaN</td>\n",
       "      <td>NaN</td>\n",
       "      <td>...</td>\n",
       "      <td>NaN</td>\n",
       "      <td>NaN</td>\n",
       "      <td>NaN</td>\n",
       "      <td>NaN</td>\n",
       "      <td>NaN</td>\n",
       "      <td>NaN</td>\n",
       "      <td>NaN</td>\n",
       "      <td>9.0</td>\n",
       "      <td>NaN</td>\n",
       "      <td>NaN</td>\n",
       "    </tr>\n",
       "    <tr>\n",
       "      <th>...</th>\n",
       "      <td>...</td>\n",
       "      <td>...</td>\n",
       "      <td>...</td>\n",
       "      <td>...</td>\n",
       "      <td>...</td>\n",
       "      <td>...</td>\n",
       "      <td>...</td>\n",
       "      <td>...</td>\n",
       "      <td>...</td>\n",
       "      <td>...</td>\n",
       "      <td>...</td>\n",
       "      <td>...</td>\n",
       "      <td>...</td>\n",
       "      <td>...</td>\n",
       "      <td>...</td>\n",
       "      <td>...</td>\n",
       "      <td>...</td>\n",
       "      <td>...</td>\n",
       "      <td>...</td>\n",
       "      <td>...</td>\n",
       "      <td>...</td>\n",
       "    </tr>\n",
       "    <tr>\n",
       "      <th>117440</th>\n",
       "      <td>NaN</td>\n",
       "      <td>NaN</td>\n",
       "      <td>NaN</td>\n",
       "      <td>NaN</td>\n",
       "      <td>6.0</td>\n",
       "      <td>NaN</td>\n",
       "      <td>NaN</td>\n",
       "      <td>NaN</td>\n",
       "      <td>NaN</td>\n",
       "      <td>NaN</td>\n",
       "      <td>...</td>\n",
       "      <td>NaN</td>\n",
       "      <td>NaN</td>\n",
       "      <td>4.0</td>\n",
       "      <td>6.0</td>\n",
       "      <td>NaN</td>\n",
       "      <td>NaN</td>\n",
       "      <td>NaN</td>\n",
       "      <td>NaN</td>\n",
       "      <td>NaN</td>\n",
       "      <td>5.0</td>\n",
       "    </tr>\n",
       "    <tr>\n",
       "      <th>117442</th>\n",
       "      <td>6.0</td>\n",
       "      <td>NaN</td>\n",
       "      <td>NaN</td>\n",
       "      <td>NaN</td>\n",
       "      <td>NaN</td>\n",
       "      <td>6.0</td>\n",
       "      <td>NaN</td>\n",
       "      <td>NaN</td>\n",
       "      <td>NaN</td>\n",
       "      <td>NaN</td>\n",
       "      <td>...</td>\n",
       "      <td>NaN</td>\n",
       "      <td>NaN</td>\n",
       "      <td>NaN</td>\n",
       "      <td>NaN</td>\n",
       "      <td>NaN</td>\n",
       "      <td>NaN</td>\n",
       "      <td>NaN</td>\n",
       "      <td>NaN</td>\n",
       "      <td>1.0</td>\n",
       "      <td>NaN</td>\n",
       "    </tr>\n",
       "    <tr>\n",
       "      <th>117446</th>\n",
       "      <td>NaN</td>\n",
       "      <td>NaN</td>\n",
       "      <td>NaN</td>\n",
       "      <td>NaN</td>\n",
       "      <td>NaN</td>\n",
       "      <td>NaN</td>\n",
       "      <td>NaN</td>\n",
       "      <td>NaN</td>\n",
       "      <td>NaN</td>\n",
       "      <td>3.0</td>\n",
       "      <td>...</td>\n",
       "      <td>5.0</td>\n",
       "      <td>NaN</td>\n",
       "      <td>NaN</td>\n",
       "      <td>NaN</td>\n",
       "      <td>NaN</td>\n",
       "      <td>NaN</td>\n",
       "      <td>NaN</td>\n",
       "      <td>NaN</td>\n",
       "      <td>NaN</td>\n",
       "      <td>NaN</td>\n",
       "    </tr>\n",
       "    <tr>\n",
       "      <th>117447</th>\n",
       "      <td>NaN</td>\n",
       "      <td>NaN</td>\n",
       "      <td>NaN</td>\n",
       "      <td>NaN</td>\n",
       "      <td>NaN</td>\n",
       "      <td>NaN</td>\n",
       "      <td>NaN</td>\n",
       "      <td>NaN</td>\n",
       "      <td>3.0</td>\n",
       "      <td>NaN</td>\n",
       "      <td>...</td>\n",
       "      <td>NaN</td>\n",
       "      <td>NaN</td>\n",
       "      <td>1.0</td>\n",
       "      <td>NaN</td>\n",
       "      <td>NaN</td>\n",
       "      <td>NaN</td>\n",
       "      <td>NaN</td>\n",
       "      <td>NaN</td>\n",
       "      <td>9.0</td>\n",
       "      <td>NaN</td>\n",
       "    </tr>\n",
       "    <tr>\n",
       "      <th>117449</th>\n",
       "      <td>NaN</td>\n",
       "      <td>NaN</td>\n",
       "      <td>NaN</td>\n",
       "      <td>NaN</td>\n",
       "      <td>NaN</td>\n",
       "      <td>NaN</td>\n",
       "      <td>NaN</td>\n",
       "      <td>4.0</td>\n",
       "      <td>NaN</td>\n",
       "      <td>NaN</td>\n",
       "      <td>...</td>\n",
       "      <td>7.0</td>\n",
       "      <td>NaN</td>\n",
       "      <td>NaN</td>\n",
       "      <td>NaN</td>\n",
       "      <td>NaN</td>\n",
       "      <td>NaN</td>\n",
       "      <td>NaN</td>\n",
       "      <td>NaN</td>\n",
       "      <td>NaN</td>\n",
       "      <td>NaN</td>\n",
       "    </tr>\n",
       "  </tbody>\n",
       "</table>\n",
       "<p>3000 rows × 75 columns</p>\n",
       "</div>"
      ],
      "text/plain": [
       "PRODUCT  adrian crater  anagram mentor  apropos pizza  bandit anatomy  \\\n",
       "USER ID                                                                 \n",
       "100950             NaN             NaN            NaN             NaN   \n",
       "100956             NaN             NaN            NaN             NaN   \n",
       "100962             NaN             NaN            NaN             NaN   \n",
       "100969             NaN            10.0            1.0             NaN   \n",
       "100974             NaN             NaN            NaN             9.0   \n",
       "...                ...             ...            ...             ...   \n",
       "117440             NaN             NaN            NaN             NaN   \n",
       "117442             6.0             NaN            NaN             NaN   \n",
       "117446             NaN             NaN            NaN             NaN   \n",
       "117447             NaN             NaN            NaN             NaN   \n",
       "117449             NaN             NaN            NaN             NaN   \n",
       "\n",
       "PRODUCT  banjo ladder  barcode arnold  bazooka diagram  bronze mystic  \\\n",
       "USER ID                                                                 \n",
       "100950            8.0             NaN              NaN            NaN   \n",
       "100956            NaN             5.0              NaN            NaN   \n",
       "100962            NaN             NaN              NaN            NaN   \n",
       "100969            5.0             NaN              NaN            NaN   \n",
       "100974            NaN             5.0              NaN            1.0   \n",
       "...               ...             ...              ...            ...   \n",
       "117440            6.0             NaN              NaN            NaN   \n",
       "117442            NaN             6.0              NaN            NaN   \n",
       "117446            NaN             NaN              NaN            NaN   \n",
       "117447            NaN             NaN              NaN            NaN   \n",
       "117449            NaN             NaN              NaN            4.0   \n",
       "\n",
       "PRODUCT  calypso zigzag  casino unit  ...  tourist micro  tripod stand  \\\n",
       "USER ID                               ...                                \n",
       "100950              5.0          NaN  ...            NaN           NaN   \n",
       "100956              NaN          NaN  ...            NaN           NaN   \n",
       "100962              NaN          NaN  ...            NaN           NaN   \n",
       "100969              NaN          NaN  ...            NaN           NaN   \n",
       "100974              NaN          NaN  ...            NaN           NaN   \n",
       "...                 ...          ...  ...            ...           ...   \n",
       "117440              NaN          NaN  ...            NaN           NaN   \n",
       "117442              NaN          NaN  ...            NaN           NaN   \n",
       "117446              NaN          3.0  ...            5.0           NaN   \n",
       "117447              3.0          NaN  ...            NaN           NaN   \n",
       "117449              NaN          NaN  ...            7.0           NaN   \n",
       "\n",
       "PRODUCT  update lola  ventura puzzle  viking llama  violet saga  vista queen  \\\n",
       "USER ID                                                                        \n",
       "100950           NaN             NaN           NaN          4.0          NaN   \n",
       "100956           NaN             NaN           NaN          NaN          NaN   \n",
       "100962           NaN             NaN           NaN          NaN          NaN   \n",
       "100969           5.0             NaN           NaN          0.0          NaN   \n",
       "100974           NaN             NaN           NaN          NaN          NaN   \n",
       "...              ...             ...           ...          ...          ...   \n",
       "117440           4.0             6.0           NaN          NaN          NaN   \n",
       "117442           NaN             NaN           NaN          NaN          NaN   \n",
       "117446           NaN             NaN           NaN          NaN          NaN   \n",
       "117447           1.0             NaN           NaN          NaN          NaN   \n",
       "117449           NaN             NaN           NaN          NaN          NaN   \n",
       "\n",
       "PRODUCT  viva avalon  voodoo planet  wheel gibson  \n",
       "USER ID                                            \n",
       "100950           NaN            NaN           NaN  \n",
       "100956           NaN            NaN           NaN  \n",
       "100962           NaN            NaN           NaN  \n",
       "100969           NaN            8.0           2.0  \n",
       "100974           9.0            NaN           NaN  \n",
       "...              ...            ...           ...  \n",
       "117440           NaN            NaN           5.0  \n",
       "117442           NaN            1.0           NaN  \n",
       "117446           NaN            NaN           NaN  \n",
       "117447           NaN            9.0           NaN  \n",
       "117449           NaN            NaN           NaN  \n",
       "\n",
       "[3000 rows x 75 columns]"
      ]
     },
     "execution_count": 21,
     "metadata": {},
     "output_type": "execute_result"
    }
   ],
   "source": [
    "#display full dataset\n",
    "user_ratings_table = pd.pivot_table(user_ratings,values='RATING', index='USER ID',\n",
    "                    columns='PRODUCT')\n",
    "user_ratings_table\n"
   ]
  },
  {
   "cell_type": "code",
   "execution_count": 22,
   "id": "ad0f1abe",
   "metadata": {},
   "outputs": [
    {
     "data": {
      "text/plain": [
       "array([[0., 0., 0., ..., 0., 0., 0.],\n",
       "       [0., 0., 0., ..., 0., 0., 0.],\n",
       "       [0., 0., 0., ..., 0., 0., 0.],\n",
       "       ...,\n",
       "       [0., 0., 0., ..., 0., 0., 0.],\n",
       "       [0., 0., 0., ..., 0., 9., 0.],\n",
       "       [0., 0., 0., ..., 0., 0., 0.]])"
      ]
     },
     "execution_count": 22,
     "metadata": {},
     "output_type": "execute_result"
    }
   ],
   "source": [
    "#convert the data frame to a matrix and replace nan with zeros\n",
    "userR = user_ratings_table.fillna(0)\n",
    "userR = userR.to_numpy()\n",
    "userR"
   ]
  },
  {
   "cell_type": "markdown",
   "id": "e3259b66",
   "metadata": {},
   "source": [
    "## 7) Find duplicate users and fitting a regression model on full features"
   ]
  },
  {
   "cell_type": "code",
   "execution_count": 23,
   "id": "ff58ebee",
   "metadata": {},
   "outputs": [
    {
     "data": {
      "text/html": [
       "<div>\n",
       "<style scoped>\n",
       "    .dataframe tbody tr th:only-of-type {\n",
       "        vertical-align: middle;\n",
       "    }\n",
       "\n",
       "    .dataframe tbody tr th {\n",
       "        vertical-align: top;\n",
       "    }\n",
       "\n",
       "    .dataframe thead th {\n",
       "        text-align: right;\n",
       "    }\n",
       "</style>\n",
       "<table border=\"1\" class=\"dataframe\">\n",
       "  <thead>\n",
       "    <tr style=\"text-align: right;\">\n",
       "      <th></th>\n",
       "      <th>USER ID</th>\n",
       "      <th>Exist</th>\n",
       "    </tr>\n",
       "  </thead>\n",
       "  <tbody>\n",
       "    <tr>\n",
       "      <th>0</th>\n",
       "      <td>100950</td>\n",
       "      <td>both</td>\n",
       "    </tr>\n",
       "    <tr>\n",
       "      <th>1</th>\n",
       "      <td>100950</td>\n",
       "      <td>both</td>\n",
       "    </tr>\n",
       "    <tr>\n",
       "      <th>2</th>\n",
       "      <td>100950</td>\n",
       "      <td>both</td>\n",
       "    </tr>\n",
       "    <tr>\n",
       "      <th>3</th>\n",
       "      <td>100950</td>\n",
       "      <td>both</td>\n",
       "    </tr>\n",
       "    <tr>\n",
       "      <th>4</th>\n",
       "      <td>100950</td>\n",
       "      <td>both</td>\n",
       "    </tr>\n",
       "    <tr>\n",
       "      <th>...</th>\n",
       "      <td>...</td>\n",
       "      <td>...</td>\n",
       "    </tr>\n",
       "    <tr>\n",
       "      <th>33720</th>\n",
       "      <td>117449</td>\n",
       "      <td>both</td>\n",
       "    </tr>\n",
       "    <tr>\n",
       "      <th>33721</th>\n",
       "      <td>117449</td>\n",
       "      <td>both</td>\n",
       "    </tr>\n",
       "    <tr>\n",
       "      <th>33722</th>\n",
       "      <td>117449</td>\n",
       "      <td>both</td>\n",
       "    </tr>\n",
       "    <tr>\n",
       "      <th>33723</th>\n",
       "      <td>117449</td>\n",
       "      <td>both</td>\n",
       "    </tr>\n",
       "    <tr>\n",
       "      <th>33724</th>\n",
       "      <td>117449</td>\n",
       "      <td>both</td>\n",
       "    </tr>\n",
       "  </tbody>\n",
       "</table>\n",
       "<p>33725 rows × 2 columns</p>\n",
       "</div>"
      ],
      "text/plain": [
       "       USER ID Exist\n",
       "0       100950  both\n",
       "1       100950  both\n",
       "2       100950  both\n",
       "3       100950  both\n",
       "4       100950  both\n",
       "...        ...   ...\n",
       "33720   117449  both\n",
       "33721   117449  both\n",
       "33722   117449  both\n",
       "33723   117449  both\n",
       "33724   117449  both\n",
       "\n",
       "[33725 rows x 2 columns]"
      ]
     },
     "execution_count": 23,
     "metadata": {},
     "output_type": "execute_result"
    }
   ],
   "source": [
    "#Find duplicates ID that exist in both history and ratings\n",
    "duplicates = pd.merge(user_history[\"USER ID\"], user_ratings[\"USER ID\"], how='outer', indicator='Exist')\n",
    "duplicates = duplicates.loc[duplicates['Exist'] == 'both']\n",
    "duplicates"
   ]
  },
  {
   "cell_type": "code",
   "execution_count": 24,
   "id": "15472f27",
   "metadata": {},
   "outputs": [
    {
     "name": "stdout",
     "output_type": "stream",
     "text": [
      "[[ 1.00950000e+05 -2.59702368e+00 -1.26912601e+00  6.06181224e+00]\n",
      " [ 1.00956000e+05  1.80500661e+00 -3.97689757e+00 -5.64866447e+00]\n",
      " [ 1.00962000e+05 -5.19788223e+00 -6.54200793e-01 -5.40409166e+00]\n",
      " ...\n",
      " [ 1.25629000e+05 -1.08702307e+00  6.43732680e-01  6.75333321e+00]\n",
      " [ 1.25636000e+05  1.58789932e+00  1.95978587e+00 -6.75886986e+00]\n",
      " [ 1.25645000e+05  4.20999819e+00 -9.79977880e-01 -5.86915273e+00]]\n"
     ]
    }
   ],
   "source": [
    "#keep only IDs that exist in both dataset in history\n",
    "user_his = user_history[user_history[\"USER ID\"].isin(duplicates[\"USER ID\"])]\n",
    "user_his = pd.DataFrame(user_his)\n",
    "user_his\n",
    "userR[:,0]\n",
    "print (X)"
   ]
  },
  {
   "cell_type": "code",
   "execution_count": 25,
   "id": "2d1decb4",
   "metadata": {},
   "outputs": [
    {
     "name": "stdout",
     "output_type": "stream",
     "text": [
      "Coefficients: \n",
      " [-0.15627289  0.10045419  0.18088314  0.09840717 -0.09606579  0.05738816\n",
      " -0.22745738 -0.27879114 -0.19402719 -0.01781725 -0.07629769 -0.09640856\n",
      " -0.01711316  0.14183769  0.43987017 -0.42548302 -0.05370199 -0.14138967\n",
      "  0.05094748 -0.02990476  0.28095832 -0.18766124  0.11833953 -0.09715069\n",
      " -0.2935032  -0.18047345  0.07887989  0.00388338  0.01789712 -0.32201804\n",
      "  0.32117282 -0.18887334 -0.08628224 -0.24821569  0.22285391 -0.40863919\n",
      " -0.03985729  0.00867417  0.02053839  0.14957277 -0.21544793 -0.01105673\n",
      " -0.1755516  -0.17677167  0.30869235 -0.11967231  0.16973678  0.11320999\n",
      "  0.24170644  0.06175494  0.1468441  -0.12045702 -0.15932461  0.08806965\n",
      " -0.35092353 -0.26511454  0.13509404 -0.00666074  0.04637064  0.02449703\n",
      "  0.19987408 -0.29935342  0.20086279 -0.08567959 -0.12313557 -0.00153406\n",
      "  0.11343604  0.03314426  0.07390504  0.08724655  0.24524159 -0.011683\n",
      " -0.15538853 -0.10308439  0.2464226  -0.03533681  0.10375116  0.15805232\n",
      "  0.23195298 -0.04556665 -0.21520984  0.14486738  0.30893841  0.11451947\n",
      " -0.06227093 -0.30669826  0.13316826  0.16626935  0.11463723  0.0129384\n",
      "  0.25811521 -0.10697088 -0.07850355 -0.05993794  0.13414708 -0.25522624\n",
      "  0.34168806 -0.0524449   0.29959986 -0.10566391]\n",
      "Mean squared error:  4.329353826660119\n"
     ]
    },
    {
     "data": {
      "image/png": "[encoded data removed]",
      "text/plain": [
       "<Figure size 432x288 with 1 Axes>"
      ]
     },
     "metadata": {},
     "output_type": "display_data"
    }
   ],
   "source": [
    "#fit regression model\n",
    "y = userR[:,0] #set y, you can change columns of userR to fit each product to a regression model\n",
    "user_hisw = user_his.drop(['USER ID'],axis=1)\n",
    "n,p = user_hisw.shape\n",
    "X1 = np.ones((n, p + 1)) #add intercept\n",
    "X1[:, 1:] = user_hisw\n",
    "\n",
    "#compute betahat\n",
    "U, S, Vt = np.linalg.svd(X1[:,1:].T @ X1[:,1:])\n",
    "betat = Vt.T @ (U.T @ (X1[:,1:].T @ y) / S)\n",
    "betat\n",
    "# compute predictions\n",
    "y_pred = X1[:,1:] @ betat\n",
    "# compute MSE\n",
    "MSE = np.mean((y - y_pred) ** 2)\n",
    "\n",
    "# The coefficients\n",
    "print('Coefficients: \\n', betat)\n",
    "# The mean squared error\n",
    "print('Mean squared error: ', MSE)\n",
    "\n",
    "#plot the output\n",
    "plt.scatter(X1[:, 3], y,  color='black')\n",
    "plt.plot(X1[:, 3], y_pred, 'ob')\n",
    "\n",
    "plt.xticks(())\n",
    "plt.yticks(())\n",
    "\n",
    "plt.show()"
   ]
  },
  {
   "cell_type": "markdown",
   "id": "c830a151",
   "metadata": {},
   "source": [
    "## 8) Matrix Completion via Gradient Descent"
   ]
  },
  {
   "cell_type": "code",
   "execution_count": 26,
   "id": "46f18f6b",
   "metadata": {},
   "outputs": [],
   "source": [
    "# Matrix completion via gradient descent\n",
    "class Matrix_completion():\n",
    "    \n",
    "    def __init__(self, R, K, alpha, beta, iters):\n",
    "        \n",
    "        self.R = R\n",
    "        self.users, self.movies = R.shape\n",
    "        self.K = K\n",
    "        self.alpha = alpha\n",
    "        self.beta = beta\n",
    "        self.iters = iters\n",
    "        \"\"\" \n",
    "        R = the input dataset\n",
    "        num_users = user features\n",
    "        num_movies = movie features\n",
    "        K = low rank approxiamation\n",
    "        alpha = the learning rate\n",
    "        beta = regularization\n",
    "        iters = number of iterations\n",
    "        \"\"\"\n",
    "    # training process by sgd\n",
    "    def train(self):\n",
    "        # construct two random matrix for Pt, Qt\n",
    "        self.Pt = np.random.normal(scale=1./self.K, size=(self.users, self.K))\n",
    "        self.Qt = np.random.normal(scale=1./self.K, size=(self.movies, self.K))\n",
    "        \n",
    "        # construct matrix for bias\n",
    "        self.userb = np.zeros(self.users)\n",
    "        self.movieb = np.zeros(self.movies)\n",
    "        self.b = np.mean(self.R[np.where(self.R != 0)])\n",
    "        \n",
    "        # Create a training sample\n",
    "        self.samples = [\n",
    "            (i, j, self.R[i, j])\n",
    "            for i in range(self.users)\n",
    "            for j in range(self.movies)\n",
    "            if self.R[i, j] > 0\n",
    "        ]\n",
    "        \n",
    "        # SGD with defined iterations\n",
    "        training = []\n",
    "        for i in range(self.iters):\n",
    "            np.random.shuffle(self.samples)\n",
    "            self.sgd()\n",
    "            mse = self.mse()\n",
    "            training.append((i, mse))\n",
    "            if (i+1) % 10 == 0:\n",
    "                print(\"Iteration: %d ; error = %.4f\" % (i+1, mse))\n",
    "        \n",
    "        return training\n",
    "    \n",
    "    # compute the mean square error\n",
    "    def mse(self):\n",
    "        \n",
    "        xs, ys = self.R.nonzero()\n",
    "        predicted = self.approximation()\n",
    "        error = 0\n",
    "        for x, y in zip(xs, ys):\n",
    "            error += pow(self.R[x, y] - predicted[x, y], 2)\n",
    "        return np.sqrt(error)\n",
    "\n",
    "    #compute SGD\n",
    "    def sgd(self):\n",
    "        \n",
    "        for i, j, r in self.samples:\n",
    "            # Compute prediction and error\n",
    "            prediction = self.Prediction(i, j)\n",
    "            e = (r - prediction)\n",
    "            \n",
    "            # Update biases\n",
    "            self.userb[i] += self.alpha * (e - self.beta * self.userb[i])\n",
    "            self.movieb[j] += self.alpha * (e - self.beta * self.movieb[j])\n",
    "            \n",
    "            # create another P since we need previous P to compute Q\n",
    "            P_i = self.Pt[i, :][:]\n",
    "            \n",
    "            # update predicted ratings\n",
    "            self.Pt[i, :] += self.alpha * (e * self.Qt[j, :] - self.beta * self.Pt[i,:])\n",
    "            self.Qt[j, :] += self.alpha * (e * P_i - self.beta * self.Qt[j,:])\n",
    "      \n",
    "    # compute predictions\n",
    "    def Prediction(self, i, j):\n",
    "        \n",
    "        prediction = self.b + self.userb[i] + self.movieb[j] + self.Pt[i, :].dot(self.Qt[j, :].T)\n",
    "        return prediction\n",
    "    \n",
    "    # compute the estimated full matrix of ratings by Pt, Qt and bias\n",
    "    def approximation(self):\n",
    "        \n",
    "        return mf.b + mf.userb[:,np.newaxis] + mf.movieb[np.newaxis:,] + mf.Pt.dot(mf.Qt.T)\n"
   ]
  },
  {
   "cell_type": "code",
   "execution_count": 27,
   "id": "de3e9998",
   "metadata": {},
   "outputs": [],
   "source": [
    "mf = Matrix_completion(userR, K=10, alpha=0.01, beta=0.001, iters=50)"
   ]
  },
  {
   "cell_type": "code",
   "execution_count": 28,
   "id": "2faf653a",
   "metadata": {},
   "outputs": [
    {
     "name": "stdout",
     "output_type": "stream",
     "text": [
      "Iteration: 10 ; error = 117.3597\n",
      "Iteration: 20 ; error = 67.0533\n",
      "Iteration: 30 ; error = 54.9603\n",
      "Iteration: 40 ; error = 49.2569\n",
      "Iteration: 50 ; error = 45.9394\n",
      "[[ 5.74496564  7.13393091  6.88411004 ...  3.20806948  8.23997488\n",
      "   5.99648439]\n",
      " [ 0.66697914  7.63485412  7.30885527 ...  7.88850092  1.77209578\n",
      "   4.51459274]\n",
      " [11.09120174 10.19845927  4.18265063 ...  6.07429141  7.50183708\n",
      "  10.91752505]\n",
      " ...\n",
      " [ 7.38961986 -0.81649197  1.13943131 ...  0.25925559  6.20954648\n",
      "  -0.59475464]\n",
      " [ 9.48373198  9.21743152  2.33629619 ...  2.50033707  8.86603153\n",
      "   7.2084045 ]\n",
      " [10.70102787  4.88032653  1.16447508 ...  3.22796558  4.18005834\n",
      "   0.09614061]]\n"
     ]
    }
   ],
   "source": [
    "training = mf.train()\n",
    "print(mf.approximation())\n",
    "sd = mf.approximation()"
   ]
  },
  {
   "cell_type": "markdown",
   "id": "c7e65a87",
   "metadata": {},
   "source": [
    "## 9) Linear regression with PCA features via Stochastic Gradient Descent"
   ]
  },
  {
   "cell_type": "code",
   "execution_count": 29,
   "id": "e9e7e991",
   "metadata": {},
   "outputs": [
    {
     "data": {
      "image/png": "[encoded data removed]",
      "text/plain": [
       "<Figure size 1152x288 with 1 Axes>"
      ]
     },
     "metadata": {
      "needs_background": "light"
     },
     "output_type": "display_data"
    }
   ],
   "source": [
    "#plot the convergence of mean square error\n",
    "x = [x for x, y in training]\n",
    "y = [y for x, y in training]\n",
    "plt.figure(figsize=((16,4)))\n",
    "plt.plot(x, y)\n",
    "plt.xticks(x, x)\n",
    "plt.xlabel(\"Iterations\")\n",
    "plt.ylabel(\"Mean Square Error\")\n",
    "plt.grid(axis=\"y\")"
   ]
  },
  {
   "cell_type": "code",
   "execution_count": 30,
   "id": "eba6c4db",
   "metadata": {},
   "outputs": [
    {
     "name": "stdout",
     "output_type": "stream",
     "text": [
      "[[ 1.00950000e+05 -2.59702368e+00 -1.26912601e+00  6.06181224e+00]\n",
      " [ 1.00956000e+05  1.80500661e+00 -3.97689757e+00 -5.64866447e+00]\n",
      " [ 1.00962000e+05 -5.19788223e+00 -6.54200793e-01 -5.40409166e+00]\n",
      " ...\n",
      " [ 1.25629000e+05 -1.08702307e+00  6.43732680e-01  6.75333321e+00]\n",
      " [ 1.25636000e+05  1.58789932e+00  1.95978587e+00 -6.75886986e+00]\n",
      " [ 1.25645000e+05  4.20999819e+00 -9.79977880e-01 -5.86915273e+00]]\n",
      "(4500, 4)\n"
     ]
    }
   ],
   "source": [
    "print(X)\n",
    "print(X.shape)"
   ]
  },
  {
   "cell_type": "code",
   "execution_count": 31,
   "id": "63971e32",
   "metadata": {},
   "outputs": [],
   "source": [
    "# compute betahat using 6 features\n",
    "\n",
    "X2_6 = np.delete(X6f,0,1)\n",
    "X2_6 = X2_6[:3000,:]\n",
    "X3_6 = np.ones([3000,7])\n",
    "X3_6[:,1:] = X2_6\n",
    "betat_6 = np.linalg.lstsq(X3_6,sd,rcond = None)[0]\n",
    "betat_6 = betat_6.T  # betat_6 by directly using least square regression from 6 features"
   ]
  },
  {
   "cell_type": "code",
   "execution_count": 32,
   "id": "53079815",
   "metadata": {},
   "outputs": [
    {
     "name": "stdout",
     "output_type": "stream",
     "text": [
      "[[ 4.26884093e+00 -2.70636527e-01 -5.17546294e-01 -4.37117583e-02\n",
      "  -2.46268171e-01 -7.70055721e-01  1.82873744e-01]\n",
      " [ 3.92882481e+00 -4.34296759e-01 -2.52159904e-01 -4.51143095e-03\n",
      "  -3.23870033e-01 -8.73664114e-01 -2.95806696e-02]\n",
      " [ 3.50927109e+00 -9.38029309e-02  3.67552931e-01 -2.46282054e-02\n",
      "  -6.90573500e-02 -1.08189117e+00  3.75506998e-01]\n",
      " [ 3.96656462e+00 -4.20187899e-01  6.27168172e-02  3.42674814e-02\n",
      "  -1.99639806e-01 -6.95861762e-01 -2.25329430e-01]\n",
      " [ 4.03070598e+00 -4.71675081e-01 -1.50216517e-01 -2.33717034e-02\n",
      "  -8.45134321e-02 -8.43045694e-01  5.93036396e-02]\n",
      " [ 4.11781085e+00 -4.89343787e-01 -5.19596782e-01  1.88894686e-03\n",
      "  -1.01487074e-02 -5.98847510e-01 -8.97061229e-02]\n",
      " [ 4.38142817e+00 -1.38482276e-01 -4.64556895e-01  2.53828506e-02\n",
      "   4.24048535e-01 -5.56014607e-01 -1.27803067e-01]\n",
      " [ 3.39023751e+00  2.63046089e-01 -1.51266365e-01 -5.44344463e-02\n",
      "  -1.30044526e-01 -1.11581249e+00  1.82228947e-01]\n",
      " [ 3.67293337e+00  3.63042913e-01  4.27603406e-01 -3.29696184e-02\n",
      "  -1.45656010e-01 -7.42505696e-01 -5.46046624e-03]\n",
      " [ 3.78652798e+00  2.39078150e-01 -7.13509577e-02 -5.86685835e-02\n",
      "  -1.63329646e-01 -9.82740823e-01  2.24451942e-01]\n",
      " [ 3.90027849e+00  2.89977053e-01 -7.69938321e-02 -7.43499312e-02\n",
      "  -1.97300956e-01 -6.42009633e-01  1.18274019e-01]\n",
      " [ 3.77642990e+00 -4.39485841e-01  8.08781766e-01 -3.34755143e-02\n",
      "  -2.07949615e-01 -9.09332986e-01  1.06982452e-01]\n",
      " [ 3.76952282e+00 -1.48805781e-01 -2.22793067e-01 -2.11605149e-02\n",
      "   1.29194293e-01 -9.65464829e-01  3.42341746e-01]\n",
      " [ 3.38752835e+00  1.59665962e-01 -3.00774904e-01 -7.06931000e-02\n",
      "  -2.95485772e-01 -1.20983081e+00  2.47100806e-01]\n",
      " [ 3.99581475e+00 -3.18599453e-01 -1.81246305e-01 -1.04709214e-02\n",
      "  -2.07075913e-01 -7.57456109e-01 -8.61141546e-02]\n",
      " [ 3.90613981e+00  6.84779194e-02 -6.87387443e-01 -2.08974605e-02\n",
      "  -3.28932439e-01 -8.33858097e-01  6.93696555e-02]\n",
      " [ 3.42260695e+00  3.89645582e-01  1.64672316e-01 -6.66192632e-02\n",
      "  -3.73805083e-01 -1.12312287e+00  5.14021995e-01]\n",
      " [ 3.55761794e+00  6.54319764e-02 -7.20063041e-02 -2.46919296e-02\n",
      "   4.80902043e-03 -9.30682288e-01  3.21401369e-02]\n",
      " [ 3.81110953e+00 -1.66713838e-01  1.87283299e-01 -2.63203310e-02\n",
      "  -1.12660969e-01 -7.53443772e-01  2.21631526e-01]\n",
      " [ 4.00158685e+00  2.37962227e-01  7.12090979e-01 -8.52840928e-02\n",
      "  -2.27830463e-01 -1.01704841e+00  7.37143232e-01]\n",
      " [ 3.76809049e+00 -5.50803279e-01  5.59638038e-02 -3.72973457e-02\n",
      "  -1.50146472e-01 -9.06392378e-01  4.43278296e-01]\n",
      " [ 4.29568951e+00 -3.45150069e-01 -4.21527753e-01  1.86836910e-02\n",
      "   1.58091619e-01 -4.45117862e-01 -2.28568895e-01]\n",
      " [ 3.66901934e+00 -8.26533327e-02  5.21973403e-01 -3.74984496e-02\n",
      "  -2.73155988e-01 -1.04246353e+00  2.90276082e-01]\n",
      " [ 4.00933264e+00 -6.68132153e-01 -2.05093407e-01 -7.28015596e-03\n",
      "   4.43408745e-04 -7.13296564e-01  2.20329114e-01]\n",
      " [ 3.77611319e+00 -6.42685244e-02 -1.89306346e-02 -2.14409009e-02\n",
      "  -1.80197185e-02 -7.41568846e-01 -8.19899140e-02]\n",
      " [ 3.67432648e+00  9.55283924e-02  3.84811150e-01 -6.88757040e-02\n",
      "  -5.30348783e-01 -6.25210713e-01  2.95740255e-02]\n",
      " [ 4.02718229e+00  3.09753856e-01  3.34686200e-01 -3.98025646e-02\n",
      "  -2.08224261e-01 -8.53995194e-01  2.58570878e-01]\n",
      " [ 3.95711256e+00  4.66588287e-01 -2.74009685e-01  1.82072129e-02\n",
      "   2.95691251e-01 -8.62610422e-01  2.06041900e-02]\n",
      " [ 3.69654862e+00  6.45599971e-02  3.65657514e-01 -3.82706329e-02\n",
      "  -3.33026043e-01 -7.94062265e-01 -7.94405633e-02]\n",
      " [ 3.82540858e+00  3.82250729e-01  6.86926379e-02 -1.15370293e-03\n",
      "   4.41794005e-02 -8.96681871e-01  4.12552577e-02]\n",
      " [ 4.15184907e+00 -3.62730733e-01 -4.94222775e-01  2.68398828e-02\n",
      "  -1.60669083e-02 -7.50524369e-01  5.05216011e-03]\n",
      " [ 3.89281009e+00  4.43430385e-01 -6.05050034e-01 -4.06535200e-02\n",
      "  -6.98007759e-03 -8.72324473e-01 -1.19670023e-01]\n",
      " [ 4.00213449e+00 -1.52403735e-01 -9.17456897e-02 -2.99662918e-02\n",
      "   2.01892309e-02 -8.05415096e-01 -8.03076593e-02]\n",
      " [ 3.77243982e+00 -4.36208573e-01  4.62531656e-01 -2.92077896e-02\n",
      "  -8.15470270e-02 -9.86850160e-01  3.26690113e-01]\n",
      " [ 3.94320289e+00 -5.20291247e-01  1.25755237e-01 -5.68709064e-02\n",
      "  -1.16787668e-01 -5.97848504e-01  4.48014603e-02]\n",
      " [ 3.73052405e+00  2.91440584e-01  9.49874674e-02 -5.14607754e-02\n",
      "  -1.98649322e-02 -1.12069438e+00  3.04004515e-01]\n",
      " [ 3.56970885e+00  2.79692777e-01 -4.18793455e-01 -1.87541170e-02\n",
      "   7.23116409e-02 -1.05369519e+00 -1.99105429e-01]\n",
      " [ 3.83756554e+00 -2.73585440e-01  6.29708333e-02 -3.20494132e-02\n",
      "  -2.30271416e-01 -6.91083852e-01 -5.22563016e-02]\n",
      " [ 3.42025905e+00  5.76866920e-01  4.68618927e-01 -5.35922090e-02\n",
      "  -3.73680538e-01 -1.09323298e+00  2.23881987e-01]\n",
      " [ 3.34808837e+00 -3.83632568e-01 -2.96418328e-01 -2.45276232e-02\n",
      "  -1.72937927e-01 -1.04157280e+00  1.52490803e-01]\n",
      " [ 3.94267428e+00 -3.77467277e-01  4.44803796e-01 -7.18454621e-02\n",
      "  -4.26932281e-01 -6.90574623e-01  2.25771692e-01]\n",
      " [ 3.77715458e+00  2.78553789e-01  1.58914790e-01 -2.83399963e-02\n",
      "  -2.25709531e-01 -6.89153710e-01 -1.62525459e-01]\n",
      " [ 3.70748707e+00  4.28340277e-01 -2.26968411e-01  6.78092988e-03\n",
      "   3.73269573e-02 -1.18035101e+00  5.60509870e-02]\n",
      " [ 4.01177876e+00 -4.60516051e-01  7.01574475e-01  3.01791725e-02\n",
      "   2.88219754e-02 -8.76507375e-01  8.73583908e-02]\n",
      " [ 3.49878437e+00  5.25481807e-01 -3.61484399e-02 -8.03247635e-02\n",
      "  -3.39886258e-01 -1.13419227e+00  1.42966859e-01]\n",
      " [ 3.68510176e+00  5.41888299e-01 -2.52050692e-01 -7.50853842e-02\n",
      "  -2.17031056e-01 -1.04447722e+00  1.30588729e-01]\n",
      " [ 3.30347031e+00  2.77072463e-01  8.82174806e-02 -2.49890138e-02\n",
      "  -6.36330365e-02 -8.48456953e-01 -2.36170588e-01]\n",
      " [ 4.10645124e+00  2.61219792e-01  8.70069968e-02  1.09506626e-02\n",
      "   1.17338206e-01 -8.26779158e-01  3.63720189e-01]\n",
      " [ 3.64927873e+00 -1.60135693e-01  6.58195887e-01 -9.97506991e-02\n",
      "  -6.64428250e-01 -7.12721415e-01  2.39015628e-01]\n",
      " [ 3.97178177e+00  2.91063651e-01 -3.86674675e-03 -4.97214926e-02\n",
      "  -7.54363421e-02 -7.82558105e-01  5.61453236e-02]\n",
      " [ 4.13681725e+00 -5.80371942e-01 -2.95444143e-01 -3.49178143e-03\n",
      "  -1.08295594e-01 -7.91025225e-01  1.46133158e-01]\n",
      " [ 3.60076293e+00  2.86023030e-01  4.27046503e-01 -7.21817540e-02\n",
      "  -3.48518048e-01 -7.79088781e-01  2.46438685e-01]\n",
      " [ 4.09193589e+00  1.24411372e-01  7.90930079e-01  6.26469335e-02\n",
      "   1.55568688e-01 -8.18370794e-01 -2.53813453e-01]\n",
      " [ 3.87748590e+00 -1.98391550e-01  6.63220975e-01  1.03605285e-02\n",
      "   3.72841587e-03 -7.78257919e-01 -2.25432009e-01]\n",
      " [ 3.76617497e+00  1.17962351e-01  4.52358922e-01 -5.49875070e-02\n",
      "   1.27316646e-01 -8.29402445e-01  5.87470334e-01]\n",
      " [ 3.93714603e+00  1.29368996e-01  4.41547724e-01 -3.07157109e-02\n",
      "  -2.77757680e-01 -2.02329211e-01 -3.24584211e-01]\n",
      " [ 3.88207937e+00 -4.75822076e-01  4.93145448e-01  7.39104003e-03\n",
      "   5.35388855e-02 -6.92985538e-01  8.32571279e-02]\n",
      " [ 3.73988221e+00  7.33281421e-01 -8.87262413e-02 -7.64697268e-02\n",
      "  -2.08216066e-01 -1.04388897e+00  3.40269279e-01]\n",
      " [ 3.89456970e+00  2.03946814e-01  7.52915527e-01  3.46452979e-02\n",
      "   1.84414642e-01 -1.04449007e+00 -1.73120014e-01]\n",
      " [ 4.08908054e+00 -3.20779905e-02 -9.26250911e-01 -1.07918016e-02\n",
      "   1.48198320e-01 -7.23591994e-01  9.00923254e-02]\n",
      " [ 3.71015551e+00 -1.72171457e-01  1.36849225e-01  1.35603370e-02\n",
      "   7.26991084e-02 -1.01239711e+00 -1.09714248e-01]\n",
      " [ 3.88251354e+00  8.88315884e-03  2.53101000e-02 -3.09535315e-02\n",
      "  -1.80070433e-01 -9.69978370e-01  3.40864143e-01]\n",
      " [ 3.89308254e+00  1.32247160e-01 -8.04235021e-01 -6.65413602e-02\n",
      "  -1.07555004e-01 -8.93302981e-01  4.70059229e-01]\n",
      " [ 4.02568303e+00 -4.96932919e-01  7.82468612e-01  2.99556709e-02\n",
      "  -1.51365927e-02 -6.32088872e-01 -1.77402870e-01]\n",
      " [ 4.36552500e+00 -3.01393975e-01 -1.23184434e-01 -8.72848180e-02\n",
      "  -3.17714932e-01 -3.48861209e-01  2.86434696e-01]\n",
      " [ 4.19963040e+00  3.29825308e-01 -1.62524417e-01  9.66818186e-02\n",
      "   3.13334945e-01 -6.67708124e-01 -4.93376175e-01]\n",
      " [ 3.74606685e+00 -3.62891205e-01  3.36534493e-01 -6.49153453e-02\n",
      "  -4.85742238e-01 -7.11020482e-01 -3.74200982e-02]\n",
      " [ 3.98683432e+00  6.51324410e-01  4.39241013e-01 -6.88694470e-02\n",
      "  -4.05264537e-01 -7.52698011e-01  6.79020954e-02]\n",
      " [ 3.66986084e+00  3.67586234e-02  2.31505246e-01 -5.23694695e-02\n",
      "  -2.22031950e-01 -1.07565706e+00  1.73212167e-01]\n",
      " [ 3.71257998e+00  2.45364489e-01  1.26765685e-01 -1.53322074e-02\n",
      "   6.09687293e-02 -1.13873815e+00  4.46509897e-01]\n",
      " [ 3.37650832e+00 -2.60564755e-01  4.34799914e-01 -7.25630972e-03\n",
      "  -4.62522402e-02 -1.23815019e+00  1.17565342e-01]\n",
      " [ 3.92861179e+00 -1.16069267e-01  7.20271328e-02 -1.02343677e-02\n",
      "  -1.07752002e-01 -7.75743733e-01  2.25290880e-01]\n",
      " [ 3.71406519e+00  1.65808329e-02  6.35888650e-01 -3.30423008e-02\n",
      "  -2.32518346e-01 -7.97475929e-01  2.97035473e-01]\n",
      " [ 3.78123160e+00 -4.04551593e-01 -2.04598541e-01  5.71294098e-02\n",
      "   1.12383130e-01 -8.69186002e-01 -1.73366611e-01]\n",
      " [ 3.92500506e+00 -7.72841945e-01  1.50799341e-01  1.07925846e-02\n",
      "  -1.68457167e-01 -9.05360378e-01  2.24603370e-01]]\n"
     ]
    }
   ],
   "source": [
    "# gradient descent using 6 features\n",
    "\n",
    "def F(beta,X,Y):\n",
    "    return np.linalg.norm(X @ beta.T - Y) ** 2\n",
    "\n",
    "def s_grad_F_j(beta, X, Y):\n",
    "    return 2 * (X @ beta - Y) * X\n",
    "\n",
    "niter = 1000\n",
    "n = 3000\n",
    "betatp = np.zeros((niter, len(X3_6[0])))\n",
    "betat_ave = np.zeros((niter, len(X3_6[0])))\n",
    "\n",
    "XtX = X3_6.T @ X3_6\n",
    "eta = 0.01\n",
    "resultp = np.zeros((75,7))  \n",
    "\n",
    "conv = np.zeros ((niter))\n",
    "conv[0] = np.linalg.norm(betatp[0,:] - betat_6)\n",
    "\n",
    "conv_ave = np.zeros(niter)\n",
    "conv_ave[0] = np.linalg.norm(betat_ave[0,:] - betat_6)\n",
    "\n",
    "for i in range (len(sd[0])):\n",
    "    Y = sd[:,i]\n",
    "\n",
    "    for t in range(1, niter):\n",
    "        j = np.random.randint(n)\n",
    "        betatp[t, :] = betatp[t-1, :] - eta * s_grad_F_j(betatp[t-1, :], X3_6[j,:], Y[j])\n",
    "        betat_ave[t, :] = 1/(t+1) * betatp[t, :] + (t)/(t+1) * betat_ave[t-1, :]\n",
    "        conv[t] = np.linalg.norm(betatp[t,:] - betat_6)\n",
    "        conv_ave[t] = np.linalg.norm(betat_ave[t,:] - betat_6)\n",
    "        \n",
    "    resultp[i,:] = betat_ave[-1,:]\n",
    "\n",
    "print (resultp)"
   ]
  },
  {
   "cell_type": "code",
   "execution_count": 33,
   "id": "f9a79c03",
   "metadata": {},
   "outputs": [
    {
     "name": "stdout",
     "output_type": "stream",
     "text": [
      "[[ 5.42082487e+00 -1.95924570e-01 -5.46131744e-01  2.63839987e-02]\n",
      " [ 5.23395845e+00 -4.04401306e-01 -3.21346743e-01  2.09802459e-02]\n",
      " [ 4.83442189e+00 -2.40738853e-02  3.73490676e-01 -2.77416755e-04]\n",
      " [ 5.26130840e+00 -4.08670388e-01  1.30507013e-01  3.86051712e-02]\n",
      " [ 5.20339693e+00 -4.12694924e-01 -9.00169129e-02 -8.65269982e-05]\n",
      " [ 5.17856280e+00 -5.36790686e-01 -5.16955551e-01  1.33961373e-02]\n",
      " [ 5.21548519e+00 -1.74901038e-01 -3.66845606e-01 -1.66978779e-02]\n",
      " [ 4.91323918e+00  2.57267917e-01 -2.14411630e-01 -3.08619341e-02]\n",
      " [ 4.75715164e+00  4.09200094e-01  3.95644369e-01 -1.40560807e-02]\n",
      " [ 4.95035368e+00  2.93003260e-01 -1.23029431e-02 -5.84511351e-03]\n",
      " [ 5.00200086e+00  3.06039165e-01 -4.81757786e-02 -2.02501976e-02]\n",
      " [ 5.18824724e+00 -4.81825449e-01  8.17514621e-01  2.72579345e-02]\n",
      " [ 4.99651094e+00 -1.01921005e-01 -1.95732180e-01 -1.19759461e-02]\n",
      " [ 5.10614171e+00  2.07501266e-01 -3.07878932e-01 -1.19993050e-02]\n",
      " [ 5.15825436e+00 -3.49213457e-01 -2.62298160e-01  1.75359980e-02]\n",
      " [ 5.10435354e+00 -2.33894577e-02 -5.98812641e-01  2.88426375e-03]\n",
      " [ 4.98990543e+00  2.52352833e-01  1.78780837e-01  1.09817454e-02]\n",
      " [ 4.91423762e+00  7.79998900e-02 -2.83333929e-03 -3.43125994e-03]\n",
      " [ 5.10809590e+00 -1.75397964e-01  1.77979576e-01  2.70974155e-02]\n",
      " [ 5.20051711e+00  1.98252704e-01  7.27388249e-01 -1.05629822e-04]\n",
      " [ 4.99305567e+00 -4.97769200e-01  1.14451520e-01  5.14884138e-03]\n",
      " [ 5.22088846e+00 -3.06543839e-01 -4.33061675e-01  1.87195239e-02]\n",
      " [ 5.09095899e+00 -1.28000369e-01  5.04293498e-01  2.06857206e-02]\n",
      " [ 5.05781996e+00 -7.03468276e-01 -2.67287872e-01  2.07408926e-02]\n",
      " [ 5.00611186e+00  5.19157394e-03 -2.89611442e-02 -1.76638293e-02]\n",
      " [ 5.07949182e+00  1.14622481e-01  4.23127022e-01  1.77141434e-02]\n",
      " [ 5.19602775e+00  3.70901875e-01  2.84855993e-01  1.30895419e-02]\n",
      " [ 5.02951154e+00  4.18560673e-01 -2.48454730e-01 -4.26863513e-02]\n",
      " [ 5.11780225e+00  9.16066796e-02  4.16664935e-01  2.28254155e-03]\n",
      " [ 4.92103573e+00  4.05365947e-01  1.50290995e-01 -9.50592315e-03]\n",
      " [ 5.02443739e+00 -3.46573513e-01 -4.52451717e-01  1.91703080e-02]\n",
      " [ 5.10269736e+00  4.62790557e-01 -6.25796701e-01 -4.87736914e-02]\n",
      " [ 5.16482938e+00 -1.90107056e-01 -2.21290870e-01 -1.41396970e-02]\n",
      " [ 5.07765123e+00 -4.14500182e-01  5.59275422e-01  2.26335056e-02]\n",
      " [ 5.14184308e+00 -5.30103454e-01  1.53551912e-01  3.11041785e-03]\n",
      " [ 4.99110619e+00  2.80330971e-01  1.96627503e-01 -1.33866173e-02]\n",
      " [ 5.06760965e+00  2.14302417e-01 -3.89571960e-01 -2.42382399e-02]\n",
      " [ 5.00972584e+00 -2.67266474e-01  1.00030663e-01 -1.93650709e-03]\n",
      " [ 4.98358806e+00  5.20378712e-01  4.56743116e-01  1.44248573e-02]\n",
      " [ 5.06138849e+00 -4.14907633e-01 -2.64667481e-01 -3.34455272e-03]\n",
      " [ 5.07781091e+00 -4.92655090e-01  4.25147270e-01  3.37139749e-02]\n",
      " [ 4.96914006e+00  3.05567133e-01  1.43009377e-01 -9.42396342e-03]\n",
      " [ 5.11712775e+00  4.40335423e-01 -1.88762840e-01 -1.62391683e-02]\n",
      " [ 5.10025850e+00 -5.10471145e-01  7.05077856e-01  2.82468029e-02]\n",
      " [ 5.04515055e+00  4.91109701e-01 -9.92912951e-03 -2.18214877e-02]\n",
      " [ 4.91804892e+00  5.71337441e-01 -1.66674150e-01 -2.46168651e-02]\n",
      " [ 4.96023749e+00  1.67957387e-01 -4.22226181e-02  2.25266983e-03]\n",
      " [ 5.09873472e+00  3.12356497e-01  1.29544349e-01  1.42792176e-03]\n",
      " [ 4.95015880e+00 -1.59874902e-01  4.69314634e-01  7.08745655e-03]\n",
      " [ 5.03545318e+00  3.73136040e-01 -3.92295011e-03 -1.93046247e-02]\n",
      " [ 5.19034662e+00 -5.68695521e-01 -2.99582939e-01  1.88386686e-02]\n",
      " [ 5.03811563e+00  2.50954665e-01  3.48995253e-01  8.83503520e-03]\n",
      " [ 5.07266976e+00  1.40010968e-01  6.99188461e-01  1.42503002e-02]\n",
      " [ 5.14869917e+00 -2.11806312e-01  7.14336914e-01  1.63319496e-02]\n",
      " [ 4.88526281e+00  1.06896193e-01  6.64314910e-01  1.49677419e-04]\n",
      " [ 5.02705791e+00  1.91980406e-01  4.60281378e-01  5.69189938e-03]\n",
      " [ 5.05092021e+00 -4.98566254e-01  5.25149004e-01  3.05530395e-02]\n",
      " [ 5.18890709e+00  7.49566811e-01 -1.20059492e-01 -2.27618939e-02]\n",
      " [ 5.04240625e+00  1.75873840e-01  7.00457605e-01  1.19340723e-02]\n",
      " [ 5.01833625e+00 -1.83635560e-02 -8.87991833e-01 -3.41758872e-02]\n",
      " [ 5.16214899e+00 -1.37471121e-01  1.65951087e-01 -6.79775608e-03]\n",
      " [ 4.98587275e+00 -2.92469848e-02  2.34934893e-02  3.97318166e-03]\n",
      " [ 5.07185275e+00  2.15864923e-01 -7.52100855e-01 -2.14950659e-02]\n",
      " [ 5.10328731e+00 -4.48495642e-01  7.48207150e-01  2.96129608e-02]\n",
      " [ 5.08441352e+00 -3.02465816e-01 -4.01335214e-02  9.99326709e-03]\n",
      " [ 5.06463160e+00  3.64113929e-01 -2.30770522e-01  2.36328211e-03]\n",
      " [ 5.16351084e+00 -3.76833214e-01  3.32553632e-01  1.15182072e-02]\n",
      " [ 5.20211414e+00  6.21922947e-01  3.62296980e-01 -1.49112669e-02]\n",
      " [ 5.21075126e+00  5.86144110e-02  3.16288095e-01  8.04676644e-03]\n",
      " [ 4.94217044e+00  1.98103339e-01  2.18278271e-01  6.15982467e-04]\n",
      " [ 4.98823017e+00 -2.54642982e-01  3.76803980e-01  8.28517628e-05]\n",
      " [ 5.02850358e+00 -1.45188470e-01  2.55429808e-03 -9.71219863e-04]\n",
      " [ 4.93913326e+00  6.33074819e-02  6.16505800e-01  1.33998913e-02]\n",
      " [ 4.98990918e+00 -3.13467581e-01 -2.34811419e-01  8.99498151e-03]\n",
      " [ 5.11677414e+00 -7.60756973e-01  1.80007710e-01  4.42444770e-02]]\n"
     ]
    }
   ],
   "source": [
    "# compute betahat using 3 features\n",
    "\n",
    "X2_3 = np.delete(X,0,1)\n",
    "X2_3 = X2_3[:3000,:]\n",
    "X3_3 = np.ones([3000,4])\n",
    "X3_3[:,1:] = X2_3\n",
    "betat_3 = np.linalg.lstsq(X3_3,sd,rcond = None)[0]\n",
    "betat_3 = betat_3.T\n",
    "print(betat_3)  # betat_3 by directly using least square regression from 3 features"
   ]
  },
  {
   "cell_type": "code",
   "execution_count": 34,
   "id": "7d8dca8b",
   "metadata": {},
   "outputs": [
    {
     "name": "stdout",
     "output_type": "stream",
     "text": [
      "[[ 5.21697142e+00 -2.99784691e-01 -5.96192835e-01  1.14987161e-02]\n",
      " [ 5.05210272e+00 -3.96867037e-01 -2.46966701e-01  2.65084114e-02]\n",
      " [ 4.53338596e+00  5.64531655e-02  3.69293690e-01 -1.61854037e-02]\n",
      " [ 4.84329875e+00 -4.44457076e-01  1.92600226e-01  3.31321111e-02]\n",
      " [ 4.95099343e+00 -4.37073627e-01 -2.77664838e-02 -1.26113510e-02]\n",
      " [ 4.94942506e+00 -4.93083156e-01 -4.78756787e-01 -1.34991344e-02]\n",
      " [ 4.95675179e+00 -1.30923244e-01 -3.80716222e-01 -5.34239229e-02]\n",
      " [ 4.60454072e+00  2.46046408e-01 -2.74288948e-01 -3.34009778e-02]\n",
      " [ 4.47517942e+00  3.78581388e-01  3.34515580e-01 -2.42002029e-02]\n",
      " [ 4.49941215e+00  3.40276884e-01  3.13874444e-02 -2.63698562e-02]\n",
      " [ 4.67804230e+00  3.12457534e-01 -8.32000188e-02 -2.62745396e-02]\n",
      " [ 5.03403594e+00 -5.27149322e-01  7.93582499e-01  1.43752598e-02]\n",
      " [ 4.74346700e+00 -1.23265785e-01 -3.01198137e-01 -2.94988468e-02]\n",
      " [ 4.85618152e+00  2.70508653e-01 -2.20456841e-01 -3.33629953e-02]\n",
      " [ 4.74443750e+00 -3.49988415e-01 -2.57827273e-01 -2.65366549e-02]\n",
      " [ 4.77911087e+00 -1.46692483e-02 -5.87995521e-01 -1.08264341e-02]\n",
      " [ 4.79981913e+00  2.00577403e-01  2.12069558e-01  3.15090099e-03]\n",
      " [ 4.70495822e+00  9.74742811e-03 -2.26571260e-02 -2.39405043e-02]\n",
      " [ 4.70803868e+00 -2.44738343e-01  2.05651040e-01 -2.56652193e-03]\n",
      " [ 4.82940064e+00  1.91803909e-01  7.26052874e-01 -3.02939748e-02]\n",
      " [ 4.57287735e+00 -4.92967473e-01  1.11386425e-01 -3.67893411e-03]\n",
      " [ 4.86330650e+00 -2.52179753e-01 -3.87511980e-01 -1.52070107e-02]\n",
      " [ 4.76765816e+00 -1.14906070e-01  5.33641124e-01  7.44138397e-03]\n",
      " [ 4.86041672e+00 -6.69693197e-01 -2.73242500e-01 -6.11177803e-03]\n",
      " [ 4.78872563e+00 -1.35225280e-02  2.04136596e-02 -2.81357850e-02]\n",
      " [ 4.71532204e+00  1.19060848e-01  4.74036370e-01  2.20840474e-02]\n",
      " [ 4.85824154e+00  3.59002026e-01  2.76595623e-01 -1.20296269e-02]\n",
      " [ 4.78437567e+00  3.69133094e-01 -2.41283476e-01 -5.49716090e-02]\n",
      " [ 4.71283299e+00  8.96777782e-02  3.89791097e-01 -3.73510529e-03]\n",
      " [ 4.60319222e+00  3.69742799e-01  1.69107925e-01 -3.91801417e-02]\n",
      " [ 4.59802635e+00 -3.27134467e-01 -4.11235883e-01  1.33674229e-02]\n",
      " [ 4.88591574e+00  4.51803232e-01 -6.35312492e-01 -6.80675362e-02]\n",
      " [ 4.85489960e+00 -1.68472874e-01 -1.57850359e-01 -2.64920673e-02]\n",
      " [ 4.62983752e+00 -4.04256575e-01  5.76931276e-01 -6.19809728e-03]\n",
      " [ 4.48094756e+00 -5.10999122e-01  2.38992378e-01  4.35804182e-04]\n",
      " [ 4.51151318e+00  2.45097349e-01  2.21376631e-01 -4.40922657e-02]\n",
      " [ 4.81677483e+00  1.61504024e-01 -3.79364158e-01 -2.11743033e-02]\n",
      " [ 4.72342209e+00 -2.98127431e-01 -6.54218366e-03 -1.66969025e-02]\n",
      " [ 4.87214226e+00  5.34140535e-01  3.41853045e-01  1.85254354e-02]\n",
      " [ 4.85647576e+00 -4.31874305e-01 -3.21933983e-01 -1.99513908e-02]\n",
      " [ 4.70935938e+00 -4.48714191e-01  3.73677998e-01 -4.62030129e-03]\n",
      " [ 4.74182464e+00  2.96010742e-01  1.18576373e-01 -2.50513178e-02]\n",
      " [ 4.73165358e+00  5.20972263e-01 -1.52360150e-01 -5.69853394e-02]\n",
      " [ 4.72191456e+00 -5.15181088e-01  6.16408421e-01 -5.92671042e-03]\n",
      " [ 4.75203797e+00  5.15691994e-01 -1.12652191e-01 -4.74395724e-02]\n",
      " [ 4.56549728e+00  5.51497059e-01 -1.13152121e-01 -4.42686532e-02]\n",
      " [ 4.76362636e+00  1.43637638e-01 -6.20334628e-02 -1.30138862e-02]\n",
      " [ 4.68165456e+00  2.01220788e-01  1.02967420e-01  7.60054417e-03]\n",
      " [ 4.55288651e+00 -1.06909255e-01  4.69214182e-01 -2.53386578e-02]\n",
      " [ 4.80220306e+00  4.49877661e-01 -4.63797827e-02 -4.95569433e-02]\n",
      " [ 5.05496025e+00 -5.31231700e-01 -2.46982684e-01  9.22252137e-03]\n",
      " [ 4.73549239e+00  3.18468761e-01  4.35942315e-01  2.86117030e-03]\n",
      " [ 4.69555900e+00  6.07569246e-02  6.28141633e-01 -5.24408062e-03]\n",
      " [ 4.86033488e+00 -2.64201946e-01  6.48999821e-01  3.12963401e-03]\n",
      " [ 4.58806146e+00  1.86957014e-01  6.77419845e-01 -1.08636977e-02]\n",
      " [ 4.74511457e+00  2.03254478e-01  3.01431613e-01 -3.86675131e-02]\n",
      " [ 4.80428297e+00 -4.99437464e-01  4.96075874e-01  2.40059213e-02]\n",
      " [ 4.88955678e+00  8.08993986e-01 -1.35244752e-01 -3.72551150e-02]\n",
      " [ 4.68878626e+00  1.84376541e-01  6.37772303e-01 -1.71202969e-02]\n",
      " [ 4.50319801e+00  5.29784484e-02 -7.75657147e-01 -6.27710325e-02]\n",
      " [ 4.87133668e+00 -1.85146739e-01  1.93808565e-01  1.65061482e-03]\n",
      " [ 4.64406896e+00 -1.12899995e-02 -1.04892876e-01 -2.65930460e-02]\n",
      " [ 4.58943022e+00  1.84604308e-01 -7.92753582e-01 -4.60837669e-02]\n",
      " [ 4.83174107e+00 -4.20928695e-01  7.19713149e-01  7.62125543e-03]\n",
      " [ 4.77503642e+00 -3.09557036e-01  4.93596927e-02 -1.93070706e-02]\n",
      " [ 4.76423987e+00  2.98220464e-01 -2.42253319e-01 -1.52500630e-02]\n",
      " [ 4.77069663e+00 -2.51289539e-01  3.90459296e-01  8.82053346e-03]\n",
      " [ 4.98019550e+00  6.61270876e-01  3.06533063e-01 -5.88789685e-02]\n",
      " [ 4.95040855e+00  4.00017742e-02  3.49780645e-01 -6.49648317e-03]\n",
      " [ 4.60104678e+00  1.16258669e-01  2.49577713e-01 -9.79388254e-03]\n",
      " [ 4.66290437e+00 -2.39073268e-01  4.56982128e-01 -2.12168586e-02]\n",
      " [ 4.72670418e+00 -1.82244501e-01  6.19158248e-02  4.56114414e-04]\n",
      " [ 4.69797238e+00  1.59616258e-01  4.97021708e-01 -4.76918320e-03]\n",
      " [ 4.88632259e+00 -3.60774953e-01 -2.11947140e-01  5.68489204e-03]\n",
      " [ 4.85738585e+00 -7.69302303e-01  1.40840996e-01  1.52033444e-02]]\n"
     ]
    }
   ],
   "source": [
    "# gradient descent using 3 features\n",
    "\n",
    "X2_3 = np.delete(X,0,1)\n",
    "X2_3 = X2_3[:3000,:]\n",
    "X3_3 = np.ones((3000, 4))\n",
    "X3_3[:, 1:] = X2_3\n",
    "\n",
    "def F(beta,X,Y):\n",
    "    return np.linalg.norm(X @ beta.T - Y) ** 2\n",
    "\n",
    "def s_grad_F_j(beta, X, Y):\n",
    "    return 2 * (X @ beta - Y) * X\n",
    "\n",
    "niter = 1000\n",
    "n = 3000\n",
    "betatp = np.zeros((niter, len(X3_3[0])))\n",
    "betat_ave = np.zeros((niter, len(X3_3[0])))\n",
    "\n",
    "XtX = X3_3.T @ X3_3\n",
    "eta = 0.01\n",
    "result = np.zeros((75,4))  \n",
    "\n",
    "conv = np.zeros ((niter))\n",
    "conv[0] = np.linalg.norm(betatp[0,:] - betat_3)\n",
    "\n",
    "conv_ave = np.zeros(niter)\n",
    "conv_ave[0] = np.linalg.norm(betat_ave[0,:] - betat_3)\n",
    "\n",
    "for i in range (len(sd[0])):\n",
    "    Y = sd[:,i]\n",
    "\n",
    "    for t in range(1, niter):\n",
    "        j = np.random.randint(n)\n",
    "        betatp[t, :] = betatp[t-1, :] - eta * s_grad_F_j(betatp[t-1, :], X3_3[j,:], Y[j])\n",
    "        betat_ave[t, :] = 1/(t+1) * betatp[t, :] + (t)/(t+1) * betat_ave[t-1, :]\n",
    "        conv[t] = np.linalg.norm(betatp[t,:] - betat_3)\n",
    "        conv_ave[t] = np.linalg.norm(betat_ave[t,:] - betat_3)\n",
    "        \n",
    "    result[i,:] = betat_ave[-1,:]\n",
    "\n",
    "print (result)"
   ]
  },
  {
   "cell_type": "code",
   "execution_count": 35,
   "id": "d42505c3",
   "metadata": {},
   "outputs": [
    {
     "name": "stderr",
     "output_type": "stream",
     "text": [
      "<ipython-input-35-b19869425690>:3: RuntimeWarning:\n",
      "\n",
      "divide by zero encountered in log10\n",
      "\n",
      "<ipython-input-35-b19869425690>:4: RuntimeWarning:\n",
      "\n",
      "divide by zero encountered in log10\n",
      "\n"
     ]
    },
    {
     "data": {
      "text/plain": [
       "[<matplotlib.lines.Line2D at 0x1f75b7fc8e0>]"
      ]
     },
     "execution_count": 35,
     "metadata": {},
     "output_type": "execute_result"
    },
    {
     "data": {
      "image/png": "[encoded data removed]",
      "text/plain": [
       "<Figure size 432x288 with 1 Axes>"
      ]
     },
     "metadata": {
      "needs_background": "light"
     },
     "output_type": "display_data"
    }
   ],
   "source": [
    "# convergence test for the method using 3 features\n",
    "\n",
    "plt.plot(np.log10(np.arange(niter)),np.log10(conv))\n",
    "plt.plot(np.log10(np.arange(niter)),np.log10(conv_ave))"
   ]
  },
  {
   "cell_type": "markdown",
   "id": "9becfaa4",
   "metadata": {},
   "source": [
    "## 10) Prediction"
   ]
  },
  {
   "cell_type": "code",
   "execution_count": 36,
   "id": "8da8f5e8",
   "metadata": {},
   "outputs": [
    {
     "name": "stdout",
     "output_type": "stream",
     "text": [
      "[[6.70420724 6.9210349  4.70543916 ... 4.02644814 6.50673436 7.24452717]\n",
      " [6.87050194 5.30739979 2.87234318 ... 2.10300139 4.58968254 2.72337923]\n",
      " [6.96651536 7.43811379 4.53696316 ... 4.01640661 6.4946995  8.50761392]\n",
      " ...\n",
      " [3.70298713 2.68777701 3.31824069 ... 4.17997537 2.13728683 0.09405331]\n",
      " [7.78706595 7.72966639 4.70439783 ... 3.75488603 6.92973007 7.41844725]\n",
      " [5.36126966 4.29460305 3.14562995 ... 3.26309997 3.46229258 1.94278593]]\n",
      "6.5616627240828915\n"
     ]
    }
   ],
   "source": [
    "# prediction from using 6 features\n",
    "\n",
    "y_ppp = X3_6 @ resultp.T # prediction\n",
    "print (y_ppp)\n",
    "print (y_ppp[0,4])"
   ]
  },
  {
   "cell_type": "code",
   "execution_count": 37,
   "id": "fba8ab5c",
   "metadata": {},
   "outputs": [
    {
     "name": "stdout",
     "output_type": "stream",
     "text": [
      "[[6.82186626 6.55689669 3.81998264 ... 3.6237521  6.12671207 6.768697  ]\n",
      " [6.98190352 5.16817925 3.25806703 ... 3.03641587 5.04590144 2.82280131]\n",
      " [7.10310665 7.13328277 4.08582423 ... 3.56892697 6.86952262 8.68183006]\n",
      " ...\n",
      " [3.67775693 2.80706893 4.82149528 ... 5.46072021 2.93372681 0.51321113]\n",
      " [7.30931615 6.62922349 3.69626861 ... 3.20396832 6.41023699 6.86146275]\n",
      " [5.5623933  4.34652718 3.82016236 ... 4.11702028 4.12442652 1.91525057]]\n",
      "6.044875511165831\n"
     ]
    }
   ],
   "source": [
    "# prediction from using 3 features\n",
    "\n",
    "y_p = X3_3 @ result.T # prediction\n",
    "print (y_p)\n",
    "print (y_p[0,4])"
   ]
  },
  {
   "cell_type": "code",
   "execution_count": 38,
   "id": "a578fde5",
   "metadata": {},
   "outputs": [
    {
     "name": "stdout",
     "output_type": "stream",
     "text": [
      "[[6.78269047 6.81920604 4.42125396 ... 4.0735263  6.15652308 7.13222726]\n",
      " [7.09005538 5.66346413 3.30720124 ... 2.52593177 5.30710945 2.77780834]\n",
      " [6.65391599 7.43283493 4.7167164  ... 4.1343356  6.72428086 8.71423689]\n",
      " ...\n",
      " [4.36443285 2.99578401 4.59938798 ... 5.04858564 3.28725429 0.66392246]\n",
      " [6.99285593 7.02321925 4.13854533 ... 3.38271864 6.39317198 6.83001394]\n",
      " [6.09298604 4.64147855 3.90866583 ... 3.84232223 4.46214084 2.2620708 ]]\n",
      "6.388893716218621\n"
     ]
    }
   ],
   "source": [
    "# calculate the prediction directly from the least square regression (3 features)\n",
    "\n",
    "y_pp = X3_3 @ betat_3.T\n",
    "print (y_pp)\n",
    "print (y_pp[0,4])"
   ]
  },
  {
   "cell_type": "code",
   "execution_count": 39,
   "id": "6af983cf",
   "metadata": {},
   "outputs": [
    {
     "name": "stdout",
     "output_type": "stream",
     "text": [
      "(4500, 75)\n"
     ]
    }
   ],
   "source": [
    "# preparing for the MSE check\n",
    "\n",
    "X5 = np.delete(X,0,1)\n",
    "\n",
    "X4 = np.ones([4500,4])\n",
    "X4[:,1:] = X5\n",
    "\n",
    "y_fp = X4 @ result.T\n",
    "print(y_fp.shape)\n"
   ]
  },
  {
   "cell_type": "code",
   "execution_count": 40,
   "id": "547728ad",
   "metadata": {},
   "outputs": [
    {
     "name": "stdout",
     "output_type": "stream",
     "text": [
      "0.12906597918191196\n",
      "5.039449124719974\n"
     ]
    }
   ],
   "source": [
    "# calculate the mean square error for the method using 3 features\n",
    "\n",
    "# the mean square error between prediction and the result from directly using least square regression\n",
    "MSE_p  = np.mean((y_pp - y_p)**2) \n",
    "\n",
    "# the mean square error between prediction and the original ratings data\n",
    "MSE = np.mean((sd - y_p) ** 2) \n",
    "\n",
    "print(MSE_p) \n",
    "print(MSE)"
   ]
  },
  {
   "cell_type": "code",
   "execution_count": 41,
   "id": "4b8eb5d7",
   "metadata": {},
   "outputs": [],
   "source": [
    "# export to a csv using the method with 3 features\n",
    "\n",
    "prod = user_ratings_table.columns\n",
    "\n",
    "ind = np.array([4500,])\n",
    "ind = user_history.loc[:,\"USER ID\"]\n",
    "\n",
    "prediction_of_ratings = pd.DataFrame(y_fp, index = ind, columns = prod)\n",
    "prediction_of_ratings.to_csv(\"prediction_of_ratings.csv\")"
   ]
  }
 ],
 "metadata": {
  "kernelspec": {
   "display_name": "Python 3",
   "language": "python",
   "name": "python3"
  },
  "language_info": {
   "codemirror_mode": {
    "name": "ipython",
    "version": 3
   },
   "file_extension": ".py",
   "mimetype": "text/x-python",
   "name": "python",
   "nbconvert_exporter": "python",
   "pygments_lexer": "ipython3",
   "version": "3.8.5"
  }
 },
 "nbformat": 4,
 "nbformat_minor": 5
}
