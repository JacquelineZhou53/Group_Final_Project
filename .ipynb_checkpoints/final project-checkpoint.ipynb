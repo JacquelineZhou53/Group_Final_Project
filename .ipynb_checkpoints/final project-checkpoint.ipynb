{
 "cells": [
  {
   "cell_type": "code",
   "execution_count": 1,
   "id": "aa52b561",
   "metadata": {},
   "outputs": [],
   "source": [
    "# useful packages\n",
    "import numpy as np\n",
    "import csv\n",
    "import math\n",
    "import pandas as pd\n",
    "from sklearn import preprocessing\n",
    "from sklearn.preprocessing import StandardScaler\n",
    "from sklearn import datasets\n",
    "from sklearn import cluster\n",
    "from sklearn.decomposition import PCA\n",
    "from sklearn.cluster import KMeans\n",
    "import matplotlib.pyplot as plt\n",
    "import itertools"
   ]
  },
  {
   "cell_type": "code",
   "execution_count": 2,
   "id": "ed62a09a",
   "metadata": {},
   "outputs": [],
   "source": [
    "# load data as a dataframe with pandas\n",
    "user_history = pd.read_csv(\"user_history.csv\")\n",
    "user_history_without_user_ID = user_history.drop(['USER ID'],axis=1)\n",
    "user_ratings = pd.read_csv(\"user_ratings.csv\")"
   ]
  },
  {
   "cell_type": "code",
   "execution_count": 3,
   "id": "431734b1",
   "metadata": {},
   "outputs": [],
   "source": [
    "row_his, col_his = user_history.shape"
   ]
  },
  {
   "cell_type": "code",
   "execution_count": 4,
   "id": "120dc431",
   "metadata": {},
   "outputs": [],
   "source": [
    "row_rat, col_rat = user_ratings.shape"
   ]
  },
  {
   "cell_type": "markdown",
   "id": "b3d1f0fc",
   "metadata": {},
   "source": [
    "To get a better sense of the data, using pandas, you can look at the top 5 rows using the head function:"
   ]
  },
  {
   "cell_type": "code",
   "execution_count": 5,
   "id": "a73c88cf",
   "metadata": {},
   "outputs": [
    {
     "data": {
      "text/html": [
       "<div>\n",
       "<style scoped>\n",
       "    .dataframe tbody tr th:only-of-type {\n",
       "        vertical-align: middle;\n",
       "    }\n",
       "\n",
       "    .dataframe tbody tr th {\n",
       "        vertical-align: top;\n",
       "    }\n",
       "\n",
       "    .dataframe thead th {\n",
       "        text-align: right;\n",
       "    }\n",
       "</style>\n",
       "<table border=\"1\" class=\"dataframe\">\n",
       "  <thead>\n",
       "    <tr style=\"text-align: right;\">\n",
       "      <th></th>\n",
       "      <th>USER ID</th>\n",
       "      <th>alpine kimono</th>\n",
       "      <th>sweden kansas</th>\n",
       "      <th>student icon</th>\n",
       "      <th>supreme ivan</th>\n",
       "      <th>albert charlie</th>\n",
       "      <th>heavy trapeze</th>\n",
       "      <th>fabric tokyo</th>\n",
       "      <th>brother robin</th>\n",
       "      <th>tiger catalog</th>\n",
       "      <th>...</th>\n",
       "      <th>cigar lagoon</th>\n",
       "      <th>equal comedy</th>\n",
       "      <th>bombay podium</th>\n",
       "      <th>helena robot</th>\n",
       "      <th>prodigy rhino</th>\n",
       "      <th>jumbo gray</th>\n",
       "      <th>radius wizard</th>\n",
       "      <th>fame quiz</th>\n",
       "      <th>bazaar complex</th>\n",
       "      <th>glass slogan</th>\n",
       "    </tr>\n",
       "  </thead>\n",
       "  <tbody>\n",
       "    <tr>\n",
       "      <th>0</th>\n",
       "      <td>100950</td>\n",
       "      <td>2.192897</td>\n",
       "      <td>0.361397</td>\n",
       "      <td>0.531663</td>\n",
       "      <td>0.016105</td>\n",
       "      <td>0.694338</td>\n",
       "      <td>1.250662</td>\n",
       "      <td>1.483259</td>\n",
       "      <td>1.799682</td>\n",
       "      <td>0.664616</td>\n",
       "      <td>...</td>\n",
       "      <td>0.309236</td>\n",
       "      <td>2.622033</td>\n",
       "      <td>1.242243</td>\n",
       "      <td>2.947560</td>\n",
       "      <td>0.693319</td>\n",
       "      <td>0.625303</td>\n",
       "      <td>2.352295</td>\n",
       "      <td>1.548417</td>\n",
       "      <td>1.517709</td>\n",
       "      <td>1.508219</td>\n",
       "    </tr>\n",
       "    <tr>\n",
       "      <th>1</th>\n",
       "      <td>100956</td>\n",
       "      <td>2.776597</td>\n",
       "      <td>0.788821</td>\n",
       "      <td>1.187149</td>\n",
       "      <td>0.473049</td>\n",
       "      <td>2.245112</td>\n",
       "      <td>1.998881</td>\n",
       "      <td>0.072812</td>\n",
       "      <td>1.441970</td>\n",
       "      <td>2.264368</td>\n",
       "      <td>...</td>\n",
       "      <td>2.304845</td>\n",
       "      <td>1.498307</td>\n",
       "      <td>0.319484</td>\n",
       "      <td>0.089212</td>\n",
       "      <td>3.157167</td>\n",
       "      <td>2.789594</td>\n",
       "      <td>1.003377</td>\n",
       "      <td>1.141516</td>\n",
       "      <td>2.011509</td>\n",
       "      <td>0.377898</td>\n",
       "    </tr>\n",
       "    <tr>\n",
       "      <th>2</th>\n",
       "      <td>100962</td>\n",
       "      <td>0.281717</td>\n",
       "      <td>5.046727</td>\n",
       "      <td>4.407484</td>\n",
       "      <td>2.138591</td>\n",
       "      <td>1.075562</td>\n",
       "      <td>0.385842</td>\n",
       "      <td>0.626482</td>\n",
       "      <td>0.026648</td>\n",
       "      <td>1.949374</td>\n",
       "      <td>...</td>\n",
       "      <td>1.463952</td>\n",
       "      <td>0.601814</td>\n",
       "      <td>1.983130</td>\n",
       "      <td>2.364877</td>\n",
       "      <td>0.429133</td>\n",
       "      <td>2.758070</td>\n",
       "      <td>0.563619</td>\n",
       "      <td>0.271453</td>\n",
       "      <td>0.579626</td>\n",
       "      <td>1.785609</td>\n",
       "    </tr>\n",
       "    <tr>\n",
       "      <th>3</th>\n",
       "      <td>100969</td>\n",
       "      <td>0.943147</td>\n",
       "      <td>1.165713</td>\n",
       "      <td>2.016138</td>\n",
       "      <td>1.236626</td>\n",
       "      <td>0.973435</td>\n",
       "      <td>2.514205</td>\n",
       "      <td>0.022476</td>\n",
       "      <td>1.091282</td>\n",
       "      <td>1.320748</td>\n",
       "      <td>...</td>\n",
       "      <td>1.428416</td>\n",
       "      <td>3.791742</td>\n",
       "      <td>1.102070</td>\n",
       "      <td>3.250911</td>\n",
       "      <td>1.209403</td>\n",
       "      <td>0.246261</td>\n",
       "      <td>0.558631</td>\n",
       "      <td>1.163652</td>\n",
       "      <td>1.922758</td>\n",
       "      <td>1.008040</td>\n",
       "    </tr>\n",
       "    <tr>\n",
       "      <th>4</th>\n",
       "      <td>100974</td>\n",
       "      <td>0.485729</td>\n",
       "      <td>4.633607</td>\n",
       "      <td>4.120416</td>\n",
       "      <td>1.497073</td>\n",
       "      <td>1.463875</td>\n",
       "      <td>0.867737</td>\n",
       "      <td>0.877514</td>\n",
       "      <td>0.019603</td>\n",
       "      <td>1.751483</td>\n",
       "      <td>...</td>\n",
       "      <td>1.179954</td>\n",
       "      <td>1.031741</td>\n",
       "      <td>1.935182</td>\n",
       "      <td>2.012611</td>\n",
       "      <td>0.553173</td>\n",
       "      <td>2.614605</td>\n",
       "      <td>0.313479</td>\n",
       "      <td>0.143246</td>\n",
       "      <td>0.914407</td>\n",
       "      <td>2.011048</td>\n",
       "    </tr>\n",
       "  </tbody>\n",
       "</table>\n",
       "<p>5 rows × 101 columns</p>\n",
       "</div>"
      ],
      "text/plain": [
       "   USER ID  alpine kimono  sweden kansas  student icon  supreme ivan  \\\n",
       "0   100950       2.192897       0.361397      0.531663      0.016105   \n",
       "1   100956       2.776597       0.788821      1.187149      0.473049   \n",
       "2   100962       0.281717       5.046727      4.407484      2.138591   \n",
       "3   100969       0.943147       1.165713      2.016138      1.236626   \n",
       "4   100974       0.485729       4.633607      4.120416      1.497073   \n",
       "\n",
       "   albert charlie  heavy trapeze  fabric tokyo  brother robin  tiger catalog  \\\n",
       "0        0.694338       1.250662      1.483259       1.799682       0.664616   \n",
       "1        2.245112       1.998881      0.072812       1.441970       2.264368   \n",
       "2        1.075562       0.385842      0.626482       0.026648       1.949374   \n",
       "3        0.973435       2.514205      0.022476       1.091282       1.320748   \n",
       "4        1.463875       0.867737      0.877514       0.019603       1.751483   \n",
       "\n",
       "   ...  cigar lagoon  equal comedy  bombay podium  helena robot  \\\n",
       "0  ...      0.309236      2.622033       1.242243      2.947560   \n",
       "1  ...      2.304845      1.498307       0.319484      0.089212   \n",
       "2  ...      1.463952      0.601814       1.983130      2.364877   \n",
       "3  ...      1.428416      3.791742       1.102070      3.250911   \n",
       "4  ...      1.179954      1.031741       1.935182      2.012611   \n",
       "\n",
       "   prodigy rhino  jumbo gray  radius wizard  fame quiz  bazaar complex  \\\n",
       "0       0.693319    0.625303       2.352295   1.548417        1.517709   \n",
       "1       3.157167    2.789594       1.003377   1.141516        2.011509   \n",
       "2       0.429133    2.758070       0.563619   0.271453        0.579626   \n",
       "3       1.209403    0.246261       0.558631   1.163652        1.922758   \n",
       "4       0.553173    2.614605       0.313479   0.143246        0.914407   \n",
       "\n",
       "   glass slogan  \n",
       "0      1.508219  \n",
       "1      0.377898  \n",
       "2      1.785609  \n",
       "3      1.008040  \n",
       "4      2.011048  \n",
       "\n",
       "[5 rows x 101 columns]"
      ]
     },
     "execution_count": 5,
     "metadata": {},
     "output_type": "execute_result"
    }
   ],
   "source": [
    "user_history.head()"
   ]
  },
  {
   "cell_type": "code",
   "execution_count": 6,
   "id": "936ac7e8",
   "metadata": {},
   "outputs": [
    {
     "data": {
      "text/html": [
       "<div>\n",
       "<style scoped>\n",
       "    .dataframe tbody tr th:only-of-type {\n",
       "        vertical-align: middle;\n",
       "    }\n",
       "\n",
       "    .dataframe tbody tr th {\n",
       "        vertical-align: top;\n",
       "    }\n",
       "\n",
       "    .dataframe thead th {\n",
       "        text-align: right;\n",
       "    }\n",
       "</style>\n",
       "<table border=\"1\" class=\"dataframe\">\n",
       "  <thead>\n",
       "    <tr style=\"text-align: right;\">\n",
       "      <th></th>\n",
       "      <th>USER ID</th>\n",
       "      <th>PRODUCT</th>\n",
       "      <th>RATING</th>\n",
       "    </tr>\n",
       "  </thead>\n",
       "  <tbody>\n",
       "    <tr>\n",
       "      <th>0</th>\n",
       "      <td>100950</td>\n",
       "      <td>secret postage</td>\n",
       "      <td>4</td>\n",
       "    </tr>\n",
       "    <tr>\n",
       "      <th>1</th>\n",
       "      <td>100950</td>\n",
       "      <td>violet saga</td>\n",
       "      <td>4</td>\n",
       "    </tr>\n",
       "    <tr>\n",
       "      <th>2</th>\n",
       "      <td>100950</td>\n",
       "      <td>pepper chicago</td>\n",
       "      <td>3</td>\n",
       "    </tr>\n",
       "    <tr>\n",
       "      <th>3</th>\n",
       "      <td>100950</td>\n",
       "      <td>nina sailor</td>\n",
       "      <td>2</td>\n",
       "    </tr>\n",
       "    <tr>\n",
       "      <th>4</th>\n",
       "      <td>100950</td>\n",
       "      <td>front salami</td>\n",
       "      <td>3</td>\n",
       "    </tr>\n",
       "  </tbody>\n",
       "</table>\n",
       "</div>"
      ],
      "text/plain": [
       "   USER ID         PRODUCT  RATING\n",
       "0   100950  secret postage       4\n",
       "1   100950     violet saga       4\n",
       "2   100950  pepper chicago       3\n",
       "3   100950     nina sailor       2\n",
       "4   100950    front salami       3"
      ]
     },
     "execution_count": 6,
     "metadata": {},
     "output_type": "execute_result"
    }
   ],
   "source": [
    "user_ratings.head()"
   ]
  },
  {
   "cell_type": "code",
   "execution_count": 7,
   "id": "f0a876a2",
   "metadata": {},
   "outputs": [
    {
     "data": {
      "text/html": [
       "<div>\n",
       "<style scoped>\n",
       "    .dataframe tbody tr th:only-of-type {\n",
       "        vertical-align: middle;\n",
       "    }\n",
       "\n",
       "    .dataframe tbody tr th {\n",
       "        vertical-align: top;\n",
       "    }\n",
       "\n",
       "    .dataframe thead th {\n",
       "        text-align: right;\n",
       "    }\n",
       "</style>\n",
       "<table border=\"1\" class=\"dataframe\">\n",
       "  <thead>\n",
       "    <tr style=\"text-align: right;\">\n",
       "      <th>PRODUCT</th>\n",
       "      <th>adrian crater</th>\n",
       "      <th>anagram mentor</th>\n",
       "      <th>apropos pizza</th>\n",
       "      <th>bandit anatomy</th>\n",
       "      <th>banjo ladder</th>\n",
       "      <th>barcode arnold</th>\n",
       "      <th>bazooka diagram</th>\n",
       "      <th>bronze mystic</th>\n",
       "      <th>calypso zigzag</th>\n",
       "      <th>casino unit</th>\n",
       "      <th>...</th>\n",
       "      <th>tourist micro</th>\n",
       "      <th>tripod stand</th>\n",
       "      <th>update lola</th>\n",
       "      <th>ventura puzzle</th>\n",
       "      <th>viking llama</th>\n",
       "      <th>violet saga</th>\n",
       "      <th>vista queen</th>\n",
       "      <th>viva avalon</th>\n",
       "      <th>voodoo planet</th>\n",
       "      <th>wheel gibson</th>\n",
       "    </tr>\n",
       "    <tr>\n",
       "      <th>USER ID</th>\n",
       "      <th></th>\n",
       "      <th></th>\n",
       "      <th></th>\n",
       "      <th></th>\n",
       "      <th></th>\n",
       "      <th></th>\n",
       "      <th></th>\n",
       "      <th></th>\n",
       "      <th></th>\n",
       "      <th></th>\n",
       "      <th></th>\n",
       "      <th></th>\n",
       "      <th></th>\n",
       "      <th></th>\n",
       "      <th></th>\n",
       "      <th></th>\n",
       "      <th></th>\n",
       "      <th></th>\n",
       "      <th></th>\n",
       "      <th></th>\n",
       "      <th></th>\n",
       "    </tr>\n",
       "  </thead>\n",
       "  <tbody>\n",
       "    <tr>\n",
       "      <th>100950</th>\n",
       "      <td>NaN</td>\n",
       "      <td>NaN</td>\n",
       "      <td>NaN</td>\n",
       "      <td>NaN</td>\n",
       "      <td>8.0</td>\n",
       "      <td>NaN</td>\n",
       "      <td>NaN</td>\n",
       "      <td>NaN</td>\n",
       "      <td>5.0</td>\n",
       "      <td>NaN</td>\n",
       "      <td>...</td>\n",
       "      <td>NaN</td>\n",
       "      <td>NaN</td>\n",
       "      <td>NaN</td>\n",
       "      <td>NaN</td>\n",
       "      <td>NaN</td>\n",
       "      <td>4.0</td>\n",
       "      <td>NaN</td>\n",
       "      <td>NaN</td>\n",
       "      <td>NaN</td>\n",
       "      <td>NaN</td>\n",
       "    </tr>\n",
       "    <tr>\n",
       "      <th>100956</th>\n",
       "      <td>NaN</td>\n",
       "      <td>NaN</td>\n",
       "      <td>NaN</td>\n",
       "      <td>NaN</td>\n",
       "      <td>NaN</td>\n",
       "      <td>5.0</td>\n",
       "      <td>NaN</td>\n",
       "      <td>NaN</td>\n",
       "      <td>NaN</td>\n",
       "      <td>NaN</td>\n",
       "      <td>...</td>\n",
       "      <td>NaN</td>\n",
       "      <td>NaN</td>\n",
       "      <td>NaN</td>\n",
       "      <td>NaN</td>\n",
       "      <td>NaN</td>\n",
       "      <td>NaN</td>\n",
       "      <td>NaN</td>\n",
       "      <td>NaN</td>\n",
       "      <td>NaN</td>\n",
       "      <td>NaN</td>\n",
       "    </tr>\n",
       "    <tr>\n",
       "      <th>100962</th>\n",
       "      <td>NaN</td>\n",
       "      <td>NaN</td>\n",
       "      <td>NaN</td>\n",
       "      <td>NaN</td>\n",
       "      <td>NaN</td>\n",
       "      <td>NaN</td>\n",
       "      <td>NaN</td>\n",
       "      <td>NaN</td>\n",
       "      <td>NaN</td>\n",
       "      <td>NaN</td>\n",
       "      <td>...</td>\n",
       "      <td>NaN</td>\n",
       "      <td>NaN</td>\n",
       "      <td>NaN</td>\n",
       "      <td>NaN</td>\n",
       "      <td>NaN</td>\n",
       "      <td>NaN</td>\n",
       "      <td>NaN</td>\n",
       "      <td>NaN</td>\n",
       "      <td>NaN</td>\n",
       "      <td>NaN</td>\n",
       "    </tr>\n",
       "    <tr>\n",
       "      <th>100969</th>\n",
       "      <td>NaN</td>\n",
       "      <td>10.0</td>\n",
       "      <td>1.0</td>\n",
       "      <td>NaN</td>\n",
       "      <td>5.0</td>\n",
       "      <td>NaN</td>\n",
       "      <td>NaN</td>\n",
       "      <td>NaN</td>\n",
       "      <td>NaN</td>\n",
       "      <td>NaN</td>\n",
       "      <td>...</td>\n",
       "      <td>NaN</td>\n",
       "      <td>NaN</td>\n",
       "      <td>5.0</td>\n",
       "      <td>NaN</td>\n",
       "      <td>NaN</td>\n",
       "      <td>0.0</td>\n",
       "      <td>NaN</td>\n",
       "      <td>NaN</td>\n",
       "      <td>8.0</td>\n",
       "      <td>2.0</td>\n",
       "    </tr>\n",
       "    <tr>\n",
       "      <th>100974</th>\n",
       "      <td>NaN</td>\n",
       "      <td>NaN</td>\n",
       "      <td>NaN</td>\n",
       "      <td>9.0</td>\n",
       "      <td>NaN</td>\n",
       "      <td>5.0</td>\n",
       "      <td>NaN</td>\n",
       "      <td>1.0</td>\n",
       "      <td>NaN</td>\n",
       "      <td>NaN</td>\n",
       "      <td>...</td>\n",
       "      <td>NaN</td>\n",
       "      <td>NaN</td>\n",
       "      <td>NaN</td>\n",
       "      <td>NaN</td>\n",
       "      <td>NaN</td>\n",
       "      <td>NaN</td>\n",
       "      <td>NaN</td>\n",
       "      <td>9.0</td>\n",
       "      <td>NaN</td>\n",
       "      <td>NaN</td>\n",
       "    </tr>\n",
       "  </tbody>\n",
       "</table>\n",
       "<p>5 rows × 75 columns</p>\n",
       "</div>"
      ],
      "text/plain": [
       "PRODUCT  adrian crater  anagram mentor  apropos pizza  bandit anatomy  \\\n",
       "USER ID                                                                 \n",
       "100950             NaN             NaN            NaN             NaN   \n",
       "100956             NaN             NaN            NaN             NaN   \n",
       "100962             NaN             NaN            NaN             NaN   \n",
       "100969             NaN            10.0            1.0             NaN   \n",
       "100974             NaN             NaN            NaN             9.0   \n",
       "\n",
       "PRODUCT  banjo ladder  barcode arnold  bazooka diagram  bronze mystic  \\\n",
       "USER ID                                                                 \n",
       "100950            8.0             NaN              NaN            NaN   \n",
       "100956            NaN             5.0              NaN            NaN   \n",
       "100962            NaN             NaN              NaN            NaN   \n",
       "100969            5.0             NaN              NaN            NaN   \n",
       "100974            NaN             5.0              NaN            1.0   \n",
       "\n",
       "PRODUCT  calypso zigzag  casino unit  ...  tourist micro  tripod stand  \\\n",
       "USER ID                               ...                                \n",
       "100950              5.0          NaN  ...            NaN           NaN   \n",
       "100956              NaN          NaN  ...            NaN           NaN   \n",
       "100962              NaN          NaN  ...            NaN           NaN   \n",
       "100969              NaN          NaN  ...            NaN           NaN   \n",
       "100974              NaN          NaN  ...            NaN           NaN   \n",
       "\n",
       "PRODUCT  update lola  ventura puzzle  viking llama  violet saga  vista queen  \\\n",
       "USER ID                                                                        \n",
       "100950           NaN             NaN           NaN          4.0          NaN   \n",
       "100956           NaN             NaN           NaN          NaN          NaN   \n",
       "100962           NaN             NaN           NaN          NaN          NaN   \n",
       "100969           5.0             NaN           NaN          0.0          NaN   \n",
       "100974           NaN             NaN           NaN          NaN          NaN   \n",
       "\n",
       "PRODUCT  viva avalon  voodoo planet  wheel gibson  \n",
       "USER ID                                            \n",
       "100950           NaN            NaN           NaN  \n",
       "100956           NaN            NaN           NaN  \n",
       "100962           NaN            NaN           NaN  \n",
       "100969           NaN            8.0           2.0  \n",
       "100974           9.0            NaN           NaN  \n",
       "\n",
       "[5 rows x 75 columns]"
      ]
     },
     "execution_count": 7,
     "metadata": {},
     "output_type": "execute_result"
    }
   ],
   "source": [
    "user_ratings_table = pd.pivot_table(user_ratings,values='RATING', index='USER ID',\n",
    "                    columns='PRODUCT')\n",
    "user_ratings_table.head()"
   ]
  },
  {
   "cell_type": "code",
   "execution_count": 8,
   "id": "183c47e8",
   "metadata": {},
   "outputs": [
    {
     "data": {
      "text/plain": [
       "33725"
      ]
     },
     "execution_count": 8,
     "metadata": {},
     "output_type": "execute_result"
    }
   ],
   "source": [
    "np.sum(~np.isnan(user_ratings_table.to_numpy()))"
   ]
  },
  {
   "cell_type": "code",
   "execution_count": 9,
   "id": "b120dfe0",
   "metadata": {},
   "outputs": [
    {
     "data": {
      "text/html": [
       "<div>\n",
       "<style scoped>\n",
       "    .dataframe tbody tr th:only-of-type {\n",
       "        vertical-align: middle;\n",
       "    }\n",
       "\n",
       "    .dataframe tbody tr th {\n",
       "        vertical-align: top;\n",
       "    }\n",
       "\n",
       "    .dataframe thead th {\n",
       "        text-align: right;\n",
       "    }\n",
       "</style>\n",
       "<table border=\"1\" class=\"dataframe\">\n",
       "  <thead>\n",
       "    <tr style=\"text-align: right;\">\n",
       "      <th></th>\n",
       "      <th>USER ID</th>\n",
       "      <th>PRODUCT</th>\n",
       "      <th>RATING</th>\n",
       "      <th>USER INDEX</th>\n",
       "      <th>PRODUCT ID</th>\n",
       "    </tr>\n",
       "  </thead>\n",
       "  <tbody>\n",
       "    <tr>\n",
       "      <th>0</th>\n",
       "      <td>100950</td>\n",
       "      <td>secret postage</td>\n",
       "      <td>4</td>\n",
       "      <td>0</td>\n",
       "      <td>54</td>\n",
       "    </tr>\n",
       "    <tr>\n",
       "      <th>1</th>\n",
       "      <td>100950</td>\n",
       "      <td>violet saga</td>\n",
       "      <td>4</td>\n",
       "      <td>0</td>\n",
       "      <td>70</td>\n",
       "    </tr>\n",
       "    <tr>\n",
       "      <th>2</th>\n",
       "      <td>100950</td>\n",
       "      <td>pepper chicago</td>\n",
       "      <td>3</td>\n",
       "      <td>0</td>\n",
       "      <td>41</td>\n",
       "    </tr>\n",
       "    <tr>\n",
       "      <th>3</th>\n",
       "      <td>100950</td>\n",
       "      <td>nina sailor</td>\n",
       "      <td>2</td>\n",
       "      <td>0</td>\n",
       "      <td>35</td>\n",
       "    </tr>\n",
       "    <tr>\n",
       "      <th>4</th>\n",
       "      <td>100950</td>\n",
       "      <td>front salami</td>\n",
       "      <td>3</td>\n",
       "      <td>0</td>\n",
       "      <td>18</td>\n",
       "    </tr>\n",
       "  </tbody>\n",
       "</table>\n",
       "</div>"
      ],
      "text/plain": [
       "   USER ID         PRODUCT  RATING  USER INDEX  PRODUCT ID\n",
       "0   100950  secret postage       4           0          54\n",
       "1   100950     violet saga       4           0          70\n",
       "2   100950  pepper chicago       3           0          41\n",
       "3   100950     nina sailor       2           0          35\n",
       "4   100950    front salami       3           0          18"
      ]
     },
     "execution_count": 9,
     "metadata": {},
     "output_type": "execute_result"
    }
   ],
   "source": [
    "# encode users as indices\n",
    "le_user = preprocessing.LabelEncoder()\n",
    "le_user.fit(user_history['USER ID'])\n",
    "\n",
    "user_with_rating_index = le_user.transform(user_ratings['USER ID'])\n",
    "all_user_index = le_user.transform(user_history['USER ID'])\n",
    "user_ratings['USER INDEX'] = user_with_rating_index\n",
    "user_ratings.head()\n",
    "\n",
    "# encode products as indices\n",
    "le_product = preprocessing.LabelEncoder()\n",
    "le_product.fit(user_ratings['PRODUCT'])\n",
    "\n",
    "product_ID = le_product.transform(user_ratings['PRODUCT'])\n",
    "user_ratings['PRODUCT ID'] = product_ID\n",
    "user_ratings.head()"
   ]
  },
  {
   "cell_type": "markdown",
   "id": "7bf14379",
   "metadata": {},
   "source": [
    "We can take the data in user_history and turn it into a matrix using the following command:"
   ]
  },
  {
   "cell_type": "code",
   "execution_count": 10,
   "id": "47a64882",
   "metadata": {},
   "outputs": [
    {
     "data": {
      "text/plain": [
       "(4500, 100)"
      ]
     },
     "execution_count": 10,
     "metadata": {},
     "output_type": "execute_result"
    }
   ],
   "source": [
    "X = user_history.to_numpy()\n",
    "X.shape\n",
    "M = X[:, 1:]\n",
    "M.shape"
   ]
  },
  {
   "cell_type": "code",
   "execution_count": 11,
   "id": "19a2dde1",
   "metadata": {},
   "outputs": [
    {
     "data": {
      "image/png": "[encoded data removed]",
      "text/plain": [
       "<Figure size 432x288 with 1 Axes>"
      ]
     },
     "metadata": {
      "needs_background": "light"
     },
     "output_type": "display_data"
    },
    {
     "data": {
      "text/plain": [
       "(100, 100)"
      ]
     },
     "execution_count": 11,
     "metadata": {},
     "output_type": "execute_result"
    }
   ],
   "source": [
    "#Reduce Websites\n",
    "\n",
    "#C = (M.T @ M) / col_his\n",
    "\n",
    "U, S, Vt = np.linalg.svd(M)\n",
    "pc1 = Vt[:, 0]\n",
    "pc2 = Vt[:, 1]\n",
    "\n",
    "plt.scatter(pc1, pc2)\n",
    "plt.show()\n",
    "Vt.shape"
   ]
  },
  {
   "cell_type": "code",
   "execution_count": 12,
   "id": "2070ad05",
   "metadata": {},
   "outputs": [],
   "source": [
    "#Reduce users\n",
    "\n",
    "#U, S, Vt = np.linalg.svd(M.T)\n",
    "#pc1 = U[:, 0]\n",
    "#pc2 = U[:, 1]\n",
    "\n",
    "#plt.scatter(pc1, pc2)\n",
    "#plt.show()"
   ]
  },
  {
   "cell_type": "code",
   "execution_count": 13,
   "id": "a7ee42cf",
   "metadata": {},
   "outputs": [
    {
     "data": {
      "text/plain": [
       "[<matplotlib.lines.Line2D at 0x24877c04250>]"
      ]
     },
     "execution_count": 13,
     "metadata": {},
     "output_type": "execute_result"
    },
    {
     "data": {
      "image/png": "[encoded data removed]",
      "text/plain": [
       "<Figure size 1080x576 with 1 Axes>"
      ]
     },
     "metadata": {
      "needs_background": "light"
     },
     "output_type": "display_data"
    }
   ],
   "source": [
    "#finding the number of principal components\n",
    "\n",
    "scalar = StandardScaler()\n",
    "M_std = scalar.fit_transform(M)\n",
    "\n",
    "pca = PCA()\n",
    "pca.fit(M)\n",
    "pca.explained_variance_ratio_\n",
    "\n",
    "plt.figure(figsize= (15,8))\n",
    "plt.plot(range(1,101), S, \"bx-\")\n",
    "\n",
    "#plt.figure(figsize= (15,8))\n",
    "#plt.plot(range(1, 101), pca.explained_variance_ratio_.cumsum())\n",
    "#plt.xlabel(\"number of compoments\")\n",
    "#plt.ylabel(\"cumulative explained variance\")"
   ]
  },
  {
   "cell_type": "code",
   "execution_count": 14,
   "id": "ed7e913c",
   "metadata": {},
   "outputs": [
    {
     "data": {
      "text/plain": [
       "(4500, 9)"
      ]
     },
     "execution_count": 14,
     "metadata": {},
     "output_type": "execute_result"
    }
   ],
   "source": [
    "#pca = PCA(n_components=7)\n",
    "#pca.fit(M_std)\n",
    "\n",
    "#turning the inital matrix into a matrix of only the principal components\n",
    "V = Vt[:, :9]\n",
    "PC = M @ V \n",
    "PC.shape"
   ]
  },
  {
   "cell_type": "code",
   "execution_count": 15,
   "id": "706649bd",
   "metadata": {},
   "outputs": [
    {
     "data": {
      "image/png": "[encoded data removed]",
      "text/plain": [
       "<Figure size 432x288 with 1 Axes>"
      ]
     },
     "metadata": {
      "needs_background": "light"
     },
     "output_type": "display_data"
    },
    {
     "data": {
      "image/png": "[encoded data removed]",
      "text/plain": [
       "<Figure size 432x288 with 1 Axes>"
      ]
     },
     "metadata": {
      "needs_background": "light"
     },
     "output_type": "display_data"
    }
   ],
   "source": [
    "#k means \n",
    "\n",
    "from scipy.spatial.distance import cdist\n",
    "\n",
    "distortions = []\n",
    "inertias = []\n",
    "map1 = {}\n",
    "map2 = {}\n",
    "\n",
    "for k in range(1,11):\n",
    "    kmeans = KMeans(n_clusters=k)\n",
    "    l = kmeans.fit(PC)\n",
    "\n",
    "    distortions.append(sum(np.min(cdist(PC, kmeans.cluster_centers_,'euclidean'), axis=1)) / PC.shape[0])\n",
    "    inertias.append(kmeans.inertia_)\n",
    " \n",
    "    map1[k] = sum(np.min(cdist(PC, kmeans.cluster_centers_,'euclidean'), axis=1)) / PC.shape[0]\n",
    "    map2[k] = kmeans.inertia_\n",
    "\n",
    "\n",
    "plt.plot(range(1,11), distortions, 'bx-')\n",
    "plt.xlabel('Values of K')\n",
    "plt.ylabel('Distortion')\n",
    "plt.title('The Elbow Method using Distortion')\n",
    "plt.show()\n",
    "\n",
    "plt.plot(range(1,11), inertias, 'bx-')\n",
    "plt.xlabel('Values of K')\n",
    "plt.ylabel('Inertia')\n",
    "plt.title('The Elbow Method using Inertia')\n",
    "plt.show()\n",
    "\n",
    "# we choose 3 groups because of the elbow method"
   ]
  },
  {
   "cell_type": "code",
   "execution_count": 20,
   "id": "d7fb363f",
   "metadata": {},
   "outputs": [
    {
     "data": {
      "text/plain": [
       "101"
      ]
     },
     "execution_count": 20,
     "metadata": {},
     "output_type": "execute_result"
    }
   ],
   "source": [
    "#splitting the PC matrix into 3 groups\n",
    "\n"
   ]
  },
  {
   "cell_type": "markdown",
   "id": "bef02a68",
   "metadata": {},
   "source": [
    "For an introduction and short tutorial on pandas, you are invited to read over https://pandas.pydata.org/pandas-docs/stable/user_guide/10min.html."
   ]
  }
 ],
 "metadata": {
  "interpreter": {
   "hash": "1baa965d5efe3ac65b79dfc60c0d706280b1da80fedb7760faf2759126c4f253"
  },
  "kernelspec": {
   "display_name": "Python 3 (ipykernel)",
   "language": "python",
   "name": "python3"
  },
  "language_info": {
   "codemirror_mode": {
    "name": "ipython",
    "version": 3
   },
   "file_extension": ".py",
   "mimetype": "text/x-python",
   "name": "python",
   "nbconvert_exporter": "python",
   "pygments_lexer": "ipython3",
   "version": "3.8.10"
  }
 },
 "nbformat": 4,
 "nbformat_minor": 5
}
