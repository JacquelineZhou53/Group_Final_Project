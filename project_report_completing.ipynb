{
 "cells": [
  {
   "cell_type": "markdown",
   "id": "1afb6771",
   "metadata": {},
   "source": [
    "# Market Research -- User Rating Behaviors\n",
    "Group member: Gretch Zhang, Baihe Yuan, Jacqueline Zhou, Disheng Wen, Siyuan Chen\n",
    "\n",
    "### Description:\n",
    "This research predicts users' rating behaviors based on their browsing history. The process involves Principle Components Analysis, K-means and linear regression.\n"
   ]
  },
  {
   "cell_type": "markdown",
   "id": "8c2943b6",
   "metadata": {},
   "source": [
    "## 1) Import Data"
   ]
  },
  {
   "cell_type": "markdown",
   "id": "b22033a0",
   "metadata": {},
   "source": [
    "Import Packages and load data"
   ]
  },
  {
   "cell_type": "code",
   "execution_count": 2,
   "id": "80297a75",
   "metadata": {},
   "outputs": [],
   "source": [
    "# useful packages\n",
    "import numpy as np\n",
    "import csv\n",
    "import math\n",
    "import pandas as pd\n",
    "from sklearn import preprocessing\n",
    "from sklearn import datasets\n",
    "from sklearn import cluster\n",
    "import matplotlib.pyplot as plt\n",
    "import itertools\n",
    "from sklearn.decomposition import PCA\n",
    "import plotly.graph_objects as pgo"
   ]
  },
  {
   "cell_type": "code",
   "execution_count": 3,
   "id": "b4416c87",
   "metadata": {},
   "outputs": [],
   "source": [
    "# load data as a dataframe with pandas\n",
    "user_history = pd.read_csv(\"user_history.csv\")\n",
    "user_history_without_user_ID = user_history.drop(['USER ID'],axis=1)\n",
    "user_ratings = pd.read_csv(\"user_ratings.csv\")"
   ]
  },
  {
   "cell_type": "code",
   "execution_count": 4,
   "id": "cef50278",
   "metadata": {},
   "outputs": [
    {
     "data": {
      "text/html": [
       "<div>\n",
       "<style scoped>\n",
       "    .dataframe tbody tr th:only-of-type {\n",
       "        vertical-align: middle;\n",
       "    }\n",
       "\n",
       "    .dataframe tbody tr th {\n",
       "        vertical-align: top;\n",
       "    }\n",
       "\n",
       "    .dataframe thead th {\n",
       "        text-align: right;\n",
       "    }\n",
       "</style>\n",
       "<table border=\"1\" class=\"dataframe\">\n",
       "  <thead>\n",
       "    <tr style=\"text-align: right;\">\n",
       "      <th></th>\n",
       "      <th>USER ID</th>\n",
       "      <th>PRODUCT</th>\n",
       "      <th>RATING</th>\n",
       "      <th>USER INDEX</th>\n",
       "      <th>PRODUCT ID</th>\n",
       "    </tr>\n",
       "  </thead>\n",
       "  <tbody>\n",
       "    <tr>\n",
       "      <th>0</th>\n",
       "      <td>100950</td>\n",
       "      <td>secret postage</td>\n",
       "      <td>4</td>\n",
       "      <td>0</td>\n",
       "      <td>54</td>\n",
       "    </tr>\n",
       "    <tr>\n",
       "      <th>1</th>\n",
       "      <td>100950</td>\n",
       "      <td>violet saga</td>\n",
       "      <td>4</td>\n",
       "      <td>0</td>\n",
       "      <td>70</td>\n",
       "    </tr>\n",
       "    <tr>\n",
       "      <th>2</th>\n",
       "      <td>100950</td>\n",
       "      <td>pepper chicago</td>\n",
       "      <td>3</td>\n",
       "      <td>0</td>\n",
       "      <td>41</td>\n",
       "    </tr>\n",
       "    <tr>\n",
       "      <th>3</th>\n",
       "      <td>100950</td>\n",
       "      <td>nina sailor</td>\n",
       "      <td>2</td>\n",
       "      <td>0</td>\n",
       "      <td>35</td>\n",
       "    </tr>\n",
       "    <tr>\n",
       "      <th>4</th>\n",
       "      <td>100950</td>\n",
       "      <td>front salami</td>\n",
       "      <td>3</td>\n",
       "      <td>0</td>\n",
       "      <td>18</td>\n",
       "    </tr>\n",
       "  </tbody>\n",
       "</table>\n",
       "</div>"
      ],
      "text/plain": [
       "   USER ID         PRODUCT  RATING  USER INDEX  PRODUCT ID\n",
       "0   100950  secret postage       4           0          54\n",
       "1   100950     violet saga       4           0          70\n",
       "2   100950  pepper chicago       3           0          41\n",
       "3   100950     nina sailor       2           0          35\n",
       "4   100950    front salami       3           0          18"
      ]
     },
     "execution_count": 4,
     "metadata": {},
     "output_type": "execute_result"
    }
   ],
   "source": [
    "# encode users as indices\n",
    "le_user = preprocessing.LabelEncoder()\n",
    "le_user.fit(user_history['USER ID'])\n",
    "\n",
    "user_with_rating_index = le_user.transform(user_ratings['USER ID'])\n",
    "all_user_index = le_user.transform(user_history['USER ID'])\n",
    "user_ratings['USER INDEX'] = user_with_rating_index\n",
    "user_ratings.head()\n",
    "\n",
    "# encode products as indices\n",
    "le_product = preprocessing.LabelEncoder()\n",
    "le_product.fit(user_ratings['PRODUCT'])\n",
    "\n",
    "product_ID = le_product.transform(user_ratings['PRODUCT'])\n",
    "user_ratings['PRODUCT ID'] = product_ID\n",
    "user_ratings.head()"
   ]
  },
  {
   "cell_type": "markdown",
   "id": "da4e67e2",
   "metadata": {},
   "source": [
    "We can take the data in user_history and turn it into a matrix using the following command:"
   ]
  },
  {
   "cell_type": "code",
   "execution_count": 5,
   "id": "199851c8",
   "metadata": {},
   "outputs": [],
   "source": [
    "history_M = user_history.to_numpy()\n",
    "# leave out user ID column\n",
    "his_label = history_M[:,0]\n",
    "# .reshape((history_M[:,0].shape[0],1))\n",
    "his_M = history_M[:,1:]"
   ]
  },
  {
   "cell_type": "markdown",
   "id": "a3958c80",
   "metadata": {},
   "source": [
    "For an introduction and short tutorial on pandas, you are invited to read over https://pandas.pydata.org/pandas-docs/stable/user_guide/10min.html."
   ]
  },
  {
   "cell_type": "markdown",
   "id": "663b618f",
   "metadata": {},
   "source": [
    "## 2) Principal Component Analysis on User History data"
   ]
  },
  {
   "cell_type": "markdown",
   "id": "0f50a9d6",
   "metadata": {},
   "source": [
    "The goal for this section is to divide the data into clusters and find the principal features to be used in the next section, linear regression, to predict the users' ratings based on their history data."
   ]
  },
  {
   "cell_type": "markdown",
   "id": "b6a4e3ba",
   "metadata": {},
   "source": [
    "Now standardize the user history data and compute the SVD:"
   ]
  },
  {
   "cell_type": "code",
   "execution_count": 6,
   "id": "1cd46efd",
   "metadata": {},
   "outputs": [
    {
     "data": {
      "application/vnd.plotly.v1+json": {
       "config": {
        "plotlyServerURL": "https://plot.ly"
       },
       "data": [
        {
         "type": "bar",
         "x": [
          0,
          1,
          2,
          3,
          4,
          5,
          6,
          7,
          8,
          9,
          10,
          11,
          12,
          13,
          14,
          15,
          16,
          17,
          18,
          19,
          20,
          21,
          22,
          23,
          24,
          25,
          26,
          27,
          28,
          29,
          30,
          31,
          32,
          33,
          34,
          35,
          36,
          37,
          38,
          39,
          40,
          41,
          42,
          43,
          44,
          45,
          46,
          47,
          48,
          49,
          50,
          51,
          52,
          53,
          54,
          55,
          56,
          57,
          58,
          59,
          60,
          61,
          62,
          63,
          64,
          65,
          66,
          67,
          68,
          69,
          70,
          71,
          72,
          73,
          74,
          75,
          76,
          77,
          78,
          79,
          80,
          81,
          82,
          83,
          84,
          85,
          86,
          87,
          88,
          89,
          90,
          91,
          92,
          93,
          94,
          95,
          96,
          97,
          98,
          99
         ],
         "y": [
          379.9822086248155,
          363.7552552938518,
          315.0297379007096,
          101.22537666683122,
          99.52987192509265,
          97.7472558268866,
          93.34992609358024,
          86.19269054216255,
          75.33102798555792,
          32.79851985416125,
          28.435191788056176,
          27.913296865038163,
          23.402057433677786,
          22.461920586758502,
          21.9033648329157,
          19.965463289277974,
          18.80171876959671,
          17.724320723335605,
          17.149420410554015,
          16.818981290792454,
          16.64918326335405,
          16.491611824127887,
          16.410130011013955,
          16.341482618384482,
          16.190230057469268,
          16.133570432000084,
          16.09086568390525,
          16.084840952538404,
          15.99368652117439,
          15.828537264883733,
          15.791919089133398,
          15.755572934811672,
          15.674182461361864,
          15.577923508538515,
          15.555027369744261,
          15.53307220240487,
          15.47398211849798,
          15.44616714455332,
          15.38875355749328,
          15.385990315662973,
          15.312941349758109,
          15.268665560121734,
          15.225803322089039,
          15.209153233756078,
          15.132854754567633,
          15.08288088240754,
          15.050826902196743,
          14.995749589912343,
          14.911609225014928,
          14.894930470647422,
          14.876363096294629,
          14.822622179890844,
          14.770351115111247,
          14.70497791780544,
          14.678112655953052,
          14.614440334512475,
          14.58271002049633,
          14.546987424808025,
          14.514899347394834,
          14.484277008435686,
          14.453395329992995,
          14.381885180543756,
          14.346682990824256,
          14.29554233324818,
          14.241514442028038,
          14.22659676930319,
          14.164370991495014,
          14.145667173763755,
          14.081419146223892,
          14.051807970563193,
          14.024269264999447,
          13.99110742799105,
          13.949885028884433,
          13.905121617812668,
          13.858640221675694,
          13.79270323581266,
          13.767609911729878,
          13.68939366241538,
          13.66197204860368,
          13.639160448166182,
          13.583681619860803,
          13.50722961663999,
          13.47957444739832,
          13.43390320678055,
          13.405003050880799,
          13.352549326771209,
          13.300895502392013,
          13.258005412024861,
          13.189372779432368,
          13.173782487847896,
          13.066544627941113,
          13.03673911878709,
          12.97910252757813,
          12.860736615178535,
          12.844373712775873,
          12.78289181425076,
          12.740355704656906,
          12.570234976164771,
          12.351261599310083,
          2.473009268834624e-13
         ]
        }
       ],
       "layout": {
        "template": {
         "data": {
          "bar": [
           {
            "error_x": {
             "color": "#2a3f5f"
            },
            "error_y": {
             "color": "#2a3f5f"
            },
            "marker": {
             "line": {
              "color": "#E5ECF6",
              "width": 0.5
             },
             "pattern": {
              "fillmode": "overlay",
              "size": 10,
              "solidity": 0.2
             }
            },
            "type": "bar"
           }
          ],
          "barpolar": [
           {
            "marker": {
             "line": {
              "color": "#E5ECF6",
              "width": 0.5
             },
             "pattern": {
              "fillmode": "overlay",
              "size": 10,
              "solidity": 0.2
             }
            },
            "type": "barpolar"
           }
          ],
          "carpet": [
           {
            "aaxis": {
             "endlinecolor": "#2a3f5f",
             "gridcolor": "white",
             "linecolor": "white",
             "minorgridcolor": "white",
             "startlinecolor": "#2a3f5f"
            },
            "baxis": {
             "endlinecolor": "#2a3f5f",
             "gridcolor": "white",
             "linecolor": "white",
             "minorgridcolor": "white",
             "startlinecolor": "#2a3f5f"
            },
            "type": "carpet"
           }
          ],
          "choropleth": [
           {
            "colorbar": {
             "outlinewidth": 0,
             "ticks": ""
            },
            "type": "choropleth"
           }
          ],
          "contour": [
           {
            "colorbar": {
             "outlinewidth": 0,
             "ticks": ""
            },
            "colorscale": [
             [
              0,
              "#0d0887"
             ],
             [
              0.1111111111111111,
              "#46039f"
             ],
             [
              0.2222222222222222,
              "#7201a8"
             ],
             [
              0.3333333333333333,
              "#9c179e"
             ],
             [
              0.4444444444444444,
              "#bd3786"
             ],
             [
              0.5555555555555556,
              "#d8576b"
             ],
             [
              0.6666666666666666,
              "#ed7953"
             ],
             [
              0.7777777777777778,
              "#fb9f3a"
             ],
             [
              0.8888888888888888,
              "#fdca26"
             ],
             [
              1,
              "#f0f921"
             ]
            ],
            "type": "contour"
           }
          ],
          "contourcarpet": [
           {
            "colorbar": {
             "outlinewidth": 0,
             "ticks": ""
            },
            "type": "contourcarpet"
           }
          ],
          "heatmap": [
           {
            "colorbar": {
             "outlinewidth": 0,
             "ticks": ""
            },
            "colorscale": [
             [
              0,
              "#0d0887"
             ],
             [
              0.1111111111111111,
              "#46039f"
             ],
             [
              0.2222222222222222,
              "#7201a8"
             ],
             [
              0.3333333333333333,
              "#9c179e"
             ],
             [
              0.4444444444444444,
              "#bd3786"
             ],
             [
              0.5555555555555556,
              "#d8576b"
             ],
             [
              0.6666666666666666,
              "#ed7953"
             ],
             [
              0.7777777777777778,
              "#fb9f3a"
             ],
             [
              0.8888888888888888,
              "#fdca26"
             ],
             [
              1,
              "#f0f921"
             ]
            ],
            "type": "heatmap"
           }
          ],
          "heatmapgl": [
           {
            "colorbar": {
             "outlinewidth": 0,
             "ticks": ""
            },
            "colorscale": [
             [
              0,
              "#0d0887"
             ],
             [
              0.1111111111111111,
              "#46039f"
             ],
             [
              0.2222222222222222,
              "#7201a8"
             ],
             [
              0.3333333333333333,
              "#9c179e"
             ],
             [
              0.4444444444444444,
              "#bd3786"
             ],
             [
              0.5555555555555556,
              "#d8576b"
             ],
             [
              0.6666666666666666,
              "#ed7953"
             ],
             [
              0.7777777777777778,
              "#fb9f3a"
             ],
             [
              0.8888888888888888,
              "#fdca26"
             ],
             [
              1,
              "#f0f921"
             ]
            ],
            "type": "heatmapgl"
           }
          ],
          "histogram": [
           {
            "marker": {
             "pattern": {
              "fillmode": "overlay",
              "size": 10,
              "solidity": 0.2
             }
            },
            "type": "histogram"
           }
          ],
          "histogram2d": [
           {
            "colorbar": {
             "outlinewidth": 0,
             "ticks": ""
            },
            "colorscale": [
             [
              0,
              "#0d0887"
             ],
             [
              0.1111111111111111,
              "#46039f"
             ],
             [
              0.2222222222222222,
              "#7201a8"
             ],
             [
              0.3333333333333333,
              "#9c179e"
             ],
             [
              0.4444444444444444,
              "#bd3786"
             ],
             [
              0.5555555555555556,
              "#d8576b"
             ],
             [
              0.6666666666666666,
              "#ed7953"
             ],
             [
              0.7777777777777778,
              "#fb9f3a"
             ],
             [
              0.8888888888888888,
              "#fdca26"
             ],
             [
              1,
              "#f0f921"
             ]
            ],
            "type": "histogram2d"
           }
          ],
          "histogram2dcontour": [
           {
            "colorbar": {
             "outlinewidth": 0,
             "ticks": ""
            },
            "colorscale": [
             [
              0,
              "#0d0887"
             ],
             [
              0.1111111111111111,
              "#46039f"
             ],
             [
              0.2222222222222222,
              "#7201a8"
             ],
             [
              0.3333333333333333,
              "#9c179e"
             ],
             [
              0.4444444444444444,
              "#bd3786"
             ],
             [
              0.5555555555555556,
              "#d8576b"
             ],
             [
              0.6666666666666666,
              "#ed7953"
             ],
             [
              0.7777777777777778,
              "#fb9f3a"
             ],
             [
              0.8888888888888888,
              "#fdca26"
             ],
             [
              1,
              "#f0f921"
             ]
            ],
            "type": "histogram2dcontour"
           }
          ],
          "mesh3d": [
           {
            "colorbar": {
             "outlinewidth": 0,
             "ticks": ""
            },
            "type": "mesh3d"
           }
          ],
          "parcoords": [
           {
            "line": {
             "colorbar": {
              "outlinewidth": 0,
              "ticks": ""
             }
            },
            "type": "parcoords"
           }
          ],
          "pie": [
           {
            "automargin": true,
            "type": "pie"
           }
          ],
          "scatter": [
           {
            "marker": {
             "colorbar": {
              "outlinewidth": 0,
              "ticks": ""
             }
            },
            "type": "scatter"
           }
          ],
          "scatter3d": [
           {
            "line": {
             "colorbar": {
              "outlinewidth": 0,
              "ticks": ""
             }
            },
            "marker": {
             "colorbar": {
              "outlinewidth": 0,
              "ticks": ""
             }
            },
            "type": "scatter3d"
           }
          ],
          "scattercarpet": [
           {
            "marker": {
             "colorbar": {
              "outlinewidth": 0,
              "ticks": ""
             }
            },
            "type": "scattercarpet"
           }
          ],
          "scattergeo": [
           {
            "marker": {
             "colorbar": {
              "outlinewidth": 0,
              "ticks": ""
             }
            },
            "type": "scattergeo"
           }
          ],
          "scattergl": [
           {
            "marker": {
             "colorbar": {
              "outlinewidth": 0,
              "ticks": ""
             }
            },
            "type": "scattergl"
           }
          ],
          "scattermapbox": [
           {
            "marker": {
             "colorbar": {
              "outlinewidth": 0,
              "ticks": ""
             }
            },
            "type": "scattermapbox"
           }
          ],
          "scatterpolar": [
           {
            "marker": {
             "colorbar": {
              "outlinewidth": 0,
              "ticks": ""
             }
            },
            "type": "scatterpolar"
           }
          ],
          "scatterpolargl": [
           {
            "marker": {
             "colorbar": {
              "outlinewidth": 0,
              "ticks": ""
             }
            },
            "type": "scatterpolargl"
           }
          ],
          "scatterternary": [
           {
            "marker": {
             "colorbar": {
              "outlinewidth": 0,
              "ticks": ""
             }
            },
            "type": "scatterternary"
           }
          ],
          "surface": [
           {
            "colorbar": {
             "outlinewidth": 0,
             "ticks": ""
            },
            "colorscale": [
             [
              0,
              "#0d0887"
             ],
             [
              0.1111111111111111,
              "#46039f"
             ],
             [
              0.2222222222222222,
              "#7201a8"
             ],
             [
              0.3333333333333333,
              "#9c179e"
             ],
             [
              0.4444444444444444,
              "#bd3786"
             ],
             [
              0.5555555555555556,
              "#d8576b"
             ],
             [
              0.6666666666666666,
              "#ed7953"
             ],
             [
              0.7777777777777778,
              "#fb9f3a"
             ],
             [
              0.8888888888888888,
              "#fdca26"
             ],
             [
              1,
              "#f0f921"
             ]
            ],
            "type": "surface"
           }
          ],
          "table": [
           {
            "cells": {
             "fill": {
              "color": "#EBF0F8"
             },
             "line": {
              "color": "white"
             }
            },
            "header": {
             "fill": {
              "color": "#C8D4E3"
             },
             "line": {
              "color": "white"
             }
            },
            "type": "table"
           }
          ]
         },
         "layout": {
          "annotationdefaults": {
           "arrowcolor": "#2a3f5f",
           "arrowhead": 0,
           "arrowwidth": 1
          },
          "autotypenumbers": "strict",
          "coloraxis": {
           "colorbar": {
            "outlinewidth": 0,
            "ticks": ""
           }
          },
          "colorscale": {
           "diverging": [
            [
             0,
             "#8e0152"
            ],
            [
             0.1,
             "#c51b7d"
            ],
            [
             0.2,
             "#de77ae"
            ],
            [
             0.3,
             "#f1b6da"
            ],
            [
             0.4,
             "#fde0ef"
            ],
            [
             0.5,
             "#f7f7f7"
            ],
            [
             0.6,
             "#e6f5d0"
            ],
            [
             0.7,
             "#b8e186"
            ],
            [
             0.8,
             "#7fbc41"
            ],
            [
             0.9,
             "#4d9221"
            ],
            [
             1,
             "#276419"
            ]
           ],
           "sequential": [
            [
             0,
             "#0d0887"
            ],
            [
             0.1111111111111111,
             "#46039f"
            ],
            [
             0.2222222222222222,
             "#7201a8"
            ],
            [
             0.3333333333333333,
             "#9c179e"
            ],
            [
             0.4444444444444444,
             "#bd3786"
            ],
            [
             0.5555555555555556,
             "#d8576b"
            ],
            [
             0.6666666666666666,
             "#ed7953"
            ],
            [
             0.7777777777777778,
             "#fb9f3a"
            ],
            [
             0.8888888888888888,
             "#fdca26"
            ],
            [
             1,
             "#f0f921"
            ]
           ],
           "sequentialminus": [
            [
             0,
             "#0d0887"
            ],
            [
             0.1111111111111111,
             "#46039f"
            ],
            [
             0.2222222222222222,
             "#7201a8"
            ],
            [
             0.3333333333333333,
             "#9c179e"
            ],
            [
             0.4444444444444444,
             "#bd3786"
            ],
            [
             0.5555555555555556,
             "#d8576b"
            ],
            [
             0.6666666666666666,
             "#ed7953"
            ],
            [
             0.7777777777777778,
             "#fb9f3a"
            ],
            [
             0.8888888888888888,
             "#fdca26"
            ],
            [
             1,
             "#f0f921"
            ]
           ]
          },
          "colorway": [
           "#636efa",
           "#EF553B",
           "#00cc96",
           "#ab63fa",
           "#FFA15A",
           "#19d3f3",
           "#FF6692",
           "#B6E880",
           "#FF97FF",
           "#FECB52"
          ],
          "font": {
           "color": "#2a3f5f"
          },
          "geo": {
           "bgcolor": "white",
           "lakecolor": "white",
           "landcolor": "#E5ECF6",
           "showlakes": true,
           "showland": true,
           "subunitcolor": "white"
          },
          "hoverlabel": {
           "align": "left"
          },
          "hovermode": "closest",
          "mapbox": {
           "style": "light"
          },
          "paper_bgcolor": "white",
          "plot_bgcolor": "#E5ECF6",
          "polar": {
           "angularaxis": {
            "gridcolor": "white",
            "linecolor": "white",
            "ticks": ""
           },
           "bgcolor": "#E5ECF6",
           "radialaxis": {
            "gridcolor": "white",
            "linecolor": "white",
            "ticks": ""
           }
          },
          "scene": {
           "xaxis": {
            "backgroundcolor": "#E5ECF6",
            "gridcolor": "white",
            "gridwidth": 2,
            "linecolor": "white",
            "showbackground": true,
            "ticks": "",
            "zerolinecolor": "white"
           },
           "yaxis": {
            "backgroundcolor": "#E5ECF6",
            "gridcolor": "white",
            "gridwidth": 2,
            "linecolor": "white",
            "showbackground": true,
            "ticks": "",
            "zerolinecolor": "white"
           },
           "zaxis": {
            "backgroundcolor": "#E5ECF6",
            "gridcolor": "white",
            "gridwidth": 2,
            "linecolor": "white",
            "showbackground": true,
            "ticks": "",
            "zerolinecolor": "white"
           }
          },
          "shapedefaults": {
           "line": {
            "color": "#2a3f5f"
           }
          },
          "ternary": {
           "aaxis": {
            "gridcolor": "white",
            "linecolor": "white",
            "ticks": ""
           },
           "baxis": {
            "gridcolor": "white",
            "linecolor": "white",
            "ticks": ""
           },
           "bgcolor": "#E5ECF6",
           "caxis": {
            "gridcolor": "white",
            "linecolor": "white",
            "ticks": ""
           }
          },
          "title": {
           "x": 0.05
          },
          "xaxis": {
           "automargin": true,
           "gridcolor": "white",
           "linecolor": "white",
           "ticks": "",
           "title": {
            "standoff": 15
           },
           "zerolinecolor": "white",
           "zerolinewidth": 2
          },
          "yaxis": {
           "automargin": true,
           "gridcolor": "white",
           "linecolor": "white",
           "ticks": "",
           "title": {
            "standoff": 15
           },
           "zerolinecolor": "white",
           "zerolinewidth": 2
          }
         }
        }
       }
      }
     },
     "metadata": {},
     "output_type": "display_data"
    }
   ],
   "source": [
    "# subtract the mean\n",
    "his_meanzero = his_M - np.mean(his_M, axis=1, keepdims=True)\n",
    "# divide by the standard deviation\n",
    "his_std = his_meanzero/np.std(his_meanzero, axis=1, keepdims=True)\n",
    "# SVD\n",
    "U, S, VT = np.linalg.svd(his_std, full_matrices=False)\n",
    "\n",
    "# make a figure showing the singular values\n",
    "svd_figure = pgo.Figure([pgo.Bar(x=np.arange(len(S)), y=S)])\n",
    "svd_figure.show()"
   ]
  },
  {
   "cell_type": "markdown",
   "id": "c70ada2f",
   "metadata": {},
   "source": [
    "We conclude that we will use the first three eigenvectors of the standardized data matrix.\n",
    "\n",
    "Now compute the eigenvectors of history data's covariance matrix:"
   ]
  },
  {
   "cell_type": "code",
   "execution_count": 7,
   "id": "40eda21f",
   "metadata": {},
   "outputs": [],
   "source": [
    "# eigenvector contained in v\n",
    "his_cov = np.cov(his_std.T)\n",
    "w, v = np.linalg.eig(his_cov)"
   ]
  },
  {
   "cell_type": "markdown",
   "id": "8617d2ba",
   "metadata": {},
   "source": [
    "Try different combinations of the first tree eigenvectors as the feature matrix.\n",
    "\n",
    "We produce the result of the PCA in this formula:\n",
    "$Data = Feature^{T} * StdMatrix^{T}$\n",
    "\n",
    "Then, we plot the transpose of the results in scatter to observe any possible patterns."
   ]
  },
  {
   "cell_type": "code",
   "execution_count": 8,
   "id": "b40f46ab",
   "metadata": {},
   "outputs": [],
   "source": [
    "# state the eigenvector to be used\n",
    "v1 = (v[:,0]).real\n",
    "v1 = v1.reshape((v1.shape[0], 1))\n",
    "v2 = (v[:,1]).real\n",
    "v2 = v2.reshape((v2.shape[0], 1))\n",
    "v3 = (v[:,2]).real\n",
    "v3 = v3.reshape((v3.shape[0], 1))"
   ]
  },
  {
   "cell_type": "code",
   "execution_count": 9,
   "id": "472e8fea",
   "metadata": {},
   "outputs": [
    {
     "data": {
      "text/plain": [
       "<matplotlib.collections.PathCollection at 0x247f5f6ac70>"
      ]
     },
     "execution_count": 9,
     "metadata": {},
     "output_type": "execute_result"
    },
    {
     "data": {
      "image/png": "[encoded data removed]",
      "text/plain": [
       "<Figure size 432x288 with 1 Axes>"
      ]
     },
     "metadata": {
      "needs_background": "light"
     },
     "output_type": "display_data"
    }
   ],
   "source": [
    "# v1 and v2\n",
    "f_12 = np.concatenate((v1, v2), axis = 1)\n",
    "his_12 = (his_std @ f_12).T\n",
    "plt.scatter(his_12[0],his_12[1])"
   ]
  },
  {
   "cell_type": "code",
   "execution_count": 10,
   "id": "37278e2d",
   "metadata": {},
   "outputs": [
    {
     "data": {
      "text/plain": [
       "<matplotlib.collections.PathCollection at 0x247f605e8b0>"
      ]
     },
     "execution_count": 10,
     "metadata": {},
     "output_type": "execute_result"
    },
    {
     "data": {
      "image/png": "[encoded data removed]",
      "text/plain": [
       "<Figure size 432x288 with 1 Axes>"
      ]
     },
     "metadata": {
      "needs_background": "light"
     },
     "output_type": "display_data"
    }
   ],
   "source": [
    "# v1 and v3\n",
    "f_13 = np.concatenate((v1, v3), axis = 1)\n",
    "his_13 = (his_std @ f_13).T\n",
    "plt.scatter(his_13[0],his_13[1])"
   ]
  },
  {
   "cell_type": "code",
   "execution_count": 11,
   "id": "669cb01b",
   "metadata": {},
   "outputs": [
    {
     "data": {
      "text/plain": [
       "<matplotlib.collections.PathCollection at 0x247f60c7640>"
      ]
     },
     "execution_count": 11,
     "metadata": {},
     "output_type": "execute_result"
    },
    {
     "data": {
      "image/png": "[encoded data removed]",
      "text/plain": [
       "<Figure size 432x288 with 1 Axes>"
      ]
     },
     "metadata": {
      "needs_background": "light"
     },
     "output_type": "display_data"
    }
   ],
   "source": [
    "# v2 and v3\n",
    "f_23 = np.concatenate((v2, v3), axis = 1)\n",
    "his_23 = (his_std @ f_23).T\n",
    "plt.scatter(his_23[0],his_23[1])"
   ]
  },
  {
   "cell_type": "markdown",
   "id": "5b198505",
   "metadata": {},
   "source": [
    "When using the first two eigenvalues to project the history data, it did give the best classification result, thus we decide to use the first two eigen values **v1** and **v2**.\n",
    "\n",
    "As shown in the first graph, we will classify the data into 3 clusters in the next K-means step."
   ]
  },
  {
   "cell_type": "markdown",
   "id": "649c9c78",
   "metadata": {},
   "source": [
    "## 3) K-means clustering"
   ]
  },
  {
   "cell_type": "markdown",
   "id": "b829670e",
   "metadata": {},
   "source": [
    "Now we use k-means method to cluster the data into 3 parts."
   ]
  },
  {
   "cell_type": "code",
   "execution_count": 12,
   "id": "31adf585",
   "metadata": {
    "scrolled": true
   },
   "outputs": [
    {
     "name": "stdout",
     "output_type": "stream",
     "text": [
      "[[ 1.00950000e+05  7.31094618e-01 -8.94753669e-01 ...  1.58980665e-01\n",
      "   1.31720742e-01  1.23296336e-01]\n",
      " [ 1.00956000e+05  1.10938964e+00 -6.69580389e-01 ... -3.53934244e-01\n",
      "   4.24670322e-01 -1.03733797e+00]\n",
      " [ 1.00962000e+05 -1.02138211e+00  2.91023343e+00 ... -1.02985095e+00\n",
      "  -7.75577031e-01  2.19481007e-01]\n",
      " ...\n",
      " [ 1.25629000e+05  9.11668165e-01 -7.27845322e-01 ... -1.49643757e-02\n",
      "   2.22371361e-02 -7.33299870e-01]\n",
      " [ 1.25636000e+05 -1.24583943e+00  1.54151693e+00 ... -3.22959687e-01\n",
      "  -9.17915211e-01 -7.03656886e-01]\n",
      " [ 1.25645000e+05 -8.32821846e-01  5.39011111e-01 ... -4.25121028e-01\n",
      "  -4.56042856e-01 -1.13749788e+00]]\n"
     ]
    },
    {
     "data": {
      "image/png": "[encoded data removed]",
      "text/plain": [
       "<Figure size 432x288 with 1 Axes>"
      ]
     },
     "metadata": {
      "needs_background": "light"
     },
     "output_type": "display_data"
    }
   ],
   "source": [
    "from sklearn.cluster import KMeans\n",
    "chis_12 = KMeans(n_clusters=3)\n",
    "his_label = his_label.reshape((his_label.shape[0],1))\n",
    "his12 = np.concatenate((his_label,his_std), axis = 1)\n",
    "print(his12)\n",
    "#his12=np.transpose(his12)\n",
    "chis_12.fit(his12[:,1:])\n",
    "\n",
    "plt.figure()\n",
    "for i in range(3):\n",
    "    plt.plot(his12[chis_12.labels_==i, 1], his12[chis_12.labels_==i, 2], 'o')\n"
   ]
  },
  {
   "cell_type": "markdown",
   "id": "b2be3202",
   "metadata": {},
   "source": [
    "When separatig the clusters, we want to keep the labels (User index) on track in order to place the data after PCA process back in place."
   ]
  },
  {
   "cell_type": "code",
   "execution_count": 13,
   "id": "795a6b62",
   "metadata": {},
   "outputs": [],
   "source": [
    "# cluster 1\n",
    "c1 = his12[chis_12.labels_==0]\n",
    "c1_label = c1[:,0].reshape((c1[:,0].shape[0],1))\n",
    "c1 = c1[:,1:]\n",
    "# cluster 2\n",
    "c2=his12[chis_12.labels_==1]\n",
    "c2_label = c2[:,0].reshape((c2[:,0].shape[0],1))\n",
    "c2 = c2[:,1:]\n",
    "# cluster 3\n",
    "c3=his12[chis_12.labels_==2]\n",
    "c3_label = c3[:,0].reshape((c3[:,0].shape[0],1))\n",
    "c3 = c3[:,1:]"
   ]
  },
  {
   "cell_type": "markdown",
   "id": "50e6b9b3",
   "metadata": {},
   "source": [
    "## 4) PCA on clusters"
   ]
  },
  {
   "cell_type": "markdown",
   "id": "71ae4ea8",
   "metadata": {},
   "source": [
    "1. Standardize the first cluster"
   ]
  },
  {
   "cell_type": "code",
   "execution_count": 14,
   "id": "0bbdf877",
   "metadata": {},
   "outputs": [
    {
     "data": {
      "application/vnd.plotly.v1+json": {
       "config": {
        "plotlyServerURL": "https://plot.ly"
       },
       "data": [
        {
         "type": "bar",
         "x": [
          0,
          1,
          2,
          3,
          4,
          5,
          6,
          7,
          8,
          9,
          10,
          11,
          12,
          13,
          14,
          15,
          16,
          17,
          18,
          19,
          20,
          21,
          22,
          23,
          24,
          25,
          26,
          27,
          28,
          29,
          30,
          31,
          32,
          33,
          34,
          35,
          36,
          37,
          38,
          39,
          40,
          41,
          42,
          43,
          44,
          45,
          46,
          47,
          48,
          49,
          50,
          51,
          52,
          53,
          54,
          55,
          56,
          57,
          58,
          59,
          60,
          61,
          62,
          63,
          64,
          65,
          66,
          67,
          68,
          69,
          70,
          71,
          72,
          73,
          74,
          75,
          76,
          77,
          78,
          79,
          80,
          81,
          82,
          83,
          84,
          85,
          86,
          87,
          88,
          89,
          90,
          91,
          92,
          93,
          94,
          95,
          96,
          97,
          98,
          99
         ],
         "y": [
          355.3734605536242,
          98.04127363475781,
          81.64081278702251,
          22.602320764367917,
          19.613257939645983,
          18.064499445612572,
          11.066606835914747,
          10.926777026879071,
          10.449675497786092,
          10.201140432890279,
          9.932645771379494,
          9.912295692572052,
          9.84403058403806,
          9.822337820110691,
          9.694903221470419,
          9.647460650270931,
          9.632830321186251,
          9.571401179786417,
          9.476288176658716,
          9.36432877071525,
          9.334589600259775,
          9.268568042553945,
          9.252595764988547,
          9.222144471498986,
          9.176766745273609,
          9.128677672997492,
          9.094803884180912,
          9.078446382239488,
          8.999675203179866,
          8.96064342145225,
          8.930228887464207,
          8.92244411026552,
          8.862599835687782,
          8.836045234311506,
          8.757172027402884,
          8.731736533142259,
          8.704312391600169,
          8.662687810548608,
          8.616365481029847,
          8.565146628584458,
          8.547434748390366,
          8.494528054802892,
          8.458144775644511,
          8.384262464522534,
          8.36513218877146,
          8.30812680365154,
          8.253879325378751,
          8.198453026301657,
          8.16541947393937,
          8.121870863699407,
          8.088614763267895,
          8.080239517885248,
          8.057379991302355,
          8.041748283233643,
          7.975060339418021,
          7.950975788814777,
          7.905916715392495,
          7.86662498565623,
          7.831350254410548,
          7.792041184573681,
          7.720273146713822,
          7.679754219440532,
          7.663998085138475,
          7.629661168308199,
          7.603514979042064,
          7.574052786565348,
          7.528239706001756,
          7.505173850328821,
          7.429002327580924,
          7.393300403450179,
          7.358723651834255,
          7.33801346074179,
          7.264271341096709,
          7.199736294665819,
          7.169382109268119,
          7.125336984004848,
          7.09985648494063,
          7.03930999513228,
          7.023372145221298,
          6.9790916173228,
          6.936183532833775,
          6.918080585928321,
          6.857231760682259,
          6.838319863199139,
          6.797654521901854,
          6.717459268457225,
          6.677572714285338,
          6.609768675598322,
          6.578943525015702,
          6.5352318238684575,
          6.445407958286776,
          6.367779765123346,
          6.2828879310385135,
          6.193358785275013,
          6.171352678735359,
          6.08716163359585,
          6.04702301678915,
          5.968791732110574,
          5.883597926983875,
          1.940763305884808e-13
         ]
        }
       ],
       "layout": {
        "template": {
         "data": {
          "bar": [
           {
            "error_x": {
             "color": "#2a3f5f"
            },
            "error_y": {
             "color": "#2a3f5f"
            },
            "marker": {
             "line": {
              "color": "#E5ECF6",
              "width": 0.5
             },
             "pattern": {
              "fillmode": "overlay",
              "size": 10,
              "solidity": 0.2
             }
            },
            "type": "bar"
           }
          ],
          "barpolar": [
           {
            "marker": {
             "line": {
              "color": "#E5ECF6",
              "width": 0.5
             },
             "pattern": {
              "fillmode": "overlay",
              "size": 10,
              "solidity": 0.2
             }
            },
            "type": "barpolar"
           }
          ],
          "carpet": [
           {
            "aaxis": {
             "endlinecolor": "#2a3f5f",
             "gridcolor": "white",
             "linecolor": "white",
             "minorgridcolor": "white",
             "startlinecolor": "#2a3f5f"
            },
            "baxis": {
             "endlinecolor": "#2a3f5f",
             "gridcolor": "white",
             "linecolor": "white",
             "minorgridcolor": "white",
             "startlinecolor": "#2a3f5f"
            },
            "type": "carpet"
           }
          ],
          "choropleth": [
           {
            "colorbar": {
             "outlinewidth": 0,
             "ticks": ""
            },
            "type": "choropleth"
           }
          ],
          "contour": [
           {
            "colorbar": {
             "outlinewidth": 0,
             "ticks": ""
            },
            "colorscale": [
             [
              0,
              "#0d0887"
             ],
             [
              0.1111111111111111,
              "#46039f"
             ],
             [
              0.2222222222222222,
              "#7201a8"
             ],
             [
              0.3333333333333333,
              "#9c179e"
             ],
             [
              0.4444444444444444,
              "#bd3786"
             ],
             [
              0.5555555555555556,
              "#d8576b"
             ],
             [
              0.6666666666666666,
              "#ed7953"
             ],
             [
              0.7777777777777778,
              "#fb9f3a"
             ],
             [
              0.8888888888888888,
              "#fdca26"
             ],
             [
              1,
              "#f0f921"
             ]
            ],
            "type": "contour"
           }
          ],
          "contourcarpet": [
           {
            "colorbar": {
             "outlinewidth": 0,
             "ticks": ""
            },
            "type": "contourcarpet"
           }
          ],
          "heatmap": [
           {
            "colorbar": {
             "outlinewidth": 0,
             "ticks": ""
            },
            "colorscale": [
             [
              0,
              "#0d0887"
             ],
             [
              0.1111111111111111,
              "#46039f"
             ],
             [
              0.2222222222222222,
              "#7201a8"
             ],
             [
              0.3333333333333333,
              "#9c179e"
             ],
             [
              0.4444444444444444,
              "#bd3786"
             ],
             [
              0.5555555555555556,
              "#d8576b"
             ],
             [
              0.6666666666666666,
              "#ed7953"
             ],
             [
              0.7777777777777778,
              "#fb9f3a"
             ],
             [
              0.8888888888888888,
              "#fdca26"
             ],
             [
              1,
              "#f0f921"
             ]
            ],
            "type": "heatmap"
           }
          ],
          "heatmapgl": [
           {
            "colorbar": {
             "outlinewidth": 0,
             "ticks": ""
            },
            "colorscale": [
             [
              0,
              "#0d0887"
             ],
             [
              0.1111111111111111,
              "#46039f"
             ],
             [
              0.2222222222222222,
              "#7201a8"
             ],
             [
              0.3333333333333333,
              "#9c179e"
             ],
             [
              0.4444444444444444,
              "#bd3786"
             ],
             [
              0.5555555555555556,
              "#d8576b"
             ],
             [
              0.6666666666666666,
              "#ed7953"
             ],
             [
              0.7777777777777778,
              "#fb9f3a"
             ],
             [
              0.8888888888888888,
              "#fdca26"
             ],
             [
              1,
              "#f0f921"
             ]
            ],
            "type": "heatmapgl"
           }
          ],
          "histogram": [
           {
            "marker": {
             "pattern": {
              "fillmode": "overlay",
              "size": 10,
              "solidity": 0.2
             }
            },
            "type": "histogram"
           }
          ],
          "histogram2d": [
           {
            "colorbar": {
             "outlinewidth": 0,
             "ticks": ""
            },
            "colorscale": [
             [
              0,
              "#0d0887"
             ],
             [
              0.1111111111111111,
              "#46039f"
             ],
             [
              0.2222222222222222,
              "#7201a8"
             ],
             [
              0.3333333333333333,
              "#9c179e"
             ],
             [
              0.4444444444444444,
              "#bd3786"
             ],
             [
              0.5555555555555556,
              "#d8576b"
             ],
             [
              0.6666666666666666,
              "#ed7953"
             ],
             [
              0.7777777777777778,
              "#fb9f3a"
             ],
             [
              0.8888888888888888,
              "#fdca26"
             ],
             [
              1,
              "#f0f921"
             ]
            ],
            "type": "histogram2d"
           }
          ],
          "histogram2dcontour": [
           {
            "colorbar": {
             "outlinewidth": 0,
             "ticks": ""
            },
            "colorscale": [
             [
              0,
              "#0d0887"
             ],
             [
              0.1111111111111111,
              "#46039f"
             ],
             [
              0.2222222222222222,
              "#7201a8"
             ],
             [
              0.3333333333333333,
              "#9c179e"
             ],
             [
              0.4444444444444444,
              "#bd3786"
             ],
             [
              0.5555555555555556,
              "#d8576b"
             ],
             [
              0.6666666666666666,
              "#ed7953"
             ],
             [
              0.7777777777777778,
              "#fb9f3a"
             ],
             [
              0.8888888888888888,
              "#fdca26"
             ],
             [
              1,
              "#f0f921"
             ]
            ],
            "type": "histogram2dcontour"
           }
          ],
          "mesh3d": [
           {
            "colorbar": {
             "outlinewidth": 0,
             "ticks": ""
            },
            "type": "mesh3d"
           }
          ],
          "parcoords": [
           {
            "line": {
             "colorbar": {
              "outlinewidth": 0,
              "ticks": ""
             }
            },
            "type": "parcoords"
           }
          ],
          "pie": [
           {
            "automargin": true,
            "type": "pie"
           }
          ],
          "scatter": [
           {
            "marker": {
             "colorbar": {
              "outlinewidth": 0,
              "ticks": ""
             }
            },
            "type": "scatter"
           }
          ],
          "scatter3d": [
           {
            "line": {
             "colorbar": {
              "outlinewidth": 0,
              "ticks": ""
             }
            },
            "marker": {
             "colorbar": {
              "outlinewidth": 0,
              "ticks": ""
             }
            },
            "type": "scatter3d"
           }
          ],
          "scattercarpet": [
           {
            "marker": {
             "colorbar": {
              "outlinewidth": 0,
              "ticks": ""
             }
            },
            "type": "scattercarpet"
           }
          ],
          "scattergeo": [
           {
            "marker": {
             "colorbar": {
              "outlinewidth": 0,
              "ticks": ""
             }
            },
            "type": "scattergeo"
           }
          ],
          "scattergl": [
           {
            "marker": {
             "colorbar": {
              "outlinewidth": 0,
              "ticks": ""
             }
            },
            "type": "scattergl"
           }
          ],
          "scattermapbox": [
           {
            "marker": {
             "colorbar": {
              "outlinewidth": 0,
              "ticks": ""
             }
            },
            "type": "scattermapbox"
           }
          ],
          "scatterpolar": [
           {
            "marker": {
             "colorbar": {
              "outlinewidth": 0,
              "ticks": ""
             }
            },
            "type": "scatterpolar"
           }
          ],
          "scatterpolargl": [
           {
            "marker": {
             "colorbar": {
              "outlinewidth": 0,
              "ticks": ""
             }
            },
            "type": "scatterpolargl"
           }
          ],
          "scatterternary": [
           {
            "marker": {
             "colorbar": {
              "outlinewidth": 0,
              "ticks": ""
             }
            },
            "type": "scatterternary"
           }
          ],
          "surface": [
           {
            "colorbar": {
             "outlinewidth": 0,
             "ticks": ""
            },
            "colorscale": [
             [
              0,
              "#0d0887"
             ],
             [
              0.1111111111111111,
              "#46039f"
             ],
             [
              0.2222222222222222,
              "#7201a8"
             ],
             [
              0.3333333333333333,
              "#9c179e"
             ],
             [
              0.4444444444444444,
              "#bd3786"
             ],
             [
              0.5555555555555556,
              "#d8576b"
             ],
             [
              0.6666666666666666,
              "#ed7953"
             ],
             [
              0.7777777777777778,
              "#fb9f3a"
             ],
             [
              0.8888888888888888,
              "#fdca26"
             ],
             [
              1,
              "#f0f921"
             ]
            ],
            "type": "surface"
           }
          ],
          "table": [
           {
            "cells": {
             "fill": {
              "color": "#EBF0F8"
             },
             "line": {
              "color": "white"
             }
            },
            "header": {
             "fill": {
              "color": "#C8D4E3"
             },
             "line": {
              "color": "white"
             }
            },
            "type": "table"
           }
          ]
         },
         "layout": {
          "annotationdefaults": {
           "arrowcolor": "#2a3f5f",
           "arrowhead": 0,
           "arrowwidth": 1
          },
          "autotypenumbers": "strict",
          "coloraxis": {
           "colorbar": {
            "outlinewidth": 0,
            "ticks": ""
           }
          },
          "colorscale": {
           "diverging": [
            [
             0,
             "#8e0152"
            ],
            [
             0.1,
             "#c51b7d"
            ],
            [
             0.2,
             "#de77ae"
            ],
            [
             0.3,
             "#f1b6da"
            ],
            [
             0.4,
             "#fde0ef"
            ],
            [
             0.5,
             "#f7f7f7"
            ],
            [
             0.6,
             "#e6f5d0"
            ],
            [
             0.7,
             "#b8e186"
            ],
            [
             0.8,
             "#7fbc41"
            ],
            [
             0.9,
             "#4d9221"
            ],
            [
             1,
             "#276419"
            ]
           ],
           "sequential": [
            [
             0,
             "#0d0887"
            ],
            [
             0.1111111111111111,
             "#46039f"
            ],
            [
             0.2222222222222222,
             "#7201a8"
            ],
            [
             0.3333333333333333,
             "#9c179e"
            ],
            [
             0.4444444444444444,
             "#bd3786"
            ],
            [
             0.5555555555555556,
             "#d8576b"
            ],
            [
             0.6666666666666666,
             "#ed7953"
            ],
            [
             0.7777777777777778,
             "#fb9f3a"
            ],
            [
             0.8888888888888888,
             "#fdca26"
            ],
            [
             1,
             "#f0f921"
            ]
           ],
           "sequentialminus": [
            [
             0,
             "#0d0887"
            ],
            [
             0.1111111111111111,
             "#46039f"
            ],
            [
             0.2222222222222222,
             "#7201a8"
            ],
            [
             0.3333333333333333,
             "#9c179e"
            ],
            [
             0.4444444444444444,
             "#bd3786"
            ],
            [
             0.5555555555555556,
             "#d8576b"
            ],
            [
             0.6666666666666666,
             "#ed7953"
            ],
            [
             0.7777777777777778,
             "#fb9f3a"
            ],
            [
             0.8888888888888888,
             "#fdca26"
            ],
            [
             1,
             "#f0f921"
            ]
           ]
          },
          "colorway": [
           "#636efa",
           "#EF553B",
           "#00cc96",
           "#ab63fa",
           "#FFA15A",
           "#19d3f3",
           "#FF6692",
           "#B6E880",
           "#FF97FF",
           "#FECB52"
          ],
          "font": {
           "color": "#2a3f5f"
          },
          "geo": {
           "bgcolor": "white",
           "lakecolor": "white",
           "landcolor": "#E5ECF6",
           "showlakes": true,
           "showland": true,
           "subunitcolor": "white"
          },
          "hoverlabel": {
           "align": "left"
          },
          "hovermode": "closest",
          "mapbox": {
           "style": "light"
          },
          "paper_bgcolor": "white",
          "plot_bgcolor": "#E5ECF6",
          "polar": {
           "angularaxis": {
            "gridcolor": "white",
            "linecolor": "white",
            "ticks": ""
           },
           "bgcolor": "#E5ECF6",
           "radialaxis": {
            "gridcolor": "white",
            "linecolor": "white",
            "ticks": ""
           }
          },
          "scene": {
           "xaxis": {
            "backgroundcolor": "#E5ECF6",
            "gridcolor": "white",
            "gridwidth": 2,
            "linecolor": "white",
            "showbackground": true,
            "ticks": "",
            "zerolinecolor": "white"
           },
           "yaxis": {
            "backgroundcolor": "#E5ECF6",
            "gridcolor": "white",
            "gridwidth": 2,
            "linecolor": "white",
            "showbackground": true,
            "ticks": "",
            "zerolinecolor": "white"
           },
           "zaxis": {
            "backgroundcolor": "#E5ECF6",
            "gridcolor": "white",
            "gridwidth": 2,
            "linecolor": "white",
            "showbackground": true,
            "ticks": "",
            "zerolinecolor": "white"
           }
          },
          "shapedefaults": {
           "line": {
            "color": "#2a3f5f"
           }
          },
          "ternary": {
           "aaxis": {
            "gridcolor": "white",
            "linecolor": "white",
            "ticks": ""
           },
           "baxis": {
            "gridcolor": "white",
            "linecolor": "white",
            "ticks": ""
           },
           "bgcolor": "#E5ECF6",
           "caxis": {
            "gridcolor": "white",
            "linecolor": "white",
            "ticks": ""
           }
          },
          "title": {
           "x": 0.05
          },
          "xaxis": {
           "automargin": true,
           "gridcolor": "white",
           "linecolor": "white",
           "ticks": "",
           "title": {
            "standoff": 15
           },
           "zerolinecolor": "white",
           "zerolinewidth": 2
          },
          "yaxis": {
           "automargin": true,
           "gridcolor": "white",
           "linecolor": "white",
           "ticks": "",
           "title": {
            "standoff": 15
           },
           "zerolinecolor": "white",
           "zerolinewidth": 2
          }
         }
        }
       }
      }
     },
     "metadata": {},
     "output_type": "display_data"
    }
   ],
   "source": [
    "# subtract the mean\n",
    "c1_meanzero = c1 - np.mean(c2, axis=1, keepdims=True)\n",
    "# divide by the standard deviation\n",
    "c1_std = c1_meanzero/np.std(c1_meanzero, axis=1, keepdims=True)\n",
    "# SVD\n",
    "U, S, VT = np.linalg.svd(c1_std, full_matrices=False)\n",
    "\n",
    "# make a figure showing the singular values\n",
    "svd_figure = pgo.Figure([pgo.Bar(x=np.arange(len(S)), y=S)])\n",
    "svd_figure.show()"
   ]
  },
  {
   "cell_type": "markdown",
   "id": "7da86a70",
   "metadata": {},
   "source": [
    "Compute the eigenvector of the first cluster's covariance matrix"
   ]
  },
  {
   "cell_type": "code",
   "execution_count": 15,
   "id": "49933117",
   "metadata": {},
   "outputs": [],
   "source": [
    "# eigenvector contained in v\n",
    "c1_cov = np.cov(c1_std.T)\n",
    "w, v1 = np.linalg.eig(c1_cov)\n",
    "v1_3=v1[:,0:3]\n",
    "c1_3 = c1_std @ v1_3\n",
    "c1_3 = np.concatenate((c1_label,c1_3), axis = 1)"
   ]
  },
  {
   "cell_type": "markdown",
   "id": "61ba603b",
   "metadata": {},
   "source": [
    "2. Standardize the 2nd cluster"
   ]
  },
  {
   "cell_type": "code",
   "execution_count": 16,
   "id": "ae133863",
   "metadata": {},
   "outputs": [
    {
     "data": {
      "application/vnd.plotly.v1+json": {
       "config": {
        "plotlyServerURL": "https://plot.ly"
       },
       "data": [
        {
         "type": "bar",
         "x": [
          0,
          1,
          2,
          3,
          4,
          5,
          6,
          7,
          8,
          9,
          10,
          11,
          12,
          13,
          14,
          15,
          16,
          17,
          18,
          19,
          20,
          21,
          22,
          23,
          24,
          25,
          26,
          27,
          28,
          29,
          30,
          31,
          32,
          33,
          34,
          35,
          36,
          37,
          38,
          39,
          40,
          41,
          42,
          43,
          44,
          45,
          46,
          47,
          48,
          49,
          50,
          51,
          52,
          53,
          54,
          55,
          56,
          57,
          58,
          59,
          60,
          61,
          62,
          63,
          64,
          65,
          66,
          67,
          68,
          69,
          70,
          71,
          72,
          73,
          74,
          75,
          76,
          77,
          78,
          79,
          80,
          81,
          82,
          83,
          84,
          85,
          86,
          87,
          88,
          89,
          90,
          91,
          92,
          93,
          94,
          95,
          96,
          97,
          98,
          99
         ],
         "y": [
          352.3057603847892,
          100.9300121288417,
          85.87036614503911,
          24.951241056122367,
          23.070800077970425,
          17.999802373274633,
          12.2748451293521,
          11.704513089353735,
          10.804258387962003,
          10.626829047885437,
          10.566923990167604,
          10.474390240619485,
          10.419650840826261,
          10.368853013125259,
          10.347917237233233,
          10.277645901809175,
          10.119260395491535,
          10.035433179236916,
          9.962515694596375,
          9.87018077539477,
          9.811069342102412,
          9.771062429253268,
          9.719933018512158,
          9.714527169074287,
          9.653207606427758,
          9.546085350714302,
          9.526511163377927,
          9.436189422885764,
          9.424618638368324,
          9.38486580956086,
          9.337490746957124,
          9.251660360685605,
          9.23667492277332,
          9.185487275006528,
          9.171777038447752,
          9.120967349329522,
          9.082137821666807,
          9.062014694592103,
          9.06013484672736,
          8.987498236962567,
          8.936683579418483,
          8.870028762030401,
          8.843974334691872,
          8.810328330644298,
          8.749773191966089,
          8.733107707988315,
          8.69136379981405,
          8.665091154314721,
          8.589592710022776,
          8.547721631774913,
          8.495345913213063,
          8.437731308144537,
          8.413945699436658,
          8.372422147147171,
          8.324288301870373,
          8.311734144609138,
          8.263074261877616,
          8.22286879137744,
          8.20849461356842,
          8.159665941032758,
          8.146207566132402,
          8.06755205136839,
          8.028904298107024,
          7.993344552324132,
          7.92993209923169,
          7.914924692577725,
          7.89566459097787,
          7.855335921616922,
          7.791640855840188,
          7.769729764066969,
          7.744950637715858,
          7.700034652322608,
          7.633478003803185,
          7.570662922157296,
          7.539587482766629,
          7.473344339272457,
          7.412535934681727,
          7.392129939488765,
          7.346279030567237,
          7.267092706497052,
          7.234447247515019,
          7.185512030874647,
          7.173439851181251,
          7.104568986025862,
          7.070651694578635,
          7.007646291859155,
          6.930811024618283,
          6.888887887601313,
          6.8558992450403755,
          6.792989606984419,
          6.736640818356125,
          6.652924435807772,
          6.603146561642572,
          6.544538104632366,
          6.452189906670027,
          6.2751367497808275,
          6.178767507434376,
          6.137340851374128,
          6.083778505125163,
          1.3311327610345546e-14
         ]
        }
       ],
       "layout": {
        "template": {
         "data": {
          "bar": [
           {
            "error_x": {
             "color": "#2a3f5f"
            },
            "error_y": {
             "color": "#2a3f5f"
            },
            "marker": {
             "line": {
              "color": "#E5ECF6",
              "width": 0.5
             },
             "pattern": {
              "fillmode": "overlay",
              "size": 10,
              "solidity": 0.2
             }
            },
            "type": "bar"
           }
          ],
          "barpolar": [
           {
            "marker": {
             "line": {
              "color": "#E5ECF6",
              "width": 0.5
             },
             "pattern": {
              "fillmode": "overlay",
              "size": 10,
              "solidity": 0.2
             }
            },
            "type": "barpolar"
           }
          ],
          "carpet": [
           {
            "aaxis": {
             "endlinecolor": "#2a3f5f",
             "gridcolor": "white",
             "linecolor": "white",
             "minorgridcolor": "white",
             "startlinecolor": "#2a3f5f"
            },
            "baxis": {
             "endlinecolor": "#2a3f5f",
             "gridcolor": "white",
             "linecolor": "white",
             "minorgridcolor": "white",
             "startlinecolor": "#2a3f5f"
            },
            "type": "carpet"
           }
          ],
          "choropleth": [
           {
            "colorbar": {
             "outlinewidth": 0,
             "ticks": ""
            },
            "type": "choropleth"
           }
          ],
          "contour": [
           {
            "colorbar": {
             "outlinewidth": 0,
             "ticks": ""
            },
            "colorscale": [
             [
              0,
              "#0d0887"
             ],
             [
              0.1111111111111111,
              "#46039f"
             ],
             [
              0.2222222222222222,
              "#7201a8"
             ],
             [
              0.3333333333333333,
              "#9c179e"
             ],
             [
              0.4444444444444444,
              "#bd3786"
             ],
             [
              0.5555555555555556,
              "#d8576b"
             ],
             [
              0.6666666666666666,
              "#ed7953"
             ],
             [
              0.7777777777777778,
              "#fb9f3a"
             ],
             [
              0.8888888888888888,
              "#fdca26"
             ],
             [
              1,
              "#f0f921"
             ]
            ],
            "type": "contour"
           }
          ],
          "contourcarpet": [
           {
            "colorbar": {
             "outlinewidth": 0,
             "ticks": ""
            },
            "type": "contourcarpet"
           }
          ],
          "heatmap": [
           {
            "colorbar": {
             "outlinewidth": 0,
             "ticks": ""
            },
            "colorscale": [
             [
              0,
              "#0d0887"
             ],
             [
              0.1111111111111111,
              "#46039f"
             ],
             [
              0.2222222222222222,
              "#7201a8"
             ],
             [
              0.3333333333333333,
              "#9c179e"
             ],
             [
              0.4444444444444444,
              "#bd3786"
             ],
             [
              0.5555555555555556,
              "#d8576b"
             ],
             [
              0.6666666666666666,
              "#ed7953"
             ],
             [
              0.7777777777777778,
              "#fb9f3a"
             ],
             [
              0.8888888888888888,
              "#fdca26"
             ],
             [
              1,
              "#f0f921"
             ]
            ],
            "type": "heatmap"
           }
          ],
          "heatmapgl": [
           {
            "colorbar": {
             "outlinewidth": 0,
             "ticks": ""
            },
            "colorscale": [
             [
              0,
              "#0d0887"
             ],
             [
              0.1111111111111111,
              "#46039f"
             ],
             [
              0.2222222222222222,
              "#7201a8"
             ],
             [
              0.3333333333333333,
              "#9c179e"
             ],
             [
              0.4444444444444444,
              "#bd3786"
             ],
             [
              0.5555555555555556,
              "#d8576b"
             ],
             [
              0.6666666666666666,
              "#ed7953"
             ],
             [
              0.7777777777777778,
              "#fb9f3a"
             ],
             [
              0.8888888888888888,
              "#fdca26"
             ],
             [
              1,
              "#f0f921"
             ]
            ],
            "type": "heatmapgl"
           }
          ],
          "histogram": [
           {
            "marker": {
             "pattern": {
              "fillmode": "overlay",
              "size": 10,
              "solidity": 0.2
             }
            },
            "type": "histogram"
           }
          ],
          "histogram2d": [
           {
            "colorbar": {
             "outlinewidth": 0,
             "ticks": ""
            },
            "colorscale": [
             [
              0,
              "#0d0887"
             ],
             [
              0.1111111111111111,
              "#46039f"
             ],
             [
              0.2222222222222222,
              "#7201a8"
             ],
             [
              0.3333333333333333,
              "#9c179e"
             ],
             [
              0.4444444444444444,
              "#bd3786"
             ],
             [
              0.5555555555555556,
              "#d8576b"
             ],
             [
              0.6666666666666666,
              "#ed7953"
             ],
             [
              0.7777777777777778,
              "#fb9f3a"
             ],
             [
              0.8888888888888888,
              "#fdca26"
             ],
             [
              1,
              "#f0f921"
             ]
            ],
            "type": "histogram2d"
           }
          ],
          "histogram2dcontour": [
           {
            "colorbar": {
             "outlinewidth": 0,
             "ticks": ""
            },
            "colorscale": [
             [
              0,
              "#0d0887"
             ],
             [
              0.1111111111111111,
              "#46039f"
             ],
             [
              0.2222222222222222,
              "#7201a8"
             ],
             [
              0.3333333333333333,
              "#9c179e"
             ],
             [
              0.4444444444444444,
              "#bd3786"
             ],
             [
              0.5555555555555556,
              "#d8576b"
             ],
             [
              0.6666666666666666,
              "#ed7953"
             ],
             [
              0.7777777777777778,
              "#fb9f3a"
             ],
             [
              0.8888888888888888,
              "#fdca26"
             ],
             [
              1,
              "#f0f921"
             ]
            ],
            "type": "histogram2dcontour"
           }
          ],
          "mesh3d": [
           {
            "colorbar": {
             "outlinewidth": 0,
             "ticks": ""
            },
            "type": "mesh3d"
           }
          ],
          "parcoords": [
           {
            "line": {
             "colorbar": {
              "outlinewidth": 0,
              "ticks": ""
             }
            },
            "type": "parcoords"
           }
          ],
          "pie": [
           {
            "automargin": true,
            "type": "pie"
           }
          ],
          "scatter": [
           {
            "marker": {
             "colorbar": {
              "outlinewidth": 0,
              "ticks": ""
             }
            },
            "type": "scatter"
           }
          ],
          "scatter3d": [
           {
            "line": {
             "colorbar": {
              "outlinewidth": 0,
              "ticks": ""
             }
            },
            "marker": {
             "colorbar": {
              "outlinewidth": 0,
              "ticks": ""
             }
            },
            "type": "scatter3d"
           }
          ],
          "scattercarpet": [
           {
            "marker": {
             "colorbar": {
              "outlinewidth": 0,
              "ticks": ""
             }
            },
            "type": "scattercarpet"
           }
          ],
          "scattergeo": [
           {
            "marker": {
             "colorbar": {
              "outlinewidth": 0,
              "ticks": ""
             }
            },
            "type": "scattergeo"
           }
          ],
          "scattergl": [
           {
            "marker": {
             "colorbar": {
              "outlinewidth": 0,
              "ticks": ""
             }
            },
            "type": "scattergl"
           }
          ],
          "scattermapbox": [
           {
            "marker": {
             "colorbar": {
              "outlinewidth": 0,
              "ticks": ""
             }
            },
            "type": "scattermapbox"
           }
          ],
          "scatterpolar": [
           {
            "marker": {
             "colorbar": {
              "outlinewidth": 0,
              "ticks": ""
             }
            },
            "type": "scatterpolar"
           }
          ],
          "scatterpolargl": [
           {
            "marker": {
             "colorbar": {
              "outlinewidth": 0,
              "ticks": ""
             }
            },
            "type": "scatterpolargl"
           }
          ],
          "scatterternary": [
           {
            "marker": {
             "colorbar": {
              "outlinewidth": 0,
              "ticks": ""
             }
            },
            "type": "scatterternary"
           }
          ],
          "surface": [
           {
            "colorbar": {
             "outlinewidth": 0,
             "ticks": ""
            },
            "colorscale": [
             [
              0,
              "#0d0887"
             ],
             [
              0.1111111111111111,
              "#46039f"
             ],
             [
              0.2222222222222222,
              "#7201a8"
             ],
             [
              0.3333333333333333,
              "#9c179e"
             ],
             [
              0.4444444444444444,
              "#bd3786"
             ],
             [
              0.5555555555555556,
              "#d8576b"
             ],
             [
              0.6666666666666666,
              "#ed7953"
             ],
             [
              0.7777777777777778,
              "#fb9f3a"
             ],
             [
              0.8888888888888888,
              "#fdca26"
             ],
             [
              1,
              "#f0f921"
             ]
            ],
            "type": "surface"
           }
          ],
          "table": [
           {
            "cells": {
             "fill": {
              "color": "#EBF0F8"
             },
             "line": {
              "color": "white"
             }
            },
            "header": {
             "fill": {
              "color": "#C8D4E3"
             },
             "line": {
              "color": "white"
             }
            },
            "type": "table"
           }
          ]
         },
         "layout": {
          "annotationdefaults": {
           "arrowcolor": "#2a3f5f",
           "arrowhead": 0,
           "arrowwidth": 1
          },
          "autotypenumbers": "strict",
          "coloraxis": {
           "colorbar": {
            "outlinewidth": 0,
            "ticks": ""
           }
          },
          "colorscale": {
           "diverging": [
            [
             0,
             "#8e0152"
            ],
            [
             0.1,
             "#c51b7d"
            ],
            [
             0.2,
             "#de77ae"
            ],
            [
             0.3,
             "#f1b6da"
            ],
            [
             0.4,
             "#fde0ef"
            ],
            [
             0.5,
             "#f7f7f7"
            ],
            [
             0.6,
             "#e6f5d0"
            ],
            [
             0.7,
             "#b8e186"
            ],
            [
             0.8,
             "#7fbc41"
            ],
            [
             0.9,
             "#4d9221"
            ],
            [
             1,
             "#276419"
            ]
           ],
           "sequential": [
            [
             0,
             "#0d0887"
            ],
            [
             0.1111111111111111,
             "#46039f"
            ],
            [
             0.2222222222222222,
             "#7201a8"
            ],
            [
             0.3333333333333333,
             "#9c179e"
            ],
            [
             0.4444444444444444,
             "#bd3786"
            ],
            [
             0.5555555555555556,
             "#d8576b"
            ],
            [
             0.6666666666666666,
             "#ed7953"
            ],
            [
             0.7777777777777778,
             "#fb9f3a"
            ],
            [
             0.8888888888888888,
             "#fdca26"
            ],
            [
             1,
             "#f0f921"
            ]
           ],
           "sequentialminus": [
            [
             0,
             "#0d0887"
            ],
            [
             0.1111111111111111,
             "#46039f"
            ],
            [
             0.2222222222222222,
             "#7201a8"
            ],
            [
             0.3333333333333333,
             "#9c179e"
            ],
            [
             0.4444444444444444,
             "#bd3786"
            ],
            [
             0.5555555555555556,
             "#d8576b"
            ],
            [
             0.6666666666666666,
             "#ed7953"
            ],
            [
             0.7777777777777778,
             "#fb9f3a"
            ],
            [
             0.8888888888888888,
             "#fdca26"
            ],
            [
             1,
             "#f0f921"
            ]
           ]
          },
          "colorway": [
           "#636efa",
           "#EF553B",
           "#00cc96",
           "#ab63fa",
           "#FFA15A",
           "#19d3f3",
           "#FF6692",
           "#B6E880",
           "#FF97FF",
           "#FECB52"
          ],
          "font": {
           "color": "#2a3f5f"
          },
          "geo": {
           "bgcolor": "white",
           "lakecolor": "white",
           "landcolor": "#E5ECF6",
           "showlakes": true,
           "showland": true,
           "subunitcolor": "white"
          },
          "hoverlabel": {
           "align": "left"
          },
          "hovermode": "closest",
          "mapbox": {
           "style": "light"
          },
          "paper_bgcolor": "white",
          "plot_bgcolor": "#E5ECF6",
          "polar": {
           "angularaxis": {
            "gridcolor": "white",
            "linecolor": "white",
            "ticks": ""
           },
           "bgcolor": "#E5ECF6",
           "radialaxis": {
            "gridcolor": "white",
            "linecolor": "white",
            "ticks": ""
           }
          },
          "scene": {
           "xaxis": {
            "backgroundcolor": "#E5ECF6",
            "gridcolor": "white",
            "gridwidth": 2,
            "linecolor": "white",
            "showbackground": true,
            "ticks": "",
            "zerolinecolor": "white"
           },
           "yaxis": {
            "backgroundcolor": "#E5ECF6",
            "gridcolor": "white",
            "gridwidth": 2,
            "linecolor": "white",
            "showbackground": true,
            "ticks": "",
            "zerolinecolor": "white"
           },
           "zaxis": {
            "backgroundcolor": "#E5ECF6",
            "gridcolor": "white",
            "gridwidth": 2,
            "linecolor": "white",
            "showbackground": true,
            "ticks": "",
            "zerolinecolor": "white"
           }
          },
          "shapedefaults": {
           "line": {
            "color": "#2a3f5f"
           }
          },
          "ternary": {
           "aaxis": {
            "gridcolor": "white",
            "linecolor": "white",
            "ticks": ""
           },
           "baxis": {
            "gridcolor": "white",
            "linecolor": "white",
            "ticks": ""
           },
           "bgcolor": "#E5ECF6",
           "caxis": {
            "gridcolor": "white",
            "linecolor": "white",
            "ticks": ""
           }
          },
          "title": {
           "x": 0.05
          },
          "xaxis": {
           "automargin": true,
           "gridcolor": "white",
           "linecolor": "white",
           "ticks": "",
           "title": {
            "standoff": 15
           },
           "zerolinecolor": "white",
           "zerolinewidth": 2
          },
          "yaxis": {
           "automargin": true,
           "gridcolor": "white",
           "linecolor": "white",
           "ticks": "",
           "title": {
            "standoff": 15
           },
           "zerolinecolor": "white",
           "zerolinewidth": 2
          }
         }
        }
       }
      }
     },
     "metadata": {},
     "output_type": "display_data"
    }
   ],
   "source": [
    "# subtract the mean\n",
    "c2_meanzero = c2 - np.mean(c2, axis=1, keepdims=True)\n",
    "# divide by the standard deviation\n",
    "c2_std = c2_meanzero/np.std(c2_meanzero, axis=1, keepdims=True)\n",
    "# SVD\n",
    "U, S, VT = np.linalg.svd(c2_std, full_matrices=False)\n",
    "\n",
    "# make a figure showing the singular values\n",
    "svd_figure = pgo.Figure([pgo.Bar(x=np.arange(len(S)), y=S)])\n",
    "svd_figure.show()"
   ]
  },
  {
   "cell_type": "markdown",
   "id": "53efc56d",
   "metadata": {},
   "source": [
    "Compute the eigenvector of the second cluster's covariance matrix"
   ]
  },
  {
   "cell_type": "code",
   "execution_count": 17,
   "id": "bbab2785",
   "metadata": {},
   "outputs": [],
   "source": [
    "c2_cov = np.cov(c2_std.T)\n",
    "w, v2 = np.linalg.eig(c2_cov)\n",
    "v2_3 = v2[:,0:3]\n",
    "c2_3 = c2_std @ v2_3\n",
    "c2_3 = np.concatenate((c2_label,c2_3), axis = 1)"
   ]
  },
  {
   "cell_type": "markdown",
   "id": "327fd968",
   "metadata": {},
   "source": [
    "3. Standardize the 3rd cluster"
   ]
  },
  {
   "cell_type": "code",
   "execution_count": 18,
   "id": "6a336fdf",
   "metadata": {},
   "outputs": [
    {
     "data": {
      "application/vnd.plotly.v1+json": {
       "config": {
        "plotlyServerURL": "https://plot.ly"
       },
       "data": [
        {
         "type": "bar",
         "x": [
          0,
          1,
          2,
          3,
          4,
          5,
          6,
          7,
          8,
          9,
          10,
          11,
          12,
          13,
          14,
          15,
          16,
          17,
          18,
          19,
          20,
          21,
          22,
          23,
          24,
          25,
          26,
          27,
          28,
          29,
          30,
          31,
          32,
          33,
          34,
          35,
          36,
          37,
          38,
          39,
          40,
          41,
          42,
          43,
          44,
          45,
          46,
          47,
          48,
          49,
          50,
          51,
          52,
          53,
          54,
          55,
          56,
          57,
          58,
          59,
          60,
          61,
          62,
          63,
          64,
          65,
          66,
          67,
          68,
          69,
          70,
          71,
          72,
          73,
          74,
          75,
          76,
          77,
          78,
          79,
          80,
          81,
          82,
          83,
          84,
          85,
          86,
          87,
          88,
          89,
          90,
          91,
          92,
          93,
          94,
          95,
          96,
          97,
          98,
          99
         ],
         "y": [
          352.4204311835648,
          98.03948673391383,
          88.20465646079002,
          23.967638931985224,
          22.183696420179086,
          19.393655791765386,
          12.271344524374877,
          11.399861022364172,
          10.853029360843838,
          10.805867519339044,
          10.694238045807326,
          10.651533148981455,
          10.492587918285182,
          10.3960069805091,
          10.314046667970473,
          10.217753762352931,
          10.165592588578114,
          10.109290557876218,
          10.067090412962024,
          10.050898273129919,
          9.997040875684489,
          9.883831963655789,
          9.779311189714543,
          9.689390147016562,
          9.68667772963981,
          9.595872952289175,
          9.58089325754462,
          9.490140258881246,
          9.414982541275743,
          9.374487752880462,
          9.36143593544331,
          9.343445607077602,
          9.266678797359774,
          9.249207102838012,
          9.201727271844504,
          9.153071270292132,
          9.13011738818945,
          9.092439341639443,
          9.087078304084724,
          9.059278097563196,
          9.04169675124004,
          8.973077443388327,
          8.95384712811719,
          8.87516749654567,
          8.849136378494762,
          8.821624876678344,
          8.753779736263077,
          8.746974427455783,
          8.714545916809062,
          8.637469043160982,
          8.597774118631087,
          8.564712648557382,
          8.528774692843031,
          8.47738175071149,
          8.439230185407872,
          8.377217562564738,
          8.36032752759071,
          8.326657114263611,
          8.268295241466753,
          8.217468744072995,
          8.168073998833068,
          8.133148563130987,
          8.099764948465724,
          8.074841818236363,
          8.00884083535315,
          7.990946431774465,
          7.966873506917233,
          7.896141251945035,
          7.865197686927434,
          7.822577026565964,
          7.801382648437954,
          7.755324507595532,
          7.663456058961659,
          7.610323175519728,
          7.58034623493726,
          7.559214307594526,
          7.521673037077331,
          7.507923394311815,
          7.454786200254478,
          7.40268125234615,
          7.363906407545692,
          7.312461934133456,
          7.27427179352755,
          7.243797061877037,
          7.203521393757204,
          7.108003988179449,
          7.071899324060539,
          7.034886862437119,
          6.9643066449568405,
          6.938110722138423,
          6.8936890780206,
          6.761243900790155,
          6.689800297656792,
          6.66018248085613,
          6.645248134409528,
          6.543029244766081,
          6.440599541491685,
          6.434589522506768,
          6.266382046675796,
          1.3386074970934822e-14
         ]
        }
       ],
       "layout": {
        "template": {
         "data": {
          "bar": [
           {
            "error_x": {
             "color": "#2a3f5f"
            },
            "error_y": {
             "color": "#2a3f5f"
            },
            "marker": {
             "line": {
              "color": "#E5ECF6",
              "width": 0.5
             },
             "pattern": {
              "fillmode": "overlay",
              "size": 10,
              "solidity": 0.2
             }
            },
            "type": "bar"
           }
          ],
          "barpolar": [
           {
            "marker": {
             "line": {
              "color": "#E5ECF6",
              "width": 0.5
             },
             "pattern": {
              "fillmode": "overlay",
              "size": 10,
              "solidity": 0.2
             }
            },
            "type": "barpolar"
           }
          ],
          "carpet": [
           {
            "aaxis": {
             "endlinecolor": "#2a3f5f",
             "gridcolor": "white",
             "linecolor": "white",
             "minorgridcolor": "white",
             "startlinecolor": "#2a3f5f"
            },
            "baxis": {
             "endlinecolor": "#2a3f5f",
             "gridcolor": "white",
             "linecolor": "white",
             "minorgridcolor": "white",
             "startlinecolor": "#2a3f5f"
            },
            "type": "carpet"
           }
          ],
          "choropleth": [
           {
            "colorbar": {
             "outlinewidth": 0,
             "ticks": ""
            },
            "type": "choropleth"
           }
          ],
          "contour": [
           {
            "colorbar": {
             "outlinewidth": 0,
             "ticks": ""
            },
            "colorscale": [
             [
              0,
              "#0d0887"
             ],
             [
              0.1111111111111111,
              "#46039f"
             ],
             [
              0.2222222222222222,
              "#7201a8"
             ],
             [
              0.3333333333333333,
              "#9c179e"
             ],
             [
              0.4444444444444444,
              "#bd3786"
             ],
             [
              0.5555555555555556,
              "#d8576b"
             ],
             [
              0.6666666666666666,
              "#ed7953"
             ],
             [
              0.7777777777777778,
              "#fb9f3a"
             ],
             [
              0.8888888888888888,
              "#fdca26"
             ],
             [
              1,
              "#f0f921"
             ]
            ],
            "type": "contour"
           }
          ],
          "contourcarpet": [
           {
            "colorbar": {
             "outlinewidth": 0,
             "ticks": ""
            },
            "type": "contourcarpet"
           }
          ],
          "heatmap": [
           {
            "colorbar": {
             "outlinewidth": 0,
             "ticks": ""
            },
            "colorscale": [
             [
              0,
              "#0d0887"
             ],
             [
              0.1111111111111111,
              "#46039f"
             ],
             [
              0.2222222222222222,
              "#7201a8"
             ],
             [
              0.3333333333333333,
              "#9c179e"
             ],
             [
              0.4444444444444444,
              "#bd3786"
             ],
             [
              0.5555555555555556,
              "#d8576b"
             ],
             [
              0.6666666666666666,
              "#ed7953"
             ],
             [
              0.7777777777777778,
              "#fb9f3a"
             ],
             [
              0.8888888888888888,
              "#fdca26"
             ],
             [
              1,
              "#f0f921"
             ]
            ],
            "type": "heatmap"
           }
          ],
          "heatmapgl": [
           {
            "colorbar": {
             "outlinewidth": 0,
             "ticks": ""
            },
            "colorscale": [
             [
              0,
              "#0d0887"
             ],
             [
              0.1111111111111111,
              "#46039f"
             ],
             [
              0.2222222222222222,
              "#7201a8"
             ],
             [
              0.3333333333333333,
              "#9c179e"
             ],
             [
              0.4444444444444444,
              "#bd3786"
             ],
             [
              0.5555555555555556,
              "#d8576b"
             ],
             [
              0.6666666666666666,
              "#ed7953"
             ],
             [
              0.7777777777777778,
              "#fb9f3a"
             ],
             [
              0.8888888888888888,
              "#fdca26"
             ],
             [
              1,
              "#f0f921"
             ]
            ],
            "type": "heatmapgl"
           }
          ],
          "histogram": [
           {
            "marker": {
             "pattern": {
              "fillmode": "overlay",
              "size": 10,
              "solidity": 0.2
             }
            },
            "type": "histogram"
           }
          ],
          "histogram2d": [
           {
            "colorbar": {
             "outlinewidth": 0,
             "ticks": ""
            },
            "colorscale": [
             [
              0,
              "#0d0887"
             ],
             [
              0.1111111111111111,
              "#46039f"
             ],
             [
              0.2222222222222222,
              "#7201a8"
             ],
             [
              0.3333333333333333,
              "#9c179e"
             ],
             [
              0.4444444444444444,
              "#bd3786"
             ],
             [
              0.5555555555555556,
              "#d8576b"
             ],
             [
              0.6666666666666666,
              "#ed7953"
             ],
             [
              0.7777777777777778,
              "#fb9f3a"
             ],
             [
              0.8888888888888888,
              "#fdca26"
             ],
             [
              1,
              "#f0f921"
             ]
            ],
            "type": "histogram2d"
           }
          ],
          "histogram2dcontour": [
           {
            "colorbar": {
             "outlinewidth": 0,
             "ticks": ""
            },
            "colorscale": [
             [
              0,
              "#0d0887"
             ],
             [
              0.1111111111111111,
              "#46039f"
             ],
             [
              0.2222222222222222,
              "#7201a8"
             ],
             [
              0.3333333333333333,
              "#9c179e"
             ],
             [
              0.4444444444444444,
              "#bd3786"
             ],
             [
              0.5555555555555556,
              "#d8576b"
             ],
             [
              0.6666666666666666,
              "#ed7953"
             ],
             [
              0.7777777777777778,
              "#fb9f3a"
             ],
             [
              0.8888888888888888,
              "#fdca26"
             ],
             [
              1,
              "#f0f921"
             ]
            ],
            "type": "histogram2dcontour"
           }
          ],
          "mesh3d": [
           {
            "colorbar": {
             "outlinewidth": 0,
             "ticks": ""
            },
            "type": "mesh3d"
           }
          ],
          "parcoords": [
           {
            "line": {
             "colorbar": {
              "outlinewidth": 0,
              "ticks": ""
             }
            },
            "type": "parcoords"
           }
          ],
          "pie": [
           {
            "automargin": true,
            "type": "pie"
           }
          ],
          "scatter": [
           {
            "marker": {
             "colorbar": {
              "outlinewidth": 0,
              "ticks": ""
             }
            },
            "type": "scatter"
           }
          ],
          "scatter3d": [
           {
            "line": {
             "colorbar": {
              "outlinewidth": 0,
              "ticks": ""
             }
            },
            "marker": {
             "colorbar": {
              "outlinewidth": 0,
              "ticks": ""
             }
            },
            "type": "scatter3d"
           }
          ],
          "scattercarpet": [
           {
            "marker": {
             "colorbar": {
              "outlinewidth": 0,
              "ticks": ""
             }
            },
            "type": "scattercarpet"
           }
          ],
          "scattergeo": [
           {
            "marker": {
             "colorbar": {
              "outlinewidth": 0,
              "ticks": ""
             }
            },
            "type": "scattergeo"
           }
          ],
          "scattergl": [
           {
            "marker": {
             "colorbar": {
              "outlinewidth": 0,
              "ticks": ""
             }
            },
            "type": "scattergl"
           }
          ],
          "scattermapbox": [
           {
            "marker": {
             "colorbar": {
              "outlinewidth": 0,
              "ticks": ""
             }
            },
            "type": "scattermapbox"
           }
          ],
          "scatterpolar": [
           {
            "marker": {
             "colorbar": {
              "outlinewidth": 0,
              "ticks": ""
             }
            },
            "type": "scatterpolar"
           }
          ],
          "scatterpolargl": [
           {
            "marker": {
             "colorbar": {
              "outlinewidth": 0,
              "ticks": ""
             }
            },
            "type": "scatterpolargl"
           }
          ],
          "scatterternary": [
           {
            "marker": {
             "colorbar": {
              "outlinewidth": 0,
              "ticks": ""
             }
            },
            "type": "scatterternary"
           }
          ],
          "surface": [
           {
            "colorbar": {
             "outlinewidth": 0,
             "ticks": ""
            },
            "colorscale": [
             [
              0,
              "#0d0887"
             ],
             [
              0.1111111111111111,
              "#46039f"
             ],
             [
              0.2222222222222222,
              "#7201a8"
             ],
             [
              0.3333333333333333,
              "#9c179e"
             ],
             [
              0.4444444444444444,
              "#bd3786"
             ],
             [
              0.5555555555555556,
              "#d8576b"
             ],
             [
              0.6666666666666666,
              "#ed7953"
             ],
             [
              0.7777777777777778,
              "#fb9f3a"
             ],
             [
              0.8888888888888888,
              "#fdca26"
             ],
             [
              1,
              "#f0f921"
             ]
            ],
            "type": "surface"
           }
          ],
          "table": [
           {
            "cells": {
             "fill": {
              "color": "#EBF0F8"
             },
             "line": {
              "color": "white"
             }
            },
            "header": {
             "fill": {
              "color": "#C8D4E3"
             },
             "line": {
              "color": "white"
             }
            },
            "type": "table"
           }
          ]
         },
         "layout": {
          "annotationdefaults": {
           "arrowcolor": "#2a3f5f",
           "arrowhead": 0,
           "arrowwidth": 1
          },
          "autotypenumbers": "strict",
          "coloraxis": {
           "colorbar": {
            "outlinewidth": 0,
            "ticks": ""
           }
          },
          "colorscale": {
           "diverging": [
            [
             0,
             "#8e0152"
            ],
            [
             0.1,
             "#c51b7d"
            ],
            [
             0.2,
             "#de77ae"
            ],
            [
             0.3,
             "#f1b6da"
            ],
            [
             0.4,
             "#fde0ef"
            ],
            [
             0.5,
             "#f7f7f7"
            ],
            [
             0.6,
             "#e6f5d0"
            ],
            [
             0.7,
             "#b8e186"
            ],
            [
             0.8,
             "#7fbc41"
            ],
            [
             0.9,
             "#4d9221"
            ],
            [
             1,
             "#276419"
            ]
           ],
           "sequential": [
            [
             0,
             "#0d0887"
            ],
            [
             0.1111111111111111,
             "#46039f"
            ],
            [
             0.2222222222222222,
             "#7201a8"
            ],
            [
             0.3333333333333333,
             "#9c179e"
            ],
            [
             0.4444444444444444,
             "#bd3786"
            ],
            [
             0.5555555555555556,
             "#d8576b"
            ],
            [
             0.6666666666666666,
             "#ed7953"
            ],
            [
             0.7777777777777778,
             "#fb9f3a"
            ],
            [
             0.8888888888888888,
             "#fdca26"
            ],
            [
             1,
             "#f0f921"
            ]
           ],
           "sequentialminus": [
            [
             0,
             "#0d0887"
            ],
            [
             0.1111111111111111,
             "#46039f"
            ],
            [
             0.2222222222222222,
             "#7201a8"
            ],
            [
             0.3333333333333333,
             "#9c179e"
            ],
            [
             0.4444444444444444,
             "#bd3786"
            ],
            [
             0.5555555555555556,
             "#d8576b"
            ],
            [
             0.6666666666666666,
             "#ed7953"
            ],
            [
             0.7777777777777778,
             "#fb9f3a"
            ],
            [
             0.8888888888888888,
             "#fdca26"
            ],
            [
             1,
             "#f0f921"
            ]
           ]
          },
          "colorway": [
           "#636efa",
           "#EF553B",
           "#00cc96",
           "#ab63fa",
           "#FFA15A",
           "#19d3f3",
           "#FF6692",
           "#B6E880",
           "#FF97FF",
           "#FECB52"
          ],
          "font": {
           "color": "#2a3f5f"
          },
          "geo": {
           "bgcolor": "white",
           "lakecolor": "white",
           "landcolor": "#E5ECF6",
           "showlakes": true,
           "showland": true,
           "subunitcolor": "white"
          },
          "hoverlabel": {
           "align": "left"
          },
          "hovermode": "closest",
          "mapbox": {
           "style": "light"
          },
          "paper_bgcolor": "white",
          "plot_bgcolor": "#E5ECF6",
          "polar": {
           "angularaxis": {
            "gridcolor": "white",
            "linecolor": "white",
            "ticks": ""
           },
           "bgcolor": "#E5ECF6",
           "radialaxis": {
            "gridcolor": "white",
            "linecolor": "white",
            "ticks": ""
           }
          },
          "scene": {
           "xaxis": {
            "backgroundcolor": "#E5ECF6",
            "gridcolor": "white",
            "gridwidth": 2,
            "linecolor": "white",
            "showbackground": true,
            "ticks": "",
            "zerolinecolor": "white"
           },
           "yaxis": {
            "backgroundcolor": "#E5ECF6",
            "gridcolor": "white",
            "gridwidth": 2,
            "linecolor": "white",
            "showbackground": true,
            "ticks": "",
            "zerolinecolor": "white"
           },
           "zaxis": {
            "backgroundcolor": "#E5ECF6",
            "gridcolor": "white",
            "gridwidth": 2,
            "linecolor": "white",
            "showbackground": true,
            "ticks": "",
            "zerolinecolor": "white"
           }
          },
          "shapedefaults": {
           "line": {
            "color": "#2a3f5f"
           }
          },
          "ternary": {
           "aaxis": {
            "gridcolor": "white",
            "linecolor": "white",
            "ticks": ""
           },
           "baxis": {
            "gridcolor": "white",
            "linecolor": "white",
            "ticks": ""
           },
           "bgcolor": "#E5ECF6",
           "caxis": {
            "gridcolor": "white",
            "linecolor": "white",
            "ticks": ""
           }
          },
          "title": {
           "x": 0.05
          },
          "xaxis": {
           "automargin": true,
           "gridcolor": "white",
           "linecolor": "white",
           "ticks": "",
           "title": {
            "standoff": 15
           },
           "zerolinecolor": "white",
           "zerolinewidth": 2
          },
          "yaxis": {
           "automargin": true,
           "gridcolor": "white",
           "linecolor": "white",
           "ticks": "",
           "title": {
            "standoff": 15
           },
           "zerolinecolor": "white",
           "zerolinewidth": 2
          }
         }
        }
       }
      }
     },
     "metadata": {},
     "output_type": "display_data"
    }
   ],
   "source": [
    "# subtract the mean\n",
    "c3_meanzero = c3 - np.mean(c3, axis=1, keepdims=True)\n",
    "# divide by the standard deviation\n",
    "c3_std = c3_meanzero/np.std(c3_meanzero, axis=1, keepdims=True)\n",
    "# SVD\n",
    "U, S, VT = np.linalg.svd(c3_std, full_matrices=False)\n",
    "\n",
    "# make a figure showing the singular values\n",
    "svd_figure = pgo.Figure([pgo.Bar(x=np.arange(len(S)), y=S)])\n",
    "svd_figure.show()"
   ]
  },
  {
   "cell_type": "markdown",
   "id": "e3619e23",
   "metadata": {},
   "source": [
    "Compute the eigenvector of the 3rd cluster's covariance matrix"
   ]
  },
  {
   "cell_type": "code",
   "execution_count": 19,
   "id": "caf597b7",
   "metadata": {},
   "outputs": [],
   "source": [
    "c3_cov = np.cov(c3_std.T)\n",
    "w, v3 = np.linalg.eig(c3_cov)\n",
    "v3_3 = v3[:,0:3]\n",
    "c3_3 = c3_std @ v3_3\n",
    "c3_3 = np.concatenate((c3_label,c3_3), axis = 1)"
   ]
  },
  {
   "cell_type": "markdown",
   "id": "eb58cf9a",
   "metadata": {},
   "source": [
    "## 5) Put the processed clusters back in place"
   ]
  },
  {
   "cell_type": "code",
   "execution_count": 20,
   "id": "d6cb0b8e",
   "metadata": {},
   "outputs": [],
   "source": [
    "count_1 = 0\n",
    "count_2 = 0\n",
    "count_3 = 0\n",
    "X = np.zeros((4500, 4))\n",
    "# loop through the original labels to put clusters back in place\n",
    "for i in range(X.shape[0]):\n",
    "    if count_1 == 1500:\n",
    "        count_1 -= 1\n",
    "    if count_2 == 1500:\n",
    "        count_2 -= 1\n",
    "    if count_3 == 1500:\n",
    "        count_3 -= 1\n",
    "    if his_label[i] == c1_3[count_1,0]:\n",
    "        X[i,:] = c1_3[count_1,:]\n",
    "        count_1 = count_1 + 1\n",
    "    elif his_label[i] == c2_3[count_2,0]:\n",
    "        X[i,:] = c2_3[count_2,:]\n",
    "        count_2 = count_2 + 1\n",
    "    else:\n",
    "        X[i,:] = c3_3[count_3,:]\n",
    "        count_3 = count_3 + 1"
   ]
  },
  {
   "cell_type": "code",
   "execution_count": 21,
   "id": "07a5b85d",
   "metadata": {},
   "outputs": [
    {
     "name": "stdout",
     "output_type": "stream",
     "text": [
      "[[ 1.00950000e+05 -2.59702368e+00 -1.26912601e+00  6.06181224e+00]\n",
      " [ 1.00956000e+05  1.80500661e+00 -3.97689757e+00 -5.64866447e+00]\n",
      " [ 1.00962000e+05 -5.19788223e+00 -6.54200793e-01 -5.40409166e+00]\n",
      " [ 1.00969000e+05  1.12922744e+00 -5.37401553e+00  4.03012679e+00]\n",
      " [ 1.00974000e+05 -4.76076334e+00  1.29635386e+00 -5.42727327e+00]]\n"
     ]
    }
   ],
   "source": [
    "print (X[0:5])"
   ]
  },
  {
   "cell_type": "markdown",
   "id": "2591a6dc",
   "metadata": {},
   "source": [
    "The X is the clusters put back in original order after PCA, reserving user ID and three PCA features."
   ]
  },
  {
   "cell_type": "code",
   "execution_count": 22,
   "id": "040bb3c5",
   "metadata": {},
   "outputs": [
    {
     "data": {
      "text/html": [
       "<div>\n",
       "<style scoped>\n",
       "    .dataframe tbody tr th:only-of-type {\n",
       "        vertical-align: middle;\n",
       "    }\n",
       "\n",
       "    .dataframe tbody tr th {\n",
       "        vertical-align: top;\n",
       "    }\n",
       "\n",
       "    .dataframe thead th {\n",
       "        text-align: right;\n",
       "    }\n",
       "</style>\n",
       "<table border=\"1\" class=\"dataframe\">\n",
       "  <thead>\n",
       "    <tr style=\"text-align: right;\">\n",
       "      <th>PRODUCT</th>\n",
       "      <th>adrian crater</th>\n",
       "      <th>anagram mentor</th>\n",
       "      <th>apropos pizza</th>\n",
       "      <th>bandit anatomy</th>\n",
       "      <th>banjo ladder</th>\n",
       "      <th>barcode arnold</th>\n",
       "      <th>bazooka diagram</th>\n",
       "      <th>bronze mystic</th>\n",
       "      <th>calypso zigzag</th>\n",
       "      <th>casino unit</th>\n",
       "      <th>...</th>\n",
       "      <th>tourist micro</th>\n",
       "      <th>tripod stand</th>\n",
       "      <th>update lola</th>\n",
       "      <th>ventura puzzle</th>\n",
       "      <th>viking llama</th>\n",
       "      <th>violet saga</th>\n",
       "      <th>vista queen</th>\n",
       "      <th>viva avalon</th>\n",
       "      <th>voodoo planet</th>\n",
       "      <th>wheel gibson</th>\n",
       "    </tr>\n",
       "    <tr>\n",
       "      <th>USER ID</th>\n",
       "      <th></th>\n",
       "      <th></th>\n",
       "      <th></th>\n",
       "      <th></th>\n",
       "      <th></th>\n",
       "      <th></th>\n",
       "      <th></th>\n",
       "      <th></th>\n",
       "      <th></th>\n",
       "      <th></th>\n",
       "      <th></th>\n",
       "      <th></th>\n",
       "      <th></th>\n",
       "      <th></th>\n",
       "      <th></th>\n",
       "      <th></th>\n",
       "      <th></th>\n",
       "      <th></th>\n",
       "      <th></th>\n",
       "      <th></th>\n",
       "      <th></th>\n",
       "    </tr>\n",
       "  </thead>\n",
       "  <tbody>\n",
       "    <tr>\n",
       "      <th>100950</th>\n",
       "      <td>NaN</td>\n",
       "      <td>NaN</td>\n",
       "      <td>NaN</td>\n",
       "      <td>NaN</td>\n",
       "      <td>8.0</td>\n",
       "      <td>NaN</td>\n",
       "      <td>NaN</td>\n",
       "      <td>NaN</td>\n",
       "      <td>5.0</td>\n",
       "      <td>NaN</td>\n",
       "      <td>...</td>\n",
       "      <td>NaN</td>\n",
       "      <td>NaN</td>\n",
       "      <td>NaN</td>\n",
       "      <td>NaN</td>\n",
       "      <td>NaN</td>\n",
       "      <td>4.0</td>\n",
       "      <td>NaN</td>\n",
       "      <td>NaN</td>\n",
       "      <td>NaN</td>\n",
       "      <td>NaN</td>\n",
       "    </tr>\n",
       "    <tr>\n",
       "      <th>100956</th>\n",
       "      <td>NaN</td>\n",
       "      <td>NaN</td>\n",
       "      <td>NaN</td>\n",
       "      <td>NaN</td>\n",
       "      <td>NaN</td>\n",
       "      <td>5.0</td>\n",
       "      <td>NaN</td>\n",
       "      <td>NaN</td>\n",
       "      <td>NaN</td>\n",
       "      <td>NaN</td>\n",
       "      <td>...</td>\n",
       "      <td>NaN</td>\n",
       "      <td>NaN</td>\n",
       "      <td>NaN</td>\n",
       "      <td>NaN</td>\n",
       "      <td>NaN</td>\n",
       "      <td>NaN</td>\n",
       "      <td>NaN</td>\n",
       "      <td>NaN</td>\n",
       "      <td>NaN</td>\n",
       "      <td>NaN</td>\n",
       "    </tr>\n",
       "    <tr>\n",
       "      <th>100962</th>\n",
       "      <td>NaN</td>\n",
       "      <td>NaN</td>\n",
       "      <td>NaN</td>\n",
       "      <td>NaN</td>\n",
       "      <td>NaN</td>\n",
       "      <td>NaN</td>\n",
       "      <td>NaN</td>\n",
       "      <td>NaN</td>\n",
       "      <td>NaN</td>\n",
       "      <td>NaN</td>\n",
       "      <td>...</td>\n",
       "      <td>NaN</td>\n",
       "      <td>NaN</td>\n",
       "      <td>NaN</td>\n",
       "      <td>NaN</td>\n",
       "      <td>NaN</td>\n",
       "      <td>NaN</td>\n",
       "      <td>NaN</td>\n",
       "      <td>NaN</td>\n",
       "      <td>NaN</td>\n",
       "      <td>NaN</td>\n",
       "    </tr>\n",
       "    <tr>\n",
       "      <th>100969</th>\n",
       "      <td>NaN</td>\n",
       "      <td>10.0</td>\n",
       "      <td>1.0</td>\n",
       "      <td>NaN</td>\n",
       "      <td>5.0</td>\n",
       "      <td>NaN</td>\n",
       "      <td>NaN</td>\n",
       "      <td>NaN</td>\n",
       "      <td>NaN</td>\n",
       "      <td>NaN</td>\n",
       "      <td>...</td>\n",
       "      <td>NaN</td>\n",
       "      <td>NaN</td>\n",
       "      <td>5.0</td>\n",
       "      <td>NaN</td>\n",
       "      <td>NaN</td>\n",
       "      <td>0.0</td>\n",
       "      <td>NaN</td>\n",
       "      <td>NaN</td>\n",
       "      <td>8.0</td>\n",
       "      <td>2.0</td>\n",
       "    </tr>\n",
       "    <tr>\n",
       "      <th>100974</th>\n",
       "      <td>NaN</td>\n",
       "      <td>NaN</td>\n",
       "      <td>NaN</td>\n",
       "      <td>9.0</td>\n",
       "      <td>NaN</td>\n",
       "      <td>5.0</td>\n",
       "      <td>NaN</td>\n",
       "      <td>1.0</td>\n",
       "      <td>NaN</td>\n",
       "      <td>NaN</td>\n",
       "      <td>...</td>\n",
       "      <td>NaN</td>\n",
       "      <td>NaN</td>\n",
       "      <td>NaN</td>\n",
       "      <td>NaN</td>\n",
       "      <td>NaN</td>\n",
       "      <td>NaN</td>\n",
       "      <td>NaN</td>\n",
       "      <td>9.0</td>\n",
       "      <td>NaN</td>\n",
       "      <td>NaN</td>\n",
       "    </tr>\n",
       "    <tr>\n",
       "      <th>...</th>\n",
       "      <td>...</td>\n",
       "      <td>...</td>\n",
       "      <td>...</td>\n",
       "      <td>...</td>\n",
       "      <td>...</td>\n",
       "      <td>...</td>\n",
       "      <td>...</td>\n",
       "      <td>...</td>\n",
       "      <td>...</td>\n",
       "      <td>...</td>\n",
       "      <td>...</td>\n",
       "      <td>...</td>\n",
       "      <td>...</td>\n",
       "      <td>...</td>\n",
       "      <td>...</td>\n",
       "      <td>...</td>\n",
       "      <td>...</td>\n",
       "      <td>...</td>\n",
       "      <td>...</td>\n",
       "      <td>...</td>\n",
       "      <td>...</td>\n",
       "    </tr>\n",
       "    <tr>\n",
       "      <th>117440</th>\n",
       "      <td>NaN</td>\n",
       "      <td>NaN</td>\n",
       "      <td>NaN</td>\n",
       "      <td>NaN</td>\n",
       "      <td>6.0</td>\n",
       "      <td>NaN</td>\n",
       "      <td>NaN</td>\n",
       "      <td>NaN</td>\n",
       "      <td>NaN</td>\n",
       "      <td>NaN</td>\n",
       "      <td>...</td>\n",
       "      <td>NaN</td>\n",
       "      <td>NaN</td>\n",
       "      <td>4.0</td>\n",
       "      <td>6.0</td>\n",
       "      <td>NaN</td>\n",
       "      <td>NaN</td>\n",
       "      <td>NaN</td>\n",
       "      <td>NaN</td>\n",
       "      <td>NaN</td>\n",
       "      <td>5.0</td>\n",
       "    </tr>\n",
       "    <tr>\n",
       "      <th>117442</th>\n",
       "      <td>6.0</td>\n",
       "      <td>NaN</td>\n",
       "      <td>NaN</td>\n",
       "      <td>NaN</td>\n",
       "      <td>NaN</td>\n",
       "      <td>6.0</td>\n",
       "      <td>NaN</td>\n",
       "      <td>NaN</td>\n",
       "      <td>NaN</td>\n",
       "      <td>NaN</td>\n",
       "      <td>...</td>\n",
       "      <td>NaN</td>\n",
       "      <td>NaN</td>\n",
       "      <td>NaN</td>\n",
       "      <td>NaN</td>\n",
       "      <td>NaN</td>\n",
       "      <td>NaN</td>\n",
       "      <td>NaN</td>\n",
       "      <td>NaN</td>\n",
       "      <td>1.0</td>\n",
       "      <td>NaN</td>\n",
       "    </tr>\n",
       "    <tr>\n",
       "      <th>117446</th>\n",
       "      <td>NaN</td>\n",
       "      <td>NaN</td>\n",
       "      <td>NaN</td>\n",
       "      <td>NaN</td>\n",
       "      <td>NaN</td>\n",
       "      <td>NaN</td>\n",
       "      <td>NaN</td>\n",
       "      <td>NaN</td>\n",
       "      <td>NaN</td>\n",
       "      <td>3.0</td>\n",
       "      <td>...</td>\n",
       "      <td>5.0</td>\n",
       "      <td>NaN</td>\n",
       "      <td>NaN</td>\n",
       "      <td>NaN</td>\n",
       "      <td>NaN</td>\n",
       "      <td>NaN</td>\n",
       "      <td>NaN</td>\n",
       "      <td>NaN</td>\n",
       "      <td>NaN</td>\n",
       "      <td>NaN</td>\n",
       "    </tr>\n",
       "    <tr>\n",
       "      <th>117447</th>\n",
       "      <td>NaN</td>\n",
       "      <td>NaN</td>\n",
       "      <td>NaN</td>\n",
       "      <td>NaN</td>\n",
       "      <td>NaN</td>\n",
       "      <td>NaN</td>\n",
       "      <td>NaN</td>\n",
       "      <td>NaN</td>\n",
       "      <td>3.0</td>\n",
       "      <td>NaN</td>\n",
       "      <td>...</td>\n",
       "      <td>NaN</td>\n",
       "      <td>NaN</td>\n",
       "      <td>1.0</td>\n",
       "      <td>NaN</td>\n",
       "      <td>NaN</td>\n",
       "      <td>NaN</td>\n",
       "      <td>NaN</td>\n",
       "      <td>NaN</td>\n",
       "      <td>9.0</td>\n",
       "      <td>NaN</td>\n",
       "    </tr>\n",
       "    <tr>\n",
       "      <th>117449</th>\n",
       "      <td>NaN</td>\n",
       "      <td>NaN</td>\n",
       "      <td>NaN</td>\n",
       "      <td>NaN</td>\n",
       "      <td>NaN</td>\n",
       "      <td>NaN</td>\n",
       "      <td>NaN</td>\n",
       "      <td>4.0</td>\n",
       "      <td>NaN</td>\n",
       "      <td>NaN</td>\n",
       "      <td>...</td>\n",
       "      <td>7.0</td>\n",
       "      <td>NaN</td>\n",
       "      <td>NaN</td>\n",
       "      <td>NaN</td>\n",
       "      <td>NaN</td>\n",
       "      <td>NaN</td>\n",
       "      <td>NaN</td>\n",
       "      <td>NaN</td>\n",
       "      <td>NaN</td>\n",
       "      <td>NaN</td>\n",
       "    </tr>\n",
       "  </tbody>\n",
       "</table>\n",
       "<p>3000 rows × 75 columns</p>\n",
       "</div>"
      ],
      "text/plain": [
       "PRODUCT  adrian crater  anagram mentor  apropos pizza  bandit anatomy  \\\n",
       "USER ID                                                                 \n",
       "100950             NaN             NaN            NaN             NaN   \n",
       "100956             NaN             NaN            NaN             NaN   \n",
       "100962             NaN             NaN            NaN             NaN   \n",
       "100969             NaN            10.0            1.0             NaN   \n",
       "100974             NaN             NaN            NaN             9.0   \n",
       "...                ...             ...            ...             ...   \n",
       "117440             NaN             NaN            NaN             NaN   \n",
       "117442             6.0             NaN            NaN             NaN   \n",
       "117446             NaN             NaN            NaN             NaN   \n",
       "117447             NaN             NaN            NaN             NaN   \n",
       "117449             NaN             NaN            NaN             NaN   \n",
       "\n",
       "PRODUCT  banjo ladder  barcode arnold  bazooka diagram  bronze mystic  \\\n",
       "USER ID                                                                 \n",
       "100950            8.0             NaN              NaN            NaN   \n",
       "100956            NaN             5.0              NaN            NaN   \n",
       "100962            NaN             NaN              NaN            NaN   \n",
       "100969            5.0             NaN              NaN            NaN   \n",
       "100974            NaN             5.0              NaN            1.0   \n",
       "...               ...             ...              ...            ...   \n",
       "117440            6.0             NaN              NaN            NaN   \n",
       "117442            NaN             6.0              NaN            NaN   \n",
       "117446            NaN             NaN              NaN            NaN   \n",
       "117447            NaN             NaN              NaN            NaN   \n",
       "117449            NaN             NaN              NaN            4.0   \n",
       "\n",
       "PRODUCT  calypso zigzag  casino unit  ...  tourist micro  tripod stand  \\\n",
       "USER ID                               ...                                \n",
       "100950              5.0          NaN  ...            NaN           NaN   \n",
       "100956              NaN          NaN  ...            NaN           NaN   \n",
       "100962              NaN          NaN  ...            NaN           NaN   \n",
       "100969              NaN          NaN  ...            NaN           NaN   \n",
       "100974              NaN          NaN  ...            NaN           NaN   \n",
       "...                 ...          ...  ...            ...           ...   \n",
       "117440              NaN          NaN  ...            NaN           NaN   \n",
       "117442              NaN          NaN  ...            NaN           NaN   \n",
       "117446              NaN          3.0  ...            5.0           NaN   \n",
       "117447              3.0          NaN  ...            NaN           NaN   \n",
       "117449              NaN          NaN  ...            7.0           NaN   \n",
       "\n",
       "PRODUCT  update lola  ventura puzzle  viking llama  violet saga  vista queen  \\\n",
       "USER ID                                                                        \n",
       "100950           NaN             NaN           NaN          4.0          NaN   \n",
       "100956           NaN             NaN           NaN          NaN          NaN   \n",
       "100962           NaN             NaN           NaN          NaN          NaN   \n",
       "100969           5.0             NaN           NaN          0.0          NaN   \n",
       "100974           NaN             NaN           NaN          NaN          NaN   \n",
       "...              ...             ...           ...          ...          ...   \n",
       "117440           4.0             6.0           NaN          NaN          NaN   \n",
       "117442           NaN             NaN           NaN          NaN          NaN   \n",
       "117446           NaN             NaN           NaN          NaN          NaN   \n",
       "117447           1.0             NaN           NaN          NaN          NaN   \n",
       "117449           NaN             NaN           NaN          NaN          NaN   \n",
       "\n",
       "PRODUCT  viva avalon  voodoo planet  wheel gibson  \n",
       "USER ID                                            \n",
       "100950           NaN            NaN           NaN  \n",
       "100956           NaN            NaN           NaN  \n",
       "100962           NaN            NaN           NaN  \n",
       "100969           NaN            8.0           2.0  \n",
       "100974           9.0            NaN           NaN  \n",
       "...              ...            ...           ...  \n",
       "117440           NaN            NaN           5.0  \n",
       "117442           NaN            1.0           NaN  \n",
       "117446           NaN            NaN           NaN  \n",
       "117447           NaN            9.0           NaN  \n",
       "117449           NaN            NaN           NaN  \n",
       "\n",
       "[3000 rows x 75 columns]"
      ]
     },
     "execution_count": 22,
     "metadata": {},
     "output_type": "execute_result"
    }
   ],
   "source": [
    "#display full dataset\n",
    "user_ratings_table = pd.pivot_table(user_ratings,values='RATING', index='USER ID',\n",
    "                    columns='PRODUCT')\n",
    "user_ratings_table\n"
   ]
  },
  {
   "cell_type": "code",
   "execution_count": 23,
   "id": "5c6105f5",
   "metadata": {},
   "outputs": [
    {
     "data": {
      "text/plain": [
       "array([[0., 0., 0., ..., 0., 0., 0.],\n",
       "       [0., 0., 0., ..., 0., 0., 0.],\n",
       "       [0., 0., 0., ..., 0., 0., 0.],\n",
       "       ...,\n",
       "       [0., 0., 0., ..., 0., 0., 0.],\n",
       "       [0., 0., 0., ..., 0., 9., 0.],\n",
       "       [0., 0., 0., ..., 0., 0., 0.]])"
      ]
     },
     "execution_count": 23,
     "metadata": {},
     "output_type": "execute_result"
    }
   ],
   "source": [
    "#convert the data frame to a matrix and replace nan with zeros\n",
    "userR = user_ratings_table.fillna(0)\n",
    "userR = userR.to_numpy()\n",
    "#userR = user_ratings_table.to_numpy()\n",
    "#fill entries with nan by 0\n",
    "#for i in range (len(userR)):\n",
    "    #for j in range (len(userR[0])):\n",
    "        #if (math.isnan(userR[i,j])):\n",
    "            #userR[i,j] = 0\n",
    "userR"
   ]
  },
  {
   "cell_type": "code",
   "execution_count": 24,
   "id": "ccde6635",
   "metadata": {},
   "outputs": [
    {
     "data": {
      "text/html": [
       "<div>\n",
       "<style scoped>\n",
       "    .dataframe tbody tr th:only-of-type {\n",
       "        vertical-align: middle;\n",
       "    }\n",
       "\n",
       "    .dataframe tbody tr th {\n",
       "        vertical-align: top;\n",
       "    }\n",
       "\n",
       "    .dataframe thead th {\n",
       "        text-align: right;\n",
       "    }\n",
       "</style>\n",
       "<table border=\"1\" class=\"dataframe\">\n",
       "  <thead>\n",
       "    <tr style=\"text-align: right;\">\n",
       "      <th></th>\n",
       "      <th>USER ID</th>\n",
       "      <th>Exist</th>\n",
       "    </tr>\n",
       "  </thead>\n",
       "  <tbody>\n",
       "    <tr>\n",
       "      <th>0</th>\n",
       "      <td>100950</td>\n",
       "      <td>both</td>\n",
       "    </tr>\n",
       "    <tr>\n",
       "      <th>1</th>\n",
       "      <td>100950</td>\n",
       "      <td>both</td>\n",
       "    </tr>\n",
       "    <tr>\n",
       "      <th>2</th>\n",
       "      <td>100950</td>\n",
       "      <td>both</td>\n",
       "    </tr>\n",
       "    <tr>\n",
       "      <th>3</th>\n",
       "      <td>100950</td>\n",
       "      <td>both</td>\n",
       "    </tr>\n",
       "    <tr>\n",
       "      <th>4</th>\n",
       "      <td>100950</td>\n",
       "      <td>both</td>\n",
       "    </tr>\n",
       "    <tr>\n",
       "      <th>...</th>\n",
       "      <td>...</td>\n",
       "      <td>...</td>\n",
       "    </tr>\n",
       "    <tr>\n",
       "      <th>33720</th>\n",
       "      <td>117449</td>\n",
       "      <td>both</td>\n",
       "    </tr>\n",
       "    <tr>\n",
       "      <th>33721</th>\n",
       "      <td>117449</td>\n",
       "      <td>both</td>\n",
       "    </tr>\n",
       "    <tr>\n",
       "      <th>33722</th>\n",
       "      <td>117449</td>\n",
       "      <td>both</td>\n",
       "    </tr>\n",
       "    <tr>\n",
       "      <th>33723</th>\n",
       "      <td>117449</td>\n",
       "      <td>both</td>\n",
       "    </tr>\n",
       "    <tr>\n",
       "      <th>33724</th>\n",
       "      <td>117449</td>\n",
       "      <td>both</td>\n",
       "    </tr>\n",
       "  </tbody>\n",
       "</table>\n",
       "<p>33725 rows × 2 columns</p>\n",
       "</div>"
      ],
      "text/plain": [
       "       USER ID Exist\n",
       "0       100950  both\n",
       "1       100950  both\n",
       "2       100950  both\n",
       "3       100950  both\n",
       "4       100950  both\n",
       "...        ...   ...\n",
       "33720   117449  both\n",
       "33721   117449  both\n",
       "33722   117449  both\n",
       "33723   117449  both\n",
       "33724   117449  both\n",
       "\n",
       "[33725 rows x 2 columns]"
      ]
     },
     "execution_count": 24,
     "metadata": {},
     "output_type": "execute_result"
    }
   ],
   "source": [
    "#Find duplicates ID that exist in both history and ratings\n",
    "duplicates = pd.merge(user_history[\"USER ID\"], user_ratings[\"USER ID\"], how='outer', indicator='Exist')\n",
    "duplicates = duplicates.loc[duplicates['Exist'] == 'both']\n",
    "duplicates"
   ]
  },
  {
   "cell_type": "code",
   "execution_count": 25,
   "id": "c04f0402",
   "metadata": {},
   "outputs": [
    {
     "name": "stdout",
     "output_type": "stream",
     "text": [
      "[[ 1.00950000e+05 -2.59702368e+00 -1.26912601e+00  6.06181224e+00]\n",
      " [ 1.00956000e+05  1.80500661e+00 -3.97689757e+00 -5.64866447e+00]\n",
      " [ 1.00962000e+05 -5.19788223e+00 -6.54200793e-01 -5.40409166e+00]\n",
      " ...\n",
      " [ 1.25629000e+05 -1.08702307e+00  6.43732680e-01  6.75333321e+00]\n",
      " [ 1.25636000e+05  1.58789932e+00  1.95978587e+00 -6.75886986e+00]\n",
      " [ 1.25645000e+05  4.20999819e+00 -9.79977880e-01 -5.86915273e+00]]\n"
     ]
    }
   ],
   "source": [
    "#keep only IDs that exist in both dataset in history\n",
    "user_his = user_history[user_history[\"USER ID\"].isin(duplicates[\"USER ID\"])]\n",
    "user_his = pd.DataFrame(user_his)\n",
    "user_his\n",
    "userR[:,0]\n",
    "print (X)"
   ]
  },
  {
   "cell_type": "code",
   "execution_count": 26,
   "id": "14a444c1",
   "metadata": {},
   "outputs": [
    {
     "name": "stdout",
     "output_type": "stream",
     "text": [
      "Coefficients: \n",
      " [-0.15627289  0.10045419  0.18088314  0.09840717 -0.09606579  0.05738816\n",
      " -0.22745738 -0.27879114 -0.19402719 -0.01781725 -0.07629769 -0.09640856\n",
      " -0.01711316  0.14183769  0.43987017 -0.42548302 -0.05370199 -0.14138967\n",
      "  0.05094748 -0.02990476  0.28095832 -0.18766124  0.11833953 -0.09715069\n",
      " -0.2935032  -0.18047345  0.07887989  0.00388338  0.01789712 -0.32201804\n",
      "  0.32117282 -0.18887334 -0.08628224 -0.24821569  0.22285391 -0.40863919\n",
      " -0.03985729  0.00867417  0.02053839  0.14957277 -0.21544793 -0.01105673\n",
      " -0.1755516  -0.17677167  0.30869235 -0.11967231  0.16973678  0.11320999\n",
      "  0.24170644  0.06175494  0.1468441  -0.12045702 -0.15932461  0.08806965\n",
      " -0.35092353 -0.26511454  0.13509404 -0.00666074  0.04637064  0.02449703\n",
      "  0.19987408 -0.29935342  0.20086279 -0.08567959 -0.12313557 -0.00153406\n",
      "  0.11343604  0.03314426  0.07390504  0.08724655  0.24524159 -0.011683\n",
      " -0.15538853 -0.10308439  0.2464226  -0.03533681  0.10375116  0.15805232\n",
      "  0.23195298 -0.04556665 -0.21520984  0.14486738  0.30893841  0.11451947\n",
      " -0.06227093 -0.30669826  0.13316826  0.16626935  0.11463723  0.0129384\n",
      "  0.25811521 -0.10697088 -0.07850355 -0.05993794  0.13414708 -0.25522624\n",
      "  0.34168806 -0.0524449   0.29959986 -0.10566391]\n",
      "Mean squared error:  4.329353826660119\n"
     ]
    },
    {
     "data": {
      "image/png": "[encoded data removed]",
      "text/plain": [
       "<Figure size 432x288 with 1 Axes>"
      ]
     },
     "metadata": {},
     "output_type": "display_data"
    }
   ],
   "source": [
    "#fit regression model\n",
    "y = userR[:,0] #set y, you can change columns of userR to fit each product to a regression model\n",
    "user_hisw = user_his.drop(['USER ID'],axis=1)\n",
    "n,p = user_hisw.shape\n",
    "X1 = np.ones((n, p + 1)) #add intercept\n",
    "X1[:, 1:] = user_hisw\n",
    "\n",
    "#compute betahat\n",
    "U, S, Vt = np.linalg.svd(X1[:,1:].T @ X1[:,1:])\n",
    "betat = Vt.T @ (U.T @ (X1[:,1:].T @ y) / S)\n",
    "betat\n",
    "# compute predictions\n",
    "y_pred = X1[:,1:] @ betat\n",
    "# compute MSE\n",
    "MSE = np.mean((y - y_pred) ** 2)\n",
    "\n",
    "# The coefficients\n",
    "print('Coefficients: \\n', betat)\n",
    "# The mean squared error\n",
    "print('Mean squared error: ', MSE)\n",
    "\n",
    "#plot the output\n",
    "plt.scatter(X1[:, 3], y,  color='black')\n",
    "plt.plot(X1[:, 3], y_pred, 'ob')\n",
    "\n",
    "plt.xticks(())\n",
    "plt.yticks(())\n",
    "\n",
    "plt.show()"
   ]
  },
  {
   "cell_type": "code",
   "execution_count": 27,
   "id": "0d906ec5",
   "metadata": {},
   "outputs": [],
   "source": [
    "def MSE(U, V, M, obs):\n",
    "    s = 0\n",
    "    st = 0\n",
    "    nSamp = len(obs)\n",
    "    for l in range(nSamp):\n",
    "        i, j = obs[l]\n",
    "        s += (np.dot(U[i, :], V[j, :].T) - M[i, j])**2\n",
    "    return np.sqrt(s)\n",
    "\n",
    "# compute relative Frobenius error: NORM(UV-M, 'fro')/NORM(M, 'fro')\n",
    "def RelError(U, V, M, obs):\n",
    "    s = 0\n",
    "    st = 0\n",
    "    nSamp = len(obs)\n",
    "    for l in range(nSamp):\n",
    "        i, j = obs[l]\n",
    "        s += (np.dot(U[i, :], V[j, :].T) - M[i, j])**2\n",
    "        st += (M[i, j])**2\n",
    "    return np.sqrt(s)/np.sqrt(st)"
   ]
  },
  {
   "cell_type": "code",
   "execution_count": 28,
   "id": "2cad9558",
   "metadata": {},
   "outputs": [
    {
     "ename": "NameError",
     "evalue": "name 'sparse' is not defined",
     "output_type": "error",
     "traceback": [
      "\u001b[1;31m---------------------------------------------------------------------------\u001b[0m",
      "\u001b[1;31mNameError\u001b[0m                                 Traceback (most recent call last)",
      "\u001b[1;32m<ipython-input-28-ec54a2d4bc0a>\u001b[0m in \u001b[0;36m<module>\u001b[1;34m\u001b[0m\n\u001b[0;32m      6\u001b[0m \u001b[0mratings\u001b[0m \u001b[1;33m=\u001b[0m \u001b[0muser_ratingsS\u001b[0m\u001b[1;33m[\u001b[0m\u001b[1;34m'RATING'\u001b[0m\u001b[1;33m]\u001b[0m\u001b[1;33m.\u001b[0m\u001b[0mvalues\u001b[0m\u001b[1;33m\u001b[0m\u001b[1;33m\u001b[0m\u001b[0m\n\u001b[0;32m      7\u001b[0m \u001b[0mobs\u001b[0m \u001b[1;33m=\u001b[0m \u001b[1;33m[\u001b[0m\u001b[1;33m(\u001b[0m\u001b[0musers\u001b[0m\u001b[1;33m[\u001b[0m\u001b[0mi\u001b[0m\u001b[1;33m]\u001b[0m\u001b[1;33m,\u001b[0m \u001b[0mmovies\u001b[0m\u001b[1;33m[\u001b[0m\u001b[0mi\u001b[0m\u001b[1;33m]\u001b[0m\u001b[1;33m)\u001b[0m \u001b[1;32mfor\u001b[0m \u001b[0mi\u001b[0m \u001b[1;32min\u001b[0m \u001b[0mrange\u001b[0m\u001b[1;33m(\u001b[0m\u001b[0mlen\u001b[0m\u001b[1;33m(\u001b[0m\u001b[0musers\u001b[0m\u001b[1;33m)\u001b[0m\u001b[1;33m)\u001b[0m\u001b[1;33m]\u001b[0m\u001b[1;33m\u001b[0m\u001b[1;33m\u001b[0m\u001b[0m\n\u001b[1;32m----> 8\u001b[1;33m \u001b[0mM\u001b[0m \u001b[1;33m=\u001b[0m \u001b[0msparse\u001b[0m\u001b[1;33m.\u001b[0m\u001b[0mcoo_matrix\u001b[0m\u001b[1;33m(\u001b[0m\u001b[1;33m(\u001b[0m\u001b[0mratings\u001b[0m\u001b[1;33m,\u001b[0m \u001b[1;33m(\u001b[0m\u001b[0musers\u001b[0m\u001b[1;33m,\u001b[0m\u001b[0mmovies\u001b[0m\u001b[1;33m)\u001b[0m\u001b[1;33m)\u001b[0m\u001b[1;33m)\u001b[0m\u001b[1;33m.\u001b[0m\u001b[0mtocsr\u001b[0m\u001b[1;33m(\u001b[0m\u001b[1;33m)\u001b[0m\u001b[1;33m\u001b[0m\u001b[1;33m\u001b[0m\u001b[0m\n\u001b[0m\u001b[0;32m      9\u001b[0m \u001b[0mprint\u001b[0m\u001b[1;33m(\u001b[0m\u001b[0mM\u001b[0m\u001b[1;33m)\u001b[0m\u001b[1;33m\u001b[0m\u001b[1;33m\u001b[0m\u001b[0m\n",
      "\u001b[1;31mNameError\u001b[0m: name 'sparse' is not defined"
     ]
    }
   ],
   "source": [
    "M = user_ratings.pivot(index='USER INDEX', columns='PRODUCT ID', values='RATING').values\n",
    "\n",
    "user_ratingsS = user_ratings.sort_values([\"USER INDEX\",\"PRODUCT ID\"])\n",
    "users = user_ratingsS['USER INDEX'].values\n",
    "movies = user_ratingsS['PRODUCT ID'].values\n",
    "ratings = user_ratingsS['RATING'].values\n",
    "obs = [(users[i], movies[i]) for i in range(len(users))]\n",
    "M = sparse.coo_matrix((ratings, (users,movies))).tocsr()\n",
    "print(M)"
   ]
  },
  {
   "cell_type": "code",
   "execution_count": 32,
   "id": "048ecacf",
   "metadata": {},
   "outputs": [],
   "source": [
    "# Matrix completion via gradient descent\n",
    "class Matrix_completion():\n",
    "    \n",
    "    def __init__(self, R, K, alpha, beta, iters):\n",
    "        \n",
    "        self.R = R\n",
    "        self.users, self.movies = R.shape\n",
    "        self.K = K\n",
    "        self.alpha = alpha\n",
    "        self.beta = beta\n",
    "        self.iters = iters\n",
    "        \"\"\" \n",
    "        R = the input dataset\n",
    "        num_users = user features\n",
    "        num_movies = movie features\n",
    "        K = low rank approxiamation\n",
    "        alpha = the learning rate\n",
    "        beta = regularization\n",
    "        iters = number of iterations\n",
    "        \"\"\"\n",
    "    # training process by sgd\n",
    "    def train(self):\n",
    "        # construct two random matrix for Pt, Qt\n",
    "        self.Pt = np.random.normal(scale=1./self.K, size=(self.users, self.K))\n",
    "        self.Qt = np.random.normal(scale=1./self.K, size=(self.movies, self.K))\n",
    "        \n",
    "        # construct matrix for bias\n",
    "        self.userb = np.zeros(self.users)\n",
    "        self.movieb = np.zeros(self.movies)\n",
    "        self.b = np.mean(self.R[np.where(self.R != 0)])\n",
    "        \n",
    "        # Create a training sample\n",
    "        self.samples = [\n",
    "            (i, j, self.R[i, j])\n",
    "            for i in range(self.users)\n",
    "            for j in range(self.movies)\n",
    "            if self.R[i, j] > 0\n",
    "        ]\n",
    "        \n",
    "        # SGD with defined iterations\n",
    "        training = []\n",
    "        for i in range(self.iters):\n",
    "            np.random.shuffle(self.samples)\n",
    "            self.sgd()\n",
    "            mse = self.mse()\n",
    "            training.append((i, mse))\n",
    "            if (i+1) % 10 == 0:\n",
    "                print(\"Iteration: %d ; error = %.4f\" % (i+1, mse))\n",
    "        \n",
    "        return training\n",
    "    \n",
    "    # compute the mean square error\n",
    "    def mse(self):\n",
    "        \n",
    "        xs, ys = self.R.nonzero()\n",
    "        predicted = self.approximation()\n",
    "        error = 0\n",
    "        for x, y in zip(xs, ys):\n",
    "            error += pow(self.R[x, y] - predicted[x, y], 2)\n",
    "        return np.sqrt(error)\n",
    "\n",
    "    #compute SGD\n",
    "    def sgd(self):\n",
    "        \n",
    "        for i, j, r in self.samples:\n",
    "            # Compute prediction and error\n",
    "            prediction = self.Prediction(i, j)\n",
    "            e = (r - prediction)\n",
    "            \n",
    "            # Update biases\n",
    "            self.userb[i] += self.alpha * (e - self.beta * self.userb[i])\n",
    "            self.movieb[j] += self.alpha * (e - self.beta * self.movieb[j])\n",
    "            \n",
    "            # create another P since we need previous P to compute Q\n",
    "            P_i = self.Pt[i, :][:]\n",
    "            \n",
    "            # update predicted ratings\n",
    "            self.Pt[i, :] += self.alpha * (e * self.Qt[j, :] - self.beta * self.Pt[i,:])\n",
    "            self.Qt[j, :] += self.alpha * (e * P_i - self.beta * self.Qt[j,:])\n",
    "      \n",
    "    # compute predictions\n",
    "    def Prediction(self, i, j):\n",
    "        \n",
    "        prediction = self.b + self.userb[i] + self.movieb[j] + self.Pt[i, :].dot(self.Qt[j, :].T)\n",
    "        return prediction\n",
    "    \n",
    "    # compute the estimated full matrix of ratings by Pt, Qt and bias\n",
    "    def approximation(self):\n",
    "        \n",
    "        return mf.b + mf.userb[:,np.newaxis] + mf.movieb[np.newaxis:,] + mf.Pt.dot(mf.Qt.T)\n"
   ]
  },
  {
   "cell_type": "code",
   "execution_count": 33,
   "id": "f5ca5d30",
   "metadata": {},
   "outputs": [],
   "source": [
    "mf = Matrix_completion(userR, K=10, alpha=0.01, beta=0.001, iters=50)"
   ]
  },
  {
   "cell_type": "code",
   "execution_count": 34,
   "id": "243f2cec",
   "metadata": {},
   "outputs": [
    {
     "name": "stdout",
     "output_type": "stream",
     "text": [
      "Iteration: 10 ; error = 125.1250\n",
      "Iteration: 20 ; error = 72.9693\n",
      "Iteration: 30 ; error = 58.5458\n",
      "Iteration: 40 ; error = 51.6533\n",
      "Iteration: 50 ; error = 47.6298\n",
      "[[ 1.55758766  7.77496728  6.39110624 ...  2.69186525  7.0170893\n",
      "   4.36449851]\n",
      " [ 2.64364341  3.7025669   7.07629654 ...  7.19545433  2.39775458\n",
      "   4.95403123]\n",
      " [ 5.28062498 10.6785973   4.51263639 ...  5.43745945  5.36559327\n",
      "   7.52699857]\n",
      " ...\n",
      " [ 6.09250403 -0.33247237  2.6252802  ...  0.54495819  5.3396423\n",
      "  -1.02540686]\n",
      " [10.18639746  2.05801277  1.93552544 ...  3.7363765   8.16273214\n",
      "   7.94523864]\n",
      " [10.91642229  5.95950389  0.41584436 ...  3.18912633  2.56122369\n",
      "   7.58644319]]\n"
     ]
    }
   ],
   "source": [
    "training = mf.train()\n",
    "print(mf.approximation())\n",
    "sd = mf.approximation()"
   ]
  },
  {
   "cell_type": "code",
   "execution_count": 35,
   "id": "fb8d1827",
   "metadata": {},
   "outputs": [
    {
     "data": {
      "image/png": "[encoded data removed]",
      "text/plain": [
       "<Figure size 1152x288 with 1 Axes>"
      ]
     },
     "metadata": {
      "needs_background": "light"
     },
     "output_type": "display_data"
    }
   ],
   "source": [
    "#plot the convergence of mean square error\n",
    "x = [x for x, y in training]\n",
    "y = [y for x, y in training]\n",
    "plt.figure(figsize=((16,4)))\n",
    "plt.plot(x, y)\n",
    "plt.xticks(x, x)\n",
    "plt.xlabel(\"Iterations\")\n",
    "plt.ylabel(\"Mean Square Error\")\n",
    "plt.grid(axis=\"y\")"
   ]
  },
  {
   "cell_type": "code",
   "execution_count": 36,
   "id": "66a4de4c",
   "metadata": {},
   "outputs": [
    {
     "name": "stdout",
     "output_type": "stream",
     "text": [
      "[[ 1.00950000e+05 -2.59702368e+00 -1.26912601e+00  6.06181224e+00]\n",
      " [ 1.00956000e+05  1.80500661e+00 -3.97689757e+00 -5.64866447e+00]\n",
      " [ 1.00962000e+05 -5.19788223e+00 -6.54200793e-01 -5.40409166e+00]\n",
      " ...\n",
      " [ 1.25629000e+05 -1.08702307e+00  6.43732680e-01  6.75333321e+00]\n",
      " [ 1.25636000e+05  1.58789932e+00  1.95978587e+00 -6.75886986e+00]\n",
      " [ 1.25645000e+05  4.20999819e+00 -9.79977880e-01 -5.86915273e+00]]\n",
      "(4500, 4)\n"
     ]
    }
   ],
   "source": [
    "print(X)\n",
    "print(X.shape)"
   ]
  },
  {
   "cell_type": "code",
   "execution_count": 37,
   "id": "45700ada",
   "metadata": {},
   "outputs": [
    {
     "name": "stdout",
     "output_type": "stream",
     "text": [
      "[-0.89582662  4.29071291  2.02962297 ...  1.60526501  3.22881042\n",
      "  0.03543329]\n"
     ]
    }
   ],
   "source": [
    "betat = np.linalg.lstsq(X[:3000,1:],sd[:,0],rcond=None)[0]\n",
    "\n",
    "print(X[:3000,1:] @ betat)"
   ]
  },
  {
   "cell_type": "code",
   "execution_count": null,
   "id": "dc7dae1b",
   "metadata": {},
   "outputs": [
    {
     "data": {
      "text/plain": [
       "\"# Make a prediction with coefficients\\ndef predict(row, coefficients):\\n    yhat = coefficients[0]\\n    for i in range(len(row)-1):\\n        yhat += coefficients[i + 1] * row[i]\\n    return yhat\\n \\n# Estimate linear regression coefficients using stochastic gradient descent\\ndef coefficients_sgd(train, l_rate, n_epoch):\\n    coef = [0.0 for i in range(len(train[0]))]\\n    for epoch in range(n_epoch):\\n        sum_error = 0\\n        for row in train:\\n            yhat = predict(row, coef)\\n            error = yhat - row[-1]\\n            sum_error += error**2\\n            coef[0] = coef[0] - l_rate * error\\n            for i in range(len(row)-1):\\n                coef[i + 1] = coef[i + 1] - l_rate * error * row[i]\\n        print('>epoch=%d, lrate=%.3f, error=%.3f' % (epoch, l_rate, sum_error))\\n    return coef\\n \\n# Calculate coefficients\\ndataset = [[1, 1], [2, 3], [4, 3], [3, 2], [5, 5]]\\nl_rate = 0.001\\nn_epoch = 50\\ncoef = coefficients_sgd(dataset, l_rate, n_epoch)\\nprint(coef)\""
      ]
     },
     "execution_count": 236,
     "metadata": {},
     "output_type": "execute_result"
    }
   ],
   "source": [
    "'''# Make a prediction with coefficients\n",
    "def predict(row, coefficients):\n",
    "    yhat = coefficients[0]\n",
    "    for i in range(len(row)-1):\n",
    "        yhat += coefficients[i + 1] * row[i]\n",
    "    return yhat\n",
    " \n",
    "# Estimate linear regression coefficients using stochastic gradient descent\n",
    "def coefficients_sgd(train, l_rate, n_epoch):\n",
    "    coef = [0.0 for i in range(len(train[0]))]\n",
    "    for epoch in range(n_epoch):\n",
    "        sum_error = 0\n",
    "        for row in train:\n",
    "            yhat = predict(row, coef)\n",
    "            error = yhat - row[-1]\n",
    "            sum_error += error**2\n",
    "            coef[0] = coef[0] - l_rate * error\n",
    "            for i in range(len(row)-1):\n",
    "                coef[i + 1] = coef[i + 1] - l_rate * error * row[i]\n",
    "        print('>epoch=%d, lrate=%.3f, error=%.3f' % (epoch, l_rate, sum_error))\n",
    "    return coef\n",
    " \n",
    "# Calculate coefficients\n",
    "dataset = [[1, 1], [2, 3], [4, 3], [3, 2], [5, 5]]\n",
    "l_rate = 0.001\n",
    "n_epoch = 50\n",
    "coef = coefficients_sgd(dataset, l_rate, n_epoch)\n",
    "print(coef)'''"
   ]
  },
  {
   "cell_type": "code",
   "execution_count": null,
   "id": "949d69c9",
   "metadata": {},
   "outputs": [
    {
     "data": {
      "text/plain": [
       "'m = np.array([0.,0.,0.])\\nc = 0\\nXX = X[:3000,:]\\nL = 0.0001\\nepochs = 1000\\n\\nn = float (len(XX[0]))\\nY = sd[:,0]\\n\\nfor i in range (epochs):\\n    Y_pred = XX @ m + c\\n    D_m = (-2/n) * sum(XX * (Y - Y_pred))\\n    D_c = (-2/n) * sum(Y - Y_pred)\\n    m = m - L * D_m\\n    c = c - L * D_c\\n    \\nprint (m,c)\\n\\nprint (XX @ m) '"
      ]
     },
     "execution_count": 237,
     "metadata": {},
     "output_type": "execute_result"
    }
   ],
   "source": [
    "'''m = np.array([0.,0.,0.])\n",
    "c = 0\n",
    "XX = X[:3000,:]\n",
    "L = 0.0001\n",
    "epochs = 1000\n",
    "\n",
    "n = float (len(XX[0]))\n",
    "Y = sd[:,0]\n",
    "\n",
    "for i in range (epochs):\n",
    "    Y_pred = XX @ m + c\n",
    "    D_m = (-2/n) * sum(XX * (Y - Y_pred))\n",
    "    D_c = (-2/n) * sum(Y - Y_pred)\n",
    "    m = m - L * D_m\n",
    "    c = c - L * D_c\n",
    "    \n",
    "print (m,c)\n",
    "\n",
    "print (XX @ m) '''"
   ]
  },
  {
   "cell_type": "code",
   "execution_count": 38,
   "id": "6f3a3050",
   "metadata": {},
   "outputs": [
    {
     "name": "stdout",
     "output_type": "stream",
     "text": [
      "(75, 3)\n",
      "[[ 0.19245867 -0.61227265 -0.49944599]\n",
      " [-0.31188417 -0.04604624 -0.2232054 ]\n",
      " [ 0.29652716  0.01166179 -0.18757196]\n",
      " [-0.45269808 -0.00671423 -0.29875806]\n",
      " [-0.49195866 -0.17265702 -0.53383031]\n",
      " [-0.26034932 -0.41373811 -0.20639981]\n",
      " [-0.28363871 -0.28747457 -0.31976479]\n",
      " [ 0.29705324 -0.335272   -0.24668933]\n",
      " [ 0.61071827  0.3616046  -0.46582383]\n",
      " [ 0.17359799 -0.16253982 -0.38430942]\n",
      " [ 0.36171373 -0.29670847 -0.39143005]\n",
      " [-0.76385911  0.79022173 -0.42400898]\n",
      " [ 0.2119388  -0.36486548 -0.291889  ]\n",
      " [ 0.70335777 -0.23850763 -0.21069368]\n",
      " [-0.49765657 -0.28826223 -0.23537889]\n",
      " [ 0.11649808 -0.21230932 -0.44346123]\n",
      " [ 0.33243694  0.16604986 -0.36516758]\n",
      " [ 0.29259726 -0.37864286 -0.43248445]\n",
      " [ 0.08751714  0.29121327 -0.04286909]\n",
      " [ 0.57842633  0.63156715 -0.11691377]\n",
      " [-0.25281043  0.49214855 -0.2851881 ]\n",
      " [-0.16592447 -0.72304559 -0.27310305]\n",
      " [-0.08695924  0.58490237 -0.17900016]\n",
      " [-0.88328497  0.32454288 -0.06965675]\n",
      " [ 0.08796783  0.00644316 -0.20469063]\n",
      " [ 0.21001399  0.04698448 -0.26174004]\n",
      " [ 0.3152614   0.3555524  -0.23204481]\n",
      " [ 0.09847387 -0.16251201  0.08977216]\n",
      " [ 0.01793774  0.16224491 -0.39235798]\n",
      " [ 0.63476018 -0.0547076  -0.38605349]\n",
      " [-0.3784112  -0.49047454 -0.31362185]\n",
      " [ 0.27480127 -0.74861373 -0.27608268]\n",
      " [ 0.11396562 -0.13595368 -0.06352571]\n",
      " [-0.32852841  0.53498697 -0.34273928]\n",
      " [-0.71068156  0.03044677 -0.49838472]\n",
      " [-0.00186868  0.09836585 -0.24250947]\n",
      " [ 0.3844744  -0.60229665 -0.22859727]\n",
      " [-0.0686125  -0.10332663 -0.0260381 ]\n",
      " [ 0.75162626  0.21916782 -0.43107366]\n",
      " [-0.58927553  0.08497742  0.10410915]\n",
      " [-0.13015574  0.27919782 -0.01617176]\n",
      " [ 0.25304785  0.10771243 -0.49682625]\n",
      " [ 0.51947716 -0.36236143 -0.47000796]\n",
      " [-0.2853958   0.58740715 -0.37877749]\n",
      " [ 0.60851611 -0.32156816 -0.42591772]\n",
      " [ 0.65591878 -0.0600261  -0.15247865]\n",
      " [ 0.26395691 -0.03176993 -0.113796  ]\n",
      " [ 0.2696012  -0.12279141 -0.43619973]\n",
      " [-0.15644832  0.11425098 -0.06906271]\n",
      " [ 0.30260719 -0.28361222 -0.12520678]\n",
      " [-0.51077356 -0.26747986 -0.14663629]\n",
      " [ 0.00878228  0.47886574 -0.38866058]\n",
      " [ 0.49441178  0.64548455 -0.32634956]\n",
      " [-0.09177022  0.79775641 -0.20881892]\n",
      " [-0.00324528  0.81326775  0.03438539]\n",
      " [ 0.308134    0.4499155  -0.55173844]\n",
      " [-0.49585316  0.61678937 -0.39761425]\n",
      " [ 0.71056703 -0.21027695 -0.20188991]\n",
      " [ 0.43181018  0.75928106 -0.23419687]\n",
      " [ 0.06793988 -0.93767385 -0.23684866]\n",
      " [-0.36040704 -0.12959697 -0.33630751]\n",
      " [ 0.11803527  0.41028088 -0.25488111]\n",
      " [ 0.5742547  -0.68101985 -0.32695081]\n",
      " [-0.2632626   0.87277313 -0.47661974]\n",
      " [-0.19756965 -0.02037599 -0.2588147 ]\n",
      " [ 0.42406199 -0.32318418 -0.52046316]\n",
      " [-0.30081653 -0.01006671 -0.18330024]\n",
      " [ 0.78801224  0.34912213 -0.16426455]\n",
      " [ 0.10812124  0.33107834 -0.41108245]\n",
      " [ 0.18853034  0.15616433 -0.5657152 ]\n",
      " [-0.1525728   0.7193777  -0.02981173]\n",
      " [ 0.22581981  0.28305857 -0.29265318]\n",
      " [-0.10024697  0.65886741 -0.3560312 ]\n",
      " [-0.22958911 -0.49449823 -0.28286737]\n",
      " [-0.63281897  0.03522618 -0.01281608]]\n"
     ]
    },
    {
     "data": {
      "text/plain": [
       "\"npts = 100\\nx = np.linspace(-1, 3, npts)\\ny = np.linspace(-1, 3, npts)\\n\\nz = np.zeros((npts, npts))\\nfor i in range(npts):\\n    for j in range(npts):\\n        z[j, i] = F([x[i], y[j]], X, Y)\\n        \\n\\n\\nfig, axs = plt.subplots(1,1, figsize = (10, 5))\\naxs.contour(x, y, z)\\naxs.plot(betahat[0], betahat[1], 'bo', markersize = 15)\\naxs.plot(betat[:,0], betat[:, 1], 'ro-')\""
      ]
     },
     "execution_count": 38,
     "metadata": {},
     "output_type": "execute_result"
    }
   ],
   "source": [
    "X2 = np.delete(X,0,1)\n",
    "X2 = X2[:3000,:]\n",
    "def s_grad_F_j(beta, X, Y):\n",
    "    return 2 * (X @ beta - Y) * X\n",
    "\n",
    "niter = 1000\n",
    "n = 3000\n",
    "betat1 = np.zeros((niter, len(X2[0])))\n",
    "XtX = X2.T @ X2\n",
    "eta = 0.001\n",
    "result = np.zeros((75,3))  \n",
    "\n",
    "for i in range (len(sd[0])):\n",
    "    Y = sd[:,i]\n",
    "    #eta = 0.01\n",
    "    for t in range(1, niter):\n",
    "        j = np.random.randint(n)\n",
    "        betat1[t, :] = betat1[t-1, :] - eta * s_grad_F_j(betat1[t-1, :], X2[j, :], Y[j])\n",
    "        \n",
    "    result[i,:] = betat1[-1,:]\n",
    "\n",
    "print (result.shape)\n",
    "print (result)\n",
    "\n",
    "\n",
    "'''npts = 100\n",
    "x = np.linspace(-1, 3, npts)\n",
    "y = np.linspace(-1, 3, npts)\n",
    "\n",
    "z = np.zeros((npts, npts))\n",
    "for i in range(npts):\n",
    "    for j in range(npts):\n",
    "        z[j, i] = F([x[i], y[j]], X, Y)\n",
    "        \n",
    "\n",
    "\n",
    "fig, axs = plt.subplots(1,1, figsize = (10, 5))\n",
    "axs.contour(x, y, z)\n",
    "axs.plot(betahat[0], betahat[1], 'bo', markersize = 15)\n",
    "axs.plot(betat[:,0], betat[:, 1], 'ro-')'''"
   ]
  },
  {
   "cell_type": "code",
   "execution_count": 39,
   "id": "d200b353",
   "metadata": {},
   "outputs": [
    {
     "name": "stdout",
     "output_type": "stream",
     "text": [
      "(3000, 3)\n",
      "(75, 3)\n"
     ]
    },
    {
     "data": {
      "text/plain": [
       "array([[-2.75031637, -0.48462018, -1.92191431, ..., -2.73403627,\n",
       "        -0.49085994,  1.52105074],\n",
       "       [ 5.6035376 ,  0.8809806 ,  1.54838679, ..., -0.79009385,\n",
       "         3.1499818 , -1.20993961],\n",
       "       [ 2.09922363,  2.85748311, -0.53528636, ...,  2.0140656 ,\n",
       "         3.04551948,  3.33553271],\n",
       "       ...,\n",
       "       [ 3.71785522, -0.58926925,  2.56172997, ...,  1.03975974,\n",
       "         0.28545343, -3.42479478],\n",
       "       [ 3.81991741,  2.473278  ,  0.23785978, ...,  1.19573146,\n",
       "         3.52147385,  1.97508611],\n",
       "       [-0.44954461, -2.10995555,  0.07540029, ..., -3.61723137,\n",
       "        -1.11147224, -2.36572785]])"
      ]
     },
     "execution_count": 39,
     "metadata": {},
     "output_type": "execute_result"
    }
   ],
   "source": [
    "# compute predictions\n",
    "\n",
    "print (X2.shape)\n",
    "print (result.shape)\n",
    "\n",
    "y_p = X2 @ result.T # prediction\n",
    "y_p"
   ]
  },
  {
   "cell_type": "code",
   "execution_count": null,
   "id": "e1ad19a7",
   "metadata": {},
   "outputs": [],
   "source": []
  }
 ],
 "metadata": {
  "kernelspec": {
   "display_name": "Python 3",
   "language": "python",
   "name": "python3"
  },
  "language_info": {
   "codemirror_mode": {
    "name": "ipython",
    "version": 3
   },
   "file_extension": ".py",
   "mimetype": "text/x-python",
   "name": "python",
   "nbconvert_exporter": "python",
   "pygments_lexer": "ipython3",
   "version": "3.8.5"
  }
 },
 "nbformat": 4,
 "nbformat_minor": 5
}
