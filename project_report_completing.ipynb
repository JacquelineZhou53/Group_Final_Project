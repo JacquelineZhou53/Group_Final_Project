{
 "cells": [
  {
   "cell_type": "markdown",
   "id": "1afb6771",
   "metadata": {},
   "source": [
    "# Market Research -- User Rating Behaviors\n",
    "Group member: Gretch Zhang, Baihe Yuan, Jacqueline Zhou, Disheng Wen, Siyuan Chen\n",
    "\n",
    "### Description:\n",
    "This research predicts users' rating behaviors based on their browsing history. The process involves Principle Components Analysis, K-means and linear regression.\n"
   ]
  },
  {
   "cell_type": "markdown",
   "id": "8c2943b6",
   "metadata": {},
   "source": [
    "## 1) Import Data"
   ]
  },
  {
   "cell_type": "markdown",
   "id": "b22033a0",
   "metadata": {},
   "source": [
    "Import Packages and load data"
   ]
  },
  {
   "cell_type": "code",
   "execution_count": 30,
   "id": "80297a75",
   "metadata": {},
   "outputs": [],
   "source": [
    "# useful packages\n",
    "import numpy as np\n",
    "import csv\n",
    "import math\n",
    "import pandas as pd\n",
    "from sklearn import preprocessing\n",
    "from sklearn import datasets\n",
    "from sklearn import cluster\n",
    "import matplotlib.pyplot as plt\n",
    "import itertools\n",
    "from sklearn.decomposition import PCA\n",
    "import plotly.graph_objects as pgo\n",
    "import scipy.sparse as sparse"
   ]
  },
  {
   "cell_type": "code",
   "execution_count": 31,
   "id": "b4416c87",
   "metadata": {},
   "outputs": [],
   "source": [
    "# load data as a dataframe with pandas\n",
    "user_history = pd.read_csv(\"user_history.csv\")\n",
    "user_history_without_user_ID = user_history.drop(['USER ID'],axis=1)\n",
    "user_ratings = pd.read_csv(\"user_ratings.csv\")"
   ]
  },
  {
   "cell_type": "code",
   "execution_count": 32,
   "id": "cef50278",
   "metadata": {},
   "outputs": [
    {
     "data": {
      "text/html": [
       "<div>\n",
       "<style scoped>\n",
       "    .dataframe tbody tr th:only-of-type {\n",
       "        vertical-align: middle;\n",
       "    }\n",
       "\n",
       "    .dataframe tbody tr th {\n",
       "        vertical-align: top;\n",
       "    }\n",
       "\n",
       "    .dataframe thead th {\n",
       "        text-align: right;\n",
       "    }\n",
       "</style>\n",
       "<table border=\"1\" class=\"dataframe\">\n",
       "  <thead>\n",
       "    <tr style=\"text-align: right;\">\n",
       "      <th></th>\n",
       "      <th>USER ID</th>\n",
       "      <th>PRODUCT</th>\n",
       "      <th>RATING</th>\n",
       "      <th>USER INDEX</th>\n",
       "      <th>PRODUCT ID</th>\n",
       "    </tr>\n",
       "  </thead>\n",
       "  <tbody>\n",
       "    <tr>\n",
       "      <th>0</th>\n",
       "      <td>100950</td>\n",
       "      <td>secret postage</td>\n",
       "      <td>4</td>\n",
       "      <td>0</td>\n",
       "      <td>54</td>\n",
       "    </tr>\n",
       "    <tr>\n",
       "      <th>1</th>\n",
       "      <td>100950</td>\n",
       "      <td>violet saga</td>\n",
       "      <td>4</td>\n",
       "      <td>0</td>\n",
       "      <td>70</td>\n",
       "    </tr>\n",
       "    <tr>\n",
       "      <th>2</th>\n",
       "      <td>100950</td>\n",
       "      <td>pepper chicago</td>\n",
       "      <td>3</td>\n",
       "      <td>0</td>\n",
       "      <td>41</td>\n",
       "    </tr>\n",
       "    <tr>\n",
       "      <th>3</th>\n",
       "      <td>100950</td>\n",
       "      <td>nina sailor</td>\n",
       "      <td>2</td>\n",
       "      <td>0</td>\n",
       "      <td>35</td>\n",
       "    </tr>\n",
       "    <tr>\n",
       "      <th>4</th>\n",
       "      <td>100950</td>\n",
       "      <td>front salami</td>\n",
       "      <td>3</td>\n",
       "      <td>0</td>\n",
       "      <td>18</td>\n",
       "    </tr>\n",
       "  </tbody>\n",
       "</table>\n",
       "</div>"
      ],
      "text/plain": [
       "   USER ID         PRODUCT  RATING  USER INDEX  PRODUCT ID\n",
       "0   100950  secret postage       4           0          54\n",
       "1   100950     violet saga       4           0          70\n",
       "2   100950  pepper chicago       3           0          41\n",
       "3   100950     nina sailor       2           0          35\n",
       "4   100950    front salami       3           0          18"
      ]
     },
     "execution_count": 32,
     "metadata": {},
     "output_type": "execute_result"
    }
   ],
   "source": [
    "# encode users as indices\n",
    "le_user = preprocessing.LabelEncoder()\n",
    "le_user.fit(user_history['USER ID'])\n",
    "\n",
    "user_with_rating_index = le_user.transform(user_ratings['USER ID'])\n",
    "all_user_index = le_user.transform(user_history['USER ID'])\n",
    "user_ratings['USER INDEX'] = user_with_rating_index\n",
    "user_ratings.head()\n",
    "\n",
    "# encode products as indices\n",
    "le_product = preprocessing.LabelEncoder()\n",
    "le_product.fit(user_ratings['PRODUCT'])\n",
    "\n",
    "product_ID = le_product.transform(user_ratings['PRODUCT'])\n",
    "user_ratings['PRODUCT ID'] = product_ID\n",
    "user_ratings.head()"
   ]
  },
  {
   "cell_type": "markdown",
   "id": "da4e67e2",
   "metadata": {},
   "source": [
    "We can take the data in user_history and turn it into a matrix using the following command:"
   ]
  },
  {
   "cell_type": "code",
   "execution_count": 33,
   "id": "199851c8",
   "metadata": {},
   "outputs": [],
   "source": [
    "history_M = user_history.to_numpy()\n",
    "# leave out user ID column\n",
    "his_label = history_M[:,0]\n",
    "# .reshape((history_M[:,0].shape[0],1))\n",
    "his_M = history_M[:,1:]"
   ]
  },
  {
   "cell_type": "markdown",
   "id": "a3958c80",
   "metadata": {},
   "source": [
    "For an introduction and short tutorial on pandas, you are invited to read over https://pandas.pydata.org/pandas-docs/stable/user_guide/10min.html."
   ]
  },
  {
   "cell_type": "markdown",
   "id": "663b618f",
   "metadata": {},
   "source": [
    "## 2) Principal Component Analysis on User History data"
   ]
  },
  {
   "cell_type": "markdown",
   "id": "0f50a9d6",
   "metadata": {},
   "source": [
    "The goal for this section is to divide the data into clusters and find the principal features to be used in the next section, linear regression, to predict the users' ratings based on their history data."
   ]
  },
  {
   "cell_type": "markdown",
   "id": "b6a4e3ba",
   "metadata": {},
   "source": [
    "Now standardize the user history data and compute the SVD:"
   ]
  },
  {
   "cell_type": "code",
   "execution_count": 34,
   "id": "1cd46efd",
   "metadata": {},
   "outputs": [
    {
     "data": {
      "application/vnd.plotly.v1+json": {
       "config": {
        "plotlyServerURL": "https://plot.ly"
       },
       "data": [
        {
         "type": "bar",
         "x": [
          0,
          1,
          2,
          3,
          4,
          5,
          6,
          7,
          8,
          9,
          10,
          11,
          12,
          13,
          14,
          15,
          16,
          17,
          18,
          19,
          20,
          21,
          22,
          23,
          24,
          25,
          26,
          27,
          28,
          29,
          30,
          31,
          32,
          33,
          34,
          35,
          36,
          37,
          38,
          39,
          40,
          41,
          42,
          43,
          44,
          45,
          46,
          47,
          48,
          49,
          50,
          51,
          52,
          53,
          54,
          55,
          56,
          57,
          58,
          59,
          60,
          61,
          62,
          63,
          64,
          65,
          66,
          67,
          68,
          69,
          70,
          71,
          72,
          73,
          74,
          75,
          76,
          77,
          78,
          79,
          80,
          81,
          82,
          83,
          84,
          85,
          86,
          87,
          88,
          89,
          90,
          91,
          92,
          93,
          94,
          95,
          96,
          97,
          98,
          99
         ],
         "y": [
          379.9822086248155,
          363.7552552938518,
          315.0297379007096,
          101.22537666683122,
          99.52987192509265,
          97.7472558268866,
          93.34992609358024,
          86.19269054216255,
          75.33102798555792,
          32.79851985416125,
          28.435191788056176,
          27.913296865038163,
          23.402057433677786,
          22.461920586758502,
          21.9033648329157,
          19.965463289277974,
          18.80171876959671,
          17.724320723335605,
          17.149420410554015,
          16.818981290792454,
          16.64918326335405,
          16.491611824127887,
          16.410130011013955,
          16.341482618384482,
          16.190230057469268,
          16.133570432000084,
          16.09086568390525,
          16.084840952538404,
          15.99368652117439,
          15.828537264883733,
          15.791919089133398,
          15.755572934811672,
          15.674182461361864,
          15.577923508538515,
          15.555027369744261,
          15.53307220240487,
          15.47398211849798,
          15.44616714455332,
          15.38875355749328,
          15.385990315662973,
          15.312941349758109,
          15.268665560121734,
          15.225803322089039,
          15.209153233756078,
          15.132854754567633,
          15.08288088240754,
          15.050826902196743,
          14.995749589912343,
          14.911609225014928,
          14.894930470647422,
          14.876363096294629,
          14.822622179890844,
          14.770351115111247,
          14.70497791780544,
          14.678112655953052,
          14.614440334512475,
          14.58271002049633,
          14.546987424808025,
          14.514899347394834,
          14.484277008435686,
          14.453395329992995,
          14.381885180543756,
          14.346682990824256,
          14.29554233324818,
          14.241514442028038,
          14.22659676930319,
          14.164370991495014,
          14.145667173763755,
          14.081419146223892,
          14.051807970563193,
          14.024269264999447,
          13.99110742799105,
          13.949885028884433,
          13.905121617812668,
          13.858640221675694,
          13.79270323581266,
          13.767609911729878,
          13.68939366241538,
          13.66197204860368,
          13.639160448166182,
          13.583681619860803,
          13.50722961663999,
          13.47957444739832,
          13.43390320678055,
          13.405003050880799,
          13.352549326771209,
          13.300895502392013,
          13.258005412024861,
          13.189372779432368,
          13.173782487847896,
          13.066544627941113,
          13.03673911878709,
          12.97910252757813,
          12.860736615178535,
          12.844373712775873,
          12.78289181425076,
          12.740355704656906,
          12.570234976164771,
          12.351261599310083,
          2.473009268834624e-13
         ]
        }
       ],
       "layout": {
        "template": {
         "data": {
          "bar": [
           {
            "error_x": {
             "color": "#2a3f5f"
            },
            "error_y": {
             "color": "#2a3f5f"
            },
            "marker": {
             "line": {
              "color": "#E5ECF6",
              "width": 0.5
             },
             "pattern": {
              "fillmode": "overlay",
              "size": 10,
              "solidity": 0.2
             }
            },
            "type": "bar"
           }
          ],
          "barpolar": [
           {
            "marker": {
             "line": {
              "color": "#E5ECF6",
              "width": 0.5
             },
             "pattern": {
              "fillmode": "overlay",
              "size": 10,
              "solidity": 0.2
             }
            },
            "type": "barpolar"
           }
          ],
          "carpet": [
           {
            "aaxis": {
             "endlinecolor": "#2a3f5f",
             "gridcolor": "white",
             "linecolor": "white",
             "minorgridcolor": "white",
             "startlinecolor": "#2a3f5f"
            },
            "baxis": {
             "endlinecolor": "#2a3f5f",
             "gridcolor": "white",
             "linecolor": "white",
             "minorgridcolor": "white",
             "startlinecolor": "#2a3f5f"
            },
            "type": "carpet"
           }
          ],
          "choropleth": [
           {
            "colorbar": {
             "outlinewidth": 0,
             "ticks": ""
            },
            "type": "choropleth"
           }
          ],
          "contour": [
           {
            "colorbar": {
             "outlinewidth": 0,
             "ticks": ""
            },
            "colorscale": [
             [
              0,
              "#0d0887"
             ],
             [
              0.1111111111111111,
              "#46039f"
             ],
             [
              0.2222222222222222,
              "#7201a8"
             ],
             [
              0.3333333333333333,
              "#9c179e"
             ],
             [
              0.4444444444444444,
              "#bd3786"
             ],
             [
              0.5555555555555556,
              "#d8576b"
             ],
             [
              0.6666666666666666,
              "#ed7953"
             ],
             [
              0.7777777777777778,
              "#fb9f3a"
             ],
             [
              0.8888888888888888,
              "#fdca26"
             ],
             [
              1,
              "#f0f921"
             ]
            ],
            "type": "contour"
           }
          ],
          "contourcarpet": [
           {
            "colorbar": {
             "outlinewidth": 0,
             "ticks": ""
            },
            "type": "contourcarpet"
           }
          ],
          "heatmap": [
           {
            "colorbar": {
             "outlinewidth": 0,
             "ticks": ""
            },
            "colorscale": [
             [
              0,
              "#0d0887"
             ],
             [
              0.1111111111111111,
              "#46039f"
             ],
             [
              0.2222222222222222,
              "#7201a8"
             ],
             [
              0.3333333333333333,
              "#9c179e"
             ],
             [
              0.4444444444444444,
              "#bd3786"
             ],
             [
              0.5555555555555556,
              "#d8576b"
             ],
             [
              0.6666666666666666,
              "#ed7953"
             ],
             [
              0.7777777777777778,
              "#fb9f3a"
             ],
             [
              0.8888888888888888,
              "#fdca26"
             ],
             [
              1,
              "#f0f921"
             ]
            ],
            "type": "heatmap"
           }
          ],
          "heatmapgl": [
           {
            "colorbar": {
             "outlinewidth": 0,
             "ticks": ""
            },
            "colorscale": [
             [
              0,
              "#0d0887"
             ],
             [
              0.1111111111111111,
              "#46039f"
             ],
             [
              0.2222222222222222,
              "#7201a8"
             ],
             [
              0.3333333333333333,
              "#9c179e"
             ],
             [
              0.4444444444444444,
              "#bd3786"
             ],
             [
              0.5555555555555556,
              "#d8576b"
             ],
             [
              0.6666666666666666,
              "#ed7953"
             ],
             [
              0.7777777777777778,
              "#fb9f3a"
             ],
             [
              0.8888888888888888,
              "#fdca26"
             ],
             [
              1,
              "#f0f921"
             ]
            ],
            "type": "heatmapgl"
           }
          ],
          "histogram": [
           {
            "marker": {
             "pattern": {
              "fillmode": "overlay",
              "size": 10,
              "solidity": 0.2
             }
            },
            "type": "histogram"
           }
          ],
          "histogram2d": [
           {
            "colorbar": {
             "outlinewidth": 0,
             "ticks": ""
            },
            "colorscale": [
             [
              0,
              "#0d0887"
             ],
             [
              0.1111111111111111,
              "#46039f"
             ],
             [
              0.2222222222222222,
              "#7201a8"
             ],
             [
              0.3333333333333333,
              "#9c179e"
             ],
             [
              0.4444444444444444,
              "#bd3786"
             ],
             [
              0.5555555555555556,
              "#d8576b"
             ],
             [
              0.6666666666666666,
              "#ed7953"
             ],
             [
              0.7777777777777778,
              "#fb9f3a"
             ],
             [
              0.8888888888888888,
              "#fdca26"
             ],
             [
              1,
              "#f0f921"
             ]
            ],
            "type": "histogram2d"
           }
          ],
          "histogram2dcontour": [
           {
            "colorbar": {
             "outlinewidth": 0,
             "ticks": ""
            },
            "colorscale": [
             [
              0,
              "#0d0887"
             ],
             [
              0.1111111111111111,
              "#46039f"
             ],
             [
              0.2222222222222222,
              "#7201a8"
             ],
             [
              0.3333333333333333,
              "#9c179e"
             ],
             [
              0.4444444444444444,
              "#bd3786"
             ],
             [
              0.5555555555555556,
              "#d8576b"
             ],
             [
              0.6666666666666666,
              "#ed7953"
             ],
             [
              0.7777777777777778,
              "#fb9f3a"
             ],
             [
              0.8888888888888888,
              "#fdca26"
             ],
             [
              1,
              "#f0f921"
             ]
            ],
            "type": "histogram2dcontour"
           }
          ],
          "mesh3d": [
           {
            "colorbar": {
             "outlinewidth": 0,
             "ticks": ""
            },
            "type": "mesh3d"
           }
          ],
          "parcoords": [
           {
            "line": {
             "colorbar": {
              "outlinewidth": 0,
              "ticks": ""
             }
            },
            "type": "parcoords"
           }
          ],
          "pie": [
           {
            "automargin": true,
            "type": "pie"
           }
          ],
          "scatter": [
           {
            "marker": {
             "colorbar": {
              "outlinewidth": 0,
              "ticks": ""
             }
            },
            "type": "scatter"
           }
          ],
          "scatter3d": [
           {
            "line": {
             "colorbar": {
              "outlinewidth": 0,
              "ticks": ""
             }
            },
            "marker": {
             "colorbar": {
              "outlinewidth": 0,
              "ticks": ""
             }
            },
            "type": "scatter3d"
           }
          ],
          "scattercarpet": [
           {
            "marker": {
             "colorbar": {
              "outlinewidth": 0,
              "ticks": ""
             }
            },
            "type": "scattercarpet"
           }
          ],
          "scattergeo": [
           {
            "marker": {
             "colorbar": {
              "outlinewidth": 0,
              "ticks": ""
             }
            },
            "type": "scattergeo"
           }
          ],
          "scattergl": [
           {
            "marker": {
             "colorbar": {
              "outlinewidth": 0,
              "ticks": ""
             }
            },
            "type": "scattergl"
           }
          ],
          "scattermapbox": [
           {
            "marker": {
             "colorbar": {
              "outlinewidth": 0,
              "ticks": ""
             }
            },
            "type": "scattermapbox"
           }
          ],
          "scatterpolar": [
           {
            "marker": {
             "colorbar": {
              "outlinewidth": 0,
              "ticks": ""
             }
            },
            "type": "scatterpolar"
           }
          ],
          "scatterpolargl": [
           {
            "marker": {
             "colorbar": {
              "outlinewidth": 0,
              "ticks": ""
             }
            },
            "type": "scatterpolargl"
           }
          ],
          "scatterternary": [
           {
            "marker": {
             "colorbar": {
              "outlinewidth": 0,
              "ticks": ""
             }
            },
            "type": "scatterternary"
           }
          ],
          "surface": [
           {
            "colorbar": {
             "outlinewidth": 0,
             "ticks": ""
            },
            "colorscale": [
             [
              0,
              "#0d0887"
             ],
             [
              0.1111111111111111,
              "#46039f"
             ],
             [
              0.2222222222222222,
              "#7201a8"
             ],
             [
              0.3333333333333333,
              "#9c179e"
             ],
             [
              0.4444444444444444,
              "#bd3786"
             ],
             [
              0.5555555555555556,
              "#d8576b"
             ],
             [
              0.6666666666666666,
              "#ed7953"
             ],
             [
              0.7777777777777778,
              "#fb9f3a"
             ],
             [
              0.8888888888888888,
              "#fdca26"
             ],
             [
              1,
              "#f0f921"
             ]
            ],
            "type": "surface"
           }
          ],
          "table": [
           {
            "cells": {
             "fill": {
              "color": "#EBF0F8"
             },
             "line": {
              "color": "white"
             }
            },
            "header": {
             "fill": {
              "color": "#C8D4E3"
             },
             "line": {
              "color": "white"
             }
            },
            "type": "table"
           }
          ]
         },
         "layout": {
          "annotationdefaults": {
           "arrowcolor": "#2a3f5f",
           "arrowhead": 0,
           "arrowwidth": 1
          },
          "autotypenumbers": "strict",
          "coloraxis": {
           "colorbar": {
            "outlinewidth": 0,
            "ticks": ""
           }
          },
          "colorscale": {
           "diverging": [
            [
             0,
             "#8e0152"
            ],
            [
             0.1,
             "#c51b7d"
            ],
            [
             0.2,
             "#de77ae"
            ],
            [
             0.3,
             "#f1b6da"
            ],
            [
             0.4,
             "#fde0ef"
            ],
            [
             0.5,
             "#f7f7f7"
            ],
            [
             0.6,
             "#e6f5d0"
            ],
            [
             0.7,
             "#b8e186"
            ],
            [
             0.8,
             "#7fbc41"
            ],
            [
             0.9,
             "#4d9221"
            ],
            [
             1,
             "#276419"
            ]
           ],
           "sequential": [
            [
             0,
             "#0d0887"
            ],
            [
             0.1111111111111111,
             "#46039f"
            ],
            [
             0.2222222222222222,
             "#7201a8"
            ],
            [
             0.3333333333333333,
             "#9c179e"
            ],
            [
             0.4444444444444444,
             "#bd3786"
            ],
            [
             0.5555555555555556,
             "#d8576b"
            ],
            [
             0.6666666666666666,
             "#ed7953"
            ],
            [
             0.7777777777777778,
             "#fb9f3a"
            ],
            [
             0.8888888888888888,
             "#fdca26"
            ],
            [
             1,
             "#f0f921"
            ]
           ],
           "sequentialminus": [
            [
             0,
             "#0d0887"
            ],
            [
             0.1111111111111111,
             "#46039f"
            ],
            [
             0.2222222222222222,
             "#7201a8"
            ],
            [
             0.3333333333333333,
             "#9c179e"
            ],
            [
             0.4444444444444444,
             "#bd3786"
            ],
            [
             0.5555555555555556,
             "#d8576b"
            ],
            [
             0.6666666666666666,
             "#ed7953"
            ],
            [
             0.7777777777777778,
             "#fb9f3a"
            ],
            [
             0.8888888888888888,
             "#fdca26"
            ],
            [
             1,
             "#f0f921"
            ]
           ]
          },
          "colorway": [
           "#636efa",
           "#EF553B",
           "#00cc96",
           "#ab63fa",
           "#FFA15A",
           "#19d3f3",
           "#FF6692",
           "#B6E880",
           "#FF97FF",
           "#FECB52"
          ],
          "font": {
           "color": "#2a3f5f"
          },
          "geo": {
           "bgcolor": "white",
           "lakecolor": "white",
           "landcolor": "#E5ECF6",
           "showlakes": true,
           "showland": true,
           "subunitcolor": "white"
          },
          "hoverlabel": {
           "align": "left"
          },
          "hovermode": "closest",
          "mapbox": {
           "style": "light"
          },
          "paper_bgcolor": "white",
          "plot_bgcolor": "#E5ECF6",
          "polar": {
           "angularaxis": {
            "gridcolor": "white",
            "linecolor": "white",
            "ticks": ""
           },
           "bgcolor": "#E5ECF6",
           "radialaxis": {
            "gridcolor": "white",
            "linecolor": "white",
            "ticks": ""
           }
          },
          "scene": {
           "xaxis": {
            "backgroundcolor": "#E5ECF6",
            "gridcolor": "white",
            "gridwidth": 2,
            "linecolor": "white",
            "showbackground": true,
            "ticks": "",
            "zerolinecolor": "white"
           },
           "yaxis": {
            "backgroundcolor": "#E5ECF6",
            "gridcolor": "white",
            "gridwidth": 2,
            "linecolor": "white",
            "showbackground": true,
            "ticks": "",
            "zerolinecolor": "white"
           },
           "zaxis": {
            "backgroundcolor": "#E5ECF6",
            "gridcolor": "white",
            "gridwidth": 2,
            "linecolor": "white",
            "showbackground": true,
            "ticks": "",
            "zerolinecolor": "white"
           }
          },
          "shapedefaults": {
           "line": {
            "color": "#2a3f5f"
           }
          },
          "ternary": {
           "aaxis": {
            "gridcolor": "white",
            "linecolor": "white",
            "ticks": ""
           },
           "baxis": {
            "gridcolor": "white",
            "linecolor": "white",
            "ticks": ""
           },
           "bgcolor": "#E5ECF6",
           "caxis": {
            "gridcolor": "white",
            "linecolor": "white",
            "ticks": ""
           }
          },
          "title": {
           "x": 0.05
          },
          "xaxis": {
           "automargin": true,
           "gridcolor": "white",
           "linecolor": "white",
           "ticks": "",
           "title": {
            "standoff": 15
           },
           "zerolinecolor": "white",
           "zerolinewidth": 2
          },
          "yaxis": {
           "automargin": true,
           "gridcolor": "white",
           "linecolor": "white",
           "ticks": "",
           "title": {
            "standoff": 15
           },
           "zerolinecolor": "white",
           "zerolinewidth": 2
          }
         }
        }
       }
      }
     },
     "metadata": {},
     "output_type": "display_data"
    }
   ],
   "source": [
    "# subtract the mean\n",
    "his_meanzero = his_M - np.mean(his_M, axis=1, keepdims=True)\n",
    "# divide by the standard deviation\n",
    "his_std = his_meanzero/np.std(his_meanzero, axis=1, keepdims=True)\n",
    "# SVD\n",
    "U, S, VT = np.linalg.svd(his_std, full_matrices=False)\n",
    "\n",
    "# make a figure showing the singular values\n",
    "svd_figure = pgo.Figure([pgo.Bar(x=np.arange(len(S)), y=S)])\n",
    "svd_figure.show()"
   ]
  },
  {
   "cell_type": "markdown",
   "id": "c70ada2f",
   "metadata": {},
   "source": [
    "We conclude that we will use the first three eigenvectors of the standardized data matrix.\n",
    "\n",
    "Now compute the eigenvectors of history data's covariance matrix:"
   ]
  },
  {
   "cell_type": "code",
   "execution_count": 35,
   "id": "40eda21f",
   "metadata": {},
   "outputs": [],
   "source": [
    "# eigenvector contained in v\n",
    "his_cov = np.cov(his_std.T)\n",
    "w, v = np.linalg.eig(his_cov)"
   ]
  },
  {
   "cell_type": "markdown",
   "id": "8617d2ba",
   "metadata": {},
   "source": [
    "Try different combinations of the first tree eigenvectors as the feature matrix.\n",
    "\n",
    "We produce the result of the PCA in this formula:\n",
    "$Data = Feature^{T} * StdMatrix^{T}$\n",
    "\n",
    "Then, we plot the transpose of the results in scatter to observe any possible patterns."
   ]
  },
  {
   "cell_type": "code",
   "execution_count": 36,
   "id": "b40f46ab",
   "metadata": {},
   "outputs": [],
   "source": [
    "# state the eigenvector to be used\n",
    "v1 = (v[:,0]).real\n",
    "v1 = v1.reshape((v1.shape[0], 1))\n",
    "v2 = (v[:,1]).real\n",
    "v2 = v2.reshape((v2.shape[0], 1))\n",
    "v3 = (v[:,2]).real\n",
    "v3 = v3.reshape((v3.shape[0], 1))"
   ]
  },
  {
   "cell_type": "code",
   "execution_count": 37,
   "id": "472e8fea",
   "metadata": {},
   "outputs": [
    {
     "data": {
      "text/plain": [
       "<matplotlib.collections.PathCollection at 0x21ab8bd3b20>"
      ]
     },
     "execution_count": 37,
     "metadata": {},
     "output_type": "execute_result"
    },
    {
     "data": {
      "image/png": "[encoded data removed]",
      "text/plain": [
       "<Figure size 432x288 with 1 Axes>"
      ]
     },
     "metadata": {
      "needs_background": "light"
     },
     "output_type": "display_data"
    }
   ],
   "source": [
    "# v1 and v2\n",
    "f_12 = np.concatenate((v1, v2), axis = 1)\n",
    "his_12 = (his_std @ f_12).T\n",
    "plt.scatter(his_12[0],his_12[1])"
   ]
  },
  {
   "cell_type": "code",
   "execution_count": 38,
   "id": "37278e2d",
   "metadata": {},
   "outputs": [
    {
     "data": {
      "text/plain": [
       "<matplotlib.collections.PathCollection at 0x21ab8b8f760>"
      ]
     },
     "execution_count": 38,
     "metadata": {},
     "output_type": "execute_result"
    },
    {
     "data": {
      "image/png": "[encoded data removed]",
      "text/plain": [
       "<Figure size 432x288 with 1 Axes>"
      ]
     },
     "metadata": {
      "needs_background": "light"
     },
     "output_type": "display_data"
    }
   ],
   "source": [
    "# v1 and v3\n",
    "f_13 = np.concatenate((v1, v3), axis = 1)\n",
    "his_13 = (his_std @ f_13).T\n",
    "plt.scatter(his_13[0],his_13[1])"
   ]
  },
  {
   "cell_type": "code",
   "execution_count": 39,
   "id": "669cb01b",
   "metadata": {},
   "outputs": [
    {
     "data": {
      "text/plain": [
       "<matplotlib.collections.PathCollection at 0x21ab7f2f7f0>"
      ]
     },
     "execution_count": 39,
     "metadata": {},
     "output_type": "execute_result"
    },
    {
     "data": {
      "image/png": "[encoded data removed]",
      "text/plain": [
       "<Figure size 432x288 with 1 Axes>"
      ]
     },
     "metadata": {
      "needs_background": "light"
     },
     "output_type": "display_data"
    }
   ],
   "source": [
    "# v2 and v3\n",
    "f_23 = np.concatenate((v2, v3), axis = 1)\n",
    "his_23 = (his_std @ f_23).T\n",
    "plt.scatter(his_23[0],his_23[1])"
   ]
  },
  {
   "cell_type": "markdown",
   "id": "5b198505",
   "metadata": {},
   "source": [
    "When using the first two eigenvalues to project the history data, it did give the best classification result, thus we decide to use the first two eigen values **v1** and **v2**.\n",
    "\n",
    "As shown in the first graph, we will classify the data into 3 clusters in the next K-means step."
   ]
  },
  {
   "cell_type": "markdown",
   "id": "649c9c78",
   "metadata": {},
   "source": [
    "## 3) K-means clustering"
   ]
  },
  {
   "cell_type": "markdown",
   "id": "b829670e",
   "metadata": {},
   "source": [
    "Now we use k-means method to cluster the data into 3 parts."
   ]
  },
  {
   "cell_type": "code",
   "execution_count": 40,
   "id": "31adf585",
   "metadata": {
    "scrolled": true
   },
   "outputs": [
    {
     "name": "stdout",
     "output_type": "stream",
     "text": [
      "[[ 1.00950000e+05  7.31094618e-01 -8.94753669e-01 ...  1.58980665e-01\n",
      "   1.31720742e-01  1.23296336e-01]\n",
      " [ 1.00956000e+05  1.10938964e+00 -6.69580389e-01 ... -3.53934244e-01\n",
      "   4.24670322e-01 -1.03733797e+00]\n",
      " [ 1.00962000e+05 -1.02138211e+00  2.91023343e+00 ... -1.02985095e+00\n",
      "  -7.75577031e-01  2.19481007e-01]\n",
      " ...\n",
      " [ 1.25629000e+05  9.11668165e-01 -7.27845322e-01 ... -1.49643757e-02\n",
      "   2.22371361e-02 -7.33299870e-01]\n",
      " [ 1.25636000e+05 -1.24583943e+00  1.54151693e+00 ... -3.22959687e-01\n",
      "  -9.17915211e-01 -7.03656886e-01]\n",
      " [ 1.25645000e+05 -8.32821846e-01  5.39011111e-01 ... -4.25121028e-01\n",
      "  -4.56042856e-01 -1.13749788e+00]]\n"
     ]
    },
    {
     "data": {
      "image/png": "[encoded data removed]",
      "text/plain": [
       "<Figure size 432x288 with 1 Axes>"
      ]
     },
     "metadata": {
      "needs_background": "light"
     },
     "output_type": "display_data"
    }
   ],
   "source": [
    "from sklearn.cluster import KMeans\n",
    "chis_12 = KMeans(n_clusters=3)\n",
    "his_label = his_label.reshape((his_label.shape[0],1))\n",
    "his12 = np.concatenate((his_label,his_std), axis = 1)\n",
    "print(his12)\n",
    "#his12=np.transpose(his12)\n",
    "chis_12.fit(his12[:,1:])\n",
    "\n",
    "plt.figure()\n",
    "for i in range(3):\n",
    "    plt.plot(his12[chis_12.labels_==i, 1], his12[chis_12.labels_==i, 2], 'o')\n"
   ]
  },
  {
   "cell_type": "markdown",
   "id": "b2be3202",
   "metadata": {},
   "source": [
    "When separatig the clusters, we want to keep the labels (User index) on track in order to place the data after PCA process back in place."
   ]
  },
  {
   "cell_type": "code",
   "execution_count": 41,
   "id": "795a6b62",
   "metadata": {},
   "outputs": [],
   "source": [
    "# cluster 1\n",
    "c1 = his12[chis_12.labels_==0]\n",
    "c1_label = c1[:,0].reshape((c1[:,0].shape[0],1))\n",
    "c1 = c1[:,1:]\n",
    "# cluster 2\n",
    "c2=his12[chis_12.labels_==1]\n",
    "c2_label = c2[:,0].reshape((c2[:,0].shape[0],1))\n",
    "c2 = c2[:,1:]\n",
    "# cluster 3\n",
    "c3=his12[chis_12.labels_==2]\n",
    "c3_label = c3[:,0].reshape((c3[:,0].shape[0],1))\n",
    "c3 = c3[:,1:]"
   ]
  },
  {
   "cell_type": "markdown",
   "id": "50e6b9b3",
   "metadata": {},
   "source": [
    "## 4) PCA on clusters"
   ]
  },
  {
   "cell_type": "markdown",
   "id": "71ae4ea8",
   "metadata": {},
   "source": [
    "1. Standardize the first cluster"
   ]
  },
  {
   "cell_type": "code",
   "execution_count": 42,
   "id": "0bbdf877",
   "metadata": {},
   "outputs": [
    {
     "data": {
      "application/vnd.plotly.v1+json": {
       "config": {
        "plotlyServerURL": "https://plot.ly"
       },
       "data": [
        {
         "type": "bar",
         "x": [
          0,
          1,
          2,
          3,
          4,
          5,
          6,
          7,
          8,
          9,
          10,
          11,
          12,
          13,
          14,
          15,
          16,
          17,
          18,
          19,
          20,
          21,
          22,
          23,
          24,
          25,
          26,
          27,
          28,
          29,
          30,
          31,
          32,
          33,
          34,
          35,
          36,
          37,
          38,
          39,
          40,
          41,
          42,
          43,
          44,
          45,
          46,
          47,
          48,
          49,
          50,
          51,
          52,
          53,
          54,
          55,
          56,
          57,
          58,
          59,
          60,
          61,
          62,
          63,
          64,
          65,
          66,
          67,
          68,
          69,
          70,
          71,
          72,
          73,
          74,
          75,
          76,
          77,
          78,
          79,
          80,
          81,
          82,
          83,
          84,
          85,
          86,
          87,
          88,
          89,
          90,
          91,
          92,
          93,
          94,
          95,
          96,
          97,
          98,
          99
         ],
         "y": [
          352.30576038478927,
          100.93001212884161,
          85.87036614503907,
          24.95124105612235,
          23.070800077970443,
          17.999802373274626,
          12.274845129352077,
          11.704513089353744,
          10.80425838796202,
          10.626829047885447,
          10.566923990167597,
          10.474390240619485,
          10.419650840826264,
          10.368853013125266,
          10.347917237233238,
          10.277645901809178,
          10.119260395491532,
          10.035433179236916,
          9.962515694596371,
          9.870180775394768,
          9.811069342102407,
          9.771062429253258,
          9.719933018512156,
          9.714527169074302,
          9.653207606427758,
          9.546085350714304,
          9.526511163377933,
          9.436189422885768,
          9.424618638368328,
          9.38486580956086,
          9.337490746957123,
          9.251660360685603,
          9.236674922773313,
          9.185487275006519,
          9.17177703844776,
          9.120967349329527,
          9.082137821666803,
          9.062014694592106,
          9.060134846727356,
          8.98749823696257,
          8.936683579418485,
          8.870028762030405,
          8.843974334691877,
          8.810328330644307,
          8.749773191966096,
          8.73310770798832,
          8.691363799814052,
          8.665091154314716,
          8.589592710022783,
          8.547721631774937,
          8.495345913213061,
          8.437731308144539,
          8.413945699436667,
          8.372422147147173,
          8.324288301870377,
          8.311734144609135,
          8.263074261877609,
          8.222868791377444,
          8.208494613568417,
          8.159665941032765,
          8.146207566132405,
          8.06755205136839,
          8.028904298107026,
          7.993344552324136,
          7.929932099231695,
          7.914924692577726,
          7.895664590977874,
          7.855335921616915,
          7.791640855840186,
          7.769729764066971,
          7.744950637715878,
          7.700034652322608,
          7.63347800380319,
          7.5706629221572905,
          7.539587482766631,
          7.473344339272459,
          7.412535934681714,
          7.39212993948876,
          7.346279030567227,
          7.267092706497054,
          7.23444724751502,
          7.185512030874631,
          7.1734398511812545,
          7.104568986025862,
          7.070651694578634,
          7.007646291859162,
          6.930811024618282,
          6.888887887601307,
          6.855899245040374,
          6.792989606984421,
          6.736640818356125,
          6.6529244358077735,
          6.603146561642569,
          6.544538104632369,
          6.452189906670024,
          6.275136749780825,
          6.178767507434374,
          6.137340851374124,
          6.083778505125162,
          2.0581642173519227e-13
         ]
        }
       ],
       "layout": {
        "template": {
         "data": {
          "bar": [
           {
            "error_x": {
             "color": "#2a3f5f"
            },
            "error_y": {
             "color": "#2a3f5f"
            },
            "marker": {
             "line": {
              "color": "#E5ECF6",
              "width": 0.5
             },
             "pattern": {
              "fillmode": "overlay",
              "size": 10,
              "solidity": 0.2
             }
            },
            "type": "bar"
           }
          ],
          "barpolar": [
           {
            "marker": {
             "line": {
              "color": "#E5ECF6",
              "width": 0.5
             },
             "pattern": {
              "fillmode": "overlay",
              "size": 10,
              "solidity": 0.2
             }
            },
            "type": "barpolar"
           }
          ],
          "carpet": [
           {
            "aaxis": {
             "endlinecolor": "#2a3f5f",
             "gridcolor": "white",
             "linecolor": "white",
             "minorgridcolor": "white",
             "startlinecolor": "#2a3f5f"
            },
            "baxis": {
             "endlinecolor": "#2a3f5f",
             "gridcolor": "white",
             "linecolor": "white",
             "minorgridcolor": "white",
             "startlinecolor": "#2a3f5f"
            },
            "type": "carpet"
           }
          ],
          "choropleth": [
           {
            "colorbar": {
             "outlinewidth": 0,
             "ticks": ""
            },
            "type": "choropleth"
           }
          ],
          "contour": [
           {
            "colorbar": {
             "outlinewidth": 0,
             "ticks": ""
            },
            "colorscale": [
             [
              0,
              "#0d0887"
             ],
             [
              0.1111111111111111,
              "#46039f"
             ],
             [
              0.2222222222222222,
              "#7201a8"
             ],
             [
              0.3333333333333333,
              "#9c179e"
             ],
             [
              0.4444444444444444,
              "#bd3786"
             ],
             [
              0.5555555555555556,
              "#d8576b"
             ],
             [
              0.6666666666666666,
              "#ed7953"
             ],
             [
              0.7777777777777778,
              "#fb9f3a"
             ],
             [
              0.8888888888888888,
              "#fdca26"
             ],
             [
              1,
              "#f0f921"
             ]
            ],
            "type": "contour"
           }
          ],
          "contourcarpet": [
           {
            "colorbar": {
             "outlinewidth": 0,
             "ticks": ""
            },
            "type": "contourcarpet"
           }
          ],
          "heatmap": [
           {
            "colorbar": {
             "outlinewidth": 0,
             "ticks": ""
            },
            "colorscale": [
             [
              0,
              "#0d0887"
             ],
             [
              0.1111111111111111,
              "#46039f"
             ],
             [
              0.2222222222222222,
              "#7201a8"
             ],
             [
              0.3333333333333333,
              "#9c179e"
             ],
             [
              0.4444444444444444,
              "#bd3786"
             ],
             [
              0.5555555555555556,
              "#d8576b"
             ],
             [
              0.6666666666666666,
              "#ed7953"
             ],
             [
              0.7777777777777778,
              "#fb9f3a"
             ],
             [
              0.8888888888888888,
              "#fdca26"
             ],
             [
              1,
              "#f0f921"
             ]
            ],
            "type": "heatmap"
           }
          ],
          "heatmapgl": [
           {
            "colorbar": {
             "outlinewidth": 0,
             "ticks": ""
            },
            "colorscale": [
             [
              0,
              "#0d0887"
             ],
             [
              0.1111111111111111,
              "#46039f"
             ],
             [
              0.2222222222222222,
              "#7201a8"
             ],
             [
              0.3333333333333333,
              "#9c179e"
             ],
             [
              0.4444444444444444,
              "#bd3786"
             ],
             [
              0.5555555555555556,
              "#d8576b"
             ],
             [
              0.6666666666666666,
              "#ed7953"
             ],
             [
              0.7777777777777778,
              "#fb9f3a"
             ],
             [
              0.8888888888888888,
              "#fdca26"
             ],
             [
              1,
              "#f0f921"
             ]
            ],
            "type": "heatmapgl"
           }
          ],
          "histogram": [
           {
            "marker": {
             "pattern": {
              "fillmode": "overlay",
              "size": 10,
              "solidity": 0.2
             }
            },
            "type": "histogram"
           }
          ],
          "histogram2d": [
           {
            "colorbar": {
             "outlinewidth": 0,
             "ticks": ""
            },
            "colorscale": [
             [
              0,
              "#0d0887"
             ],
             [
              0.1111111111111111,
              "#46039f"
             ],
             [
              0.2222222222222222,
              "#7201a8"
             ],
             [
              0.3333333333333333,
              "#9c179e"
             ],
             [
              0.4444444444444444,
              "#bd3786"
             ],
             [
              0.5555555555555556,
              "#d8576b"
             ],
             [
              0.6666666666666666,
              "#ed7953"
             ],
             [
              0.7777777777777778,
              "#fb9f3a"
             ],
             [
              0.8888888888888888,
              "#fdca26"
             ],
             [
              1,
              "#f0f921"
             ]
            ],
            "type": "histogram2d"
           }
          ],
          "histogram2dcontour": [
           {
            "colorbar": {
             "outlinewidth": 0,
             "ticks": ""
            },
            "colorscale": [
             [
              0,
              "#0d0887"
             ],
             [
              0.1111111111111111,
              "#46039f"
             ],
             [
              0.2222222222222222,
              "#7201a8"
             ],
             [
              0.3333333333333333,
              "#9c179e"
             ],
             [
              0.4444444444444444,
              "#bd3786"
             ],
             [
              0.5555555555555556,
              "#d8576b"
             ],
             [
              0.6666666666666666,
              "#ed7953"
             ],
             [
              0.7777777777777778,
              "#fb9f3a"
             ],
             [
              0.8888888888888888,
              "#fdca26"
             ],
             [
              1,
              "#f0f921"
             ]
            ],
            "type": "histogram2dcontour"
           }
          ],
          "mesh3d": [
           {
            "colorbar": {
             "outlinewidth": 0,
             "ticks": ""
            },
            "type": "mesh3d"
           }
          ],
          "parcoords": [
           {
            "line": {
             "colorbar": {
              "outlinewidth": 0,
              "ticks": ""
             }
            },
            "type": "parcoords"
           }
          ],
          "pie": [
           {
            "automargin": true,
            "type": "pie"
           }
          ],
          "scatter": [
           {
            "marker": {
             "colorbar": {
              "outlinewidth": 0,
              "ticks": ""
             }
            },
            "type": "scatter"
           }
          ],
          "scatter3d": [
           {
            "line": {
             "colorbar": {
              "outlinewidth": 0,
              "ticks": ""
             }
            },
            "marker": {
             "colorbar": {
              "outlinewidth": 0,
              "ticks": ""
             }
            },
            "type": "scatter3d"
           }
          ],
          "scattercarpet": [
           {
            "marker": {
             "colorbar": {
              "outlinewidth": 0,
              "ticks": ""
             }
            },
            "type": "scattercarpet"
           }
          ],
          "scattergeo": [
           {
            "marker": {
             "colorbar": {
              "outlinewidth": 0,
              "ticks": ""
             }
            },
            "type": "scattergeo"
           }
          ],
          "scattergl": [
           {
            "marker": {
             "colorbar": {
              "outlinewidth": 0,
              "ticks": ""
             }
            },
            "type": "scattergl"
           }
          ],
          "scattermapbox": [
           {
            "marker": {
             "colorbar": {
              "outlinewidth": 0,
              "ticks": ""
             }
            },
            "type": "scattermapbox"
           }
          ],
          "scatterpolar": [
           {
            "marker": {
             "colorbar": {
              "outlinewidth": 0,
              "ticks": ""
             }
            },
            "type": "scatterpolar"
           }
          ],
          "scatterpolargl": [
           {
            "marker": {
             "colorbar": {
              "outlinewidth": 0,
              "ticks": ""
             }
            },
            "type": "scatterpolargl"
           }
          ],
          "scatterternary": [
           {
            "marker": {
             "colorbar": {
              "outlinewidth": 0,
              "ticks": ""
             }
            },
            "type": "scatterternary"
           }
          ],
          "surface": [
           {
            "colorbar": {
             "outlinewidth": 0,
             "ticks": ""
            },
            "colorscale": [
             [
              0,
              "#0d0887"
             ],
             [
              0.1111111111111111,
              "#46039f"
             ],
             [
              0.2222222222222222,
              "#7201a8"
             ],
             [
              0.3333333333333333,
              "#9c179e"
             ],
             [
              0.4444444444444444,
              "#bd3786"
             ],
             [
              0.5555555555555556,
              "#d8576b"
             ],
             [
              0.6666666666666666,
              "#ed7953"
             ],
             [
              0.7777777777777778,
              "#fb9f3a"
             ],
             [
              0.8888888888888888,
              "#fdca26"
             ],
             [
              1,
              "#f0f921"
             ]
            ],
            "type": "surface"
           }
          ],
          "table": [
           {
            "cells": {
             "fill": {
              "color": "#EBF0F8"
             },
             "line": {
              "color": "white"
             }
            },
            "header": {
             "fill": {
              "color": "#C8D4E3"
             },
             "line": {
              "color": "white"
             }
            },
            "type": "table"
           }
          ]
         },
         "layout": {
          "annotationdefaults": {
           "arrowcolor": "#2a3f5f",
           "arrowhead": 0,
           "arrowwidth": 1
          },
          "autotypenumbers": "strict",
          "coloraxis": {
           "colorbar": {
            "outlinewidth": 0,
            "ticks": ""
           }
          },
          "colorscale": {
           "diverging": [
            [
             0,
             "#8e0152"
            ],
            [
             0.1,
             "#c51b7d"
            ],
            [
             0.2,
             "#de77ae"
            ],
            [
             0.3,
             "#f1b6da"
            ],
            [
             0.4,
             "#fde0ef"
            ],
            [
             0.5,
             "#f7f7f7"
            ],
            [
             0.6,
             "#e6f5d0"
            ],
            [
             0.7,
             "#b8e186"
            ],
            [
             0.8,
             "#7fbc41"
            ],
            [
             0.9,
             "#4d9221"
            ],
            [
             1,
             "#276419"
            ]
           ],
           "sequential": [
            [
             0,
             "#0d0887"
            ],
            [
             0.1111111111111111,
             "#46039f"
            ],
            [
             0.2222222222222222,
             "#7201a8"
            ],
            [
             0.3333333333333333,
             "#9c179e"
            ],
            [
             0.4444444444444444,
             "#bd3786"
            ],
            [
             0.5555555555555556,
             "#d8576b"
            ],
            [
             0.6666666666666666,
             "#ed7953"
            ],
            [
             0.7777777777777778,
             "#fb9f3a"
            ],
            [
             0.8888888888888888,
             "#fdca26"
            ],
            [
             1,
             "#f0f921"
            ]
           ],
           "sequentialminus": [
            [
             0,
             "#0d0887"
            ],
            [
             0.1111111111111111,
             "#46039f"
            ],
            [
             0.2222222222222222,
             "#7201a8"
            ],
            [
             0.3333333333333333,
             "#9c179e"
            ],
            [
             0.4444444444444444,
             "#bd3786"
            ],
            [
             0.5555555555555556,
             "#d8576b"
            ],
            [
             0.6666666666666666,
             "#ed7953"
            ],
            [
             0.7777777777777778,
             "#fb9f3a"
            ],
            [
             0.8888888888888888,
             "#fdca26"
            ],
            [
             1,
             "#f0f921"
            ]
           ]
          },
          "colorway": [
           "#636efa",
           "#EF553B",
           "#00cc96",
           "#ab63fa",
           "#FFA15A",
           "#19d3f3",
           "#FF6692",
           "#B6E880",
           "#FF97FF",
           "#FECB52"
          ],
          "font": {
           "color": "#2a3f5f"
          },
          "geo": {
           "bgcolor": "white",
           "lakecolor": "white",
           "landcolor": "#E5ECF6",
           "showlakes": true,
           "showland": true,
           "subunitcolor": "white"
          },
          "hoverlabel": {
           "align": "left"
          },
          "hovermode": "closest",
          "mapbox": {
           "style": "light"
          },
          "paper_bgcolor": "white",
          "plot_bgcolor": "#E5ECF6",
          "polar": {
           "angularaxis": {
            "gridcolor": "white",
            "linecolor": "white",
            "ticks": ""
           },
           "bgcolor": "#E5ECF6",
           "radialaxis": {
            "gridcolor": "white",
            "linecolor": "white",
            "ticks": ""
           }
          },
          "scene": {
           "xaxis": {
            "backgroundcolor": "#E5ECF6",
            "gridcolor": "white",
            "gridwidth": 2,
            "linecolor": "white",
            "showbackground": true,
            "ticks": "",
            "zerolinecolor": "white"
           },
           "yaxis": {
            "backgroundcolor": "#E5ECF6",
            "gridcolor": "white",
            "gridwidth": 2,
            "linecolor": "white",
            "showbackground": true,
            "ticks": "",
            "zerolinecolor": "white"
           },
           "zaxis": {
            "backgroundcolor": "#E5ECF6",
            "gridcolor": "white",
            "gridwidth": 2,
            "linecolor": "white",
            "showbackground": true,
            "ticks": "",
            "zerolinecolor": "white"
           }
          },
          "shapedefaults": {
           "line": {
            "color": "#2a3f5f"
           }
          },
          "ternary": {
           "aaxis": {
            "gridcolor": "white",
            "linecolor": "white",
            "ticks": ""
           },
           "baxis": {
            "gridcolor": "white",
            "linecolor": "white",
            "ticks": ""
           },
           "bgcolor": "#E5ECF6",
           "caxis": {
            "gridcolor": "white",
            "linecolor": "white",
            "ticks": ""
           }
          },
          "title": {
           "x": 0.05
          },
          "xaxis": {
           "automargin": true,
           "gridcolor": "white",
           "linecolor": "white",
           "ticks": "",
           "title": {
            "standoff": 15
           },
           "zerolinecolor": "white",
           "zerolinewidth": 2
          },
          "yaxis": {
           "automargin": true,
           "gridcolor": "white",
           "linecolor": "white",
           "ticks": "",
           "title": {
            "standoff": 15
           },
           "zerolinecolor": "white",
           "zerolinewidth": 2
          }
         }
        }
       }
      }
     },
     "metadata": {},
     "output_type": "display_data"
    }
   ],
   "source": [
    "# subtract the mean\n",
    "c1_meanzero = c1 - np.mean(c2, axis=1, keepdims=True)\n",
    "# divide by the standard deviation\n",
    "c1_std = c1_meanzero/np.std(c1_meanzero, axis=1, keepdims=True)\n",
    "# SVD\n",
    "U, S, VT = np.linalg.svd(c1_std, full_matrices=False)\n",
    "\n",
    "# make a figure showing the singular values\n",
    "svd_figure = pgo.Figure([pgo.Bar(x=np.arange(len(S)), y=S)])\n",
    "svd_figure.show()"
   ]
  },
  {
   "cell_type": "markdown",
   "id": "7da86a70",
   "metadata": {},
   "source": [
    "Compute the eigenvector of the first cluster's covariance matrix"
   ]
  },
  {
   "cell_type": "code",
   "execution_count": 43,
   "id": "49933117",
   "metadata": {},
   "outputs": [],
   "source": [
    "# eigenvector contained in v\n",
    "c1_cov = np.cov(c1_std.T)\n",
    "w, v1 = np.linalg.eig(c1_cov)\n",
    "v1_3=v1[:,0:3]\n",
    "c1_3 = c1_std @ v1_3\n",
    "c1_3 = np.concatenate((c1_label,c1_3), axis = 1)"
   ]
  },
  {
   "cell_type": "markdown",
   "id": "61ba603b",
   "metadata": {},
   "source": [
    "2. Standardize the 2nd cluster"
   ]
  },
  {
   "cell_type": "code",
   "execution_count": 44,
   "id": "ae133863",
   "metadata": {},
   "outputs": [
    {
     "data": {
      "application/vnd.plotly.v1+json": {
       "config": {
        "plotlyServerURL": "https://plot.ly"
       },
       "data": [
        {
         "type": "bar",
         "x": [
          0,
          1,
          2,
          3,
          4,
          5,
          6,
          7,
          8,
          9,
          10,
          11,
          12,
          13,
          14,
          15,
          16,
          17,
          18,
          19,
          20,
          21,
          22,
          23,
          24,
          25,
          26,
          27,
          28,
          29,
          30,
          31,
          32,
          33,
          34,
          35,
          36,
          37,
          38,
          39,
          40,
          41,
          42,
          43,
          44,
          45,
          46,
          47,
          48,
          49,
          50,
          51,
          52,
          53,
          54,
          55,
          56,
          57,
          58,
          59,
          60,
          61,
          62,
          63,
          64,
          65,
          66,
          67,
          68,
          69,
          70,
          71,
          72,
          73,
          74,
          75,
          76,
          77,
          78,
          79,
          80,
          81,
          82,
          83,
          84,
          85,
          86,
          87,
          88,
          89,
          90,
          91,
          92,
          93,
          94,
          95,
          96,
          97,
          98,
          99
         ],
         "y": [
          352.4204311835648,
          98.03948673391383,
          88.20465646079002,
          23.967638931985224,
          22.183696420179086,
          19.393655791765386,
          12.271344524374877,
          11.399861022364172,
          10.853029360843838,
          10.805867519339044,
          10.694238045807326,
          10.651533148981455,
          10.492587918285182,
          10.3960069805091,
          10.314046667970473,
          10.217753762352931,
          10.165592588578114,
          10.109290557876218,
          10.067090412962024,
          10.050898273129919,
          9.997040875684489,
          9.883831963655789,
          9.779311189714543,
          9.689390147016562,
          9.68667772963981,
          9.595872952289175,
          9.58089325754462,
          9.490140258881246,
          9.414982541275743,
          9.374487752880462,
          9.36143593544331,
          9.343445607077602,
          9.266678797359774,
          9.249207102838012,
          9.201727271844504,
          9.153071270292132,
          9.13011738818945,
          9.092439341639443,
          9.087078304084724,
          9.059278097563196,
          9.04169675124004,
          8.973077443388327,
          8.95384712811719,
          8.87516749654567,
          8.849136378494762,
          8.821624876678344,
          8.753779736263077,
          8.746974427455783,
          8.714545916809062,
          8.637469043160982,
          8.597774118631087,
          8.564712648557382,
          8.528774692843031,
          8.47738175071149,
          8.439230185407872,
          8.377217562564738,
          8.36032752759071,
          8.326657114263611,
          8.268295241466753,
          8.217468744072995,
          8.168073998833068,
          8.133148563130987,
          8.099764948465724,
          8.074841818236363,
          8.00884083535315,
          7.990946431774465,
          7.966873506917233,
          7.896141251945035,
          7.865197686927434,
          7.822577026565964,
          7.801382648437954,
          7.755324507595532,
          7.663456058961659,
          7.610323175519728,
          7.58034623493726,
          7.559214307594526,
          7.521673037077331,
          7.507923394311815,
          7.454786200254478,
          7.40268125234615,
          7.363906407545692,
          7.312461934133456,
          7.27427179352755,
          7.243797061877037,
          7.203521393757204,
          7.108003988179449,
          7.071899324060539,
          7.034886862437119,
          6.9643066449568405,
          6.938110722138423,
          6.8936890780206,
          6.761243900790155,
          6.689800297656792,
          6.66018248085613,
          6.645248134409528,
          6.543029244766081,
          6.440599541491685,
          6.434589522506768,
          6.266382046675796,
          1.3386074970934822e-14
         ]
        }
       ],
       "layout": {
        "template": {
         "data": {
          "bar": [
           {
            "error_x": {
             "color": "#2a3f5f"
            },
            "error_y": {
             "color": "#2a3f5f"
            },
            "marker": {
             "line": {
              "color": "#E5ECF6",
              "width": 0.5
             },
             "pattern": {
              "fillmode": "overlay",
              "size": 10,
              "solidity": 0.2
             }
            },
            "type": "bar"
           }
          ],
          "barpolar": [
           {
            "marker": {
             "line": {
              "color": "#E5ECF6",
              "width": 0.5
             },
             "pattern": {
              "fillmode": "overlay",
              "size": 10,
              "solidity": 0.2
             }
            },
            "type": "barpolar"
           }
          ],
          "carpet": [
           {
            "aaxis": {
             "endlinecolor": "#2a3f5f",
             "gridcolor": "white",
             "linecolor": "white",
             "minorgridcolor": "white",
             "startlinecolor": "#2a3f5f"
            },
            "baxis": {
             "endlinecolor": "#2a3f5f",
             "gridcolor": "white",
             "linecolor": "white",
             "minorgridcolor": "white",
             "startlinecolor": "#2a3f5f"
            },
            "type": "carpet"
           }
          ],
          "choropleth": [
           {
            "colorbar": {
             "outlinewidth": 0,
             "ticks": ""
            },
            "type": "choropleth"
           }
          ],
          "contour": [
           {
            "colorbar": {
             "outlinewidth": 0,
             "ticks": ""
            },
            "colorscale": [
             [
              0,
              "#0d0887"
             ],
             [
              0.1111111111111111,
              "#46039f"
             ],
             [
              0.2222222222222222,
              "#7201a8"
             ],
             [
              0.3333333333333333,
              "#9c179e"
             ],
             [
              0.4444444444444444,
              "#bd3786"
             ],
             [
              0.5555555555555556,
              "#d8576b"
             ],
             [
              0.6666666666666666,
              "#ed7953"
             ],
             [
              0.7777777777777778,
              "#fb9f3a"
             ],
             [
              0.8888888888888888,
              "#fdca26"
             ],
             [
              1,
              "#f0f921"
             ]
            ],
            "type": "contour"
           }
          ],
          "contourcarpet": [
           {
            "colorbar": {
             "outlinewidth": 0,
             "ticks": ""
            },
            "type": "contourcarpet"
           }
          ],
          "heatmap": [
           {
            "colorbar": {
             "outlinewidth": 0,
             "ticks": ""
            },
            "colorscale": [
             [
              0,
              "#0d0887"
             ],
             [
              0.1111111111111111,
              "#46039f"
             ],
             [
              0.2222222222222222,
              "#7201a8"
             ],
             [
              0.3333333333333333,
              "#9c179e"
             ],
             [
              0.4444444444444444,
              "#bd3786"
             ],
             [
              0.5555555555555556,
              "#d8576b"
             ],
             [
              0.6666666666666666,
              "#ed7953"
             ],
             [
              0.7777777777777778,
              "#fb9f3a"
             ],
             [
              0.8888888888888888,
              "#fdca26"
             ],
             [
              1,
              "#f0f921"
             ]
            ],
            "type": "heatmap"
           }
          ],
          "heatmapgl": [
           {
            "colorbar": {
             "outlinewidth": 0,
             "ticks": ""
            },
            "colorscale": [
             [
              0,
              "#0d0887"
             ],
             [
              0.1111111111111111,
              "#46039f"
             ],
             [
              0.2222222222222222,
              "#7201a8"
             ],
             [
              0.3333333333333333,
              "#9c179e"
             ],
             [
              0.4444444444444444,
              "#bd3786"
             ],
             [
              0.5555555555555556,
              "#d8576b"
             ],
             [
              0.6666666666666666,
              "#ed7953"
             ],
             [
              0.7777777777777778,
              "#fb9f3a"
             ],
             [
              0.8888888888888888,
              "#fdca26"
             ],
             [
              1,
              "#f0f921"
             ]
            ],
            "type": "heatmapgl"
           }
          ],
          "histogram": [
           {
            "marker": {
             "pattern": {
              "fillmode": "overlay",
              "size": 10,
              "solidity": 0.2
             }
            },
            "type": "histogram"
           }
          ],
          "histogram2d": [
           {
            "colorbar": {
             "outlinewidth": 0,
             "ticks": ""
            },
            "colorscale": [
             [
              0,
              "#0d0887"
             ],
             [
              0.1111111111111111,
              "#46039f"
             ],
             [
              0.2222222222222222,
              "#7201a8"
             ],
             [
              0.3333333333333333,
              "#9c179e"
             ],
             [
              0.4444444444444444,
              "#bd3786"
             ],
             [
              0.5555555555555556,
              "#d8576b"
             ],
             [
              0.6666666666666666,
              "#ed7953"
             ],
             [
              0.7777777777777778,
              "#fb9f3a"
             ],
             [
              0.8888888888888888,
              "#fdca26"
             ],
             [
              1,
              "#f0f921"
             ]
            ],
            "type": "histogram2d"
           }
          ],
          "histogram2dcontour": [
           {
            "colorbar": {
             "outlinewidth": 0,
             "ticks": ""
            },
            "colorscale": [
             [
              0,
              "#0d0887"
             ],
             [
              0.1111111111111111,
              "#46039f"
             ],
             [
              0.2222222222222222,
              "#7201a8"
             ],
             [
              0.3333333333333333,
              "#9c179e"
             ],
             [
              0.4444444444444444,
              "#bd3786"
             ],
             [
              0.5555555555555556,
              "#d8576b"
             ],
             [
              0.6666666666666666,
              "#ed7953"
             ],
             [
              0.7777777777777778,
              "#fb9f3a"
             ],
             [
              0.8888888888888888,
              "#fdca26"
             ],
             [
              1,
              "#f0f921"
             ]
            ],
            "type": "histogram2dcontour"
           }
          ],
          "mesh3d": [
           {
            "colorbar": {
             "outlinewidth": 0,
             "ticks": ""
            },
            "type": "mesh3d"
           }
          ],
          "parcoords": [
           {
            "line": {
             "colorbar": {
              "outlinewidth": 0,
              "ticks": ""
             }
            },
            "type": "parcoords"
           }
          ],
          "pie": [
           {
            "automargin": true,
            "type": "pie"
           }
          ],
          "scatter": [
           {
            "marker": {
             "colorbar": {
              "outlinewidth": 0,
              "ticks": ""
             }
            },
            "type": "scatter"
           }
          ],
          "scatter3d": [
           {
            "line": {
             "colorbar": {
              "outlinewidth": 0,
              "ticks": ""
             }
            },
            "marker": {
             "colorbar": {
              "outlinewidth": 0,
              "ticks": ""
             }
            },
            "type": "scatter3d"
           }
          ],
          "scattercarpet": [
           {
            "marker": {
             "colorbar": {
              "outlinewidth": 0,
              "ticks": ""
             }
            },
            "type": "scattercarpet"
           }
          ],
          "scattergeo": [
           {
            "marker": {
             "colorbar": {
              "outlinewidth": 0,
              "ticks": ""
             }
            },
            "type": "scattergeo"
           }
          ],
          "scattergl": [
           {
            "marker": {
             "colorbar": {
              "outlinewidth": 0,
              "ticks": ""
             }
            },
            "type": "scattergl"
           }
          ],
          "scattermapbox": [
           {
            "marker": {
             "colorbar": {
              "outlinewidth": 0,
              "ticks": ""
             }
            },
            "type": "scattermapbox"
           }
          ],
          "scatterpolar": [
           {
            "marker": {
             "colorbar": {
              "outlinewidth": 0,
              "ticks": ""
             }
            },
            "type": "scatterpolar"
           }
          ],
          "scatterpolargl": [
           {
            "marker": {
             "colorbar": {
              "outlinewidth": 0,
              "ticks": ""
             }
            },
            "type": "scatterpolargl"
           }
          ],
          "scatterternary": [
           {
            "marker": {
             "colorbar": {
              "outlinewidth": 0,
              "ticks": ""
             }
            },
            "type": "scatterternary"
           }
          ],
          "surface": [
           {
            "colorbar": {
             "outlinewidth": 0,
             "ticks": ""
            },
            "colorscale": [
             [
              0,
              "#0d0887"
             ],
             [
              0.1111111111111111,
              "#46039f"
             ],
             [
              0.2222222222222222,
              "#7201a8"
             ],
             [
              0.3333333333333333,
              "#9c179e"
             ],
             [
              0.4444444444444444,
              "#bd3786"
             ],
             [
              0.5555555555555556,
              "#d8576b"
             ],
             [
              0.6666666666666666,
              "#ed7953"
             ],
             [
              0.7777777777777778,
              "#fb9f3a"
             ],
             [
              0.8888888888888888,
              "#fdca26"
             ],
             [
              1,
              "#f0f921"
             ]
            ],
            "type": "surface"
           }
          ],
          "table": [
           {
            "cells": {
             "fill": {
              "color": "#EBF0F8"
             },
             "line": {
              "color": "white"
             }
            },
            "header": {
             "fill": {
              "color": "#C8D4E3"
             },
             "line": {
              "color": "white"
             }
            },
            "type": "table"
           }
          ]
         },
         "layout": {
          "annotationdefaults": {
           "arrowcolor": "#2a3f5f",
           "arrowhead": 0,
           "arrowwidth": 1
          },
          "autotypenumbers": "strict",
          "coloraxis": {
           "colorbar": {
            "outlinewidth": 0,
            "ticks": ""
           }
          },
          "colorscale": {
           "diverging": [
            [
             0,
             "#8e0152"
            ],
            [
             0.1,
             "#c51b7d"
            ],
            [
             0.2,
             "#de77ae"
            ],
            [
             0.3,
             "#f1b6da"
            ],
            [
             0.4,
             "#fde0ef"
            ],
            [
             0.5,
             "#f7f7f7"
            ],
            [
             0.6,
             "#e6f5d0"
            ],
            [
             0.7,
             "#b8e186"
            ],
            [
             0.8,
             "#7fbc41"
            ],
            [
             0.9,
             "#4d9221"
            ],
            [
             1,
             "#276419"
            ]
           ],
           "sequential": [
            [
             0,
             "#0d0887"
            ],
            [
             0.1111111111111111,
             "#46039f"
            ],
            [
             0.2222222222222222,
             "#7201a8"
            ],
            [
             0.3333333333333333,
             "#9c179e"
            ],
            [
             0.4444444444444444,
             "#bd3786"
            ],
            [
             0.5555555555555556,
             "#d8576b"
            ],
            [
             0.6666666666666666,
             "#ed7953"
            ],
            [
             0.7777777777777778,
             "#fb9f3a"
            ],
            [
             0.8888888888888888,
             "#fdca26"
            ],
            [
             1,
             "#f0f921"
            ]
           ],
           "sequentialminus": [
            [
             0,
             "#0d0887"
            ],
            [
             0.1111111111111111,
             "#46039f"
            ],
            [
             0.2222222222222222,
             "#7201a8"
            ],
            [
             0.3333333333333333,
             "#9c179e"
            ],
            [
             0.4444444444444444,
             "#bd3786"
            ],
            [
             0.5555555555555556,
             "#d8576b"
            ],
            [
             0.6666666666666666,
             "#ed7953"
            ],
            [
             0.7777777777777778,
             "#fb9f3a"
            ],
            [
             0.8888888888888888,
             "#fdca26"
            ],
            [
             1,
             "#f0f921"
            ]
           ]
          },
          "colorway": [
           "#636efa",
           "#EF553B",
           "#00cc96",
           "#ab63fa",
           "#FFA15A",
           "#19d3f3",
           "#FF6692",
           "#B6E880",
           "#FF97FF",
           "#FECB52"
          ],
          "font": {
           "color": "#2a3f5f"
          },
          "geo": {
           "bgcolor": "white",
           "lakecolor": "white",
           "landcolor": "#E5ECF6",
           "showlakes": true,
           "showland": true,
           "subunitcolor": "white"
          },
          "hoverlabel": {
           "align": "left"
          },
          "hovermode": "closest",
          "mapbox": {
           "style": "light"
          },
          "paper_bgcolor": "white",
          "plot_bgcolor": "#E5ECF6",
          "polar": {
           "angularaxis": {
            "gridcolor": "white",
            "linecolor": "white",
            "ticks": ""
           },
           "bgcolor": "#E5ECF6",
           "radialaxis": {
            "gridcolor": "white",
            "linecolor": "white",
            "ticks": ""
           }
          },
          "scene": {
           "xaxis": {
            "backgroundcolor": "#E5ECF6",
            "gridcolor": "white",
            "gridwidth": 2,
            "linecolor": "white",
            "showbackground": true,
            "ticks": "",
            "zerolinecolor": "white"
           },
           "yaxis": {
            "backgroundcolor": "#E5ECF6",
            "gridcolor": "white",
            "gridwidth": 2,
            "linecolor": "white",
            "showbackground": true,
            "ticks": "",
            "zerolinecolor": "white"
           },
           "zaxis": {
            "backgroundcolor": "#E5ECF6",
            "gridcolor": "white",
            "gridwidth": 2,
            "linecolor": "white",
            "showbackground": true,
            "ticks": "",
            "zerolinecolor": "white"
           }
          },
          "shapedefaults": {
           "line": {
            "color": "#2a3f5f"
           }
          },
          "ternary": {
           "aaxis": {
            "gridcolor": "white",
            "linecolor": "white",
            "ticks": ""
           },
           "baxis": {
            "gridcolor": "white",
            "linecolor": "white",
            "ticks": ""
           },
           "bgcolor": "#E5ECF6",
           "caxis": {
            "gridcolor": "white",
            "linecolor": "white",
            "ticks": ""
           }
          },
          "title": {
           "x": 0.05
          },
          "xaxis": {
           "automargin": true,
           "gridcolor": "white",
           "linecolor": "white",
           "ticks": "",
           "title": {
            "standoff": 15
           },
           "zerolinecolor": "white",
           "zerolinewidth": 2
          },
          "yaxis": {
           "automargin": true,
           "gridcolor": "white",
           "linecolor": "white",
           "ticks": "",
           "title": {
            "standoff": 15
           },
           "zerolinecolor": "white",
           "zerolinewidth": 2
          }
         }
        }
       }
      }
     },
     "metadata": {},
     "output_type": "display_data"
    }
   ],
   "source": [
    "# subtract the mean\n",
    "c2_meanzero = c2 - np.mean(c2, axis=1, keepdims=True)\n",
    "# divide by the standard deviation\n",
    "c2_std = c2_meanzero/np.std(c2_meanzero, axis=1, keepdims=True)\n",
    "# SVD\n",
    "U, S, VT = np.linalg.svd(c2_std, full_matrices=False)\n",
    "\n",
    "# make a figure showing the singular values\n",
    "svd_figure = pgo.Figure([pgo.Bar(x=np.arange(len(S)), y=S)])\n",
    "svd_figure.show()"
   ]
  },
  {
   "cell_type": "markdown",
   "id": "53efc56d",
   "metadata": {},
   "source": [
    "Compute the eigenvector of the second cluster's covariance matrix"
   ]
  },
  {
   "cell_type": "code",
   "execution_count": 45,
   "id": "bbab2785",
   "metadata": {},
   "outputs": [],
   "source": [
    "c2_cov = np.cov(c2_std.T)\n",
    "w, v2 = np.linalg.eig(c2_cov)\n",
    "v2_3 = v2[:,0:3]\n",
    "c2_3 = c2_std @ v2_3\n",
    "c2_3 = np.concatenate((c2_label,c2_3), axis = 1)"
   ]
  },
  {
   "cell_type": "markdown",
   "id": "327fd968",
   "metadata": {},
   "source": [
    "3. Standardize the 3rd cluster"
   ]
  },
  {
   "cell_type": "code",
   "execution_count": 46,
   "id": "6a336fdf",
   "metadata": {},
   "outputs": [
    {
     "data": {
      "application/vnd.plotly.v1+json": {
       "config": {
        "plotlyServerURL": "https://plot.ly"
       },
       "data": [
        {
         "type": "bar",
         "x": [
          0,
          1,
          2,
          3,
          4,
          5,
          6,
          7,
          8,
          9,
          10,
          11,
          12,
          13,
          14,
          15,
          16,
          17,
          18,
          19,
          20,
          21,
          22,
          23,
          24,
          25,
          26,
          27,
          28,
          29,
          30,
          31,
          32,
          33,
          34,
          35,
          36,
          37,
          38,
          39,
          40,
          41,
          42,
          43,
          44,
          45,
          46,
          47,
          48,
          49,
          50,
          51,
          52,
          53,
          54,
          55,
          56,
          57,
          58,
          59,
          60,
          61,
          62,
          63,
          64,
          65,
          66,
          67,
          68,
          69,
          70,
          71,
          72,
          73,
          74,
          75,
          76,
          77,
          78,
          79,
          80,
          81,
          82,
          83,
          84,
          85,
          86,
          87,
          88,
          89,
          90,
          91,
          92,
          93,
          94,
          95,
          96,
          97,
          98,
          99
         ],
         "y": [
          355.3734605536241,
          98.0412736347577,
          81.64081278702251,
          22.602320764367946,
          19.613257939645962,
          18.064499445612544,
          11.066606835914738,
          10.926777026879087,
          10.449675497786107,
          10.201140432890286,
          9.932645771379502,
          9.912295692572055,
          9.84403058403805,
          9.822337820110693,
          9.69490322147042,
          9.647460650270935,
          9.632830321186248,
          9.571401179786427,
          9.476288176658715,
          9.36432877071525,
          9.334589600259772,
          9.26856804255395,
          9.252595764988541,
          9.22214447149898,
          9.17676674527361,
          9.128677672997485,
          9.09480388418091,
          9.078446382239491,
          8.999675203179871,
          8.960643421452257,
          8.930228887464207,
          8.922444110265522,
          8.862599835687783,
          8.836045234311507,
          8.75717202740289,
          8.731736533142259,
          8.704312391600169,
          8.662687810548611,
          8.61636548102985,
          8.565146628584461,
          8.547434748390371,
          8.49452805480289,
          8.458144775644511,
          8.38426246452254,
          8.36513218877146,
          8.308126803651543,
          8.253879325378742,
          8.198453026301655,
          8.165419473939377,
          8.121870863699405,
          8.088614763267895,
          8.08023951788525,
          8.057379991302362,
          8.041748283233646,
          7.975060339418021,
          7.950975788814779,
          7.905916715392501,
          7.86662498565623,
          7.831350254410545,
          7.7920411845736846,
          7.7202731467138275,
          7.6797542194405315,
          7.663998085138475,
          7.629661168308199,
          7.603514979042066,
          7.574052786565353,
          7.528239706001762,
          7.505173850328821,
          7.429002327580929,
          7.393300403450183,
          7.358723651834252,
          7.338013460741789,
          7.264271341096715,
          7.1997362946658185,
          7.169382109268121,
          7.125336984004846,
          7.099856484940629,
          7.039309995132278,
          7.0233721452213045,
          6.979091617322801,
          6.936183532833774,
          6.918080585928317,
          6.8572317606822635,
          6.838319863199142,
          6.797654521901858,
          6.717459268457228,
          6.677572714285335,
          6.6097686755983185,
          6.578943525015705,
          6.535231823868461,
          6.44540795828678,
          6.367779765123342,
          6.282887931038512,
          6.193358785275021,
          6.171352678735358,
          6.087161633595851,
          6.047023016789156,
          5.96879173211058,
          5.883597926983883,
          1.2940376322241504e-14
         ]
        }
       ],
       "layout": {
        "template": {
         "data": {
          "bar": [
           {
            "error_x": {
             "color": "#2a3f5f"
            },
            "error_y": {
             "color": "#2a3f5f"
            },
            "marker": {
             "line": {
              "color": "#E5ECF6",
              "width": 0.5
             },
             "pattern": {
              "fillmode": "overlay",
              "size": 10,
              "solidity": 0.2
             }
            },
            "type": "bar"
           }
          ],
          "barpolar": [
           {
            "marker": {
             "line": {
              "color": "#E5ECF6",
              "width": 0.5
             },
             "pattern": {
              "fillmode": "overlay",
              "size": 10,
              "solidity": 0.2
             }
            },
            "type": "barpolar"
           }
          ],
          "carpet": [
           {
            "aaxis": {
             "endlinecolor": "#2a3f5f",
             "gridcolor": "white",
             "linecolor": "white",
             "minorgridcolor": "white",
             "startlinecolor": "#2a3f5f"
            },
            "baxis": {
             "endlinecolor": "#2a3f5f",
             "gridcolor": "white",
             "linecolor": "white",
             "minorgridcolor": "white",
             "startlinecolor": "#2a3f5f"
            },
            "type": "carpet"
           }
          ],
          "choropleth": [
           {
            "colorbar": {
             "outlinewidth": 0,
             "ticks": ""
            },
            "type": "choropleth"
           }
          ],
          "contour": [
           {
            "colorbar": {
             "outlinewidth": 0,
             "ticks": ""
            },
            "colorscale": [
             [
              0,
              "#0d0887"
             ],
             [
              0.1111111111111111,
              "#46039f"
             ],
             [
              0.2222222222222222,
              "#7201a8"
             ],
             [
              0.3333333333333333,
              "#9c179e"
             ],
             [
              0.4444444444444444,
              "#bd3786"
             ],
             [
              0.5555555555555556,
              "#d8576b"
             ],
             [
              0.6666666666666666,
              "#ed7953"
             ],
             [
              0.7777777777777778,
              "#fb9f3a"
             ],
             [
              0.8888888888888888,
              "#fdca26"
             ],
             [
              1,
              "#f0f921"
             ]
            ],
            "type": "contour"
           }
          ],
          "contourcarpet": [
           {
            "colorbar": {
             "outlinewidth": 0,
             "ticks": ""
            },
            "type": "contourcarpet"
           }
          ],
          "heatmap": [
           {
            "colorbar": {
             "outlinewidth": 0,
             "ticks": ""
            },
            "colorscale": [
             [
              0,
              "#0d0887"
             ],
             [
              0.1111111111111111,
              "#46039f"
             ],
             [
              0.2222222222222222,
              "#7201a8"
             ],
             [
              0.3333333333333333,
              "#9c179e"
             ],
             [
              0.4444444444444444,
              "#bd3786"
             ],
             [
              0.5555555555555556,
              "#d8576b"
             ],
             [
              0.6666666666666666,
              "#ed7953"
             ],
             [
              0.7777777777777778,
              "#fb9f3a"
             ],
             [
              0.8888888888888888,
              "#fdca26"
             ],
             [
              1,
              "#f0f921"
             ]
            ],
            "type": "heatmap"
           }
          ],
          "heatmapgl": [
           {
            "colorbar": {
             "outlinewidth": 0,
             "ticks": ""
            },
            "colorscale": [
             [
              0,
              "#0d0887"
             ],
             [
              0.1111111111111111,
              "#46039f"
             ],
             [
              0.2222222222222222,
              "#7201a8"
             ],
             [
              0.3333333333333333,
              "#9c179e"
             ],
             [
              0.4444444444444444,
              "#bd3786"
             ],
             [
              0.5555555555555556,
              "#d8576b"
             ],
             [
              0.6666666666666666,
              "#ed7953"
             ],
             [
              0.7777777777777778,
              "#fb9f3a"
             ],
             [
              0.8888888888888888,
              "#fdca26"
             ],
             [
              1,
              "#f0f921"
             ]
            ],
            "type": "heatmapgl"
           }
          ],
          "histogram": [
           {
            "marker": {
             "pattern": {
              "fillmode": "overlay",
              "size": 10,
              "solidity": 0.2
             }
            },
            "type": "histogram"
           }
          ],
          "histogram2d": [
           {
            "colorbar": {
             "outlinewidth": 0,
             "ticks": ""
            },
            "colorscale": [
             [
              0,
              "#0d0887"
             ],
             [
              0.1111111111111111,
              "#46039f"
             ],
             [
              0.2222222222222222,
              "#7201a8"
             ],
             [
              0.3333333333333333,
              "#9c179e"
             ],
             [
              0.4444444444444444,
              "#bd3786"
             ],
             [
              0.5555555555555556,
              "#d8576b"
             ],
             [
              0.6666666666666666,
              "#ed7953"
             ],
             [
              0.7777777777777778,
              "#fb9f3a"
             ],
             [
              0.8888888888888888,
              "#fdca26"
             ],
             [
              1,
              "#f0f921"
             ]
            ],
            "type": "histogram2d"
           }
          ],
          "histogram2dcontour": [
           {
            "colorbar": {
             "outlinewidth": 0,
             "ticks": ""
            },
            "colorscale": [
             [
              0,
              "#0d0887"
             ],
             [
              0.1111111111111111,
              "#46039f"
             ],
             [
              0.2222222222222222,
              "#7201a8"
             ],
             [
              0.3333333333333333,
              "#9c179e"
             ],
             [
              0.4444444444444444,
              "#bd3786"
             ],
             [
              0.5555555555555556,
              "#d8576b"
             ],
             [
              0.6666666666666666,
              "#ed7953"
             ],
             [
              0.7777777777777778,
              "#fb9f3a"
             ],
             [
              0.8888888888888888,
              "#fdca26"
             ],
             [
              1,
              "#f0f921"
             ]
            ],
            "type": "histogram2dcontour"
           }
          ],
          "mesh3d": [
           {
            "colorbar": {
             "outlinewidth": 0,
             "ticks": ""
            },
            "type": "mesh3d"
           }
          ],
          "parcoords": [
           {
            "line": {
             "colorbar": {
              "outlinewidth": 0,
              "ticks": ""
             }
            },
            "type": "parcoords"
           }
          ],
          "pie": [
           {
            "automargin": true,
            "type": "pie"
           }
          ],
          "scatter": [
           {
            "marker": {
             "colorbar": {
              "outlinewidth": 0,
              "ticks": ""
             }
            },
            "type": "scatter"
           }
          ],
          "scatter3d": [
           {
            "line": {
             "colorbar": {
              "outlinewidth": 0,
              "ticks": ""
             }
            },
            "marker": {
             "colorbar": {
              "outlinewidth": 0,
              "ticks": ""
             }
            },
            "type": "scatter3d"
           }
          ],
          "scattercarpet": [
           {
            "marker": {
             "colorbar": {
              "outlinewidth": 0,
              "ticks": ""
             }
            },
            "type": "scattercarpet"
           }
          ],
          "scattergeo": [
           {
            "marker": {
             "colorbar": {
              "outlinewidth": 0,
              "ticks": ""
             }
            },
            "type": "scattergeo"
           }
          ],
          "scattergl": [
           {
            "marker": {
             "colorbar": {
              "outlinewidth": 0,
              "ticks": ""
             }
            },
            "type": "scattergl"
           }
          ],
          "scattermapbox": [
           {
            "marker": {
             "colorbar": {
              "outlinewidth": 0,
              "ticks": ""
             }
            },
            "type": "scattermapbox"
           }
          ],
          "scatterpolar": [
           {
            "marker": {
             "colorbar": {
              "outlinewidth": 0,
              "ticks": ""
             }
            },
            "type": "scatterpolar"
           }
          ],
          "scatterpolargl": [
           {
            "marker": {
             "colorbar": {
              "outlinewidth": 0,
              "ticks": ""
             }
            },
            "type": "scatterpolargl"
           }
          ],
          "scatterternary": [
           {
            "marker": {
             "colorbar": {
              "outlinewidth": 0,
              "ticks": ""
             }
            },
            "type": "scatterternary"
           }
          ],
          "surface": [
           {
            "colorbar": {
             "outlinewidth": 0,
             "ticks": ""
            },
            "colorscale": [
             [
              0,
              "#0d0887"
             ],
             [
              0.1111111111111111,
              "#46039f"
             ],
             [
              0.2222222222222222,
              "#7201a8"
             ],
             [
              0.3333333333333333,
              "#9c179e"
             ],
             [
              0.4444444444444444,
              "#bd3786"
             ],
             [
              0.5555555555555556,
              "#d8576b"
             ],
             [
              0.6666666666666666,
              "#ed7953"
             ],
             [
              0.7777777777777778,
              "#fb9f3a"
             ],
             [
              0.8888888888888888,
              "#fdca26"
             ],
             [
              1,
              "#f0f921"
             ]
            ],
            "type": "surface"
           }
          ],
          "table": [
           {
            "cells": {
             "fill": {
              "color": "#EBF0F8"
             },
             "line": {
              "color": "white"
             }
            },
            "header": {
             "fill": {
              "color": "#C8D4E3"
             },
             "line": {
              "color": "white"
             }
            },
            "type": "table"
           }
          ]
         },
         "layout": {
          "annotationdefaults": {
           "arrowcolor": "#2a3f5f",
           "arrowhead": 0,
           "arrowwidth": 1
          },
          "autotypenumbers": "strict",
          "coloraxis": {
           "colorbar": {
            "outlinewidth": 0,
            "ticks": ""
           }
          },
          "colorscale": {
           "diverging": [
            [
             0,
             "#8e0152"
            ],
            [
             0.1,
             "#c51b7d"
            ],
            [
             0.2,
             "#de77ae"
            ],
            [
             0.3,
             "#f1b6da"
            ],
            [
             0.4,
             "#fde0ef"
            ],
            [
             0.5,
             "#f7f7f7"
            ],
            [
             0.6,
             "#e6f5d0"
            ],
            [
             0.7,
             "#b8e186"
            ],
            [
             0.8,
             "#7fbc41"
            ],
            [
             0.9,
             "#4d9221"
            ],
            [
             1,
             "#276419"
            ]
           ],
           "sequential": [
            [
             0,
             "#0d0887"
            ],
            [
             0.1111111111111111,
             "#46039f"
            ],
            [
             0.2222222222222222,
             "#7201a8"
            ],
            [
             0.3333333333333333,
             "#9c179e"
            ],
            [
             0.4444444444444444,
             "#bd3786"
            ],
            [
             0.5555555555555556,
             "#d8576b"
            ],
            [
             0.6666666666666666,
             "#ed7953"
            ],
            [
             0.7777777777777778,
             "#fb9f3a"
            ],
            [
             0.8888888888888888,
             "#fdca26"
            ],
            [
             1,
             "#f0f921"
            ]
           ],
           "sequentialminus": [
            [
             0,
             "#0d0887"
            ],
            [
             0.1111111111111111,
             "#46039f"
            ],
            [
             0.2222222222222222,
             "#7201a8"
            ],
            [
             0.3333333333333333,
             "#9c179e"
            ],
            [
             0.4444444444444444,
             "#bd3786"
            ],
            [
             0.5555555555555556,
             "#d8576b"
            ],
            [
             0.6666666666666666,
             "#ed7953"
            ],
            [
             0.7777777777777778,
             "#fb9f3a"
            ],
            [
             0.8888888888888888,
             "#fdca26"
            ],
            [
             1,
             "#f0f921"
            ]
           ]
          },
          "colorway": [
           "#636efa",
           "#EF553B",
           "#00cc96",
           "#ab63fa",
           "#FFA15A",
           "#19d3f3",
           "#FF6692",
           "#B6E880",
           "#FF97FF",
           "#FECB52"
          ],
          "font": {
           "color": "#2a3f5f"
          },
          "geo": {
           "bgcolor": "white",
           "lakecolor": "white",
           "landcolor": "#E5ECF6",
           "showlakes": true,
           "showland": true,
           "subunitcolor": "white"
          },
          "hoverlabel": {
           "align": "left"
          },
          "hovermode": "closest",
          "mapbox": {
           "style": "light"
          },
          "paper_bgcolor": "white",
          "plot_bgcolor": "#E5ECF6",
          "polar": {
           "angularaxis": {
            "gridcolor": "white",
            "linecolor": "white",
            "ticks": ""
           },
           "bgcolor": "#E5ECF6",
           "radialaxis": {
            "gridcolor": "white",
            "linecolor": "white",
            "ticks": ""
           }
          },
          "scene": {
           "xaxis": {
            "backgroundcolor": "#E5ECF6",
            "gridcolor": "white",
            "gridwidth": 2,
            "linecolor": "white",
            "showbackground": true,
            "ticks": "",
            "zerolinecolor": "white"
           },
           "yaxis": {
            "backgroundcolor": "#E5ECF6",
            "gridcolor": "white",
            "gridwidth": 2,
            "linecolor": "white",
            "showbackground": true,
            "ticks": "",
            "zerolinecolor": "white"
           },
           "zaxis": {
            "backgroundcolor": "#E5ECF6",
            "gridcolor": "white",
            "gridwidth": 2,
            "linecolor": "white",
            "showbackground": true,
            "ticks": "",
            "zerolinecolor": "white"
           }
          },
          "shapedefaults": {
           "line": {
            "color": "#2a3f5f"
           }
          },
          "ternary": {
           "aaxis": {
            "gridcolor": "white",
            "linecolor": "white",
            "ticks": ""
           },
           "baxis": {
            "gridcolor": "white",
            "linecolor": "white",
            "ticks": ""
           },
           "bgcolor": "#E5ECF6",
           "caxis": {
            "gridcolor": "white",
            "linecolor": "white",
            "ticks": ""
           }
          },
          "title": {
           "x": 0.05
          },
          "xaxis": {
           "automargin": true,
           "gridcolor": "white",
           "linecolor": "white",
           "ticks": "",
           "title": {
            "standoff": 15
           },
           "zerolinecolor": "white",
           "zerolinewidth": 2
          },
          "yaxis": {
           "automargin": true,
           "gridcolor": "white",
           "linecolor": "white",
           "ticks": "",
           "title": {
            "standoff": 15
           },
           "zerolinecolor": "white",
           "zerolinewidth": 2
          }
         }
        }
       }
      }
     },
     "metadata": {},
     "output_type": "display_data"
    }
   ],
   "source": [
    "# subtract the mean\n",
    "c3_meanzero = c3 - np.mean(c3, axis=1, keepdims=True)\n",
    "# divide by the standard deviation\n",
    "c3_std = c3_meanzero/np.std(c3_meanzero, axis=1, keepdims=True)\n",
    "# SVD\n",
    "U, S, VT = np.linalg.svd(c3_std, full_matrices=False)\n",
    "\n",
    "# make a figure showing the singular values\n",
    "svd_figure = pgo.Figure([pgo.Bar(x=np.arange(len(S)), y=S)])\n",
    "svd_figure.show()"
   ]
  },
  {
   "cell_type": "markdown",
   "id": "e3619e23",
   "metadata": {},
   "source": [
    "Compute the eigenvector of the 3rd cluster's covariance matrix"
   ]
  },
  {
   "cell_type": "code",
   "execution_count": 47,
   "id": "caf597b7",
   "metadata": {},
   "outputs": [],
   "source": [
    "c3_cov = np.cov(c3_std.T)\n",
    "w, v3 = np.linalg.eig(c3_cov)\n",
    "v3_3 = v3[:,0:3]\n",
    "c3_3 = c3_std @ v3_3\n",
    "c3_3 = np.concatenate((c3_label,c3_3), axis = 1)"
   ]
  },
  {
   "cell_type": "markdown",
   "id": "eb58cf9a",
   "metadata": {},
   "source": [
    "## 5) Put the processed clusters back in place"
   ]
  },
  {
   "cell_type": "code",
   "execution_count": 48,
   "id": "d6cb0b8e",
   "metadata": {},
   "outputs": [],
   "source": [
    "count_1 = 0\n",
    "count_2 = 0\n",
    "count_3 = 0\n",
    "X = np.zeros((4500, 4))\n",
    "# loop through the original labels to put clusters back in place\n",
    "for i in range(X.shape[0]):\n",
    "    if count_1 == 1500:\n",
    "        count_1 -= 1\n",
    "    if count_2 == 1500:\n",
    "        count_2 -= 1\n",
    "    if count_3 == 1500:\n",
    "        count_3 -= 1\n",
    "    if his_label[i] == c1_3[count_1,0]:\n",
    "        X[i,:] = c1_3[count_1,:]\n",
    "        count_1 = count_1 + 1\n",
    "    elif his_label[i] == c2_3[count_2,0]:\n",
    "        X[i,:] = c2_3[count_2,:]\n",
    "        count_2 = count_2 + 1\n",
    "    else:\n",
    "        X[i,:] = c3_3[count_3,:]\n",
    "        count_3 = count_3 + 1"
   ]
  },
  {
   "cell_type": "code",
   "execution_count": 49,
   "id": "07a5b85d",
   "metadata": {},
   "outputs": [
    {
     "name": "stdout",
     "output_type": "stream",
     "text": [
      "[[ 1.00950000e+05 -2.59702368e+00 -1.26912601e+00  6.06181224e+00]\n",
      " [ 1.00956000e+05  1.80500661e+00 -3.97689757e+00 -5.64866447e+00]\n",
      " [ 1.00962000e+05 -5.19788223e+00 -6.54200793e-01 -5.40409166e+00]\n",
      " [ 1.00969000e+05  1.12922744e+00 -5.37401553e+00  4.03012679e+00]\n",
      " [ 1.00974000e+05 -4.76076334e+00  1.29635386e+00 -5.42727327e+00]]\n"
     ]
    }
   ],
   "source": [
    "print (X[0:5])"
   ]
  },
  {
   "cell_type": "markdown",
   "id": "2591a6dc",
   "metadata": {},
   "source": [
    "The X is the clusters put back in original order after PCA, reserving user ID and three PCA features."
   ]
  },
  {
   "cell_type": "markdown",
   "id": "60c2e9e7",
   "metadata": {},
   "source": [
    "## 6) Fill in NAs in Ratings as 0"
   ]
  },
  {
   "cell_type": "code",
   "execution_count": 50,
   "id": "040bb3c5",
   "metadata": {},
   "outputs": [
    {
     "data": {
      "text/html": [
       "<div>\n",
       "<style scoped>\n",
       "    .dataframe tbody tr th:only-of-type {\n",
       "        vertical-align: middle;\n",
       "    }\n",
       "\n",
       "    .dataframe tbody tr th {\n",
       "        vertical-align: top;\n",
       "    }\n",
       "\n",
       "    .dataframe thead th {\n",
       "        text-align: right;\n",
       "    }\n",
       "</style>\n",
       "<table border=\"1\" class=\"dataframe\">\n",
       "  <thead>\n",
       "    <tr style=\"text-align: right;\">\n",
       "      <th>PRODUCT</th>\n",
       "      <th>adrian crater</th>\n",
       "      <th>anagram mentor</th>\n",
       "      <th>apropos pizza</th>\n",
       "      <th>bandit anatomy</th>\n",
       "      <th>banjo ladder</th>\n",
       "      <th>barcode arnold</th>\n",
       "      <th>bazooka diagram</th>\n",
       "      <th>bronze mystic</th>\n",
       "      <th>calypso zigzag</th>\n",
       "      <th>casino unit</th>\n",
       "      <th>...</th>\n",
       "      <th>tourist micro</th>\n",
       "      <th>tripod stand</th>\n",
       "      <th>update lola</th>\n",
       "      <th>ventura puzzle</th>\n",
       "      <th>viking llama</th>\n",
       "      <th>violet saga</th>\n",
       "      <th>vista queen</th>\n",
       "      <th>viva avalon</th>\n",
       "      <th>voodoo planet</th>\n",
       "      <th>wheel gibson</th>\n",
       "    </tr>\n",
       "    <tr>\n",
       "      <th>USER ID</th>\n",
       "      <th></th>\n",
       "      <th></th>\n",
       "      <th></th>\n",
       "      <th></th>\n",
       "      <th></th>\n",
       "      <th></th>\n",
       "      <th></th>\n",
       "      <th></th>\n",
       "      <th></th>\n",
       "      <th></th>\n",
       "      <th></th>\n",
       "      <th></th>\n",
       "      <th></th>\n",
       "      <th></th>\n",
       "      <th></th>\n",
       "      <th></th>\n",
       "      <th></th>\n",
       "      <th></th>\n",
       "      <th></th>\n",
       "      <th></th>\n",
       "      <th></th>\n",
       "    </tr>\n",
       "  </thead>\n",
       "  <tbody>\n",
       "    <tr>\n",
       "      <th>100950</th>\n",
       "      <td>NaN</td>\n",
       "      <td>NaN</td>\n",
       "      <td>NaN</td>\n",
       "      <td>NaN</td>\n",
       "      <td>8.0</td>\n",
       "      <td>NaN</td>\n",
       "      <td>NaN</td>\n",
       "      <td>NaN</td>\n",
       "      <td>5.0</td>\n",
       "      <td>NaN</td>\n",
       "      <td>...</td>\n",
       "      <td>NaN</td>\n",
       "      <td>NaN</td>\n",
       "      <td>NaN</td>\n",
       "      <td>NaN</td>\n",
       "      <td>NaN</td>\n",
       "      <td>4.0</td>\n",
       "      <td>NaN</td>\n",
       "      <td>NaN</td>\n",
       "      <td>NaN</td>\n",
       "      <td>NaN</td>\n",
       "    </tr>\n",
       "    <tr>\n",
       "      <th>100956</th>\n",
       "      <td>NaN</td>\n",
       "      <td>NaN</td>\n",
       "      <td>NaN</td>\n",
       "      <td>NaN</td>\n",
       "      <td>NaN</td>\n",
       "      <td>5.0</td>\n",
       "      <td>NaN</td>\n",
       "      <td>NaN</td>\n",
       "      <td>NaN</td>\n",
       "      <td>NaN</td>\n",
       "      <td>...</td>\n",
       "      <td>NaN</td>\n",
       "      <td>NaN</td>\n",
       "      <td>NaN</td>\n",
       "      <td>NaN</td>\n",
       "      <td>NaN</td>\n",
       "      <td>NaN</td>\n",
       "      <td>NaN</td>\n",
       "      <td>NaN</td>\n",
       "      <td>NaN</td>\n",
       "      <td>NaN</td>\n",
       "    </tr>\n",
       "    <tr>\n",
       "      <th>100962</th>\n",
       "      <td>NaN</td>\n",
       "      <td>NaN</td>\n",
       "      <td>NaN</td>\n",
       "      <td>NaN</td>\n",
       "      <td>NaN</td>\n",
       "      <td>NaN</td>\n",
       "      <td>NaN</td>\n",
       "      <td>NaN</td>\n",
       "      <td>NaN</td>\n",
       "      <td>NaN</td>\n",
       "      <td>...</td>\n",
       "      <td>NaN</td>\n",
       "      <td>NaN</td>\n",
       "      <td>NaN</td>\n",
       "      <td>NaN</td>\n",
       "      <td>NaN</td>\n",
       "      <td>NaN</td>\n",
       "      <td>NaN</td>\n",
       "      <td>NaN</td>\n",
       "      <td>NaN</td>\n",
       "      <td>NaN</td>\n",
       "    </tr>\n",
       "    <tr>\n",
       "      <th>100969</th>\n",
       "      <td>NaN</td>\n",
       "      <td>10.0</td>\n",
       "      <td>1.0</td>\n",
       "      <td>NaN</td>\n",
       "      <td>5.0</td>\n",
       "      <td>NaN</td>\n",
       "      <td>NaN</td>\n",
       "      <td>NaN</td>\n",
       "      <td>NaN</td>\n",
       "      <td>NaN</td>\n",
       "      <td>...</td>\n",
       "      <td>NaN</td>\n",
       "      <td>NaN</td>\n",
       "      <td>5.0</td>\n",
       "      <td>NaN</td>\n",
       "      <td>NaN</td>\n",
       "      <td>0.0</td>\n",
       "      <td>NaN</td>\n",
       "      <td>NaN</td>\n",
       "      <td>8.0</td>\n",
       "      <td>2.0</td>\n",
       "    </tr>\n",
       "    <tr>\n",
       "      <th>100974</th>\n",
       "      <td>NaN</td>\n",
       "      <td>NaN</td>\n",
       "      <td>NaN</td>\n",
       "      <td>9.0</td>\n",
       "      <td>NaN</td>\n",
       "      <td>5.0</td>\n",
       "      <td>NaN</td>\n",
       "      <td>1.0</td>\n",
       "      <td>NaN</td>\n",
       "      <td>NaN</td>\n",
       "      <td>...</td>\n",
       "      <td>NaN</td>\n",
       "      <td>NaN</td>\n",
       "      <td>NaN</td>\n",
       "      <td>NaN</td>\n",
       "      <td>NaN</td>\n",
       "      <td>NaN</td>\n",
       "      <td>NaN</td>\n",
       "      <td>9.0</td>\n",
       "      <td>NaN</td>\n",
       "      <td>NaN</td>\n",
       "    </tr>\n",
       "    <tr>\n",
       "      <th>...</th>\n",
       "      <td>...</td>\n",
       "      <td>...</td>\n",
       "      <td>...</td>\n",
       "      <td>...</td>\n",
       "      <td>...</td>\n",
       "      <td>...</td>\n",
       "      <td>...</td>\n",
       "      <td>...</td>\n",
       "      <td>...</td>\n",
       "      <td>...</td>\n",
       "      <td>...</td>\n",
       "      <td>...</td>\n",
       "      <td>...</td>\n",
       "      <td>...</td>\n",
       "      <td>...</td>\n",
       "      <td>...</td>\n",
       "      <td>...</td>\n",
       "      <td>...</td>\n",
       "      <td>...</td>\n",
       "      <td>...</td>\n",
       "      <td>...</td>\n",
       "    </tr>\n",
       "    <tr>\n",
       "      <th>117440</th>\n",
       "      <td>NaN</td>\n",
       "      <td>NaN</td>\n",
       "      <td>NaN</td>\n",
       "      <td>NaN</td>\n",
       "      <td>6.0</td>\n",
       "      <td>NaN</td>\n",
       "      <td>NaN</td>\n",
       "      <td>NaN</td>\n",
       "      <td>NaN</td>\n",
       "      <td>NaN</td>\n",
       "      <td>...</td>\n",
       "      <td>NaN</td>\n",
       "      <td>NaN</td>\n",
       "      <td>4.0</td>\n",
       "      <td>6.0</td>\n",
       "      <td>NaN</td>\n",
       "      <td>NaN</td>\n",
       "      <td>NaN</td>\n",
       "      <td>NaN</td>\n",
       "      <td>NaN</td>\n",
       "      <td>5.0</td>\n",
       "    </tr>\n",
       "    <tr>\n",
       "      <th>117442</th>\n",
       "      <td>6.0</td>\n",
       "      <td>NaN</td>\n",
       "      <td>NaN</td>\n",
       "      <td>NaN</td>\n",
       "      <td>NaN</td>\n",
       "      <td>6.0</td>\n",
       "      <td>NaN</td>\n",
       "      <td>NaN</td>\n",
       "      <td>NaN</td>\n",
       "      <td>NaN</td>\n",
       "      <td>...</td>\n",
       "      <td>NaN</td>\n",
       "      <td>NaN</td>\n",
       "      <td>NaN</td>\n",
       "      <td>NaN</td>\n",
       "      <td>NaN</td>\n",
       "      <td>NaN</td>\n",
       "      <td>NaN</td>\n",
       "      <td>NaN</td>\n",
       "      <td>1.0</td>\n",
       "      <td>NaN</td>\n",
       "    </tr>\n",
       "    <tr>\n",
       "      <th>117446</th>\n",
       "      <td>NaN</td>\n",
       "      <td>NaN</td>\n",
       "      <td>NaN</td>\n",
       "      <td>NaN</td>\n",
       "      <td>NaN</td>\n",
       "      <td>NaN</td>\n",
       "      <td>NaN</td>\n",
       "      <td>NaN</td>\n",
       "      <td>NaN</td>\n",
       "      <td>3.0</td>\n",
       "      <td>...</td>\n",
       "      <td>5.0</td>\n",
       "      <td>NaN</td>\n",
       "      <td>NaN</td>\n",
       "      <td>NaN</td>\n",
       "      <td>NaN</td>\n",
       "      <td>NaN</td>\n",
       "      <td>NaN</td>\n",
       "      <td>NaN</td>\n",
       "      <td>NaN</td>\n",
       "      <td>NaN</td>\n",
       "    </tr>\n",
       "    <tr>\n",
       "      <th>117447</th>\n",
       "      <td>NaN</td>\n",
       "      <td>NaN</td>\n",
       "      <td>NaN</td>\n",
       "      <td>NaN</td>\n",
       "      <td>NaN</td>\n",
       "      <td>NaN</td>\n",
       "      <td>NaN</td>\n",
       "      <td>NaN</td>\n",
       "      <td>3.0</td>\n",
       "      <td>NaN</td>\n",
       "      <td>...</td>\n",
       "      <td>NaN</td>\n",
       "      <td>NaN</td>\n",
       "      <td>1.0</td>\n",
       "      <td>NaN</td>\n",
       "      <td>NaN</td>\n",
       "      <td>NaN</td>\n",
       "      <td>NaN</td>\n",
       "      <td>NaN</td>\n",
       "      <td>9.0</td>\n",
       "      <td>NaN</td>\n",
       "    </tr>\n",
       "    <tr>\n",
       "      <th>117449</th>\n",
       "      <td>NaN</td>\n",
       "      <td>NaN</td>\n",
       "      <td>NaN</td>\n",
       "      <td>NaN</td>\n",
       "      <td>NaN</td>\n",
       "      <td>NaN</td>\n",
       "      <td>NaN</td>\n",
       "      <td>4.0</td>\n",
       "      <td>NaN</td>\n",
       "      <td>NaN</td>\n",
       "      <td>...</td>\n",
       "      <td>7.0</td>\n",
       "      <td>NaN</td>\n",
       "      <td>NaN</td>\n",
       "      <td>NaN</td>\n",
       "      <td>NaN</td>\n",
       "      <td>NaN</td>\n",
       "      <td>NaN</td>\n",
       "      <td>NaN</td>\n",
       "      <td>NaN</td>\n",
       "      <td>NaN</td>\n",
       "    </tr>\n",
       "  </tbody>\n",
       "</table>\n",
       "<p>3000 rows × 75 columns</p>\n",
       "</div>"
      ],
      "text/plain": [
       "PRODUCT  adrian crater  anagram mentor  apropos pizza  bandit anatomy  \\\n",
       "USER ID                                                                 \n",
       "100950             NaN             NaN            NaN             NaN   \n",
       "100956             NaN             NaN            NaN             NaN   \n",
       "100962             NaN             NaN            NaN             NaN   \n",
       "100969             NaN            10.0            1.0             NaN   \n",
       "100974             NaN             NaN            NaN             9.0   \n",
       "...                ...             ...            ...             ...   \n",
       "117440             NaN             NaN            NaN             NaN   \n",
       "117442             6.0             NaN            NaN             NaN   \n",
       "117446             NaN             NaN            NaN             NaN   \n",
       "117447             NaN             NaN            NaN             NaN   \n",
       "117449             NaN             NaN            NaN             NaN   \n",
       "\n",
       "PRODUCT  banjo ladder  barcode arnold  bazooka diagram  bronze mystic  \\\n",
       "USER ID                                                                 \n",
       "100950            8.0             NaN              NaN            NaN   \n",
       "100956            NaN             5.0              NaN            NaN   \n",
       "100962            NaN             NaN              NaN            NaN   \n",
       "100969            5.0             NaN              NaN            NaN   \n",
       "100974            NaN             5.0              NaN            1.0   \n",
       "...               ...             ...              ...            ...   \n",
       "117440            6.0             NaN              NaN            NaN   \n",
       "117442            NaN             6.0              NaN            NaN   \n",
       "117446            NaN             NaN              NaN            NaN   \n",
       "117447            NaN             NaN              NaN            NaN   \n",
       "117449            NaN             NaN              NaN            4.0   \n",
       "\n",
       "PRODUCT  calypso zigzag  casino unit  ...  tourist micro  tripod stand  \\\n",
       "USER ID                               ...                                \n",
       "100950              5.0          NaN  ...            NaN           NaN   \n",
       "100956              NaN          NaN  ...            NaN           NaN   \n",
       "100962              NaN          NaN  ...            NaN           NaN   \n",
       "100969              NaN          NaN  ...            NaN           NaN   \n",
       "100974              NaN          NaN  ...            NaN           NaN   \n",
       "...                 ...          ...  ...            ...           ...   \n",
       "117440              NaN          NaN  ...            NaN           NaN   \n",
       "117442              NaN          NaN  ...            NaN           NaN   \n",
       "117446              NaN          3.0  ...            5.0           NaN   \n",
       "117447              3.0          NaN  ...            NaN           NaN   \n",
       "117449              NaN          NaN  ...            7.0           NaN   \n",
       "\n",
       "PRODUCT  update lola  ventura puzzle  viking llama  violet saga  vista queen  \\\n",
       "USER ID                                                                        \n",
       "100950           NaN             NaN           NaN          4.0          NaN   \n",
       "100956           NaN             NaN           NaN          NaN          NaN   \n",
       "100962           NaN             NaN           NaN          NaN          NaN   \n",
       "100969           5.0             NaN           NaN          0.0          NaN   \n",
       "100974           NaN             NaN           NaN          NaN          NaN   \n",
       "...              ...             ...           ...          ...          ...   \n",
       "117440           4.0             6.0           NaN          NaN          NaN   \n",
       "117442           NaN             NaN           NaN          NaN          NaN   \n",
       "117446           NaN             NaN           NaN          NaN          NaN   \n",
       "117447           1.0             NaN           NaN          NaN          NaN   \n",
       "117449           NaN             NaN           NaN          NaN          NaN   \n",
       "\n",
       "PRODUCT  viva avalon  voodoo planet  wheel gibson  \n",
       "USER ID                                            \n",
       "100950           NaN            NaN           NaN  \n",
       "100956           NaN            NaN           NaN  \n",
       "100962           NaN            NaN           NaN  \n",
       "100969           NaN            8.0           2.0  \n",
       "100974           9.0            NaN           NaN  \n",
       "...              ...            ...           ...  \n",
       "117440           NaN            NaN           5.0  \n",
       "117442           NaN            1.0           NaN  \n",
       "117446           NaN            NaN           NaN  \n",
       "117447           NaN            9.0           NaN  \n",
       "117449           NaN            NaN           NaN  \n",
       "\n",
       "[3000 rows x 75 columns]"
      ]
     },
     "execution_count": 50,
     "metadata": {},
     "output_type": "execute_result"
    }
   ],
   "source": [
    "#display full dataset\n",
    "user_ratings_table = pd.pivot_table(user_ratings,values='RATING', index='USER ID',\n",
    "                    columns='PRODUCT')\n",
    "user_ratings_table\n"
   ]
  },
  {
   "cell_type": "code",
   "execution_count": 51,
   "id": "5c6105f5",
   "metadata": {},
   "outputs": [
    {
     "name": "stdout",
     "output_type": "stream",
     "text": [
      "[0. 0. 0. 0. 8. 0. 0. 0. 5. 0. 0. 0. 0. 0. 0. 0. 0. 0. 3. 0. 0. 0. 0. 0.\n",
      " 8. 0. 0. 0. 4. 0. 0. 6. 0. 6. 9. 2. 0. 0. 0. 0. 0. 3. 0. 0. 0. 0. 0. 0.\n",
      " 0. 0. 0. 0. 0. 0. 4. 0. 0. 1. 0. 0. 0. 0. 0. 0. 0. 0. 0. 0. 0. 0. 4. 0.\n",
      " 0. 0. 0.]\n"
     ]
    }
   ],
   "source": [
    "# convert the data frame to a matrix and replace nan with zeros\n",
    "userR = user_ratings_table.fillna(0)\n",
    "userR = userR.to_numpy()\n",
    "# display sample user ratings after filled in\n",
    "print(userR[0])"
   ]
  },
  {
   "cell_type": "markdown",
   "id": "955e3b2a",
   "metadata": {},
   "source": [
    "## 7) Find duplicate users and fitting a regression model on full features"
   ]
  },
  {
   "cell_type": "code",
   "execution_count": 52,
   "id": "ccde6635",
   "metadata": {},
   "outputs": [
    {
     "data": {
      "text/html": [
       "<div>\n",
       "<style scoped>\n",
       "    .dataframe tbody tr th:only-of-type {\n",
       "        vertical-align: middle;\n",
       "    }\n",
       "\n",
       "    .dataframe tbody tr th {\n",
       "        vertical-align: top;\n",
       "    }\n",
       "\n",
       "    .dataframe thead th {\n",
       "        text-align: right;\n",
       "    }\n",
       "</style>\n",
       "<table border=\"1\" class=\"dataframe\">\n",
       "  <thead>\n",
       "    <tr style=\"text-align: right;\">\n",
       "      <th></th>\n",
       "      <th>USER ID</th>\n",
       "      <th>Exist</th>\n",
       "    </tr>\n",
       "  </thead>\n",
       "  <tbody>\n",
       "    <tr>\n",
       "      <th>0</th>\n",
       "      <td>100950</td>\n",
       "      <td>both</td>\n",
       "    </tr>\n",
       "    <tr>\n",
       "      <th>1</th>\n",
       "      <td>100950</td>\n",
       "      <td>both</td>\n",
       "    </tr>\n",
       "    <tr>\n",
       "      <th>2</th>\n",
       "      <td>100950</td>\n",
       "      <td>both</td>\n",
       "    </tr>\n",
       "    <tr>\n",
       "      <th>3</th>\n",
       "      <td>100950</td>\n",
       "      <td>both</td>\n",
       "    </tr>\n",
       "    <tr>\n",
       "      <th>4</th>\n",
       "      <td>100950</td>\n",
       "      <td>both</td>\n",
       "    </tr>\n",
       "    <tr>\n",
       "      <th>...</th>\n",
       "      <td>...</td>\n",
       "      <td>...</td>\n",
       "    </tr>\n",
       "    <tr>\n",
       "      <th>33720</th>\n",
       "      <td>117449</td>\n",
       "      <td>both</td>\n",
       "    </tr>\n",
       "    <tr>\n",
       "      <th>33721</th>\n",
       "      <td>117449</td>\n",
       "      <td>both</td>\n",
       "    </tr>\n",
       "    <tr>\n",
       "      <th>33722</th>\n",
       "      <td>117449</td>\n",
       "      <td>both</td>\n",
       "    </tr>\n",
       "    <tr>\n",
       "      <th>33723</th>\n",
       "      <td>117449</td>\n",
       "      <td>both</td>\n",
       "    </tr>\n",
       "    <tr>\n",
       "      <th>33724</th>\n",
       "      <td>117449</td>\n",
       "      <td>both</td>\n",
       "    </tr>\n",
       "  </tbody>\n",
       "</table>\n",
       "<p>33725 rows × 2 columns</p>\n",
       "</div>"
      ],
      "text/plain": [
       "       USER ID Exist\n",
       "0       100950  both\n",
       "1       100950  both\n",
       "2       100950  both\n",
       "3       100950  both\n",
       "4       100950  both\n",
       "...        ...   ...\n",
       "33720   117449  both\n",
       "33721   117449  both\n",
       "33722   117449  both\n",
       "33723   117449  both\n",
       "33724   117449  both\n",
       "\n",
       "[33725 rows x 2 columns]"
      ]
     },
     "execution_count": 52,
     "metadata": {},
     "output_type": "execute_result"
    }
   ],
   "source": [
    "#Find duplicates ID that exist in both history and ratings\n",
    "duplicates = pd.merge(user_history[\"USER ID\"], user_ratings[\"USER ID\"], how='outer', indicator='Exist')\n",
    "duplicates = duplicates.loc[duplicates['Exist'] == 'both']\n",
    "duplicates"
   ]
  },
  {
   "cell_type": "code",
   "execution_count": 53,
   "id": "c04f0402",
   "metadata": {},
   "outputs": [
    {
     "name": "stdout",
     "output_type": "stream",
     "text": [
      "[[ 1.00950000e+05 -2.59702368e+00 -1.26912601e+00  6.06181224e+00]\n",
      " [ 1.00956000e+05  1.80500661e+00 -3.97689757e+00 -5.64866447e+00]\n",
      " [ 1.00962000e+05 -5.19788223e+00 -6.54200793e-01 -5.40409166e+00]\n",
      " ...\n",
      " [ 1.25629000e+05 -1.08702307e+00  6.43732680e-01  6.75333321e+00]\n",
      " [ 1.25636000e+05  1.58789932e+00  1.95978587e+00 -6.75886986e+00]\n",
      " [ 1.25645000e+05  4.20999819e+00 -9.79977880e-01 -5.86915273e+00]]\n"
     ]
    }
   ],
   "source": [
    "#keep only IDs that exist in both dataset in history\n",
    "user_his = user_history[user_history[\"USER ID\"].isin(duplicates[\"USER ID\"])]\n",
    "user_his = pd.DataFrame(user_his)\n",
    "user_his\n",
    "userR[:,0]\n",
    "print (X)"
   ]
  },
  {
   "cell_type": "markdown",
   "id": "c61420c8",
   "metadata": {},
   "source": [
    "Fit regression models on the users who exists in both dataset."
   ]
  },
  {
   "cell_type": "code",
   "execution_count": 54,
   "id": "14a444c1",
   "metadata": {},
   "outputs": [
    {
     "name": "stdout",
     "output_type": "stream",
     "text": [
      "Coefficients: \n",
      " [-0.15627289  0.10045419  0.18088314  0.09840717 -0.09606579  0.05738816\n",
      " -0.22745738 -0.27879114 -0.19402719 -0.01781725 -0.07629769 -0.09640856\n",
      " -0.01711316  0.14183769  0.43987017 -0.42548302 -0.05370199 -0.14138967\n",
      "  0.05094748 -0.02990476  0.28095832 -0.18766124  0.11833953 -0.09715069\n",
      " -0.2935032  -0.18047345  0.07887989  0.00388338  0.01789712 -0.32201804\n",
      "  0.32117282 -0.18887334 -0.08628224 -0.24821569  0.22285391 -0.40863919\n",
      " -0.03985729  0.00867417  0.02053839  0.14957277 -0.21544793 -0.01105673\n",
      " -0.1755516  -0.17677167  0.30869235 -0.11967231  0.16973678  0.11320999\n",
      "  0.24170644  0.06175494  0.1468441  -0.12045702 -0.15932461  0.08806965\n",
      " -0.35092353 -0.26511454  0.13509404 -0.00666074  0.04637064  0.02449703\n",
      "  0.19987408 -0.29935342  0.20086279 -0.08567959 -0.12313557 -0.00153406\n",
      "  0.11343604  0.03314426  0.07390504  0.08724655  0.24524159 -0.011683\n",
      " -0.15538853 -0.10308439  0.2464226  -0.03533681  0.10375116  0.15805232\n",
      "  0.23195298 -0.04556665 -0.21520984  0.14486738  0.30893841  0.11451947\n",
      " -0.06227093 -0.30669826  0.13316826  0.16626935  0.11463723  0.0129384\n",
      "  0.25811521 -0.10697088 -0.07850355 -0.05993794  0.13414708 -0.25522624\n",
      "  0.34168806 -0.0524449   0.29959986 -0.10566391]\n",
      "Mean squared error:  4.329353826660119\n"
     ]
    },
    {
     "data": {
      "image/png": "[encoded data removed]",
      "text/plain": [
       "<Figure size 432x288 with 1 Axes>"
      ]
     },
     "metadata": {},
     "output_type": "display_data"
    }
   ],
   "source": [
    "#fit regression model\n",
    "y = userR[:,0] #set y, you can change columns of userR to fit each product to a regression model\n",
    "user_hisw = user_his.drop(['USER ID'],axis=1)\n",
    "n,p = user_hisw.shape\n",
    "X1 = np.ones((n, p + 1)) #add intercept\n",
    "X1[:, 1:] = user_hisw\n",
    "\n",
    "#compute betahat\n",
    "U, S, Vt = np.linalg.svd(X1[:,1:].T @ X1[:,1:])\n",
    "betat = Vt.T @ (U.T @ (X1[:,1:].T @ y) / S)\n",
    "betat\n",
    "# compute predictions\n",
    "y_pred = X1[:,1:] @ betat\n",
    "# compute MSE\n",
    "MSE = np.mean((y - y_pred) ** 2)\n",
    "\n",
    "# The coefficients\n",
    "print('Coefficients: \\n', betat)\n",
    "# The mean squared error\n",
    "print('Mean squared error: ', MSE)\n",
    "\n",
    "#plot the output\n",
    "plt.scatter(X1[:, 3], y,  color='black')\n",
    "plt.plot(X1[:, 3], y_pred, 'ob')\n",
    "\n",
    "plt.xticks(())\n",
    "plt.yticks(())\n",
    "\n",
    "plt.show()"
   ]
  },
  {
   "cell_type": "markdown",
   "id": "10cabec3",
   "metadata": {},
   "source": [
    "## 8) Matrix Completion via Gradient Descent"
   ]
  },
  {
   "cell_type": "code",
   "execution_count": 55,
   "id": "0d906ec5",
   "metadata": {},
   "outputs": [],
   "source": [
    "def MSE(U, V, M, obs):\n",
    "    s = 0\n",
    "    st = 0\n",
    "    nSamp = len(obs)\n",
    "    for l in range(nSamp):\n",
    "        i, j = obs[l]\n",
    "        s += (np.dot(U[i, :], V[j, :].T) - M[i, j])**2\n",
    "    return np.sqrt(s)\n",
    "\n",
    "# compute relative Frobenius error: NORM(UV-M, 'fro')/NORM(M, 'fro')\n",
    "def RelError(U, V, M, obs):\n",
    "    s = 0\n",
    "    st = 0\n",
    "    nSamp = len(obs)\n",
    "    for l in range(nSamp):\n",
    "        i, j = obs[l]\n",
    "        s += (np.dot(U[i, :], V[j, :].T) - M[i, j])**2\n",
    "        st += (M[i, j])**2\n",
    "    return np.sqrt(s)/np.sqrt(st)"
   ]
  },
  {
   "cell_type": "code",
   "execution_count": 56,
   "id": "2cad9558",
   "metadata": {},
   "outputs": [
    {
     "name": "stdout",
     "output_type": "stream",
     "text": [
      "  (0, 4)\t8\n",
      "  (0, 8)\t5\n",
      "  (0, 18)\t3\n",
      "  (0, 24)\t8\n",
      "  (0, 28)\t4\n",
      "  (0, 31)\t6\n",
      "  (0, 33)\t6\n",
      "  (0, 34)\t9\n",
      "  (0, 35)\t2\n",
      "  (0, 41)\t3\n",
      "  (0, 54)\t4\n",
      "  (0, 57)\t1\n",
      "  (0, 70)\t4\n",
      "  (1, 5)\t5\n",
      "  (1, 15)\t2\n",
      "  (1, 28)\t2\n",
      "  (1, 35)\t4\n",
      "  (1, 36)\t10\n",
      "  (1, 38)\t5\n",
      "  (1, 44)\t3\n",
      "  (1, 50)\t7\n",
      "  (2, 11)\t7\n",
      "  (2, 17)\t4\n",
      "  (2, 22)\t7\n",
      "  (2, 23)\t9\n",
      "  :\t:\n",
      "  (2997, 40)\t0\n",
      "  (2997, 58)\t8\n",
      "  (2997, 65)\t5\n",
      "  (2998, 8)\t3\n",
      "  (2998, 17)\t6\n",
      "  (2998, 20)\t5\n",
      "  (2998, 21)\t6\n",
      "  (2998, 23)\t8\n",
      "  (2998, 26)\t3\n",
      "  (2998, 32)\t5\n",
      "  (2998, 33)\t2\n",
      "  (2998, 41)\t2\n",
      "  (2998, 45)\t1\n",
      "  (2998, 50)\t8\n",
      "  (2998, 58)\t3\n",
      "  (2998, 61)\t6\n",
      "  (2998, 67)\t1\n",
      "  (2998, 73)\t9\n",
      "  (2999, 7)\t4\n",
      "  (2999, 14)\t7\n",
      "  (2999, 16)\t8\n",
      "  (2999, 19)\t4\n",
      "  (2999, 59)\t7\n",
      "  (2999, 64)\t3\n",
      "  (2999, 65)\t7\n"
     ]
    }
   ],
   "source": [
    "M = user_ratings.pivot(index='USER INDEX', columns='PRODUCT ID', values='RATING').values\n",
    "\n",
    "user_ratingsS = user_ratings.sort_values([\"USER INDEX\",\"PRODUCT ID\"])\n",
    "users = user_ratingsS['USER INDEX'].values\n",
    "movies = user_ratingsS['PRODUCT ID'].values\n",
    "ratings = user_ratingsS['RATING'].values\n",
    "obs = [(users[i], movies[i]) for i in range(len(users))]\n",
    "M = sparse.coo_matrix((ratings, (users,movies))).tocsr()\n",
    "print(M)"
   ]
  },
  {
   "cell_type": "code",
   "execution_count": 57,
   "id": "048ecacf",
   "metadata": {},
   "outputs": [],
   "source": [
    "# Matrix completion via gradient descent\n",
    "class Matrix_completion():\n",
    "    \n",
    "    def __init__(self, R, K, alpha, beta, iters):\n",
    "        \n",
    "        self.R = R                              # the input dataset\n",
    "        self.users, self.movies = R.shape       # user features, movie features\n",
    "        self.K = K                              # low rank approximation\n",
    "        self.alpha = alpha                      # the learning rate\n",
    "        self.beta = beta                        # regularization\n",
    "        self.iters = iters                      # number of iterations\n",
    "\n",
    "    # training process by sgd\n",
    "    def train(self):\n",
    "        # construct two random matrix for Pt, Qt\n",
    "        self.Pt = np.random.normal(scale=1./self.K, size=(self.users, self.K))\n",
    "        self.Qt = np.random.normal(scale=1./self.K, size=(self.movies, self.K))\n",
    "        \n",
    "        # construct matrix for bias\n",
    "        self.userb = np.zeros(self.users)\n",
    "        self.movieb = np.zeros(self.movies)\n",
    "        self.b = np.mean(self.R[np.where(self.R != 0)])\n",
    "        \n",
    "        # Create a training sample\n",
    "        self.samples = [\n",
    "            (i, j, self.R[i, j])\n",
    "            for i in range(self.users)\n",
    "            for j in range(self.movies)\n",
    "            if self.R[i, j] > 0\n",
    "        ]\n",
    "        \n",
    "        # SGD with defined iterations\n",
    "        training = []\n",
    "        for i in range(self.iters):\n",
    "            np.random.shuffle(self.samples)\n",
    "            self.sgd()\n",
    "            mse = self.mse()\n",
    "            training.append((i, mse))\n",
    "            if (i+1) % 10 == 0:\n",
    "                print(\"Iteration: %d ; error = %.4f\" % (i+1, mse))\n",
    "        \n",
    "        return training\n",
    "    \n",
    "    # compute the mean square error\n",
    "    def mse(self):\n",
    "        \n",
    "        xs, ys = self.R.nonzero()\n",
    "        predicted = self.approximation()\n",
    "        error = 0\n",
    "        for x, y in zip(xs, ys):\n",
    "            error += pow(self.R[x, y] - predicted[x, y], 2)\n",
    "        return np.sqrt(error)\n",
    "\n",
    "    #compute SGD\n",
    "    def sgd(self):\n",
    "        \n",
    "        for i, j, r in self.samples:\n",
    "            # Compute prediction and error\n",
    "            prediction = self.Prediction(i, j)\n",
    "            e = (r - prediction)\n",
    "            \n",
    "            # Update biases\n",
    "            self.userb[i] += self.alpha * (e - self.beta * self.userb[i])\n",
    "            self.movieb[j] += self.alpha * (e - self.beta * self.movieb[j])\n",
    "            \n",
    "            # create another P since we need previous P to compute Q\n",
    "            P_i = self.Pt[i, :][:]\n",
    "            \n",
    "            # update predicted ratings\n",
    "            self.Pt[i, :] += self.alpha * (e * self.Qt[j, :] - self.beta * self.Pt[i,:])\n",
    "            self.Qt[j, :] += self.alpha * (e * P_i - self.beta * self.Qt[j,:])\n",
    "      \n",
    "    # compute predictions\n",
    "    def Prediction(self, i, j):\n",
    "        \n",
    "        prediction = self.b + self.userb[i] + self.movieb[j] + self.Pt[i, :].dot(self.Qt[j, :].T)\n",
    "        return prediction\n",
    "    \n",
    "    # compute the estimated full matrix of ratings by Pt, Qt and bias\n",
    "    def approximation(self):\n",
    "        \n",
    "        return mf.b + mf.userb[:,np.newaxis] + mf.movieb[np.newaxis:,] + mf.Pt.dot(mf.Qt.T)\n"
   ]
  },
  {
   "cell_type": "code",
   "execution_count": 58,
   "id": "f5ca5d30",
   "metadata": {},
   "outputs": [],
   "source": [
    "mf = Matrix_completion(userR, K=10, alpha=0.01, beta=0.001, iters=50)"
   ]
  },
  {
   "cell_type": "code",
   "execution_count": 59,
   "id": "243f2cec",
   "metadata": {},
   "outputs": [
    {
     "name": "stdout",
     "output_type": "stream",
     "text": [
      "Iteration: 10 ; error = 115.2218\n",
      "Iteration: 20 ; error = 66.5093\n",
      "Iteration: 30 ; error = 54.5030\n",
      "Iteration: 40 ; error = 48.8875\n",
      "Iteration: 50 ; error = 45.4766\n",
      "[[ 3.78112334  8.26022819  6.13182308 ...  2.78875622  7.97523179\n",
      "   5.39160037]\n",
      " [ 1.7497058   8.11864524  7.10545714 ...  5.25645689  1.87928505\n",
      "   7.2210884 ]\n",
      " [ 6.28781292 11.14005049  3.31076184 ...  7.82912599  5.95157645\n",
      "   6.82133199]\n",
      " ...\n",
      " [ 3.75242743  1.1609488   4.88882792 ...  2.83071418  5.33104822\n",
      "   1.07170273]\n",
      " [ 9.7957251   6.52444008  1.84597145 ...  2.76271623  8.97048723\n",
      "   3.06207089]\n",
      " [11.19547415  4.45041642  1.0841906  ...  4.38460583  6.26340323\n",
      "   0.36482773]]\n"
     ]
    }
   ],
   "source": [
    "training = mf.train()\n",
    "print(mf.approximation())\n",
    "sd = mf.approximation()"
   ]
  },
  {
   "cell_type": "code",
   "execution_count": 60,
   "id": "fb8d1827",
   "metadata": {},
   "outputs": [
    {
     "data": {
      "image/png": "[encoded data removed]",
      "text/plain": [
       "<Figure size 1152x288 with 1 Axes>"
      ]
     },
     "metadata": {
      "needs_background": "light"
     },
     "output_type": "display_data"
    }
   ],
   "source": [
    "#plot the convergence of mean square error\n",
    "x = [x for x, y in training]\n",
    "y = [y for x, y in training]\n",
    "plt.figure(figsize=((16,4)))\n",
    "plt.plot(x, y)\n",
    "plt.xticks(x, x)\n",
    "plt.xlabel(\"Iterations\")\n",
    "plt.ylabel(\"Mean Square Error\")\n",
    "plt.grid(axis=\"y\")"
   ]
  },
  {
   "cell_type": "markdown",
   "id": "535a175b",
   "metadata": {},
   "source": [
    "## 9) Prediction"
   ]
  },
  {
   "cell_type": "code",
   "execution_count": 61,
   "id": "66a4de4c",
   "metadata": {},
   "outputs": [
    {
     "name": "stdout",
     "output_type": "stream",
     "text": [
      "[[ 1.00950000e+05 -2.59702368e+00 -1.26912601e+00  6.06181224e+00]\n",
      " [ 1.00956000e+05  1.80500661e+00 -3.97689757e+00 -5.64866447e+00]\n",
      " [ 1.00962000e+05 -5.19788223e+00 -6.54200793e-01 -5.40409166e+00]\n",
      " ...\n",
      " [ 1.25629000e+05 -1.08702307e+00  6.43732680e-01  6.75333321e+00]\n",
      " [ 1.25636000e+05  1.58789932e+00  1.95978587e+00 -6.75886986e+00]\n",
      " [ 1.25645000e+05  4.20999819e+00 -9.79977880e-01 -5.86915273e+00]]\n",
      "(4500, 4)\n"
     ]
    }
   ],
   "source": [
    "print(X)\n",
    "print(X.shape)"
   ]
  },
  {
   "cell_type": "code",
   "execution_count": 62,
   "id": "45700ada",
   "metadata": {},
   "outputs": [
    {
     "name": "stdout",
     "output_type": "stream",
     "text": [
      "[-0.57670043  3.79717523  2.5230069  ...  0.88483762  3.39426521\n",
      " -0.41851942]\n"
     ]
    }
   ],
   "source": [
    "betat = np.linalg.lstsq(X[:3000,1:],sd[:,0],rcond=None)[0]\n",
    "\n",
    "print(X[:3000,1:] @ betat)"
   ]
  },
  {
   "cell_type": "code",
   "execution_count": 63,
   "id": "dc7dae1b",
   "metadata": {},
   "outputs": [
    {
     "data": {
      "text/plain": [
       "\"# Make a prediction with coefficients\\ndef predict(row, coefficients):\\n    yhat = coefficients[0]\\n    for i in range(len(row)-1):\\n        yhat += coefficients[i + 1] * row[i]\\n    return yhat\\n \\n# Estimate linear regression coefficients using stochastic gradient descent\\ndef coefficients_sgd(train, l_rate, n_epoch):\\n    coef = [0.0 for i in range(len(train[0]))]\\n    for epoch in range(n_epoch):\\n        sum_error = 0\\n        for row in train:\\n            yhat = predict(row, coef)\\n            error = yhat - row[-1]\\n            sum_error += error**2\\n            coef[0] = coef[0] - l_rate * error\\n            for i in range(len(row)-1):\\n                coef[i + 1] = coef[i + 1] - l_rate * error * row[i]\\n        print('>epoch=%d, lrate=%.3f, error=%.3f' % (epoch, l_rate, sum_error))\\n    return coef\\n \\n# Calculate coefficients\\ndataset = [[1, 1], [2, 3], [4, 3], [3, 2], [5, 5]]\\nl_rate = 0.001\\nn_epoch = 50\\ncoef = coefficients_sgd(dataset, l_rate, n_epoch)\\nprint(coef)\""
      ]
     },
     "execution_count": 63,
     "metadata": {},
     "output_type": "execute_result"
    }
   ],
   "source": [
    "'''# Make a prediction with coefficients\n",
    "def predict(row, coefficients):\n",
    "    yhat = coefficients[0]\n",
    "    for i in range(len(row)-1):\n",
    "        yhat += coefficients[i + 1] * row[i]\n",
    "    return yhat\n",
    " \n",
    "# Estimate linear regression coefficients using stochastic gradient descent\n",
    "def coefficients_sgd(train, l_rate, n_epoch):\n",
    "    coef = [0.0 for i in range(len(train[0]))]\n",
    "    for epoch in range(n_epoch):\n",
    "        sum_error = 0\n",
    "        for row in train:\n",
    "            yhat = predict(row, coef)\n",
    "            error = yhat - row[-1]\n",
    "            sum_error += error**2\n",
    "            coef[0] = coef[0] - l_rate * error\n",
    "            for i in range(len(row)-1):\n",
    "                coef[i + 1] = coef[i + 1] - l_rate * error * row[i]\n",
    "        print('>epoch=%d, lrate=%.3f, error=%.3f' % (epoch, l_rate, sum_error))\n",
    "    return coef\n",
    " \n",
    "# Calculate coefficients\n",
    "dataset = [[1, 1], [2, 3], [4, 3], [3, 2], [5, 5]]\n",
    "l_rate = 0.001\n",
    "n_epoch = 50\n",
    "coef = coefficients_sgd(dataset, l_rate, n_epoch)\n",
    "print(coef)'''"
   ]
  },
  {
   "cell_type": "code",
   "execution_count": 64,
   "id": "949d69c9",
   "metadata": {},
   "outputs": [
    {
     "data": {
      "text/plain": [
       "'m = np.array([0.,0.,0.])\\nc = 0\\nXX = X[:3000,:]\\nL = 0.0001\\nepochs = 1000\\n\\nn = float (len(XX[0]))\\nY = sd[:,0]\\n\\nfor i in range (epochs):\\n    Y_pred = XX @ m + c\\n    D_m = (-2/n) * sum(XX * (Y - Y_pred))\\n    D_c = (-2/n) * sum(Y - Y_pred)\\n    m = m - L * D_m\\n    c = c - L * D_c\\n    \\nprint (m,c)\\n\\nprint (XX @ m) '"
      ]
     },
     "execution_count": 64,
     "metadata": {},
     "output_type": "execute_result"
    }
   ],
   "source": [
    "'''m = np.array([0.,0.,0.])\n",
    "c = 0\n",
    "XX = X[:3000,:]\n",
    "L = 0.0001\n",
    "epochs = 1000\n",
    "\n",
    "n = float (len(XX[0]))\n",
    "Y = sd[:,0]\n",
    "\n",
    "for i in range (epochs):\n",
    "    Y_pred = XX @ m + c\n",
    "    D_m = (-2/n) * sum(XX * (Y - Y_pred))\n",
    "    D_c = (-2/n) * sum(Y - Y_pred)\n",
    "    m = m - L * D_m\n",
    "    c = c - L * D_c\n",
    "    \n",
    "print (m,c)\n",
    "\n",
    "print (XX @ m) '''"
   ]
  },
  {
   "cell_type": "code",
   "execution_count": 65,
   "id": "6f3a3050",
   "metadata": {},
   "outputs": [
    {
     "name": "stdout",
     "output_type": "stream",
     "text": [
      "(75, 3)\n",
      "[[ 1.87930623e-01 -9.83720412e-01 -3.27624526e-01]\n",
      " [-2.07666569e-01 -2.89483301e-01 -1.46016980e-01]\n",
      " [ 3.32688351e-01  2.74014154e-01 -1.73405966e-01]\n",
      " [-3.55203444e-01  2.14762974e-01 -4.38505197e-01]\n",
      " [-1.13232668e-01  1.43809901e-01 -2.88743374e-01]\n",
      " [-2.68596887e-01 -6.18534412e-01 -1.60540039e-01]\n",
      " [-6.58540822e-02 -1.00244867e-01 -2.91216823e-01]\n",
      " [ 9.74993900e-02 -2.70561482e-01 -2.50293730e-01]\n",
      " [ 7.00826616e-01  4.05879634e-01  2.29862528e-01]\n",
      " [ 3.76971163e-01 -1.99567696e-03 -3.99543240e-01]\n",
      " [ 4.72884190e-01 -1.29596255e-01 -6.89709064e-02]\n",
      " [-2.65460293e-01  5.68030432e-01 -1.90463005e-01]\n",
      " [-4.12427898e-01 -1.81527140e-01 -1.15482336e-01]\n",
      " [ 2.46327810e-01 -1.71311922e-01 -6.13203564e-01]\n",
      " [ 1.90627800e-01 -3.92873024e-02 -1.46055756e-01]\n",
      " [-3.92826759e-01 -5.02225347e-01 -2.00490683e-01]\n",
      " [ 4.01163137e-01  1.36827431e-01 -2.74498590e-02]\n",
      " [-8.34379048e-02 -3.03686522e-01 -5.23685174e-01]\n",
      " [ 6.67182377e-02  2.91600831e-01 -2.31444358e-01]\n",
      " [ 2.19064898e-01  7.89629995e-01 -3.59074458e-01]\n",
      " [-1.47319634e-01  2.68045751e-01 -2.15710031e-01]\n",
      " [-2.75399344e-01 -6.30734856e-01 -2.54962567e-01]\n",
      " [-4.21661244e-04  4.77874878e-01 -1.60900175e-01]\n",
      " [-1.01002816e+00 -1.72974800e-01 -2.41820400e-01]\n",
      " [ 1.29588828e-01 -2.90759136e-02 -1.54056579e-01]\n",
      " [ 3.67616657e-01  6.81850264e-01 -1.60371901e-01]\n",
      " [ 3.65970557e-01  4.77774628e-01 -5.60974159e-01]\n",
      " [ 6.19410685e-01 -4.74559680e-01 -4.37671415e-01]\n",
      " [ 3.31700166e-01  3.04056012e-01 -4.75008835e-01]\n",
      " [ 4.31013837e-01  2.42256342e-01 -2.83557954e-01]\n",
      " [-1.20969009e-01 -7.54587717e-01 -1.58193342e-01]\n",
      " [ 8.69388303e-01 -3.61064155e-01 -6.14017122e-01]\n",
      " [-2.29004649e-01 -1.80056405e-01 -2.83781416e-01]\n",
      " [-2.94957394e-01  6.93866594e-01 -4.67535599e-01]\n",
      " [-3.80243707e-01  1.33119201e-01 -2.41276273e-01]\n",
      " [ 1.23559161e-01  2.91769788e-01 -3.96483927e-01]\n",
      " [ 2.03618695e-01 -1.22370319e-01 -1.76915094e-01]\n",
      " [-2.00374831e-01  3.26291753e-01 -1.44232863e-01]\n",
      " [ 3.27761903e-01  5.10082120e-01 -2.48897097e-01]\n",
      " [-8.99852923e-01 -4.72054057e-01 -8.10296086e-02]\n",
      " [-3.20450383e-01  1.37018577e-01  2.77412125e-02]\n",
      " [ 2.43242057e-01  3.90327625e-01 -9.52940491e-02]\n",
      " [ 3.21618838e-01 -1.17143558e-01 -1.69268775e-01]\n",
      " [-5.26383630e-01  4.46383341e-01 -3.46402004e-01]\n",
      " [ 2.94331788e-01 -4.14970416e-03 -1.19834490e-01]\n",
      " [ 3.67204939e-01 -8.46736004e-02 -1.84577230e-01]\n",
      " [ 1.82185592e-01 -5.36712769e-02 -2.38252404e-01]\n",
      " [ 2.04642171e-01  4.09503713e-01 -5.32770642e-01]\n",
      " [-9.00784454e-02  3.52590322e-01 -3.68889159e-01]\n",
      " [ 2.10973867e-01 -1.94941659e-01 -3.35929663e-01]\n",
      " [-4.55627173e-01 -4.27379748e-01 -2.26100442e-01]\n",
      " [-2.42684323e-02  3.81728200e-01 -4.69085715e-01]\n",
      " [-1.81385683e-01  6.30766556e-01 -3.94414280e-01]\n",
      " [-2.14112365e-02  6.78118601e-01 -2.57120036e-01]\n",
      " [ 1.52581091e-01  1.20001574e+00 -1.50917440e-01]\n",
      " [ 4.84307526e-01  4.99799742e-01 -3.68572549e-01]\n",
      " [-2.66114358e-01  5.81705988e-01 -3.66969115e-01]\n",
      " [ 8.13334691e-01 -1.24950061e-01 -2.94222969e-02]\n",
      " [ 1.36799642e-01  7.23933852e-01 -2.30808634e-01]\n",
      " [ 4.21419550e-02 -1.21617027e+00 -2.68252740e-01]\n",
      " [-3.59579512e-03 -3.79276069e-02 -1.56411955e-01]\n",
      " [ 2.12095550e-01 -2.46746750e-01 -3.97717747e-01]\n",
      " [ 8.62460413e-02 -5.69605249e-01 -4.16799527e-01]\n",
      " [-2.11122949e-01  6.97305287e-01 -1.74805592e-01]\n",
      " [-2.46408791e-01 -1.63560719e-01 -4.74577260e-01]\n",
      " [ 6.78602263e-01 -3.65655596e-01 -4.99854085e-01]\n",
      " [-1.53647682e-01  5.26715558e-01 -2.89048572e-01]\n",
      " [ 4.47889740e-01  1.31265866e-01  2.30234432e-01]\n",
      " [ 6.02616808e-02  1.59914931e-01 -2.27572882e-01]\n",
      " [ 4.56580133e-01  4.69322886e-01 -4.25570109e-01]\n",
      " [-8.82063364e-02  5.78014824e-01 -3.65137101e-01]\n",
      " [-1.28752313e-01  5.08994481e-03 -2.31674011e-01]\n",
      " [ 6.03543793e-02  8.43505204e-01 -3.50927407e-01]\n",
      " [-2.06169189e-01 -4.21759767e-01 -4.62220085e-01]\n",
      " [-5.78508946e-01  4.21254388e-01 -3.06568279e-01]]\n"
     ]
    },
    {
     "data": {
      "text/plain": [
       "\"npts = 100\\nx = np.linspace(-1, 3, npts)\\ny = np.linspace(-1, 3, npts)\\n\\nz = np.zeros((npts, npts))\\nfor i in range(npts):\\n    for j in range(npts):\\n        z[j, i] = F([x[i], y[j]], X, Y)\\n        \\n\\n\\nfig, axs = plt.subplots(1,1, figsize = (10, 5))\\naxs.contour(x, y, z)\\naxs.plot(betahat[0], betahat[1], 'bo', markersize = 15)\\naxs.plot(betat[:,0], betat[:, 1], 'ro-')\""
      ]
     },
     "execution_count": 65,
     "metadata": {},
     "output_type": "execute_result"
    }
   ],
   "source": [
    "X2 = np.delete(X,0,1)\n",
    "X2 = X2[:3000,:]\n",
    "def s_grad_F_j(beta, X, Y):\n",
    "    return 2 * (X @ beta - Y) * X\n",
    "\n",
    "niter = 1000\n",
    "n = 3000\n",
    "betat1 = np.zeros((niter, len(X2[0])))\n",
    "XtX = X2.T @ X2\n",
    "eta = 0.001\n",
    "result = np.zeros((75,3))  \n",
    "\n",
    "for i in range (len(sd[0])):\n",
    "    Y = sd[:,i]\n",
    "    #eta = 0.01\n",
    "    for t in range(1, niter):\n",
    "        j = np.random.randint(n)\n",
    "        betat1[t, :] = betat1[t-1, :] - eta * s_grad_F_j(betat1[t-1, :], X2[j, :], Y[j])\n",
    "        \n",
    "    result[i,:] = betat1[-1,:]\n",
    "\n",
    "print (result.shape)\n",
    "print (result)\n",
    "\n",
    "\n",
    "'''npts = 100\n",
    "x = np.linspace(-1, 3, npts)\n",
    "y = np.linspace(-1, 3, npts)\n",
    "\n",
    "z = np.zeros((npts, npts))\n",
    "for i in range(npts):\n",
    "    for j in range(npts):\n",
    "        z[j, i] = F([x[i], y[j]], X, Y)\n",
    "        \n",
    "\n",
    "\n",
    "fig, axs = plt.subplots(1,1, figsize = (10, 5))\n",
    "axs.contour(x, y, z)\n",
    "axs.plot(betahat[0], betahat[1], 'bo', markersize = 15)\n",
    "axs.plot(betat[:,0], betat[:, 1], 'ro-')'''"
   ]
  },
  {
   "cell_type": "code",
   "execution_count": 66,
   "id": "d200b353",
   "metadata": {},
   "outputs": [
    {
     "name": "stdout",
     "output_type": "stream",
     "text": [
      "(3000, 3)\n",
      "(75, 3)\n"
     ]
    },
    {
     "data": {
      "text/plain": [
       "array([[-1.22559348,  0.02157827, -2.26291243, ..., -3.3545122 ,\n",
       "        -1.73119881, -0.89058281],\n",
       "       [ 6.10201235,  1.60120684,  0.49029057, ..., -1.26332257,\n",
       "         3.91608482, -0.98779667],\n",
       "       [ 1.4372224 ,  2.05789572, -0.97143341, ...,  1.03090714,\n",
       "         3.84543845,  4.3881595 ],\n",
       "       ...,\n",
       "       [ 2.94011303, -0.33321561,  2.61681499, ...,  1.84576198,\n",
       "         1.28782239, -1.76974496],\n",
       "       [ 3.51791462,  2.16569467, -0.50654227, ...,  0.28243701,\n",
       "         4.4300752 ,  2.86165724],\n",
       "       [ 1.23058789, -0.80987558, -0.3165611 , ..., -3.44284092,\n",
       "        -2.09131922, -4.51468029]])"
      ]
     },
     "execution_count": 66,
     "metadata": {},
     "output_type": "execute_result"
    }
   ],
   "source": [
    "# compute predictions\n",
    "\n",
    "print (X2.shape)\n",
    "print (result.shape)\n",
    "\n",
    "y_p = X2 @ result.T # prediction\n",
    "y_p"
   ]
  },
  {
   "cell_type": "code",
   "execution_count": null,
   "id": "e1ad19a7",
   "metadata": {},
   "outputs": [],
   "source": []
  }
 ],
 "metadata": {
  "kernelspec": {
   "display_name": "Python 3",
   "language": "python",
   "name": "python3"
  },
  "language_info": {
   "codemirror_mode": {
    "name": "ipython",
    "version": 3
   },
   "file_extension": ".py",
   "mimetype": "text/x-python",
   "name": "python",
   "nbconvert_exporter": "python",
   "pygments_lexer": "ipython3",
   "version": "3.8.5"
  }
 },
 "nbformat": 4,
 "nbformat_minor": 5
}
